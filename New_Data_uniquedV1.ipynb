{
  "cells": [
    {
      "cell_type": "code",
      "execution_count": 1,
      "metadata": {
        "id": "fXNDN0FgJ4-p"
      },
      "outputs": [],
      "source": [
        "import pandas as pd \n",
        "import matplotlib.pyplot as plt\n",
        "import plotly.express as px\n",
        "import plotly.io as pio\n",
        "import seaborn as sns\n",
        "import numpy as np\n",
        "pd.set_option('display.max_columns', 700)"
      ]
    },
    {
      "cell_type": "code",
      "execution_count": null,
      "metadata": {
        "id": "SJQ0v8GuIp3W"
      },
      "outputs": [],
      "source": []
    },
    {
      "cell_type": "code",
      "execution_count": 2,
      "metadata": {
        "colab": {
          "base_uri": "https://localhost:8080/",
          "height": 374
        },
        "id": "xI5xNrP1LGCB",
        "outputId": "7c415aad-fed3-4539-d870-afde3b9909df"
      },
      "outputs": [
        {
          "name": "stdout",
          "output_type": "stream",
          "text": [
            "(259287, 14)\n"
          ]
        },
        {
          "data": {
            "text/html": [
              "<div>\n",
              "<style scoped>\n",
              "    .dataframe tbody tr th:only-of-type {\n",
              "        vertical-align: middle;\n",
              "    }\n",
              "\n",
              "    .dataframe tbody tr th {\n",
              "        vertical-align: top;\n",
              "    }\n",
              "\n",
              "    .dataframe thead th {\n",
              "        text-align: right;\n",
              "    }\n",
              "</style>\n",
              "<table border=\"1\" class=\"dataframe\">\n",
              "  <thead>\n",
              "    <tr style=\"text-align: right;\">\n",
              "      <th></th>\n",
              "      <th>region_id</th>\n",
              "      <th>warehouse_id</th>\n",
              "      <th>d_id</th>\n",
              "      <th>isbn_id</th>\n",
              "      <th>order_id</th>\n",
              "      <th>order_date</th>\n",
              "      <th>evsd</th>\n",
              "      <th>po_source_ind</th>\n",
              "      <th>quantity_ordered</th>\n",
              "      <th>quantity_submitted</th>\n",
              "      <th>quantity_received</th>\n",
              "      <th>row_group_ind</th>\n",
              "      <th>visibility</th>\n",
              "      <th>tag</th>\n",
              "    </tr>\n",
              "  </thead>\n",
              "  <tbody>\n",
              "    <tr>\n",
              "      <th>0</th>\n",
              "      <td>1</td>\n",
              "      <td>JFK2</td>\n",
              "      <td>540</td>\n",
              "      <td>30718</td>\n",
              "      <td>67271</td>\n",
              "      <td>2022-11-02</td>\n",
              "      <td>2022-11-14</td>\n",
              "      <td>AFT Lite</td>\n",
              "      <td>54</td>\n",
              "      <td>54</td>\n",
              "      <td>54</td>\n",
              "      <td>4</td>\n",
              "      <td>9</td>\n",
              "      <td>train</td>\n",
              "    </tr>\n",
              "    <tr>\n",
              "      <th>1</th>\n",
              "      <td>1</td>\n",
              "      <td>JFK2</td>\n",
              "      <td>540</td>\n",
              "      <td>30718</td>\n",
              "      <td>125389</td>\n",
              "      <td>2022-11-20</td>\n",
              "      <td>2022-12-01</td>\n",
              "      <td>AFT Lite</td>\n",
              "      <td>60</td>\n",
              "      <td>60</td>\n",
              "      <td>60</td>\n",
              "      <td>5</td>\n",
              "      <td>3</td>\n",
              "      <td>train</td>\n",
              "    </tr>\n",
              "    <tr>\n",
              "      <th>2</th>\n",
              "      <td>1</td>\n",
              "      <td>JFK2</td>\n",
              "      <td>648</td>\n",
              "      <td>16750</td>\n",
              "      <td>11165</td>\n",
              "      <td>2022-09-30</td>\n",
              "      <td>2022-10-03</td>\n",
              "      <td>AFT Lite</td>\n",
              "      <td>6</td>\n",
              "      <td>6</td>\n",
              "      <td>6</td>\n",
              "      <td>1</td>\n",
              "      <td>2</td>\n",
              "      <td>train</td>\n",
              "    </tr>\n",
              "    <tr>\n",
              "      <th>3</th>\n",
              "      <td>1</td>\n",
              "      <td>JFK2</td>\n",
              "      <td>648</td>\n",
              "      <td>16750</td>\n",
              "      <td>27008</td>\n",
              "      <td>2022-10-14</td>\n",
              "      <td>2022-10-17</td>\n",
              "      <td>AFT Lite</td>\n",
              "      <td>6</td>\n",
              "      <td>6</td>\n",
              "      <td>6</td>\n",
              "      <td>2</td>\n",
              "      <td>2</td>\n",
              "      <td>train</td>\n",
              "    </tr>\n",
              "    <tr>\n",
              "      <th>4</th>\n",
              "      <td>1</td>\n",
              "      <td>JFK2</td>\n",
              "      <td>7</td>\n",
              "      <td>8748</td>\n",
              "      <td>33598</td>\n",
              "      <td>2022-11-15</td>\n",
              "      <td>2022-11-16</td>\n",
              "      <td>AFT Lite</td>\n",
              "      <td>8</td>\n",
              "      <td>8</td>\n",
              "      <td>8</td>\n",
              "      <td>1</td>\n",
              "      <td>1</td>\n",
              "      <td>train</td>\n",
              "    </tr>\n",
              "  </tbody>\n",
              "</table>\n",
              "</div>"
            ],
            "text/plain": [
              "   region_id warehouse_id  d_id  isbn_id  order_id order_date       evsd   \n",
              "0          1         JFK2   540    30718     67271 2022-11-02 2022-11-14  \\\n",
              "1          1         JFK2   540    30718    125389 2022-11-20 2022-12-01   \n",
              "2          1         JFK2   648    16750     11165 2022-09-30 2022-10-03   \n",
              "3          1         JFK2   648    16750     27008 2022-10-14 2022-10-17   \n",
              "4          1         JFK2     7     8748     33598 2022-11-15 2022-11-16   \n",
              "\n",
              "  po_source_ind  quantity_ordered  quantity_submitted  quantity_received   \n",
              "0      AFT Lite                54                  54                 54  \\\n",
              "1      AFT Lite                60                  60                 60   \n",
              "2      AFT Lite                 6                   6                  6   \n",
              "3      AFT Lite                 6                   6                  6   \n",
              "4      AFT Lite                 8                   8                  8   \n",
              "\n",
              "   row_group_ind  visibility    tag  \n",
              "0              4           9  train  \n",
              "1              5           3  train  \n",
              "2              1           2  train  \n",
              "3              2           2  train  \n",
              "4              1           1  train  "
            ]
          },
          "execution_count": 2,
          "metadata": {},
          "output_type": "execute_result"
        }
      ],
      "source": [
        "df_train = pd.read_csv('TRAIN (1).csv')\n",
        "df_train['order_date'] = pd.to_datetime(df_train['order_date'], format = '%m/%d/%y')\n",
        "df_train['evsd'] = pd.to_datetime(df_train['evsd'], format = '%m/%d/%y')\n",
        "df_train['tag'] = 'train'\n",
        "\n",
        "print(df_train.shape)\n",
        "df_train.head()"
      ]
    },
    {
      "cell_type": "code",
      "execution_count": 3,
      "metadata": {},
      "outputs": [
        {
          "data": {
            "text/plain": [
              "((259287, 15), (259287, 15))"
            ]
          },
          "execution_count": 3,
          "metadata": {},
          "output_type": "execute_result"
        }
      ],
      "source": [
        "# Create a new column that combines the values of the existing columns\n",
        "df_train['unique_id'] = df_train.apply(lambda row: f\"{row['warehouse_id']}_{row['d_id']}_{row['isbn_id']}_{row['order_id']}\\\n",
        "                           _{row['order_date']}_{row['evsd']}_{row['row_group_ind']}_{row['visibility']}\", axis=1)\n",
        "\n",
        "# Drop duplicates based on the new column\n",
        "df_unique = df_train.drop_duplicates(subset=['unique_id'])\n",
        "\n",
        "df_unique.shape, df_train.shape"
      ]
    },
    {
      "cell_type": "code",
      "execution_count": 4,
      "metadata": {},
      "outputs": [
        {
          "data": {
            "text/plain": [
              "region_id                  1\n",
              "warehouse_id               1\n",
              "d_id                      38\n",
              "isbn_id                 9059\n",
              "order_id                1414\n",
              "order_date                79\n",
              "evsd                      81\n",
              "po_source_ind              2\n",
              "quantity_ordered         205\n",
              "quantity_submitted       205\n",
              "quantity_received        231\n",
              "row_group_ind              8\n",
              "visibility                25\n",
              "tag                        1\n",
              "unique_id             259287\n",
              "dtype: int64"
            ]
          },
          "execution_count": 4,
          "metadata": {},
          "output_type": "execute_result"
        }
      ],
      "source": [
        "df_train.nunique()"
      ]
    },
    {
      "cell_type": "code",
      "execution_count": 5,
      "metadata": {
        "colab": {
          "base_uri": "https://localhost:8080/",
          "height": 374
        },
        "id": "7Wt5w0w1SJXK",
        "outputId": "8366e5b6-c92b-4f4a-ae07-80934b14c18f"
      },
      "outputs": [
        {
          "name": "stdout",
          "output_type": "stream",
          "text": [
            "(98309, 14)\n"
          ]
        },
        {
          "data": {
            "text/html": [
              "<div>\n",
              "<style scoped>\n",
              "    .dataframe tbody tr th:only-of-type {\n",
              "        vertical-align: middle;\n",
              "    }\n",
              "\n",
              "    .dataframe tbody tr th {\n",
              "        vertical-align: top;\n",
              "    }\n",
              "\n",
              "    .dataframe thead th {\n",
              "        text-align: right;\n",
              "    }\n",
              "</style>\n",
              "<table border=\"1\" class=\"dataframe\">\n",
              "  <thead>\n",
              "    <tr style=\"text-align: right;\">\n",
              "      <th></th>\n",
              "      <th>region_id</th>\n",
              "      <th>warehouse_id</th>\n",
              "      <th>d_id</th>\n",
              "      <th>isbn_id</th>\n",
              "      <th>order_id</th>\n",
              "      <th>order_date</th>\n",
              "      <th>evsd</th>\n",
              "      <th>po_source_ind</th>\n",
              "      <th>quantity_ordered</th>\n",
              "      <th>quantity_submitted</th>\n",
              "      <th>quantity_received</th>\n",
              "      <th>row_group_ind</th>\n",
              "      <th>visibility</th>\n",
              "      <th>tag</th>\n",
              "    </tr>\n",
              "  </thead>\n",
              "  <tbody>\n",
              "    <tr>\n",
              "      <th>0</th>\n",
              "      <td>1</td>\n",
              "      <td>JFK2</td>\n",
              "      <td>684</td>\n",
              "      <td>674</td>\n",
              "      <td>45573</td>\n",
              "      <td>2022-12-15</td>\n",
              "      <td>2022-12-19</td>\n",
              "      <td>AFT Lite</td>\n",
              "      <td>42</td>\n",
              "      <td>42</td>\n",
              "      <td>42</td>\n",
              "      <td>3</td>\n",
              "      <td>3</td>\n",
              "      <td>test</td>\n",
              "    </tr>\n",
              "    <tr>\n",
              "      <th>1</th>\n",
              "      <td>1</td>\n",
              "      <td>JFK2</td>\n",
              "      <td>1</td>\n",
              "      <td>19822</td>\n",
              "      <td>110331</td>\n",
              "      <td>2022-12-27</td>\n",
              "      <td>2022-12-30</td>\n",
              "      <td>AFT Lite</td>\n",
              "      <td>6</td>\n",
              "      <td>6</td>\n",
              "      <td>6</td>\n",
              "      <td>0</td>\n",
              "      <td>3</td>\n",
              "      <td>test</td>\n",
              "    </tr>\n",
              "    <tr>\n",
              "      <th>2</th>\n",
              "      <td>1</td>\n",
              "      <td>JFK2</td>\n",
              "      <td>509</td>\n",
              "      <td>19749</td>\n",
              "      <td>119943</td>\n",
              "      <td>2022-12-15</td>\n",
              "      <td>2022-12-17</td>\n",
              "      <td>AFT Lite</td>\n",
              "      <td>12</td>\n",
              "      <td>12</td>\n",
              "      <td>12</td>\n",
              "      <td>3</td>\n",
              "      <td>1</td>\n",
              "      <td>test</td>\n",
              "    </tr>\n",
              "    <tr>\n",
              "      <th>3</th>\n",
              "      <td>1</td>\n",
              "      <td>JFK2</td>\n",
              "      <td>584</td>\n",
              "      <td>19747</td>\n",
              "      <td>43091</td>\n",
              "      <td>2022-12-20</td>\n",
              "      <td>2022-12-23</td>\n",
              "      <td>AFT Lite</td>\n",
              "      <td>12</td>\n",
              "      <td>12</td>\n",
              "      <td>12</td>\n",
              "      <td>4</td>\n",
              "      <td>3</td>\n",
              "      <td>test</td>\n",
              "    </tr>\n",
              "    <tr>\n",
              "      <th>4</th>\n",
              "      <td>1</td>\n",
              "      <td>JFK2</td>\n",
              "      <td>540</td>\n",
              "      <td>20260</td>\n",
              "      <td>117854</td>\n",
              "      <td>2022-12-26</td>\n",
              "      <td>2023-01-04</td>\n",
              "      <td>AFT Lite</td>\n",
              "      <td>60</td>\n",
              "      <td>60</td>\n",
              "      <td>60</td>\n",
              "      <td>1</td>\n",
              "      <td>8</td>\n",
              "      <td>test</td>\n",
              "    </tr>\n",
              "  </tbody>\n",
              "</table>\n",
              "</div>"
            ],
            "text/plain": [
              "   region_id warehouse_id  d_id  isbn_id  order_id order_date       evsd   \n",
              "0          1         JFK2   684      674     45573 2022-12-15 2022-12-19  \\\n",
              "1          1         JFK2     1    19822    110331 2022-12-27 2022-12-30   \n",
              "2          1         JFK2   509    19749    119943 2022-12-15 2022-12-17   \n",
              "3          1         JFK2   584    19747     43091 2022-12-20 2022-12-23   \n",
              "4          1         JFK2   540    20260    117854 2022-12-26 2023-01-04   \n",
              "\n",
              "  po_source_ind  quantity_ordered  quantity_submitted  quantity_received   \n",
              "0      AFT Lite                42                  42                 42  \\\n",
              "1      AFT Lite                 6                   6                  6   \n",
              "2      AFT Lite                12                  12                 12   \n",
              "3      AFT Lite                12                  12                 12   \n",
              "4      AFT Lite                60                  60                 60   \n",
              "\n",
              "   row_group_ind  visibility   tag  \n",
              "0              3           3  test  \n",
              "1              0           3  test  \n",
              "2              3           1  test  \n",
              "3              4           3  test  \n",
              "4              1           8  test  "
            ]
          },
          "execution_count": 5,
          "metadata": {},
          "output_type": "execute_result"
        }
      ],
      "source": [
        "df_test = pd.read_csv('Test.csv', encoding = 'latin1')\n",
        "# df_test.columns = ['LOCATION', 'd_id', 'isbn_id', 'order_id_1', 'order_date', 'evsd',\n",
        "#        'row_group_ind', 'visibility', 'quantity_ordered', 'quantity_submitted',\n",
        "#        'quantity_received']\n",
        "df_test['order_date'] = pd.to_datetime(df_test['order_date'], format = '%m/%d/%y')\n",
        "df_test['evsd'] = pd.to_datetime(df_test['evsd'], format = '%m/%d/%y')\n",
        "df_test['tag'] = 'test'\n",
        "print(df_test.shape)\n",
        "df_test.head()"
      ]
    },
    {
      "cell_type": "code",
      "execution_count": 6,
      "metadata": {},
      "outputs": [
        {
          "name": "stdout",
          "output_type": "stream",
          "text": [
            "(98309, 15)\n"
          ]
        },
        {
          "data": {
            "text/html": [
              "<div>\n",
              "<style scoped>\n",
              "    .dataframe tbody tr th:only-of-type {\n",
              "        vertical-align: middle;\n",
              "    }\n",
              "\n",
              "    .dataframe tbody tr th {\n",
              "        vertical-align: top;\n",
              "    }\n",
              "\n",
              "    .dataframe thead th {\n",
              "        text-align: right;\n",
              "    }\n",
              "</style>\n",
              "<table border=\"1\" class=\"dataframe\">\n",
              "  <thead>\n",
              "    <tr style=\"text-align: right;\">\n",
              "      <th></th>\n",
              "      <th>region_id</th>\n",
              "      <th>warehouse_id</th>\n",
              "      <th>d_id</th>\n",
              "      <th>isbn_id</th>\n",
              "      <th>order_id</th>\n",
              "      <th>order_date</th>\n",
              "      <th>evsd</th>\n",
              "      <th>po_source_ind</th>\n",
              "      <th>quantity_ordered</th>\n",
              "      <th>quantity_submitted</th>\n",
              "      <th>quantity_received</th>\n",
              "      <th>row_group_ind</th>\n",
              "      <th>visibility</th>\n",
              "      <th>tag</th>\n",
              "      <th>unique_id</th>\n",
              "    </tr>\n",
              "  </thead>\n",
              "  <tbody>\n",
              "    <tr>\n",
              "      <th>0</th>\n",
              "      <td>1</td>\n",
              "      <td>JFK2</td>\n",
              "      <td>684</td>\n",
              "      <td>674</td>\n",
              "      <td>45573</td>\n",
              "      <td>2022-12-15</td>\n",
              "      <td>2022-12-19</td>\n",
              "      <td>AFT Lite</td>\n",
              "      <td>42</td>\n",
              "      <td>42</td>\n",
              "      <td>42</td>\n",
              "      <td>3</td>\n",
              "      <td>3</td>\n",
              "      <td>test</td>\n",
              "      <td>JFK2_684_674_45573                           _...</td>\n",
              "    </tr>\n",
              "    <tr>\n",
              "      <th>1</th>\n",
              "      <td>1</td>\n",
              "      <td>JFK2</td>\n",
              "      <td>1</td>\n",
              "      <td>19822</td>\n",
              "      <td>110331</td>\n",
              "      <td>2022-12-27</td>\n",
              "      <td>2022-12-30</td>\n",
              "      <td>AFT Lite</td>\n",
              "      <td>6</td>\n",
              "      <td>6</td>\n",
              "      <td>6</td>\n",
              "      <td>0</td>\n",
              "      <td>3</td>\n",
              "      <td>test</td>\n",
              "      <td>JFK2_1_19822_110331                           ...</td>\n",
              "    </tr>\n",
              "    <tr>\n",
              "      <th>2</th>\n",
              "      <td>1</td>\n",
              "      <td>JFK2</td>\n",
              "      <td>509</td>\n",
              "      <td>19749</td>\n",
              "      <td>119943</td>\n",
              "      <td>2022-12-15</td>\n",
              "      <td>2022-12-17</td>\n",
              "      <td>AFT Lite</td>\n",
              "      <td>12</td>\n",
              "      <td>12</td>\n",
              "      <td>12</td>\n",
              "      <td>3</td>\n",
              "      <td>1</td>\n",
              "      <td>test</td>\n",
              "      <td>JFK2_509_19749_119943                         ...</td>\n",
              "    </tr>\n",
              "    <tr>\n",
              "      <th>3</th>\n",
              "      <td>1</td>\n",
              "      <td>JFK2</td>\n",
              "      <td>584</td>\n",
              "      <td>19747</td>\n",
              "      <td>43091</td>\n",
              "      <td>2022-12-20</td>\n",
              "      <td>2022-12-23</td>\n",
              "      <td>AFT Lite</td>\n",
              "      <td>12</td>\n",
              "      <td>12</td>\n",
              "      <td>12</td>\n",
              "      <td>4</td>\n",
              "      <td>3</td>\n",
              "      <td>test</td>\n",
              "      <td>JFK2_584_19747_43091                          ...</td>\n",
              "    </tr>\n",
              "    <tr>\n",
              "      <th>4</th>\n",
              "      <td>1</td>\n",
              "      <td>JFK2</td>\n",
              "      <td>540</td>\n",
              "      <td>20260</td>\n",
              "      <td>117854</td>\n",
              "      <td>2022-12-26</td>\n",
              "      <td>2023-01-04</td>\n",
              "      <td>AFT Lite</td>\n",
              "      <td>60</td>\n",
              "      <td>60</td>\n",
              "      <td>60</td>\n",
              "      <td>1</td>\n",
              "      <td>8</td>\n",
              "      <td>test</td>\n",
              "      <td>JFK2_540_20260_117854                         ...</td>\n",
              "    </tr>\n",
              "  </tbody>\n",
              "</table>\n",
              "</div>"
            ],
            "text/plain": [
              "   region_id warehouse_id  d_id  isbn_id  order_id order_date       evsd   \n",
              "0          1         JFK2   684      674     45573 2022-12-15 2022-12-19  \\\n",
              "1          1         JFK2     1    19822    110331 2022-12-27 2022-12-30   \n",
              "2          1         JFK2   509    19749    119943 2022-12-15 2022-12-17   \n",
              "3          1         JFK2   584    19747     43091 2022-12-20 2022-12-23   \n",
              "4          1         JFK2   540    20260    117854 2022-12-26 2023-01-04   \n",
              "\n",
              "  po_source_ind  quantity_ordered  quantity_submitted  quantity_received   \n",
              "0      AFT Lite                42                  42                 42  \\\n",
              "1      AFT Lite                 6                   6                  6   \n",
              "2      AFT Lite                12                  12                 12   \n",
              "3      AFT Lite                12                  12                 12   \n",
              "4      AFT Lite                60                  60                 60   \n",
              "\n",
              "   row_group_ind  visibility   tag   \n",
              "0              3           3  test  \\\n",
              "1              0           3  test   \n",
              "2              3           1  test   \n",
              "3              4           3  test   \n",
              "4              1           8  test   \n",
              "\n",
              "                                           unique_id  \n",
              "0  JFK2_684_674_45573                           _...  \n",
              "1  JFK2_1_19822_110331                           ...  \n",
              "2  JFK2_509_19749_119943                         ...  \n",
              "3  JFK2_584_19747_43091                          ...  \n",
              "4  JFK2_540_20260_117854                         ...  "
            ]
          },
          "execution_count": 6,
          "metadata": {},
          "output_type": "execute_result"
        }
      ],
      "source": [
        "df_test['unique_id'] = df_test.apply(lambda row: f\"{row['warehouse_id']}_{row['d_id']}_{row['isbn_id']}_{row['order_id']}\\\n",
        "                           _{row['order_date']}_{row['evsd']}_{row['row_group_ind']}_{row['visibility']}\", axis=1)\n",
        "\n",
        "# Drop duplicates based on the new column\n",
        "df_test = df_test.drop_duplicates(subset=['unique_id'])\n",
        "\n",
        "print(df_test.shape)\n",
        "df_test.head()"
      ]
    },
    {
      "cell_type": "code",
      "execution_count": 7,
      "metadata": {},
      "outputs": [
        {
          "data": {
            "text/plain": [
              "region_id                 1\n",
              "warehouse_id              1\n",
              "d_id                     32\n",
              "isbn_id                6539\n",
              "order_id                579\n",
              "order_date               31\n",
              "evsd                     40\n",
              "po_source_ind             2\n",
              "quantity_ordered        168\n",
              "quantity_submitted      183\n",
              "quantity_received       205\n",
              "row_group_ind             8\n",
              "visibility               17\n",
              "tag                       1\n",
              "unique_id             98309\n",
              "dtype: int64"
            ]
          },
          "execution_count": 7,
          "metadata": {},
          "output_type": "execute_result"
        }
      ],
      "source": [
        "df_test.nunique()"
      ]
    },
    {
      "cell_type": "code",
      "execution_count": 8,
      "metadata": {},
      "outputs": [
        {
          "data": {
            "text/plain": [
              "po_source_ind\n",
              "AFT Lite    259172\n",
              "AFT            115\n",
              "Name: count, dtype: int64"
            ]
          },
          "execution_count": 8,
          "metadata": {},
          "output_type": "execute_result"
        }
      ],
      "source": [
        "df_train['po_source_ind'].value_counts(dropna = False)"
      ]
    },
    {
      "cell_type": "code",
      "execution_count": 9,
      "metadata": {},
      "outputs": [
        {
          "data": {
            "text/plain": [
              "po_source_ind\n",
              "AFT Lite    98260\n",
              "AFT            49\n",
              "Name: count, dtype: int64"
            ]
          },
          "execution_count": 9,
          "metadata": {},
          "output_type": "execute_result"
        }
      ],
      "source": [
        "df_test['po_source_ind'].value_counts(dropna = False)"
      ]
    },
    {
      "cell_type": "code",
      "execution_count": 10,
      "metadata": {
        "colab": {
          "base_uri": "https://localhost:8080/",
          "height": 228
        },
        "id": "D5i9ZQINKhba",
        "outputId": "d3a23c1a-e8d5-4c9e-8f59-c0c0888a009f"
      },
      "outputs": [
        {
          "name": "stdout",
          "output_type": "stream",
          "text": [
            "(259287, 15)\n"
          ]
        },
        {
          "data": {
            "text/html": [
              "<div>\n",
              "<style scoped>\n",
              "    .dataframe tbody tr th:only-of-type {\n",
              "        vertical-align: middle;\n",
              "    }\n",
              "\n",
              "    .dataframe tbody tr th {\n",
              "        vertical-align: top;\n",
              "    }\n",
              "\n",
              "    .dataframe thead th {\n",
              "        text-align: right;\n",
              "    }\n",
              "</style>\n",
              "<table border=\"1\" class=\"dataframe\">\n",
              "  <thead>\n",
              "    <tr style=\"text-align: right;\">\n",
              "      <th></th>\n",
              "      <th>region_id</th>\n",
              "      <th>warehouse_id</th>\n",
              "      <th>d_id</th>\n",
              "      <th>isbn_id</th>\n",
              "      <th>order_id</th>\n",
              "      <th>order_date</th>\n",
              "      <th>evsd</th>\n",
              "      <th>po_source_ind</th>\n",
              "      <th>quantity_ordered</th>\n",
              "      <th>quantity_submitted</th>\n",
              "      <th>quantity_received</th>\n",
              "      <th>row_group_ind</th>\n",
              "      <th>visibility</th>\n",
              "      <th>tag</th>\n",
              "      <th>unique_id</th>\n",
              "    </tr>\n",
              "  </thead>\n",
              "  <tbody>\n",
              "    <tr>\n",
              "      <th>0</th>\n",
              "      <td>1</td>\n",
              "      <td>JFK2</td>\n",
              "      <td>540</td>\n",
              "      <td>30718</td>\n",
              "      <td>67271</td>\n",
              "      <td>2022-11-02</td>\n",
              "      <td>2022-11-14</td>\n",
              "      <td>AFT Lite</td>\n",
              "      <td>54</td>\n",
              "      <td>54</td>\n",
              "      <td>54</td>\n",
              "      <td>4</td>\n",
              "      <td>9</td>\n",
              "      <td>train</td>\n",
              "      <td>JFK2_540_30718_67271                          ...</td>\n",
              "    </tr>\n",
              "    <tr>\n",
              "      <th>1</th>\n",
              "      <td>1</td>\n",
              "      <td>JFK2</td>\n",
              "      <td>540</td>\n",
              "      <td>30718</td>\n",
              "      <td>125389</td>\n",
              "      <td>2022-11-20</td>\n",
              "      <td>2022-12-01</td>\n",
              "      <td>AFT Lite</td>\n",
              "      <td>60</td>\n",
              "      <td>60</td>\n",
              "      <td>60</td>\n",
              "      <td>5</td>\n",
              "      <td>3</td>\n",
              "      <td>train</td>\n",
              "      <td>JFK2_540_30718_125389                         ...</td>\n",
              "    </tr>\n",
              "  </tbody>\n",
              "</table>\n",
              "</div>"
            ],
            "text/plain": [
              "   region_id warehouse_id d_id isbn_id order_id order_date       evsd   \n",
              "0          1         JFK2  540   30718    67271 2022-11-02 2022-11-14  \\\n",
              "1          1         JFK2  540   30718   125389 2022-11-20 2022-12-01   \n",
              "\n",
              "  po_source_ind  quantity_ordered  quantity_submitted  quantity_received   \n",
              "0      AFT Lite                54                  54                 54  \\\n",
              "1      AFT Lite                60                  60                 60   \n",
              "\n",
              "   row_group_ind  visibility    tag   \n",
              "0              4           9  train  \\\n",
              "1              5           3  train   \n",
              "\n",
              "                                           unique_id  \n",
              "0  JFK2_540_30718_67271                          ...  \n",
              "1  JFK2_540_30718_125389                         ...  "
            ]
          },
          "execution_count": 10,
          "metadata": {},
          "output_type": "execute_result"
        }
      ],
      "source": [
        "for col in ['d_id', 'isbn_id', 'order_id']:\n",
        "  df_train[col] = df_train[col].astype(int).astype(str)\n",
        "\n",
        "print(df_train.shape)\n",
        "df_train.head(2)"
      ]
    },
    {
      "cell_type": "code",
      "execution_count": 11,
      "metadata": {},
      "outputs": [
        {
          "name": "stdout",
          "output_type": "stream",
          "text": [
            "(98309, 15)\n"
          ]
        },
        {
          "data": {
            "text/html": [
              "<div>\n",
              "<style scoped>\n",
              "    .dataframe tbody tr th:only-of-type {\n",
              "        vertical-align: middle;\n",
              "    }\n",
              "\n",
              "    .dataframe tbody tr th {\n",
              "        vertical-align: top;\n",
              "    }\n",
              "\n",
              "    .dataframe thead th {\n",
              "        text-align: right;\n",
              "    }\n",
              "</style>\n",
              "<table border=\"1\" class=\"dataframe\">\n",
              "  <thead>\n",
              "    <tr style=\"text-align: right;\">\n",
              "      <th></th>\n",
              "      <th>region_id</th>\n",
              "      <th>warehouse_id</th>\n",
              "      <th>d_id</th>\n",
              "      <th>isbn_id</th>\n",
              "      <th>order_id</th>\n",
              "      <th>order_date</th>\n",
              "      <th>evsd</th>\n",
              "      <th>po_source_ind</th>\n",
              "      <th>quantity_ordered</th>\n",
              "      <th>quantity_submitted</th>\n",
              "      <th>quantity_received</th>\n",
              "      <th>row_group_ind</th>\n",
              "      <th>visibility</th>\n",
              "      <th>tag</th>\n",
              "      <th>unique_id</th>\n",
              "    </tr>\n",
              "  </thead>\n",
              "  <tbody>\n",
              "    <tr>\n",
              "      <th>0</th>\n",
              "      <td>1</td>\n",
              "      <td>JFK2</td>\n",
              "      <td>684</td>\n",
              "      <td>674</td>\n",
              "      <td>45573</td>\n",
              "      <td>2022-12-15</td>\n",
              "      <td>2022-12-19</td>\n",
              "      <td>AFT Lite</td>\n",
              "      <td>42</td>\n",
              "      <td>42</td>\n",
              "      <td>42</td>\n",
              "      <td>3</td>\n",
              "      <td>3</td>\n",
              "      <td>test</td>\n",
              "      <td>JFK2_684_674_45573                           _...</td>\n",
              "    </tr>\n",
              "    <tr>\n",
              "      <th>1</th>\n",
              "      <td>1</td>\n",
              "      <td>JFK2</td>\n",
              "      <td>1</td>\n",
              "      <td>19822</td>\n",
              "      <td>110331</td>\n",
              "      <td>2022-12-27</td>\n",
              "      <td>2022-12-30</td>\n",
              "      <td>AFT Lite</td>\n",
              "      <td>6</td>\n",
              "      <td>6</td>\n",
              "      <td>6</td>\n",
              "      <td>0</td>\n",
              "      <td>3</td>\n",
              "      <td>test</td>\n",
              "      <td>JFK2_1_19822_110331                           ...</td>\n",
              "    </tr>\n",
              "  </tbody>\n",
              "</table>\n",
              "</div>"
            ],
            "text/plain": [
              "   region_id warehouse_id d_id isbn_id order_id order_date       evsd   \n",
              "0          1         JFK2  684     674    45573 2022-12-15 2022-12-19  \\\n",
              "1          1         JFK2    1   19822   110331 2022-12-27 2022-12-30   \n",
              "\n",
              "  po_source_ind  quantity_ordered  quantity_submitted  quantity_received   \n",
              "0      AFT Lite                42                  42                 42  \\\n",
              "1      AFT Lite                 6                   6                  6   \n",
              "\n",
              "   row_group_ind  visibility   tag   \n",
              "0              3           3  test  \\\n",
              "1              0           3  test   \n",
              "\n",
              "                                           unique_id  \n",
              "0  JFK2_684_674_45573                           _...  \n",
              "1  JFK2_1_19822_110331                           ...  "
            ]
          },
          "execution_count": 11,
          "metadata": {},
          "output_type": "execute_result"
        }
      ],
      "source": [
        "for col in ['d_id', 'isbn_id', 'order_id']:\n",
        "  df_test[col] = df_test[col].astype(int).astype(str)\n",
        "\n",
        "print(df_test.shape)\n",
        "df_test.head(2)"
      ]
    },
    {
      "attachments": {},
      "cell_type": "markdown",
      "metadata": {},
      "source": [
        "## Split the Training data into Train and Validation, we will keep Test data as OOT data"
      ]
    },
    {
      "cell_type": "code",
      "execution_count": 12,
      "metadata": {},
      "outputs": [
        {
          "data": {
            "text/plain": [
              "count                           259287\n",
              "mean     2022-10-26 14:10:23.540709632\n",
              "min                2022-09-05 00:00:00\n",
              "25%                2022-10-09 00:00:00\n",
              "50%                2022-10-26 00:00:00\n",
              "75%                2022-11-14 00:00:00\n",
              "max                2022-11-30 00:00:00\n",
              "Name: order_date, dtype: object"
            ]
          },
          "execution_count": 12,
          "metadata": {},
          "output_type": "execute_result"
        }
      ],
      "source": [
        "df_train['order_date'].describe()"
      ]
    },
    {
      "cell_type": "code",
      "execution_count": 13,
      "metadata": {},
      "outputs": [
        {
          "name": "stdout",
          "output_type": "stream",
          "text": [
            "(146495, 15)\n",
            "(112792, 15)\n"
          ]
        },
        {
          "data": {
            "text/plain": [
              "(259287, 15)"
            ]
          },
          "execution_count": 13,
          "metadata": {},
          "output_type": "execute_result"
        }
      ],
      "source": [
        "# Convert order_date to datetime format\n",
        "df_train['order_date'] = pd.to_datetime(df_train['order_date'])\n",
        "\n",
        "# Split the data into training and testing sets based on the date\n",
        "X_train = df_train[df_train['order_date'].dt.month < 11]\n",
        "X_valid = df_train[df_train['order_date'].dt.month == 11]\n",
        "\n",
        "print(X_train.shape)\n",
        "print(X_valid.shape)\n",
        "df_train.shape"
      ]
    },
    {
      "cell_type": "code",
      "execution_count": 14,
      "metadata": {},
      "outputs": [
        {
          "data": {
            "text/plain": [
              "(0.435008311253553, 0.564991688746447)"
            ]
          },
          "execution_count": 14,
          "metadata": {},
          "output_type": "execute_result"
        }
      ],
      "source": [
        "112792/259287, 146495/259287"
      ]
    },
    {
      "cell_type": "code",
      "execution_count": 15,
      "metadata": {
        "colab": {
          "base_uri": "https://localhost:8080/",
          "height": 210
        },
        "id": "sEc2oYzbLNv_",
        "outputId": "329dc584-7c2c-494f-901b-296924245ad8"
      },
      "outputs": [
        {
          "name": "stderr",
          "output_type": "stream",
          "text": [
            "C:\\Users\\nshre\\AppData\\Local\\Temp\\ipykernel_12864\\3015875561.py:2: SettingWithCopyWarning: \n",
            "A value is trying to be set on a copy of a slice from a DataFrame.\n",
            "Try using .loc[row_indexer,col_indexer] = value instead\n",
            "\n",
            "See the caveats in the documentation: https://pandas.pydata.org/pandas-docs/stable/user_guide/indexing.html#returning-a-view-versus-a-copy\n",
            "  X_train['order_delivery_days'] = (X_train['evsd'] - X_train['order_date']).dt.days\n",
            "C:\\Users\\nshre\\AppData\\Local\\Temp\\ipykernel_12864\\3015875561.py:3: SettingWithCopyWarning: \n",
            "A value is trying to be set on a copy of a slice from a DataFrame.\n",
            "Try using .loc[row_indexer,col_indexer] = value instead\n",
            "\n",
            "See the caveats in the documentation: https://pandas.pydata.org/pandas-docs/stable/user_guide/indexing.html#returning-a-view-versus-a-copy\n",
            "  X_valid['order_delivery_days'] = (X_valid['evsd'] - X_valid['order_date']).dt.days\n"
          ]
        }
      ],
      "source": [
        "# How long does order usually take to deliver?\n",
        "X_train['order_delivery_days'] = (X_train['evsd'] - X_train['order_date']).dt.days\n",
        "X_valid['order_delivery_days'] = (X_valid['evsd'] - X_valid['order_date']).dt.days\n"
      ]
    },
    {
      "cell_type": "code",
      "execution_count": 16,
      "metadata": {},
      "outputs": [],
      "source": [
        "# Define a funtion to peform one hot encoding for the top 10 most frequent categories of Categorical Features\n",
        "def one_hot_top10(df,feature,top10_categories):\n",
        "    for category in top10_categories:\n",
        "        df[feature+'_'+category]=np.where(df[feature]==category,1,0)"
      ]
    },
    {
      "cell_type": "code",
      "execution_count": 17,
      "metadata": {},
      "outputs": [
        {
          "data": {
            "text/plain": [
              "{'d_id': ['509', '584', '540', '648', '410', '7', '1', '643', '454', '110'],\n",
              " 'isbn_id': ['4595',\n",
              "  '26550',\n",
              "  '27825',\n",
              "  '14820',\n",
              "  '19934',\n",
              "  '29771',\n",
              "  '7865',\n",
              "  '31986',\n",
              "  '6790',\n",
              "  '8453']}"
            ]
          },
          "metadata": {},
          "output_type": "display_data"
        }
      ],
      "source": [
        "\"\"\"\n",
        "Create a dict for the top 10 most frequent categories of Categorical Features\n",
        "Call the function to perform one hot encoding on Categorical Features\n",
        "verify the train and test set after applying one hot encoding for the Categorical \n",
        "\"\"\"\n",
        "\n",
        "var_dict_train ={}\n",
        "\n",
        "for col in ['d_id', 'isbn_id']:\n",
        "  var_dict_train[col] = [x for x in X_train[col].value_counts().sort_values(ascending=False).head(10).index]\n",
        "\n",
        "\n",
        "display(var_dict_train)"
      ]
    },
    {
      "cell_type": "code",
      "execution_count": 18,
      "metadata": {},
      "outputs": [
        {
          "name": "stderr",
          "output_type": "stream",
          "text": [
            "C:\\Users\\nshre\\AppData\\Local\\Temp\\ipykernel_12864\\2297884223.py:4: SettingWithCopyWarning: \n",
            "A value is trying to be set on a copy of a slice from a DataFrame.\n",
            "Try using .loc[row_indexer,col_indexer] = value instead\n",
            "\n",
            "See the caveats in the documentation: https://pandas.pydata.org/pandas-docs/stable/user_guide/indexing.html#returning-a-view-versus-a-copy\n",
            "  df[feature+'_'+category]=np.where(df[feature]==category,1,0)\n",
            "C:\\Users\\nshre\\AppData\\Local\\Temp\\ipykernel_12864\\2297884223.py:4: SettingWithCopyWarning: \n",
            "A value is trying to be set on a copy of a slice from a DataFrame.\n",
            "Try using .loc[row_indexer,col_indexer] = value instead\n",
            "\n",
            "See the caveats in the documentation: https://pandas.pydata.org/pandas-docs/stable/user_guide/indexing.html#returning-a-view-versus-a-copy\n",
            "  df[feature+'_'+category]=np.where(df[feature]==category,1,0)\n",
            "C:\\Users\\nshre\\AppData\\Local\\Temp\\ipykernel_12864\\2297884223.py:4: SettingWithCopyWarning: \n",
            "A value is trying to be set on a copy of a slice from a DataFrame.\n",
            "Try using .loc[row_indexer,col_indexer] = value instead\n",
            "\n",
            "See the caveats in the documentation: https://pandas.pydata.org/pandas-docs/stable/user_guide/indexing.html#returning-a-view-versus-a-copy\n",
            "  df[feature+'_'+category]=np.where(df[feature]==category,1,0)\n",
            "C:\\Users\\nshre\\AppData\\Local\\Temp\\ipykernel_12864\\2297884223.py:4: SettingWithCopyWarning: \n",
            "A value is trying to be set on a copy of a slice from a DataFrame.\n",
            "Try using .loc[row_indexer,col_indexer] = value instead\n",
            "\n",
            "See the caveats in the documentation: https://pandas.pydata.org/pandas-docs/stable/user_guide/indexing.html#returning-a-view-versus-a-copy\n",
            "  df[feature+'_'+category]=np.where(df[feature]==category,1,0)\n",
            "C:\\Users\\nshre\\AppData\\Local\\Temp\\ipykernel_12864\\2297884223.py:4: SettingWithCopyWarning: \n",
            "A value is trying to be set on a copy of a slice from a DataFrame.\n",
            "Try using .loc[row_indexer,col_indexer] = value instead\n",
            "\n",
            "See the caveats in the documentation: https://pandas.pydata.org/pandas-docs/stable/user_guide/indexing.html#returning-a-view-versus-a-copy\n",
            "  df[feature+'_'+category]=np.where(df[feature]==category,1,0)\n",
            "C:\\Users\\nshre\\AppData\\Local\\Temp\\ipykernel_12864\\2297884223.py:4: SettingWithCopyWarning: \n",
            "A value is trying to be set on a copy of a slice from a DataFrame.\n",
            "Try using .loc[row_indexer,col_indexer] = value instead\n",
            "\n",
            "See the caveats in the documentation: https://pandas.pydata.org/pandas-docs/stable/user_guide/indexing.html#returning-a-view-versus-a-copy\n",
            "  df[feature+'_'+category]=np.where(df[feature]==category,1,0)\n",
            "C:\\Users\\nshre\\AppData\\Local\\Temp\\ipykernel_12864\\2297884223.py:4: SettingWithCopyWarning: \n",
            "A value is trying to be set on a copy of a slice from a DataFrame.\n",
            "Try using .loc[row_indexer,col_indexer] = value instead\n",
            "\n",
            "See the caveats in the documentation: https://pandas.pydata.org/pandas-docs/stable/user_guide/indexing.html#returning-a-view-versus-a-copy\n",
            "  df[feature+'_'+category]=np.where(df[feature]==category,1,0)\n",
            "C:\\Users\\nshre\\AppData\\Local\\Temp\\ipykernel_12864\\2297884223.py:4: SettingWithCopyWarning: \n",
            "A value is trying to be set on a copy of a slice from a DataFrame.\n",
            "Try using .loc[row_indexer,col_indexer] = value instead\n",
            "\n",
            "See the caveats in the documentation: https://pandas.pydata.org/pandas-docs/stable/user_guide/indexing.html#returning-a-view-versus-a-copy\n",
            "  df[feature+'_'+category]=np.where(df[feature]==category,1,0)\n",
            "C:\\Users\\nshre\\AppData\\Local\\Temp\\ipykernel_12864\\2297884223.py:4: SettingWithCopyWarning: \n",
            "A value is trying to be set on a copy of a slice from a DataFrame.\n",
            "Try using .loc[row_indexer,col_indexer] = value instead\n",
            "\n",
            "See the caveats in the documentation: https://pandas.pydata.org/pandas-docs/stable/user_guide/indexing.html#returning-a-view-versus-a-copy\n",
            "  df[feature+'_'+category]=np.where(df[feature]==category,1,0)\n",
            "C:\\Users\\nshre\\AppData\\Local\\Temp\\ipykernel_12864\\2297884223.py:4: SettingWithCopyWarning: \n",
            "A value is trying to be set on a copy of a slice from a DataFrame.\n",
            "Try using .loc[row_indexer,col_indexer] = value instead\n",
            "\n",
            "See the caveats in the documentation: https://pandas.pydata.org/pandas-docs/stable/user_guide/indexing.html#returning-a-view-versus-a-copy\n",
            "  df[feature+'_'+category]=np.where(df[feature]==category,1,0)\n",
            "C:\\Users\\nshre\\AppData\\Local\\Temp\\ipykernel_12864\\2297884223.py:4: SettingWithCopyWarning: \n",
            "A value is trying to be set on a copy of a slice from a DataFrame.\n",
            "Try using .loc[row_indexer,col_indexer] = value instead\n",
            "\n",
            "See the caveats in the documentation: https://pandas.pydata.org/pandas-docs/stable/user_guide/indexing.html#returning-a-view-versus-a-copy\n",
            "  df[feature+'_'+category]=np.where(df[feature]==category,1,0)\n",
            "C:\\Users\\nshre\\AppData\\Local\\Temp\\ipykernel_12864\\2297884223.py:4: SettingWithCopyWarning: \n",
            "A value is trying to be set on a copy of a slice from a DataFrame.\n",
            "Try using .loc[row_indexer,col_indexer] = value instead\n",
            "\n",
            "See the caveats in the documentation: https://pandas.pydata.org/pandas-docs/stable/user_guide/indexing.html#returning-a-view-versus-a-copy\n",
            "  df[feature+'_'+category]=np.where(df[feature]==category,1,0)\n",
            "C:\\Users\\nshre\\AppData\\Local\\Temp\\ipykernel_12864\\2297884223.py:4: SettingWithCopyWarning: \n",
            "A value is trying to be set on a copy of a slice from a DataFrame.\n",
            "Try using .loc[row_indexer,col_indexer] = value instead\n",
            "\n",
            "See the caveats in the documentation: https://pandas.pydata.org/pandas-docs/stable/user_guide/indexing.html#returning-a-view-versus-a-copy\n",
            "  df[feature+'_'+category]=np.where(df[feature]==category,1,0)\n",
            "C:\\Users\\nshre\\AppData\\Local\\Temp\\ipykernel_12864\\2297884223.py:4: SettingWithCopyWarning: \n",
            "A value is trying to be set on a copy of a slice from a DataFrame.\n",
            "Try using .loc[row_indexer,col_indexer] = value instead\n",
            "\n",
            "See the caveats in the documentation: https://pandas.pydata.org/pandas-docs/stable/user_guide/indexing.html#returning-a-view-versus-a-copy\n",
            "  df[feature+'_'+category]=np.where(df[feature]==category,1,0)\n",
            "C:\\Users\\nshre\\AppData\\Local\\Temp\\ipykernel_12864\\2297884223.py:4: SettingWithCopyWarning: \n",
            "A value is trying to be set on a copy of a slice from a DataFrame.\n",
            "Try using .loc[row_indexer,col_indexer] = value instead\n",
            "\n",
            "See the caveats in the documentation: https://pandas.pydata.org/pandas-docs/stable/user_guide/indexing.html#returning-a-view-versus-a-copy\n",
            "  df[feature+'_'+category]=np.where(df[feature]==category,1,0)\n",
            "C:\\Users\\nshre\\AppData\\Local\\Temp\\ipykernel_12864\\2297884223.py:4: SettingWithCopyWarning: \n",
            "A value is trying to be set on a copy of a slice from a DataFrame.\n",
            "Try using .loc[row_indexer,col_indexer] = value instead\n",
            "\n",
            "See the caveats in the documentation: https://pandas.pydata.org/pandas-docs/stable/user_guide/indexing.html#returning-a-view-versus-a-copy\n",
            "  df[feature+'_'+category]=np.where(df[feature]==category,1,0)\n",
            "C:\\Users\\nshre\\AppData\\Local\\Temp\\ipykernel_12864\\2297884223.py:4: SettingWithCopyWarning: \n",
            "A value is trying to be set on a copy of a slice from a DataFrame.\n",
            "Try using .loc[row_indexer,col_indexer] = value instead\n",
            "\n",
            "See the caveats in the documentation: https://pandas.pydata.org/pandas-docs/stable/user_guide/indexing.html#returning-a-view-versus-a-copy\n",
            "  df[feature+'_'+category]=np.where(df[feature]==category,1,0)\n",
            "C:\\Users\\nshre\\AppData\\Local\\Temp\\ipykernel_12864\\2297884223.py:4: SettingWithCopyWarning: \n",
            "A value is trying to be set on a copy of a slice from a DataFrame.\n",
            "Try using .loc[row_indexer,col_indexer] = value instead\n",
            "\n",
            "See the caveats in the documentation: https://pandas.pydata.org/pandas-docs/stable/user_guide/indexing.html#returning-a-view-versus-a-copy\n",
            "  df[feature+'_'+category]=np.where(df[feature]==category,1,0)\n",
            "C:\\Users\\nshre\\AppData\\Local\\Temp\\ipykernel_12864\\2297884223.py:4: SettingWithCopyWarning: \n",
            "A value is trying to be set on a copy of a slice from a DataFrame.\n",
            "Try using .loc[row_indexer,col_indexer] = value instead\n",
            "\n",
            "See the caveats in the documentation: https://pandas.pydata.org/pandas-docs/stable/user_guide/indexing.html#returning-a-view-versus-a-copy\n",
            "  df[feature+'_'+category]=np.where(df[feature]==category,1,0)\n",
            "C:\\Users\\nshre\\AppData\\Local\\Temp\\ipykernel_12864\\2297884223.py:4: SettingWithCopyWarning: \n",
            "A value is trying to be set on a copy of a slice from a DataFrame.\n",
            "Try using .loc[row_indexer,col_indexer] = value instead\n",
            "\n",
            "See the caveats in the documentation: https://pandas.pydata.org/pandas-docs/stable/user_guide/indexing.html#returning-a-view-versus-a-copy\n",
            "  df[feature+'_'+category]=np.where(df[feature]==category,1,0)\n",
            "C:\\Users\\nshre\\AppData\\Local\\Temp\\ipykernel_12864\\2297884223.py:4: SettingWithCopyWarning: \n",
            "A value is trying to be set on a copy of a slice from a DataFrame.\n",
            "Try using .loc[row_indexer,col_indexer] = value instead\n",
            "\n",
            "See the caveats in the documentation: https://pandas.pydata.org/pandas-docs/stable/user_guide/indexing.html#returning-a-view-versus-a-copy\n",
            "  df[feature+'_'+category]=np.where(df[feature]==category,1,0)\n",
            "C:\\Users\\nshre\\AppData\\Local\\Temp\\ipykernel_12864\\2297884223.py:4: SettingWithCopyWarning: \n",
            "A value is trying to be set on a copy of a slice from a DataFrame.\n",
            "Try using .loc[row_indexer,col_indexer] = value instead\n",
            "\n",
            "See the caveats in the documentation: https://pandas.pydata.org/pandas-docs/stable/user_guide/indexing.html#returning-a-view-versus-a-copy\n",
            "  df[feature+'_'+category]=np.where(df[feature]==category,1,0)\n",
            "C:\\Users\\nshre\\AppData\\Local\\Temp\\ipykernel_12864\\2297884223.py:4: SettingWithCopyWarning: \n",
            "A value is trying to be set on a copy of a slice from a DataFrame.\n",
            "Try using .loc[row_indexer,col_indexer] = value instead\n",
            "\n",
            "See the caveats in the documentation: https://pandas.pydata.org/pandas-docs/stable/user_guide/indexing.html#returning-a-view-versus-a-copy\n",
            "  df[feature+'_'+category]=np.where(df[feature]==category,1,0)\n",
            "C:\\Users\\nshre\\AppData\\Local\\Temp\\ipykernel_12864\\2297884223.py:4: SettingWithCopyWarning: \n",
            "A value is trying to be set on a copy of a slice from a DataFrame.\n",
            "Try using .loc[row_indexer,col_indexer] = value instead\n",
            "\n",
            "See the caveats in the documentation: https://pandas.pydata.org/pandas-docs/stable/user_guide/indexing.html#returning-a-view-versus-a-copy\n",
            "  df[feature+'_'+category]=np.where(df[feature]==category,1,0)\n",
            "C:\\Users\\nshre\\AppData\\Local\\Temp\\ipykernel_12864\\2297884223.py:4: SettingWithCopyWarning: \n",
            "A value is trying to be set on a copy of a slice from a DataFrame.\n",
            "Try using .loc[row_indexer,col_indexer] = value instead\n",
            "\n",
            "See the caveats in the documentation: https://pandas.pydata.org/pandas-docs/stable/user_guide/indexing.html#returning-a-view-versus-a-copy\n",
            "  df[feature+'_'+category]=np.where(df[feature]==category,1,0)\n",
            "C:\\Users\\nshre\\AppData\\Local\\Temp\\ipykernel_12864\\2297884223.py:4: SettingWithCopyWarning: \n",
            "A value is trying to be set on a copy of a slice from a DataFrame.\n",
            "Try using .loc[row_indexer,col_indexer] = value instead\n",
            "\n",
            "See the caveats in the documentation: https://pandas.pydata.org/pandas-docs/stable/user_guide/indexing.html#returning-a-view-versus-a-copy\n",
            "  df[feature+'_'+category]=np.where(df[feature]==category,1,0)\n",
            "C:\\Users\\nshre\\AppData\\Local\\Temp\\ipykernel_12864\\2297884223.py:4: SettingWithCopyWarning: \n",
            "A value is trying to be set on a copy of a slice from a DataFrame.\n",
            "Try using .loc[row_indexer,col_indexer] = value instead\n",
            "\n",
            "See the caveats in the documentation: https://pandas.pydata.org/pandas-docs/stable/user_guide/indexing.html#returning-a-view-versus-a-copy\n",
            "  df[feature+'_'+category]=np.where(df[feature]==category,1,0)\n",
            "C:\\Users\\nshre\\AppData\\Local\\Temp\\ipykernel_12864\\2297884223.py:4: SettingWithCopyWarning: \n",
            "A value is trying to be set on a copy of a slice from a DataFrame.\n",
            "Try using .loc[row_indexer,col_indexer] = value instead\n",
            "\n",
            "See the caveats in the documentation: https://pandas.pydata.org/pandas-docs/stable/user_guide/indexing.html#returning-a-view-versus-a-copy\n",
            "  df[feature+'_'+category]=np.where(df[feature]==category,1,0)\n",
            "C:\\Users\\nshre\\AppData\\Local\\Temp\\ipykernel_12864\\2297884223.py:4: SettingWithCopyWarning: \n",
            "A value is trying to be set on a copy of a slice from a DataFrame.\n",
            "Try using .loc[row_indexer,col_indexer] = value instead\n",
            "\n",
            "See the caveats in the documentation: https://pandas.pydata.org/pandas-docs/stable/user_guide/indexing.html#returning-a-view-versus-a-copy\n",
            "  df[feature+'_'+category]=np.where(df[feature]==category,1,0)\n",
            "C:\\Users\\nshre\\AppData\\Local\\Temp\\ipykernel_12864\\2297884223.py:4: SettingWithCopyWarning: \n",
            "A value is trying to be set on a copy of a slice from a DataFrame.\n",
            "Try using .loc[row_indexer,col_indexer] = value instead\n",
            "\n",
            "See the caveats in the documentation: https://pandas.pydata.org/pandas-docs/stable/user_guide/indexing.html#returning-a-view-versus-a-copy\n",
            "  df[feature+'_'+category]=np.where(df[feature]==category,1,0)\n",
            "C:\\Users\\nshre\\AppData\\Local\\Temp\\ipykernel_12864\\2297884223.py:4: SettingWithCopyWarning: \n",
            "A value is trying to be set on a copy of a slice from a DataFrame.\n",
            "Try using .loc[row_indexer,col_indexer] = value instead\n",
            "\n",
            "See the caveats in the documentation: https://pandas.pydata.org/pandas-docs/stable/user_guide/indexing.html#returning-a-view-versus-a-copy\n",
            "  df[feature+'_'+category]=np.where(df[feature]==category,1,0)\n",
            "C:\\Users\\nshre\\AppData\\Local\\Temp\\ipykernel_12864\\2297884223.py:4: SettingWithCopyWarning: \n",
            "A value is trying to be set on a copy of a slice from a DataFrame.\n",
            "Try using .loc[row_indexer,col_indexer] = value instead\n",
            "\n",
            "See the caveats in the documentation: https://pandas.pydata.org/pandas-docs/stable/user_guide/indexing.html#returning-a-view-versus-a-copy\n",
            "  df[feature+'_'+category]=np.where(df[feature]==category,1,0)\n",
            "C:\\Users\\nshre\\AppData\\Local\\Temp\\ipykernel_12864\\2297884223.py:4: SettingWithCopyWarning: \n",
            "A value is trying to be set on a copy of a slice from a DataFrame.\n",
            "Try using .loc[row_indexer,col_indexer] = value instead\n",
            "\n",
            "See the caveats in the documentation: https://pandas.pydata.org/pandas-docs/stable/user_guide/indexing.html#returning-a-view-versus-a-copy\n",
            "  df[feature+'_'+category]=np.where(df[feature]==category,1,0)\n",
            "C:\\Users\\nshre\\AppData\\Local\\Temp\\ipykernel_12864\\2297884223.py:4: SettingWithCopyWarning: \n",
            "A value is trying to be set on a copy of a slice from a DataFrame.\n",
            "Try using .loc[row_indexer,col_indexer] = value instead\n",
            "\n",
            "See the caveats in the documentation: https://pandas.pydata.org/pandas-docs/stable/user_guide/indexing.html#returning-a-view-versus-a-copy\n",
            "  df[feature+'_'+category]=np.where(df[feature]==category,1,0)\n",
            "C:\\Users\\nshre\\AppData\\Local\\Temp\\ipykernel_12864\\2297884223.py:4: SettingWithCopyWarning: \n",
            "A value is trying to be set on a copy of a slice from a DataFrame.\n",
            "Try using .loc[row_indexer,col_indexer] = value instead\n",
            "\n",
            "See the caveats in the documentation: https://pandas.pydata.org/pandas-docs/stable/user_guide/indexing.html#returning-a-view-versus-a-copy\n",
            "  df[feature+'_'+category]=np.where(df[feature]==category,1,0)\n",
            "C:\\Users\\nshre\\AppData\\Local\\Temp\\ipykernel_12864\\2297884223.py:4: SettingWithCopyWarning: \n",
            "A value is trying to be set on a copy of a slice from a DataFrame.\n",
            "Try using .loc[row_indexer,col_indexer] = value instead\n",
            "\n",
            "See the caveats in the documentation: https://pandas.pydata.org/pandas-docs/stable/user_guide/indexing.html#returning-a-view-versus-a-copy\n",
            "  df[feature+'_'+category]=np.where(df[feature]==category,1,0)\n",
            "C:\\Users\\nshre\\AppData\\Local\\Temp\\ipykernel_12864\\2297884223.py:4: SettingWithCopyWarning: \n",
            "A value is trying to be set on a copy of a slice from a DataFrame.\n",
            "Try using .loc[row_indexer,col_indexer] = value instead\n",
            "\n",
            "See the caveats in the documentation: https://pandas.pydata.org/pandas-docs/stable/user_guide/indexing.html#returning-a-view-versus-a-copy\n",
            "  df[feature+'_'+category]=np.where(df[feature]==category,1,0)\n",
            "C:\\Users\\nshre\\AppData\\Local\\Temp\\ipykernel_12864\\2297884223.py:4: SettingWithCopyWarning: \n",
            "A value is trying to be set on a copy of a slice from a DataFrame.\n",
            "Try using .loc[row_indexer,col_indexer] = value instead\n",
            "\n",
            "See the caveats in the documentation: https://pandas.pydata.org/pandas-docs/stable/user_guide/indexing.html#returning-a-view-versus-a-copy\n",
            "  df[feature+'_'+category]=np.where(df[feature]==category,1,0)\n",
            "C:\\Users\\nshre\\AppData\\Local\\Temp\\ipykernel_12864\\2297884223.py:4: SettingWithCopyWarning: \n",
            "A value is trying to be set on a copy of a slice from a DataFrame.\n",
            "Try using .loc[row_indexer,col_indexer] = value instead\n",
            "\n",
            "See the caveats in the documentation: https://pandas.pydata.org/pandas-docs/stable/user_guide/indexing.html#returning-a-view-versus-a-copy\n",
            "  df[feature+'_'+category]=np.where(df[feature]==category,1,0)\n",
            "C:\\Users\\nshre\\AppData\\Local\\Temp\\ipykernel_12864\\2297884223.py:4: SettingWithCopyWarning: \n",
            "A value is trying to be set on a copy of a slice from a DataFrame.\n",
            "Try using .loc[row_indexer,col_indexer] = value instead\n",
            "\n",
            "See the caveats in the documentation: https://pandas.pydata.org/pandas-docs/stable/user_guide/indexing.html#returning-a-view-versus-a-copy\n",
            "  df[feature+'_'+category]=np.where(df[feature]==category,1,0)\n"
          ]
        },
        {
          "data": {
            "text/html": [
              "<div>\n",
              "<style scoped>\n",
              "    .dataframe tbody tr th:only-of-type {\n",
              "        vertical-align: middle;\n",
              "    }\n",
              "\n",
              "    .dataframe tbody tr th {\n",
              "        vertical-align: top;\n",
              "    }\n",
              "\n",
              "    .dataframe thead th {\n",
              "        text-align: right;\n",
              "    }\n",
              "</style>\n",
              "<table border=\"1\" class=\"dataframe\">\n",
              "  <thead>\n",
              "    <tr style=\"text-align: right;\">\n",
              "      <th></th>\n",
              "      <th>region_id</th>\n",
              "      <th>warehouse_id</th>\n",
              "      <th>d_id</th>\n",
              "      <th>isbn_id</th>\n",
              "      <th>order_id</th>\n",
              "      <th>order_date</th>\n",
              "      <th>evsd</th>\n",
              "      <th>po_source_ind</th>\n",
              "      <th>quantity_ordered</th>\n",
              "      <th>quantity_submitted</th>\n",
              "      <th>quantity_received</th>\n",
              "      <th>row_group_ind</th>\n",
              "      <th>visibility</th>\n",
              "      <th>tag</th>\n",
              "      <th>unique_id</th>\n",
              "      <th>order_delivery_days</th>\n",
              "      <th>d_id_509</th>\n",
              "      <th>d_id_584</th>\n",
              "      <th>d_id_540</th>\n",
              "      <th>d_id_648</th>\n",
              "      <th>d_id_410</th>\n",
              "      <th>d_id_7</th>\n",
              "      <th>d_id_1</th>\n",
              "      <th>d_id_643</th>\n",
              "      <th>d_id_454</th>\n",
              "      <th>d_id_110</th>\n",
              "      <th>isbn_id_4595</th>\n",
              "      <th>isbn_id_26550</th>\n",
              "      <th>isbn_id_27825</th>\n",
              "      <th>isbn_id_14820</th>\n",
              "      <th>isbn_id_19934</th>\n",
              "      <th>isbn_id_29771</th>\n",
              "      <th>isbn_id_7865</th>\n",
              "      <th>isbn_id_31986</th>\n",
              "      <th>isbn_id_6790</th>\n",
              "      <th>isbn_id_8453</th>\n",
              "    </tr>\n",
              "  </thead>\n",
              "  <tbody>\n",
              "    <tr>\n",
              "      <th>2</th>\n",
              "      <td>1</td>\n",
              "      <td>JFK2</td>\n",
              "      <td>648</td>\n",
              "      <td>16750</td>\n",
              "      <td>11165</td>\n",
              "      <td>2022-09-30</td>\n",
              "      <td>2022-10-03</td>\n",
              "      <td>AFT Lite</td>\n",
              "      <td>6</td>\n",
              "      <td>6</td>\n",
              "      <td>6</td>\n",
              "      <td>1</td>\n",
              "      <td>2</td>\n",
              "      <td>train</td>\n",
              "      <td>JFK2_648_16750_11165                          ...</td>\n",
              "      <td>3</td>\n",
              "      <td>0</td>\n",
              "      <td>0</td>\n",
              "      <td>0</td>\n",
              "      <td>1</td>\n",
              "      <td>0</td>\n",
              "      <td>0</td>\n",
              "      <td>0</td>\n",
              "      <td>0</td>\n",
              "      <td>0</td>\n",
              "      <td>0</td>\n",
              "      <td>0</td>\n",
              "      <td>0</td>\n",
              "      <td>0</td>\n",
              "      <td>0</td>\n",
              "      <td>0</td>\n",
              "      <td>0</td>\n",
              "      <td>0</td>\n",
              "      <td>0</td>\n",
              "      <td>0</td>\n",
              "      <td>0</td>\n",
              "    </tr>\n",
              "    <tr>\n",
              "      <th>3</th>\n",
              "      <td>1</td>\n",
              "      <td>JFK2</td>\n",
              "      <td>648</td>\n",
              "      <td>16750</td>\n",
              "      <td>27008</td>\n",
              "      <td>2022-10-14</td>\n",
              "      <td>2022-10-17</td>\n",
              "      <td>AFT Lite</td>\n",
              "      <td>6</td>\n",
              "      <td>6</td>\n",
              "      <td>6</td>\n",
              "      <td>2</td>\n",
              "      <td>2</td>\n",
              "      <td>train</td>\n",
              "      <td>JFK2_648_16750_27008                          ...</td>\n",
              "      <td>3</td>\n",
              "      <td>0</td>\n",
              "      <td>0</td>\n",
              "      <td>0</td>\n",
              "      <td>1</td>\n",
              "      <td>0</td>\n",
              "      <td>0</td>\n",
              "      <td>0</td>\n",
              "      <td>0</td>\n",
              "      <td>0</td>\n",
              "      <td>0</td>\n",
              "      <td>0</td>\n",
              "      <td>0</td>\n",
              "      <td>0</td>\n",
              "      <td>0</td>\n",
              "      <td>0</td>\n",
              "      <td>0</td>\n",
              "      <td>0</td>\n",
              "      <td>0</td>\n",
              "      <td>0</td>\n",
              "      <td>0</td>\n",
              "    </tr>\n",
              "    <tr>\n",
              "      <th>8</th>\n",
              "      <td>1</td>\n",
              "      <td>JFK2</td>\n",
              "      <td>584</td>\n",
              "      <td>29062</td>\n",
              "      <td>62664</td>\n",
              "      <td>2022-10-17</td>\n",
              "      <td>2022-10-19</td>\n",
              "      <td>AFT Lite</td>\n",
              "      <td>12</td>\n",
              "      <td>12</td>\n",
              "      <td>12</td>\n",
              "      <td>5</td>\n",
              "      <td>1</td>\n",
              "      <td>train</td>\n",
              "      <td>JFK2_584_29062_62664                          ...</td>\n",
              "      <td>2</td>\n",
              "      <td>0</td>\n",
              "      <td>1</td>\n",
              "      <td>0</td>\n",
              "      <td>0</td>\n",
              "      <td>0</td>\n",
              "      <td>0</td>\n",
              "      <td>0</td>\n",
              "      <td>0</td>\n",
              "      <td>0</td>\n",
              "      <td>0</td>\n",
              "      <td>0</td>\n",
              "      <td>0</td>\n",
              "      <td>0</td>\n",
              "      <td>0</td>\n",
              "      <td>0</td>\n",
              "      <td>0</td>\n",
              "      <td>0</td>\n",
              "      <td>0</td>\n",
              "      <td>0</td>\n",
              "      <td>0</td>\n",
              "    </tr>\n",
              "    <tr>\n",
              "      <th>9</th>\n",
              "      <td>1</td>\n",
              "      <td>JFK2</td>\n",
              "      <td>393</td>\n",
              "      <td>24754</td>\n",
              "      <td>91483</td>\n",
              "      <td>2022-10-19</td>\n",
              "      <td>2022-10-28</td>\n",
              "      <td>AFT Lite</td>\n",
              "      <td>16</td>\n",
              "      <td>16</td>\n",
              "      <td>16</td>\n",
              "      <td>7</td>\n",
              "      <td>6</td>\n",
              "      <td>train</td>\n",
              "      <td>JFK2_393_24754_91483                          ...</td>\n",
              "      <td>9</td>\n",
              "      <td>0</td>\n",
              "      <td>0</td>\n",
              "      <td>0</td>\n",
              "      <td>0</td>\n",
              "      <td>0</td>\n",
              "      <td>0</td>\n",
              "      <td>0</td>\n",
              "      <td>0</td>\n",
              "      <td>0</td>\n",
              "      <td>0</td>\n",
              "      <td>0</td>\n",
              "      <td>0</td>\n",
              "      <td>0</td>\n",
              "      <td>0</td>\n",
              "      <td>0</td>\n",
              "      <td>0</td>\n",
              "      <td>0</td>\n",
              "      <td>0</td>\n",
              "      <td>0</td>\n",
              "      <td>0</td>\n",
              "    </tr>\n",
              "    <tr>\n",
              "      <th>11</th>\n",
              "      <td>1</td>\n",
              "      <td>JFK2</td>\n",
              "      <td>7</td>\n",
              "      <td>27826</td>\n",
              "      <td>175768</td>\n",
              "      <td>2022-10-11</td>\n",
              "      <td>2022-10-12</td>\n",
              "      <td>AFT Lite</td>\n",
              "      <td>24</td>\n",
              "      <td>24</td>\n",
              "      <td>24</td>\n",
              "      <td>5</td>\n",
              "      <td>1</td>\n",
              "      <td>train</td>\n",
              "      <td>JFK2_7_27826_175768                           ...</td>\n",
              "      <td>1</td>\n",
              "      <td>0</td>\n",
              "      <td>0</td>\n",
              "      <td>0</td>\n",
              "      <td>0</td>\n",
              "      <td>0</td>\n",
              "      <td>1</td>\n",
              "      <td>0</td>\n",
              "      <td>0</td>\n",
              "      <td>0</td>\n",
              "      <td>0</td>\n",
              "      <td>0</td>\n",
              "      <td>0</td>\n",
              "      <td>0</td>\n",
              "      <td>0</td>\n",
              "      <td>0</td>\n",
              "      <td>0</td>\n",
              "      <td>0</td>\n",
              "      <td>0</td>\n",
              "      <td>0</td>\n",
              "      <td>0</td>\n",
              "    </tr>\n",
              "  </tbody>\n",
              "</table>\n",
              "</div>"
            ],
            "text/plain": [
              "    region_id warehouse_id d_id isbn_id order_id order_date       evsd   \n",
              "2           1         JFK2  648   16750    11165 2022-09-30 2022-10-03  \\\n",
              "3           1         JFK2  648   16750    27008 2022-10-14 2022-10-17   \n",
              "8           1         JFK2  584   29062    62664 2022-10-17 2022-10-19   \n",
              "9           1         JFK2  393   24754    91483 2022-10-19 2022-10-28   \n",
              "11          1         JFK2    7   27826   175768 2022-10-11 2022-10-12   \n",
              "\n",
              "   po_source_ind  quantity_ordered  quantity_submitted  quantity_received   \n",
              "2       AFT Lite                 6                   6                  6  \\\n",
              "3       AFT Lite                 6                   6                  6   \n",
              "8       AFT Lite                12                  12                 12   \n",
              "9       AFT Lite                16                  16                 16   \n",
              "11      AFT Lite                24                  24                 24   \n",
              "\n",
              "    row_group_ind  visibility    tag   \n",
              "2               1           2  train  \\\n",
              "3               2           2  train   \n",
              "8               5           1  train   \n",
              "9               7           6  train   \n",
              "11              5           1  train   \n",
              "\n",
              "                                            unique_id  order_delivery_days   \n",
              "2   JFK2_648_16750_11165                          ...                    3  \\\n",
              "3   JFK2_648_16750_27008                          ...                    3   \n",
              "8   JFK2_584_29062_62664                          ...                    2   \n",
              "9   JFK2_393_24754_91483                          ...                    9   \n",
              "11  JFK2_7_27826_175768                           ...                    1   \n",
              "\n",
              "    d_id_509  d_id_584  d_id_540  d_id_648  d_id_410  d_id_7  d_id_1   \n",
              "2          0         0         0         1         0       0       0  \\\n",
              "3          0         0         0         1         0       0       0   \n",
              "8          0         1         0         0         0       0       0   \n",
              "9          0         0         0         0         0       0       0   \n",
              "11         0         0         0         0         0       1       0   \n",
              "\n",
              "    d_id_643  d_id_454  d_id_110  isbn_id_4595  isbn_id_26550  isbn_id_27825   \n",
              "2          0         0         0             0              0              0  \\\n",
              "3          0         0         0             0              0              0   \n",
              "8          0         0         0             0              0              0   \n",
              "9          0         0         0             0              0              0   \n",
              "11         0         0         0             0              0              0   \n",
              "\n",
              "    isbn_id_14820  isbn_id_19934  isbn_id_29771  isbn_id_7865  isbn_id_31986   \n",
              "2               0              0              0             0              0  \\\n",
              "3               0              0              0             0              0   \n",
              "8               0              0              0             0              0   \n",
              "9               0              0              0             0              0   \n",
              "11              0              0              0             0              0   \n",
              "\n",
              "    isbn_id_6790  isbn_id_8453  \n",
              "2              0             0  \n",
              "3              0             0  \n",
              "8              0             0  \n",
              "9              0             0  \n",
              "11             0             0  "
            ]
          },
          "metadata": {},
          "output_type": "display_data"
        },
        {
          "data": {
            "text/html": [
              "<div>\n",
              "<style scoped>\n",
              "    .dataframe tbody tr th:only-of-type {\n",
              "        vertical-align: middle;\n",
              "    }\n",
              "\n",
              "    .dataframe tbody tr th {\n",
              "        vertical-align: top;\n",
              "    }\n",
              "\n",
              "    .dataframe thead th {\n",
              "        text-align: right;\n",
              "    }\n",
              "</style>\n",
              "<table border=\"1\" class=\"dataframe\">\n",
              "  <thead>\n",
              "    <tr style=\"text-align: right;\">\n",
              "      <th></th>\n",
              "      <th>region_id</th>\n",
              "      <th>warehouse_id</th>\n",
              "      <th>d_id</th>\n",
              "      <th>isbn_id</th>\n",
              "      <th>order_id</th>\n",
              "      <th>order_date</th>\n",
              "      <th>evsd</th>\n",
              "      <th>po_source_ind</th>\n",
              "      <th>quantity_ordered</th>\n",
              "      <th>quantity_submitted</th>\n",
              "      <th>quantity_received</th>\n",
              "      <th>row_group_ind</th>\n",
              "      <th>visibility</th>\n",
              "      <th>tag</th>\n",
              "      <th>unique_id</th>\n",
              "      <th>order_delivery_days</th>\n",
              "      <th>d_id_509</th>\n",
              "      <th>d_id_584</th>\n",
              "      <th>d_id_540</th>\n",
              "      <th>d_id_648</th>\n",
              "      <th>d_id_410</th>\n",
              "      <th>d_id_7</th>\n",
              "      <th>d_id_1</th>\n",
              "      <th>d_id_643</th>\n",
              "      <th>d_id_454</th>\n",
              "      <th>d_id_110</th>\n",
              "      <th>isbn_id_4595</th>\n",
              "      <th>isbn_id_26550</th>\n",
              "      <th>isbn_id_27825</th>\n",
              "      <th>isbn_id_14820</th>\n",
              "      <th>isbn_id_19934</th>\n",
              "      <th>isbn_id_29771</th>\n",
              "      <th>isbn_id_7865</th>\n",
              "      <th>isbn_id_31986</th>\n",
              "      <th>isbn_id_6790</th>\n",
              "      <th>isbn_id_8453</th>\n",
              "    </tr>\n",
              "  </thead>\n",
              "  <tbody>\n",
              "    <tr>\n",
              "      <th>0</th>\n",
              "      <td>1</td>\n",
              "      <td>JFK2</td>\n",
              "      <td>540</td>\n",
              "      <td>30718</td>\n",
              "      <td>67271</td>\n",
              "      <td>2022-11-02</td>\n",
              "      <td>2022-11-14</td>\n",
              "      <td>AFT Lite</td>\n",
              "      <td>54</td>\n",
              "      <td>54</td>\n",
              "      <td>54</td>\n",
              "      <td>4</td>\n",
              "      <td>9</td>\n",
              "      <td>train</td>\n",
              "      <td>JFK2_540_30718_67271                          ...</td>\n",
              "      <td>12</td>\n",
              "      <td>0</td>\n",
              "      <td>0</td>\n",
              "      <td>1</td>\n",
              "      <td>0</td>\n",
              "      <td>0</td>\n",
              "      <td>0</td>\n",
              "      <td>0</td>\n",
              "      <td>0</td>\n",
              "      <td>0</td>\n",
              "      <td>0</td>\n",
              "      <td>0</td>\n",
              "      <td>0</td>\n",
              "      <td>0</td>\n",
              "      <td>0</td>\n",
              "      <td>0</td>\n",
              "      <td>0</td>\n",
              "      <td>0</td>\n",
              "      <td>0</td>\n",
              "      <td>0</td>\n",
              "      <td>0</td>\n",
              "    </tr>\n",
              "    <tr>\n",
              "      <th>1</th>\n",
              "      <td>1</td>\n",
              "      <td>JFK2</td>\n",
              "      <td>540</td>\n",
              "      <td>30718</td>\n",
              "      <td>125389</td>\n",
              "      <td>2022-11-20</td>\n",
              "      <td>2022-12-01</td>\n",
              "      <td>AFT Lite</td>\n",
              "      <td>60</td>\n",
              "      <td>60</td>\n",
              "      <td>60</td>\n",
              "      <td>5</td>\n",
              "      <td>3</td>\n",
              "      <td>train</td>\n",
              "      <td>JFK2_540_30718_125389                         ...</td>\n",
              "      <td>11</td>\n",
              "      <td>0</td>\n",
              "      <td>0</td>\n",
              "      <td>1</td>\n",
              "      <td>0</td>\n",
              "      <td>0</td>\n",
              "      <td>0</td>\n",
              "      <td>0</td>\n",
              "      <td>0</td>\n",
              "      <td>0</td>\n",
              "      <td>0</td>\n",
              "      <td>0</td>\n",
              "      <td>0</td>\n",
              "      <td>0</td>\n",
              "      <td>0</td>\n",
              "      <td>0</td>\n",
              "      <td>0</td>\n",
              "      <td>0</td>\n",
              "      <td>0</td>\n",
              "      <td>0</td>\n",
              "      <td>0</td>\n",
              "    </tr>\n",
              "    <tr>\n",
              "      <th>4</th>\n",
              "      <td>1</td>\n",
              "      <td>JFK2</td>\n",
              "      <td>7</td>\n",
              "      <td>8748</td>\n",
              "      <td>33598</td>\n",
              "      <td>2022-11-15</td>\n",
              "      <td>2022-11-16</td>\n",
              "      <td>AFT Lite</td>\n",
              "      <td>8</td>\n",
              "      <td>8</td>\n",
              "      <td>8</td>\n",
              "      <td>1</td>\n",
              "      <td>1</td>\n",
              "      <td>train</td>\n",
              "      <td>JFK2_7_8748_33598                           _2...</td>\n",
              "      <td>1</td>\n",
              "      <td>0</td>\n",
              "      <td>0</td>\n",
              "      <td>0</td>\n",
              "      <td>0</td>\n",
              "      <td>0</td>\n",
              "      <td>1</td>\n",
              "      <td>0</td>\n",
              "      <td>0</td>\n",
              "      <td>0</td>\n",
              "      <td>0</td>\n",
              "      <td>0</td>\n",
              "      <td>0</td>\n",
              "      <td>0</td>\n",
              "      <td>0</td>\n",
              "      <td>0</td>\n",
              "      <td>0</td>\n",
              "      <td>0</td>\n",
              "      <td>0</td>\n",
              "      <td>0</td>\n",
              "      <td>0</td>\n",
              "    </tr>\n",
              "    <tr>\n",
              "      <th>5</th>\n",
              "      <td>1</td>\n",
              "      <td>JFK2</td>\n",
              "      <td>7</td>\n",
              "      <td>8748</td>\n",
              "      <td>142228</td>\n",
              "      <td>2022-11-01</td>\n",
              "      <td>2022-11-02</td>\n",
              "      <td>AFT Lite</td>\n",
              "      <td>16</td>\n",
              "      <td>16</td>\n",
              "      <td>16</td>\n",
              "      <td>3</td>\n",
              "      <td>1</td>\n",
              "      <td>train</td>\n",
              "      <td>JFK2_7_8748_142228                           _...</td>\n",
              "      <td>1</td>\n",
              "      <td>0</td>\n",
              "      <td>0</td>\n",
              "      <td>0</td>\n",
              "      <td>0</td>\n",
              "      <td>0</td>\n",
              "      <td>1</td>\n",
              "      <td>0</td>\n",
              "      <td>0</td>\n",
              "      <td>0</td>\n",
              "      <td>0</td>\n",
              "      <td>0</td>\n",
              "      <td>0</td>\n",
              "      <td>0</td>\n",
              "      <td>0</td>\n",
              "      <td>0</td>\n",
              "      <td>0</td>\n",
              "      <td>0</td>\n",
              "      <td>0</td>\n",
              "      <td>0</td>\n",
              "      <td>0</td>\n",
              "    </tr>\n",
              "    <tr>\n",
              "      <th>6</th>\n",
              "      <td>1</td>\n",
              "      <td>JFK2</td>\n",
              "      <td>7</td>\n",
              "      <td>8748</td>\n",
              "      <td>27330</td>\n",
              "      <td>2022-11-05</td>\n",
              "      <td>2022-11-06</td>\n",
              "      <td>AFT Lite</td>\n",
              "      <td>0</td>\n",
              "      <td>24</td>\n",
              "      <td>0</td>\n",
              "      <td>6</td>\n",
              "      <td>1</td>\n",
              "      <td>train</td>\n",
              "      <td>JFK2_7_8748_27330                           _2...</td>\n",
              "      <td>1</td>\n",
              "      <td>0</td>\n",
              "      <td>0</td>\n",
              "      <td>0</td>\n",
              "      <td>0</td>\n",
              "      <td>0</td>\n",
              "      <td>1</td>\n",
              "      <td>0</td>\n",
              "      <td>0</td>\n",
              "      <td>0</td>\n",
              "      <td>0</td>\n",
              "      <td>0</td>\n",
              "      <td>0</td>\n",
              "      <td>0</td>\n",
              "      <td>0</td>\n",
              "      <td>0</td>\n",
              "      <td>0</td>\n",
              "      <td>0</td>\n",
              "      <td>0</td>\n",
              "      <td>0</td>\n",
              "      <td>0</td>\n",
              "    </tr>\n",
              "  </tbody>\n",
              "</table>\n",
              "</div>"
            ],
            "text/plain": [
              "   region_id warehouse_id d_id isbn_id order_id order_date       evsd   \n",
              "0          1         JFK2  540   30718    67271 2022-11-02 2022-11-14  \\\n",
              "1          1         JFK2  540   30718   125389 2022-11-20 2022-12-01   \n",
              "4          1         JFK2    7    8748    33598 2022-11-15 2022-11-16   \n",
              "5          1         JFK2    7    8748   142228 2022-11-01 2022-11-02   \n",
              "6          1         JFK2    7    8748    27330 2022-11-05 2022-11-06   \n",
              "\n",
              "  po_source_ind  quantity_ordered  quantity_submitted  quantity_received   \n",
              "0      AFT Lite                54                  54                 54  \\\n",
              "1      AFT Lite                60                  60                 60   \n",
              "4      AFT Lite                 8                   8                  8   \n",
              "5      AFT Lite                16                  16                 16   \n",
              "6      AFT Lite                 0                  24                  0   \n",
              "\n",
              "   row_group_ind  visibility    tag   \n",
              "0              4           9  train  \\\n",
              "1              5           3  train   \n",
              "4              1           1  train   \n",
              "5              3           1  train   \n",
              "6              6           1  train   \n",
              "\n",
              "                                           unique_id  order_delivery_days   \n",
              "0  JFK2_540_30718_67271                          ...                   12  \\\n",
              "1  JFK2_540_30718_125389                         ...                   11   \n",
              "4  JFK2_7_8748_33598                           _2...                    1   \n",
              "5  JFK2_7_8748_142228                           _...                    1   \n",
              "6  JFK2_7_8748_27330                           _2...                    1   \n",
              "\n",
              "   d_id_509  d_id_584  d_id_540  d_id_648  d_id_410  d_id_7  d_id_1  d_id_643   \n",
              "0         0         0         1         0         0       0       0         0  \\\n",
              "1         0         0         1         0         0       0       0         0   \n",
              "4         0         0         0         0         0       1       0         0   \n",
              "5         0         0         0         0         0       1       0         0   \n",
              "6         0         0         0         0         0       1       0         0   \n",
              "\n",
              "   d_id_454  d_id_110  isbn_id_4595  isbn_id_26550  isbn_id_27825   \n",
              "0         0         0             0              0              0  \\\n",
              "1         0         0             0              0              0   \n",
              "4         0         0             0              0              0   \n",
              "5         0         0             0              0              0   \n",
              "6         0         0             0              0              0   \n",
              "\n",
              "   isbn_id_14820  isbn_id_19934  isbn_id_29771  isbn_id_7865  isbn_id_31986   \n",
              "0              0              0              0             0              0  \\\n",
              "1              0              0              0             0              0   \n",
              "4              0              0              0             0              0   \n",
              "5              0              0              0             0              0   \n",
              "6              0              0              0             0              0   \n",
              "\n",
              "   isbn_id_6790  isbn_id_8453  \n",
              "0             0             0  \n",
              "1             0             0  \n",
              "4             0             0  \n",
              "5             0             0  \n",
              "6             0             0  "
            ]
          },
          "metadata": {},
          "output_type": "display_data"
        }
      ],
      "source": [
        "for key,val in var_dict_train.items():\n",
        "  one_hot_top10(X_train,key,val)\n",
        "\n",
        "for key,val in var_dict_train.items():\n",
        "  one_hot_top10(X_valid,key,val)\n",
        "\n",
        "display(X_train.head())\n",
        "display(X_valid.head())"
      ]
    },
    {
      "cell_type": "code",
      "execution_count": 19,
      "metadata": {},
      "outputs": [
        {
          "name": "stderr",
          "output_type": "stream",
          "text": [
            "C:\\Users\\nshre\\AppData\\Local\\Temp\\ipykernel_12864\\180782182.py:1: SettingWithCopyWarning: \n",
            "A value is trying to be set on a copy of a slice from a DataFrame.\n",
            "Try using .loc[row_indexer,col_indexer] = value instead\n",
            "\n",
            "See the caveats in the documentation: https://pandas.pydata.org/pandas-docs/stable/user_guide/indexing.html#returning-a-view-versus-a-copy\n",
            "  X_train['po_source_ind_AFT_Lite'] = np.where(X_train['po_source_ind'] == 'AFT Lite', 1, 0)\n",
            "C:\\Users\\nshre\\AppData\\Local\\Temp\\ipykernel_12864\\180782182.py:2: SettingWithCopyWarning: \n",
            "A value is trying to be set on a copy of a slice from a DataFrame.\n",
            "Try using .loc[row_indexer,col_indexer] = value instead\n",
            "\n",
            "See the caveats in the documentation: https://pandas.pydata.org/pandas-docs/stable/user_guide/indexing.html#returning-a-view-versus-a-copy\n",
            "  X_valid['po_source_ind_AFT_Lite'] = np.where(X_valid['po_source_ind'] == 'AFT Lite', 1, 0)\n"
          ]
        }
      ],
      "source": [
        "X_train['po_source_ind_AFT_Lite'] = np.where(X_train['po_source_ind'] == 'AFT Lite', 1, 0)\n",
        "X_valid['po_source_ind_AFT_Lite'] = np.where(X_valid['po_source_ind'] == 'AFT Lite', 1, 0)"
      ]
    },
    {
      "cell_type": "code",
      "execution_count": 20,
      "metadata": {},
      "outputs": [
        {
          "name": "stderr",
          "output_type": "stream",
          "text": [
            "C:\\Users\\nshre\\AppData\\Local\\Temp\\ipykernel_12864\\3238755345.py:1: SettingWithCopyWarning: \n",
            "A value is trying to be set on a copy of a slice from a DataFrame.\n",
            "Try using .loc[row_indexer,col_indexer] = value instead\n",
            "\n",
            "See the caveats in the documentation: https://pandas.pydata.org/pandas-docs/stable/user_guide/indexing.html#returning-a-view-versus-a-copy\n",
            "  X_train['row_group_ind'] = X_train['row_group_ind'].astype(str)\n"
          ]
        },
        {
          "data": {
            "text/plain": [
              "{'row_group_ind': ['4', '1', '5', '3', '2', '6', '0', '7']}"
            ]
          },
          "metadata": {},
          "output_type": "display_data"
        }
      ],
      "source": [
        "X_train['row_group_ind'] = X_train['row_group_ind'].astype(str)\n",
        "var_dict_train_ ={}\n",
        "\n",
        "for col in ['row_group_ind']:\n",
        "  var_dict_train_[col] = [x for x in X_train[col].value_counts().sort_values(ascending=False).index]\n",
        "\n",
        "\n",
        "display(var_dict_train_)"
      ]
    },
    {
      "cell_type": "code",
      "execution_count": 21,
      "metadata": {},
      "outputs": [
        {
          "name": "stderr",
          "output_type": "stream",
          "text": [
            "C:\\Users\\nshre\\AppData\\Local\\Temp\\ipykernel_12864\\2297884223.py:4: SettingWithCopyWarning: \n",
            "A value is trying to be set on a copy of a slice from a DataFrame.\n",
            "Try using .loc[row_indexer,col_indexer] = value instead\n",
            "\n",
            "See the caveats in the documentation: https://pandas.pydata.org/pandas-docs/stable/user_guide/indexing.html#returning-a-view-versus-a-copy\n",
            "  df[feature+'_'+category]=np.where(df[feature]==category,1,0)\n",
            "C:\\Users\\nshre\\AppData\\Local\\Temp\\ipykernel_12864\\2297884223.py:4: SettingWithCopyWarning: \n",
            "A value is trying to be set on a copy of a slice from a DataFrame.\n",
            "Try using .loc[row_indexer,col_indexer] = value instead\n",
            "\n",
            "See the caveats in the documentation: https://pandas.pydata.org/pandas-docs/stable/user_guide/indexing.html#returning-a-view-versus-a-copy\n",
            "  df[feature+'_'+category]=np.where(df[feature]==category,1,0)\n",
            "C:\\Users\\nshre\\AppData\\Local\\Temp\\ipykernel_12864\\2297884223.py:4: SettingWithCopyWarning: \n",
            "A value is trying to be set on a copy of a slice from a DataFrame.\n",
            "Try using .loc[row_indexer,col_indexer] = value instead\n",
            "\n",
            "See the caveats in the documentation: https://pandas.pydata.org/pandas-docs/stable/user_guide/indexing.html#returning-a-view-versus-a-copy\n",
            "  df[feature+'_'+category]=np.where(df[feature]==category,1,0)\n",
            "C:\\Users\\nshre\\AppData\\Local\\Temp\\ipykernel_12864\\2297884223.py:4: SettingWithCopyWarning: \n",
            "A value is trying to be set on a copy of a slice from a DataFrame.\n",
            "Try using .loc[row_indexer,col_indexer] = value instead\n",
            "\n",
            "See the caveats in the documentation: https://pandas.pydata.org/pandas-docs/stable/user_guide/indexing.html#returning-a-view-versus-a-copy\n",
            "  df[feature+'_'+category]=np.where(df[feature]==category,1,0)\n",
            "C:\\Users\\nshre\\AppData\\Local\\Temp\\ipykernel_12864\\2297884223.py:4: SettingWithCopyWarning: \n",
            "A value is trying to be set on a copy of a slice from a DataFrame.\n",
            "Try using .loc[row_indexer,col_indexer] = value instead\n",
            "\n",
            "See the caveats in the documentation: https://pandas.pydata.org/pandas-docs/stable/user_guide/indexing.html#returning-a-view-versus-a-copy\n",
            "  df[feature+'_'+category]=np.where(df[feature]==category,1,0)\n",
            "C:\\Users\\nshre\\AppData\\Local\\Temp\\ipykernel_12864\\2297884223.py:4: SettingWithCopyWarning: \n",
            "A value is trying to be set on a copy of a slice from a DataFrame.\n",
            "Try using .loc[row_indexer,col_indexer] = value instead\n",
            "\n",
            "See the caveats in the documentation: https://pandas.pydata.org/pandas-docs/stable/user_guide/indexing.html#returning-a-view-versus-a-copy\n",
            "  df[feature+'_'+category]=np.where(df[feature]==category,1,0)\n",
            "C:\\Users\\nshre\\AppData\\Local\\Temp\\ipykernel_12864\\2297884223.py:4: SettingWithCopyWarning: \n",
            "A value is trying to be set on a copy of a slice from a DataFrame.\n",
            "Try using .loc[row_indexer,col_indexer] = value instead\n",
            "\n",
            "See the caveats in the documentation: https://pandas.pydata.org/pandas-docs/stable/user_guide/indexing.html#returning-a-view-versus-a-copy\n",
            "  df[feature+'_'+category]=np.where(df[feature]==category,1,0)\n",
            "C:\\Users\\nshre\\AppData\\Local\\Temp\\ipykernel_12864\\2297884223.py:4: SettingWithCopyWarning: \n",
            "A value is trying to be set on a copy of a slice from a DataFrame.\n",
            "Try using .loc[row_indexer,col_indexer] = value instead\n",
            "\n",
            "See the caveats in the documentation: https://pandas.pydata.org/pandas-docs/stable/user_guide/indexing.html#returning-a-view-versus-a-copy\n",
            "  df[feature+'_'+category]=np.where(df[feature]==category,1,0)\n",
            "C:\\Users\\nshre\\AppData\\Local\\Temp\\ipykernel_12864\\2297884223.py:4: SettingWithCopyWarning: \n",
            "A value is trying to be set on a copy of a slice from a DataFrame.\n",
            "Try using .loc[row_indexer,col_indexer] = value instead\n",
            "\n",
            "See the caveats in the documentation: https://pandas.pydata.org/pandas-docs/stable/user_guide/indexing.html#returning-a-view-versus-a-copy\n",
            "  df[feature+'_'+category]=np.where(df[feature]==category,1,0)\n",
            "C:\\Users\\nshre\\AppData\\Local\\Temp\\ipykernel_12864\\2297884223.py:4: SettingWithCopyWarning: \n",
            "A value is trying to be set on a copy of a slice from a DataFrame.\n",
            "Try using .loc[row_indexer,col_indexer] = value instead\n",
            "\n",
            "See the caveats in the documentation: https://pandas.pydata.org/pandas-docs/stable/user_guide/indexing.html#returning-a-view-versus-a-copy\n",
            "  df[feature+'_'+category]=np.where(df[feature]==category,1,0)\n",
            "C:\\Users\\nshre\\AppData\\Local\\Temp\\ipykernel_12864\\2297884223.py:4: SettingWithCopyWarning: \n",
            "A value is trying to be set on a copy of a slice from a DataFrame.\n",
            "Try using .loc[row_indexer,col_indexer] = value instead\n",
            "\n",
            "See the caveats in the documentation: https://pandas.pydata.org/pandas-docs/stable/user_guide/indexing.html#returning-a-view-versus-a-copy\n",
            "  df[feature+'_'+category]=np.where(df[feature]==category,1,0)\n",
            "C:\\Users\\nshre\\AppData\\Local\\Temp\\ipykernel_12864\\2297884223.py:4: SettingWithCopyWarning: \n",
            "A value is trying to be set on a copy of a slice from a DataFrame.\n",
            "Try using .loc[row_indexer,col_indexer] = value instead\n",
            "\n",
            "See the caveats in the documentation: https://pandas.pydata.org/pandas-docs/stable/user_guide/indexing.html#returning-a-view-versus-a-copy\n",
            "  df[feature+'_'+category]=np.where(df[feature]==category,1,0)\n",
            "C:\\Users\\nshre\\AppData\\Local\\Temp\\ipykernel_12864\\2297884223.py:4: SettingWithCopyWarning: \n",
            "A value is trying to be set on a copy of a slice from a DataFrame.\n",
            "Try using .loc[row_indexer,col_indexer] = value instead\n",
            "\n",
            "See the caveats in the documentation: https://pandas.pydata.org/pandas-docs/stable/user_guide/indexing.html#returning-a-view-versus-a-copy\n",
            "  df[feature+'_'+category]=np.where(df[feature]==category,1,0)\n",
            "C:\\Users\\nshre\\AppData\\Local\\Temp\\ipykernel_12864\\2297884223.py:4: SettingWithCopyWarning: \n",
            "A value is trying to be set on a copy of a slice from a DataFrame.\n",
            "Try using .loc[row_indexer,col_indexer] = value instead\n",
            "\n",
            "See the caveats in the documentation: https://pandas.pydata.org/pandas-docs/stable/user_guide/indexing.html#returning-a-view-versus-a-copy\n",
            "  df[feature+'_'+category]=np.where(df[feature]==category,1,0)\n",
            "C:\\Users\\nshre\\AppData\\Local\\Temp\\ipykernel_12864\\2297884223.py:4: SettingWithCopyWarning: \n",
            "A value is trying to be set on a copy of a slice from a DataFrame.\n",
            "Try using .loc[row_indexer,col_indexer] = value instead\n",
            "\n",
            "See the caveats in the documentation: https://pandas.pydata.org/pandas-docs/stable/user_guide/indexing.html#returning-a-view-versus-a-copy\n",
            "  df[feature+'_'+category]=np.where(df[feature]==category,1,0)\n",
            "C:\\Users\\nshre\\AppData\\Local\\Temp\\ipykernel_12864\\2297884223.py:4: SettingWithCopyWarning: \n",
            "A value is trying to be set on a copy of a slice from a DataFrame.\n",
            "Try using .loc[row_indexer,col_indexer] = value instead\n",
            "\n",
            "See the caveats in the documentation: https://pandas.pydata.org/pandas-docs/stable/user_guide/indexing.html#returning-a-view-versus-a-copy\n",
            "  df[feature+'_'+category]=np.where(df[feature]==category,1,0)\n"
          ]
        },
        {
          "data": {
            "text/html": [
              "<div>\n",
              "<style scoped>\n",
              "    .dataframe tbody tr th:only-of-type {\n",
              "        vertical-align: middle;\n",
              "    }\n",
              "\n",
              "    .dataframe tbody tr th {\n",
              "        vertical-align: top;\n",
              "    }\n",
              "\n",
              "    .dataframe thead th {\n",
              "        text-align: right;\n",
              "    }\n",
              "</style>\n",
              "<table border=\"1\" class=\"dataframe\">\n",
              "  <thead>\n",
              "    <tr style=\"text-align: right;\">\n",
              "      <th></th>\n",
              "      <th>region_id</th>\n",
              "      <th>warehouse_id</th>\n",
              "      <th>d_id</th>\n",
              "      <th>isbn_id</th>\n",
              "      <th>order_id</th>\n",
              "      <th>order_date</th>\n",
              "      <th>evsd</th>\n",
              "      <th>po_source_ind</th>\n",
              "      <th>quantity_ordered</th>\n",
              "      <th>quantity_submitted</th>\n",
              "      <th>quantity_received</th>\n",
              "      <th>row_group_ind</th>\n",
              "      <th>visibility</th>\n",
              "      <th>tag</th>\n",
              "      <th>unique_id</th>\n",
              "      <th>order_delivery_days</th>\n",
              "      <th>d_id_509</th>\n",
              "      <th>d_id_584</th>\n",
              "      <th>d_id_540</th>\n",
              "      <th>d_id_648</th>\n",
              "      <th>d_id_410</th>\n",
              "      <th>d_id_7</th>\n",
              "      <th>d_id_1</th>\n",
              "      <th>d_id_643</th>\n",
              "      <th>d_id_454</th>\n",
              "      <th>d_id_110</th>\n",
              "      <th>isbn_id_4595</th>\n",
              "      <th>isbn_id_26550</th>\n",
              "      <th>isbn_id_27825</th>\n",
              "      <th>isbn_id_14820</th>\n",
              "      <th>isbn_id_19934</th>\n",
              "      <th>isbn_id_29771</th>\n",
              "      <th>isbn_id_7865</th>\n",
              "      <th>isbn_id_31986</th>\n",
              "      <th>isbn_id_6790</th>\n",
              "      <th>isbn_id_8453</th>\n",
              "      <th>po_source_ind_AFT_Lite</th>\n",
              "      <th>row_group_ind_4</th>\n",
              "      <th>row_group_ind_1</th>\n",
              "      <th>row_group_ind_5</th>\n",
              "      <th>row_group_ind_3</th>\n",
              "      <th>row_group_ind_2</th>\n",
              "      <th>row_group_ind_6</th>\n",
              "      <th>row_group_ind_0</th>\n",
              "      <th>row_group_ind_7</th>\n",
              "    </tr>\n",
              "  </thead>\n",
              "  <tbody>\n",
              "    <tr>\n",
              "      <th>2</th>\n",
              "      <td>1</td>\n",
              "      <td>JFK2</td>\n",
              "      <td>648</td>\n",
              "      <td>16750</td>\n",
              "      <td>11165</td>\n",
              "      <td>2022-09-30</td>\n",
              "      <td>2022-10-03</td>\n",
              "      <td>AFT Lite</td>\n",
              "      <td>6</td>\n",
              "      <td>6</td>\n",
              "      <td>6</td>\n",
              "      <td>1</td>\n",
              "      <td>2</td>\n",
              "      <td>train</td>\n",
              "      <td>JFK2_648_16750_11165                          ...</td>\n",
              "      <td>3</td>\n",
              "      <td>0</td>\n",
              "      <td>0</td>\n",
              "      <td>0</td>\n",
              "      <td>1</td>\n",
              "      <td>0</td>\n",
              "      <td>0</td>\n",
              "      <td>0</td>\n",
              "      <td>0</td>\n",
              "      <td>0</td>\n",
              "      <td>0</td>\n",
              "      <td>0</td>\n",
              "      <td>0</td>\n",
              "      <td>0</td>\n",
              "      <td>0</td>\n",
              "      <td>0</td>\n",
              "      <td>0</td>\n",
              "      <td>0</td>\n",
              "      <td>0</td>\n",
              "      <td>0</td>\n",
              "      <td>0</td>\n",
              "      <td>1</td>\n",
              "      <td>0</td>\n",
              "      <td>1</td>\n",
              "      <td>0</td>\n",
              "      <td>0</td>\n",
              "      <td>0</td>\n",
              "      <td>0</td>\n",
              "      <td>0</td>\n",
              "      <td>0</td>\n",
              "    </tr>\n",
              "    <tr>\n",
              "      <th>3</th>\n",
              "      <td>1</td>\n",
              "      <td>JFK2</td>\n",
              "      <td>648</td>\n",
              "      <td>16750</td>\n",
              "      <td>27008</td>\n",
              "      <td>2022-10-14</td>\n",
              "      <td>2022-10-17</td>\n",
              "      <td>AFT Lite</td>\n",
              "      <td>6</td>\n",
              "      <td>6</td>\n",
              "      <td>6</td>\n",
              "      <td>2</td>\n",
              "      <td>2</td>\n",
              "      <td>train</td>\n",
              "      <td>JFK2_648_16750_27008                          ...</td>\n",
              "      <td>3</td>\n",
              "      <td>0</td>\n",
              "      <td>0</td>\n",
              "      <td>0</td>\n",
              "      <td>1</td>\n",
              "      <td>0</td>\n",
              "      <td>0</td>\n",
              "      <td>0</td>\n",
              "      <td>0</td>\n",
              "      <td>0</td>\n",
              "      <td>0</td>\n",
              "      <td>0</td>\n",
              "      <td>0</td>\n",
              "      <td>0</td>\n",
              "      <td>0</td>\n",
              "      <td>0</td>\n",
              "      <td>0</td>\n",
              "      <td>0</td>\n",
              "      <td>0</td>\n",
              "      <td>0</td>\n",
              "      <td>0</td>\n",
              "      <td>1</td>\n",
              "      <td>0</td>\n",
              "      <td>0</td>\n",
              "      <td>0</td>\n",
              "      <td>0</td>\n",
              "      <td>1</td>\n",
              "      <td>0</td>\n",
              "      <td>0</td>\n",
              "      <td>0</td>\n",
              "    </tr>\n",
              "    <tr>\n",
              "      <th>8</th>\n",
              "      <td>1</td>\n",
              "      <td>JFK2</td>\n",
              "      <td>584</td>\n",
              "      <td>29062</td>\n",
              "      <td>62664</td>\n",
              "      <td>2022-10-17</td>\n",
              "      <td>2022-10-19</td>\n",
              "      <td>AFT Lite</td>\n",
              "      <td>12</td>\n",
              "      <td>12</td>\n",
              "      <td>12</td>\n",
              "      <td>5</td>\n",
              "      <td>1</td>\n",
              "      <td>train</td>\n",
              "      <td>JFK2_584_29062_62664                          ...</td>\n",
              "      <td>2</td>\n",
              "      <td>0</td>\n",
              "      <td>1</td>\n",
              "      <td>0</td>\n",
              "      <td>0</td>\n",
              "      <td>0</td>\n",
              "      <td>0</td>\n",
              "      <td>0</td>\n",
              "      <td>0</td>\n",
              "      <td>0</td>\n",
              "      <td>0</td>\n",
              "      <td>0</td>\n",
              "      <td>0</td>\n",
              "      <td>0</td>\n",
              "      <td>0</td>\n",
              "      <td>0</td>\n",
              "      <td>0</td>\n",
              "      <td>0</td>\n",
              "      <td>0</td>\n",
              "      <td>0</td>\n",
              "      <td>0</td>\n",
              "      <td>1</td>\n",
              "      <td>0</td>\n",
              "      <td>0</td>\n",
              "      <td>1</td>\n",
              "      <td>0</td>\n",
              "      <td>0</td>\n",
              "      <td>0</td>\n",
              "      <td>0</td>\n",
              "      <td>0</td>\n",
              "    </tr>\n",
              "    <tr>\n",
              "      <th>9</th>\n",
              "      <td>1</td>\n",
              "      <td>JFK2</td>\n",
              "      <td>393</td>\n",
              "      <td>24754</td>\n",
              "      <td>91483</td>\n",
              "      <td>2022-10-19</td>\n",
              "      <td>2022-10-28</td>\n",
              "      <td>AFT Lite</td>\n",
              "      <td>16</td>\n",
              "      <td>16</td>\n",
              "      <td>16</td>\n",
              "      <td>7</td>\n",
              "      <td>6</td>\n",
              "      <td>train</td>\n",
              "      <td>JFK2_393_24754_91483                          ...</td>\n",
              "      <td>9</td>\n",
              "      <td>0</td>\n",
              "      <td>0</td>\n",
              "      <td>0</td>\n",
              "      <td>0</td>\n",
              "      <td>0</td>\n",
              "      <td>0</td>\n",
              "      <td>0</td>\n",
              "      <td>0</td>\n",
              "      <td>0</td>\n",
              "      <td>0</td>\n",
              "      <td>0</td>\n",
              "      <td>0</td>\n",
              "      <td>0</td>\n",
              "      <td>0</td>\n",
              "      <td>0</td>\n",
              "      <td>0</td>\n",
              "      <td>0</td>\n",
              "      <td>0</td>\n",
              "      <td>0</td>\n",
              "      <td>0</td>\n",
              "      <td>1</td>\n",
              "      <td>0</td>\n",
              "      <td>0</td>\n",
              "      <td>0</td>\n",
              "      <td>0</td>\n",
              "      <td>0</td>\n",
              "      <td>0</td>\n",
              "      <td>0</td>\n",
              "      <td>1</td>\n",
              "    </tr>\n",
              "    <tr>\n",
              "      <th>11</th>\n",
              "      <td>1</td>\n",
              "      <td>JFK2</td>\n",
              "      <td>7</td>\n",
              "      <td>27826</td>\n",
              "      <td>175768</td>\n",
              "      <td>2022-10-11</td>\n",
              "      <td>2022-10-12</td>\n",
              "      <td>AFT Lite</td>\n",
              "      <td>24</td>\n",
              "      <td>24</td>\n",
              "      <td>24</td>\n",
              "      <td>5</td>\n",
              "      <td>1</td>\n",
              "      <td>train</td>\n",
              "      <td>JFK2_7_27826_175768                           ...</td>\n",
              "      <td>1</td>\n",
              "      <td>0</td>\n",
              "      <td>0</td>\n",
              "      <td>0</td>\n",
              "      <td>0</td>\n",
              "      <td>0</td>\n",
              "      <td>1</td>\n",
              "      <td>0</td>\n",
              "      <td>0</td>\n",
              "      <td>0</td>\n",
              "      <td>0</td>\n",
              "      <td>0</td>\n",
              "      <td>0</td>\n",
              "      <td>0</td>\n",
              "      <td>0</td>\n",
              "      <td>0</td>\n",
              "      <td>0</td>\n",
              "      <td>0</td>\n",
              "      <td>0</td>\n",
              "      <td>0</td>\n",
              "      <td>0</td>\n",
              "      <td>1</td>\n",
              "      <td>0</td>\n",
              "      <td>0</td>\n",
              "      <td>1</td>\n",
              "      <td>0</td>\n",
              "      <td>0</td>\n",
              "      <td>0</td>\n",
              "      <td>0</td>\n",
              "      <td>0</td>\n",
              "    </tr>\n",
              "  </tbody>\n",
              "</table>\n",
              "</div>"
            ],
            "text/plain": [
              "    region_id warehouse_id d_id isbn_id order_id order_date       evsd   \n",
              "2           1         JFK2  648   16750    11165 2022-09-30 2022-10-03  \\\n",
              "3           1         JFK2  648   16750    27008 2022-10-14 2022-10-17   \n",
              "8           1         JFK2  584   29062    62664 2022-10-17 2022-10-19   \n",
              "9           1         JFK2  393   24754    91483 2022-10-19 2022-10-28   \n",
              "11          1         JFK2    7   27826   175768 2022-10-11 2022-10-12   \n",
              "\n",
              "   po_source_ind  quantity_ordered  quantity_submitted  quantity_received   \n",
              "2       AFT Lite                 6                   6                  6  \\\n",
              "3       AFT Lite                 6                   6                  6   \n",
              "8       AFT Lite                12                  12                 12   \n",
              "9       AFT Lite                16                  16                 16   \n",
              "11      AFT Lite                24                  24                 24   \n",
              "\n",
              "   row_group_ind  visibility    tag   \n",
              "2              1           2  train  \\\n",
              "3              2           2  train   \n",
              "8              5           1  train   \n",
              "9              7           6  train   \n",
              "11             5           1  train   \n",
              "\n",
              "                                            unique_id  order_delivery_days   \n",
              "2   JFK2_648_16750_11165                          ...                    3  \\\n",
              "3   JFK2_648_16750_27008                          ...                    3   \n",
              "8   JFK2_584_29062_62664                          ...                    2   \n",
              "9   JFK2_393_24754_91483                          ...                    9   \n",
              "11  JFK2_7_27826_175768                           ...                    1   \n",
              "\n",
              "    d_id_509  d_id_584  d_id_540  d_id_648  d_id_410  d_id_7  d_id_1   \n",
              "2          0         0         0         1         0       0       0  \\\n",
              "3          0         0         0         1         0       0       0   \n",
              "8          0         1         0         0         0       0       0   \n",
              "9          0         0         0         0         0       0       0   \n",
              "11         0         0         0         0         0       1       0   \n",
              "\n",
              "    d_id_643  d_id_454  d_id_110  isbn_id_4595  isbn_id_26550  isbn_id_27825   \n",
              "2          0         0         0             0              0              0  \\\n",
              "3          0         0         0             0              0              0   \n",
              "8          0         0         0             0              0              0   \n",
              "9          0         0         0             0              0              0   \n",
              "11         0         0         0             0              0              0   \n",
              "\n",
              "    isbn_id_14820  isbn_id_19934  isbn_id_29771  isbn_id_7865  isbn_id_31986   \n",
              "2               0              0              0             0              0  \\\n",
              "3               0              0              0             0              0   \n",
              "8               0              0              0             0              0   \n",
              "9               0              0              0             0              0   \n",
              "11              0              0              0             0              0   \n",
              "\n",
              "    isbn_id_6790  isbn_id_8453  po_source_ind_AFT_Lite  row_group_ind_4   \n",
              "2              0             0                       1                0  \\\n",
              "3              0             0                       1                0   \n",
              "8              0             0                       1                0   \n",
              "9              0             0                       1                0   \n",
              "11             0             0                       1                0   \n",
              "\n",
              "    row_group_ind_1  row_group_ind_5  row_group_ind_3  row_group_ind_2   \n",
              "2                 1                0                0                0  \\\n",
              "3                 0                0                0                1   \n",
              "8                 0                1                0                0   \n",
              "9                 0                0                0                0   \n",
              "11                0                1                0                0   \n",
              "\n",
              "    row_group_ind_6  row_group_ind_0  row_group_ind_7  \n",
              "2                 0                0                0  \n",
              "3                 0                0                0  \n",
              "8                 0                0                0  \n",
              "9                 0                0                1  \n",
              "11                0                0                0  "
            ]
          },
          "metadata": {},
          "output_type": "display_data"
        },
        {
          "data": {
            "text/html": [
              "<div>\n",
              "<style scoped>\n",
              "    .dataframe tbody tr th:only-of-type {\n",
              "        vertical-align: middle;\n",
              "    }\n",
              "\n",
              "    .dataframe tbody tr th {\n",
              "        vertical-align: top;\n",
              "    }\n",
              "\n",
              "    .dataframe thead th {\n",
              "        text-align: right;\n",
              "    }\n",
              "</style>\n",
              "<table border=\"1\" class=\"dataframe\">\n",
              "  <thead>\n",
              "    <tr style=\"text-align: right;\">\n",
              "      <th></th>\n",
              "      <th>region_id</th>\n",
              "      <th>warehouse_id</th>\n",
              "      <th>d_id</th>\n",
              "      <th>isbn_id</th>\n",
              "      <th>order_id</th>\n",
              "      <th>order_date</th>\n",
              "      <th>evsd</th>\n",
              "      <th>po_source_ind</th>\n",
              "      <th>quantity_ordered</th>\n",
              "      <th>quantity_submitted</th>\n",
              "      <th>quantity_received</th>\n",
              "      <th>row_group_ind</th>\n",
              "      <th>visibility</th>\n",
              "      <th>tag</th>\n",
              "      <th>unique_id</th>\n",
              "      <th>order_delivery_days</th>\n",
              "      <th>d_id_509</th>\n",
              "      <th>d_id_584</th>\n",
              "      <th>d_id_540</th>\n",
              "      <th>d_id_648</th>\n",
              "      <th>d_id_410</th>\n",
              "      <th>d_id_7</th>\n",
              "      <th>d_id_1</th>\n",
              "      <th>d_id_643</th>\n",
              "      <th>d_id_454</th>\n",
              "      <th>d_id_110</th>\n",
              "      <th>isbn_id_4595</th>\n",
              "      <th>isbn_id_26550</th>\n",
              "      <th>isbn_id_27825</th>\n",
              "      <th>isbn_id_14820</th>\n",
              "      <th>isbn_id_19934</th>\n",
              "      <th>isbn_id_29771</th>\n",
              "      <th>isbn_id_7865</th>\n",
              "      <th>isbn_id_31986</th>\n",
              "      <th>isbn_id_6790</th>\n",
              "      <th>isbn_id_8453</th>\n",
              "      <th>po_source_ind_AFT_Lite</th>\n",
              "      <th>row_group_ind_4</th>\n",
              "      <th>row_group_ind_1</th>\n",
              "      <th>row_group_ind_5</th>\n",
              "      <th>row_group_ind_3</th>\n",
              "      <th>row_group_ind_2</th>\n",
              "      <th>row_group_ind_6</th>\n",
              "      <th>row_group_ind_0</th>\n",
              "      <th>row_group_ind_7</th>\n",
              "    </tr>\n",
              "  </thead>\n",
              "  <tbody>\n",
              "    <tr>\n",
              "      <th>0</th>\n",
              "      <td>1</td>\n",
              "      <td>JFK2</td>\n",
              "      <td>540</td>\n",
              "      <td>30718</td>\n",
              "      <td>67271</td>\n",
              "      <td>2022-11-02</td>\n",
              "      <td>2022-11-14</td>\n",
              "      <td>AFT Lite</td>\n",
              "      <td>54</td>\n",
              "      <td>54</td>\n",
              "      <td>54</td>\n",
              "      <td>4</td>\n",
              "      <td>9</td>\n",
              "      <td>train</td>\n",
              "      <td>JFK2_540_30718_67271                          ...</td>\n",
              "      <td>12</td>\n",
              "      <td>0</td>\n",
              "      <td>0</td>\n",
              "      <td>1</td>\n",
              "      <td>0</td>\n",
              "      <td>0</td>\n",
              "      <td>0</td>\n",
              "      <td>0</td>\n",
              "      <td>0</td>\n",
              "      <td>0</td>\n",
              "      <td>0</td>\n",
              "      <td>0</td>\n",
              "      <td>0</td>\n",
              "      <td>0</td>\n",
              "      <td>0</td>\n",
              "      <td>0</td>\n",
              "      <td>0</td>\n",
              "      <td>0</td>\n",
              "      <td>0</td>\n",
              "      <td>0</td>\n",
              "      <td>0</td>\n",
              "      <td>1</td>\n",
              "      <td>0</td>\n",
              "      <td>0</td>\n",
              "      <td>0</td>\n",
              "      <td>0</td>\n",
              "      <td>0</td>\n",
              "      <td>0</td>\n",
              "      <td>0</td>\n",
              "      <td>0</td>\n",
              "    </tr>\n",
              "    <tr>\n",
              "      <th>1</th>\n",
              "      <td>1</td>\n",
              "      <td>JFK2</td>\n",
              "      <td>540</td>\n",
              "      <td>30718</td>\n",
              "      <td>125389</td>\n",
              "      <td>2022-11-20</td>\n",
              "      <td>2022-12-01</td>\n",
              "      <td>AFT Lite</td>\n",
              "      <td>60</td>\n",
              "      <td>60</td>\n",
              "      <td>60</td>\n",
              "      <td>5</td>\n",
              "      <td>3</td>\n",
              "      <td>train</td>\n",
              "      <td>JFK2_540_30718_125389                         ...</td>\n",
              "      <td>11</td>\n",
              "      <td>0</td>\n",
              "      <td>0</td>\n",
              "      <td>1</td>\n",
              "      <td>0</td>\n",
              "      <td>0</td>\n",
              "      <td>0</td>\n",
              "      <td>0</td>\n",
              "      <td>0</td>\n",
              "      <td>0</td>\n",
              "      <td>0</td>\n",
              "      <td>0</td>\n",
              "      <td>0</td>\n",
              "      <td>0</td>\n",
              "      <td>0</td>\n",
              "      <td>0</td>\n",
              "      <td>0</td>\n",
              "      <td>0</td>\n",
              "      <td>0</td>\n",
              "      <td>0</td>\n",
              "      <td>0</td>\n",
              "      <td>1</td>\n",
              "      <td>0</td>\n",
              "      <td>0</td>\n",
              "      <td>0</td>\n",
              "      <td>0</td>\n",
              "      <td>0</td>\n",
              "      <td>0</td>\n",
              "      <td>0</td>\n",
              "      <td>0</td>\n",
              "    </tr>\n",
              "    <tr>\n",
              "      <th>4</th>\n",
              "      <td>1</td>\n",
              "      <td>JFK2</td>\n",
              "      <td>7</td>\n",
              "      <td>8748</td>\n",
              "      <td>33598</td>\n",
              "      <td>2022-11-15</td>\n",
              "      <td>2022-11-16</td>\n",
              "      <td>AFT Lite</td>\n",
              "      <td>8</td>\n",
              "      <td>8</td>\n",
              "      <td>8</td>\n",
              "      <td>1</td>\n",
              "      <td>1</td>\n",
              "      <td>train</td>\n",
              "      <td>JFK2_7_8748_33598                           _2...</td>\n",
              "      <td>1</td>\n",
              "      <td>0</td>\n",
              "      <td>0</td>\n",
              "      <td>0</td>\n",
              "      <td>0</td>\n",
              "      <td>0</td>\n",
              "      <td>1</td>\n",
              "      <td>0</td>\n",
              "      <td>0</td>\n",
              "      <td>0</td>\n",
              "      <td>0</td>\n",
              "      <td>0</td>\n",
              "      <td>0</td>\n",
              "      <td>0</td>\n",
              "      <td>0</td>\n",
              "      <td>0</td>\n",
              "      <td>0</td>\n",
              "      <td>0</td>\n",
              "      <td>0</td>\n",
              "      <td>0</td>\n",
              "      <td>0</td>\n",
              "      <td>1</td>\n",
              "      <td>0</td>\n",
              "      <td>0</td>\n",
              "      <td>0</td>\n",
              "      <td>0</td>\n",
              "      <td>0</td>\n",
              "      <td>0</td>\n",
              "      <td>0</td>\n",
              "      <td>0</td>\n",
              "    </tr>\n",
              "    <tr>\n",
              "      <th>5</th>\n",
              "      <td>1</td>\n",
              "      <td>JFK2</td>\n",
              "      <td>7</td>\n",
              "      <td>8748</td>\n",
              "      <td>142228</td>\n",
              "      <td>2022-11-01</td>\n",
              "      <td>2022-11-02</td>\n",
              "      <td>AFT Lite</td>\n",
              "      <td>16</td>\n",
              "      <td>16</td>\n",
              "      <td>16</td>\n",
              "      <td>3</td>\n",
              "      <td>1</td>\n",
              "      <td>train</td>\n",
              "      <td>JFK2_7_8748_142228                           _...</td>\n",
              "      <td>1</td>\n",
              "      <td>0</td>\n",
              "      <td>0</td>\n",
              "      <td>0</td>\n",
              "      <td>0</td>\n",
              "      <td>0</td>\n",
              "      <td>1</td>\n",
              "      <td>0</td>\n",
              "      <td>0</td>\n",
              "      <td>0</td>\n",
              "      <td>0</td>\n",
              "      <td>0</td>\n",
              "      <td>0</td>\n",
              "      <td>0</td>\n",
              "      <td>0</td>\n",
              "      <td>0</td>\n",
              "      <td>0</td>\n",
              "      <td>0</td>\n",
              "      <td>0</td>\n",
              "      <td>0</td>\n",
              "      <td>0</td>\n",
              "      <td>1</td>\n",
              "      <td>0</td>\n",
              "      <td>0</td>\n",
              "      <td>0</td>\n",
              "      <td>0</td>\n",
              "      <td>0</td>\n",
              "      <td>0</td>\n",
              "      <td>0</td>\n",
              "      <td>0</td>\n",
              "    </tr>\n",
              "    <tr>\n",
              "      <th>6</th>\n",
              "      <td>1</td>\n",
              "      <td>JFK2</td>\n",
              "      <td>7</td>\n",
              "      <td>8748</td>\n",
              "      <td>27330</td>\n",
              "      <td>2022-11-05</td>\n",
              "      <td>2022-11-06</td>\n",
              "      <td>AFT Lite</td>\n",
              "      <td>0</td>\n",
              "      <td>24</td>\n",
              "      <td>0</td>\n",
              "      <td>6</td>\n",
              "      <td>1</td>\n",
              "      <td>train</td>\n",
              "      <td>JFK2_7_8748_27330                           _2...</td>\n",
              "      <td>1</td>\n",
              "      <td>0</td>\n",
              "      <td>0</td>\n",
              "      <td>0</td>\n",
              "      <td>0</td>\n",
              "      <td>0</td>\n",
              "      <td>1</td>\n",
              "      <td>0</td>\n",
              "      <td>0</td>\n",
              "      <td>0</td>\n",
              "      <td>0</td>\n",
              "      <td>0</td>\n",
              "      <td>0</td>\n",
              "      <td>0</td>\n",
              "      <td>0</td>\n",
              "      <td>0</td>\n",
              "      <td>0</td>\n",
              "      <td>0</td>\n",
              "      <td>0</td>\n",
              "      <td>0</td>\n",
              "      <td>0</td>\n",
              "      <td>1</td>\n",
              "      <td>0</td>\n",
              "      <td>0</td>\n",
              "      <td>0</td>\n",
              "      <td>0</td>\n",
              "      <td>0</td>\n",
              "      <td>0</td>\n",
              "      <td>0</td>\n",
              "      <td>0</td>\n",
              "    </tr>\n",
              "  </tbody>\n",
              "</table>\n",
              "</div>"
            ],
            "text/plain": [
              "   region_id warehouse_id d_id isbn_id order_id order_date       evsd   \n",
              "0          1         JFK2  540   30718    67271 2022-11-02 2022-11-14  \\\n",
              "1          1         JFK2  540   30718   125389 2022-11-20 2022-12-01   \n",
              "4          1         JFK2    7    8748    33598 2022-11-15 2022-11-16   \n",
              "5          1         JFK2    7    8748   142228 2022-11-01 2022-11-02   \n",
              "6          1         JFK2    7    8748    27330 2022-11-05 2022-11-06   \n",
              "\n",
              "  po_source_ind  quantity_ordered  quantity_submitted  quantity_received   \n",
              "0      AFT Lite                54                  54                 54  \\\n",
              "1      AFT Lite                60                  60                 60   \n",
              "4      AFT Lite                 8                   8                  8   \n",
              "5      AFT Lite                16                  16                 16   \n",
              "6      AFT Lite                 0                  24                  0   \n",
              "\n",
              "   row_group_ind  visibility    tag   \n",
              "0              4           9  train  \\\n",
              "1              5           3  train   \n",
              "4              1           1  train   \n",
              "5              3           1  train   \n",
              "6              6           1  train   \n",
              "\n",
              "                                           unique_id  order_delivery_days   \n",
              "0  JFK2_540_30718_67271                          ...                   12  \\\n",
              "1  JFK2_540_30718_125389                         ...                   11   \n",
              "4  JFK2_7_8748_33598                           _2...                    1   \n",
              "5  JFK2_7_8748_142228                           _...                    1   \n",
              "6  JFK2_7_8748_27330                           _2...                    1   \n",
              "\n",
              "   d_id_509  d_id_584  d_id_540  d_id_648  d_id_410  d_id_7  d_id_1  d_id_643   \n",
              "0         0         0         1         0         0       0       0         0  \\\n",
              "1         0         0         1         0         0       0       0         0   \n",
              "4         0         0         0         0         0       1       0         0   \n",
              "5         0         0         0         0         0       1       0         0   \n",
              "6         0         0         0         0         0       1       0         0   \n",
              "\n",
              "   d_id_454  d_id_110  isbn_id_4595  isbn_id_26550  isbn_id_27825   \n",
              "0         0         0             0              0              0  \\\n",
              "1         0         0             0              0              0   \n",
              "4         0         0             0              0              0   \n",
              "5         0         0             0              0              0   \n",
              "6         0         0             0              0              0   \n",
              "\n",
              "   isbn_id_14820  isbn_id_19934  isbn_id_29771  isbn_id_7865  isbn_id_31986   \n",
              "0              0              0              0             0              0  \\\n",
              "1              0              0              0             0              0   \n",
              "4              0              0              0             0              0   \n",
              "5              0              0              0             0              0   \n",
              "6              0              0              0             0              0   \n",
              "\n",
              "   isbn_id_6790  isbn_id_8453  po_source_ind_AFT_Lite  row_group_ind_4   \n",
              "0             0             0                       1                0  \\\n",
              "1             0             0                       1                0   \n",
              "4             0             0                       1                0   \n",
              "5             0             0                       1                0   \n",
              "6             0             0                       1                0   \n",
              "\n",
              "   row_group_ind_1  row_group_ind_5  row_group_ind_3  row_group_ind_2   \n",
              "0                0                0                0                0  \\\n",
              "1                0                0                0                0   \n",
              "4                0                0                0                0   \n",
              "5                0                0                0                0   \n",
              "6                0                0                0                0   \n",
              "\n",
              "   row_group_ind_6  row_group_ind_0  row_group_ind_7  \n",
              "0                0                0                0  \n",
              "1                0                0                0  \n",
              "4                0                0                0  \n",
              "5                0                0                0  \n",
              "6                0                0                0  "
            ]
          },
          "metadata": {},
          "output_type": "display_data"
        }
      ],
      "source": [
        "for key,val in var_dict_train_.items():\n",
        "  one_hot_top10(X_train,key,val)\n",
        "\n",
        "for key,val in var_dict_train_.items():\n",
        "  one_hot_top10(X_valid,key,val)\n",
        "\n",
        "display(X_train.head())\n",
        "display(X_valid.head())"
      ]
    },
    {
      "cell_type": "code",
      "execution_count": 23,
      "metadata": {},
      "outputs": [
        {
          "name": "stderr",
          "output_type": "stream",
          "text": [
            "C:\\Users\\nshre\\AppData\\Local\\Temp\\ipykernel_12864\\2288242729.py:1: SettingWithCopyWarning: \n",
            "A value is trying to be set on a copy of a slice from a DataFrame.\n",
            "Try using .loc[row_indexer,col_indexer] = value instead\n",
            "\n",
            "See the caveats in the documentation: https://pandas.pydata.org/pandas-docs/stable/user_guide/indexing.html#returning-a-view-versus-a-copy\n",
            "  X_train['order_day'] = X_train['order_date'].dt.day\n",
            "C:\\Users\\nshre\\AppData\\Local\\Temp\\ipykernel_12864\\2288242729.py:2: SettingWithCopyWarning: \n",
            "A value is trying to be set on a copy of a slice from a DataFrame.\n",
            "Try using .loc[row_indexer,col_indexer] = value instead\n",
            "\n",
            "See the caveats in the documentation: https://pandas.pydata.org/pandas-docs/stable/user_guide/indexing.html#returning-a-view-versus-a-copy\n",
            "  X_train['order_dayofweek'] = X_train['order_date'].dt.dayofweek\n",
            "C:\\Users\\nshre\\AppData\\Local\\Temp\\ipykernel_12864\\2288242729.py:3: SettingWithCopyWarning: \n",
            "A value is trying to be set on a copy of a slice from a DataFrame.\n",
            "Try using .loc[row_indexer,col_indexer] = value instead\n",
            "\n",
            "See the caveats in the documentation: https://pandas.pydata.org/pandas-docs/stable/user_guide/indexing.html#returning-a-view-versus-a-copy\n",
            "  X_train['order_dayofyear'] = X_train['order_date'].dt.dayofyear\n",
            "C:\\Users\\nshre\\AppData\\Local\\Temp\\ipykernel_12864\\2288242729.py:4: SettingWithCopyWarning: \n",
            "A value is trying to be set on a copy of a slice from a DataFrame.\n",
            "Try using .loc[row_indexer,col_indexer] = value instead\n",
            "\n",
            "See the caveats in the documentation: https://pandas.pydata.org/pandas-docs/stable/user_guide/indexing.html#returning-a-view-versus-a-copy\n",
            "  X_train['order_month'] = X_train['order_date'].dt.month\n",
            "C:\\Users\\nshre\\AppData\\Local\\Temp\\ipykernel_12864\\2288242729.py:6: SettingWithCopyWarning: \n",
            "A value is trying to be set on a copy of a slice from a DataFrame.\n",
            "Try using .loc[row_indexer,col_indexer] = value instead\n",
            "\n",
            "See the caveats in the documentation: https://pandas.pydata.org/pandas-docs/stable/user_guide/indexing.html#returning-a-view-versus-a-copy\n",
            "  X_train['delivered_day'] = X_train['evsd'].dt.day\n",
            "C:\\Users\\nshre\\AppData\\Local\\Temp\\ipykernel_12864\\2288242729.py:7: SettingWithCopyWarning: \n",
            "A value is trying to be set on a copy of a slice from a DataFrame.\n",
            "Try using .loc[row_indexer,col_indexer] = value instead\n",
            "\n",
            "See the caveats in the documentation: https://pandas.pydata.org/pandas-docs/stable/user_guide/indexing.html#returning-a-view-versus-a-copy\n",
            "  X_train['delivered_dayofweek'] = X_train['evsd'].dt.dayofweek\n",
            "C:\\Users\\nshre\\AppData\\Local\\Temp\\ipykernel_12864\\2288242729.py:8: SettingWithCopyWarning: \n",
            "A value is trying to be set on a copy of a slice from a DataFrame.\n",
            "Try using .loc[row_indexer,col_indexer] = value instead\n",
            "\n",
            "See the caveats in the documentation: https://pandas.pydata.org/pandas-docs/stable/user_guide/indexing.html#returning-a-view-versus-a-copy\n",
            "  X_train['delivered_dayofyear'] = X_train['evsd'].dt.dayofyear\n",
            "C:\\Users\\nshre\\AppData\\Local\\Temp\\ipykernel_12864\\2288242729.py:9: SettingWithCopyWarning: \n",
            "A value is trying to be set on a copy of a slice from a DataFrame.\n",
            "Try using .loc[row_indexer,col_indexer] = value instead\n",
            "\n",
            "See the caveats in the documentation: https://pandas.pydata.org/pandas-docs/stable/user_guide/indexing.html#returning-a-view-versus-a-copy\n",
            "  X_train['delivered_month'] = X_train['evsd'].dt.month\n",
            "C:\\Users\\nshre\\AppData\\Local\\Temp\\ipykernel_12864\\2288242729.py:11: SettingWithCopyWarning: \n",
            "A value is trying to be set on a copy of a slice from a DataFrame.\n",
            "Try using .loc[row_indexer,col_indexer] = value instead\n",
            "\n",
            "See the caveats in the documentation: https://pandas.pydata.org/pandas-docs/stable/user_guide/indexing.html#returning-a-view-versus-a-copy\n",
            "  X_train['order_month_sin'] = np.sin(2 * np.pi * X_train['order_month'] / 12)\n",
            "C:\\Users\\nshre\\AppData\\Local\\Temp\\ipykernel_12864\\2288242729.py:12: SettingWithCopyWarning: \n",
            "A value is trying to be set on a copy of a slice from a DataFrame.\n",
            "Try using .loc[row_indexer,col_indexer] = value instead\n",
            "\n",
            "See the caveats in the documentation: https://pandas.pydata.org/pandas-docs/stable/user_guide/indexing.html#returning-a-view-versus-a-copy\n",
            "  X_train['order_month_cos'] = np.cos(2 * np.pi * X_train['order_month'] / 12)\n",
            "C:\\Users\\nshre\\AppData\\Local\\Temp\\ipykernel_12864\\2288242729.py:14: SettingWithCopyWarning: \n",
            "A value is trying to be set on a copy of a slice from a DataFrame.\n",
            "Try using .loc[row_indexer,col_indexer] = value instead\n",
            "\n",
            "See the caveats in the documentation: https://pandas.pydata.org/pandas-docs/stable/user_guide/indexing.html#returning-a-view-versus-a-copy\n",
            "  X_train['order_dayofweek_sin'] = np.sin(2 * np.pi * X_train['order_dayofweek'] / 7)\n",
            "C:\\Users\\nshre\\AppData\\Local\\Temp\\ipykernel_12864\\2288242729.py:15: SettingWithCopyWarning: \n",
            "A value is trying to be set on a copy of a slice from a DataFrame.\n",
            "Try using .loc[row_indexer,col_indexer] = value instead\n",
            "\n",
            "See the caveats in the documentation: https://pandas.pydata.org/pandas-docs/stable/user_guide/indexing.html#returning-a-view-versus-a-copy\n",
            "  X_train['order_dayofweek_cos'] = np.cos(2 * np.pi * X_train['order_dayofweek'] / 7)\n",
            "C:\\Users\\nshre\\AppData\\Local\\Temp\\ipykernel_12864\\2288242729.py:17: SettingWithCopyWarning: \n",
            "A value is trying to be set on a copy of a slice from a DataFrame.\n",
            "Try using .loc[row_indexer,col_indexer] = value instead\n",
            "\n",
            "See the caveats in the documentation: https://pandas.pydata.org/pandas-docs/stable/user_guide/indexing.html#returning-a-view-versus-a-copy\n",
            "  X_train['delivered_month_sin'] = np.sin(2 * np.pi * X_train['delivered_month'] / 12)\n",
            "C:\\Users\\nshre\\AppData\\Local\\Temp\\ipykernel_12864\\2288242729.py:18: SettingWithCopyWarning: \n",
            "A value is trying to be set on a copy of a slice from a DataFrame.\n",
            "Try using .loc[row_indexer,col_indexer] = value instead\n",
            "\n",
            "See the caveats in the documentation: https://pandas.pydata.org/pandas-docs/stable/user_guide/indexing.html#returning-a-view-versus-a-copy\n",
            "  X_train['delivered_month_cos'] = np.cos(2 * np.pi * X_train['delivered_month'] / 12)\n",
            "C:\\Users\\nshre\\AppData\\Local\\Temp\\ipykernel_12864\\2288242729.py:20: SettingWithCopyWarning: \n",
            "A value is trying to be set on a copy of a slice from a DataFrame.\n",
            "Try using .loc[row_indexer,col_indexer] = value instead\n",
            "\n",
            "See the caveats in the documentation: https://pandas.pydata.org/pandas-docs/stable/user_guide/indexing.html#returning-a-view-versus-a-copy\n",
            "  X_train['delivered_dayofweek_sin'] = np.sin(2 * np.pi * X_train['delivered_dayofweek'] / 7)\n",
            "C:\\Users\\nshre\\AppData\\Local\\Temp\\ipykernel_12864\\2288242729.py:21: SettingWithCopyWarning: \n",
            "A value is trying to be set on a copy of a slice from a DataFrame.\n",
            "Try using .loc[row_indexer,col_indexer] = value instead\n",
            "\n",
            "See the caveats in the documentation: https://pandas.pydata.org/pandas-docs/stable/user_guide/indexing.html#returning-a-view-versus-a-copy\n",
            "  X_train['delivered_dayofweek_cos'] = np.cos(2 * np.pi * X_train['delivered_dayofweek'] / 7)\n",
            "C:\\Users\\nshre\\AppData\\Local\\Temp\\ipykernel_12864\\2288242729.py:23: SettingWithCopyWarning: \n",
            "A value is trying to be set on a copy of a slice from a DataFrame\n",
            "\n",
            "See the caveats in the documentation: https://pandas.pydata.org/pandas-docs/stable/user_guide/indexing.html#returning-a-view-versus-a-copy\n",
            "  X_train.drop(['order_month','delivered_month'], axis =1, inplace = True)\n"
          ]
        },
        {
          "data": {
            "text/html": [
              "<div>\n",
              "<style scoped>\n",
              "    .dataframe tbody tr th:only-of-type {\n",
              "        vertical-align: middle;\n",
              "    }\n",
              "\n",
              "    .dataframe tbody tr th {\n",
              "        vertical-align: top;\n",
              "    }\n",
              "\n",
              "    .dataframe thead th {\n",
              "        text-align: right;\n",
              "    }\n",
              "</style>\n",
              "<table border=\"1\" class=\"dataframe\">\n",
              "  <thead>\n",
              "    <tr style=\"text-align: right;\">\n",
              "      <th></th>\n",
              "      <th>region_id</th>\n",
              "      <th>warehouse_id</th>\n",
              "      <th>d_id</th>\n",
              "      <th>isbn_id</th>\n",
              "      <th>order_id</th>\n",
              "      <th>order_date</th>\n",
              "      <th>evsd</th>\n",
              "      <th>po_source_ind</th>\n",
              "      <th>quantity_ordered</th>\n",
              "      <th>quantity_submitted</th>\n",
              "      <th>quantity_received</th>\n",
              "      <th>row_group_ind</th>\n",
              "      <th>visibility</th>\n",
              "      <th>tag</th>\n",
              "      <th>unique_id</th>\n",
              "      <th>order_delivery_days</th>\n",
              "      <th>d_id_509</th>\n",
              "      <th>d_id_584</th>\n",
              "      <th>d_id_540</th>\n",
              "      <th>d_id_648</th>\n",
              "      <th>d_id_410</th>\n",
              "      <th>d_id_7</th>\n",
              "      <th>d_id_1</th>\n",
              "      <th>d_id_643</th>\n",
              "      <th>d_id_454</th>\n",
              "      <th>d_id_110</th>\n",
              "      <th>isbn_id_4595</th>\n",
              "      <th>isbn_id_26550</th>\n",
              "      <th>isbn_id_27825</th>\n",
              "      <th>isbn_id_14820</th>\n",
              "      <th>isbn_id_19934</th>\n",
              "      <th>isbn_id_29771</th>\n",
              "      <th>isbn_id_7865</th>\n",
              "      <th>isbn_id_31986</th>\n",
              "      <th>isbn_id_6790</th>\n",
              "      <th>isbn_id_8453</th>\n",
              "      <th>po_source_ind_AFT_Lite</th>\n",
              "      <th>row_group_ind_4</th>\n",
              "      <th>row_group_ind_1</th>\n",
              "      <th>row_group_ind_5</th>\n",
              "      <th>row_group_ind_3</th>\n",
              "      <th>row_group_ind_2</th>\n",
              "      <th>row_group_ind_6</th>\n",
              "      <th>row_group_ind_0</th>\n",
              "      <th>row_group_ind_7</th>\n",
              "      <th>order_day</th>\n",
              "      <th>order_dayofweek</th>\n",
              "      <th>order_dayofyear</th>\n",
              "      <th>delivered_day</th>\n",
              "      <th>delivered_dayofweek</th>\n",
              "      <th>delivered_dayofyear</th>\n",
              "      <th>order_month_sin</th>\n",
              "      <th>order_month_cos</th>\n",
              "      <th>order_dayofweek_sin</th>\n",
              "      <th>order_dayofweek_cos</th>\n",
              "      <th>delivered_month_sin</th>\n",
              "      <th>delivered_month_cos</th>\n",
              "      <th>delivered_dayofweek_sin</th>\n",
              "      <th>delivered_dayofweek_cos</th>\n",
              "    </tr>\n",
              "  </thead>\n",
              "  <tbody>\n",
              "    <tr>\n",
              "      <th>2</th>\n",
              "      <td>1</td>\n",
              "      <td>JFK2</td>\n",
              "      <td>648</td>\n",
              "      <td>16750</td>\n",
              "      <td>11165</td>\n",
              "      <td>2022-09-30</td>\n",
              "      <td>2022-10-03</td>\n",
              "      <td>AFT Lite</td>\n",
              "      <td>6</td>\n",
              "      <td>6</td>\n",
              "      <td>6</td>\n",
              "      <td>1</td>\n",
              "      <td>2</td>\n",
              "      <td>train</td>\n",
              "      <td>JFK2_648_16750_11165                          ...</td>\n",
              "      <td>3</td>\n",
              "      <td>0</td>\n",
              "      <td>0</td>\n",
              "      <td>0</td>\n",
              "      <td>1</td>\n",
              "      <td>0</td>\n",
              "      <td>0</td>\n",
              "      <td>0</td>\n",
              "      <td>0</td>\n",
              "      <td>0</td>\n",
              "      <td>0</td>\n",
              "      <td>0</td>\n",
              "      <td>0</td>\n",
              "      <td>0</td>\n",
              "      <td>0</td>\n",
              "      <td>0</td>\n",
              "      <td>0</td>\n",
              "      <td>0</td>\n",
              "      <td>0</td>\n",
              "      <td>0</td>\n",
              "      <td>0</td>\n",
              "      <td>1</td>\n",
              "      <td>0</td>\n",
              "      <td>1</td>\n",
              "      <td>0</td>\n",
              "      <td>0</td>\n",
              "      <td>0</td>\n",
              "      <td>0</td>\n",
              "      <td>0</td>\n",
              "      <td>0</td>\n",
              "      <td>30</td>\n",
              "      <td>4</td>\n",
              "      <td>273</td>\n",
              "      <td>3</td>\n",
              "      <td>0</td>\n",
              "      <td>276</td>\n",
              "      <td>-1.000000</td>\n",
              "      <td>-1.836970e-16</td>\n",
              "      <td>-0.433884</td>\n",
              "      <td>-0.900969</td>\n",
              "      <td>-0.866025</td>\n",
              "      <td>0.5</td>\n",
              "      <td>0.000000</td>\n",
              "      <td>1.000000</td>\n",
              "    </tr>\n",
              "    <tr>\n",
              "      <th>3</th>\n",
              "      <td>1</td>\n",
              "      <td>JFK2</td>\n",
              "      <td>648</td>\n",
              "      <td>16750</td>\n",
              "      <td>27008</td>\n",
              "      <td>2022-10-14</td>\n",
              "      <td>2022-10-17</td>\n",
              "      <td>AFT Lite</td>\n",
              "      <td>6</td>\n",
              "      <td>6</td>\n",
              "      <td>6</td>\n",
              "      <td>2</td>\n",
              "      <td>2</td>\n",
              "      <td>train</td>\n",
              "      <td>JFK2_648_16750_27008                          ...</td>\n",
              "      <td>3</td>\n",
              "      <td>0</td>\n",
              "      <td>0</td>\n",
              "      <td>0</td>\n",
              "      <td>1</td>\n",
              "      <td>0</td>\n",
              "      <td>0</td>\n",
              "      <td>0</td>\n",
              "      <td>0</td>\n",
              "      <td>0</td>\n",
              "      <td>0</td>\n",
              "      <td>0</td>\n",
              "      <td>0</td>\n",
              "      <td>0</td>\n",
              "      <td>0</td>\n",
              "      <td>0</td>\n",
              "      <td>0</td>\n",
              "      <td>0</td>\n",
              "      <td>0</td>\n",
              "      <td>0</td>\n",
              "      <td>0</td>\n",
              "      <td>1</td>\n",
              "      <td>0</td>\n",
              "      <td>0</td>\n",
              "      <td>0</td>\n",
              "      <td>0</td>\n",
              "      <td>1</td>\n",
              "      <td>0</td>\n",
              "      <td>0</td>\n",
              "      <td>0</td>\n",
              "      <td>14</td>\n",
              "      <td>4</td>\n",
              "      <td>287</td>\n",
              "      <td>17</td>\n",
              "      <td>0</td>\n",
              "      <td>290</td>\n",
              "      <td>-0.866025</td>\n",
              "      <td>5.000000e-01</td>\n",
              "      <td>-0.433884</td>\n",
              "      <td>-0.900969</td>\n",
              "      <td>-0.866025</td>\n",
              "      <td>0.5</td>\n",
              "      <td>0.000000</td>\n",
              "      <td>1.000000</td>\n",
              "    </tr>\n",
              "    <tr>\n",
              "      <th>8</th>\n",
              "      <td>1</td>\n",
              "      <td>JFK2</td>\n",
              "      <td>584</td>\n",
              "      <td>29062</td>\n",
              "      <td>62664</td>\n",
              "      <td>2022-10-17</td>\n",
              "      <td>2022-10-19</td>\n",
              "      <td>AFT Lite</td>\n",
              "      <td>12</td>\n",
              "      <td>12</td>\n",
              "      <td>12</td>\n",
              "      <td>5</td>\n",
              "      <td>1</td>\n",
              "      <td>train</td>\n",
              "      <td>JFK2_584_29062_62664                          ...</td>\n",
              "      <td>2</td>\n",
              "      <td>0</td>\n",
              "      <td>1</td>\n",
              "      <td>0</td>\n",
              "      <td>0</td>\n",
              "      <td>0</td>\n",
              "      <td>0</td>\n",
              "      <td>0</td>\n",
              "      <td>0</td>\n",
              "      <td>0</td>\n",
              "      <td>0</td>\n",
              "      <td>0</td>\n",
              "      <td>0</td>\n",
              "      <td>0</td>\n",
              "      <td>0</td>\n",
              "      <td>0</td>\n",
              "      <td>0</td>\n",
              "      <td>0</td>\n",
              "      <td>0</td>\n",
              "      <td>0</td>\n",
              "      <td>0</td>\n",
              "      <td>1</td>\n",
              "      <td>0</td>\n",
              "      <td>0</td>\n",
              "      <td>1</td>\n",
              "      <td>0</td>\n",
              "      <td>0</td>\n",
              "      <td>0</td>\n",
              "      <td>0</td>\n",
              "      <td>0</td>\n",
              "      <td>17</td>\n",
              "      <td>0</td>\n",
              "      <td>290</td>\n",
              "      <td>19</td>\n",
              "      <td>2</td>\n",
              "      <td>292</td>\n",
              "      <td>-0.866025</td>\n",
              "      <td>5.000000e-01</td>\n",
              "      <td>0.000000</td>\n",
              "      <td>1.000000</td>\n",
              "      <td>-0.866025</td>\n",
              "      <td>0.5</td>\n",
              "      <td>0.974928</td>\n",
              "      <td>-0.222521</td>\n",
              "    </tr>\n",
              "    <tr>\n",
              "      <th>9</th>\n",
              "      <td>1</td>\n",
              "      <td>JFK2</td>\n",
              "      <td>393</td>\n",
              "      <td>24754</td>\n",
              "      <td>91483</td>\n",
              "      <td>2022-10-19</td>\n",
              "      <td>2022-10-28</td>\n",
              "      <td>AFT Lite</td>\n",
              "      <td>16</td>\n",
              "      <td>16</td>\n",
              "      <td>16</td>\n",
              "      <td>7</td>\n",
              "      <td>6</td>\n",
              "      <td>train</td>\n",
              "      <td>JFK2_393_24754_91483                          ...</td>\n",
              "      <td>9</td>\n",
              "      <td>0</td>\n",
              "      <td>0</td>\n",
              "      <td>0</td>\n",
              "      <td>0</td>\n",
              "      <td>0</td>\n",
              "      <td>0</td>\n",
              "      <td>0</td>\n",
              "      <td>0</td>\n",
              "      <td>0</td>\n",
              "      <td>0</td>\n",
              "      <td>0</td>\n",
              "      <td>0</td>\n",
              "      <td>0</td>\n",
              "      <td>0</td>\n",
              "      <td>0</td>\n",
              "      <td>0</td>\n",
              "      <td>0</td>\n",
              "      <td>0</td>\n",
              "      <td>0</td>\n",
              "      <td>0</td>\n",
              "      <td>1</td>\n",
              "      <td>0</td>\n",
              "      <td>0</td>\n",
              "      <td>0</td>\n",
              "      <td>0</td>\n",
              "      <td>0</td>\n",
              "      <td>0</td>\n",
              "      <td>0</td>\n",
              "      <td>1</td>\n",
              "      <td>19</td>\n",
              "      <td>2</td>\n",
              "      <td>292</td>\n",
              "      <td>28</td>\n",
              "      <td>4</td>\n",
              "      <td>301</td>\n",
              "      <td>-0.866025</td>\n",
              "      <td>5.000000e-01</td>\n",
              "      <td>0.974928</td>\n",
              "      <td>-0.222521</td>\n",
              "      <td>-0.866025</td>\n",
              "      <td>0.5</td>\n",
              "      <td>-0.433884</td>\n",
              "      <td>-0.900969</td>\n",
              "    </tr>\n",
              "    <tr>\n",
              "      <th>11</th>\n",
              "      <td>1</td>\n",
              "      <td>JFK2</td>\n",
              "      <td>7</td>\n",
              "      <td>27826</td>\n",
              "      <td>175768</td>\n",
              "      <td>2022-10-11</td>\n",
              "      <td>2022-10-12</td>\n",
              "      <td>AFT Lite</td>\n",
              "      <td>24</td>\n",
              "      <td>24</td>\n",
              "      <td>24</td>\n",
              "      <td>5</td>\n",
              "      <td>1</td>\n",
              "      <td>train</td>\n",
              "      <td>JFK2_7_27826_175768                           ...</td>\n",
              "      <td>1</td>\n",
              "      <td>0</td>\n",
              "      <td>0</td>\n",
              "      <td>0</td>\n",
              "      <td>0</td>\n",
              "      <td>0</td>\n",
              "      <td>1</td>\n",
              "      <td>0</td>\n",
              "      <td>0</td>\n",
              "      <td>0</td>\n",
              "      <td>0</td>\n",
              "      <td>0</td>\n",
              "      <td>0</td>\n",
              "      <td>0</td>\n",
              "      <td>0</td>\n",
              "      <td>0</td>\n",
              "      <td>0</td>\n",
              "      <td>0</td>\n",
              "      <td>0</td>\n",
              "      <td>0</td>\n",
              "      <td>0</td>\n",
              "      <td>1</td>\n",
              "      <td>0</td>\n",
              "      <td>0</td>\n",
              "      <td>1</td>\n",
              "      <td>0</td>\n",
              "      <td>0</td>\n",
              "      <td>0</td>\n",
              "      <td>0</td>\n",
              "      <td>0</td>\n",
              "      <td>11</td>\n",
              "      <td>1</td>\n",
              "      <td>284</td>\n",
              "      <td>12</td>\n",
              "      <td>2</td>\n",
              "      <td>285</td>\n",
              "      <td>-0.866025</td>\n",
              "      <td>5.000000e-01</td>\n",
              "      <td>0.781831</td>\n",
              "      <td>0.623490</td>\n",
              "      <td>-0.866025</td>\n",
              "      <td>0.5</td>\n",
              "      <td>0.974928</td>\n",
              "      <td>-0.222521</td>\n",
              "    </tr>\n",
              "  </tbody>\n",
              "</table>\n",
              "</div>"
            ],
            "text/plain": [
              "    region_id warehouse_id d_id isbn_id order_id order_date       evsd   \n",
              "2           1         JFK2  648   16750    11165 2022-09-30 2022-10-03  \\\n",
              "3           1         JFK2  648   16750    27008 2022-10-14 2022-10-17   \n",
              "8           1         JFK2  584   29062    62664 2022-10-17 2022-10-19   \n",
              "9           1         JFK2  393   24754    91483 2022-10-19 2022-10-28   \n",
              "11          1         JFK2    7   27826   175768 2022-10-11 2022-10-12   \n",
              "\n",
              "   po_source_ind  quantity_ordered  quantity_submitted  quantity_received   \n",
              "2       AFT Lite                 6                   6                  6  \\\n",
              "3       AFT Lite                 6                   6                  6   \n",
              "8       AFT Lite                12                  12                 12   \n",
              "9       AFT Lite                16                  16                 16   \n",
              "11      AFT Lite                24                  24                 24   \n",
              "\n",
              "   row_group_ind  visibility    tag   \n",
              "2              1           2  train  \\\n",
              "3              2           2  train   \n",
              "8              5           1  train   \n",
              "9              7           6  train   \n",
              "11             5           1  train   \n",
              "\n",
              "                                            unique_id  order_delivery_days   \n",
              "2   JFK2_648_16750_11165                          ...                    3  \\\n",
              "3   JFK2_648_16750_27008                          ...                    3   \n",
              "8   JFK2_584_29062_62664                          ...                    2   \n",
              "9   JFK2_393_24754_91483                          ...                    9   \n",
              "11  JFK2_7_27826_175768                           ...                    1   \n",
              "\n",
              "    d_id_509  d_id_584  d_id_540  d_id_648  d_id_410  d_id_7  d_id_1   \n",
              "2          0         0         0         1         0       0       0  \\\n",
              "3          0         0         0         1         0       0       0   \n",
              "8          0         1         0         0         0       0       0   \n",
              "9          0         0         0         0         0       0       0   \n",
              "11         0         0         0         0         0       1       0   \n",
              "\n",
              "    d_id_643  d_id_454  d_id_110  isbn_id_4595  isbn_id_26550  isbn_id_27825   \n",
              "2          0         0         0             0              0              0  \\\n",
              "3          0         0         0             0              0              0   \n",
              "8          0         0         0             0              0              0   \n",
              "9          0         0         0             0              0              0   \n",
              "11         0         0         0             0              0              0   \n",
              "\n",
              "    isbn_id_14820  isbn_id_19934  isbn_id_29771  isbn_id_7865  isbn_id_31986   \n",
              "2               0              0              0             0              0  \\\n",
              "3               0              0              0             0              0   \n",
              "8               0              0              0             0              0   \n",
              "9               0              0              0             0              0   \n",
              "11              0              0              0             0              0   \n",
              "\n",
              "    isbn_id_6790  isbn_id_8453  po_source_ind_AFT_Lite  row_group_ind_4   \n",
              "2              0             0                       1                0  \\\n",
              "3              0             0                       1                0   \n",
              "8              0             0                       1                0   \n",
              "9              0             0                       1                0   \n",
              "11             0             0                       1                0   \n",
              "\n",
              "    row_group_ind_1  row_group_ind_5  row_group_ind_3  row_group_ind_2   \n",
              "2                 1                0                0                0  \\\n",
              "3                 0                0                0                1   \n",
              "8                 0                1                0                0   \n",
              "9                 0                0                0                0   \n",
              "11                0                1                0                0   \n",
              "\n",
              "    row_group_ind_6  row_group_ind_0  row_group_ind_7  order_day   \n",
              "2                 0                0                0         30  \\\n",
              "3                 0                0                0         14   \n",
              "8                 0                0                0         17   \n",
              "9                 0                0                1         19   \n",
              "11                0                0                0         11   \n",
              "\n",
              "    order_dayofweek  order_dayofyear  delivered_day  delivered_dayofweek   \n",
              "2                 4              273              3                    0  \\\n",
              "3                 4              287             17                    0   \n",
              "8                 0              290             19                    2   \n",
              "9                 2              292             28                    4   \n",
              "11                1              284             12                    2   \n",
              "\n",
              "    delivered_dayofyear  order_month_sin  order_month_cos   \n",
              "2                   276        -1.000000    -1.836970e-16  \\\n",
              "3                   290        -0.866025     5.000000e-01   \n",
              "8                   292        -0.866025     5.000000e-01   \n",
              "9                   301        -0.866025     5.000000e-01   \n",
              "11                  285        -0.866025     5.000000e-01   \n",
              "\n",
              "    order_dayofweek_sin  order_dayofweek_cos  delivered_month_sin   \n",
              "2             -0.433884            -0.900969            -0.866025  \\\n",
              "3             -0.433884            -0.900969            -0.866025   \n",
              "8              0.000000             1.000000            -0.866025   \n",
              "9              0.974928            -0.222521            -0.866025   \n",
              "11             0.781831             0.623490            -0.866025   \n",
              "\n",
              "    delivered_month_cos  delivered_dayofweek_sin  delivered_dayofweek_cos  \n",
              "2                   0.5                 0.000000                 1.000000  \n",
              "3                   0.5                 0.000000                 1.000000  \n",
              "8                   0.5                 0.974928                -0.222521  \n",
              "9                   0.5                -0.433884                -0.900969  \n",
              "11                  0.5                 0.974928                -0.222521  "
            ]
          },
          "metadata": {},
          "output_type": "display_data"
        },
        {
          "name": "stderr",
          "output_type": "stream",
          "text": [
            "C:\\Users\\nshre\\AppData\\Local\\Temp\\ipykernel_12864\\2288242729.py:27: SettingWithCopyWarning: \n",
            "A value is trying to be set on a copy of a slice from a DataFrame.\n",
            "Try using .loc[row_indexer,col_indexer] = value instead\n",
            "\n",
            "See the caveats in the documentation: https://pandas.pydata.org/pandas-docs/stable/user_guide/indexing.html#returning-a-view-versus-a-copy\n",
            "  X_valid['order_day'] = X_valid['order_date'].dt.day\n",
            "C:\\Users\\nshre\\AppData\\Local\\Temp\\ipykernel_12864\\2288242729.py:28: SettingWithCopyWarning: \n",
            "A value is trying to be set on a copy of a slice from a DataFrame.\n",
            "Try using .loc[row_indexer,col_indexer] = value instead\n",
            "\n",
            "See the caveats in the documentation: https://pandas.pydata.org/pandas-docs/stable/user_guide/indexing.html#returning-a-view-versus-a-copy\n",
            "  X_valid['order_dayofweek'] = X_valid['order_date'].dt.dayofweek\n",
            "C:\\Users\\nshre\\AppData\\Local\\Temp\\ipykernel_12864\\2288242729.py:29: SettingWithCopyWarning: \n",
            "A value is trying to be set on a copy of a slice from a DataFrame.\n",
            "Try using .loc[row_indexer,col_indexer] = value instead\n",
            "\n",
            "See the caveats in the documentation: https://pandas.pydata.org/pandas-docs/stable/user_guide/indexing.html#returning-a-view-versus-a-copy\n",
            "  X_valid['order_dayofyear'] = X_valid['order_date'].dt.dayofyear\n",
            "C:\\Users\\nshre\\AppData\\Local\\Temp\\ipykernel_12864\\2288242729.py:30: SettingWithCopyWarning: \n",
            "A value is trying to be set on a copy of a slice from a DataFrame.\n",
            "Try using .loc[row_indexer,col_indexer] = value instead\n",
            "\n",
            "See the caveats in the documentation: https://pandas.pydata.org/pandas-docs/stable/user_guide/indexing.html#returning-a-view-versus-a-copy\n",
            "  X_valid['order_month'] = X_valid['order_date'].dt.month\n",
            "C:\\Users\\nshre\\AppData\\Local\\Temp\\ipykernel_12864\\2288242729.py:32: SettingWithCopyWarning: \n",
            "A value is trying to be set on a copy of a slice from a DataFrame.\n",
            "Try using .loc[row_indexer,col_indexer] = value instead\n",
            "\n",
            "See the caveats in the documentation: https://pandas.pydata.org/pandas-docs/stable/user_guide/indexing.html#returning-a-view-versus-a-copy\n",
            "  X_valid['delivered_day'] = X_valid['evsd'].dt.day\n",
            "C:\\Users\\nshre\\AppData\\Local\\Temp\\ipykernel_12864\\2288242729.py:33: SettingWithCopyWarning: \n",
            "A value is trying to be set on a copy of a slice from a DataFrame.\n",
            "Try using .loc[row_indexer,col_indexer] = value instead\n",
            "\n",
            "See the caveats in the documentation: https://pandas.pydata.org/pandas-docs/stable/user_guide/indexing.html#returning-a-view-versus-a-copy\n",
            "  X_valid['delivered_dayofweek'] = X_valid['evsd'].dt.dayofweek\n",
            "C:\\Users\\nshre\\AppData\\Local\\Temp\\ipykernel_12864\\2288242729.py:34: SettingWithCopyWarning: \n",
            "A value is trying to be set on a copy of a slice from a DataFrame.\n",
            "Try using .loc[row_indexer,col_indexer] = value instead\n",
            "\n",
            "See the caveats in the documentation: https://pandas.pydata.org/pandas-docs/stable/user_guide/indexing.html#returning-a-view-versus-a-copy\n",
            "  X_valid['delivered_dayofyear'] = X_valid['evsd'].dt.dayofyear\n",
            "C:\\Users\\nshre\\AppData\\Local\\Temp\\ipykernel_12864\\2288242729.py:35: SettingWithCopyWarning: \n",
            "A value is trying to be set on a copy of a slice from a DataFrame.\n",
            "Try using .loc[row_indexer,col_indexer] = value instead\n",
            "\n",
            "See the caveats in the documentation: https://pandas.pydata.org/pandas-docs/stable/user_guide/indexing.html#returning-a-view-versus-a-copy\n",
            "  X_valid['delivered_month'] = X_valid['evsd'].dt.month\n",
            "C:\\Users\\nshre\\AppData\\Local\\Temp\\ipykernel_12864\\2288242729.py:37: SettingWithCopyWarning: \n",
            "A value is trying to be set on a copy of a slice from a DataFrame.\n",
            "Try using .loc[row_indexer,col_indexer] = value instead\n",
            "\n",
            "See the caveats in the documentation: https://pandas.pydata.org/pandas-docs/stable/user_guide/indexing.html#returning-a-view-versus-a-copy\n",
            "  X_valid['order_month_sin'] = np.sin(2 * np.pi * X_valid['order_month'] / 12)\n",
            "C:\\Users\\nshre\\AppData\\Local\\Temp\\ipykernel_12864\\2288242729.py:38: SettingWithCopyWarning: \n",
            "A value is trying to be set on a copy of a slice from a DataFrame.\n",
            "Try using .loc[row_indexer,col_indexer] = value instead\n",
            "\n",
            "See the caveats in the documentation: https://pandas.pydata.org/pandas-docs/stable/user_guide/indexing.html#returning-a-view-versus-a-copy\n",
            "  X_valid['order_month_cos'] = np.cos(2 * np.pi * X_valid['order_month'] / 12)\n",
            "C:\\Users\\nshre\\AppData\\Local\\Temp\\ipykernel_12864\\2288242729.py:40: SettingWithCopyWarning: \n",
            "A value is trying to be set on a copy of a slice from a DataFrame.\n",
            "Try using .loc[row_indexer,col_indexer] = value instead\n",
            "\n",
            "See the caveats in the documentation: https://pandas.pydata.org/pandas-docs/stable/user_guide/indexing.html#returning-a-view-versus-a-copy\n",
            "  X_valid['order_dayofweek_sin'] = np.sin(2 * np.pi * X_valid['order_dayofweek'] / 7)\n",
            "C:\\Users\\nshre\\AppData\\Local\\Temp\\ipykernel_12864\\2288242729.py:41: SettingWithCopyWarning: \n",
            "A value is trying to be set on a copy of a slice from a DataFrame.\n",
            "Try using .loc[row_indexer,col_indexer] = value instead\n",
            "\n",
            "See the caveats in the documentation: https://pandas.pydata.org/pandas-docs/stable/user_guide/indexing.html#returning-a-view-versus-a-copy\n",
            "  X_valid['order_dayofweek_cos'] = np.cos(2 * np.pi * X_valid['order_dayofweek'] / 7)\n",
            "C:\\Users\\nshre\\AppData\\Local\\Temp\\ipykernel_12864\\2288242729.py:43: SettingWithCopyWarning: \n",
            "A value is trying to be set on a copy of a slice from a DataFrame.\n",
            "Try using .loc[row_indexer,col_indexer] = value instead\n",
            "\n",
            "See the caveats in the documentation: https://pandas.pydata.org/pandas-docs/stable/user_guide/indexing.html#returning-a-view-versus-a-copy\n",
            "  X_valid['delivered_month_sin'] = np.sin(2 * np.pi * X_valid['delivered_month'] / 12)\n",
            "C:\\Users\\nshre\\AppData\\Local\\Temp\\ipykernel_12864\\2288242729.py:44: SettingWithCopyWarning: \n",
            "A value is trying to be set on a copy of a slice from a DataFrame.\n",
            "Try using .loc[row_indexer,col_indexer] = value instead\n",
            "\n",
            "See the caveats in the documentation: https://pandas.pydata.org/pandas-docs/stable/user_guide/indexing.html#returning-a-view-versus-a-copy\n",
            "  X_valid['delivered_month_cos'] = np.cos(2 * np.pi * X_valid['delivered_month'] / 12)\n",
            "C:\\Users\\nshre\\AppData\\Local\\Temp\\ipykernel_12864\\2288242729.py:46: SettingWithCopyWarning: \n",
            "A value is trying to be set on a copy of a slice from a DataFrame.\n",
            "Try using .loc[row_indexer,col_indexer] = value instead\n",
            "\n",
            "See the caveats in the documentation: https://pandas.pydata.org/pandas-docs/stable/user_guide/indexing.html#returning-a-view-versus-a-copy\n",
            "  X_valid['delivered_dayofweek_sin'] = np.sin(2 * np.pi * X_valid['delivered_dayofweek'] / 7)\n",
            "C:\\Users\\nshre\\AppData\\Local\\Temp\\ipykernel_12864\\2288242729.py:47: SettingWithCopyWarning: \n",
            "A value is trying to be set on a copy of a slice from a DataFrame.\n",
            "Try using .loc[row_indexer,col_indexer] = value instead\n",
            "\n",
            "See the caveats in the documentation: https://pandas.pydata.org/pandas-docs/stable/user_guide/indexing.html#returning-a-view-versus-a-copy\n",
            "  X_valid['delivered_dayofweek_cos'] = np.cos(2 * np.pi * X_valid['delivered_dayofweek'] / 7)\n",
            "C:\\Users\\nshre\\AppData\\Local\\Temp\\ipykernel_12864\\2288242729.py:49: SettingWithCopyWarning: \n",
            "A value is trying to be set on a copy of a slice from a DataFrame\n",
            "\n",
            "See the caveats in the documentation: https://pandas.pydata.org/pandas-docs/stable/user_guide/indexing.html#returning-a-view-versus-a-copy\n",
            "  X_valid.drop(['order_month','delivered_month'], axis =1, inplace = True)\n"
          ]
        },
        {
          "data": {
            "text/html": [
              "<div>\n",
              "<style scoped>\n",
              "    .dataframe tbody tr th:only-of-type {\n",
              "        vertical-align: middle;\n",
              "    }\n",
              "\n",
              "    .dataframe tbody tr th {\n",
              "        vertical-align: top;\n",
              "    }\n",
              "\n",
              "    .dataframe thead th {\n",
              "        text-align: right;\n",
              "    }\n",
              "</style>\n",
              "<table border=\"1\" class=\"dataframe\">\n",
              "  <thead>\n",
              "    <tr style=\"text-align: right;\">\n",
              "      <th></th>\n",
              "      <th>region_id</th>\n",
              "      <th>warehouse_id</th>\n",
              "      <th>d_id</th>\n",
              "      <th>isbn_id</th>\n",
              "      <th>order_id</th>\n",
              "      <th>order_date</th>\n",
              "      <th>evsd</th>\n",
              "      <th>po_source_ind</th>\n",
              "      <th>quantity_ordered</th>\n",
              "      <th>quantity_submitted</th>\n",
              "      <th>quantity_received</th>\n",
              "      <th>row_group_ind</th>\n",
              "      <th>visibility</th>\n",
              "      <th>tag</th>\n",
              "      <th>unique_id</th>\n",
              "      <th>order_delivery_days</th>\n",
              "      <th>d_id_509</th>\n",
              "      <th>d_id_584</th>\n",
              "      <th>d_id_540</th>\n",
              "      <th>d_id_648</th>\n",
              "      <th>d_id_410</th>\n",
              "      <th>d_id_7</th>\n",
              "      <th>d_id_1</th>\n",
              "      <th>d_id_643</th>\n",
              "      <th>d_id_454</th>\n",
              "      <th>d_id_110</th>\n",
              "      <th>isbn_id_4595</th>\n",
              "      <th>isbn_id_26550</th>\n",
              "      <th>isbn_id_27825</th>\n",
              "      <th>isbn_id_14820</th>\n",
              "      <th>isbn_id_19934</th>\n",
              "      <th>isbn_id_29771</th>\n",
              "      <th>isbn_id_7865</th>\n",
              "      <th>isbn_id_31986</th>\n",
              "      <th>isbn_id_6790</th>\n",
              "      <th>isbn_id_8453</th>\n",
              "      <th>po_source_ind_AFT_Lite</th>\n",
              "      <th>row_group_ind_4</th>\n",
              "      <th>row_group_ind_1</th>\n",
              "      <th>row_group_ind_5</th>\n",
              "      <th>row_group_ind_3</th>\n",
              "      <th>row_group_ind_2</th>\n",
              "      <th>row_group_ind_6</th>\n",
              "      <th>row_group_ind_0</th>\n",
              "      <th>row_group_ind_7</th>\n",
              "      <th>order_day</th>\n",
              "      <th>order_dayofweek</th>\n",
              "      <th>order_dayofyear</th>\n",
              "      <th>delivered_day</th>\n",
              "      <th>delivered_dayofweek</th>\n",
              "      <th>delivered_dayofyear</th>\n",
              "      <th>order_month_sin</th>\n",
              "      <th>order_month_cos</th>\n",
              "      <th>order_dayofweek_sin</th>\n",
              "      <th>order_dayofweek_cos</th>\n",
              "      <th>delivered_month_sin</th>\n",
              "      <th>delivered_month_cos</th>\n",
              "      <th>delivered_dayofweek_sin</th>\n",
              "      <th>delivered_dayofweek_cos</th>\n",
              "    </tr>\n",
              "  </thead>\n",
              "  <tbody>\n",
              "    <tr>\n",
              "      <th>0</th>\n",
              "      <td>1</td>\n",
              "      <td>JFK2</td>\n",
              "      <td>540</td>\n",
              "      <td>30718</td>\n",
              "      <td>67271</td>\n",
              "      <td>2022-11-02</td>\n",
              "      <td>2022-11-14</td>\n",
              "      <td>AFT Lite</td>\n",
              "      <td>54</td>\n",
              "      <td>54</td>\n",
              "      <td>54</td>\n",
              "      <td>4</td>\n",
              "      <td>9</td>\n",
              "      <td>train</td>\n",
              "      <td>JFK2_540_30718_67271                          ...</td>\n",
              "      <td>12</td>\n",
              "      <td>0</td>\n",
              "      <td>0</td>\n",
              "      <td>1</td>\n",
              "      <td>0</td>\n",
              "      <td>0</td>\n",
              "      <td>0</td>\n",
              "      <td>0</td>\n",
              "      <td>0</td>\n",
              "      <td>0</td>\n",
              "      <td>0</td>\n",
              "      <td>0</td>\n",
              "      <td>0</td>\n",
              "      <td>0</td>\n",
              "      <td>0</td>\n",
              "      <td>0</td>\n",
              "      <td>0</td>\n",
              "      <td>0</td>\n",
              "      <td>0</td>\n",
              "      <td>0</td>\n",
              "      <td>0</td>\n",
              "      <td>1</td>\n",
              "      <td>0</td>\n",
              "      <td>0</td>\n",
              "      <td>0</td>\n",
              "      <td>0</td>\n",
              "      <td>0</td>\n",
              "      <td>0</td>\n",
              "      <td>0</td>\n",
              "      <td>0</td>\n",
              "      <td>2</td>\n",
              "      <td>2</td>\n",
              "      <td>306</td>\n",
              "      <td>14</td>\n",
              "      <td>0</td>\n",
              "      <td>318</td>\n",
              "      <td>-0.5</td>\n",
              "      <td>0.866025</td>\n",
              "      <td>0.974928</td>\n",
              "      <td>-0.222521</td>\n",
              "      <td>-5.000000e-01</td>\n",
              "      <td>0.866025</td>\n",
              "      <td>0.000000</td>\n",
              "      <td>1.000000</td>\n",
              "    </tr>\n",
              "    <tr>\n",
              "      <th>1</th>\n",
              "      <td>1</td>\n",
              "      <td>JFK2</td>\n",
              "      <td>540</td>\n",
              "      <td>30718</td>\n",
              "      <td>125389</td>\n",
              "      <td>2022-11-20</td>\n",
              "      <td>2022-12-01</td>\n",
              "      <td>AFT Lite</td>\n",
              "      <td>60</td>\n",
              "      <td>60</td>\n",
              "      <td>60</td>\n",
              "      <td>5</td>\n",
              "      <td>3</td>\n",
              "      <td>train</td>\n",
              "      <td>JFK2_540_30718_125389                         ...</td>\n",
              "      <td>11</td>\n",
              "      <td>0</td>\n",
              "      <td>0</td>\n",
              "      <td>1</td>\n",
              "      <td>0</td>\n",
              "      <td>0</td>\n",
              "      <td>0</td>\n",
              "      <td>0</td>\n",
              "      <td>0</td>\n",
              "      <td>0</td>\n",
              "      <td>0</td>\n",
              "      <td>0</td>\n",
              "      <td>0</td>\n",
              "      <td>0</td>\n",
              "      <td>0</td>\n",
              "      <td>0</td>\n",
              "      <td>0</td>\n",
              "      <td>0</td>\n",
              "      <td>0</td>\n",
              "      <td>0</td>\n",
              "      <td>0</td>\n",
              "      <td>1</td>\n",
              "      <td>0</td>\n",
              "      <td>0</td>\n",
              "      <td>0</td>\n",
              "      <td>0</td>\n",
              "      <td>0</td>\n",
              "      <td>0</td>\n",
              "      <td>0</td>\n",
              "      <td>0</td>\n",
              "      <td>20</td>\n",
              "      <td>6</td>\n",
              "      <td>324</td>\n",
              "      <td>1</td>\n",
              "      <td>3</td>\n",
              "      <td>335</td>\n",
              "      <td>-0.5</td>\n",
              "      <td>0.866025</td>\n",
              "      <td>-0.781831</td>\n",
              "      <td>0.623490</td>\n",
              "      <td>-2.449294e-16</td>\n",
              "      <td>1.000000</td>\n",
              "      <td>0.433884</td>\n",
              "      <td>-0.900969</td>\n",
              "    </tr>\n",
              "    <tr>\n",
              "      <th>4</th>\n",
              "      <td>1</td>\n",
              "      <td>JFK2</td>\n",
              "      <td>7</td>\n",
              "      <td>8748</td>\n",
              "      <td>33598</td>\n",
              "      <td>2022-11-15</td>\n",
              "      <td>2022-11-16</td>\n",
              "      <td>AFT Lite</td>\n",
              "      <td>8</td>\n",
              "      <td>8</td>\n",
              "      <td>8</td>\n",
              "      <td>1</td>\n",
              "      <td>1</td>\n",
              "      <td>train</td>\n",
              "      <td>JFK2_7_8748_33598                           _2...</td>\n",
              "      <td>1</td>\n",
              "      <td>0</td>\n",
              "      <td>0</td>\n",
              "      <td>0</td>\n",
              "      <td>0</td>\n",
              "      <td>0</td>\n",
              "      <td>1</td>\n",
              "      <td>0</td>\n",
              "      <td>0</td>\n",
              "      <td>0</td>\n",
              "      <td>0</td>\n",
              "      <td>0</td>\n",
              "      <td>0</td>\n",
              "      <td>0</td>\n",
              "      <td>0</td>\n",
              "      <td>0</td>\n",
              "      <td>0</td>\n",
              "      <td>0</td>\n",
              "      <td>0</td>\n",
              "      <td>0</td>\n",
              "      <td>0</td>\n",
              "      <td>1</td>\n",
              "      <td>0</td>\n",
              "      <td>0</td>\n",
              "      <td>0</td>\n",
              "      <td>0</td>\n",
              "      <td>0</td>\n",
              "      <td>0</td>\n",
              "      <td>0</td>\n",
              "      <td>0</td>\n",
              "      <td>15</td>\n",
              "      <td>1</td>\n",
              "      <td>319</td>\n",
              "      <td>16</td>\n",
              "      <td>2</td>\n",
              "      <td>320</td>\n",
              "      <td>-0.5</td>\n",
              "      <td>0.866025</td>\n",
              "      <td>0.781831</td>\n",
              "      <td>0.623490</td>\n",
              "      <td>-5.000000e-01</td>\n",
              "      <td>0.866025</td>\n",
              "      <td>0.974928</td>\n",
              "      <td>-0.222521</td>\n",
              "    </tr>\n",
              "    <tr>\n",
              "      <th>5</th>\n",
              "      <td>1</td>\n",
              "      <td>JFK2</td>\n",
              "      <td>7</td>\n",
              "      <td>8748</td>\n",
              "      <td>142228</td>\n",
              "      <td>2022-11-01</td>\n",
              "      <td>2022-11-02</td>\n",
              "      <td>AFT Lite</td>\n",
              "      <td>16</td>\n",
              "      <td>16</td>\n",
              "      <td>16</td>\n",
              "      <td>3</td>\n",
              "      <td>1</td>\n",
              "      <td>train</td>\n",
              "      <td>JFK2_7_8748_142228                           _...</td>\n",
              "      <td>1</td>\n",
              "      <td>0</td>\n",
              "      <td>0</td>\n",
              "      <td>0</td>\n",
              "      <td>0</td>\n",
              "      <td>0</td>\n",
              "      <td>1</td>\n",
              "      <td>0</td>\n",
              "      <td>0</td>\n",
              "      <td>0</td>\n",
              "      <td>0</td>\n",
              "      <td>0</td>\n",
              "      <td>0</td>\n",
              "      <td>0</td>\n",
              "      <td>0</td>\n",
              "      <td>0</td>\n",
              "      <td>0</td>\n",
              "      <td>0</td>\n",
              "      <td>0</td>\n",
              "      <td>0</td>\n",
              "      <td>0</td>\n",
              "      <td>1</td>\n",
              "      <td>0</td>\n",
              "      <td>0</td>\n",
              "      <td>0</td>\n",
              "      <td>0</td>\n",
              "      <td>0</td>\n",
              "      <td>0</td>\n",
              "      <td>0</td>\n",
              "      <td>0</td>\n",
              "      <td>1</td>\n",
              "      <td>1</td>\n",
              "      <td>305</td>\n",
              "      <td>2</td>\n",
              "      <td>2</td>\n",
              "      <td>306</td>\n",
              "      <td>-0.5</td>\n",
              "      <td>0.866025</td>\n",
              "      <td>0.781831</td>\n",
              "      <td>0.623490</td>\n",
              "      <td>-5.000000e-01</td>\n",
              "      <td>0.866025</td>\n",
              "      <td>0.974928</td>\n",
              "      <td>-0.222521</td>\n",
              "    </tr>\n",
              "    <tr>\n",
              "      <th>6</th>\n",
              "      <td>1</td>\n",
              "      <td>JFK2</td>\n",
              "      <td>7</td>\n",
              "      <td>8748</td>\n",
              "      <td>27330</td>\n",
              "      <td>2022-11-05</td>\n",
              "      <td>2022-11-06</td>\n",
              "      <td>AFT Lite</td>\n",
              "      <td>0</td>\n",
              "      <td>24</td>\n",
              "      <td>0</td>\n",
              "      <td>6</td>\n",
              "      <td>1</td>\n",
              "      <td>train</td>\n",
              "      <td>JFK2_7_8748_27330                           _2...</td>\n",
              "      <td>1</td>\n",
              "      <td>0</td>\n",
              "      <td>0</td>\n",
              "      <td>0</td>\n",
              "      <td>0</td>\n",
              "      <td>0</td>\n",
              "      <td>1</td>\n",
              "      <td>0</td>\n",
              "      <td>0</td>\n",
              "      <td>0</td>\n",
              "      <td>0</td>\n",
              "      <td>0</td>\n",
              "      <td>0</td>\n",
              "      <td>0</td>\n",
              "      <td>0</td>\n",
              "      <td>0</td>\n",
              "      <td>0</td>\n",
              "      <td>0</td>\n",
              "      <td>0</td>\n",
              "      <td>0</td>\n",
              "      <td>0</td>\n",
              "      <td>1</td>\n",
              "      <td>0</td>\n",
              "      <td>0</td>\n",
              "      <td>0</td>\n",
              "      <td>0</td>\n",
              "      <td>0</td>\n",
              "      <td>0</td>\n",
              "      <td>0</td>\n",
              "      <td>0</td>\n",
              "      <td>5</td>\n",
              "      <td>5</td>\n",
              "      <td>309</td>\n",
              "      <td>6</td>\n",
              "      <td>6</td>\n",
              "      <td>310</td>\n",
              "      <td>-0.5</td>\n",
              "      <td>0.866025</td>\n",
              "      <td>-0.974928</td>\n",
              "      <td>-0.222521</td>\n",
              "      <td>-5.000000e-01</td>\n",
              "      <td>0.866025</td>\n",
              "      <td>-0.781831</td>\n",
              "      <td>0.623490</td>\n",
              "    </tr>\n",
              "  </tbody>\n",
              "</table>\n",
              "</div>"
            ],
            "text/plain": [
              "   region_id warehouse_id d_id isbn_id order_id order_date       evsd   \n",
              "0          1         JFK2  540   30718    67271 2022-11-02 2022-11-14  \\\n",
              "1          1         JFK2  540   30718   125389 2022-11-20 2022-12-01   \n",
              "4          1         JFK2    7    8748    33598 2022-11-15 2022-11-16   \n",
              "5          1         JFK2    7    8748   142228 2022-11-01 2022-11-02   \n",
              "6          1         JFK2    7    8748    27330 2022-11-05 2022-11-06   \n",
              "\n",
              "  po_source_ind  quantity_ordered  quantity_submitted  quantity_received   \n",
              "0      AFT Lite                54                  54                 54  \\\n",
              "1      AFT Lite                60                  60                 60   \n",
              "4      AFT Lite                 8                   8                  8   \n",
              "5      AFT Lite                16                  16                 16   \n",
              "6      AFT Lite                 0                  24                  0   \n",
              "\n",
              "   row_group_ind  visibility    tag   \n",
              "0              4           9  train  \\\n",
              "1              5           3  train   \n",
              "4              1           1  train   \n",
              "5              3           1  train   \n",
              "6              6           1  train   \n",
              "\n",
              "                                           unique_id  order_delivery_days   \n",
              "0  JFK2_540_30718_67271                          ...                   12  \\\n",
              "1  JFK2_540_30718_125389                         ...                   11   \n",
              "4  JFK2_7_8748_33598                           _2...                    1   \n",
              "5  JFK2_7_8748_142228                           _...                    1   \n",
              "6  JFK2_7_8748_27330                           _2...                    1   \n",
              "\n",
              "   d_id_509  d_id_584  d_id_540  d_id_648  d_id_410  d_id_7  d_id_1  d_id_643   \n",
              "0         0         0         1         0         0       0       0         0  \\\n",
              "1         0         0         1         0         0       0       0         0   \n",
              "4         0         0         0         0         0       1       0         0   \n",
              "5         0         0         0         0         0       1       0         0   \n",
              "6         0         0         0         0         0       1       0         0   \n",
              "\n",
              "   d_id_454  d_id_110  isbn_id_4595  isbn_id_26550  isbn_id_27825   \n",
              "0         0         0             0              0              0  \\\n",
              "1         0         0             0              0              0   \n",
              "4         0         0             0              0              0   \n",
              "5         0         0             0              0              0   \n",
              "6         0         0             0              0              0   \n",
              "\n",
              "   isbn_id_14820  isbn_id_19934  isbn_id_29771  isbn_id_7865  isbn_id_31986   \n",
              "0              0              0              0             0              0  \\\n",
              "1              0              0              0             0              0   \n",
              "4              0              0              0             0              0   \n",
              "5              0              0              0             0              0   \n",
              "6              0              0              0             0              0   \n",
              "\n",
              "   isbn_id_6790  isbn_id_8453  po_source_ind_AFT_Lite  row_group_ind_4   \n",
              "0             0             0                       1                0  \\\n",
              "1             0             0                       1                0   \n",
              "4             0             0                       1                0   \n",
              "5             0             0                       1                0   \n",
              "6             0             0                       1                0   \n",
              "\n",
              "   row_group_ind_1  row_group_ind_5  row_group_ind_3  row_group_ind_2   \n",
              "0                0                0                0                0  \\\n",
              "1                0                0                0                0   \n",
              "4                0                0                0                0   \n",
              "5                0                0                0                0   \n",
              "6                0                0                0                0   \n",
              "\n",
              "   row_group_ind_6  row_group_ind_0  row_group_ind_7  order_day   \n",
              "0                0                0                0          2  \\\n",
              "1                0                0                0         20   \n",
              "4                0                0                0         15   \n",
              "5                0                0                0          1   \n",
              "6                0                0                0          5   \n",
              "\n",
              "   order_dayofweek  order_dayofyear  delivered_day  delivered_dayofweek   \n",
              "0                2              306             14                    0  \\\n",
              "1                6              324              1                    3   \n",
              "4                1              319             16                    2   \n",
              "5                1              305              2                    2   \n",
              "6                5              309              6                    6   \n",
              "\n",
              "   delivered_dayofyear  order_month_sin  order_month_cos  order_dayofweek_sin   \n",
              "0                  318             -0.5         0.866025             0.974928  \\\n",
              "1                  335             -0.5         0.866025            -0.781831   \n",
              "4                  320             -0.5         0.866025             0.781831   \n",
              "5                  306             -0.5         0.866025             0.781831   \n",
              "6                  310             -0.5         0.866025            -0.974928   \n",
              "\n",
              "   order_dayofweek_cos  delivered_month_sin  delivered_month_cos   \n",
              "0            -0.222521        -5.000000e-01             0.866025  \\\n",
              "1             0.623490        -2.449294e-16             1.000000   \n",
              "4             0.623490        -5.000000e-01             0.866025   \n",
              "5             0.623490        -5.000000e-01             0.866025   \n",
              "6            -0.222521        -5.000000e-01             0.866025   \n",
              "\n",
              "   delivered_dayofweek_sin  delivered_dayofweek_cos  \n",
              "0                 0.000000                 1.000000  \n",
              "1                 0.433884                -0.900969  \n",
              "4                 0.974928                -0.222521  \n",
              "5                 0.974928                -0.222521  \n",
              "6                -0.781831                 0.623490  "
            ]
          },
          "metadata": {},
          "output_type": "display_data"
        }
      ],
      "source": [
        "\n",
        "X_train['order_day'] = X_train['order_date'].dt.day\n",
        "X_train['order_dayofweek'] = X_train['order_date'].dt.dayofweek\n",
        "X_train['order_dayofyear'] = X_train['order_date'].dt.dayofyear\n",
        "X_train['order_month'] = X_train['order_date'].dt.month\n",
        "\n",
        "X_train['delivered_day'] = X_train['evsd'].dt.day\n",
        "X_train['delivered_dayofweek'] = X_train['evsd'].dt.dayofweek\n",
        "X_train['delivered_dayofyear'] = X_train['evsd'].dt.dayofyear\n",
        "X_train['delivered_month'] = X_train['evsd'].dt.month\n",
        "\n",
        "X_train['order_month_sin'] = np.sin(2 * np.pi * X_train['order_month'] / 12)\n",
        "X_train['order_month_cos'] = np.cos(2 * np.pi * X_train['order_month'] / 12)\n",
        "\n",
        "X_train['order_dayofweek_sin'] = np.sin(2 * np.pi * X_train['order_dayofweek'] / 7)\n",
        "X_train['order_dayofweek_cos'] = np.cos(2 * np.pi * X_train['order_dayofweek'] / 7)\n",
        "\n",
        "X_train['delivered_month_sin'] = np.sin(2 * np.pi * X_train['delivered_month'] / 12)\n",
        "X_train['delivered_month_cos'] = np.cos(2 * np.pi * X_train['delivered_month'] / 12)\n",
        "\n",
        "X_train['delivered_dayofweek_sin'] = np.sin(2 * np.pi * X_train['delivered_dayofweek'] / 7)\n",
        "X_train['delivered_dayofweek_cos'] = np.cos(2 * np.pi * X_train['delivered_dayofweek'] / 7)\n",
        "\n",
        "X_train.drop(['order_month','delivered_month'], axis =1, inplace = True)\n",
        "display(X_train.head())\n",
        "\n",
        "\n",
        "X_valid['order_day'] = X_valid['order_date'].dt.day\n",
        "X_valid['order_dayofweek'] = X_valid['order_date'].dt.dayofweek\n",
        "X_valid['order_dayofyear'] = X_valid['order_date'].dt.dayofyear\n",
        "X_valid['order_month'] = X_valid['order_date'].dt.month\n",
        "\n",
        "X_valid['delivered_day'] = X_valid['evsd'].dt.day\n",
        "X_valid['delivered_dayofweek'] = X_valid['evsd'].dt.dayofweek\n",
        "X_valid['delivered_dayofyear'] = X_valid['evsd'].dt.dayofyear\n",
        "X_valid['delivered_month'] = X_valid['evsd'].dt.month\n",
        "\n",
        "X_valid['order_month_sin'] = np.sin(2 * np.pi * X_valid['order_month'] / 12)\n",
        "X_valid['order_month_cos'] = np.cos(2 * np.pi * X_valid['order_month'] / 12)\n",
        "\n",
        "X_valid['order_dayofweek_sin'] = np.sin(2 * np.pi * X_valid['order_dayofweek'] / 7)\n",
        "X_valid['order_dayofweek_cos'] = np.cos(2 * np.pi * X_valid['order_dayofweek'] / 7)\n",
        "\n",
        "X_valid['delivered_month_sin'] = np.sin(2 * np.pi * X_valid['delivered_month'] / 12)\n",
        "X_valid['delivered_month_cos'] = np.cos(2 * np.pi * X_valid['delivered_month'] / 12)\n",
        "\n",
        "X_valid['delivered_dayofweek_sin'] = np.sin(2 * np.pi * X_valid['delivered_dayofweek'] / 7)\n",
        "X_valid['delivered_dayofweek_cos'] = np.cos(2 * np.pi * X_valid['delivered_dayofweek'] / 7)\n",
        "\n",
        "X_valid.drop(['order_month','delivered_month'], axis =1, inplace = True)\n",
        "display(X_valid.head())\n",
        "\n",
        "\n"
      ]
    },
    {
      "cell_type": "code",
      "execution_count": 24,
      "metadata": {},
      "outputs": [],
      "source": [
        "req_cols = [col for col in X_train.columns if col not in ['region_id', 'warehouse_id', 'd_id', 'isbn_id', 'order_id', 'order_date', 'evsd', 'po_source_ind', 'tag', 'unique_id', 'row_group_ind','quantity_received']]\n"
      ]
    },
    {
      "cell_type": "code",
      "execution_count": null,
      "metadata": {},
      "outputs": [],
      "source": [
        "def mae(y_true, predictions):\n",
        "    y_true, predictions = np.array(y_true), np.array(predictions)\n",
        "    return np.mean(np.abs(y_true - predictions))"
      ]
    },
    {
      "cell_type": "code",
      "execution_count": 46,
      "metadata": {},
      "outputs": [],
      "source": [
        "def new_metric(df):\n",
        "    df['mae'] = df[['quantity_received', 'preds']].apply(lambda row: mae(row['quantity_received'], row['preds']), axis=1)\n",
        "    final_error = df['mae'].sum()/ df['preds'].sum()\n",
        "    return final_error"
      ]
    },
    {
      "cell_type": "code",
      "execution_count": 47,
      "metadata": {},
      "outputs": [
        {
          "name": "stderr",
          "output_type": "stream",
          "text": [
            "C:\\Users\\nshre\\AppData\\Local\\Temp\\ipykernel_12864\\3137132013.py:13: SettingWithCopyWarning: \n",
            "A value is trying to be set on a copy of a slice from a DataFrame.\n",
            "Try using .loc[row_indexer,col_indexer] = value instead\n",
            "\n",
            "See the caveats in the documentation: https://pandas.pydata.org/pandas-docs/stable/user_guide/indexing.html#returning-a-view-versus-a-copy\n",
            "  X_valid['preds'] = rf_model.predict(xvalid)\n"
          ]
        },
        {
          "name": "stdout",
          "output_type": "stream",
          "text": [
            "Mean Absolute Error :  5.434794445068843\n",
            "R2_score :  0.5378839752506729\n",
            "Adjusted R-Square:  0.5376913312681708\n",
            "0.4168225344250589\n"
          ]
        },
        {
          "name": "stderr",
          "output_type": "stream",
          "text": [
            "C:\\Users\\nshre\\AppData\\Local\\Temp\\ipykernel_12864\\56918459.py:2: SettingWithCopyWarning: \n",
            "A value is trying to be set on a copy of a slice from a DataFrame.\n",
            "Try using .loc[row_indexer,col_indexer] = value instead\n",
            "\n",
            "See the caveats in the documentation: https://pandas.pydata.org/pandas-docs/stable/user_guide/indexing.html#returning-a-view-versus-a-copy\n",
            "  df['mae'] = df[['quantity_received', 'preds']].apply(lambda row: mae(row['quantity_received'], row['preds']), axis=1)\n"
          ]
        }
      ],
      "source": [
        "xtrain =X_train[req_cols].copy()\n",
        "xvalid = X_valid[req_cols].copy()\n",
        "y_train = X_train['quantity_received']\n",
        "y_test = X_valid['quantity_received']\n",
        "\n",
        "\n",
        "xtrain[req_cols] = qt.fit_transform(xtrain[req_cols])\n",
        "xvalid[req_cols] = qt.transform(xvalid[req_cols])\n",
        "\n",
        "# Create a Random Forest Regressor model with the hyperparameters\n",
        "# rf_model = RandomForestRegressor(n_estimators=30,random_state=42)\n",
        "# rf_model.fit(xtrain, y_train)\n",
        "X_valid['preds'] = rf_model.predict(xvalid)\n",
        "mae_ = mean_absolute_error(y_test, X_valid['preds'])\n",
        "r2_sc = r2_score(y_test, X_valid['preds'])\n",
        "print(\"Mean Absolute Error : \", mae_)\n",
        "print(\"R2_score : \", r2_sc)\n",
        "r2 = r2_sc.copy()\n",
        "n = len(y_test)\n",
        "p = xvalid.shape[1]  # number of features in X\n",
        "adj_r2 = 1 - ((1 - r2) * (n - 1)) / (n - p - 1)\n",
        "print(\"Adjusted R-Square: \", adj_r2)\n",
        "final_error = new_metric(X_valid)\n",
        "print(final_error)\n",
        "\n"
      ]
    },
    {
      "cell_type": "code",
      "execution_count": 51,
      "metadata": {},
      "outputs": [
        {
          "name": "stderr",
          "output_type": "stream",
          "text": [
            "\u001b[32m[I 2023-05-01 13:48:55,777]\u001b[0m A new study created in memory with name: no-name-a9808f54-a1b3-400d-aece-81ae7c6687d8\u001b[0m\n",
            "C:\\Users\\nshre\\AppData\\Local\\Temp\\ipykernel_12864\\2791605496.py:10: FutureWarning: suggest_loguniform has been deprecated in v3.0.0. This feature will be removed in v6.0.0. See https://github.com/optuna/optuna/releases/tag/v3.0.0. Use :func:`~optuna.trial.Trial.suggest_float` instead.\n",
            "  reg_lambda = trial.suggest_loguniform(\"reg_lambda\", 1e-8, 100.0)\n",
            "C:\\Users\\nshre\\AppData\\Local\\Temp\\ipykernel_12864\\2791605496.py:11: FutureWarning: suggest_loguniform has been deprecated in v3.0.0. This feature will be removed in v6.0.0. See https://github.com/optuna/optuna/releases/tag/v3.0.0. Use :func:`~optuna.trial.Trial.suggest_float` instead.\n",
            "  reg_alpha = trial.suggest_loguniform(\"reg_alpha\", 1e-8, 100.0)\n"
          ]
        },
        {
          "name": "stdout",
          "output_type": "stream",
          "text": [
            "Mean Absolute Error :  4.964312758831197\n",
            "R2_score :  0.5572387838956188\n",
            "Adjusted R-Square:  0.5570542084223615\n"
          ]
        },
        {
          "name": "stderr",
          "output_type": "stream",
          "text": [
            "\u001b[32m[I 2023-05-01 13:49:48,670]\u001b[0m Trial 0 finished with value: 0.3573869003998817 and parameters: {'learning_rate': 0.024062633584525494, 'reg_lambda': 0.5302322775357684, 'reg_alpha': 1.0779420377638884e-07, 'subsample': 0.8472258033819929, 'colsample_bytree': 0.30810152442768746, 'max_depth': 3, 'n_estimators': 800}. Best is trial 0 with value: 0.3573869003998817.\u001b[0m\n"
          ]
        },
        {
          "name": "stdout",
          "output_type": "stream",
          "text": [
            "Custom Error:  0.3573869003998817\n"
          ]
        },
        {
          "name": "stderr",
          "output_type": "stream",
          "text": [
            "C:\\Users\\nshre\\AppData\\Local\\Temp\\ipykernel_12864\\2791605496.py:10: FutureWarning: suggest_loguniform has been deprecated in v3.0.0. This feature will be removed in v6.0.0. See https://github.com/optuna/optuna/releases/tag/v3.0.0. Use :func:`~optuna.trial.Trial.suggest_float` instead.\n",
            "  reg_lambda = trial.suggest_loguniform(\"reg_lambda\", 1e-8, 100.0)\n",
            "C:\\Users\\nshre\\AppData\\Local\\Temp\\ipykernel_12864\\2791605496.py:11: FutureWarning: suggest_loguniform has been deprecated in v3.0.0. This feature will be removed in v6.0.0. See https://github.com/optuna/optuna/releases/tag/v3.0.0. Use :func:`~optuna.trial.Trial.suggest_float` instead.\n",
            "  reg_alpha = trial.suggest_loguniform(\"reg_alpha\", 1e-8, 100.0)\n"
          ]
        },
        {
          "name": "stdout",
          "output_type": "stream",
          "text": [
            "Mean Absolute Error :  6.09391848363381\n",
            "R2_score :  0.5299794465679821\n",
            "Adjusted R-Square:  0.5297835073959525\n"
          ]
        },
        {
          "name": "stderr",
          "output_type": "stream",
          "text": [
            "\u001b[32m[I 2023-05-01 13:53:49,284]\u001b[0m Trial 1 finished with value: 0.5068525325148309 and parameters: {'learning_rate': 0.0904248285415048, 'reg_lambda': 0.0018170377343215845, 'reg_alpha': 0.0010324660697566533, 'subsample': 0.6697210022842387, 'colsample_bytree': 0.7059416382478167, 'max_depth': 3, 'n_estimators': 2887}. Best is trial 0 with value: 0.3573869003998817.\u001b[0m\n"
          ]
        },
        {
          "name": "stdout",
          "output_type": "stream",
          "text": [
            "Custom Error:  0.5068525325148309\n"
          ]
        },
        {
          "name": "stderr",
          "output_type": "stream",
          "text": [
            "C:\\Users\\nshre\\AppData\\Local\\Temp\\ipykernel_12864\\2791605496.py:10: FutureWarning: suggest_loguniform has been deprecated in v3.0.0. This feature will be removed in v6.0.0. See https://github.com/optuna/optuna/releases/tag/v3.0.0. Use :func:`~optuna.trial.Trial.suggest_float` instead.\n",
            "  reg_lambda = trial.suggest_loguniform(\"reg_lambda\", 1e-8, 100.0)\n",
            "C:\\Users\\nshre\\AppData\\Local\\Temp\\ipykernel_12864\\2791605496.py:11: FutureWarning: suggest_loguniform has been deprecated in v3.0.0. This feature will be removed in v6.0.0. See https://github.com/optuna/optuna/releases/tag/v3.0.0. Use :func:`~optuna.trial.Trial.suggest_float` instead.\n",
            "  reg_alpha = trial.suggest_loguniform(\"reg_alpha\", 1e-8, 100.0)\n"
          ]
        },
        {
          "name": "stdout",
          "output_type": "stream",
          "text": [
            "Mean Absolute Error :  6.74444393201544\n",
            "R2_score :  0.5650217076701751\n",
            "Adjusted R-Square:  0.5648403766925665\n"
          ]
        },
        {
          "name": "stderr",
          "output_type": "stream",
          "text": [
            "\u001b[32m[I 2023-05-01 13:58:09,826]\u001b[0m Trial 2 finished with value: 0.6582624199679276 and parameters: {'learning_rate': 0.08920830403904134, 'reg_lambda': 0.004142147394071729, 'reg_alpha': 18.21996645352845, 'subsample': 0.6095302871129272, 'colsample_bytree': 0.9890190231282137, 'max_depth': 4, 'n_estimators': 2013}. Best is trial 0 with value: 0.3573869003998817.\u001b[0m\n"
          ]
        },
        {
          "name": "stdout",
          "output_type": "stream",
          "text": [
            "Custom Error:  0.6582624199679276\n"
          ]
        },
        {
          "name": "stderr",
          "output_type": "stream",
          "text": [
            "C:\\Users\\nshre\\AppData\\Local\\Temp\\ipykernel_12864\\2791605496.py:10: FutureWarning: suggest_loguniform has been deprecated in v3.0.0. This feature will be removed in v6.0.0. See https://github.com/optuna/optuna/releases/tag/v3.0.0. Use :func:`~optuna.trial.Trial.suggest_float` instead.\n",
            "  reg_lambda = trial.suggest_loguniform(\"reg_lambda\", 1e-8, 100.0)\n",
            "C:\\Users\\nshre\\AppData\\Local\\Temp\\ipykernel_12864\\2791605496.py:11: FutureWarning: suggest_loguniform has been deprecated in v3.0.0. This feature will be removed in v6.0.0. See https://github.com/optuna/optuna/releases/tag/v3.0.0. Use :func:`~optuna.trial.Trial.suggest_float` instead.\n",
            "  reg_alpha = trial.suggest_loguniform(\"reg_alpha\", 1e-8, 100.0)\n"
          ]
        },
        {
          "name": "stdout",
          "output_type": "stream",
          "text": [
            "Mean Absolute Error :  4.76007629613642\n",
            "R2_score :  0.5700158651476742\n",
            "Adjusted R-Square:  0.5698366161025981\n"
          ]
        },
        {
          "name": "stderr",
          "output_type": "stream",
          "text": [
            "\u001b[32m[I 2023-05-01 13:59:33,978]\u001b[0m Trial 3 finished with value: 0.3483896670895734 and parameters: {'learning_rate': 0.023952788490740496, 'reg_lambda': 37.12676499257691, 'reg_alpha': 0.0358975763328946, 'subsample': 0.2659879274701461, 'colsample_bytree': 0.9529758803123948, 'max_depth': 4, 'n_estimators': 742}. Best is trial 3 with value: 0.3483896670895734.\u001b[0m\n"
          ]
        },
        {
          "name": "stdout",
          "output_type": "stream",
          "text": [
            "Custom Error:  0.3483896670895734\n"
          ]
        },
        {
          "name": "stderr",
          "output_type": "stream",
          "text": [
            "C:\\Users\\nshre\\AppData\\Local\\Temp\\ipykernel_12864\\2791605496.py:10: FutureWarning: suggest_loguniform has been deprecated in v3.0.0. This feature will be removed in v6.0.0. See https://github.com/optuna/optuna/releases/tag/v3.0.0. Use :func:`~optuna.trial.Trial.suggest_float` instead.\n",
            "  reg_lambda = trial.suggest_loguniform(\"reg_lambda\", 1e-8, 100.0)\n",
            "C:\\Users\\nshre\\AppData\\Local\\Temp\\ipykernel_12864\\2791605496.py:11: FutureWarning: suggest_loguniform has been deprecated in v3.0.0. This feature will be removed in v6.0.0. See https://github.com/optuna/optuna/releases/tag/v3.0.0. Use :func:`~optuna.trial.Trial.suggest_float` instead.\n",
            "  reg_alpha = trial.suggest_loguniform(\"reg_alpha\", 1e-8, 100.0)\n"
          ]
        },
        {
          "name": "stdout",
          "output_type": "stream",
          "text": [
            "Mean Absolute Error :  5.234946018134578\n",
            "R2_score :  0.5713572890713696\n",
            "Adjusted R-Square:  0.5711785992305476\n",
            "Custom Error:  0.3958777860167141\n"
          ]
        },
        {
          "name": "stderr",
          "output_type": "stream",
          "text": [
            "\u001b[32m[I 2023-05-01 14:02:46,859]\u001b[0m Trial 4 finished with value: 0.3958777860167141 and parameters: {'learning_rate': 0.04722767485302928, 'reg_lambda': 0.12719808525966947, 'reg_alpha': 1.555331700817579e-05, 'subsample': 0.5149020916377237, 'colsample_bytree': 0.3200770059681363, 'max_depth': 4, 'n_estimators': 2209}. Best is trial 3 with value: 0.3483896670895734.\u001b[0m\n",
            "C:\\Users\\nshre\\AppData\\Local\\Temp\\ipykernel_12864\\2791605496.py:10: FutureWarning: suggest_loguniform has been deprecated in v3.0.0. This feature will be removed in v6.0.0. See https://github.com/optuna/optuna/releases/tag/v3.0.0. Use :func:`~optuna.trial.Trial.suggest_float` instead.\n",
            "  reg_lambda = trial.suggest_loguniform(\"reg_lambda\", 1e-8, 100.0)\n",
            "C:\\Users\\nshre\\AppData\\Local\\Temp\\ipykernel_12864\\2791605496.py:11: FutureWarning: suggest_loguniform has been deprecated in v3.0.0. This feature will be removed in v6.0.0. See https://github.com/optuna/optuna/releases/tag/v3.0.0. Use :func:`~optuna.trial.Trial.suggest_float` instead.\n",
            "  reg_alpha = trial.suggest_loguniform(\"reg_alpha\", 1e-8, 100.0)\n"
          ]
        },
        {
          "name": "stdout",
          "output_type": "stream",
          "text": [
            "Mean Absolute Error :  5.340407179289597\n",
            "R2_score :  0.5572926114749797\n",
            "Adjusted R-Square:  0.5571080584410206\n"
          ]
        },
        {
          "name": "stderr",
          "output_type": "stream",
          "text": [
            "\u001b[32m[I 2023-05-01 14:04:47,320]\u001b[0m Trial 5 finished with value: 0.40624637199121705 and parameters: {'learning_rate': 0.061681101316608054, 'reg_lambda': 0.03105900704747869, 'reg_alpha': 0.028431148977773622, 'subsample': 0.7092099784217432, 'colsample_bytree': 0.888726104659897, 'max_depth': 3, 'n_estimators': 1364}. Best is trial 3 with value: 0.3483896670895734.\u001b[0m\n"
          ]
        },
        {
          "name": "stdout",
          "output_type": "stream",
          "text": [
            "Custom Error:  0.40624637199121705\n"
          ]
        },
        {
          "name": "stderr",
          "output_type": "stream",
          "text": [
            "C:\\Users\\nshre\\AppData\\Local\\Temp\\ipykernel_12864\\2791605496.py:10: FutureWarning: suggest_loguniform has been deprecated in v3.0.0. This feature will be removed in v6.0.0. See https://github.com/optuna/optuna/releases/tag/v3.0.0. Use :func:`~optuna.trial.Trial.suggest_float` instead.\n",
            "  reg_lambda = trial.suggest_loguniform(\"reg_lambda\", 1e-8, 100.0)\n",
            "C:\\Users\\nshre\\AppData\\Local\\Temp\\ipykernel_12864\\2791605496.py:11: FutureWarning: suggest_loguniform has been deprecated in v3.0.0. This feature will be removed in v6.0.0. See https://github.com/optuna/optuna/releases/tag/v3.0.0. Use :func:`~optuna.trial.Trial.suggest_float` instead.\n",
            "  reg_alpha = trial.suggest_loguniform(\"reg_alpha\", 1e-8, 100.0)\n"
          ]
        },
        {
          "name": "stdout",
          "output_type": "stream",
          "text": [
            "Mean Absolute Error :  5.19091352803167\n",
            "R2_score :  0.5589188758817649\n",
            "Adjusted R-Square:  0.5587350007945446\n"
          ]
        },
        {
          "name": "stderr",
          "output_type": "stream",
          "text": [
            "\u001b[32m[I 2023-05-01 14:07:19,496]\u001b[0m Trial 6 finished with value: 0.3821256660130852 and parameters: {'learning_rate': 0.05979209370712706, 'reg_lambda': 10.786107894370621, 'reg_alpha': 9.415635664116319e-06, 'subsample': 0.2786391652250664, 'colsample_bytree': 0.30522766153349284, 'max_depth': 5, 'n_estimators': 1579}. Best is trial 3 with value: 0.3483896670895734.\u001b[0m\n"
          ]
        },
        {
          "name": "stdout",
          "output_type": "stream",
          "text": [
            "Custom Error:  0.3821256660130852\n"
          ]
        },
        {
          "name": "stderr",
          "output_type": "stream",
          "text": [
            "C:\\Users\\nshre\\AppData\\Local\\Temp\\ipykernel_12864\\2791605496.py:10: FutureWarning: suggest_loguniform has been deprecated in v3.0.0. This feature will be removed in v6.0.0. See https://github.com/optuna/optuna/releases/tag/v3.0.0. Use :func:`~optuna.trial.Trial.suggest_float` instead.\n",
            "  reg_lambda = trial.suggest_loguniform(\"reg_lambda\", 1e-8, 100.0)\n",
            "C:\\Users\\nshre\\AppData\\Local\\Temp\\ipykernel_12864\\2791605496.py:11: FutureWarning: suggest_loguniform has been deprecated in v3.0.0. This feature will be removed in v6.0.0. See https://github.com/optuna/optuna/releases/tag/v3.0.0. Use :func:`~optuna.trial.Trial.suggest_float` instead.\n",
            "  reg_alpha = trial.suggest_loguniform(\"reg_alpha\", 1e-8, 100.0)\n"
          ]
        },
        {
          "name": "stdout",
          "output_type": "stream",
          "text": [
            "Mean Absolute Error :  10.870123332308086\n",
            "R2_score :  0.1336721222061592\n",
            "Adjusted R-Square:  0.133310972963128\n"
          ]
        },
        {
          "name": "stderr",
          "output_type": "stream",
          "text": [
            "\u001b[32m[I 2023-05-01 14:07:40,092]\u001b[0m Trial 7 finished with value: 2.386974187282933 and parameters: {'learning_rate': 0.0057710382758350744, 'reg_lambda': 2.2260140536130257e-06, 'reg_alpha': 16.96581422035373, 'subsample': 0.6163984453904692, 'colsample_bytree': 0.262412610426475, 'max_depth': 4, 'n_estimators': 62}. Best is trial 3 with value: 0.3483896670895734.\u001b[0m\n"
          ]
        },
        {
          "name": "stdout",
          "output_type": "stream",
          "text": [
            "Custom Error:  2.386974187282933\n"
          ]
        },
        {
          "name": "stderr",
          "output_type": "stream",
          "text": [
            "C:\\Users\\nshre\\AppData\\Local\\Temp\\ipykernel_12864\\2791605496.py:10: FutureWarning: suggest_loguniform has been deprecated in v3.0.0. This feature will be removed in v6.0.0. See https://github.com/optuna/optuna/releases/tag/v3.0.0. Use :func:`~optuna.trial.Trial.suggest_float` instead.\n",
            "  reg_lambda = trial.suggest_loguniform(\"reg_lambda\", 1e-8, 100.0)\n",
            "C:\\Users\\nshre\\AppData\\Local\\Temp\\ipykernel_12864\\2791605496.py:11: FutureWarning: suggest_loguniform has been deprecated in v3.0.0. This feature will be removed in v6.0.0. See https://github.com/optuna/optuna/releases/tag/v3.0.0. Use :func:`~optuna.trial.Trial.suggest_float` instead.\n",
            "  reg_alpha = trial.suggest_loguniform(\"reg_alpha\", 1e-8, 100.0)\n"
          ]
        },
        {
          "name": "stdout",
          "output_type": "stream",
          "text": [
            "Mean Absolute Error :  6.0453092101524994\n",
            "R2_score :  0.5630939872432007\n",
            "Adjusted R-Square:  0.5629118526497894\n"
          ]
        },
        {
          "name": "stderr",
          "output_type": "stream",
          "text": [
            "\u001b[32m[I 2023-05-01 14:08:39,573]\u001b[0m Trial 8 finished with value: 0.5199596312777377 and parameters: {'learning_rate': 0.08707979066808078, 'reg_lambda': 4.041909525410783e-08, 'reg_alpha': 0.002539043886967415, 'subsample': 0.4340919697531098, 'colsample_bytree': 0.3449031358694457, 'max_depth': 5, 'n_estimators': 488}. Best is trial 3 with value: 0.3483896670895734.\u001b[0m\n"
          ]
        },
        {
          "name": "stdout",
          "output_type": "stream",
          "text": [
            "Custom Error:  0.5199596312777377\n"
          ]
        },
        {
          "name": "stderr",
          "output_type": "stream",
          "text": [
            "C:\\Users\\nshre\\AppData\\Local\\Temp\\ipykernel_12864\\2791605496.py:10: FutureWarning: suggest_loguniform has been deprecated in v3.0.0. This feature will be removed in v6.0.0. See https://github.com/optuna/optuna/releases/tag/v3.0.0. Use :func:`~optuna.trial.Trial.suggest_float` instead.\n",
            "  reg_lambda = trial.suggest_loguniform(\"reg_lambda\", 1e-8, 100.0)\n",
            "C:\\Users\\nshre\\AppData\\Local\\Temp\\ipykernel_12864\\2791605496.py:11: FutureWarning: suggest_loguniform has been deprecated in v3.0.0. This feature will be removed in v6.0.0. See https://github.com/optuna/optuna/releases/tag/v3.0.0. Use :func:`~optuna.trial.Trial.suggest_float` instead.\n",
            "  reg_alpha = trial.suggest_loguniform(\"reg_alpha\", 1e-8, 100.0)\n"
          ]
        },
        {
          "name": "stdout",
          "output_type": "stream",
          "text": [
            "Mean Absolute Error :  6.270326134070927\n",
            "R2_score :  0.5764214610994849\n",
            "Adjusted R-Square:  0.5762448823784148\n"
          ]
        },
        {
          "name": "stderr",
          "output_type": "stream",
          "text": [
            "\u001b[32m[I 2023-05-01 14:13:34,518]\u001b[0m Trial 9 finished with value: 0.5757100729772554 and parameters: {'learning_rate': 0.044207392984355984, 'reg_lambda': 12.76031302702067, 'reg_alpha': 2.116605105415951e-07, 'subsample': 0.8801026152001282, 'colsample_bytree': 0.9592071841271801, 'max_depth': 5, 'n_estimators': 1944}. Best is trial 3 with value: 0.3483896670895734.\u001b[0m\n"
          ]
        },
        {
          "name": "stdout",
          "output_type": "stream",
          "text": [
            "Custom Error:  0.5757100729772554\n"
          ]
        },
        {
          "name": "stderr",
          "output_type": "stream",
          "text": [
            "C:\\Users\\nshre\\AppData\\Local\\Temp\\ipykernel_12864\\2791605496.py:10: FutureWarning: suggest_loguniform has been deprecated in v3.0.0. This feature will be removed in v6.0.0. See https://github.com/optuna/optuna/releases/tag/v3.0.0. Use :func:`~optuna.trial.Trial.suggest_float` instead.\n",
            "  reg_lambda = trial.suggest_loguniform(\"reg_lambda\", 1e-8, 100.0)\n",
            "C:\\Users\\nshre\\AppData\\Local\\Temp\\ipykernel_12864\\2791605496.py:11: FutureWarning: suggest_loguniform has been deprecated in v3.0.0. This feature will be removed in v6.0.0. See https://github.com/optuna/optuna/releases/tag/v3.0.0. Use :func:`~optuna.trial.Trial.suggest_float` instead.\n",
            "  reg_alpha = trial.suggest_loguniform(\"reg_alpha\", 1e-8, 100.0)\n"
          ]
        },
        {
          "name": "stdout",
          "output_type": "stream",
          "text": [
            "Mean Absolute Error :  5.315109669664407\n",
            "R2_score :  0.6553098955356806\n",
            "Adjusted R-Square:  0.6551662033222607\n"
          ]
        },
        {
          "name": "stderr",
          "output_type": "stream",
          "text": [
            "\u001b[32m[I 2023-05-01 14:15:16,040]\u001b[0m Trial 10 finished with value: 0.41660645889913756 and parameters: {'learning_rate': 0.005749366059862596, 'reg_lambda': 68.14519453360327, 'reg_alpha': 0.20458707383013697, 'subsample': 0.11250183813246833, 'colsample_bytree': 0.6290788961693439, 'max_depth': 6, 'n_estimators': 880}. Best is trial 3 with value: 0.3483896670895734.\u001b[0m\n"
          ]
        },
        {
          "name": "stdout",
          "output_type": "stream",
          "text": [
            "Custom Error:  0.41660645889913756\n"
          ]
        },
        {
          "name": "stderr",
          "output_type": "stream",
          "text": [
            "C:\\Users\\nshre\\AppData\\Local\\Temp\\ipykernel_12864\\2791605496.py:10: FutureWarning: suggest_loguniform has been deprecated in v3.0.0. This feature will be removed in v6.0.0. See https://github.com/optuna/optuna/releases/tag/v3.0.0. Use :func:`~optuna.trial.Trial.suggest_float` instead.\n",
            "  reg_lambda = trial.suggest_loguniform(\"reg_lambda\", 1e-8, 100.0)\n",
            "C:\\Users\\nshre\\AppData\\Local\\Temp\\ipykernel_12864\\2791605496.py:11: FutureWarning: suggest_loguniform has been deprecated in v3.0.0. This feature will be removed in v6.0.0. See https://github.com/optuna/optuna/releases/tag/v3.0.0. Use :func:`~optuna.trial.Trial.suggest_float` instead.\n",
            "  reg_alpha = trial.suggest_loguniform(\"reg_alpha\", 1e-8, 100.0)\n"
          ]
        },
        {
          "name": "stdout",
          "output_type": "stream",
          "text": [
            "Mean Absolute Error :  4.763972011797978\n",
            "R2_score :  0.55926754508776\n",
            "Adjusted R-Square:  0.5590838153515356\n"
          ]
        },
        {
          "name": "stderr",
          "output_type": "stream",
          "text": [
            "\u001b[32m[I 2023-05-01 14:16:35,187]\u001b[0m Trial 11 finished with value: 0.33370860604031266 and parameters: {'learning_rate': 0.026370622863200733, 'reg_lambda': 0.48554912850024223, 'reg_alpha': 1.0560845150552289e-08, 'subsample': 0.9164113346673944, 'colsample_bytree': 0.46337144199173924, 'max_depth': 3, 'n_estimators': 860}. Best is trial 11 with value: 0.33370860604031266.\u001b[0m\n"
          ]
        },
        {
          "name": "stdout",
          "output_type": "stream",
          "text": [
            "Custom Error:  0.33370860604031266\n"
          ]
        },
        {
          "name": "stderr",
          "output_type": "stream",
          "text": [
            "C:\\Users\\nshre\\AppData\\Local\\Temp\\ipykernel_12864\\2791605496.py:10: FutureWarning: suggest_loguniform has been deprecated in v3.0.0. This feature will be removed in v6.0.0. See https://github.com/optuna/optuna/releases/tag/v3.0.0. Use :func:`~optuna.trial.Trial.suggest_float` instead.\n",
            "  reg_lambda = trial.suggest_loguniform(\"reg_lambda\", 1e-8, 100.0)\n",
            "C:\\Users\\nshre\\AppData\\Local\\Temp\\ipykernel_12864\\2791605496.py:11: FutureWarning: suggest_loguniform has been deprecated in v3.0.0. This feature will be removed in v6.0.0. See https://github.com/optuna/optuna/releases/tag/v3.0.0. Use :func:`~optuna.trial.Trial.suggest_float` instead.\n",
            "  reg_alpha = trial.suggest_loguniform(\"reg_alpha\", 1e-8, 100.0)\n"
          ]
        },
        {
          "name": "stdout",
          "output_type": "stream",
          "text": [
            "Mean Absolute Error :  4.829311333701944\n",
            "R2_score :  0.5561039827409697\n",
            "Adjusted R-Square:  0.5559189341990414\n"
          ]
        },
        {
          "name": "stderr",
          "output_type": "stream",
          "text": [
            "\u001b[32m[I 2023-05-01 14:17:46,822]\u001b[0m Trial 12 finished with value: 0.3308215215591815 and parameters: {'learning_rate': 0.022509709404237223, 'reg_lambda': 1.3095786572755257, 'reg_alpha': 1.3006897484528176e-05, 'subsample': 0.9814969313580326, 'colsample_bytree': 0.5093717921834616, 'max_depth': 3, 'n_estimators': 1095}. Best is trial 12 with value: 0.3308215215591815.\u001b[0m\n"
          ]
        },
        {
          "name": "stdout",
          "output_type": "stream",
          "text": [
            "Custom Error:  0.3308215215591815\n"
          ]
        },
        {
          "name": "stderr",
          "output_type": "stream",
          "text": [
            "C:\\Users\\nshre\\AppData\\Local\\Temp\\ipykernel_12864\\2791605496.py:10: FutureWarning: suggest_loguniform has been deprecated in v3.0.0. This feature will be removed in v6.0.0. See https://github.com/optuna/optuna/releases/tag/v3.0.0. Use :func:`~optuna.trial.Trial.suggest_float` instead.\n",
            "  reg_lambda = trial.suggest_loguniform(\"reg_lambda\", 1e-8, 100.0)\n",
            "C:\\Users\\nshre\\AppData\\Local\\Temp\\ipykernel_12864\\2791605496.py:11: FutureWarning: suggest_loguniform has been deprecated in v3.0.0. This feature will be removed in v6.0.0. See https://github.com/optuna/optuna/releases/tag/v3.0.0. Use :func:`~optuna.trial.Trial.suggest_float` instead.\n",
            "  reg_alpha = trial.suggest_loguniform(\"reg_alpha\", 1e-8, 100.0)\n"
          ]
        },
        {
          "name": "stdout",
          "output_type": "stream",
          "text": [
            "Mean Absolute Error :  4.847312129489326\n",
            "R2_score :  0.5690103481748295\n",
            "Adjusted R-Square:  0.5688306799562477\n"
          ]
        },
        {
          "name": "stderr",
          "output_type": "stream",
          "text": [
            "\u001b[32m[I 2023-05-01 14:19:17,446]\u001b[0m Trial 13 finished with value: 0.34283550117195877 and parameters: {'learning_rate': 0.02618618600514947, 'reg_lambda': 0.44505412614070766, 'reg_alpha': 4.306973833221766e-08, 'subsample': 0.9819856157298377, 'colsample_bytree': 0.48001305948311745, 'max_depth': 3, 'n_estimators': 1264}. Best is trial 12 with value: 0.3308215215591815.\u001b[0m\n"
          ]
        },
        {
          "name": "stdout",
          "output_type": "stream",
          "text": [
            "Custom Error:  0.34283550117195877\n"
          ]
        },
        {
          "name": "stderr",
          "output_type": "stream",
          "text": [
            "C:\\Users\\nshre\\AppData\\Local\\Temp\\ipykernel_12864\\2791605496.py:10: FutureWarning: suggest_loguniform has been deprecated in v3.0.0. This feature will be removed in v6.0.0. See https://github.com/optuna/optuna/releases/tag/v3.0.0. Use :func:`~optuna.trial.Trial.suggest_float` instead.\n",
            "  reg_lambda = trial.suggest_loguniform(\"reg_lambda\", 1e-8, 100.0)\n",
            "C:\\Users\\nshre\\AppData\\Local\\Temp\\ipykernel_12864\\2791605496.py:11: FutureWarning: suggest_loguniform has been deprecated in v3.0.0. This feature will be removed in v6.0.0. See https://github.com/optuna/optuna/releases/tag/v3.0.0. Use :func:`~optuna.trial.Trial.suggest_float` instead.\n",
            "  reg_alpha = trial.suggest_loguniform(\"reg_alpha\", 1e-8, 100.0)\n"
          ]
        },
        {
          "name": "stdout",
          "output_type": "stream",
          "text": [
            "Mean Absolute Error :  8.086189996715099\n",
            "R2_score :  0.5904484191049821\n",
            "Adjusted R-Square:  0.5902776878527464\n"
          ]
        },
        {
          "name": "stderr",
          "output_type": "stream",
          "text": [
            "\u001b[32m[I 2023-05-01 14:19:32,740]\u001b[0m Trial 14 finished with value: 0.5902752095260586 and parameters: {'learning_rate': 0.034469783971417804, 'reg_lambda': 3.927185868219017e-05, 'reg_alpha': 1.1666654873146806e-08, 'subsample': 0.993024498146316, 'colsample_bytree': 0.12770484309335528, 'max_depth': 3, 'n_estimators': 95}. Best is trial 12 with value: 0.3308215215591815.\u001b[0m\n"
          ]
        },
        {
          "name": "stdout",
          "output_type": "stream",
          "text": [
            "Custom Error:  0.5902752095260586\n"
          ]
        },
        {
          "name": "stderr",
          "output_type": "stream",
          "text": [
            "C:\\Users\\nshre\\AppData\\Local\\Temp\\ipykernel_12864\\2791605496.py:10: FutureWarning: suggest_loguniform has been deprecated in v3.0.0. This feature will be removed in v6.0.0. See https://github.com/optuna/optuna/releases/tag/v3.0.0. Use :func:`~optuna.trial.Trial.suggest_float` instead.\n",
            "  reg_lambda = trial.suggest_loguniform(\"reg_lambda\", 1e-8, 100.0)\n",
            "C:\\Users\\nshre\\AppData\\Local\\Temp\\ipykernel_12864\\2791605496.py:11: FutureWarning: suggest_loguniform has been deprecated in v3.0.0. This feature will be removed in v6.0.0. See https://github.com/optuna/optuna/releases/tag/v3.0.0. Use :func:`~optuna.trial.Trial.suggest_float` instead.\n",
            "  reg_alpha = trial.suggest_loguniform(\"reg_alpha\", 1e-8, 100.0)\n"
          ]
        },
        {
          "name": "stdout",
          "output_type": "stream",
          "text": [
            "Mean Absolute Error :  5.203786698021933\n",
            "R2_score :  0.5807568258960636\n",
            "Adjusted R-Square:  0.5805820544742328\n",
            "Custom Error:  0.40573551002183006\n"
          ]
        },
        {
          "name": "stderr",
          "output_type": "stream",
          "text": [
            "\u001b[32m[I 2023-05-01 14:23:08,340]\u001b[0m Trial 15 finished with value: 0.40573551002183006 and parameters: {'learning_rate': 0.013408190020506158, 'reg_lambda': 0.6929923159035185, 'reg_alpha': 3.1176626757948634e-06, 'subsample': 0.8182009493345241, 'colsample_bytree': 0.4961799377106492, 'max_depth': 6, 'n_estimators': 1132}. Best is trial 12 with value: 0.3308215215591815.\u001b[0m\n",
            "C:\\Users\\nshre\\AppData\\Local\\Temp\\ipykernel_12864\\2791605496.py:10: FutureWarning: suggest_loguniform has been deprecated in v3.0.0. This feature will be removed in v6.0.0. See https://github.com/optuna/optuna/releases/tag/v3.0.0. Use :func:`~optuna.trial.Trial.suggest_float` instead.\n",
            "  reg_lambda = trial.suggest_loguniform(\"reg_lambda\", 1e-8, 100.0)\n",
            "C:\\Users\\nshre\\AppData\\Local\\Temp\\ipykernel_12864\\2791605496.py:11: FutureWarning: suggest_loguniform has been deprecated in v3.0.0. This feature will be removed in v6.0.0. See https://github.com/optuna/optuna/releases/tag/v3.0.0. Use :func:`~optuna.trial.Trial.suggest_float` instead.\n",
            "  reg_alpha = trial.suggest_loguniform(\"reg_alpha\", 1e-8, 100.0)\n"
          ]
        },
        {
          "name": "stdout",
          "output_type": "stream",
          "text": [
            "Mean Absolute Error :  4.736284087999804\n",
            "R2_score :  0.5561395923716717\n",
            "Adjusted R-Square:  0.5559545586744591\n"
          ]
        },
        {
          "name": "stderr",
          "output_type": "stream",
          "text": [
            "\u001b[32m[I 2023-05-01 14:24:01,935]\u001b[0m Trial 16 finished with value: 0.33088807768818645 and parameters: {'learning_rate': 0.015593942213816547, 'reg_lambda': 0.021626752983173743, 'reg_alpha': 1.1608894553077725e-06, 'subsample': 0.7410715155889944, 'colsample_bytree': 0.5851662751213462, 'max_depth': 3, 'n_estimators': 473}. Best is trial 12 with value: 0.3308215215591815.\u001b[0m\n"
          ]
        },
        {
          "name": "stdout",
          "output_type": "stream",
          "text": [
            "Custom Error:  0.33088807768818645\n"
          ]
        },
        {
          "name": "stderr",
          "output_type": "stream",
          "text": [
            "C:\\Users\\nshre\\AppData\\Local\\Temp\\ipykernel_12864\\2791605496.py:10: FutureWarning: suggest_loguniform has been deprecated in v3.0.0. This feature will be removed in v6.0.0. See https://github.com/optuna/optuna/releases/tag/v3.0.0. Use :func:`~optuna.trial.Trial.suggest_float` instead.\n",
            "  reg_lambda = trial.suggest_loguniform(\"reg_lambda\", 1e-8, 100.0)\n",
            "C:\\Users\\nshre\\AppData\\Local\\Temp\\ipykernel_12864\\2791605496.py:11: FutureWarning: suggest_loguniform has been deprecated in v3.0.0. This feature will be removed in v6.0.0. See https://github.com/optuna/optuna/releases/tag/v3.0.0. Use :func:`~optuna.trial.Trial.suggest_float` instead.\n",
            "  reg_alpha = trial.suggest_loguniform(\"reg_alpha\", 1e-8, 100.0)\n"
          ]
        },
        {
          "name": "stdout",
          "output_type": "stream",
          "text": [
            "Mean Absolute Error :  7.132791218231127\n",
            "R2_score :  0.6094841604226888\n",
            "Adjusted R-Square:  0.6093213646689446\n"
          ]
        },
        {
          "name": "stderr",
          "output_type": "stream",
          "text": [
            "\u001b[32m[I 2023-05-01 14:25:01,997]\u001b[0m Trial 17 finished with value: 0.6825964153728303 and parameters: {'learning_rate': 0.003295005801439939, 'reg_lambda': 0.008810008543090294, 'reg_alpha': 0.0001423311964951352, 'subsample': 0.7817289446775844, 'colsample_bytree': 0.6098954614449187, 'max_depth': 4, 'n_estimators': 395}. Best is trial 12 with value: 0.3308215215591815.\u001b[0m\n"
          ]
        },
        {
          "name": "stdout",
          "output_type": "stream",
          "text": [
            "Custom Error:  0.6825964153728303\n"
          ]
        },
        {
          "name": "stderr",
          "output_type": "stream",
          "text": [
            "C:\\Users\\nshre\\AppData\\Local\\Temp\\ipykernel_12864\\2791605496.py:10: FutureWarning: suggest_loguniform has been deprecated in v3.0.0. This feature will be removed in v6.0.0. See https://github.com/optuna/optuna/releases/tag/v3.0.0. Use :func:`~optuna.trial.Trial.suggest_float` instead.\n",
            "  reg_lambda = trial.suggest_loguniform(\"reg_lambda\", 1e-8, 100.0)\n",
            "C:\\Users\\nshre\\AppData\\Local\\Temp\\ipykernel_12864\\2791605496.py:11: FutureWarning: suggest_loguniform has been deprecated in v3.0.0. This feature will be removed in v6.0.0. See https://github.com/optuna/optuna/releases/tag/v3.0.0. Use :func:`~optuna.trial.Trial.suggest_float` instead.\n",
            "  reg_alpha = trial.suggest_loguniform(\"reg_alpha\", 1e-8, 100.0)\n"
          ]
        },
        {
          "name": "stdout",
          "output_type": "stream",
          "text": [
            "Mean Absolute Error :  5.065507439134051\n",
            "R2_score :  0.5404219343819543\n",
            "Adjusted R-Square:  0.5402303484076758\n"
          ]
        },
        {
          "name": "stderr",
          "output_type": "stream",
          "text": [
            "\u001b[32m[I 2023-05-01 14:27:28,185]\u001b[0m Trial 18 finished with value: 0.3224288026744737 and parameters: {'learning_rate': 0.014690155586651203, 'reg_lambda': 0.00026953278143164395, 'reg_alpha': 9.396872295331833e-07, 'subsample': 0.7752914831082625, 'colsample_bytree': 0.7810561110750209, 'max_depth': 3, 'n_estimators': 1651}. Best is trial 18 with value: 0.3224288026744737.\u001b[0m\n"
          ]
        },
        {
          "name": "stdout",
          "output_type": "stream",
          "text": [
            "Custom Error:  0.3224288026744737\n"
          ]
        },
        {
          "name": "stderr",
          "output_type": "stream",
          "text": [
            "C:\\Users\\nshre\\AppData\\Local\\Temp\\ipykernel_12864\\2791605496.py:10: FutureWarning: suggest_loguniform has been deprecated in v3.0.0. This feature will be removed in v6.0.0. See https://github.com/optuna/optuna/releases/tag/v3.0.0. Use :func:`~optuna.trial.Trial.suggest_float` instead.\n",
            "  reg_lambda = trial.suggest_loguniform(\"reg_lambda\", 1e-8, 100.0)\n",
            "C:\\Users\\nshre\\AppData\\Local\\Temp\\ipykernel_12864\\2791605496.py:11: FutureWarning: suggest_loguniform has been deprecated in v3.0.0. This feature will be removed in v6.0.0. See https://github.com/optuna/optuna/releases/tag/v3.0.0. Use :func:`~optuna.trial.Trial.suggest_float` instead.\n",
            "  reg_alpha = trial.suggest_loguniform(\"reg_alpha\", 1e-8, 100.0)\n"
          ]
        },
        {
          "name": "stdout",
          "output_type": "stream",
          "text": [
            "Mean Absolute Error :  6.565947046062506\n",
            "R2_score :  0.5986571842175537\n",
            "Adjusted R-Square:  0.5984898749829888\n"
          ]
        },
        {
          "name": "stderr",
          "output_type": "stream",
          "text": [
            "\u001b[32m[I 2023-05-01 14:31:57,548]\u001b[0m Trial 19 finished with value: 0.6375204413998096 and parameters: {'learning_rate': 0.03749899148405545, 'reg_lambda': 0.0003196264545455007, 'reg_alpha': 6.97621536257792e-05, 'subsample': 0.9072865339833349, 'colsample_bytree': 0.770461764018403, 'max_depth': 4, 'n_estimators': 2510}. Best is trial 18 with value: 0.3224288026744737.\u001b[0m\n"
          ]
        },
        {
          "name": "stdout",
          "output_type": "stream",
          "text": [
            "Custom Error:  0.6375204413998096\n"
          ]
        },
        {
          "name": "stderr",
          "output_type": "stream",
          "text": [
            "C:\\Users\\nshre\\AppData\\Local\\Temp\\ipykernel_12864\\2791605496.py:10: FutureWarning: suggest_loguniform has been deprecated in v3.0.0. This feature will be removed in v6.0.0. See https://github.com/optuna/optuna/releases/tag/v3.0.0. Use :func:`~optuna.trial.Trial.suggest_float` instead.\n",
            "  reg_lambda = trial.suggest_loguniform(\"reg_lambda\", 1e-8, 100.0)\n",
            "C:\\Users\\nshre\\AppData\\Local\\Temp\\ipykernel_12864\\2791605496.py:11: FutureWarning: suggest_loguniform has been deprecated in v3.0.0. This feature will be removed in v6.0.0. See https://github.com/optuna/optuna/releases/tag/v3.0.0. Use :func:`~optuna.trial.Trial.suggest_float` instead.\n",
            "  reg_alpha = trial.suggest_loguniform(\"reg_alpha\", 1e-8, 100.0)\n"
          ]
        },
        {
          "name": "stdout",
          "output_type": "stream",
          "text": [
            "Mean Absolute Error :  4.835803911286057\n",
            "R2_score :  0.5400422988074374\n",
            "Adjusted R-Square:  0.5398505545731007\n"
          ]
        },
        {
          "name": "stderr",
          "output_type": "stream",
          "text": [
            "\u001b[32m[I 2023-05-01 14:34:50,641]\u001b[0m Trial 20 finished with value: 0.31271432196336074 and parameters: {'learning_rate': 0.014737220861454169, 'reg_lambda': 0.0004815673939060991, 'reg_alpha': 1.2223226546962271e-06, 'subsample': 0.7832654490129141, 'colsample_bytree': 0.7834308622131393, 'max_depth': 3, 'n_estimators': 1655}. Best is trial 20 with value: 0.31271432196336074.\u001b[0m\n"
          ]
        },
        {
          "name": "stdout",
          "output_type": "stream",
          "text": [
            "Custom Error:  0.31271432196336074\n"
          ]
        },
        {
          "name": "stderr",
          "output_type": "stream",
          "text": [
            "C:\\Users\\nshre\\AppData\\Local\\Temp\\ipykernel_12864\\2791605496.py:10: FutureWarning: suggest_loguniform has been deprecated in v3.0.0. This feature will be removed in v6.0.0. See https://github.com/optuna/optuna/releases/tag/v3.0.0. Use :func:`~optuna.trial.Trial.suggest_float` instead.\n",
            "  reg_lambda = trial.suggest_loguniform(\"reg_lambda\", 1e-8, 100.0)\n",
            "C:\\Users\\nshre\\AppData\\Local\\Temp\\ipykernel_12864\\2791605496.py:11: FutureWarning: suggest_loguniform has been deprecated in v3.0.0. This feature will be removed in v6.0.0. See https://github.com/optuna/optuna/releases/tag/v3.0.0. Use :func:`~optuna.trial.Trial.suggest_float` instead.\n",
            "  reg_alpha = trial.suggest_loguniform(\"reg_alpha\", 1e-8, 100.0)\n"
          ]
        },
        {
          "name": "stdout",
          "output_type": "stream",
          "text": [
            "Mean Absolute Error :  4.977052347006097\n",
            "R2_score :  0.5388237626196024\n",
            "Adjusted R-Square:  0.5386315104096677\n"
          ]
        },
        {
          "name": "stderr",
          "output_type": "stream",
          "text": [
            "\u001b[32m[I 2023-05-01 14:37:40,424]\u001b[0m Trial 21 finished with value: 0.3169417856573147 and parameters: {'learning_rate': 0.013332618997788821, 'reg_lambda': 0.0002653016283876393, 'reg_alpha': 1.1353649016002256e-06, 'subsample': 0.7758854394123134, 'colsample_bytree': 0.8145315006431069, 'max_depth': 3, 'n_estimators': 1703}. Best is trial 20 with value: 0.31271432196336074.\u001b[0m\n"
          ]
        },
        {
          "name": "stdout",
          "output_type": "stream",
          "text": [
            "Custom Error:  0.3169417856573147\n"
          ]
        },
        {
          "name": "stderr",
          "output_type": "stream",
          "text": [
            "C:\\Users\\nshre\\AppData\\Local\\Temp\\ipykernel_12864\\2791605496.py:10: FutureWarning: suggest_loguniform has been deprecated in v3.0.0. This feature will be removed in v6.0.0. See https://github.com/optuna/optuna/releases/tag/v3.0.0. Use :func:`~optuna.trial.Trial.suggest_float` instead.\n",
            "  reg_lambda = trial.suggest_loguniform(\"reg_lambda\", 1e-8, 100.0)\n",
            "C:\\Users\\nshre\\AppData\\Local\\Temp\\ipykernel_12864\\2791605496.py:11: FutureWarning: suggest_loguniform has been deprecated in v3.0.0. This feature will be removed in v6.0.0. See https://github.com/optuna/optuna/releases/tag/v3.0.0. Use :func:`~optuna.trial.Trial.suggest_float` instead.\n",
            "  reg_alpha = trial.suggest_loguniform(\"reg_alpha\", 1e-8, 100.0)\n"
          ]
        },
        {
          "name": "stdout",
          "output_type": "stream",
          "text": [
            "Mean Absolute Error :  4.84054868846117\n",
            "R2_score :  0.5458830335830012\n",
            "Adjusted R-Square:  0.5456937241969443\n"
          ]
        },
        {
          "name": "stderr",
          "output_type": "stream",
          "text": [
            "\u001b[32m[I 2023-05-01 14:40:33,295]\u001b[0m Trial 22 finished with value: 0.3126951366787101 and parameters: {'learning_rate': 0.012474461205653545, 'reg_lambda': 0.0001707023732194043, 'reg_alpha': 4.835396220703478e-07, 'subsample': 0.7611297189240918, 'colsample_bytree': 0.8042274525172894, 'max_depth': 3, 'n_estimators': 1759}. Best is trial 22 with value: 0.3126951366787101.\u001b[0m\n"
          ]
        },
        {
          "name": "stdout",
          "output_type": "stream",
          "text": [
            "Custom Error:  0.3126951366787101\n"
          ]
        },
        {
          "name": "stderr",
          "output_type": "stream",
          "text": [
            "C:\\Users\\nshre\\AppData\\Local\\Temp\\ipykernel_12864\\2791605496.py:10: FutureWarning: suggest_loguniform has been deprecated in v3.0.0. This feature will be removed in v6.0.0. See https://github.com/optuna/optuna/releases/tag/v3.0.0. Use :func:`~optuna.trial.Trial.suggest_float` instead.\n",
            "  reg_lambda = trial.suggest_loguniform(\"reg_lambda\", 1e-8, 100.0)\n",
            "C:\\Users\\nshre\\AppData\\Local\\Temp\\ipykernel_12864\\2791605496.py:11: FutureWarning: suggest_loguniform has been deprecated in v3.0.0. This feature will be removed in v6.0.0. See https://github.com/optuna/optuna/releases/tag/v3.0.0. Use :func:`~optuna.trial.Trial.suggest_float` instead.\n",
            "  reg_alpha = trial.suggest_loguniform(\"reg_alpha\", 1e-8, 100.0)\n"
          ]
        },
        {
          "name": "stdout",
          "output_type": "stream",
          "text": [
            "Mean Absolute Error :  6.171558530386758\n",
            "R2_score :  0.6361467902439644\n",
            "Adjusted R-Square:  0.6359951094373713\n"
          ]
        },
        {
          "name": "stderr",
          "output_type": "stream",
          "text": [
            "\u001b[32m[I 2023-05-01 14:43:49,345]\u001b[0m Trial 23 finished with value: 0.512785186784084 and parameters: {'learning_rate': 0.0010460517447772547, 'reg_lambda': 2.807841935304963e-05, 'reg_alpha': 4.094776425328168e-07, 'subsample': 0.7036675295399264, 'colsample_bytree': 0.85574131377413, 'max_depth': 3, 'n_estimators': 1793}. Best is trial 22 with value: 0.3126951366787101.\u001b[0m\n"
          ]
        },
        {
          "name": "stdout",
          "output_type": "stream",
          "text": [
            "Custom Error:  0.512785186784084\n"
          ]
        },
        {
          "name": "stderr",
          "output_type": "stream",
          "text": [
            "C:\\Users\\nshre\\AppData\\Local\\Temp\\ipykernel_12864\\2791605496.py:10: FutureWarning: suggest_loguniform has been deprecated in v3.0.0. This feature will be removed in v6.0.0. See https://github.com/optuna/optuna/releases/tag/v3.0.0. Use :func:`~optuna.trial.Trial.suggest_float` instead.\n",
            "  reg_lambda = trial.suggest_loguniform(\"reg_lambda\", 1e-8, 100.0)\n",
            "C:\\Users\\nshre\\AppData\\Local\\Temp\\ipykernel_12864\\2791605496.py:11: FutureWarning: suggest_loguniform has been deprecated in v3.0.0. This feature will be removed in v6.0.0. See https://github.com/optuna/optuna/releases/tag/v3.0.0. Use :func:`~optuna.trial.Trial.suggest_float` instead.\n",
            "  reg_alpha = trial.suggest_loguniform(\"reg_alpha\", 1e-8, 100.0)\n"
          ]
        },
        {
          "name": "stdout",
          "output_type": "stream",
          "text": [
            "Mean Absolute Error :  4.9367268593856135\n",
            "R2_score :  0.5753645843827631\n",
            "Adjusted R-Square:  0.5751875650776648\n"
          ]
        },
        {
          "name": "stderr",
          "output_type": "stream",
          "text": [
            "\u001b[32m[I 2023-05-01 14:48:24,252]\u001b[0m Trial 24 finished with value: 0.3636566840011286 and parameters: {'learning_rate': 0.012055014573799039, 'reg_lambda': 0.0007433997795530932, 'reg_alpha': 2.405811830932381e-07, 'subsample': 0.8194530538013896, 'colsample_bytree': 0.6968292064368847, 'max_depth': 4, 'n_estimators': 2442}. Best is trial 22 with value: 0.3126951366787101.\u001b[0m\n"
          ]
        },
        {
          "name": "stdout",
          "output_type": "stream",
          "text": [
            "Custom Error:  0.3636566840011286\n"
          ]
        },
        {
          "name": "stderr",
          "output_type": "stream",
          "text": [
            "C:\\Users\\nshre\\AppData\\Local\\Temp\\ipykernel_12864\\2791605496.py:10: FutureWarning: suggest_loguniform has been deprecated in v3.0.0. This feature will be removed in v6.0.0. See https://github.com/optuna/optuna/releases/tag/v3.0.0. Use :func:`~optuna.trial.Trial.suggest_float` instead.\n",
            "  reg_lambda = trial.suggest_loguniform(\"reg_lambda\", 1e-8, 100.0)\n",
            "C:\\Users\\nshre\\AppData\\Local\\Temp\\ipykernel_12864\\2791605496.py:11: FutureWarning: suggest_loguniform has been deprecated in v3.0.0. This feature will be removed in v6.0.0. See https://github.com/optuna/optuna/releases/tag/v3.0.0. Use :func:`~optuna.trial.Trial.suggest_float` instead.\n",
            "  reg_alpha = trial.suggest_loguniform(\"reg_alpha\", 1e-8, 100.0)\n"
          ]
        },
        {
          "name": "stdout",
          "output_type": "stream",
          "text": [
            "Mean Absolute Error :  4.995548090050144\n",
            "R2_score :  0.5351516152756344\n",
            "Adjusted R-Square:  0.534957832244324\n"
          ]
        },
        {
          "name": "stderr",
          "output_type": "stream",
          "text": [
            "\u001b[32m[I 2023-05-01 14:51:06,424]\u001b[0m Trial 25 finished with value: 0.3132554260469745 and parameters: {'learning_rate': 0.011039524282861932, 'reg_lambda': 4.447202798474123e-05, 'reg_alpha': 4.103802548595397e-06, 'subsample': 0.7540529531191416, 'colsample_bytree': 0.8327177980166971, 'max_depth': 3, 'n_estimators': 1464}. Best is trial 22 with value: 0.3126951366787101.\u001b[0m\n"
          ]
        },
        {
          "name": "stdout",
          "output_type": "stream",
          "text": [
            "Custom Error:  0.3132554260469745\n"
          ]
        },
        {
          "name": "stderr",
          "output_type": "stream",
          "text": [
            "C:\\Users\\nshre\\AppData\\Local\\Temp\\ipykernel_12864\\2791605496.py:10: FutureWarning: suggest_loguniform has been deprecated in v3.0.0. This feature will be removed in v6.0.0. See https://github.com/optuna/optuna/releases/tag/v3.0.0. Use :func:`~optuna.trial.Trial.suggest_float` instead.\n",
            "  reg_lambda = trial.suggest_loguniform(\"reg_lambda\", 1e-8, 100.0)\n",
            "C:\\Users\\nshre\\AppData\\Local\\Temp\\ipykernel_12864\\2791605496.py:11: FutureWarning: suggest_loguniform has been deprecated in v3.0.0. This feature will be removed in v6.0.0. See https://github.com/optuna/optuna/releases/tag/v3.0.0. Use :func:`~optuna.trial.Trial.suggest_float` instead.\n",
            "  reg_alpha = trial.suggest_loguniform(\"reg_alpha\", 1e-8, 100.0)\n"
          ]
        },
        {
          "name": "stdout",
          "output_type": "stream",
          "text": [
            "Mean Absolute Error :  5.597478631536934\n",
            "R2_score :  0.6270152728761197\n",
            "Adjusted R-Square:  0.6268597853807778\n"
          ]
        },
        {
          "name": "stderr",
          "output_type": "stream",
          "text": [
            "\u001b[32m[I 2023-05-01 14:54:04,712]\u001b[0m Trial 26 finished with value: 0.44659489324386037 and parameters: {'learning_rate': 0.0014632248937155642, 'reg_lambda': 9.658378823297589e-06, 'reg_alpha': 3.5517827431860938e-06, 'subsample': 0.6546392282237365, 'colsample_bytree': 0.8880728826588375, 'max_depth': 4, 'n_estimators': 1439}. Best is trial 22 with value: 0.3126951366787101.\u001b[0m\n"
          ]
        },
        {
          "name": "stdout",
          "output_type": "stream",
          "text": [
            "Custom Error:  0.44659489324386037\n"
          ]
        },
        {
          "name": "stderr",
          "output_type": "stream",
          "text": [
            "C:\\Users\\nshre\\AppData\\Local\\Temp\\ipykernel_12864\\2791605496.py:10: FutureWarning: suggest_loguniform has been deprecated in v3.0.0. This feature will be removed in v6.0.0. See https://github.com/optuna/optuna/releases/tag/v3.0.0. Use :func:`~optuna.trial.Trial.suggest_float` instead.\n",
            "  reg_lambda = trial.suggest_loguniform(\"reg_lambda\", 1e-8, 100.0)\n",
            "C:\\Users\\nshre\\AppData\\Local\\Temp\\ipykernel_12864\\2791605496.py:11: FutureWarning: suggest_loguniform has been deprecated in v3.0.0. This feature will be removed in v6.0.0. See https://github.com/optuna/optuna/releases/tag/v3.0.0. Use :func:`~optuna.trial.Trial.suggest_float` instead.\n",
            "  reg_alpha = trial.suggest_loguniform(\"reg_alpha\", 1e-8, 100.0)\n"
          ]
        },
        {
          "name": "stdout",
          "output_type": "stream",
          "text": [
            "Mean Absolute Error :  5.141804401441888\n",
            "R2_score :  0.543525658508017\n",
            "Adjusted R-Square:  0.5433353663944667\n"
          ]
        },
        {
          "name": "stderr",
          "output_type": "stream",
          "text": [
            "\u001b[32m[I 2023-05-01 14:57:14,599]\u001b[0m Trial 27 finished with value: 0.34633623714158973 and parameters: {'learning_rate': 0.0340363247138446, 'reg_lambda': 0.002435131771051827, 'reg_alpha': 6.138230341336862e-05, 'subsample': 0.7303207748605751, 'colsample_bytree': 0.7238512290367449, 'max_depth': 3, 'n_estimators': 2223}. Best is trial 22 with value: 0.3126951366787101.\u001b[0m\n"
          ]
        },
        {
          "name": "stdout",
          "output_type": "stream",
          "text": [
            "Custom Error:  0.34633623714158973\n"
          ]
        },
        {
          "name": "stderr",
          "output_type": "stream",
          "text": [
            "C:\\Users\\nshre\\AppData\\Local\\Temp\\ipykernel_12864\\2791605496.py:10: FutureWarning: suggest_loguniform has been deprecated in v3.0.0. This feature will be removed in v6.0.0. See https://github.com/optuna/optuna/releases/tag/v3.0.0. Use :func:`~optuna.trial.Trial.suggest_float` instead.\n",
            "  reg_lambda = trial.suggest_loguniform(\"reg_lambda\", 1e-8, 100.0)\n",
            "C:\\Users\\nshre\\AppData\\Local\\Temp\\ipykernel_12864\\2791605496.py:11: FutureWarning: suggest_loguniform has been deprecated in v3.0.0. This feature will be removed in v6.0.0. See https://github.com/optuna/optuna/releases/tag/v3.0.0. Use :func:`~optuna.trial.Trial.suggest_float` instead.\n",
            "  reg_alpha = trial.suggest_loguniform(\"reg_alpha\", 1e-8, 100.0)\n"
          ]
        },
        {
          "name": "stdout",
          "output_type": "stream",
          "text": [
            "Mean Absolute Error :  6.016251324619977\n",
            "R2_score :  0.5933015360758926\n",
            "Adjusted R-Square:  0.5931319942128717\n"
          ]
        },
        {
          "name": "stderr",
          "output_type": "stream",
          "text": [
            "\u001b[32m[I 2023-05-01 15:01:52,456]\u001b[0m Trial 28 finished with value: 0.5350603084916571 and parameters: {'learning_rate': 0.019238938000343306, 'reg_lambda': 2.372769009049534e-06, 'reg_alpha': 5.459275490564888e-08, 'subsample': 0.8494159030105939, 'colsample_bytree': 0.8394418673916367, 'max_depth': 5, 'n_estimators': 1917}. Best is trial 22 with value: 0.3126951366787101.\u001b[0m\n"
          ]
        },
        {
          "name": "stdout",
          "output_type": "stream",
          "text": [
            "Custom Error:  0.5350603084916571\n"
          ]
        },
        {
          "name": "stderr",
          "output_type": "stream",
          "text": [
            "C:\\Users\\nshre\\AppData\\Local\\Temp\\ipykernel_12864\\2791605496.py:10: FutureWarning: suggest_loguniform has been deprecated in v3.0.0. This feature will be removed in v6.0.0. See https://github.com/optuna/optuna/releases/tag/v3.0.0. Use :func:`~optuna.trial.Trial.suggest_float` instead.\n",
            "  reg_lambda = trial.suggest_loguniform(\"reg_lambda\", 1e-8, 100.0)\n",
            "C:\\Users\\nshre\\AppData\\Local\\Temp\\ipykernel_12864\\2791605496.py:11: FutureWarning: suggest_loguniform has been deprecated in v3.0.0. This feature will be removed in v6.0.0. See https://github.com/optuna/optuna/releases/tag/v3.0.0. Use :func:`~optuna.trial.Trial.suggest_float` instead.\n",
            "  reg_alpha = trial.suggest_loguniform(\"reg_alpha\", 1e-8, 100.0)\n"
          ]
        },
        {
          "name": "stdout",
          "output_type": "stream",
          "text": [
            "Mean Absolute Error :  4.961116308851605\n",
            "R2_score :  0.523553776631871\n",
            "Adjusted R-Square:  0.5233551587675207\n"
          ]
        },
        {
          "name": "stderr",
          "output_type": "stream",
          "text": [
            "\u001b[32m[I 2023-05-01 15:05:22,155]\u001b[0m Trial 29 finished with value: 0.3146065933289144 and parameters: {'learning_rate': 0.00918442388167804, 'reg_lambda': 7.825558720677142e-05, 'reg_alpha': 1.2712267493986127e-07, 'subsample': 0.8215703531942158, 'colsample_bytree': 0.9153507680641704, 'max_depth': 3, 'n_estimators': 2164}. Best is trial 22 with value: 0.3126951366787101.\u001b[0m\n"
          ]
        },
        {
          "name": "stdout",
          "output_type": "stream",
          "text": [
            "Custom Error:  0.3146065933289144\n"
          ]
        },
        {
          "name": "stderr",
          "output_type": "stream",
          "text": [
            "C:\\Users\\nshre\\AppData\\Local\\Temp\\ipykernel_12864\\2791605496.py:10: FutureWarning: suggest_loguniform has been deprecated in v3.0.0. This feature will be removed in v6.0.0. See https://github.com/optuna/optuna/releases/tag/v3.0.0. Use :func:`~optuna.trial.Trial.suggest_float` instead.\n",
            "  reg_lambda = trial.suggest_loguniform(\"reg_lambda\", 1e-8, 100.0)\n",
            "C:\\Users\\nshre\\AppData\\Local\\Temp\\ipykernel_12864\\2791605496.py:11: FutureWarning: suggest_loguniform has been deprecated in v3.0.0. This feature will be removed in v6.0.0. See https://github.com/optuna/optuna/releases/tag/v3.0.0. Use :func:`~optuna.trial.Trial.suggest_float` instead.\n",
            "  reg_alpha = trial.suggest_loguniform(\"reg_alpha\", 1e-8, 100.0)\n"
          ]
        },
        {
          "name": "stdout",
          "output_type": "stream",
          "text": [
            "Mean Absolute Error :  4.917414863915701\n",
            "R2_score :  0.5292912181281118\n",
            "Adjusted R-Square:  0.5290949920517976\n"
          ]
        },
        {
          "name": "stderr",
          "output_type": "stream",
          "text": [
            "\u001b[32m[I 2023-05-01 15:07:18,447]\u001b[0m Trial 30 finished with value: 0.32110573749294147 and parameters: {'learning_rate': 0.01906222813250391, 'reg_lambda': 0.0013478373341573367, 'reg_alpha': 2.705270141281218e-06, 'subsample': 0.8873989025088194, 'colsample_bytree': 0.7992672192681018, 'max_depth': 3, 'n_estimators': 1501}. Best is trial 22 with value: 0.3126951366787101.\u001b[0m\n"
          ]
        },
        {
          "name": "stdout",
          "output_type": "stream",
          "text": [
            "Custom Error:  0.32110573749294147\n"
          ]
        },
        {
          "name": "stderr",
          "output_type": "stream",
          "text": [
            "C:\\Users\\nshre\\AppData\\Local\\Temp\\ipykernel_12864\\2791605496.py:10: FutureWarning: suggest_loguniform has been deprecated in v3.0.0. This feature will be removed in v6.0.0. See https://github.com/optuna/optuna/releases/tag/v3.0.0. Use :func:`~optuna.trial.Trial.suggest_float` instead.\n",
            "  reg_lambda = trial.suggest_loguniform(\"reg_lambda\", 1e-8, 100.0)\n",
            "C:\\Users\\nshre\\AppData\\Local\\Temp\\ipykernel_12864\\2791605496.py:11: FutureWarning: suggest_loguniform has been deprecated in v3.0.0. This feature will be removed in v6.0.0. See https://github.com/optuna/optuna/releases/tag/v3.0.0. Use :func:`~optuna.trial.Trial.suggest_float` instead.\n",
            "  reg_alpha = trial.suggest_loguniform(\"reg_alpha\", 1e-8, 100.0)\n"
          ]
        },
        {
          "name": "stdout",
          "output_type": "stream",
          "text": [
            "Mean Absolute Error :  4.77778021377331\n",
            "R2_score :  0.5399959104031115\n",
            "Adjusted R-Square:  0.5398041468306725\n",
            "Custom Error:  0.3081374725002787\n"
          ]
        },
        {
          "name": "stderr",
          "output_type": "stream",
          "text": [
            "\u001b[32m[I 2023-05-01 15:10:55,671]\u001b[0m Trial 31 finished with value: 0.3081374725002787 and parameters: {'learning_rate': 0.008058500720038804, 'reg_lambda': 5.1320286855548846e-05, 'reg_alpha': 1.2954133792151408e-07, 'subsample': 0.8311146230688664, 'colsample_bytree': 0.9040340779952704, 'max_depth': 3, 'n_estimators': 2178}. Best is trial 31 with value: 0.3081374725002787.\u001b[0m\n",
            "C:\\Users\\nshre\\AppData\\Local\\Temp\\ipykernel_12864\\2791605496.py:10: FutureWarning: suggest_loguniform has been deprecated in v3.0.0. This feature will be removed in v6.0.0. See https://github.com/optuna/optuna/releases/tag/v3.0.0. Use :func:`~optuna.trial.Trial.suggest_float` instead.\n",
            "  reg_lambda = trial.suggest_loguniform(\"reg_lambda\", 1e-8, 100.0)\n",
            "C:\\Users\\nshre\\AppData\\Local\\Temp\\ipykernel_12864\\2791605496.py:11: FutureWarning: suggest_loguniform has been deprecated in v3.0.0. This feature will be removed in v6.0.0. See https://github.com/optuna/optuna/releases/tag/v3.0.0. Use :func:`~optuna.trial.Trial.suggest_float` instead.\n",
            "  reg_alpha = trial.suggest_loguniform(\"reg_alpha\", 1e-8, 100.0)\n"
          ]
        },
        {
          "name": "stdout",
          "output_type": "stream",
          "text": [
            "Mean Absolute Error :  4.729643251873596\n",
            "R2_score :  0.537670915523417\n",
            "Adjusted R-Square:  0.5374781827219339\n",
            "Custom Error:  0.3075201236300223\n"
          ]
        },
        {
          "name": "stderr",
          "output_type": "stream",
          "text": [
            "\u001b[32m[I 2023-05-01 15:15:22,300]\u001b[0m Trial 32 finished with value: 0.3075201236300223 and parameters: {'learning_rate': 0.00680749370423648, 'reg_lambda': 0.00012304444697810752, 'reg_alpha': 6.577685421258603e-08, 'subsample': 0.7603416994543074, 'colsample_bytree': 0.8605858772049862, 'max_depth': 3, 'n_estimators': 2747}. Best is trial 32 with value: 0.3075201236300223.\u001b[0m\n",
            "C:\\Users\\nshre\\AppData\\Local\\Temp\\ipykernel_12864\\2791605496.py:10: FutureWarning: suggest_loguniform has been deprecated in v3.0.0. This feature will be removed in v6.0.0. See https://github.com/optuna/optuna/releases/tag/v3.0.0. Use :func:`~optuna.trial.Trial.suggest_float` instead.\n",
            "  reg_lambda = trial.suggest_loguniform(\"reg_lambda\", 1e-8, 100.0)\n",
            "C:\\Users\\nshre\\AppData\\Local\\Temp\\ipykernel_12864\\2791605496.py:11: FutureWarning: suggest_loguniform has been deprecated in v3.0.0. This feature will be removed in v6.0.0. See https://github.com/optuna/optuna/releases/tag/v3.0.0. Use :func:`~optuna.trial.Trial.suggest_float` instead.\n",
            "  reg_alpha = trial.suggest_loguniform(\"reg_alpha\", 1e-8, 100.0)\n"
          ]
        },
        {
          "name": "stdout",
          "output_type": "stream",
          "text": [
            "Mean Absolute Error :  5.205884802812673\n",
            "R2_score :  0.4482836122456191\n",
            "Adjusted R-Square:  0.4480536162349714\n"
          ]
        },
        {
          "name": "stderr",
          "output_type": "stream",
          "text": [
            "\u001b[32m[I 2023-05-01 15:20:22,019]\u001b[0m Trial 33 finished with value: 0.3251644678793959 and parameters: {'learning_rate': 0.007920742000925723, 'reg_lambda': 0.0009521350650369049, 'reg_alpha': 3.7354129733409773e-08, 'subsample': 0.6839073256428081, 'colsample_bytree': 0.9993884400896749, 'max_depth': 3, 'n_estimators': 2863}. Best is trial 32 with value: 0.3075201236300223.\u001b[0m\n"
          ]
        },
        {
          "name": "stdout",
          "output_type": "stream",
          "text": [
            "Custom Error:  0.3251644678793959\n"
          ]
        },
        {
          "name": "stderr",
          "output_type": "stream",
          "text": [
            "C:\\Users\\nshre\\AppData\\Local\\Temp\\ipykernel_12864\\2791605496.py:10: FutureWarning: suggest_loguniform has been deprecated in v3.0.0. This feature will be removed in v6.0.0. See https://github.com/optuna/optuna/releases/tag/v3.0.0. Use :func:`~optuna.trial.Trial.suggest_float` instead.\n",
            "  reg_lambda = trial.suggest_loguniform(\"reg_lambda\", 1e-8, 100.0)\n",
            "C:\\Users\\nshre\\AppData\\Local\\Temp\\ipykernel_12864\\2791605496.py:11: FutureWarning: suggest_loguniform has been deprecated in v3.0.0. This feature will be removed in v6.0.0. See https://github.com/optuna/optuna/releases/tag/v3.0.0. Use :func:`~optuna.trial.Trial.suggest_float` instead.\n",
            "  reg_alpha = trial.suggest_loguniform(\"reg_alpha\", 1e-8, 100.0)\n"
          ]
        },
        {
          "name": "stdout",
          "output_type": "stream",
          "text": [
            "Mean Absolute Error :  4.6841621717792945\n",
            "R2_score :  0.5480813710982528\n",
            "Adjusted R-Square:  0.5478929781411254\n",
            "Custom Error:  0.30761501643461076\n"
          ]
        },
        {
          "name": "stderr",
          "output_type": "stream",
          "text": [
            "\u001b[32m[I 2023-05-01 15:28:24,836]\u001b[0m Trial 34 finished with value: 0.30761501643461076 and parameters: {'learning_rate': 0.007367612051784357, 'reg_lambda': 0.0037743992108633553, 'reg_alpha': 3.6331906232151506e-07, 'subsample': 0.6372652094451648, 'colsample_bytree': 0.9086560583611447, 'max_depth': 3, 'n_estimators': 2728}. Best is trial 32 with value: 0.3075201236300223.\u001b[0m\n",
            "C:\\Users\\nshre\\AppData\\Local\\Temp\\ipykernel_12864\\2791605496.py:10: FutureWarning: suggest_loguniform has been deprecated in v3.0.0. This feature will be removed in v6.0.0. See https://github.com/optuna/optuna/releases/tag/v3.0.0. Use :func:`~optuna.trial.Trial.suggest_float` instead.\n",
            "  reg_lambda = trial.suggest_loguniform(\"reg_lambda\", 1e-8, 100.0)\n",
            "C:\\Users\\nshre\\AppData\\Local\\Temp\\ipykernel_12864\\2791605496.py:11: FutureWarning: suggest_loguniform has been deprecated in v3.0.0. This feature will be removed in v6.0.0. See https://github.com/optuna/optuna/releases/tag/v3.0.0. Use :func:`~optuna.trial.Trial.suggest_float` instead.\n",
            "  reg_alpha = trial.suggest_loguniform(\"reg_alpha\", 1e-8, 100.0)\n"
          ]
        },
        {
          "name": "stdout",
          "output_type": "stream",
          "text": [
            "Mean Absolute Error :  4.78306459617732\n",
            "R2_score :  0.578711141030033\n",
            "Adjusted R-Square:  0.5785355168161361\n",
            "Custom Error:  0.34560122761303697\n"
          ]
        },
        {
          "name": "stderr",
          "output_type": "stream",
          "text": [
            "\u001b[32m[I 2023-05-01 15:41:13,341]\u001b[0m Trial 35 finished with value: 0.34560122761303697 and parameters: {'learning_rate': 0.0012442063540442638, 'reg_lambda': 0.0038047363399102674, 'reg_alpha': 1.455206748079346e-07, 'subsample': 0.6340950605492726, 'colsample_bytree': 0.9299895269951426, 'max_depth': 4, 'n_estimators': 2954}. Best is trial 32 with value: 0.3075201236300223.\u001b[0m\n",
            "C:\\Users\\nshre\\AppData\\Local\\Temp\\ipykernel_12864\\2791605496.py:10: FutureWarning: suggest_loguniform has been deprecated in v3.0.0. This feature will be removed in v6.0.0. See https://github.com/optuna/optuna/releases/tag/v3.0.0. Use :func:`~optuna.trial.Trial.suggest_float` instead.\n",
            "  reg_lambda = trial.suggest_loguniform(\"reg_lambda\", 1e-8, 100.0)\n",
            "C:\\Users\\nshre\\AppData\\Local\\Temp\\ipykernel_12864\\2791605496.py:11: FutureWarning: suggest_loguniform has been deprecated in v3.0.0. This feature will be removed in v6.0.0. See https://github.com/optuna/optuna/releases/tag/v3.0.0. Use :func:`~optuna.trial.Trial.suggest_float` instead.\n",
            "  reg_alpha = trial.suggest_loguniform(\"reg_alpha\", 1e-8, 100.0)\n"
          ]
        },
        {
          "name": "stdout",
          "output_type": "stream",
          "text": [
            "Mean Absolute Error :  4.763790961722074\n",
            "R2_score :  0.5489847594699717\n",
            "Adjusted R-Square:  0.5487967431116297\n"
          ]
        },
        {
          "name": "stderr",
          "output_type": "stream",
          "text": [
            "\u001b[32m[I 2023-05-01 15:49:33,729]\u001b[0m Trial 36 finished with value: 0.3088742832840786 and parameters: {'learning_rate': 0.007652738989509226, 'reg_lambda': 0.008407173032711419, 'reg_alpha': 3.2158857140071256e-07, 'subsample': 0.5535787810217391, 'colsample_bytree': 0.8984188383108622, 'max_depth': 3, 'n_estimators': 2685}. Best is trial 32 with value: 0.3075201236300223.\u001b[0m\n"
          ]
        },
        {
          "name": "stdout",
          "output_type": "stream",
          "text": [
            "Custom Error:  0.3088742832840786\n"
          ]
        },
        {
          "name": "stderr",
          "output_type": "stream",
          "text": [
            "C:\\Users\\nshre\\AppData\\Local\\Temp\\ipykernel_12864\\2791605496.py:10: FutureWarning: suggest_loguniform has been deprecated in v3.0.0. This feature will be removed in v6.0.0. See https://github.com/optuna/optuna/releases/tag/v3.0.0. Use :func:`~optuna.trial.Trial.suggest_float` instead.\n",
            "  reg_lambda = trial.suggest_loguniform(\"reg_lambda\", 1e-8, 100.0)\n",
            "C:\\Users\\nshre\\AppData\\Local\\Temp\\ipykernel_12864\\2791605496.py:11: FutureWarning: suggest_loguniform has been deprecated in v3.0.0. This feature will be removed in v6.0.0. See https://github.com/optuna/optuna/releases/tag/v3.0.0. Use :func:`~optuna.trial.Trial.suggest_float` instead.\n",
            "  reg_alpha = trial.suggest_loguniform(\"reg_alpha\", 1e-8, 100.0)\n"
          ]
        },
        {
          "name": "stdout",
          "output_type": "stream",
          "text": [
            "Mean Absolute Error :  4.560531905765171\n",
            "R2_score :  0.5713649325587239\n",
            "Adjusted R-Square:  0.57118624590427\n",
            "Custom Error:  0.3160355528751609\n"
          ]
        },
        {
          "name": "stderr",
          "output_type": "stream",
          "text": [
            "\u001b[32m[I 2023-05-01 15:55:16,856]\u001b[0m Trial 37 finished with value: 0.3160355528751609 and parameters: {'learning_rate': 0.00691349290920985, 'reg_lambda': 0.00936869550527278, 'reg_alpha': 4.1170368203284826e-08, 'subsample': 0.5566472474254635, 'colsample_bytree': 0.9526321634313428, 'max_depth': 4, 'n_estimators': 2712}. Best is trial 32 with value: 0.3075201236300223.\u001b[0m\n",
            "C:\\Users\\nshre\\AppData\\Local\\Temp\\ipykernel_12864\\2791605496.py:10: FutureWarning: suggest_loguniform has been deprecated in v3.0.0. This feature will be removed in v6.0.0. See https://github.com/optuna/optuna/releases/tag/v3.0.0. Use :func:`~optuna.trial.Trial.suggest_float` instead.\n",
            "  reg_lambda = trial.suggest_loguniform(\"reg_lambda\", 1e-8, 100.0)\n",
            "C:\\Users\\nshre\\AppData\\Local\\Temp\\ipykernel_12864\\2791605496.py:11: FutureWarning: suggest_loguniform has been deprecated in v3.0.0. This feature will be removed in v6.0.0. See https://github.com/optuna/optuna/releases/tag/v3.0.0. Use :func:`~optuna.trial.Trial.suggest_float` instead.\n",
            "  reg_alpha = trial.suggest_loguniform(\"reg_alpha\", 1e-8, 100.0)\n"
          ]
        },
        {
          "name": "stdout",
          "output_type": "stream",
          "text": [
            "Mean Absolute Error :  4.5739684601980635\n",
            "R2_score :  0.5706815080902752\n",
            "Adjusted R-Square:  0.5705025365341856\n"
          ]
        },
        {
          "name": "stderr",
          "output_type": "stream",
          "text": [
            "\u001b[32m[I 2023-05-01 16:02:29,515]\u001b[0m Trial 38 finished with value: 0.31821482048010985 and parameters: {'learning_rate': 0.0072560571433077795, 'reg_lambda': 0.04180207178484234, 'reg_alpha': 1.1631644298513496e-07, 'subsample': 0.5690455413437117, 'colsample_bytree': 0.884849682120256, 'max_depth': 4, 'n_estimators': 2629}. Best is trial 32 with value: 0.3075201236300223.\u001b[0m\n"
          ]
        },
        {
          "name": "stdout",
          "output_type": "stream",
          "text": [
            "Custom Error:  0.31821482048010985\n"
          ]
        },
        {
          "name": "stderr",
          "output_type": "stream",
          "text": [
            "C:\\Users\\nshre\\AppData\\Local\\Temp\\ipykernel_12864\\2791605496.py:10: FutureWarning: suggest_loguniform has been deprecated in v3.0.0. This feature will be removed in v6.0.0. See https://github.com/optuna/optuna/releases/tag/v3.0.0. Use :func:`~optuna.trial.Trial.suggest_float` instead.\n",
            "  reg_lambda = trial.suggest_loguniform(\"reg_lambda\", 1e-8, 100.0)\n",
            "C:\\Users\\nshre\\AppData\\Local\\Temp\\ipykernel_12864\\2791605496.py:11: FutureWarning: suggest_loguniform has been deprecated in v3.0.0. This feature will be removed in v6.0.0. See https://github.com/optuna/optuna/releases/tag/v3.0.0. Use :func:`~optuna.trial.Trial.suggest_float` instead.\n",
            "  reg_alpha = trial.suggest_loguniform(\"reg_alpha\", 1e-8, 100.0)\n"
          ]
        },
        {
          "name": "stdout",
          "output_type": "stream",
          "text": [
            "Mean Absolute Error :  5.217075151921847\n",
            "R2_score :  0.5564977254312937\n",
            "Adjusted R-Square:  0.556312841030308\n"
          ]
        },
        {
          "name": "stderr",
          "output_type": "stream",
          "text": [
            "\u001b[32m[I 2023-05-01 16:06:30,909]\u001b[0m Trial 39 finished with value: 0.340273683426096 and parameters: {'learning_rate': 0.022357692162580885, 'reg_lambda': 0.0018195721603871335, 'reg_alpha': 1.632284588139783e-08, 'subsample': 0.671560787197605, 'colsample_bytree': 0.9893704392984661, 'max_depth': 3, 'n_estimators': 2379}. Best is trial 32 with value: 0.3075201236300223.\u001b[0m\n"
          ]
        },
        {
          "name": "stdout",
          "output_type": "stream",
          "text": [
            "Custom Error:  0.340273683426096\n"
          ]
        },
        {
          "name": "stderr",
          "output_type": "stream",
          "text": [
            "C:\\Users\\nshre\\AppData\\Local\\Temp\\ipykernel_12864\\2791605496.py:10: FutureWarning: suggest_loguniform has been deprecated in v3.0.0. This feature will be removed in v6.0.0. See https://github.com/optuna/optuna/releases/tag/v3.0.0. Use :func:`~optuna.trial.Trial.suggest_float` instead.\n",
            "  reg_lambda = trial.suggest_loguniform(\"reg_lambda\", 1e-8, 100.0)\n",
            "C:\\Users\\nshre\\AppData\\Local\\Temp\\ipykernel_12864\\2791605496.py:11: FutureWarning: suggest_loguniform has been deprecated in v3.0.0. This feature will be removed in v6.0.0. See https://github.com/optuna/optuna/releases/tag/v3.0.0. Use :func:`~optuna.trial.Trial.suggest_float` instead.\n",
            "  reg_alpha = trial.suggest_loguniform(\"reg_alpha\", 1e-8, 100.0)\n"
          ]
        },
        {
          "name": "stdout",
          "output_type": "stream",
          "text": [
            "Mean Absolute Error :  5.30538647518677\n",
            "R2_score :  0.5522162302095317\n",
            "Adjusted R-Square:  0.5520295609661117\n",
            "Custom Error:  0.33861702607333816\n"
          ]
        },
        {
          "name": "stderr",
          "output_type": "stream",
          "text": [
            "\u001b[32m[I 2023-05-01 16:12:51,022]\u001b[0m Trial 40 finished with value: 0.33861702607333816 and parameters: {'learning_rate': 0.028523743237325178, 'reg_lambda': 0.006638870576695386, 'reg_alpha': 3.5894377888283163e-07, 'subsample': 0.4983589182070405, 'colsample_bytree': 0.9205600929727142, 'max_depth': 3, 'n_estimators': 2849}. Best is trial 32 with value: 0.3075201236300223.\u001b[0m\n",
            "C:\\Users\\nshre\\AppData\\Local\\Temp\\ipykernel_12864\\2791605496.py:10: FutureWarning: suggest_loguniform has been deprecated in v3.0.0. This feature will be removed in v6.0.0. See https://github.com/optuna/optuna/releases/tag/v3.0.0. Use :func:`~optuna.trial.Trial.suggest_float` instead.\n",
            "  reg_lambda = trial.suggest_loguniform(\"reg_lambda\", 1e-8, 100.0)\n",
            "C:\\Users\\nshre\\AppData\\Local\\Temp\\ipykernel_12864\\2791605496.py:11: FutureWarning: suggest_loguniform has been deprecated in v3.0.0. This feature will be removed in v6.0.0. See https://github.com/optuna/optuna/releases/tag/v3.0.0. Use :func:`~optuna.trial.Trial.suggest_float` instead.\n",
            "  reg_alpha = trial.suggest_loguniform(\"reg_alpha\", 1e-8, 100.0)\n"
          ]
        },
        {
          "name": "stdout",
          "output_type": "stream",
          "text": [
            "Mean Absolute Error :  5.402786850203855\n",
            "R2_score :  0.5572877094447697\n",
            "Adjusted R-Square:  0.5571031543672835\n",
            "Custom Error:  0.3457378723340891\n"
          ]
        },
        {
          "name": "stderr",
          "output_type": "stream",
          "text": [
            "\u001b[32m[I 2023-05-01 16:23:41,731]\u001b[0m Trial 41 finished with value: 0.3457378723340891 and parameters: {'learning_rate': 0.019284864957353105, 'reg_lambda': 0.00020698030942344965, 'reg_alpha': 3.3805761203804265e-07, 'subsample': 0.6014725465593512, 'colsample_bytree': 0.8741893257721057, 'max_depth': 3, 'n_estimators': 2648}. Best is trial 32 with value: 0.3075201236300223.\u001b[0m\n",
            "C:\\Users\\nshre\\AppData\\Local\\Temp\\ipykernel_12864\\2791605496.py:10: FutureWarning: suggest_loguniform has been deprecated in v3.0.0. This feature will be removed in v6.0.0. See https://github.com/optuna/optuna/releases/tag/v3.0.0. Use :func:`~optuna.trial.Trial.suggest_float` instead.\n",
            "  reg_lambda = trial.suggest_loguniform(\"reg_lambda\", 1e-8, 100.0)\n",
            "C:\\Users\\nshre\\AppData\\Local\\Temp\\ipykernel_12864\\2791605496.py:11: FutureWarning: suggest_loguniform has been deprecated in v3.0.0. This feature will be removed in v6.0.0. See https://github.com/optuna/optuna/releases/tag/v3.0.0. Use :func:`~optuna.trial.Trial.suggest_float` instead.\n",
            "  reg_alpha = trial.suggest_loguniform(\"reg_alpha\", 1e-8, 100.0)\n"
          ]
        },
        {
          "name": "stdout",
          "output_type": "stream",
          "text": [
            "Mean Absolute Error :  4.9766890210367425\n",
            "R2_score :  0.5303402090731557\n",
            "Adjusted R-Square:  0.5301444202934995\n",
            "Custom Error:  0.31495826592824666\n"
          ]
        },
        {
          "name": "stderr",
          "output_type": "stream",
          "text": [
            "\u001b[32m[I 2023-05-01 16:31:42,046]\u001b[0m Trial 42 finished with value: 0.31495826592824666 and parameters: {'learning_rate': 0.00988447545780707, 'reg_lambda': 0.00010139698912525618, 'reg_alpha': 6.660546595627325e-08, 'subsample': 0.6971614451274193, 'colsample_bytree': 0.9581016516611699, 'max_depth': 3, 'n_estimators': 2254}. Best is trial 32 with value: 0.3075201236300223.\u001b[0m\n",
            "C:\\Users\\nshre\\AppData\\Local\\Temp\\ipykernel_12864\\2791605496.py:10: FutureWarning: suggest_loguniform has been deprecated in v3.0.0. This feature will be removed in v6.0.0. See https://github.com/optuna/optuna/releases/tag/v3.0.0. Use :func:`~optuna.trial.Trial.suggest_float` instead.\n",
            "  reg_lambda = trial.suggest_loguniform(\"reg_lambda\", 1e-8, 100.0)\n",
            "C:\\Users\\nshre\\AppData\\Local\\Temp\\ipykernel_12864\\2791605496.py:11: FutureWarning: suggest_loguniform has been deprecated in v3.0.0. This feature will be removed in v6.0.0. See https://github.com/optuna/optuna/releases/tag/v3.0.0. Use :func:`~optuna.trial.Trial.suggest_float` instead.\n",
            "  reg_alpha = trial.suggest_loguniform(\"reg_alpha\", 1e-8, 100.0)\n"
          ]
        },
        {
          "name": "stdout",
          "output_type": "stream",
          "text": [
            "Mean Absolute Error :  4.452773612563124\n",
            "R2_score :  0.5528696123108541\n",
            "Adjusted R-Square:  0.5526832154451993\n",
            "Custom Error:  0.3000507239348776\n"
          ]
        },
        {
          "name": "stderr",
          "output_type": "stream",
          "text": [
            "\u001b[32m[I 2023-05-01 16:37:26,831]\u001b[0m Trial 43 finished with value: 0.3000507239348776 and parameters: {'learning_rate': 0.005334326204758673, 'reg_lambda': 0.0009514048658232255, 'reg_alpha': 5.425470470380251e-07, 'subsample': 0.6433519881110664, 'colsample_bytree': 0.8569307266615352, 'max_depth': 3, 'n_estimators': 2093}. Best is trial 43 with value: 0.3000507239348776.\u001b[0m\n",
            "C:\\Users\\nshre\\AppData\\Local\\Temp\\ipykernel_12864\\2791605496.py:10: FutureWarning: suggest_loguniform has been deprecated in v3.0.0. This feature will be removed in v6.0.0. See https://github.com/optuna/optuna/releases/tag/v3.0.0. Use :func:`~optuna.trial.Trial.suggest_float` instead.\n",
            "  reg_lambda = trial.suggest_loguniform(\"reg_lambda\", 1e-8, 100.0)\n",
            "C:\\Users\\nshre\\AppData\\Local\\Temp\\ipykernel_12864\\2791605496.py:11: FutureWarning: suggest_loguniform has been deprecated in v3.0.0. This feature will be removed in v6.0.0. See https://github.com/optuna/optuna/releases/tag/v3.0.0. Use :func:`~optuna.trial.Trial.suggest_float` instead.\n",
            "  reg_alpha = trial.suggest_loguniform(\"reg_alpha\", 1e-8, 100.0)\n"
          ]
        }
      ],
      "source": [
        "\"\"\"Uncomment for tuning the model\"\"\"\n",
        "import optuna\n",
        "from sklearn.metrics import mean_absolute_error, r2_score\n",
        "\n",
        "imp_features = ['quantity_ordered', 'quantity_submitted', 'order_delivery_days', 'd_id_509', 'd_id_584', 'd_id_540', 'd_id_648', 'd_id_410', 'row_group_ind_6']\n",
        "\n",
        "\n",
        "def run(trial):\n",
        "    learning_rate = trial.suggest_float(\"learning_rate\", 1e-3, 0.1)\n",
        "    reg_lambda = trial.suggest_loguniform(\"reg_lambda\", 1e-8, 100.0)\n",
        "    reg_alpha = trial.suggest_loguniform(\"reg_alpha\", 1e-8, 100.0)\n",
        "    subsample = trial.suggest_float(\"subsample\", 0.1, 1.0)\n",
        "    colsample_bytree = trial.suggest_float(\"colsample_bytree\", 0.1, 1.0)\n",
        "    max_depth = trial.suggest_int(\"max_depth\", 3, 6)\n",
        "    n_estimators = trial.suggest_int(\"n_estimators\", 20, 3000)\n",
        "\n",
        "    xtrain =X_train[req_cols].copy()\n",
        "    xvalid = X_valid[req_cols].copy()\n",
        "    y_train = X_train['quantity_received']\n",
        "    y_test = X_valid['quantity_received']\n",
        "\n",
        "\n",
        "    xtrain[req_cols] = qt.fit_transform(xtrain[req_cols])\n",
        "    xvalid[req_cols] = qt.transform(xvalid[req_cols])\n",
        "\n",
        "    model = xgb.XGBRegressor(\n",
        "            random_state=42,\n",
        "            objective='reg:squarederror',\n",
        "            n_estimators=n_estimators,\n",
        "            learning_rate=learning_rate,\n",
        "            reg_lambda=reg_lambda,\n",
        "            reg_alpha=reg_alpha,\n",
        "            subsample=subsample,\n",
        "            colsample_bytree=colsample_bytree,\n",
        "            max_depth=max_depth,\n",
        "            eval_metric='mae'\n",
        "        )\n",
        "    model.fit(xtrain, y_train)\n",
        "    preds_valid = model.predict(xvalid)\n",
        "    mae_ = mean_absolute_error(y_test, preds_valid)\n",
        "    r2_sc = r2_score(y_test, preds_valid)\n",
        "\n",
        "    temp = X_valid.copy()\n",
        "    temp['preds'] = model.predict(xvalid)\n",
        "\n",
        "    print(\"Mean Absolute Error : \", mae_)\n",
        "    print(\"R2_score : \", r2_sc)\n",
        "    r2 = r2_sc.copy()\n",
        "    n = len(y_test)\n",
        "    p = xvalid.shape[1]  # number of features in X\n",
        "    adj_r2 = 1 - ((1 - r2) * (n - 1)) / (n - p - 1)\n",
        "    print(\"Adjusted R-Square: \", adj_r2)\n",
        "\n",
        "    \n",
        "    final_error = new_metric(temp)\n",
        "    print(\"Custom Error: \",final_error)\n",
        "    del temp\n",
        "    return final_error\n",
        "\n",
        "study = optuna.create_study(direction=\"minimize\")\n",
        "study.optimize(run, n_trials=100)\n",
        "\n",
        "# study.best_params"
      ]
    },
    {
      "cell_type": "code",
      "execution_count": 54,
      "metadata": {},
      "outputs": [
        {
          "data": {
            "text/html": [
              "<div>\n",
              "<style scoped>\n",
              "    .dataframe tbody tr th:only-of-type {\n",
              "        vertical-align: middle;\n",
              "    }\n",
              "\n",
              "    .dataframe tbody tr th {\n",
              "        vertical-align: top;\n",
              "    }\n",
              "\n",
              "    .dataframe thead th {\n",
              "        text-align: right;\n",
              "    }\n",
              "</style>\n",
              "<table border=\"1\" class=\"dataframe\">\n",
              "  <thead>\n",
              "    <tr style=\"text-align: right;\">\n",
              "      <th></th>\n",
              "      <th>quantity_ordered</th>\n",
              "      <th>quantity_submitted</th>\n",
              "      <th>quantity_received</th>\n",
              "      <th>visibility</th>\n",
              "      <th>order_delivery_days</th>\n",
              "      <th>d_id_509</th>\n",
              "      <th>d_id_584</th>\n",
              "      <th>d_id_540</th>\n",
              "      <th>d_id_648</th>\n",
              "      <th>d_id_410</th>\n",
              "      <th>d_id_7</th>\n",
              "      <th>d_id_1</th>\n",
              "      <th>d_id_643</th>\n",
              "      <th>d_id_454</th>\n",
              "      <th>d_id_110</th>\n",
              "      <th>isbn_id_4595</th>\n",
              "      <th>isbn_id_26550</th>\n",
              "      <th>isbn_id_27825</th>\n",
              "      <th>isbn_id_14820</th>\n",
              "      <th>isbn_id_19934</th>\n",
              "      <th>isbn_id_29771</th>\n",
              "      <th>isbn_id_7865</th>\n",
              "      <th>isbn_id_31986</th>\n",
              "      <th>isbn_id_6790</th>\n",
              "      <th>isbn_id_8453</th>\n",
              "      <th>po_source_ind_AFT_Lite</th>\n",
              "      <th>row_group_ind_4</th>\n",
              "      <th>row_group_ind_1</th>\n",
              "      <th>row_group_ind_5</th>\n",
              "      <th>row_group_ind_3</th>\n",
              "      <th>row_group_ind_2</th>\n",
              "      <th>row_group_ind_6</th>\n",
              "      <th>row_group_ind_0</th>\n",
              "      <th>row_group_ind_7</th>\n",
              "    </tr>\n",
              "  </thead>\n",
              "  <tbody>\n",
              "    <tr>\n",
              "      <th>2</th>\n",
              "      <td>0.368368</td>\n",
              "      <td>0.256757</td>\n",
              "      <td>0.455956</td>\n",
              "      <td>0.579079</td>\n",
              "      <td>0.633133</td>\n",
              "      <td>0.0</td>\n",
              "      <td>0.0</td>\n",
              "      <td>0.0</td>\n",
              "      <td>1.0</td>\n",
              "      <td>0.0</td>\n",
              "      <td>0.0</td>\n",
              "      <td>0.0</td>\n",
              "      <td>0.0</td>\n",
              "      <td>0.0</td>\n",
              "      <td>0.0</td>\n",
              "      <td>0.0</td>\n",
              "      <td>0.0</td>\n",
              "      <td>0.0</td>\n",
              "      <td>0.0</td>\n",
              "      <td>0.0</td>\n",
              "      <td>0.0</td>\n",
              "      <td>0.0</td>\n",
              "      <td>0.0</td>\n",
              "      <td>0.0</td>\n",
              "      <td>0.0</td>\n",
              "      <td>1.0</td>\n",
              "      <td>0.0</td>\n",
              "      <td>1.0</td>\n",
              "      <td>0.0</td>\n",
              "      <td>0.0</td>\n",
              "      <td>0.0</td>\n",
              "      <td>0.0</td>\n",
              "      <td>0.0</td>\n",
              "      <td>0.0</td>\n",
              "    </tr>\n",
              "    <tr>\n",
              "      <th>3</th>\n",
              "      <td>0.368368</td>\n",
              "      <td>0.256757</td>\n",
              "      <td>0.455956</td>\n",
              "      <td>0.579079</td>\n",
              "      <td>0.633133</td>\n",
              "      <td>0.0</td>\n",
              "      <td>0.0</td>\n",
              "      <td>0.0</td>\n",
              "      <td>1.0</td>\n",
              "      <td>0.0</td>\n",
              "      <td>0.0</td>\n",
              "      <td>0.0</td>\n",
              "      <td>0.0</td>\n",
              "      <td>0.0</td>\n",
              "      <td>0.0</td>\n",
              "      <td>0.0</td>\n",
              "      <td>0.0</td>\n",
              "      <td>0.0</td>\n",
              "      <td>0.0</td>\n",
              "      <td>0.0</td>\n",
              "      <td>0.0</td>\n",
              "      <td>0.0</td>\n",
              "      <td>0.0</td>\n",
              "      <td>0.0</td>\n",
              "      <td>0.0</td>\n",
              "      <td>1.0</td>\n",
              "      <td>0.0</td>\n",
              "      <td>0.0</td>\n",
              "      <td>0.0</td>\n",
              "      <td>0.0</td>\n",
              "      <td>1.0</td>\n",
              "      <td>0.0</td>\n",
              "      <td>0.0</td>\n",
              "      <td>0.0</td>\n",
              "    </tr>\n",
              "    <tr>\n",
              "      <th>8</th>\n",
              "      <td>0.661662</td>\n",
              "      <td>0.609610</td>\n",
              "      <td>0.705706</td>\n",
              "      <td>0.000000</td>\n",
              "      <td>0.316316</td>\n",
              "      <td>0.0</td>\n",
              "      <td>1.0</td>\n",
              "      <td>0.0</td>\n",
              "      <td>0.0</td>\n",
              "      <td>0.0</td>\n",
              "      <td>0.0</td>\n",
              "      <td>0.0</td>\n",
              "      <td>0.0</td>\n",
              "      <td>0.0</td>\n",
              "      <td>0.0</td>\n",
              "      <td>0.0</td>\n",
              "      <td>0.0</td>\n",
              "      <td>0.0</td>\n",
              "      <td>0.0</td>\n",
              "      <td>0.0</td>\n",
              "      <td>0.0</td>\n",
              "      <td>0.0</td>\n",
              "      <td>0.0</td>\n",
              "      <td>0.0</td>\n",
              "      <td>0.0</td>\n",
              "      <td>1.0</td>\n",
              "      <td>0.0</td>\n",
              "      <td>0.0</td>\n",
              "      <td>1.0</td>\n",
              "      <td>0.0</td>\n",
              "      <td>0.0</td>\n",
              "      <td>0.0</td>\n",
              "      <td>0.0</td>\n",
              "      <td>0.0</td>\n",
              "    </tr>\n",
              "    <tr>\n",
              "      <th>9</th>\n",
              "      <td>0.792292</td>\n",
              "      <td>0.770771</td>\n",
              "      <td>0.814815</td>\n",
              "      <td>0.912412</td>\n",
              "      <td>0.863864</td>\n",
              "      <td>0.0</td>\n",
              "      <td>0.0</td>\n",
              "      <td>0.0</td>\n",
              "      <td>0.0</td>\n",
              "      <td>0.0</td>\n",
              "      <td>0.0</td>\n",
              "      <td>0.0</td>\n",
              "      <td>0.0</td>\n",
              "      <td>0.0</td>\n",
              "      <td>0.0</td>\n",
              "      <td>0.0</td>\n",
              "      <td>0.0</td>\n",
              "      <td>0.0</td>\n",
              "      <td>0.0</td>\n",
              "      <td>0.0</td>\n",
              "      <td>0.0</td>\n",
              "      <td>0.0</td>\n",
              "      <td>0.0</td>\n",
              "      <td>0.0</td>\n",
              "      <td>0.0</td>\n",
              "      <td>1.0</td>\n",
              "      <td>0.0</td>\n",
              "      <td>0.0</td>\n",
              "      <td>0.0</td>\n",
              "      <td>0.0</td>\n",
              "      <td>0.0</td>\n",
              "      <td>0.0</td>\n",
              "      <td>0.0</td>\n",
              "      <td>1.0</td>\n",
              "    </tr>\n",
              "    <tr>\n",
              "      <th>11</th>\n",
              "      <td>0.864865</td>\n",
              "      <td>0.851351</td>\n",
              "      <td>0.881882</td>\n",
              "      <td>0.000000</td>\n",
              "      <td>0.000000</td>\n",
              "      <td>0.0</td>\n",
              "      <td>0.0</td>\n",
              "      <td>0.0</td>\n",
              "      <td>0.0</td>\n",
              "      <td>0.0</td>\n",
              "      <td>1.0</td>\n",
              "      <td>0.0</td>\n",
              "      <td>0.0</td>\n",
              "      <td>0.0</td>\n",
              "      <td>0.0</td>\n",
              "      <td>0.0</td>\n",
              "      <td>0.0</td>\n",
              "      <td>0.0</td>\n",
              "      <td>0.0</td>\n",
              "      <td>0.0</td>\n",
              "      <td>0.0</td>\n",
              "      <td>0.0</td>\n",
              "      <td>0.0</td>\n",
              "      <td>0.0</td>\n",
              "      <td>0.0</td>\n",
              "      <td>1.0</td>\n",
              "      <td>0.0</td>\n",
              "      <td>0.0</td>\n",
              "      <td>1.0</td>\n",
              "      <td>0.0</td>\n",
              "      <td>0.0</td>\n",
              "      <td>0.0</td>\n",
              "      <td>0.0</td>\n",
              "      <td>0.0</td>\n",
              "    </tr>\n",
              "  </tbody>\n",
              "</table>\n",
              "</div>"
            ],
            "text/plain": [
              "    quantity_ordered  quantity_submitted  quantity_received  visibility   \n",
              "2           0.368368            0.256757           0.455956    0.579079  \\\n",
              "3           0.368368            0.256757           0.455956    0.579079   \n",
              "8           0.661662            0.609610           0.705706    0.000000   \n",
              "9           0.792292            0.770771           0.814815    0.912412   \n",
              "11          0.864865            0.851351           0.881882    0.000000   \n",
              "\n",
              "    order_delivery_days  d_id_509  d_id_584  d_id_540  d_id_648  d_id_410   \n",
              "2              0.633133       0.0       0.0       0.0       1.0       0.0  \\\n",
              "3              0.633133       0.0       0.0       0.0       1.0       0.0   \n",
              "8              0.316316       0.0       1.0       0.0       0.0       0.0   \n",
              "9              0.863864       0.0       0.0       0.0       0.0       0.0   \n",
              "11             0.000000       0.0       0.0       0.0       0.0       0.0   \n",
              "\n",
              "    d_id_7  d_id_1  d_id_643  d_id_454  d_id_110  isbn_id_4595  isbn_id_26550   \n",
              "2      0.0     0.0       0.0       0.0       0.0           0.0            0.0  \\\n",
              "3      0.0     0.0       0.0       0.0       0.0           0.0            0.0   \n",
              "8      0.0     0.0       0.0       0.0       0.0           0.0            0.0   \n",
              "9      0.0     0.0       0.0       0.0       0.0           0.0            0.0   \n",
              "11     1.0     0.0       0.0       0.0       0.0           0.0            0.0   \n",
              "\n",
              "    isbn_id_27825  isbn_id_14820  isbn_id_19934  isbn_id_29771  isbn_id_7865   \n",
              "2             0.0            0.0            0.0            0.0           0.0  \\\n",
              "3             0.0            0.0            0.0            0.0           0.0   \n",
              "8             0.0            0.0            0.0            0.0           0.0   \n",
              "9             0.0            0.0            0.0            0.0           0.0   \n",
              "11            0.0            0.0            0.0            0.0           0.0   \n",
              "\n",
              "    isbn_id_31986  isbn_id_6790  isbn_id_8453  po_source_ind_AFT_Lite   \n",
              "2             0.0           0.0           0.0                     1.0  \\\n",
              "3             0.0           0.0           0.0                     1.0   \n",
              "8             0.0           0.0           0.0                     1.0   \n",
              "9             0.0           0.0           0.0                     1.0   \n",
              "11            0.0           0.0           0.0                     1.0   \n",
              "\n",
              "    row_group_ind_4  row_group_ind_1  row_group_ind_5  row_group_ind_3   \n",
              "2               0.0              1.0              0.0              0.0  \\\n",
              "3               0.0              0.0              0.0              0.0   \n",
              "8               0.0              0.0              1.0              0.0   \n",
              "9               0.0              0.0              0.0              0.0   \n",
              "11              0.0              0.0              1.0              0.0   \n",
              "\n",
              "    row_group_ind_2  row_group_ind_6  row_group_ind_0  row_group_ind_7  \n",
              "2               0.0              0.0              0.0              0.0  \n",
              "3               1.0              0.0              0.0              0.0  \n",
              "8               0.0              0.0              0.0              0.0  \n",
              "9               0.0              0.0              0.0              1.0  \n",
              "11              0.0              0.0              0.0              0.0  "
            ]
          },
          "execution_count": 54,
          "metadata": {},
          "output_type": "execute_result"
        }
      ],
      "source": [
        "\n",
        "X = X_train[req_cols].copy()\n",
        "y = X_train['quantity_received'].copy()\n",
        "X[req_cols] = qt.fit_transform(X[req_cols])\n",
        "X[req_cols].head()"
      ]
    },
    {
      "cell_type": "code",
      "execution_count": null,
      "metadata": {},
      "outputs": [],
      "source": []
    },
    {
      "cell_type": "code",
      "execution_count": 19,
      "metadata": {},
      "outputs": [],
      "source": [
        "df['order_year'] = df['order_date'].dt.year\n",
        "df['order_month'] = df['order_date'].dt.month\n",
        "df['order_day'] = df['order_date'].dt.day\n",
        "df['order_dayofweek'] = df['order_date'].dt.dayofweek\n",
        "df['order_dayofyear'] = df['order_date'].dt.dayofyear\n",
        "\n",
        "df['delivered_year'] = df['evsd'].dt.year\n",
        "df['delivered_month'] = df['evsd'].dt.month\n",
        "df['delivered_day'] = df['evsd'].dt.day\n",
        "df['delivered_dayofweek'] = df['evsd'].dt.dayofweek\n",
        "df['delivered_dayofyear'] = df['evsd'].dt.dayofyear\n"
      ]
    },
    {
      "cell_type": "code",
      "execution_count": 20,
      "metadata": {
        "id": "CiGef9btJ089"
      },
      "outputs": [
        {
          "data": {
            "text/html": [
              "<div>\n",
              "<style scoped>\n",
              "    .dataframe tbody tr th:only-of-type {\n",
              "        vertical-align: middle;\n",
              "    }\n",
              "\n",
              "    .dataframe tbody tr th {\n",
              "        vertical-align: top;\n",
              "    }\n",
              "\n",
              "    .dataframe thead th {\n",
              "        text-align: right;\n",
              "    }\n",
              "</style>\n",
              "<table border=\"1\" class=\"dataframe\">\n",
              "  <thead>\n",
              "    <tr style=\"text-align: right;\">\n",
              "      <th></th>\n",
              "      <th>LOCATION</th>\n",
              "      <th>d_id</th>\n",
              "      <th>isbn_id</th>\n",
              "      <th>order_id_1</th>\n",
              "      <th>order_date</th>\n",
              "      <th>evsd</th>\n",
              "      <th>row_group_ind</th>\n",
              "      <th>visibility</th>\n",
              "      <th>quantity_ordered</th>\n",
              "      <th>quantity_submitted</th>\n",
              "      <th>quantity_received</th>\n",
              "      <th>tag</th>\n",
              "      <th>order_delivery_days</th>\n",
              "      <th>order_year</th>\n",
              "      <th>order_month</th>\n",
              "      <th>order_day</th>\n",
              "      <th>order_dayofweek</th>\n",
              "      <th>order_dayofyear</th>\n",
              "      <th>delivered_year</th>\n",
              "      <th>delivered_month</th>\n",
              "      <th>delivered_day</th>\n",
              "      <th>delivered_dayofweek</th>\n",
              "      <th>delivered_dayofyear</th>\n",
              "      <th>order_month_sin</th>\n",
              "      <th>order_month_cos</th>\n",
              "      <th>order_dayofweek_sin</th>\n",
              "      <th>order_dayofweek_cos</th>\n",
              "      <th>delivered_month_sin</th>\n",
              "      <th>delivered_month_cos</th>\n",
              "      <th>delivered_dayofweek_sin</th>\n",
              "      <th>delivered_dayofweek_cos</th>\n",
              "    </tr>\n",
              "  </thead>\n",
              "  <tbody>\n",
              "    <tr>\n",
              "      <th>0</th>\n",
              "      <td>JFK2</td>\n",
              "      <td>1</td>\n",
              "      <td>25556</td>\n",
              "      <td>3912</td>\n",
              "      <td>2022-09-30</td>\n",
              "      <td>2022-10-04</td>\n",
              "      <td>7.0</td>\n",
              "      <td>2.0</td>\n",
              "      <td>4.0</td>\n",
              "      <td>4.0</td>\n",
              "      <td>4</td>\n",
              "      <td>train</td>\n",
              "      <td>4</td>\n",
              "      <td>2022</td>\n",
              "      <td>9</td>\n",
              "      <td>30</td>\n",
              "      <td>4</td>\n",
              "      <td>273</td>\n",
              "      <td>2022</td>\n",
              "      <td>10</td>\n",
              "      <td>4</td>\n",
              "      <td>1</td>\n",
              "      <td>277</td>\n",
              "      <td>-1.000000</td>\n",
              "      <td>-1.836970e-16</td>\n",
              "      <td>-0.433884</td>\n",
              "      <td>-0.900969</td>\n",
              "      <td>-0.866025</td>\n",
              "      <td>0.500000</td>\n",
              "      <td>0.781831</td>\n",
              "      <td>0.623490</td>\n",
              "    </tr>\n",
              "    <tr>\n",
              "      <th>1</th>\n",
              "      <td>JFK2</td>\n",
              "      <td>1</td>\n",
              "      <td>25556</td>\n",
              "      <td>91302</td>\n",
              "      <td>2022-11-16</td>\n",
              "      <td>2022-11-19</td>\n",
              "      <td>4.0</td>\n",
              "      <td>1.0</td>\n",
              "      <td>20.0</td>\n",
              "      <td>20.0</td>\n",
              "      <td>20</td>\n",
              "      <td>train</td>\n",
              "      <td>3</td>\n",
              "      <td>2022</td>\n",
              "      <td>11</td>\n",
              "      <td>16</td>\n",
              "      <td>2</td>\n",
              "      <td>320</td>\n",
              "      <td>2022</td>\n",
              "      <td>11</td>\n",
              "      <td>19</td>\n",
              "      <td>5</td>\n",
              "      <td>323</td>\n",
              "      <td>-0.500000</td>\n",
              "      <td>8.660254e-01</td>\n",
              "      <td>0.974928</td>\n",
              "      <td>-0.222521</td>\n",
              "      <td>-0.500000</td>\n",
              "      <td>0.866025</td>\n",
              "      <td>-0.974928</td>\n",
              "      <td>-0.222521</td>\n",
              "    </tr>\n",
              "    <tr>\n",
              "      <th>2</th>\n",
              "      <td>JFK2</td>\n",
              "      <td>1</td>\n",
              "      <td>33083</td>\n",
              "      <td>26096</td>\n",
              "      <td>2022-10-07</td>\n",
              "      <td>2022-10-11</td>\n",
              "      <td>4.0</td>\n",
              "      <td>4.0</td>\n",
              "      <td>4.0</td>\n",
              "      <td>4.0</td>\n",
              "      <td>4</td>\n",
              "      <td>train</td>\n",
              "      <td>4</td>\n",
              "      <td>2022</td>\n",
              "      <td>10</td>\n",
              "      <td>7</td>\n",
              "      <td>4</td>\n",
              "      <td>280</td>\n",
              "      <td>2022</td>\n",
              "      <td>10</td>\n",
              "      <td>11</td>\n",
              "      <td>1</td>\n",
              "      <td>284</td>\n",
              "      <td>-0.866025</td>\n",
              "      <td>5.000000e-01</td>\n",
              "      <td>-0.433884</td>\n",
              "      <td>-0.900969</td>\n",
              "      <td>-0.866025</td>\n",
              "      <td>0.500000</td>\n",
              "      <td>0.781831</td>\n",
              "      <td>0.623490</td>\n",
              "    </tr>\n",
              "    <tr>\n",
              "      <th>3</th>\n",
              "      <td>JFK2</td>\n",
              "      <td>1</td>\n",
              "      <td>33083</td>\n",
              "      <td>138855</td>\n",
              "      <td>2022-10-19</td>\n",
              "      <td>2022-10-22</td>\n",
              "      <td>5.0</td>\n",
              "      <td>2.0</td>\n",
              "      <td>4.0</td>\n",
              "      <td>4.0</td>\n",
              "      <td>4</td>\n",
              "      <td>train</td>\n",
              "      <td>3</td>\n",
              "      <td>2022</td>\n",
              "      <td>10</td>\n",
              "      <td>19</td>\n",
              "      <td>2</td>\n",
              "      <td>292</td>\n",
              "      <td>2022</td>\n",
              "      <td>10</td>\n",
              "      <td>22</td>\n",
              "      <td>5</td>\n",
              "      <td>295</td>\n",
              "      <td>-0.866025</td>\n",
              "      <td>5.000000e-01</td>\n",
              "      <td>0.974928</td>\n",
              "      <td>-0.222521</td>\n",
              "      <td>-0.866025</td>\n",
              "      <td>0.500000</td>\n",
              "      <td>-0.974928</td>\n",
              "      <td>-0.222521</td>\n",
              "    </tr>\n",
              "    <tr>\n",
              "      <th>4</th>\n",
              "      <td>JFK2</td>\n",
              "      <td>1</td>\n",
              "      <td>33083</td>\n",
              "      <td>114502</td>\n",
              "      <td>2022-10-18</td>\n",
              "      <td>2022-10-21</td>\n",
              "      <td>6.0</td>\n",
              "      <td>1.0</td>\n",
              "      <td>4.0</td>\n",
              "      <td>4.0</td>\n",
              "      <td>4</td>\n",
              "      <td>train</td>\n",
              "      <td>3</td>\n",
              "      <td>2022</td>\n",
              "      <td>10</td>\n",
              "      <td>18</td>\n",
              "      <td>1</td>\n",
              "      <td>291</td>\n",
              "      <td>2022</td>\n",
              "      <td>10</td>\n",
              "      <td>21</td>\n",
              "      <td>4</td>\n",
              "      <td>294</td>\n",
              "      <td>-0.866025</td>\n",
              "      <td>5.000000e-01</td>\n",
              "      <td>0.781831</td>\n",
              "      <td>0.623490</td>\n",
              "      <td>-0.866025</td>\n",
              "      <td>0.500000</td>\n",
              "      <td>-0.433884</td>\n",
              "      <td>-0.900969</td>\n",
              "    </tr>\n",
              "  </tbody>\n",
              "</table>\n",
              "</div>"
            ],
            "text/plain": [
              "  LOCATION d_id isbn_id order_id_1 order_date       evsd  row_group_ind   \n",
              "0     JFK2    1   25556       3912 2022-09-30 2022-10-04            7.0  \\\n",
              "1     JFK2    1   25556      91302 2022-11-16 2022-11-19            4.0   \n",
              "2     JFK2    1   33083      26096 2022-10-07 2022-10-11            4.0   \n",
              "3     JFK2    1   33083     138855 2022-10-19 2022-10-22            5.0   \n",
              "4     JFK2    1   33083     114502 2022-10-18 2022-10-21            6.0   \n",
              "\n",
              "   visibility  quantity_ordered  quantity_submitted  quantity_received    tag   \n",
              "0         2.0               4.0                 4.0                  4  train  \\\n",
              "1         1.0              20.0                20.0                 20  train   \n",
              "2         4.0               4.0                 4.0                  4  train   \n",
              "3         2.0               4.0                 4.0                  4  train   \n",
              "4         1.0               4.0                 4.0                  4  train   \n",
              "\n",
              "   order_delivery_days  order_year  order_month  order_day  order_dayofweek   \n",
              "0                    4        2022            9         30                4  \\\n",
              "1                    3        2022           11         16                2   \n",
              "2                    4        2022           10          7                4   \n",
              "3                    3        2022           10         19                2   \n",
              "4                    3        2022           10         18                1   \n",
              "\n",
              "   order_dayofyear  delivered_year  delivered_month  delivered_day   \n",
              "0              273            2022               10              4  \\\n",
              "1              320            2022               11             19   \n",
              "2              280            2022               10             11   \n",
              "3              292            2022               10             22   \n",
              "4              291            2022               10             21   \n",
              "\n",
              "   delivered_dayofweek  delivered_dayofyear  order_month_sin  order_month_cos   \n",
              "0                    1                  277        -1.000000    -1.836970e-16  \\\n",
              "1                    5                  323        -0.500000     8.660254e-01   \n",
              "2                    1                  284        -0.866025     5.000000e-01   \n",
              "3                    5                  295        -0.866025     5.000000e-01   \n",
              "4                    4                  294        -0.866025     5.000000e-01   \n",
              "\n",
              "   order_dayofweek_sin  order_dayofweek_cos  delivered_month_sin   \n",
              "0            -0.433884            -0.900969            -0.866025  \\\n",
              "1             0.974928            -0.222521            -0.500000   \n",
              "2            -0.433884            -0.900969            -0.866025   \n",
              "3             0.974928            -0.222521            -0.866025   \n",
              "4             0.781831             0.623490            -0.866025   \n",
              "\n",
              "   delivered_month_cos  delivered_dayofweek_sin  delivered_dayofweek_cos  \n",
              "0             0.500000                 0.781831                 0.623490  \n",
              "1             0.866025                -0.974928                -0.222521  \n",
              "2             0.500000                 0.781831                 0.623490  \n",
              "3             0.500000                -0.974928                -0.222521  \n",
              "4             0.500000                -0.433884                -0.900969  "
            ]
          },
          "execution_count": 20,
          "metadata": {},
          "output_type": "execute_result"
        }
      ],
      "source": [
        "df['order_month_sin'] = np.sin(2 * np.pi * df['order_month'] / 12)\n",
        "df['order_month_cos'] = np.cos(2 * np.pi * df['order_month'] / 12)\n",
        "\n",
        "df['order_dayofweek_sin'] = np.sin(2 * np.pi * df['order_dayofweek'] / 7)\n",
        "df['order_dayofweek_cos'] = np.cos(2 * np.pi * df['order_dayofweek'] / 7)\n",
        "\n",
        "df['delivered_month_sin'] = np.sin(2 * np.pi * df['delivered_month'] / 12)\n",
        "df['delivered_month_cos'] = np.cos(2 * np.pi * df['delivered_month'] / 12)\n",
        "\n",
        "df['delivered_dayofweek_sin'] = np.sin(2 * np.pi * df['delivered_dayofweek'] / 7)\n",
        "df['delivered_dayofweek_cos'] = np.cos(2 * np.pi * df['delivered_dayofweek'] / 7)\n",
        "\n",
        "df.head()"
      ]
    },
    {
      "cell_type": "code",
      "execution_count": 21,
      "metadata": {
        "id": "nQRo2X9iJ05n"
      },
      "outputs": [
        {
          "data": {
            "text/html": [
              "<div>\n",
              "<style scoped>\n",
              "    .dataframe tbody tr th:only-of-type {\n",
              "        vertical-align: middle;\n",
              "    }\n",
              "\n",
              "    .dataframe tbody tr th {\n",
              "        vertical-align: top;\n",
              "    }\n",
              "\n",
              "    .dataframe thead th {\n",
              "        text-align: right;\n",
              "    }\n",
              "</style>\n",
              "<table border=\"1\" class=\"dataframe\">\n",
              "  <thead>\n",
              "    <tr style=\"text-align: right;\">\n",
              "      <th></th>\n",
              "      <th>LOCATION</th>\n",
              "      <th>d_id</th>\n",
              "      <th>isbn_id</th>\n",
              "      <th>order_id_1</th>\n",
              "      <th>order_date</th>\n",
              "      <th>evsd</th>\n",
              "      <th>row_group_ind</th>\n",
              "      <th>visibility</th>\n",
              "      <th>quantity_ordered</th>\n",
              "      <th>quantity_submitted</th>\n",
              "      <th>quantity_received</th>\n",
              "      <th>tag</th>\n",
              "      <th>order_delivery_days</th>\n",
              "      <th>order_year</th>\n",
              "      <th>order_month</th>\n",
              "      <th>order_day</th>\n",
              "      <th>order_dayofweek</th>\n",
              "      <th>order_dayofyear</th>\n",
              "      <th>delivered_year</th>\n",
              "      <th>delivered_month</th>\n",
              "      <th>delivered_day</th>\n",
              "      <th>delivered_dayofweek</th>\n",
              "      <th>delivered_dayofyear</th>\n",
              "      <th>order_month_sin</th>\n",
              "      <th>order_month_cos</th>\n",
              "      <th>order_dayofweek_sin</th>\n",
              "      <th>order_dayofweek_cos</th>\n",
              "      <th>delivered_month_sin</th>\n",
              "      <th>delivered_month_cos</th>\n",
              "      <th>delivered_dayofweek_sin</th>\n",
              "      <th>delivered_dayofweek_cos</th>\n",
              "      <th>order_month_season</th>\n",
              "      <th>delivered_month_season</th>\n",
              "    </tr>\n",
              "  </thead>\n",
              "  <tbody>\n",
              "    <tr>\n",
              "      <th>0</th>\n",
              "      <td>JFK2</td>\n",
              "      <td>1</td>\n",
              "      <td>25556</td>\n",
              "      <td>3912</td>\n",
              "      <td>2022-09-30</td>\n",
              "      <td>2022-10-04</td>\n",
              "      <td>7.0</td>\n",
              "      <td>2.0</td>\n",
              "      <td>4.0</td>\n",
              "      <td>4.0</td>\n",
              "      <td>4</td>\n",
              "      <td>train</td>\n",
              "      <td>4</td>\n",
              "      <td>2022</td>\n",
              "      <td>9</td>\n",
              "      <td>30</td>\n",
              "      <td>4</td>\n",
              "      <td>273</td>\n",
              "      <td>2022</td>\n",
              "      <td>10</td>\n",
              "      <td>4</td>\n",
              "      <td>1</td>\n",
              "      <td>277</td>\n",
              "      <td>-1.000000</td>\n",
              "      <td>-1.836970e-16</td>\n",
              "      <td>-0.433884</td>\n",
              "      <td>-0.900969</td>\n",
              "      <td>-0.866025</td>\n",
              "      <td>0.500000</td>\n",
              "      <td>0.781831</td>\n",
              "      <td>0.623490</td>\n",
              "      <td>fall</td>\n",
              "      <td>fall</td>\n",
              "    </tr>\n",
              "    <tr>\n",
              "      <th>1</th>\n",
              "      <td>JFK2</td>\n",
              "      <td>1</td>\n",
              "      <td>25556</td>\n",
              "      <td>91302</td>\n",
              "      <td>2022-11-16</td>\n",
              "      <td>2022-11-19</td>\n",
              "      <td>4.0</td>\n",
              "      <td>1.0</td>\n",
              "      <td>20.0</td>\n",
              "      <td>20.0</td>\n",
              "      <td>20</td>\n",
              "      <td>train</td>\n",
              "      <td>3</td>\n",
              "      <td>2022</td>\n",
              "      <td>11</td>\n",
              "      <td>16</td>\n",
              "      <td>2</td>\n",
              "      <td>320</td>\n",
              "      <td>2022</td>\n",
              "      <td>11</td>\n",
              "      <td>19</td>\n",
              "      <td>5</td>\n",
              "      <td>323</td>\n",
              "      <td>-0.500000</td>\n",
              "      <td>8.660254e-01</td>\n",
              "      <td>0.974928</td>\n",
              "      <td>-0.222521</td>\n",
              "      <td>-0.500000</td>\n",
              "      <td>0.866025</td>\n",
              "      <td>-0.974928</td>\n",
              "      <td>-0.222521</td>\n",
              "      <td>fall</td>\n",
              "      <td>fall</td>\n",
              "    </tr>\n",
              "    <tr>\n",
              "      <th>2</th>\n",
              "      <td>JFK2</td>\n",
              "      <td>1</td>\n",
              "      <td>33083</td>\n",
              "      <td>26096</td>\n",
              "      <td>2022-10-07</td>\n",
              "      <td>2022-10-11</td>\n",
              "      <td>4.0</td>\n",
              "      <td>4.0</td>\n",
              "      <td>4.0</td>\n",
              "      <td>4.0</td>\n",
              "      <td>4</td>\n",
              "      <td>train</td>\n",
              "      <td>4</td>\n",
              "      <td>2022</td>\n",
              "      <td>10</td>\n",
              "      <td>7</td>\n",
              "      <td>4</td>\n",
              "      <td>280</td>\n",
              "      <td>2022</td>\n",
              "      <td>10</td>\n",
              "      <td>11</td>\n",
              "      <td>1</td>\n",
              "      <td>284</td>\n",
              "      <td>-0.866025</td>\n",
              "      <td>5.000000e-01</td>\n",
              "      <td>-0.433884</td>\n",
              "      <td>-0.900969</td>\n",
              "      <td>-0.866025</td>\n",
              "      <td>0.500000</td>\n",
              "      <td>0.781831</td>\n",
              "      <td>0.623490</td>\n",
              "      <td>fall</td>\n",
              "      <td>fall</td>\n",
              "    </tr>\n",
              "    <tr>\n",
              "      <th>3</th>\n",
              "      <td>JFK2</td>\n",
              "      <td>1</td>\n",
              "      <td>33083</td>\n",
              "      <td>138855</td>\n",
              "      <td>2022-10-19</td>\n",
              "      <td>2022-10-22</td>\n",
              "      <td>5.0</td>\n",
              "      <td>2.0</td>\n",
              "      <td>4.0</td>\n",
              "      <td>4.0</td>\n",
              "      <td>4</td>\n",
              "      <td>train</td>\n",
              "      <td>3</td>\n",
              "      <td>2022</td>\n",
              "      <td>10</td>\n",
              "      <td>19</td>\n",
              "      <td>2</td>\n",
              "      <td>292</td>\n",
              "      <td>2022</td>\n",
              "      <td>10</td>\n",
              "      <td>22</td>\n",
              "      <td>5</td>\n",
              "      <td>295</td>\n",
              "      <td>-0.866025</td>\n",
              "      <td>5.000000e-01</td>\n",
              "      <td>0.974928</td>\n",
              "      <td>-0.222521</td>\n",
              "      <td>-0.866025</td>\n",
              "      <td>0.500000</td>\n",
              "      <td>-0.974928</td>\n",
              "      <td>-0.222521</td>\n",
              "      <td>fall</td>\n",
              "      <td>fall</td>\n",
              "    </tr>\n",
              "    <tr>\n",
              "      <th>4</th>\n",
              "      <td>JFK2</td>\n",
              "      <td>1</td>\n",
              "      <td>33083</td>\n",
              "      <td>114502</td>\n",
              "      <td>2022-10-18</td>\n",
              "      <td>2022-10-21</td>\n",
              "      <td>6.0</td>\n",
              "      <td>1.0</td>\n",
              "      <td>4.0</td>\n",
              "      <td>4.0</td>\n",
              "      <td>4</td>\n",
              "      <td>train</td>\n",
              "      <td>3</td>\n",
              "      <td>2022</td>\n",
              "      <td>10</td>\n",
              "      <td>18</td>\n",
              "      <td>1</td>\n",
              "      <td>291</td>\n",
              "      <td>2022</td>\n",
              "      <td>10</td>\n",
              "      <td>21</td>\n",
              "      <td>4</td>\n",
              "      <td>294</td>\n",
              "      <td>-0.866025</td>\n",
              "      <td>5.000000e-01</td>\n",
              "      <td>0.781831</td>\n",
              "      <td>0.623490</td>\n",
              "      <td>-0.866025</td>\n",
              "      <td>0.500000</td>\n",
              "      <td>-0.433884</td>\n",
              "      <td>-0.900969</td>\n",
              "      <td>fall</td>\n",
              "      <td>fall</td>\n",
              "    </tr>\n",
              "  </tbody>\n",
              "</table>\n",
              "</div>"
            ],
            "text/plain": [
              "  LOCATION d_id isbn_id order_id_1 order_date       evsd  row_group_ind   \n",
              "0     JFK2    1   25556       3912 2022-09-30 2022-10-04            7.0  \\\n",
              "1     JFK2    1   25556      91302 2022-11-16 2022-11-19            4.0   \n",
              "2     JFK2    1   33083      26096 2022-10-07 2022-10-11            4.0   \n",
              "3     JFK2    1   33083     138855 2022-10-19 2022-10-22            5.0   \n",
              "4     JFK2    1   33083     114502 2022-10-18 2022-10-21            6.0   \n",
              "\n",
              "   visibility  quantity_ordered  quantity_submitted  quantity_received    tag   \n",
              "0         2.0               4.0                 4.0                  4  train  \\\n",
              "1         1.0              20.0                20.0                 20  train   \n",
              "2         4.0               4.0                 4.0                  4  train   \n",
              "3         2.0               4.0                 4.0                  4  train   \n",
              "4         1.0               4.0                 4.0                  4  train   \n",
              "\n",
              "   order_delivery_days  order_year  order_month  order_day  order_dayofweek   \n",
              "0                    4        2022            9         30                4  \\\n",
              "1                    3        2022           11         16                2   \n",
              "2                    4        2022           10          7                4   \n",
              "3                    3        2022           10         19                2   \n",
              "4                    3        2022           10         18                1   \n",
              "\n",
              "   order_dayofyear  delivered_year  delivered_month  delivered_day   \n",
              "0              273            2022               10              4  \\\n",
              "1              320            2022               11             19   \n",
              "2              280            2022               10             11   \n",
              "3              292            2022               10             22   \n",
              "4              291            2022               10             21   \n",
              "\n",
              "   delivered_dayofweek  delivered_dayofyear  order_month_sin  order_month_cos   \n",
              "0                    1                  277        -1.000000    -1.836970e-16  \\\n",
              "1                    5                  323        -0.500000     8.660254e-01   \n",
              "2                    1                  284        -0.866025     5.000000e-01   \n",
              "3                    5                  295        -0.866025     5.000000e-01   \n",
              "4                    4                  294        -0.866025     5.000000e-01   \n",
              "\n",
              "   order_dayofweek_sin  order_dayofweek_cos  delivered_month_sin   \n",
              "0            -0.433884            -0.900969            -0.866025  \\\n",
              "1             0.974928            -0.222521            -0.500000   \n",
              "2            -0.433884            -0.900969            -0.866025   \n",
              "3             0.974928            -0.222521            -0.866025   \n",
              "4             0.781831             0.623490            -0.866025   \n",
              "\n",
              "   delivered_month_cos  delivered_dayofweek_sin  delivered_dayofweek_cos   \n",
              "0             0.500000                 0.781831                 0.623490  \\\n",
              "1             0.866025                -0.974928                -0.222521   \n",
              "2             0.500000                 0.781831                 0.623490   \n",
              "3             0.500000                -0.974928                -0.222521   \n",
              "4             0.500000                -0.433884                -0.900969   \n",
              "\n",
              "  order_month_season delivered_month_season  \n",
              "0               fall                   fall  \n",
              "1               fall                   fall  \n",
              "2               fall                   fall  \n",
              "3               fall                   fall  \n",
              "4               fall                   fall  "
            ]
          },
          "execution_count": 21,
          "metadata": {},
          "output_type": "execute_result"
        }
      ],
      "source": [
        "# As categorical variable\n",
        "df['order_month_season'] = df['order_date'].dt.month.map({1: 'winter', 2: 'winter', 3: 'spring', 4: 'spring', 5: 'spring', 6: 'summer', 7: 'summer', 8: 'summer', 9: 'fall', 10: 'fall', 11: 'fall', 12: 'winter'})\n",
        "df['delivered_month_season'] = df['evsd'].dt.month.map({1: 'winter', 2: 'winter', 3: 'spring', 4: 'spring', 5: 'spring', 6: 'summer', 7: 'summer', 8: 'summer', 9: 'fall', 10: 'fall', 11: 'fall', 12: 'winter'})\n",
        "\n",
        "# As continuous variable using sine and cosine transformations\n",
        "df['order_month_sin'] = np.sin(2 * np.pi * df['order_month'] / 12)\n",
        "df['order_month_cos'] = np.cos(2 * np.pi * df['order_month'] / 12)\n",
        "df['delivered_month_sin'] = np.sin(2 * np.pi * df['delivered_month'] / 12)\n",
        "df['delivered_month_cos'] = np.cos(2 * np.pi * df['delivered_month'] / 12)\n",
        "df.head()"
      ]
    },
    {
      "cell_type": "code",
      "execution_count": 22,
      "metadata": {
        "id": "YeZ0ofusJ01y"
      },
      "outputs": [],
      "source": [
        "df['order_weekday'] = (df['order_dayofweek'] < 5).astype(int)  # 0 for weekend, 1 for weekday\n",
        "df['delivered_weekday'] = (df['delivered_dayofweek'] < 5).astype(int)\n"
      ]
    },
    {
      "cell_type": "code",
      "execution_count": 23,
      "metadata": {},
      "outputs": [
        {
          "data": {
            "text/plain": [
              "(357596, 35)"
            ]
          },
          "execution_count": 23,
          "metadata": {},
          "output_type": "execute_result"
        }
      ],
      "source": [
        "df.shape"
      ]
    },
    {
      "cell_type": "code",
      "execution_count": 24,
      "metadata": {},
      "outputs": [
        {
          "data": {
            "text/plain": [
              "10878"
            ]
          },
          "execution_count": 24,
          "metadata": {},
          "output_type": "execute_result"
        }
      ],
      "source": [
        "(df['d_id'] + df['isbn_id']).nunique()"
      ]
    },
    {
      "cell_type": "code",
      "execution_count": 25,
      "metadata": {},
      "outputs": [
        {
          "data": {
            "text/plain": [
              "540__4595     0.001158\n",
              "524__26550    0.001124\n",
              "410__24163    0.001119\n",
              "540__373      0.001116\n",
              "540__14820    0.001116\n",
              "410__29416    0.001116\n",
              "524__7865     0.001102\n",
              "410__10204    0.001096\n",
              "524__29771    0.001077\n",
              "410__19394    0.001077\n",
              "410__1528     0.001077\n",
              "524__8453     0.001071\n",
              "410__28311    0.001057\n",
              "410__2081     0.001054\n",
              "410__28446    0.001054\n",
              "410__13646    0.001054\n",
              "524__27825    0.001051\n",
              "524__21625    0.001049\n",
              "410__26105    0.001043\n",
              "540__31986    0.001032\n",
              "524__6790     0.001026\n",
              "524__19934    0.001024\n",
              "410__32365    0.001018\n",
              "410__8551     0.001018\n",
              "410__17481    0.001012\n",
              "410__30418    0.000998\n",
              "410__5310     0.000998\n",
              "410__31291    0.000979\n",
              "410__12868    0.000976\n",
              "410__28595    0.000973\n",
              "410__1108     0.000970\n",
              "410__6998     0.000956\n",
              "410__4002     0.000954\n",
              "540__29918    0.000948\n",
              "540__24090    0.000948\n",
              "524__30821    0.000948\n",
              "540__15727    0.000948\n",
              "540__9338     0.000948\n",
              "540__2044     0.000942\n",
              "540__15592    0.000937\n",
              "410__30967    0.000937\n",
              "410__20003    0.000937\n",
              "524__20309    0.000937\n",
              "540__23917    0.000937\n",
              "540__3935     0.000937\n",
              "540__24747    0.000937\n",
              "540__13418    0.000937\n",
              "540__7468     0.000937\n",
              "540__10228    0.000937\n",
              "540__2547     0.000937\n",
              "Name: proportion, dtype: float64"
            ]
          },
          "execution_count": 25,
          "metadata": {},
          "output_type": "execute_result"
        }
      ],
      "source": [
        "(df['d_id'] +'__' + df['isbn_id']).value_counts(dropna = False, normalize = True).head(50)\n",
        "# Remaining you put as unknown\n"
      ]
    },
    {
      "cell_type": "code",
      "execution_count": 26,
      "metadata": {},
      "outputs": [
        {
          "data": {
            "text/plain": [
              "isbn_id\n",
              "4595     0.001158\n",
              "26550    0.001124\n",
              "24163    0.001119\n",
              "373      0.001116\n",
              "14820    0.001116\n",
              "29416    0.001116\n",
              "7865     0.001102\n",
              "10204    0.001096\n",
              "29771    0.001077\n",
              "19394    0.001077\n",
              "Name: proportion, dtype: float64"
            ]
          },
          "execution_count": 26,
          "metadata": {},
          "output_type": "execute_result"
        }
      ],
      "source": [
        "df['isbn_id'].value_counts(dropna = False, normalize = True).head(10)"
      ]
    },
    {
      "cell_type": "code",
      "execution_count": 27,
      "metadata": {},
      "outputs": [
        {
          "data": {
            "text/plain": [
              "d_id\n",
              "509    0.382574\n",
              "584    0.123184\n",
              "540    0.094204\n",
              "648    0.060823\n",
              "7      0.047584\n",
              "410    0.045951\n",
              "1      0.042819\n",
              "643    0.021091\n",
              "684    0.019609\n",
              "454    0.019226\n",
              "110    0.017995\n",
              "639    0.015613\n",
              "174    0.014419\n",
              "524    0.014391\n",
              "652    0.013622\n",
              "18     0.008901\n",
              "136    0.008266\n",
              "393    0.007525\n",
              "566    0.007192\n",
              "472    0.006689\n",
              "763    0.006502\n",
              "343    0.005271\n",
              "218    0.004899\n",
              "711    0.003591\n",
              "13     0.001913\n",
              "302    0.001326\n",
              "373    0.001270\n",
              "830    0.001054\n",
              "440    0.000453\n",
              "79     0.000419\n",
              "613    0.000411\n",
              "216    0.000313\n",
              "845    0.000277\n",
              "701    0.000235\n",
              "127    0.000204\n",
              "746    0.000067\n",
              "803    0.000056\n",
              "462    0.000039\n",
              "210    0.000017\n",
              "241    0.000006\n",
              "Name: proportion, dtype: float64"
            ]
          },
          "execution_count": 27,
          "metadata": {},
          "output_type": "execute_result"
        }
      ],
      "source": [
        "df['d_id'].value_counts(dropna = False, normalize = True)"
      ]
    },
    {
      "cell_type": "code",
      "execution_count": 28,
      "metadata": {
        "id": "BLj4TUsHJ0yq"
      },
      "outputs": [
        {
          "data": {
            "text/plain": [
              "LOCATION                      1\n",
              "d_id                         40\n",
              "isbn_id                    9492\n",
              "order_id_1                 1993\n",
              "order_date                  110\n",
              "evsd                        106\n",
              "row_group_ind                 8\n",
              "visibility                   25\n",
              "quantity_ordered            218\n",
              "quantity_submitted          230\n",
              "quantity_received           264\n",
              "tag                           2\n",
              "order_delivery_days          23\n",
              "order_year                    1\n",
              "order_month                   4\n",
              "order_day                    31\n",
              "order_dayofweek               7\n",
              "order_dayofyear             110\n",
              "delivered_year                2\n",
              "delivered_month               5\n",
              "delivered_day                31\n",
              "delivered_dayofweek           7\n",
              "delivered_dayofyear         106\n",
              "order_month_sin               4\n",
              "order_month_cos               4\n",
              "order_dayofweek_sin           7\n",
              "order_dayofweek_cos           7\n",
              "delivered_month_sin           5\n",
              "delivered_month_cos           5\n",
              "delivered_dayofweek_sin       7\n",
              "delivered_dayofweek_cos       7\n",
              "order_month_season            2\n",
              "delivered_month_season        2\n",
              "order_weekday                 2\n",
              "delivered_weekday             2\n",
              "dtype: int64"
            ]
          },
          "execution_count": 28,
          "metadata": {},
          "output_type": "execute_result"
        }
      ],
      "source": [
        "df.nunique()\n"
      ]
    },
    {
      "cell_type": "code",
      "execution_count": 29,
      "metadata": {
        "id": "z8Rqc23GJ0tn"
      },
      "outputs": [
        {
          "data": {
            "text/plain": [
              "((142773, 36), (357596, 36))"
            ]
          },
          "execution_count": 29,
          "metadata": {},
          "output_type": "execute_result"
        }
      ],
      "source": [
        "# Create a new column that combines the values of the existing columns\n",
        "df['unique_id'] = df.apply(lambda row: f\"{row['LOCATION']}_{row['d_id']}_{row['isbn_id']}_{row['order_id_1']}\", axis=1)\n",
        "\n",
        "# Drop duplicates based on the new column\n",
        "df_unique = df.drop_duplicates(subset=['unique_id'])\n",
        "\n",
        "df_unique.shape, df.shape"
      ]
    },
    {
      "cell_type": "code",
      "execution_count": 30,
      "metadata": {
        "id": "eRkVDIF5J0o0"
      },
      "outputs": [
        {
          "name": "stdout",
          "output_type": "stream",
          "text": [
            "(142773, 36)\n"
          ]
        },
        {
          "data": {
            "text/html": [
              "<div>\n",
              "<style scoped>\n",
              "    .dataframe tbody tr th:only-of-type {\n",
              "        vertical-align: middle;\n",
              "    }\n",
              "\n",
              "    .dataframe tbody tr th {\n",
              "        vertical-align: top;\n",
              "    }\n",
              "\n",
              "    .dataframe thead th {\n",
              "        text-align: right;\n",
              "    }\n",
              "</style>\n",
              "<table border=\"1\" class=\"dataframe\">\n",
              "  <thead>\n",
              "    <tr style=\"text-align: right;\">\n",
              "      <th></th>\n",
              "      <th>LOCATION</th>\n",
              "      <th>d_id</th>\n",
              "      <th>isbn_id</th>\n",
              "      <th>order_id_1</th>\n",
              "      <th>order_date</th>\n",
              "      <th>evsd</th>\n",
              "      <th>row_group_ind</th>\n",
              "      <th>visibility</th>\n",
              "      <th>quantity_ordered</th>\n",
              "      <th>quantity_submitted</th>\n",
              "      <th>quantity_received</th>\n",
              "      <th>tag</th>\n",
              "      <th>order_delivery_days</th>\n",
              "      <th>order_year</th>\n",
              "      <th>order_month</th>\n",
              "      <th>order_day</th>\n",
              "      <th>order_dayofweek</th>\n",
              "      <th>order_dayofyear</th>\n",
              "      <th>delivered_year</th>\n",
              "      <th>delivered_month</th>\n",
              "      <th>delivered_day</th>\n",
              "      <th>delivered_dayofweek</th>\n",
              "      <th>delivered_dayofyear</th>\n",
              "      <th>order_month_sin</th>\n",
              "      <th>order_month_cos</th>\n",
              "      <th>order_dayofweek_sin</th>\n",
              "      <th>order_dayofweek_cos</th>\n",
              "      <th>delivered_month_sin</th>\n",
              "      <th>delivered_month_cos</th>\n",
              "      <th>delivered_dayofweek_sin</th>\n",
              "      <th>delivered_dayofweek_cos</th>\n",
              "      <th>order_month_season</th>\n",
              "      <th>delivered_month_season</th>\n",
              "      <th>order_weekday</th>\n",
              "      <th>delivered_weekday</th>\n",
              "      <th>unique_id</th>\n",
              "    </tr>\n",
              "  </thead>\n",
              "  <tbody>\n",
              "    <tr>\n",
              "      <th>0</th>\n",
              "      <td>JFK2</td>\n",
              "      <td>1</td>\n",
              "      <td>25556</td>\n",
              "      <td>3912</td>\n",
              "      <td>2022-09-30</td>\n",
              "      <td>2022-10-04</td>\n",
              "      <td>7.0</td>\n",
              "      <td>2.0</td>\n",
              "      <td>4.0</td>\n",
              "      <td>4.0</td>\n",
              "      <td>4</td>\n",
              "      <td>train</td>\n",
              "      <td>4</td>\n",
              "      <td>2022</td>\n",
              "      <td>9</td>\n",
              "      <td>30</td>\n",
              "      <td>4</td>\n",
              "      <td>273</td>\n",
              "      <td>2022</td>\n",
              "      <td>10</td>\n",
              "      <td>4</td>\n",
              "      <td>1</td>\n",
              "      <td>277</td>\n",
              "      <td>-1.000000</td>\n",
              "      <td>-1.836970e-16</td>\n",
              "      <td>-0.433884</td>\n",
              "      <td>-0.900969</td>\n",
              "      <td>-0.866025</td>\n",
              "      <td>0.500000</td>\n",
              "      <td>0.781831</td>\n",
              "      <td>0.623490</td>\n",
              "      <td>fall</td>\n",
              "      <td>fall</td>\n",
              "      <td>1</td>\n",
              "      <td>1</td>\n",
              "      <td>JFK2_1_25556_3912</td>\n",
              "    </tr>\n",
              "    <tr>\n",
              "      <th>1</th>\n",
              "      <td>JFK2</td>\n",
              "      <td>1</td>\n",
              "      <td>25556</td>\n",
              "      <td>91302</td>\n",
              "      <td>2022-11-16</td>\n",
              "      <td>2022-11-19</td>\n",
              "      <td>4.0</td>\n",
              "      <td>1.0</td>\n",
              "      <td>20.0</td>\n",
              "      <td>20.0</td>\n",
              "      <td>20</td>\n",
              "      <td>train</td>\n",
              "      <td>3</td>\n",
              "      <td>2022</td>\n",
              "      <td>11</td>\n",
              "      <td>16</td>\n",
              "      <td>2</td>\n",
              "      <td>320</td>\n",
              "      <td>2022</td>\n",
              "      <td>11</td>\n",
              "      <td>19</td>\n",
              "      <td>5</td>\n",
              "      <td>323</td>\n",
              "      <td>-0.500000</td>\n",
              "      <td>8.660254e-01</td>\n",
              "      <td>0.974928</td>\n",
              "      <td>-0.222521</td>\n",
              "      <td>-0.500000</td>\n",
              "      <td>0.866025</td>\n",
              "      <td>-0.974928</td>\n",
              "      <td>-0.222521</td>\n",
              "      <td>fall</td>\n",
              "      <td>fall</td>\n",
              "      <td>1</td>\n",
              "      <td>0</td>\n",
              "      <td>JFK2_1_25556_91302</td>\n",
              "    </tr>\n",
              "    <tr>\n",
              "      <th>2</th>\n",
              "      <td>JFK2</td>\n",
              "      <td>1</td>\n",
              "      <td>33083</td>\n",
              "      <td>26096</td>\n",
              "      <td>2022-10-07</td>\n",
              "      <td>2022-10-11</td>\n",
              "      <td>4.0</td>\n",
              "      <td>4.0</td>\n",
              "      <td>4.0</td>\n",
              "      <td>4.0</td>\n",
              "      <td>4</td>\n",
              "      <td>train</td>\n",
              "      <td>4</td>\n",
              "      <td>2022</td>\n",
              "      <td>10</td>\n",
              "      <td>7</td>\n",
              "      <td>4</td>\n",
              "      <td>280</td>\n",
              "      <td>2022</td>\n",
              "      <td>10</td>\n",
              "      <td>11</td>\n",
              "      <td>1</td>\n",
              "      <td>284</td>\n",
              "      <td>-0.866025</td>\n",
              "      <td>5.000000e-01</td>\n",
              "      <td>-0.433884</td>\n",
              "      <td>-0.900969</td>\n",
              "      <td>-0.866025</td>\n",
              "      <td>0.500000</td>\n",
              "      <td>0.781831</td>\n",
              "      <td>0.623490</td>\n",
              "      <td>fall</td>\n",
              "      <td>fall</td>\n",
              "      <td>1</td>\n",
              "      <td>1</td>\n",
              "      <td>JFK2_1_33083_26096</td>\n",
              "    </tr>\n",
              "    <tr>\n",
              "      <th>3</th>\n",
              "      <td>JFK2</td>\n",
              "      <td>1</td>\n",
              "      <td>33083</td>\n",
              "      <td>138855</td>\n",
              "      <td>2022-10-19</td>\n",
              "      <td>2022-10-22</td>\n",
              "      <td>5.0</td>\n",
              "      <td>2.0</td>\n",
              "      <td>4.0</td>\n",
              "      <td>4.0</td>\n",
              "      <td>4</td>\n",
              "      <td>train</td>\n",
              "      <td>3</td>\n",
              "      <td>2022</td>\n",
              "      <td>10</td>\n",
              "      <td>19</td>\n",
              "      <td>2</td>\n",
              "      <td>292</td>\n",
              "      <td>2022</td>\n",
              "      <td>10</td>\n",
              "      <td>22</td>\n",
              "      <td>5</td>\n",
              "      <td>295</td>\n",
              "      <td>-0.866025</td>\n",
              "      <td>5.000000e-01</td>\n",
              "      <td>0.974928</td>\n",
              "      <td>-0.222521</td>\n",
              "      <td>-0.866025</td>\n",
              "      <td>0.500000</td>\n",
              "      <td>-0.974928</td>\n",
              "      <td>-0.222521</td>\n",
              "      <td>fall</td>\n",
              "      <td>fall</td>\n",
              "      <td>1</td>\n",
              "      <td>0</td>\n",
              "      <td>JFK2_1_33083_138855</td>\n",
              "    </tr>\n",
              "    <tr>\n",
              "      <th>4</th>\n",
              "      <td>JFK2</td>\n",
              "      <td>1</td>\n",
              "      <td>33083</td>\n",
              "      <td>114502</td>\n",
              "      <td>2022-10-18</td>\n",
              "      <td>2022-10-21</td>\n",
              "      <td>6.0</td>\n",
              "      <td>1.0</td>\n",
              "      <td>4.0</td>\n",
              "      <td>4.0</td>\n",
              "      <td>4</td>\n",
              "      <td>train</td>\n",
              "      <td>3</td>\n",
              "      <td>2022</td>\n",
              "      <td>10</td>\n",
              "      <td>18</td>\n",
              "      <td>1</td>\n",
              "      <td>291</td>\n",
              "      <td>2022</td>\n",
              "      <td>10</td>\n",
              "      <td>21</td>\n",
              "      <td>4</td>\n",
              "      <td>294</td>\n",
              "      <td>-0.866025</td>\n",
              "      <td>5.000000e-01</td>\n",
              "      <td>0.781831</td>\n",
              "      <td>0.623490</td>\n",
              "      <td>-0.866025</td>\n",
              "      <td>0.500000</td>\n",
              "      <td>-0.433884</td>\n",
              "      <td>-0.900969</td>\n",
              "      <td>fall</td>\n",
              "      <td>fall</td>\n",
              "      <td>1</td>\n",
              "      <td>1</td>\n",
              "      <td>JFK2_1_33083_114502</td>\n",
              "    </tr>\n",
              "  </tbody>\n",
              "</table>\n",
              "</div>"
            ],
            "text/plain": [
              "  LOCATION d_id isbn_id order_id_1 order_date       evsd  row_group_ind   \n",
              "0     JFK2    1   25556       3912 2022-09-30 2022-10-04            7.0  \\\n",
              "1     JFK2    1   25556      91302 2022-11-16 2022-11-19            4.0   \n",
              "2     JFK2    1   33083      26096 2022-10-07 2022-10-11            4.0   \n",
              "3     JFK2    1   33083     138855 2022-10-19 2022-10-22            5.0   \n",
              "4     JFK2    1   33083     114502 2022-10-18 2022-10-21            6.0   \n",
              "\n",
              "   visibility  quantity_ordered  quantity_submitted  quantity_received    tag   \n",
              "0         2.0               4.0                 4.0                  4  train  \\\n",
              "1         1.0              20.0                20.0                 20  train   \n",
              "2         4.0               4.0                 4.0                  4  train   \n",
              "3         2.0               4.0                 4.0                  4  train   \n",
              "4         1.0               4.0                 4.0                  4  train   \n",
              "\n",
              "   order_delivery_days  order_year  order_month  order_day  order_dayofweek   \n",
              "0                    4        2022            9         30                4  \\\n",
              "1                    3        2022           11         16                2   \n",
              "2                    4        2022           10          7                4   \n",
              "3                    3        2022           10         19                2   \n",
              "4                    3        2022           10         18                1   \n",
              "\n",
              "   order_dayofyear  delivered_year  delivered_month  delivered_day   \n",
              "0              273            2022               10              4  \\\n",
              "1              320            2022               11             19   \n",
              "2              280            2022               10             11   \n",
              "3              292            2022               10             22   \n",
              "4              291            2022               10             21   \n",
              "\n",
              "   delivered_dayofweek  delivered_dayofyear  order_month_sin  order_month_cos   \n",
              "0                    1                  277        -1.000000    -1.836970e-16  \\\n",
              "1                    5                  323        -0.500000     8.660254e-01   \n",
              "2                    1                  284        -0.866025     5.000000e-01   \n",
              "3                    5                  295        -0.866025     5.000000e-01   \n",
              "4                    4                  294        -0.866025     5.000000e-01   \n",
              "\n",
              "   order_dayofweek_sin  order_dayofweek_cos  delivered_month_sin   \n",
              "0            -0.433884            -0.900969            -0.866025  \\\n",
              "1             0.974928            -0.222521            -0.500000   \n",
              "2            -0.433884            -0.900969            -0.866025   \n",
              "3             0.974928            -0.222521            -0.866025   \n",
              "4             0.781831             0.623490            -0.866025   \n",
              "\n",
              "   delivered_month_cos  delivered_dayofweek_sin  delivered_dayofweek_cos   \n",
              "0             0.500000                 0.781831                 0.623490  \\\n",
              "1             0.866025                -0.974928                -0.222521   \n",
              "2             0.500000                 0.781831                 0.623490   \n",
              "3             0.500000                -0.974928                -0.222521   \n",
              "4             0.500000                -0.433884                -0.900969   \n",
              "\n",
              "  order_month_season delivered_month_season  order_weekday  delivered_weekday   \n",
              "0               fall                   fall              1                  1  \\\n",
              "1               fall                   fall              1                  0   \n",
              "2               fall                   fall              1                  1   \n",
              "3               fall                   fall              1                  0   \n",
              "4               fall                   fall              1                  1   \n",
              "\n",
              "             unique_id  \n",
              "0    JFK2_1_25556_3912  \n",
              "1   JFK2_1_25556_91302  \n",
              "2   JFK2_1_33083_26096  \n",
              "3  JFK2_1_33083_138855  \n",
              "4  JFK2_1_33083_114502  "
            ]
          },
          "execution_count": 30,
          "metadata": {},
          "output_type": "execute_result"
        }
      ],
      "source": [
        "print(df_unique.shape)\n",
        "df_unique.head()"
      ]
    },
    {
      "cell_type": "code",
      "execution_count": 31,
      "metadata": {
        "id": "VUZfVCh2J0k0"
      },
      "outputs": [
        {
          "data": {
            "text/plain": [
              "Index(['LOCATION', 'd_id', 'isbn_id', 'order_id_1', 'order_date', 'evsd',\n",
              "       'row_group_ind', 'visibility', 'quantity_ordered', 'quantity_submitted',\n",
              "       'quantity_received', 'tag', 'order_delivery_days', 'order_year',\n",
              "       'order_month', 'order_day', 'order_dayofweek', 'order_dayofyear',\n",
              "       'delivered_year', 'delivered_month', 'delivered_day',\n",
              "       'delivered_dayofweek', 'delivered_dayofyear', 'order_month_sin',\n",
              "       'order_month_cos', 'order_dayofweek_sin', 'order_dayofweek_cos',\n",
              "       'delivered_month_sin', 'delivered_month_cos', 'delivered_dayofweek_sin',\n",
              "       'delivered_dayofweek_cos', 'order_month_season',\n",
              "       'delivered_month_season', 'order_weekday', 'delivered_weekday',\n",
              "       'unique_id'],\n",
              "      dtype='object')"
            ]
          },
          "execution_count": 31,
          "metadata": {},
          "output_type": "execute_result"
        }
      ],
      "source": [
        "df.columns"
      ]
    },
    {
      "cell_type": "code",
      "execution_count": 32,
      "metadata": {
        "colab": {
          "base_uri": "https://localhost:8080/"
        },
        "id": "6MYoIDl9S4yq",
        "outputId": "2524eb7c-b78d-4450-b2e5-a9b949c69181"
      },
      "outputs": [
        {
          "data": {
            "text/plain": [
              "d_id                     object\n",
              "isbn_id                  object\n",
              "order_id_1               object\n",
              "order_date       datetime64[ns]\n",
              "evsd             datetime64[ns]\n",
              "row_group_ind           float64\n",
              "dtype: object"
            ]
          },
          "execution_count": 32,
          "metadata": {},
          "output_type": "execute_result"
        }
      ],
      "source": [
        "df[['d_id', 'isbn_id', 'order_id_1', 'order_date', 'evsd', 'row_group_ind']].dtypes"
      ]
    },
    {
      "cell_type": "code",
      "execution_count": 33,
      "metadata": {},
      "outputs": [],
      "source": [
        "df['row_group_ind'] = df['row_group_ind'].astype(str)"
      ]
    },
    {
      "cell_type": "code",
      "execution_count": 34,
      "metadata": {},
      "outputs": [
        {
          "data": {
            "text/plain": [
              "Index(['LOCATION', 'd_id', 'isbn_id', 'order_id_1', 'order_date', 'evsd',\n",
              "       'row_group_ind', 'visibility', 'quantity_ordered', 'quantity_submitted',\n",
              "       'quantity_received', 'tag', 'order_delivery_days', 'order_year',\n",
              "       'order_month', 'order_day', 'order_dayofweek', 'order_dayofyear',\n",
              "       'delivered_year', 'delivered_month', 'delivered_day',\n",
              "       'delivered_dayofweek', 'delivered_dayofyear', 'order_month_sin',\n",
              "       'order_month_cos', 'order_dayofweek_sin', 'order_dayofweek_cos',\n",
              "       'delivered_month_sin', 'delivered_month_cos', 'delivered_dayofweek_sin',\n",
              "       'delivered_dayofweek_cos', 'order_month_season',\n",
              "       'delivered_month_season', 'order_weekday', 'delivered_weekday',\n",
              "       'unique_id'],\n",
              "      dtype='object')"
            ]
          },
          "execution_count": 34,
          "metadata": {},
          "output_type": "execute_result"
        }
      ],
      "source": [
        "df.columns"
      ]
    },
    {
      "cell_type": "code",
      "execution_count": 37,
      "metadata": {},
      "outputs": [],
      "source": [
        "df.drop(['order_date_VC', 'evsd_VC'], axis =1, inplace = True)"
      ]
    },
    {
      "cell_type": "code",
      "execution_count": 38,
      "metadata": {},
      "outputs": [],
      "source": [
        "for col in ['d_id', 'isbn_id', 'order_id_1',  'row_group_ind', 'order_month_season', 'delivered_month_season']:\n",
        "    temp_dict = dict(df[col].value_counts(normalize = True))\n",
        "    df[f'{col}_VC'] = df[col].map(temp_dict)\n",
        "    del temp_dict"
      ]
    },
    {
      "cell_type": "code",
      "execution_count": 41,
      "metadata": {},
      "outputs": [],
      "source": [
        "req_cols = [col for col in df.columns if col not in ['LOCATION', 'order_date', 'evsd', 'd_id', \n",
        "                                                     'isbn_id', 'order_id_1','quantity_received', 'tag',\n",
        "                                                      'order_date', 'evsd', 'row_group_ind', 'unique_id','target', \n",
        "                                                      'delivered_year', 'order_year',  'order_month_season',\n",
        "                                                        'delivered_month_season', 'order_month', 'delivered_month']]"
      ]
    },
    {
      "cell_type": "code",
      "execution_count": 42,
      "metadata": {},
      "outputs": [
        {
          "data": {
            "text/html": [
              "<div>\n",
              "<style scoped>\n",
              "    .dataframe tbody tr th:only-of-type {\n",
              "        vertical-align: middle;\n",
              "    }\n",
              "\n",
              "    .dataframe tbody tr th {\n",
              "        vertical-align: top;\n",
              "    }\n",
              "\n",
              "    .dataframe thead th {\n",
              "        text-align: right;\n",
              "    }\n",
              "</style>\n",
              "<table border=\"1\" class=\"dataframe\">\n",
              "  <thead>\n",
              "    <tr style=\"text-align: right;\">\n",
              "      <th></th>\n",
              "      <th>visibility</th>\n",
              "      <th>quantity_ordered</th>\n",
              "      <th>quantity_submitted</th>\n",
              "      <th>order_delivery_days</th>\n",
              "      <th>order_day</th>\n",
              "      <th>order_dayofweek</th>\n",
              "      <th>order_dayofyear</th>\n",
              "      <th>delivered_day</th>\n",
              "      <th>delivered_dayofweek</th>\n",
              "      <th>delivered_dayofyear</th>\n",
              "      <th>order_month_sin</th>\n",
              "      <th>order_month_cos</th>\n",
              "      <th>order_dayofweek_sin</th>\n",
              "      <th>order_dayofweek_cos</th>\n",
              "      <th>delivered_month_sin</th>\n",
              "      <th>delivered_month_cos</th>\n",
              "      <th>delivered_dayofweek_sin</th>\n",
              "      <th>delivered_dayofweek_cos</th>\n",
              "      <th>order_weekday</th>\n",
              "      <th>delivered_weekday</th>\n",
              "      <th>d_id_VC</th>\n",
              "      <th>isbn_id_VC</th>\n",
              "      <th>order_id_1_VC</th>\n",
              "      <th>row_group_ind_VC</th>\n",
              "      <th>order_month_season_VC</th>\n",
              "      <th>delivered_month_season_VC</th>\n",
              "    </tr>\n",
              "  </thead>\n",
              "  <tbody>\n",
              "    <tr>\n",
              "      <th>0</th>\n",
              "      <td>2.0</td>\n",
              "      <td>4.0</td>\n",
              "      <td>4.0</td>\n",
              "      <td>4</td>\n",
              "      <td>30</td>\n",
              "      <td>4</td>\n",
              "      <td>273</td>\n",
              "      <td>4</td>\n",
              "      <td>1</td>\n",
              "      <td>277</td>\n",
              "      <td>-1.0</td>\n",
              "      <td>-1.836970e-16</td>\n",
              "      <td>-0.433884</td>\n",
              "      <td>-0.900969</td>\n",
              "      <td>-0.866025</td>\n",
              "      <td>0.5</td>\n",
              "      <td>0.781831</td>\n",
              "      <td>0.62349</td>\n",
              "      <td>1</td>\n",
              "      <td>1</td>\n",
              "      <td>0.042819</td>\n",
              "      <td>0.000506</td>\n",
              "      <td>0.000895</td>\n",
              "      <td>0.124056</td>\n",
              "      <td>0.725084</td>\n",
              "      <td>0.680735</td>\n",
              "    </tr>\n",
              "  </tbody>\n",
              "</table>\n",
              "</div>"
            ],
            "text/plain": [
              "   visibility  quantity_ordered  quantity_submitted  order_delivery_days   \n",
              "0         2.0               4.0                 4.0                    4  \\\n",
              "\n",
              "   order_day  order_dayofweek  order_dayofyear  delivered_day   \n",
              "0         30                4              273              4  \\\n",
              "\n",
              "   delivered_dayofweek  delivered_dayofyear  order_month_sin  order_month_cos   \n",
              "0                    1                  277             -1.0    -1.836970e-16  \\\n",
              "\n",
              "   order_dayofweek_sin  order_dayofweek_cos  delivered_month_sin   \n",
              "0            -0.433884            -0.900969            -0.866025  \\\n",
              "\n",
              "   delivered_month_cos  delivered_dayofweek_sin  delivered_dayofweek_cos   \n",
              "0                  0.5                 0.781831                  0.62349  \\\n",
              "\n",
              "   order_weekday  delivered_weekday   d_id_VC  isbn_id_VC  order_id_1_VC   \n",
              "0              1                  1  0.042819    0.000506       0.000895  \\\n",
              "\n",
              "   row_group_ind_VC  order_month_season_VC  delivered_month_season_VC  \n",
              "0          0.124056               0.725084                   0.680735  "
            ]
          },
          "execution_count": 42,
          "metadata": {},
          "output_type": "execute_result"
        }
      ],
      "source": [
        "df[req_cols].head(1)"
      ]
    },
    {
      "cell_type": "code",
      "execution_count": 43,
      "metadata": {},
      "outputs": [
        {
          "data": {
            "text/plain": [
              "order_month_season\n",
              "fall      259287\n",
              "winter     98309\n",
              "Name: count, dtype: int64"
            ]
          },
          "execution_count": 43,
          "metadata": {},
          "output_type": "execute_result"
        }
      ],
      "source": [
        "df['order_month_season'].value_counts(dropna = False)"
      ]
    },
    {
      "cell_type": "code",
      "execution_count": 44,
      "metadata": {},
      "outputs": [
        {
          "data": {
            "text/html": [
              "<div>\n",
              "<style scoped>\n",
              "    .dataframe tbody tr th:only-of-type {\n",
              "        vertical-align: middle;\n",
              "    }\n",
              "\n",
              "    .dataframe tbody tr th {\n",
              "        vertical-align: top;\n",
              "    }\n",
              "\n",
              "    .dataframe thead th {\n",
              "        text-align: right;\n",
              "    }\n",
              "</style>\n",
              "<table border=\"1\" class=\"dataframe\">\n",
              "  <thead>\n",
              "    <tr style=\"text-align: right;\">\n",
              "      <th></th>\n",
              "      <th>LOCATION</th>\n",
              "      <th>d_id</th>\n",
              "      <th>isbn_id</th>\n",
              "      <th>order_id_1</th>\n",
              "      <th>order_date</th>\n",
              "      <th>evsd</th>\n",
              "      <th>row_group_ind</th>\n",
              "      <th>visibility</th>\n",
              "      <th>quantity_ordered</th>\n",
              "      <th>quantity_submitted</th>\n",
              "      <th>quantity_received</th>\n",
              "      <th>tag</th>\n",
              "      <th>order_delivery_days</th>\n",
              "      <th>order_year</th>\n",
              "      <th>order_month</th>\n",
              "      <th>order_day</th>\n",
              "      <th>order_dayofweek</th>\n",
              "      <th>order_dayofyear</th>\n",
              "      <th>delivered_year</th>\n",
              "      <th>delivered_month</th>\n",
              "      <th>delivered_day</th>\n",
              "      <th>delivered_dayofweek</th>\n",
              "      <th>delivered_dayofyear</th>\n",
              "      <th>order_month_sin</th>\n",
              "      <th>order_month_cos</th>\n",
              "      <th>order_dayofweek_sin</th>\n",
              "      <th>order_dayofweek_cos</th>\n",
              "      <th>delivered_month_sin</th>\n",
              "      <th>delivered_month_cos</th>\n",
              "      <th>delivered_dayofweek_sin</th>\n",
              "      <th>delivered_dayofweek_cos</th>\n",
              "      <th>order_month_season</th>\n",
              "      <th>delivered_month_season</th>\n",
              "      <th>order_weekday</th>\n",
              "      <th>delivered_weekday</th>\n",
              "      <th>unique_id</th>\n",
              "      <th>d_id_VC</th>\n",
              "      <th>isbn_id_VC</th>\n",
              "      <th>order_id_1_VC</th>\n",
              "      <th>row_group_ind_VC</th>\n",
              "      <th>order_month_season_VC</th>\n",
              "      <th>delivered_month_season_VC</th>\n",
              "    </tr>\n",
              "  </thead>\n",
              "  <tbody>\n",
              "    <tr>\n",
              "      <th>0</th>\n",
              "      <td>JFK2</td>\n",
              "      <td>1</td>\n",
              "      <td>25556</td>\n",
              "      <td>3912</td>\n",
              "      <td>2022-09-30</td>\n",
              "      <td>2022-10-04</td>\n",
              "      <td>7.0</td>\n",
              "      <td>2.0</td>\n",
              "      <td>4.0</td>\n",
              "      <td>4.0</td>\n",
              "      <td>4</td>\n",
              "      <td>train</td>\n",
              "      <td>4</td>\n",
              "      <td>2022</td>\n",
              "      <td>9</td>\n",
              "      <td>30</td>\n",
              "      <td>4</td>\n",
              "      <td>273</td>\n",
              "      <td>2022</td>\n",
              "      <td>10</td>\n",
              "      <td>4</td>\n",
              "      <td>1</td>\n",
              "      <td>277</td>\n",
              "      <td>-1.000000</td>\n",
              "      <td>-1.836970e-16</td>\n",
              "      <td>-0.433884</td>\n",
              "      <td>-0.900969</td>\n",
              "      <td>-0.866025</td>\n",
              "      <td>0.500000</td>\n",
              "      <td>0.781831</td>\n",
              "      <td>0.623490</td>\n",
              "      <td>fall</td>\n",
              "      <td>fall</td>\n",
              "      <td>1</td>\n",
              "      <td>1</td>\n",
              "      <td>JFK2_1_25556_3912</td>\n",
              "      <td>0.042819</td>\n",
              "      <td>0.000506</td>\n",
              "      <td>0.000895</td>\n",
              "      <td>0.124056</td>\n",
              "      <td>0.725084</td>\n",
              "      <td>0.680735</td>\n",
              "    </tr>\n",
              "    <tr>\n",
              "      <th>1</th>\n",
              "      <td>JFK2</td>\n",
              "      <td>1</td>\n",
              "      <td>25556</td>\n",
              "      <td>91302</td>\n",
              "      <td>2022-11-16</td>\n",
              "      <td>2022-11-19</td>\n",
              "      <td>4.0</td>\n",
              "      <td>1.0</td>\n",
              "      <td>20.0</td>\n",
              "      <td>20.0</td>\n",
              "      <td>20</td>\n",
              "      <td>train</td>\n",
              "      <td>3</td>\n",
              "      <td>2022</td>\n",
              "      <td>11</td>\n",
              "      <td>16</td>\n",
              "      <td>2</td>\n",
              "      <td>320</td>\n",
              "      <td>2022</td>\n",
              "      <td>11</td>\n",
              "      <td>19</td>\n",
              "      <td>5</td>\n",
              "      <td>323</td>\n",
              "      <td>-0.500000</td>\n",
              "      <td>8.660254e-01</td>\n",
              "      <td>0.974928</td>\n",
              "      <td>-0.222521</td>\n",
              "      <td>-0.500000</td>\n",
              "      <td>0.866025</td>\n",
              "      <td>-0.974928</td>\n",
              "      <td>-0.222521</td>\n",
              "      <td>fall</td>\n",
              "      <td>fall</td>\n",
              "      <td>1</td>\n",
              "      <td>0</td>\n",
              "      <td>JFK2_1_25556_91302</td>\n",
              "      <td>0.042819</td>\n",
              "      <td>0.000506</td>\n",
              "      <td>0.000604</td>\n",
              "      <td>0.125460</td>\n",
              "      <td>0.725084</td>\n",
              "      <td>0.680735</td>\n",
              "    </tr>\n",
              "    <tr>\n",
              "      <th>2</th>\n",
              "      <td>JFK2</td>\n",
              "      <td>1</td>\n",
              "      <td>33083</td>\n",
              "      <td>26096</td>\n",
              "      <td>2022-10-07</td>\n",
              "      <td>2022-10-11</td>\n",
              "      <td>4.0</td>\n",
              "      <td>4.0</td>\n",
              "      <td>4.0</td>\n",
              "      <td>4.0</td>\n",
              "      <td>4</td>\n",
              "      <td>train</td>\n",
              "      <td>4</td>\n",
              "      <td>2022</td>\n",
              "      <td>10</td>\n",
              "      <td>7</td>\n",
              "      <td>4</td>\n",
              "      <td>280</td>\n",
              "      <td>2022</td>\n",
              "      <td>10</td>\n",
              "      <td>11</td>\n",
              "      <td>1</td>\n",
              "      <td>284</td>\n",
              "      <td>-0.866025</td>\n",
              "      <td>5.000000e-01</td>\n",
              "      <td>-0.433884</td>\n",
              "      <td>-0.900969</td>\n",
              "      <td>-0.866025</td>\n",
              "      <td>0.500000</td>\n",
              "      <td>0.781831</td>\n",
              "      <td>0.623490</td>\n",
              "      <td>fall</td>\n",
              "      <td>fall</td>\n",
              "      <td>1</td>\n",
              "      <td>1</td>\n",
              "      <td>JFK2_1_33083_26096</td>\n",
              "      <td>0.042819</td>\n",
              "      <td>0.000350</td>\n",
              "      <td>0.000940</td>\n",
              "      <td>0.125460</td>\n",
              "      <td>0.725084</td>\n",
              "      <td>0.680735</td>\n",
              "    </tr>\n",
              "    <tr>\n",
              "      <th>3</th>\n",
              "      <td>JFK2</td>\n",
              "      <td>1</td>\n",
              "      <td>33083</td>\n",
              "      <td>138855</td>\n",
              "      <td>2022-10-19</td>\n",
              "      <td>2022-10-22</td>\n",
              "      <td>5.0</td>\n",
              "      <td>2.0</td>\n",
              "      <td>4.0</td>\n",
              "      <td>4.0</td>\n",
              "      <td>4</td>\n",
              "      <td>train</td>\n",
              "      <td>3</td>\n",
              "      <td>2022</td>\n",
              "      <td>10</td>\n",
              "      <td>19</td>\n",
              "      <td>2</td>\n",
              "      <td>292</td>\n",
              "      <td>2022</td>\n",
              "      <td>10</td>\n",
              "      <td>22</td>\n",
              "      <td>5</td>\n",
              "      <td>295</td>\n",
              "      <td>-0.866025</td>\n",
              "      <td>5.000000e-01</td>\n",
              "      <td>0.974928</td>\n",
              "      <td>-0.222521</td>\n",
              "      <td>-0.866025</td>\n",
              "      <td>0.500000</td>\n",
              "      <td>-0.974928</td>\n",
              "      <td>-0.222521</td>\n",
              "      <td>fall</td>\n",
              "      <td>fall</td>\n",
              "      <td>1</td>\n",
              "      <td>0</td>\n",
              "      <td>JFK2_1_33083_138855</td>\n",
              "      <td>0.042819</td>\n",
              "      <td>0.000350</td>\n",
              "      <td>0.000738</td>\n",
              "      <td>0.125169</td>\n",
              "      <td>0.725084</td>\n",
              "      <td>0.680735</td>\n",
              "    </tr>\n",
              "    <tr>\n",
              "      <th>4</th>\n",
              "      <td>JFK2</td>\n",
              "      <td>1</td>\n",
              "      <td>33083</td>\n",
              "      <td>114502</td>\n",
              "      <td>2022-10-18</td>\n",
              "      <td>2022-10-21</td>\n",
              "      <td>6.0</td>\n",
              "      <td>1.0</td>\n",
              "      <td>4.0</td>\n",
              "      <td>4.0</td>\n",
              "      <td>4</td>\n",
              "      <td>train</td>\n",
              "      <td>3</td>\n",
              "      <td>2022</td>\n",
              "      <td>10</td>\n",
              "      <td>18</td>\n",
              "      <td>1</td>\n",
              "      <td>291</td>\n",
              "      <td>2022</td>\n",
              "      <td>10</td>\n",
              "      <td>21</td>\n",
              "      <td>4</td>\n",
              "      <td>294</td>\n",
              "      <td>-0.866025</td>\n",
              "      <td>5.000000e-01</td>\n",
              "      <td>0.781831</td>\n",
              "      <td>0.623490</td>\n",
              "      <td>-0.866025</td>\n",
              "      <td>0.500000</td>\n",
              "      <td>-0.433884</td>\n",
              "      <td>-0.900969</td>\n",
              "      <td>fall</td>\n",
              "      <td>fall</td>\n",
              "      <td>1</td>\n",
              "      <td>1</td>\n",
              "      <td>JFK2_1_33083_114502</td>\n",
              "      <td>0.042819</td>\n",
              "      <td>0.000350</td>\n",
              "      <td>0.000721</td>\n",
              "      <td>0.124764</td>\n",
              "      <td>0.725084</td>\n",
              "      <td>0.680735</td>\n",
              "    </tr>\n",
              "  </tbody>\n",
              "</table>\n",
              "</div>"
            ],
            "text/plain": [
              "  LOCATION d_id isbn_id order_id_1 order_date       evsd row_group_ind   \n",
              "0     JFK2    1   25556       3912 2022-09-30 2022-10-04           7.0  \\\n",
              "1     JFK2    1   25556      91302 2022-11-16 2022-11-19           4.0   \n",
              "2     JFK2    1   33083      26096 2022-10-07 2022-10-11           4.0   \n",
              "3     JFK2    1   33083     138855 2022-10-19 2022-10-22           5.0   \n",
              "4     JFK2    1   33083     114502 2022-10-18 2022-10-21           6.0   \n",
              "\n",
              "   visibility  quantity_ordered  quantity_submitted  quantity_received    tag   \n",
              "0         2.0               4.0                 4.0                  4  train  \\\n",
              "1         1.0              20.0                20.0                 20  train   \n",
              "2         4.0               4.0                 4.0                  4  train   \n",
              "3         2.0               4.0                 4.0                  4  train   \n",
              "4         1.0               4.0                 4.0                  4  train   \n",
              "\n",
              "   order_delivery_days  order_year  order_month  order_day  order_dayofweek   \n",
              "0                    4        2022            9         30                4  \\\n",
              "1                    3        2022           11         16                2   \n",
              "2                    4        2022           10          7                4   \n",
              "3                    3        2022           10         19                2   \n",
              "4                    3        2022           10         18                1   \n",
              "\n",
              "   order_dayofyear  delivered_year  delivered_month  delivered_day   \n",
              "0              273            2022               10              4  \\\n",
              "1              320            2022               11             19   \n",
              "2              280            2022               10             11   \n",
              "3              292            2022               10             22   \n",
              "4              291            2022               10             21   \n",
              "\n",
              "   delivered_dayofweek  delivered_dayofyear  order_month_sin  order_month_cos   \n",
              "0                    1                  277        -1.000000    -1.836970e-16  \\\n",
              "1                    5                  323        -0.500000     8.660254e-01   \n",
              "2                    1                  284        -0.866025     5.000000e-01   \n",
              "3                    5                  295        -0.866025     5.000000e-01   \n",
              "4                    4                  294        -0.866025     5.000000e-01   \n",
              "\n",
              "   order_dayofweek_sin  order_dayofweek_cos  delivered_month_sin   \n",
              "0            -0.433884            -0.900969            -0.866025  \\\n",
              "1             0.974928            -0.222521            -0.500000   \n",
              "2            -0.433884            -0.900969            -0.866025   \n",
              "3             0.974928            -0.222521            -0.866025   \n",
              "4             0.781831             0.623490            -0.866025   \n",
              "\n",
              "   delivered_month_cos  delivered_dayofweek_sin  delivered_dayofweek_cos   \n",
              "0             0.500000                 0.781831                 0.623490  \\\n",
              "1             0.866025                -0.974928                -0.222521   \n",
              "2             0.500000                 0.781831                 0.623490   \n",
              "3             0.500000                -0.974928                -0.222521   \n",
              "4             0.500000                -0.433884                -0.900969   \n",
              "\n",
              "  order_month_season delivered_month_season  order_weekday  delivered_weekday   \n",
              "0               fall                   fall              1                  1  \\\n",
              "1               fall                   fall              1                  0   \n",
              "2               fall                   fall              1                  1   \n",
              "3               fall                   fall              1                  0   \n",
              "4               fall                   fall              1                  1   \n",
              "\n",
              "             unique_id   d_id_VC  isbn_id_VC  order_id_1_VC  row_group_ind_VC   \n",
              "0    JFK2_1_25556_3912  0.042819    0.000506       0.000895          0.124056  \\\n",
              "1   JFK2_1_25556_91302  0.042819    0.000506       0.000604          0.125460   \n",
              "2   JFK2_1_33083_26096  0.042819    0.000350       0.000940          0.125460   \n",
              "3  JFK2_1_33083_138855  0.042819    0.000350       0.000738          0.125169   \n",
              "4  JFK2_1_33083_114502  0.042819    0.000350       0.000721          0.124764   \n",
              "\n",
              "   order_month_season_VC  delivered_month_season_VC  \n",
              "0               0.725084                   0.680735  \n",
              "1               0.725084                   0.680735  \n",
              "2               0.725084                   0.680735  \n",
              "3               0.725084                   0.680735  \n",
              "4               0.725084                   0.680735  "
            ]
          },
          "execution_count": 44,
          "metadata": {},
          "output_type": "execute_result"
        }
      ],
      "source": [
        "df.head()"
      ]
    },
    {
      "cell_type": "code",
      "execution_count": 45,
      "metadata": {},
      "outputs": [],
      "source": [
        "from sklearn.preprocessing import QuantileTransformer\n",
        "\n",
        "# Instantiate the transformer\n",
        "qt = QuantileTransformer(output_distribution='uniform')\n",
        "\n"
      ]
    },
    {
      "cell_type": "code",
      "execution_count": 46,
      "metadata": {},
      "outputs": [
        {
          "name": "stdout",
          "output_type": "stream",
          "text": [
            "Mean absolute error: 4.8610\n",
            "Score: 0.7694\n"
          ]
        }
      ],
      "source": [
        "\n",
        "from sklearn.model_selection import train_test_split\n",
        "from sklearn.linear_model import PoissonRegressor, LinearRegression\n",
        "from sklearn.metrics import mean_absolute_error, r2_score\n",
        "import xgboost as xgb\n",
        "\n",
        "# Split data into features and target\n",
        "X = df[req_cols]\n",
        "y = df['quantity_received']\n",
        "\n",
        "# Split data into train and test sets\n",
        "# X_train, X_test, y_train, y_test = train_test_split(X, y, test_size=0.2, random_state=42)\n",
        "X_train = df[df['tag'] == 'train'][req_cols].copy()\n",
        "X_test = df[df['tag'] == 'test'][req_cols].copy()\n",
        "y_train = df[df['tag'] == 'train']['quantity_received']\n",
        "y_test = df[df['tag'] == 'test']['quantity_received']\n",
        "\n",
        "\n",
        "X_train = qt.fit_transform(X_train)\n",
        "X_test = qt.transform(X_test)\n",
        "\n",
        "# Train Poisson regression model\n",
        "# Define XGBoost model parameters\n",
        "params = {'learning_rate': 0.09494445071749025, 'reg_lambda': 0.12153018654604152, 'reg_alpha': 0.002926293135127233, \n",
        "          'subsample': 0.4759168036681104, 'colsample_bytree': 0.23668139727995788, 'max_depth': 5, \n",
        "          'n_estimators': 926}\n",
        "\n",
        "\n",
        "# {\n",
        "#     'objective': 'reg:squarederror',\n",
        "#     'learning_rate': 0.1,\n",
        "#     'max_depth': 6,\n",
        "#     'min_child_weight': 1,\n",
        "#     'gamma': 0,\n",
        "#     'subsample': 0.8,\n",
        "#     'colsample_bytree': 0.8,\n",
        "#     'n_estimators': 100\n",
        "# }\n",
        "model = xgb.XGBRegressor(**params, \n",
        "            random_state=42,\n",
        "            objective='reg:squarederror',\n",
        "            eval_metric='mae')\n",
        "model.fit(X_train, y_train)\n",
        "\n",
        "# Predict on test set\n",
        "y_pred = model.predict(X_test)\n",
        "\n",
        "# Evaluate model performance on test set\n",
        "mae = mean_absolute_error(y_test, y_pred)\n",
        "score = r2_score(y_test, y_pred)\n",
        "print(f'Mean absolute error: {mae:.4f}')\n",
        "print(f'Score: {score:.4f}')\n"
      ]
    },
    {
      "attachments": {},
      "cell_type": "markdown",
      "metadata": {},
      "source": [
        "## Score all Data"
      ]
    },
    {
      "cell_type": "code",
      "execution_count": 47,
      "metadata": {},
      "outputs": [
        {
          "name": "stdout",
          "output_type": "stream",
          "text": [
            "(357596, 42)\n"
          ]
        },
        {
          "data": {
            "text/html": [
              "<div>\n",
              "<style scoped>\n",
              "    .dataframe tbody tr th:only-of-type {\n",
              "        vertical-align: middle;\n",
              "    }\n",
              "\n",
              "    .dataframe tbody tr th {\n",
              "        vertical-align: top;\n",
              "    }\n",
              "\n",
              "    .dataframe thead th {\n",
              "        text-align: right;\n",
              "    }\n",
              "</style>\n",
              "<table border=\"1\" class=\"dataframe\">\n",
              "  <thead>\n",
              "    <tr style=\"text-align: right;\">\n",
              "      <th></th>\n",
              "      <th>LOCATION</th>\n",
              "      <th>d_id</th>\n",
              "      <th>isbn_id</th>\n",
              "      <th>order_id_1</th>\n",
              "      <th>order_date</th>\n",
              "      <th>evsd</th>\n",
              "      <th>row_group_ind</th>\n",
              "      <th>visibility</th>\n",
              "      <th>quantity_ordered</th>\n",
              "      <th>quantity_submitted</th>\n",
              "      <th>quantity_received</th>\n",
              "      <th>tag</th>\n",
              "      <th>order_delivery_days</th>\n",
              "      <th>order_year</th>\n",
              "      <th>order_month</th>\n",
              "      <th>order_day</th>\n",
              "      <th>order_dayofweek</th>\n",
              "      <th>order_dayofyear</th>\n",
              "      <th>delivered_year</th>\n",
              "      <th>delivered_month</th>\n",
              "      <th>delivered_day</th>\n",
              "      <th>delivered_dayofweek</th>\n",
              "      <th>delivered_dayofyear</th>\n",
              "      <th>order_month_sin</th>\n",
              "      <th>order_month_cos</th>\n",
              "      <th>order_dayofweek_sin</th>\n",
              "      <th>order_dayofweek_cos</th>\n",
              "      <th>delivered_month_sin</th>\n",
              "      <th>delivered_month_cos</th>\n",
              "      <th>delivered_dayofweek_sin</th>\n",
              "      <th>delivered_dayofweek_cos</th>\n",
              "      <th>order_month_season</th>\n",
              "      <th>delivered_month_season</th>\n",
              "      <th>order_weekday</th>\n",
              "      <th>delivered_weekday</th>\n",
              "      <th>unique_id</th>\n",
              "      <th>d_id_VC</th>\n",
              "      <th>isbn_id_VC</th>\n",
              "      <th>order_id_1_VC</th>\n",
              "      <th>row_group_ind_VC</th>\n",
              "      <th>order_month_season_VC</th>\n",
              "      <th>delivered_month_season_VC</th>\n",
              "    </tr>\n",
              "  </thead>\n",
              "  <tbody>\n",
              "    <tr>\n",
              "      <th>0</th>\n",
              "      <td>JFK2</td>\n",
              "      <td>1</td>\n",
              "      <td>25556</td>\n",
              "      <td>3912</td>\n",
              "      <td>2022-09-30</td>\n",
              "      <td>2022-10-04</td>\n",
              "      <td>7.0</td>\n",
              "      <td>2.0</td>\n",
              "      <td>4.0</td>\n",
              "      <td>4.0</td>\n",
              "      <td>4</td>\n",
              "      <td>train</td>\n",
              "      <td>4</td>\n",
              "      <td>2022</td>\n",
              "      <td>9</td>\n",
              "      <td>30</td>\n",
              "      <td>4</td>\n",
              "      <td>273</td>\n",
              "      <td>2022</td>\n",
              "      <td>10</td>\n",
              "      <td>4</td>\n",
              "      <td>1</td>\n",
              "      <td>277</td>\n",
              "      <td>-1.000000</td>\n",
              "      <td>-1.836970e-16</td>\n",
              "      <td>-0.433884</td>\n",
              "      <td>-0.900969</td>\n",
              "      <td>-0.866025</td>\n",
              "      <td>0.500000</td>\n",
              "      <td>0.781831</td>\n",
              "      <td>0.623490</td>\n",
              "      <td>fall</td>\n",
              "      <td>fall</td>\n",
              "      <td>1</td>\n",
              "      <td>1</td>\n",
              "      <td>JFK2_1_25556_3912</td>\n",
              "      <td>0.042819</td>\n",
              "      <td>0.000506</td>\n",
              "      <td>0.000895</td>\n",
              "      <td>0.124056</td>\n",
              "      <td>0.725084</td>\n",
              "      <td>0.680735</td>\n",
              "    </tr>\n",
              "    <tr>\n",
              "      <th>1</th>\n",
              "      <td>JFK2</td>\n",
              "      <td>1</td>\n",
              "      <td>25556</td>\n",
              "      <td>91302</td>\n",
              "      <td>2022-11-16</td>\n",
              "      <td>2022-11-19</td>\n",
              "      <td>4.0</td>\n",
              "      <td>1.0</td>\n",
              "      <td>20.0</td>\n",
              "      <td>20.0</td>\n",
              "      <td>20</td>\n",
              "      <td>train</td>\n",
              "      <td>3</td>\n",
              "      <td>2022</td>\n",
              "      <td>11</td>\n",
              "      <td>16</td>\n",
              "      <td>2</td>\n",
              "      <td>320</td>\n",
              "      <td>2022</td>\n",
              "      <td>11</td>\n",
              "      <td>19</td>\n",
              "      <td>5</td>\n",
              "      <td>323</td>\n",
              "      <td>-0.500000</td>\n",
              "      <td>8.660254e-01</td>\n",
              "      <td>0.974928</td>\n",
              "      <td>-0.222521</td>\n",
              "      <td>-0.500000</td>\n",
              "      <td>0.866025</td>\n",
              "      <td>-0.974928</td>\n",
              "      <td>-0.222521</td>\n",
              "      <td>fall</td>\n",
              "      <td>fall</td>\n",
              "      <td>1</td>\n",
              "      <td>0</td>\n",
              "      <td>JFK2_1_25556_91302</td>\n",
              "      <td>0.042819</td>\n",
              "      <td>0.000506</td>\n",
              "      <td>0.000604</td>\n",
              "      <td>0.125460</td>\n",
              "      <td>0.725084</td>\n",
              "      <td>0.680735</td>\n",
              "    </tr>\n",
              "    <tr>\n",
              "      <th>2</th>\n",
              "      <td>JFK2</td>\n",
              "      <td>1</td>\n",
              "      <td>33083</td>\n",
              "      <td>26096</td>\n",
              "      <td>2022-10-07</td>\n",
              "      <td>2022-10-11</td>\n",
              "      <td>4.0</td>\n",
              "      <td>4.0</td>\n",
              "      <td>4.0</td>\n",
              "      <td>4.0</td>\n",
              "      <td>4</td>\n",
              "      <td>train</td>\n",
              "      <td>4</td>\n",
              "      <td>2022</td>\n",
              "      <td>10</td>\n",
              "      <td>7</td>\n",
              "      <td>4</td>\n",
              "      <td>280</td>\n",
              "      <td>2022</td>\n",
              "      <td>10</td>\n",
              "      <td>11</td>\n",
              "      <td>1</td>\n",
              "      <td>284</td>\n",
              "      <td>-0.866025</td>\n",
              "      <td>5.000000e-01</td>\n",
              "      <td>-0.433884</td>\n",
              "      <td>-0.900969</td>\n",
              "      <td>-0.866025</td>\n",
              "      <td>0.500000</td>\n",
              "      <td>0.781831</td>\n",
              "      <td>0.623490</td>\n",
              "      <td>fall</td>\n",
              "      <td>fall</td>\n",
              "      <td>1</td>\n",
              "      <td>1</td>\n",
              "      <td>JFK2_1_33083_26096</td>\n",
              "      <td>0.042819</td>\n",
              "      <td>0.000350</td>\n",
              "      <td>0.000940</td>\n",
              "      <td>0.125460</td>\n",
              "      <td>0.725084</td>\n",
              "      <td>0.680735</td>\n",
              "    </tr>\n",
              "    <tr>\n",
              "      <th>3</th>\n",
              "      <td>JFK2</td>\n",
              "      <td>1</td>\n",
              "      <td>33083</td>\n",
              "      <td>138855</td>\n",
              "      <td>2022-10-19</td>\n",
              "      <td>2022-10-22</td>\n",
              "      <td>5.0</td>\n",
              "      <td>2.0</td>\n",
              "      <td>4.0</td>\n",
              "      <td>4.0</td>\n",
              "      <td>4</td>\n",
              "      <td>train</td>\n",
              "      <td>3</td>\n",
              "      <td>2022</td>\n",
              "      <td>10</td>\n",
              "      <td>19</td>\n",
              "      <td>2</td>\n",
              "      <td>292</td>\n",
              "      <td>2022</td>\n",
              "      <td>10</td>\n",
              "      <td>22</td>\n",
              "      <td>5</td>\n",
              "      <td>295</td>\n",
              "      <td>-0.866025</td>\n",
              "      <td>5.000000e-01</td>\n",
              "      <td>0.974928</td>\n",
              "      <td>-0.222521</td>\n",
              "      <td>-0.866025</td>\n",
              "      <td>0.500000</td>\n",
              "      <td>-0.974928</td>\n",
              "      <td>-0.222521</td>\n",
              "      <td>fall</td>\n",
              "      <td>fall</td>\n",
              "      <td>1</td>\n",
              "      <td>0</td>\n",
              "      <td>JFK2_1_33083_138855</td>\n",
              "      <td>0.042819</td>\n",
              "      <td>0.000350</td>\n",
              "      <td>0.000738</td>\n",
              "      <td>0.125169</td>\n",
              "      <td>0.725084</td>\n",
              "      <td>0.680735</td>\n",
              "    </tr>\n",
              "    <tr>\n",
              "      <th>4</th>\n",
              "      <td>JFK2</td>\n",
              "      <td>1</td>\n",
              "      <td>33083</td>\n",
              "      <td>114502</td>\n",
              "      <td>2022-10-18</td>\n",
              "      <td>2022-10-21</td>\n",
              "      <td>6.0</td>\n",
              "      <td>1.0</td>\n",
              "      <td>4.0</td>\n",
              "      <td>4.0</td>\n",
              "      <td>4</td>\n",
              "      <td>train</td>\n",
              "      <td>3</td>\n",
              "      <td>2022</td>\n",
              "      <td>10</td>\n",
              "      <td>18</td>\n",
              "      <td>1</td>\n",
              "      <td>291</td>\n",
              "      <td>2022</td>\n",
              "      <td>10</td>\n",
              "      <td>21</td>\n",
              "      <td>4</td>\n",
              "      <td>294</td>\n",
              "      <td>-0.866025</td>\n",
              "      <td>5.000000e-01</td>\n",
              "      <td>0.781831</td>\n",
              "      <td>0.623490</td>\n",
              "      <td>-0.866025</td>\n",
              "      <td>0.500000</td>\n",
              "      <td>-0.433884</td>\n",
              "      <td>-0.900969</td>\n",
              "      <td>fall</td>\n",
              "      <td>fall</td>\n",
              "      <td>1</td>\n",
              "      <td>1</td>\n",
              "      <td>JFK2_1_33083_114502</td>\n",
              "      <td>0.042819</td>\n",
              "      <td>0.000350</td>\n",
              "      <td>0.000721</td>\n",
              "      <td>0.124764</td>\n",
              "      <td>0.725084</td>\n",
              "      <td>0.680735</td>\n",
              "    </tr>\n",
              "  </tbody>\n",
              "</table>\n",
              "</div>"
            ],
            "text/plain": [
              "  LOCATION d_id isbn_id order_id_1 order_date       evsd row_group_ind   \n",
              "0     JFK2    1   25556       3912 2022-09-30 2022-10-04           7.0  \\\n",
              "1     JFK2    1   25556      91302 2022-11-16 2022-11-19           4.0   \n",
              "2     JFK2    1   33083      26096 2022-10-07 2022-10-11           4.0   \n",
              "3     JFK2    1   33083     138855 2022-10-19 2022-10-22           5.0   \n",
              "4     JFK2    1   33083     114502 2022-10-18 2022-10-21           6.0   \n",
              "\n",
              "   visibility  quantity_ordered  quantity_submitted  quantity_received    tag   \n",
              "0         2.0               4.0                 4.0                  4  train  \\\n",
              "1         1.0              20.0                20.0                 20  train   \n",
              "2         4.0               4.0                 4.0                  4  train   \n",
              "3         2.0               4.0                 4.0                  4  train   \n",
              "4         1.0               4.0                 4.0                  4  train   \n",
              "\n",
              "   order_delivery_days  order_year  order_month  order_day  order_dayofweek   \n",
              "0                    4        2022            9         30                4  \\\n",
              "1                    3        2022           11         16                2   \n",
              "2                    4        2022           10          7                4   \n",
              "3                    3        2022           10         19                2   \n",
              "4                    3        2022           10         18                1   \n",
              "\n",
              "   order_dayofyear  delivered_year  delivered_month  delivered_day   \n",
              "0              273            2022               10              4  \\\n",
              "1              320            2022               11             19   \n",
              "2              280            2022               10             11   \n",
              "3              292            2022               10             22   \n",
              "4              291            2022               10             21   \n",
              "\n",
              "   delivered_dayofweek  delivered_dayofyear  order_month_sin  order_month_cos   \n",
              "0                    1                  277        -1.000000    -1.836970e-16  \\\n",
              "1                    5                  323        -0.500000     8.660254e-01   \n",
              "2                    1                  284        -0.866025     5.000000e-01   \n",
              "3                    5                  295        -0.866025     5.000000e-01   \n",
              "4                    4                  294        -0.866025     5.000000e-01   \n",
              "\n",
              "   order_dayofweek_sin  order_dayofweek_cos  delivered_month_sin   \n",
              "0            -0.433884            -0.900969            -0.866025  \\\n",
              "1             0.974928            -0.222521            -0.500000   \n",
              "2            -0.433884            -0.900969            -0.866025   \n",
              "3             0.974928            -0.222521            -0.866025   \n",
              "4             0.781831             0.623490            -0.866025   \n",
              "\n",
              "   delivered_month_cos  delivered_dayofweek_sin  delivered_dayofweek_cos   \n",
              "0             0.500000                 0.781831                 0.623490  \\\n",
              "1             0.866025                -0.974928                -0.222521   \n",
              "2             0.500000                 0.781831                 0.623490   \n",
              "3             0.500000                -0.974928                -0.222521   \n",
              "4             0.500000                -0.433884                -0.900969   \n",
              "\n",
              "  order_month_season delivered_month_season  order_weekday  delivered_weekday   \n",
              "0               fall                   fall              1                  1  \\\n",
              "1               fall                   fall              1                  0   \n",
              "2               fall                   fall              1                  1   \n",
              "3               fall                   fall              1                  0   \n",
              "4               fall                   fall              1                  1   \n",
              "\n",
              "             unique_id   d_id_VC  isbn_id_VC  order_id_1_VC  row_group_ind_VC   \n",
              "0    JFK2_1_25556_3912  0.042819    0.000506       0.000895          0.124056  \\\n",
              "1   JFK2_1_25556_91302  0.042819    0.000506       0.000604          0.125460   \n",
              "2   JFK2_1_33083_26096  0.042819    0.000350       0.000940          0.125460   \n",
              "3  JFK2_1_33083_138855  0.042819    0.000350       0.000738          0.125169   \n",
              "4  JFK2_1_33083_114502  0.042819    0.000350       0.000721          0.124764   \n",
              "\n",
              "   order_month_season_VC  delivered_month_season_VC  \n",
              "0               0.725084                   0.680735  \n",
              "1               0.725084                   0.680735  \n",
              "2               0.725084                   0.680735  \n",
              "3               0.725084                   0.680735  \n",
              "4               0.725084                   0.680735  "
            ]
          },
          "execution_count": 47,
          "metadata": {},
          "output_type": "execute_result"
        }
      ],
      "source": [
        "df_scored = df.copy()\n",
        "print(df_scored.shape)\n",
        "df_scored.head()"
      ]
    },
    {
      "cell_type": "code",
      "execution_count": 40,
      "metadata": {},
      "outputs": [
        {
          "data": {
            "text/plain": [
              "order_year\n",
              "2022    357596\n",
              "Name: count, dtype: int64"
            ]
          },
          "execution_count": 40,
          "metadata": {},
          "output_type": "execute_result"
        }
      ],
      "source": [
        "# df['order_year'].value_counts(dropna = False)\n",
        "\n",
        "\n",
        "\"\"\"\n",
        "MAE : < 2.5\n",
        "\"\"\"\n",
        "\n",
        "\n",
        "[['year', 'month', 'day', 'delivered_dayofyear', ]]\n",
        "\n",
        "# [['order_dayofweek']]"
      ]
    },
    {
      "cell_type": "code",
      "execution_count": 39,
      "metadata": {},
      "outputs": [
        {
          "data": {
            "text/plain": [
              "{'1.0': 0.12554111343527333,\n",
              " '4.0': 0.12546001633127887,\n",
              " '2.0': 0.12540129084217944,\n",
              " '5.0': 0.1251691853376436,\n",
              " '3.0': 0.1249678408035884,\n",
              " '6.0': 0.12476369981767134,\n",
              " '0.0': 0.12464065593574872,\n",
              " '7.0': 0.1240561974966163}"
            ]
          },
          "execution_count": 39,
          "metadata": {},
          "output_type": "execute_result"
        }
      ],
      "source": [
        "dict(df['row_group_ind'].value_counts(dropna= False, normalize = True))"
      ]
    },
    {
      "cell_type": "code",
      "execution_count": null,
      "metadata": {},
      "outputs": [],
      "source": [
        "df_new['row_group_ind'].map()"
      ]
    },
    {
      "cell_type": "code",
      "execution_count": 48,
      "metadata": {},
      "outputs": [
        {
          "data": {
            "text/html": [
              "<div>\n",
              "<style scoped>\n",
              "    .dataframe tbody tr th:only-of-type {\n",
              "        vertical-align: middle;\n",
              "    }\n",
              "\n",
              "    .dataframe tbody tr th {\n",
              "        vertical-align: top;\n",
              "    }\n",
              "\n",
              "    .dataframe thead th {\n",
              "        text-align: right;\n",
              "    }\n",
              "</style>\n",
              "<table border=\"1\" class=\"dataframe\">\n",
              "  <thead>\n",
              "    <tr style=\"text-align: right;\">\n",
              "      <th></th>\n",
              "      <th>quantity_received</th>\n",
              "      <th>predicted_orders</th>\n",
              "    </tr>\n",
              "  </thead>\n",
              "  <tbody>\n",
              "    <tr>\n",
              "      <th>0</th>\n",
              "      <td>4</td>\n",
              "      <td>2.189799</td>\n",
              "    </tr>\n",
              "    <tr>\n",
              "      <th>1</th>\n",
              "      <td>20</td>\n",
              "      <td>20.220161</td>\n",
              "    </tr>\n",
              "    <tr>\n",
              "      <th>2</th>\n",
              "      <td>4</td>\n",
              "      <td>2.500038</td>\n",
              "    </tr>\n",
              "    <tr>\n",
              "      <th>3</th>\n",
              "      <td>4</td>\n",
              "      <td>4.191618</td>\n",
              "    </tr>\n",
              "    <tr>\n",
              "      <th>4</th>\n",
              "      <td>4</td>\n",
              "      <td>4.620018</td>\n",
              "    </tr>\n",
              "    <tr>\n",
              "      <th>...</th>\n",
              "      <td>...</td>\n",
              "      <td>...</td>\n",
              "    </tr>\n",
              "    <tr>\n",
              "      <th>357591</th>\n",
              "      <td>8</td>\n",
              "      <td>9.290109</td>\n",
              "    </tr>\n",
              "    <tr>\n",
              "      <th>357592</th>\n",
              "      <td>12</td>\n",
              "      <td>11.229070</td>\n",
              "    </tr>\n",
              "    <tr>\n",
              "      <th>357593</th>\n",
              "      <td>132</td>\n",
              "      <td>126.057327</td>\n",
              "    </tr>\n",
              "    <tr>\n",
              "      <th>357594</th>\n",
              "      <td>24</td>\n",
              "      <td>29.560225</td>\n",
              "    </tr>\n",
              "    <tr>\n",
              "      <th>357595</th>\n",
              "      <td>6</td>\n",
              "      <td>4.305933</td>\n",
              "    </tr>\n",
              "  </tbody>\n",
              "</table>\n",
              "<p>357596 rows × 2 columns</p>\n",
              "</div>"
            ],
            "text/plain": [
              "        quantity_received  predicted_orders\n",
              "0                       4          2.189799\n",
              "1                      20         20.220161\n",
              "2                       4          2.500038\n",
              "3                       4          4.191618\n",
              "4                       4          4.620018\n",
              "...                   ...               ...\n",
              "357591                  8          9.290109\n",
              "357592                 12         11.229070\n",
              "357593                132        126.057327\n",
              "357594                 24         29.560225\n",
              "357595                  6          4.305933\n",
              "\n",
              "[357596 rows x 2 columns]"
            ]
          },
          "execution_count": 48,
          "metadata": {},
          "output_type": "execute_result"
        }
      ],
      "source": [
        "df_scored[req_cols]  = qt.transform(df_scored[req_cols])\n",
        "df_scored['predicted_orders'] = model.predict(df_scored[req_cols])\n",
        "df_scored[['quantity_received', 'predicted_orders']]"
      ]
    },
    {
      "cell_type": "code",
      "execution_count": 51,
      "metadata": {},
      "outputs": [
        {
          "name": "stdout",
          "output_type": "stream",
          "text": [
            "Mean absolute error: 3.2349\n",
            "Score: 0.8917\n"
          ]
        }
      ],
      "source": [
        "mae = mean_absolute_error(df_scored['quantity_received'], df_scored['predicted_orders'])\n",
        "score = r2_score(df_scored['quantity_received'], df_scored['predicted_orders'])\n",
        "print(f'Mean absolute error: {mae:.4f}')\n",
        "print(f'Score: {score:.4f}')"
      ]
    },
    {
      "cell_type": "code",
      "execution_count": null,
      "metadata": {},
      "outputs": [],
      "source": []
    },
    {
      "cell_type": "code",
      "execution_count": 49,
      "metadata": {},
      "outputs": [
        {
          "data": {
            "text/plain": [
              "count    357596.000000\n",
              "mean         13.113701\n",
              "std          27.279292\n",
              "min           0.000000\n",
              "25%           0.000000\n",
              "50%           6.000000\n",
              "75%          12.000000\n",
              "max        1650.000000\n",
              "Name: quantity_received, dtype: float64"
            ]
          },
          "execution_count": 49,
          "metadata": {},
          "output_type": "execute_result"
        }
      ],
      "source": [
        "df_scored['quantity_received'].describe()"
      ]
    },
    {
      "cell_type": "code",
      "execution_count": 50,
      "metadata": {},
      "outputs": [
        {
          "data": {
            "text/plain": [
              "count    357596.000000\n",
              "mean         13.112150\n",
              "std          25.541054\n",
              "min         -39.842880\n",
              "25%           3.075947\n",
              "50%           7.475512\n",
              "75%          12.033930\n",
              "max         790.471252\n",
              "Name: predicted_orders, dtype: float64"
            ]
          },
          "execution_count": 50,
          "metadata": {},
          "output_type": "execute_result"
        }
      ],
      "source": [
        "df_scored['predicted_orders'].describe()"
      ]
    },
    {
      "attachments": {},
      "cell_type": "markdown",
      "metadata": {},
      "source": [
        "## Hypertuning\n"
      ]
    },
    {
      "cell_type": "code",
      "execution_count": 96,
      "metadata": {},
      "outputs": [
        {
          "name": "stderr",
          "output_type": "stream",
          "text": [
            "\u001b[32m[I 2023-04-28 08:27:37,198]\u001b[0m A new study created in memory with name: no-name-6633f2c9-b973-4c05-879d-a6a88d4adc0f\u001b[0m\n",
            "C:\\Users\\nshre\\AppData\\Local\\Temp\\ipykernel_12852\\3012480772.py:5: FutureWarning: suggest_loguniform has been deprecated in v3.0.0. This feature will be removed in v6.0.0. See https://github.com/optuna/optuna/releases/tag/v3.0.0. Use :func:`~optuna.trial.Trial.suggest_float` instead.\n",
            "  reg_lambda = trial.suggest_loguniform(\"reg_lambda\", 1e-8, 100.0)\n",
            "C:\\Users\\nshre\\AppData\\Local\\Temp\\ipykernel_12852\\3012480772.py:6: FutureWarning: suggest_loguniform has been deprecated in v3.0.0. This feature will be removed in v6.0.0. See https://github.com/optuna/optuna/releases/tag/v3.0.0. Use :func:`~optuna.trial.Trial.suggest_float` instead.\n",
            "  reg_alpha = trial.suggest_loguniform(\"reg_alpha\", 1e-8, 100.0)\n",
            "\u001b[32m[I 2023-04-28 08:30:51,858]\u001b[0m Trial 0 finished with value: 5.30203999121291 and parameters: {'learning_rate': 0.03309359543919969, 'reg_lambda': 0.2159147341660498, 'reg_alpha': 0.06916918029376977, 'subsample': 0.5038536182347256, 'colsample_bytree': 0.3266281397228815, 'max_depth': 5, 'n_estimators': 2820}. Best is trial 0 with value: 5.30203999121291.\u001b[0m\n"
          ]
        },
        {
          "name": "stdout",
          "output_type": "stream",
          "text": [
            "Mean Absolute Error :  5.30203999121291\n",
            "R2_score :  0.7478631424634002\n"
          ]
        },
        {
          "name": "stderr",
          "output_type": "stream",
          "text": [
            "C:\\Users\\nshre\\AppData\\Local\\Temp\\ipykernel_12852\\3012480772.py:5: FutureWarning: suggest_loguniform has been deprecated in v3.0.0. This feature will be removed in v6.0.0. See https://github.com/optuna/optuna/releases/tag/v3.0.0. Use :func:`~optuna.trial.Trial.suggest_float` instead.\n",
            "  reg_lambda = trial.suggest_loguniform(\"reg_lambda\", 1e-8, 100.0)\n",
            "C:\\Users\\nshre\\AppData\\Local\\Temp\\ipykernel_12852\\3012480772.py:6: FutureWarning: suggest_loguniform has been deprecated in v3.0.0. This feature will be removed in v6.0.0. See https://github.com/optuna/optuna/releases/tag/v3.0.0. Use :func:`~optuna.trial.Trial.suggest_float` instead.\n",
            "  reg_alpha = trial.suggest_loguniform(\"reg_alpha\", 1e-8, 100.0)\n",
            "\u001b[32m[I 2023-04-28 08:31:44,537]\u001b[0m Trial 1 finished with value: 6.824564105550033 and parameters: {'learning_rate': 0.09494445071749025, 'reg_lambda': 0.12153018654604152, 'reg_alpha': 0.002926293135127233, 'subsample': 0.4759168036681104, 'colsample_bytree': 0.23668139727995788, 'max_depth': 5, 'n_estimators': 926}. Best is trial 0 with value: 5.30203999121291.\u001b[0m\n"
          ]
        },
        {
          "name": "stdout",
          "output_type": "stream",
          "text": [
            "Mean Absolute Error :  6.824564105550033\n",
            "R2_score :  0.7252528819371045\n"
          ]
        },
        {
          "name": "stderr",
          "output_type": "stream",
          "text": [
            "C:\\Users\\nshre\\AppData\\Local\\Temp\\ipykernel_12852\\3012480772.py:5: FutureWarning: suggest_loguniform has been deprecated in v3.0.0. This feature will be removed in v6.0.0. See https://github.com/optuna/optuna/releases/tag/v3.0.0. Use :func:`~optuna.trial.Trial.suggest_float` instead.\n",
            "  reg_lambda = trial.suggest_loguniform(\"reg_lambda\", 1e-8, 100.0)\n",
            "C:\\Users\\nshre\\AppData\\Local\\Temp\\ipykernel_12852\\3012480772.py:6: FutureWarning: suggest_loguniform has been deprecated in v3.0.0. This feature will be removed in v6.0.0. See https://github.com/optuna/optuna/releases/tag/v3.0.0. Use :func:`~optuna.trial.Trial.suggest_float` instead.\n",
            "  reg_alpha = trial.suggest_loguniform(\"reg_alpha\", 1e-8, 100.0)\n",
            "\u001b[32m[I 2023-04-28 08:32:14,441]\u001b[0m Trial 2 finished with value: 5.085238951615853 and parameters: {'learning_rate': 0.08539001075999679, 'reg_lambda': 0.0017116086819376096, 'reg_alpha': 9.733517229448778e-07, 'subsample': 0.8486752491235564, 'colsample_bytree': 0.765683289497556, 'max_depth': 6, 'n_estimators': 302}. Best is trial 2 with value: 5.085238951615853.\u001b[0m\n"
          ]
        },
        {
          "name": "stdout",
          "output_type": "stream",
          "text": [
            "Mean Absolute Error :  5.085238951615853\n",
            "R2_score :  0.6582640974257273\n"
          ]
        },
        {
          "name": "stderr",
          "output_type": "stream",
          "text": [
            "C:\\Users\\nshre\\AppData\\Local\\Temp\\ipykernel_12852\\3012480772.py:5: FutureWarning: suggest_loguniform has been deprecated in v3.0.0. This feature will be removed in v6.0.0. See https://github.com/optuna/optuna/releases/tag/v3.0.0. Use :func:`~optuna.trial.Trial.suggest_float` instead.\n",
            "  reg_lambda = trial.suggest_loguniform(\"reg_lambda\", 1e-8, 100.0)\n",
            "C:\\Users\\nshre\\AppData\\Local\\Temp\\ipykernel_12852\\3012480772.py:6: FutureWarning: suggest_loguniform has been deprecated in v3.0.0. This feature will be removed in v6.0.0. See https://github.com/optuna/optuna/releases/tag/v3.0.0. Use :func:`~optuna.trial.Trial.suggest_float` instead.\n",
            "  reg_alpha = trial.suggest_loguniform(\"reg_alpha\", 1e-8, 100.0)\n",
            "\u001b[32m[I 2023-04-28 08:34:36,542]\u001b[0m Trial 3 finished with value: 4.316466609593959 and parameters: {'learning_rate': 0.06002410622268421, 'reg_lambda': 0.9102659582342552, 'reg_alpha': 0.00019889251192707353, 'subsample': 0.3447540708103442, 'colsample_bytree': 0.644771781552105, 'max_depth': 3, 'n_estimators': 2362}. Best is trial 3 with value: 4.316466609593959.\u001b[0m\n"
          ]
        },
        {
          "name": "stdout",
          "output_type": "stream",
          "text": [
            "Mean Absolute Error :  4.316466609593959\n",
            "R2_score :  0.7345140742866197\n"
          ]
        },
        {
          "name": "stderr",
          "output_type": "stream",
          "text": [
            "C:\\Users\\nshre\\AppData\\Local\\Temp\\ipykernel_12852\\3012480772.py:5: FutureWarning: suggest_loguniform has been deprecated in v3.0.0. This feature will be removed in v6.0.0. See https://github.com/optuna/optuna/releases/tag/v3.0.0. Use :func:`~optuna.trial.Trial.suggest_float` instead.\n",
            "  reg_lambda = trial.suggest_loguniform(\"reg_lambda\", 1e-8, 100.0)\n",
            "C:\\Users\\nshre\\AppData\\Local\\Temp\\ipykernel_12852\\3012480772.py:6: FutureWarning: suggest_loguniform has been deprecated in v3.0.0. This feature will be removed in v6.0.0. See https://github.com/optuna/optuna/releases/tag/v3.0.0. Use :func:`~optuna.trial.Trial.suggest_float` instead.\n",
            "  reg_alpha = trial.suggest_loguniform(\"reg_alpha\", 1e-8, 100.0)\n",
            "\u001b[32m[I 2023-04-28 08:36:29,075]\u001b[0m Trial 4 finished with value: 4.014516335495757 and parameters: {'learning_rate': 0.029709652164319054, 'reg_lambda': 6.140086141171898, 'reg_alpha': 0.019604127340872607, 'subsample': 0.25246008848760754, 'colsample_bytree': 0.7080422852270917, 'max_depth': 4, 'n_estimators': 1433}. Best is trial 4 with value: 4.014516335495757.\u001b[0m\n"
          ]
        },
        {
          "name": "stdout",
          "output_type": "stream",
          "text": [
            "Mean Absolute Error :  4.014516335495757\n",
            "R2_score :  0.7506425492580595\n"
          ]
        },
        {
          "name": "stderr",
          "output_type": "stream",
          "text": [
            "C:\\Users\\nshre\\AppData\\Local\\Temp\\ipykernel_12852\\3012480772.py:5: FutureWarning: suggest_loguniform has been deprecated in v3.0.0. This feature will be removed in v6.0.0. See https://github.com/optuna/optuna/releases/tag/v3.0.0. Use :func:`~optuna.trial.Trial.suggest_float` instead.\n",
            "  reg_lambda = trial.suggest_loguniform(\"reg_lambda\", 1e-8, 100.0)\n",
            "C:\\Users\\nshre\\AppData\\Local\\Temp\\ipykernel_12852\\3012480772.py:6: FutureWarning: suggest_loguniform has been deprecated in v3.0.0. This feature will be removed in v6.0.0. See https://github.com/optuna/optuna/releases/tag/v3.0.0. Use :func:`~optuna.trial.Trial.suggest_float` instead.\n",
            "  reg_alpha = trial.suggest_loguniform(\"reg_alpha\", 1e-8, 100.0)\n",
            "\u001b[32m[I 2023-04-28 08:41:06,670]\u001b[0m Trial 5 finished with value: 4.8431481285810944 and parameters: {'learning_rate': 0.06534568249655477, 'reg_lambda': 1.3336415440754149e-05, 'reg_alpha': 0.000345415372188516, 'subsample': 0.844978725545569, 'colsample_bytree': 0.44989422418684, 'max_depth': 6, 'n_estimators': 2945}. Best is trial 4 with value: 4.014516335495757.\u001b[0m\n"
          ]
        },
        {
          "name": "stdout",
          "output_type": "stream",
          "text": [
            "Mean Absolute Error :  4.8431481285810944\n",
            "R2_score :  0.7186509266666582\n"
          ]
        },
        {
          "name": "stderr",
          "output_type": "stream",
          "text": [
            "C:\\Users\\nshre\\AppData\\Local\\Temp\\ipykernel_12852\\3012480772.py:5: FutureWarning: suggest_loguniform has been deprecated in v3.0.0. This feature will be removed in v6.0.0. See https://github.com/optuna/optuna/releases/tag/v3.0.0. Use :func:`~optuna.trial.Trial.suggest_float` instead.\n",
            "  reg_lambda = trial.suggest_loguniform(\"reg_lambda\", 1e-8, 100.0)\n",
            "C:\\Users\\nshre\\AppData\\Local\\Temp\\ipykernel_12852\\3012480772.py:6: FutureWarning: suggest_loguniform has been deprecated in v3.0.0. This feature will be removed in v6.0.0. See https://github.com/optuna/optuna/releases/tag/v3.0.0. Use :func:`~optuna.trial.Trial.suggest_float` instead.\n",
            "  reg_alpha = trial.suggest_loguniform(\"reg_alpha\", 1e-8, 100.0)\n",
            "\u001b[32m[I 2023-04-28 08:43:14,007]\u001b[0m Trial 6 finished with value: 4.817154102344354 and parameters: {'learning_rate': 0.05297263382164796, 'reg_lambda': 0.0009063555368964637, 'reg_alpha': 1.2798673223114063e-08, 'subsample': 0.35112507992555586, 'colsample_bytree': 0.6116591007571499, 'max_depth': 3, 'n_estimators': 1879}. Best is trial 4 with value: 4.014516335495757.\u001b[0m\n"
          ]
        },
        {
          "name": "stdout",
          "output_type": "stream",
          "text": [
            "Mean Absolute Error :  4.817154102344354\n",
            "R2_score :  0.7055969828412461\n"
          ]
        },
        {
          "name": "stderr",
          "output_type": "stream",
          "text": [
            "C:\\Users\\nshre\\AppData\\Local\\Temp\\ipykernel_12852\\3012480772.py:5: FutureWarning: suggest_loguniform has been deprecated in v3.0.0. This feature will be removed in v6.0.0. See https://github.com/optuna/optuna/releases/tag/v3.0.0. Use :func:`~optuna.trial.Trial.suggest_float` instead.\n",
            "  reg_lambda = trial.suggest_loguniform(\"reg_lambda\", 1e-8, 100.0)\n",
            "C:\\Users\\nshre\\AppData\\Local\\Temp\\ipykernel_12852\\3012480772.py:6: FutureWarning: suggest_loguniform has been deprecated in v3.0.0. This feature will be removed in v6.0.0. See https://github.com/optuna/optuna/releases/tag/v3.0.0. Use :func:`~optuna.trial.Trial.suggest_float` instead.\n",
            "  reg_alpha = trial.suggest_loguniform(\"reg_alpha\", 1e-8, 100.0)\n",
            "\u001b[32m[I 2023-04-28 08:47:33,274]\u001b[0m Trial 7 finished with value: 4.788554937946665 and parameters: {'learning_rate': 0.017752000591089934, 'reg_lambda': 2.710613584367079e-06, 'reg_alpha': 2.4821573039019524, 'subsample': 0.29862823089860413, 'colsample_bytree': 0.3345167048863346, 'max_depth': 6, 'n_estimators': 2080}. Best is trial 4 with value: 4.014516335495757.\u001b[0m\n"
          ]
        },
        {
          "name": "stdout",
          "output_type": "stream",
          "text": [
            "Mean Absolute Error :  4.788554937946665\n",
            "R2_score :  0.7591261342754274\n"
          ]
        },
        {
          "name": "stderr",
          "output_type": "stream",
          "text": [
            "C:\\Users\\nshre\\AppData\\Local\\Temp\\ipykernel_12852\\3012480772.py:5: FutureWarning: suggest_loguniform has been deprecated in v3.0.0. This feature will be removed in v6.0.0. See https://github.com/optuna/optuna/releases/tag/v3.0.0. Use :func:`~optuna.trial.Trial.suggest_float` instead.\n",
            "  reg_lambda = trial.suggest_loguniform(\"reg_lambda\", 1e-8, 100.0)\n",
            "C:\\Users\\nshre\\AppData\\Local\\Temp\\ipykernel_12852\\3012480772.py:6: FutureWarning: suggest_loguniform has been deprecated in v3.0.0. This feature will be removed in v6.0.0. See https://github.com/optuna/optuna/releases/tag/v3.0.0. Use :func:`~optuna.trial.Trial.suggest_float` instead.\n",
            "  reg_alpha = trial.suggest_loguniform(\"reg_alpha\", 1e-8, 100.0)\n",
            "\u001b[32m[I 2023-04-28 08:49:55,215]\u001b[0m Trial 8 finished with value: 4.065070158728204 and parameters: {'learning_rate': 0.029324035728187696, 'reg_lambda': 0.6438178323500426, 'reg_alpha': 0.0821740082898111, 'subsample': 0.14134871330258492, 'colsample_bytree': 0.8295613348742853, 'max_depth': 3, 'n_estimators': 2301}. Best is trial 4 with value: 4.014516335495757.\u001b[0m\n"
          ]
        },
        {
          "name": "stdout",
          "output_type": "stream",
          "text": [
            "Mean Absolute Error :  4.065070158728204\n",
            "R2_score :  0.7233241158947401\n"
          ]
        },
        {
          "name": "stderr",
          "output_type": "stream",
          "text": [
            "C:\\Users\\nshre\\AppData\\Local\\Temp\\ipykernel_12852\\3012480772.py:5: FutureWarning: suggest_loguniform has been deprecated in v3.0.0. This feature will be removed in v6.0.0. See https://github.com/optuna/optuna/releases/tag/v3.0.0. Use :func:`~optuna.trial.Trial.suggest_float` instead.\n",
            "  reg_lambda = trial.suggest_loguniform(\"reg_lambda\", 1e-8, 100.0)\n",
            "C:\\Users\\nshre\\AppData\\Local\\Temp\\ipykernel_12852\\3012480772.py:6: FutureWarning: suggest_loguniform has been deprecated in v3.0.0. This feature will be removed in v6.0.0. See https://github.com/optuna/optuna/releases/tag/v3.0.0. Use :func:`~optuna.trial.Trial.suggest_float` instead.\n",
            "  reg_alpha = trial.suggest_loguniform(\"reg_alpha\", 1e-8, 100.0)\n",
            "\u001b[32m[I 2023-04-28 08:50:37,802]\u001b[0m Trial 9 finished with value: 6.206847562617861 and parameters: {'learning_rate': 0.077082421202773, 'reg_lambda': 0.053731762413557996, 'reg_alpha': 0.008959806512862106, 'subsample': 0.12998078892517306, 'colsample_bytree': 0.1113762572136053, 'max_depth': 6, 'n_estimators': 898}. Best is trial 4 with value: 4.014516335495757.\u001b[0m\n"
          ]
        },
        {
          "name": "stdout",
          "output_type": "stream",
          "text": [
            "Mean Absolute Error :  6.206847562617861\n",
            "R2_score :  0.7392738976386494\n"
          ]
        },
        {
          "name": "stderr",
          "output_type": "stream",
          "text": [
            "C:\\Users\\nshre\\AppData\\Local\\Temp\\ipykernel_12852\\3012480772.py:5: FutureWarning: suggest_loguniform has been deprecated in v3.0.0. This feature will be removed in v6.0.0. See https://github.com/optuna/optuna/releases/tag/v3.0.0. Use :func:`~optuna.trial.Trial.suggest_float` instead.\n",
            "  reg_lambda = trial.suggest_loguniform(\"reg_lambda\", 1e-8, 100.0)\n",
            "C:\\Users\\nshre\\AppData\\Local\\Temp\\ipykernel_12852\\3012480772.py:6: FutureWarning: suggest_loguniform has been deprecated in v3.0.0. This feature will be removed in v6.0.0. See https://github.com/optuna/optuna/releases/tag/v3.0.0. Use :func:`~optuna.trial.Trial.suggest_float` instead.\n",
            "  reg_alpha = trial.suggest_loguniform(\"reg_alpha\", 1e-8, 100.0)\n",
            "\u001b[32m[I 2023-04-28 08:52:23,091]\u001b[0m Trial 10 finished with value: 5.448784966336275 and parameters: {'learning_rate': 0.001683717177778158, 'reg_lambda': 55.502350347799705, 'reg_alpha': 49.42282137256974, 'subsample': 0.6723973732262163, 'colsample_bytree': 0.9949414623192445, 'max_depth': 4, 'n_estimators': 1275}. Best is trial 4 with value: 4.014516335495757.\u001b[0m\n"
          ]
        },
        {
          "name": "stdout",
          "output_type": "stream",
          "text": [
            "Mean Absolute Error :  5.448784966336275\n",
            "R2_score :  0.6797171374340709\n"
          ]
        },
        {
          "name": "stderr",
          "output_type": "stream",
          "text": [
            "C:\\Users\\nshre\\AppData\\Local\\Temp\\ipykernel_12852\\3012480772.py:5: FutureWarning: suggest_loguniform has been deprecated in v3.0.0. This feature will be removed in v6.0.0. See https://github.com/optuna/optuna/releases/tag/v3.0.0. Use :func:`~optuna.trial.Trial.suggest_float` instead.\n",
            "  reg_lambda = trial.suggest_loguniform(\"reg_lambda\", 1e-8, 100.0)\n",
            "C:\\Users\\nshre\\AppData\\Local\\Temp\\ipykernel_12852\\3012480772.py:6: FutureWarning: suggest_loguniform has been deprecated in v3.0.0. This feature will be removed in v6.0.0. See https://github.com/optuna/optuna/releases/tag/v3.0.0. Use :func:`~optuna.trial.Trial.suggest_float` instead.\n",
            "  reg_alpha = trial.suggest_loguniform(\"reg_alpha\", 1e-8, 100.0)\n",
            "\u001b[32m[I 2023-04-28 08:54:08,304]\u001b[0m Trial 11 finished with value: 4.085750954056798 and parameters: {'learning_rate': 0.03542790877442886, 'reg_lambda': 41.25654627199507, 'reg_alpha': 0.4560511887435661, 'subsample': 0.147532038106214, 'colsample_bytree': 0.815671183841725, 'max_depth': 4, 'n_estimators': 1836}. Best is trial 4 with value: 4.014516335495757.\u001b[0m\n"
          ]
        },
        {
          "name": "stdout",
          "output_type": "stream",
          "text": [
            "Mean Absolute Error :  4.085750954056798\n",
            "R2_score :  0.7594484502850081\n"
          ]
        },
        {
          "name": "stderr",
          "output_type": "stream",
          "text": [
            "C:\\Users\\nshre\\AppData\\Local\\Temp\\ipykernel_12852\\3012480772.py:5: FutureWarning: suggest_loguniform has been deprecated in v3.0.0. This feature will be removed in v6.0.0. See https://github.com/optuna/optuna/releases/tag/v3.0.0. Use :func:`~optuna.trial.Trial.suggest_float` instead.\n",
            "  reg_lambda = trial.suggest_loguniform(\"reg_lambda\", 1e-8, 100.0)\n",
            "C:\\Users\\nshre\\AppData\\Local\\Temp\\ipykernel_12852\\3012480772.py:6: FutureWarning: suggest_loguniform has been deprecated in v3.0.0. This feature will be removed in v6.0.0. See https://github.com/optuna/optuna/releases/tag/v3.0.0. Use :func:`~optuna.trial.Trial.suggest_float` instead.\n",
            "  reg_alpha = trial.suggest_loguniform(\"reg_alpha\", 1e-8, 100.0)\n",
            "\u001b[32m[I 2023-04-28 08:55:09,808]\u001b[0m Trial 12 finished with value: 4.254570276865067 and parameters: {'learning_rate': 0.03513889075361243, 'reg_lambda': 5.924322568326093, 'reg_alpha': 0.1128754407699121, 'subsample': 0.10981470118206949, 'colsample_bytree': 0.7705293464848719, 'max_depth': 3, 'n_estimators': 1440}. Best is trial 4 with value: 4.014516335495757.\u001b[0m\n"
          ]
        },
        {
          "name": "stdout",
          "output_type": "stream",
          "text": [
            "Mean Absolute Error :  4.254570276865067\n",
            "R2_score :  0.7572186240389522\n"
          ]
        },
        {
          "name": "stderr",
          "output_type": "stream",
          "text": [
            "C:\\Users\\nshre\\AppData\\Local\\Temp\\ipykernel_12852\\3012480772.py:5: FutureWarning: suggest_loguniform has been deprecated in v3.0.0. This feature will be removed in v6.0.0. See https://github.com/optuna/optuna/releases/tag/v3.0.0. Use :func:`~optuna.trial.Trial.suggest_float` instead.\n",
            "  reg_lambda = trial.suggest_loguniform(\"reg_lambda\", 1e-8, 100.0)\n",
            "C:\\Users\\nshre\\AppData\\Local\\Temp\\ipykernel_12852\\3012480772.py:6: FutureWarning: suggest_loguniform has been deprecated in v3.0.0. This feature will be removed in v6.0.0. See https://github.com/optuna/optuna/releases/tag/v3.0.0. Use :func:`~optuna.trial.Trial.suggest_float` instead.\n",
            "  reg_alpha = trial.suggest_loguniform(\"reg_alpha\", 1e-8, 100.0)\n",
            "\u001b[32m[I 2023-04-28 08:57:49,328]\u001b[0m Trial 13 finished with value: 4.791194169543509 and parameters: {'learning_rate': 0.025010535957519203, 'reg_lambda': 6.824506512475626e-08, 'reg_alpha': 10.570979534990876, 'subsample': 0.22461807089542404, 'colsample_bytree': 0.9158758279999428, 'max_depth': 4, 'n_estimators': 2496}. Best is trial 4 with value: 4.014516335495757.\u001b[0m\n"
          ]
        },
        {
          "name": "stdout",
          "output_type": "stream",
          "text": [
            "Mean Absolute Error :  4.791194169543509\n",
            "R2_score :  0.6846157907626407\n"
          ]
        },
        {
          "name": "stderr",
          "output_type": "stream",
          "text": [
            "C:\\Users\\nshre\\AppData\\Local\\Temp\\ipykernel_12852\\3012480772.py:5: FutureWarning: suggest_loguniform has been deprecated in v3.0.0. This feature will be removed in v6.0.0. See https://github.com/optuna/optuna/releases/tag/v3.0.0. Use :func:`~optuna.trial.Trial.suggest_float` instead.\n",
            "  reg_lambda = trial.suggest_loguniform(\"reg_lambda\", 1e-8, 100.0)\n",
            "C:\\Users\\nshre\\AppData\\Local\\Temp\\ipykernel_12852\\3012480772.py:6: FutureWarning: suggest_loguniform has been deprecated in v3.0.0. This feature will be removed in v6.0.0. See https://github.com/optuna/optuna/releases/tag/v3.0.0. Use :func:`~optuna.trial.Trial.suggest_float` instead.\n",
            "  reg_alpha = trial.suggest_loguniform(\"reg_alpha\", 1e-8, 100.0)\n",
            "\u001b[32m[I 2023-04-28 08:58:36,173]\u001b[0m Trial 14 finished with value: 4.3047275109652485 and parameters: {'learning_rate': 0.045580208679295006, 'reg_lambda': 4.269465720292161, 'reg_alpha': 95.5353225451274, 'subsample': 0.2490420291766568, 'colsample_bytree': 0.6795898624820328, 'max_depth': 3, 'n_estimators': 989}. Best is trial 4 with value: 4.014516335495757.\u001b[0m\n"
          ]
        },
        {
          "name": "stdout",
          "output_type": "stream",
          "text": [
            "Mean Absolute Error :  4.3047275109652485\n",
            "R2_score :  0.7616933575832009\n"
          ]
        },
        {
          "name": "stderr",
          "output_type": "stream",
          "text": [
            "C:\\Users\\nshre\\AppData\\Local\\Temp\\ipykernel_12852\\3012480772.py:5: FutureWarning: suggest_loguniform has been deprecated in v3.0.0. This feature will be removed in v6.0.0. See https://github.com/optuna/optuna/releases/tag/v3.0.0. Use :func:`~optuna.trial.Trial.suggest_float` instead.\n",
            "  reg_lambda = trial.suggest_loguniform(\"reg_lambda\", 1e-8, 100.0)\n",
            "C:\\Users\\nshre\\AppData\\Local\\Temp\\ipykernel_12852\\3012480772.py:6: FutureWarning: suggest_loguniform has been deprecated in v3.0.0. This feature will be removed in v6.0.0. See https://github.com/optuna/optuna/releases/tag/v3.0.0. Use :func:`~optuna.trial.Trial.suggest_float` instead.\n",
            "  reg_alpha = trial.suggest_loguniform(\"reg_alpha\", 1e-8, 100.0)\n",
            "\u001b[32m[I 2023-04-28 08:58:48,379]\u001b[0m Trial 15 finished with value: 4.995289434156859 and parameters: {'learning_rate': 0.014966719408486352, 'reg_lambda': 0.015391094671520136, 'reg_alpha': 1.2413569766336248, 'subsample': 0.3809086949632191, 'colsample_bytree': 0.533610399214107, 'max_depth': 4, 'n_estimators': 204}. Best is trial 4 with value: 4.014516335495757.\u001b[0m\n"
          ]
        },
        {
          "name": "stdout",
          "output_type": "stream",
          "text": [
            "Mean Absolute Error :  4.995289434156859\n",
            "R2_score :  0.7495774682087979\n"
          ]
        },
        {
          "name": "stderr",
          "output_type": "stream",
          "text": [
            "C:\\Users\\nshre\\AppData\\Local\\Temp\\ipykernel_12852\\3012480772.py:5: FutureWarning: suggest_loguniform has been deprecated in v3.0.0. This feature will be removed in v6.0.0. See https://github.com/optuna/optuna/releases/tag/v3.0.0. Use :func:`~optuna.trial.Trial.suggest_float` instead.\n",
            "  reg_lambda = trial.suggest_loguniform(\"reg_lambda\", 1e-8, 100.0)\n",
            "C:\\Users\\nshre\\AppData\\Local\\Temp\\ipykernel_12852\\3012480772.py:6: FutureWarning: suggest_loguniform has been deprecated in v3.0.0. This feature will be removed in v6.0.0. See https://github.com/optuna/optuna/releases/tag/v3.0.0. Use :func:`~optuna.trial.Trial.suggest_float` instead.\n",
            "  reg_alpha = trial.suggest_loguniform(\"reg_alpha\", 1e-8, 100.0)\n",
            "\u001b[32m[I 2023-04-28 09:00:52,979]\u001b[0m Trial 16 finished with value: 4.243051719462243 and parameters: {'learning_rate': 0.04593885265112103, 'reg_lambda': 88.0882031076654, 'reg_alpha': 0.009811285188130726, 'subsample': 0.20974407775230022, 'colsample_bytree': 0.875570296468998, 'max_depth': 5, 'n_estimators': 1673}. Best is trial 4 with value: 4.014516335495757.\u001b[0m\n"
          ]
        },
        {
          "name": "stdout",
          "output_type": "stream",
          "text": [
            "Mean Absolute Error :  4.243051719462243\n",
            "R2_score :  0.7392742644368074\n"
          ]
        },
        {
          "name": "stderr",
          "output_type": "stream",
          "text": [
            "C:\\Users\\nshre\\AppData\\Local\\Temp\\ipykernel_12852\\3012480772.py:5: FutureWarning: suggest_loguniform has been deprecated in v3.0.0. This feature will be removed in v6.0.0. See https://github.com/optuna/optuna/releases/tag/v3.0.0. Use :func:`~optuna.trial.Trial.suggest_float` instead.\n",
            "  reg_lambda = trial.suggest_loguniform(\"reg_lambda\", 1e-8, 100.0)\n",
            "C:\\Users\\nshre\\AppData\\Local\\Temp\\ipykernel_12852\\3012480772.py:6: FutureWarning: suggest_loguniform has been deprecated in v3.0.0. This feature will be removed in v6.0.0. See https://github.com/optuna/optuna/releases/tag/v3.0.0. Use :func:`~optuna.trial.Trial.suggest_float` instead.\n",
            "  reg_alpha = trial.suggest_loguniform(\"reg_alpha\", 1e-8, 100.0)\n",
            "\u001b[32m[I 2023-04-28 09:03:06,459]\u001b[0m Trial 17 finished with value: 4.093689252968496 and parameters: {'learning_rate': 0.024155222458682596, 'reg_lambda': 2.301706730001585, 'reg_alpha': 4.662088877381834e-05, 'subsample': 0.40407323084066116, 'colsample_bytree': 0.731074366583236, 'max_depth': 3, 'n_estimators': 2229}. Best is trial 4 with value: 4.014516335495757.\u001b[0m\n"
          ]
        },
        {
          "name": "stdout",
          "output_type": "stream",
          "text": [
            "Mean Absolute Error :  4.093689252968496\n",
            "R2_score :  0.7476057198864594\n"
          ]
        },
        {
          "name": "stderr",
          "output_type": "stream",
          "text": [
            "C:\\Users\\nshre\\AppData\\Local\\Temp\\ipykernel_12852\\3012480772.py:5: FutureWarning: suggest_loguniform has been deprecated in v3.0.0. This feature will be removed in v6.0.0. See https://github.com/optuna/optuna/releases/tag/v3.0.0. Use :func:`~optuna.trial.Trial.suggest_float` instead.\n",
            "  reg_lambda = trial.suggest_loguniform(\"reg_lambda\", 1e-8, 100.0)\n",
            "C:\\Users\\nshre\\AppData\\Local\\Temp\\ipykernel_12852\\3012480772.py:6: FutureWarning: suggest_loguniform has been deprecated in v3.0.0. This feature will be removed in v6.0.0. See https://github.com/optuna/optuna/releases/tag/v3.0.0. Use :func:`~optuna.trial.Trial.suggest_float` instead.\n",
            "  reg_alpha = trial.suggest_loguniform(\"reg_alpha\", 1e-8, 100.0)\n",
            "\u001b[32m[I 2023-04-28 09:03:40,280]\u001b[0m Trial 18 finished with value: 9.070102359674655 and parameters: {'learning_rate': 0.0012930917356519175, 'reg_lambda': 0.4013732538033482, 'reg_alpha': 0.055953531181059404, 'subsample': 0.25423058984118274, 'colsample_bytree': 0.8662101703697235, 'max_depth': 4, 'n_estimators': 529}. Best is trial 4 with value: 4.014516335495757.\u001b[0m\n"
          ]
        },
        {
          "name": "stdout",
          "output_type": "stream",
          "text": [
            "Mean Absolute Error :  9.070102359674655\n",
            "R2_score :  0.44163328405924074\n"
          ]
        },
        {
          "name": "stderr",
          "output_type": "stream",
          "text": [
            "C:\\Users\\nshre\\AppData\\Local\\Temp\\ipykernel_12852\\3012480772.py:5: FutureWarning: suggest_loguniform has been deprecated in v3.0.0. This feature will be removed in v6.0.0. See https://github.com/optuna/optuna/releases/tag/v3.0.0. Use :func:`~optuna.trial.Trial.suggest_float` instead.\n",
            "  reg_lambda = trial.suggest_loguniform(\"reg_lambda\", 1e-8, 100.0)\n",
            "C:\\Users\\nshre\\AppData\\Local\\Temp\\ipykernel_12852\\3012480772.py:6: FutureWarning: suggest_loguniform has been deprecated in v3.0.0. This feature will be removed in v6.0.0. See https://github.com/optuna/optuna/releases/tag/v3.0.0. Use :func:`~optuna.trial.Trial.suggest_float` instead.\n",
            "  reg_alpha = trial.suggest_loguniform(\"reg_alpha\", 1e-8, 100.0)\n",
            "\u001b[32m[I 2023-04-28 09:04:29,924]\u001b[0m Trial 19 finished with value: 5.430407336248827 and parameters: {'learning_rate': 0.04153763734194716, 'reg_lambda': 0.013079948726058456, 'reg_alpha': 0.9995965435106116, 'subsample': 0.11164312307294227, 'colsample_bytree': 0.5426943298548812, 'max_depth': 3, 'n_estimators': 1308}. Best is trial 4 with value: 4.014516335495757.\u001b[0m\n"
          ]
        },
        {
          "name": "stdout",
          "output_type": "stream",
          "text": [
            "Mean Absolute Error :  5.430407336248827\n",
            "R2_score :  0.7386240109592743\n"
          ]
        }
      ],
      "source": [
        "\"\"\"Uncomment for tuning the model\"\"\"\n",
        "import optuna\n",
        "def run(trial):\n",
        "    learning_rate = trial.suggest_float(\"learning_rate\", 1e-3, 0.1)\n",
        "    reg_lambda = trial.suggest_loguniform(\"reg_lambda\", 1e-8, 100.0)\n",
        "    reg_alpha = trial.suggest_loguniform(\"reg_alpha\", 1e-8, 100.0)\n",
        "    subsample = trial.suggest_float(\"subsample\", 0.1, 1.0)\n",
        "    colsample_bytree = trial.suggest_float(\"colsample_bytree\", 0.1, 1.0)\n",
        "    max_depth = trial.suggest_int(\"max_depth\", 3, 6)\n",
        "    n_estimators = trial.suggest_int(\"n_estimators\", 20, 3000)\n",
        "\n",
        "\n",
        "    model = xgb.XGBRegressor(\n",
        "            random_state=42,\n",
        "            objective='reg:squarederror',\n",
        "            n_estimators=n_estimators,\n",
        "            learning_rate=learning_rate,\n",
        "            reg_lambda=reg_lambda,\n",
        "            reg_alpha=reg_alpha,\n",
        "            subsample=subsample,\n",
        "            colsample_bytree=colsample_bytree,\n",
        "            max_depth=max_depth,\n",
        "            eval_metric='mae'\n",
        "        )\n",
        "    model.fit(X_train, y_train)\n",
        "    preds_valid = model.predict(X_test)\n",
        "    mae_ = mean_absolute_error(y_test, preds_valid)\n",
        "    r2_sc = r2_score(y_test, preds_valid)\n",
        "    print(\"Mean Absolute Error : \", mae_)\n",
        "    print(\"R2_score : \", r2_sc)\n",
        "    return mae_\n",
        "\n",
        "study = optuna.create_study(direction=\"minimize\")\n",
        "study.optimize(run, n_trials=20)\n",
        "\n",
        "# study.best_params"
      ]
    },
    {
      "cell_type": "code",
      "execution_count": 97,
      "metadata": {},
      "outputs": [
        {
          "name": "stderr",
          "output_type": "stream",
          "text": [
            "\u001b[32m[I 2023-04-28 09:04:30,128]\u001b[0m A new study created in memory with name: no-name-0d3aee4a-db2a-445a-aee6-6a631401074b\u001b[0m\n",
            "C:\\Users\\nshre\\AppData\\Local\\Temp\\ipykernel_12852\\719259616.py:5: FutureWarning: suggest_loguniform has been deprecated in v3.0.0. This feature will be removed in v6.0.0. See https://github.com/optuna/optuna/releases/tag/v3.0.0. Use :func:`~optuna.trial.Trial.suggest_float` instead.\n",
            "  reg_lambda = trial.suggest_loguniform(\"reg_lambda\", 1e-8, 100.0)\n",
            "C:\\Users\\nshre\\AppData\\Local\\Temp\\ipykernel_12852\\719259616.py:6: FutureWarning: suggest_loguniform has been deprecated in v3.0.0. This feature will be removed in v6.0.0. See https://github.com/optuna/optuna/releases/tag/v3.0.0. Use :func:`~optuna.trial.Trial.suggest_float` instead.\n",
            "  reg_alpha = trial.suggest_loguniform(\"reg_alpha\", 1e-8, 100.0)\n",
            "\u001b[32m[I 2023-04-28 09:04:41,170]\u001b[0m Trial 0 finished with value: 4.45109362412442 and parameters: {'learning_rate': 0.07511926391905335, 'reg_lambda': 9.155477788500397, 'reg_alpha': 2.0220448757521527e-06, 'subsample': 0.485471495251942, 'colsample_bytree': 0.2838175433464417, 'max_depth': 3, 'n_estimators': 260}. Best is trial 0 with value: 4.45109362412442.\u001b[0m\n"
          ]
        },
        {
          "name": "stdout",
          "output_type": "stream",
          "text": [
            "Mean Absolute Error :  4.45109362412442\n",
            "R2_score :  0.7820779441828376\n"
          ]
        },
        {
          "name": "stderr",
          "output_type": "stream",
          "text": [
            "C:\\Users\\nshre\\AppData\\Local\\Temp\\ipykernel_12852\\719259616.py:5: FutureWarning: suggest_loguniform has been deprecated in v3.0.0. This feature will be removed in v6.0.0. See https://github.com/optuna/optuna/releases/tag/v3.0.0. Use :func:`~optuna.trial.Trial.suggest_float` instead.\n",
            "  reg_lambda = trial.suggest_loguniform(\"reg_lambda\", 1e-8, 100.0)\n",
            "C:\\Users\\nshre\\AppData\\Local\\Temp\\ipykernel_12852\\719259616.py:6: FutureWarning: suggest_loguniform has been deprecated in v3.0.0. This feature will be removed in v6.0.0. See https://github.com/optuna/optuna/releases/tag/v3.0.0. Use :func:`~optuna.trial.Trial.suggest_float` instead.\n",
            "  reg_alpha = trial.suggest_loguniform(\"reg_alpha\", 1e-8, 100.0)\n",
            "\u001b[32m[I 2023-04-28 09:04:51,238]\u001b[0m Trial 1 finished with value: 4.37555884175738 and parameters: {'learning_rate': 0.09352998540410909, 'reg_lambda': 0.00036642843752606705, 'reg_alpha': 0.4009758857433482, 'subsample': 0.6332212397539065, 'colsample_bytree': 0.524477195640949, 'max_depth': 3, 'n_estimators': 192}. Best is trial 1 with value: 4.37555884175738.\u001b[0m\n"
          ]
        },
        {
          "name": "stdout",
          "output_type": "stream",
          "text": [
            "Mean Absolute Error :  4.37555884175738\n",
            "R2_score :  0.7225718959237353\n"
          ]
        },
        {
          "name": "stderr",
          "output_type": "stream",
          "text": [
            "C:\\Users\\nshre\\AppData\\Local\\Temp\\ipykernel_12852\\719259616.py:5: FutureWarning: suggest_loguniform has been deprecated in v3.0.0. This feature will be removed in v6.0.0. See https://github.com/optuna/optuna/releases/tag/v3.0.0. Use :func:`~optuna.trial.Trial.suggest_float` instead.\n",
            "  reg_lambda = trial.suggest_loguniform(\"reg_lambda\", 1e-8, 100.0)\n",
            "C:\\Users\\nshre\\AppData\\Local\\Temp\\ipykernel_12852\\719259616.py:6: FutureWarning: suggest_loguniform has been deprecated in v3.0.0. This feature will be removed in v6.0.0. See https://github.com/optuna/optuna/releases/tag/v3.0.0. Use :func:`~optuna.trial.Trial.suggest_float` instead.\n",
            "  reg_alpha = trial.suggest_loguniform(\"reg_alpha\", 1e-8, 100.0)\n",
            "\u001b[32m[I 2023-04-28 09:06:12,419]\u001b[0m Trial 2 finished with value: 4.6421249747019795 and parameters: {'learning_rate': 0.08751711247805773, 'reg_lambda': 8.926641410419766, 'reg_alpha': 4.097168185791003e-08, 'subsample': 0.821061008835693, 'colsample_bytree': 0.12700196394387855, 'max_depth': 3, 'n_estimators': 2335}. Best is trial 1 with value: 4.37555884175738.\u001b[0m\n"
          ]
        },
        {
          "name": "stdout",
          "output_type": "stream",
          "text": [
            "Mean Absolute Error :  4.6421249747019795\n",
            "R2_score :  0.7665492732905539\n"
          ]
        },
        {
          "name": "stderr",
          "output_type": "stream",
          "text": [
            "C:\\Users\\nshre\\AppData\\Local\\Temp\\ipykernel_12852\\719259616.py:5: FutureWarning: suggest_loguniform has been deprecated in v3.0.0. This feature will be removed in v6.0.0. See https://github.com/optuna/optuna/releases/tag/v3.0.0. Use :func:`~optuna.trial.Trial.suggest_float` instead.\n",
            "  reg_lambda = trial.suggest_loguniform(\"reg_lambda\", 1e-8, 100.0)\n",
            "C:\\Users\\nshre\\AppData\\Local\\Temp\\ipykernel_12852\\719259616.py:6: FutureWarning: suggest_loguniform has been deprecated in v3.0.0. This feature will be removed in v6.0.0. See https://github.com/optuna/optuna/releases/tag/v3.0.0. Use :func:`~optuna.trial.Trial.suggest_float` instead.\n",
            "  reg_alpha = trial.suggest_loguniform(\"reg_alpha\", 1e-8, 100.0)\n",
            "\u001b[32m[I 2023-04-28 09:08:14,493]\u001b[0m Trial 3 finished with value: 4.419209723726743 and parameters: {'learning_rate': 0.03145172256075458, 'reg_lambda': 4.999706038464734e-05, 'reg_alpha': 60.774996801999954, 'subsample': 0.551267338326362, 'colsample_bytree': 0.5609709595493059, 'max_depth': 5, 'n_estimators': 1537}. Best is trial 1 with value: 4.37555884175738.\u001b[0m\n"
          ]
        },
        {
          "name": "stdout",
          "output_type": "stream",
          "text": [
            "Mean Absolute Error :  4.419209723726743\n",
            "R2_score :  0.7323315937345198\n"
          ]
        },
        {
          "name": "stderr",
          "output_type": "stream",
          "text": [
            "C:\\Users\\nshre\\AppData\\Local\\Temp\\ipykernel_12852\\719259616.py:5: FutureWarning: suggest_loguniform has been deprecated in v3.0.0. This feature will be removed in v6.0.0. See https://github.com/optuna/optuna/releases/tag/v3.0.0. Use :func:`~optuna.trial.Trial.suggest_float` instead.\n",
            "  reg_lambda = trial.suggest_loguniform(\"reg_lambda\", 1e-8, 100.0)\n",
            "C:\\Users\\nshre\\AppData\\Local\\Temp\\ipykernel_12852\\719259616.py:6: FutureWarning: suggest_loguniform has been deprecated in v3.0.0. This feature will be removed in v6.0.0. See https://github.com/optuna/optuna/releases/tag/v3.0.0. Use :func:`~optuna.trial.Trial.suggest_float` instead.\n",
            "  reg_alpha = trial.suggest_loguniform(\"reg_alpha\", 1e-8, 100.0)\n",
            "\u001b[32m[I 2023-04-28 09:11:07,241]\u001b[0m Trial 4 finished with value: 4.543365449905182 and parameters: {'learning_rate': 0.09888878048825313, 'reg_lambda': 24.855488205229097, 'reg_alpha': 0.5834662929754639, 'subsample': 0.9802581610602823, 'colsample_bytree': 0.5554147201309242, 'max_depth': 3, 'n_estimators': 2672}. Best is trial 1 with value: 4.37555884175738.\u001b[0m\n"
          ]
        },
        {
          "name": "stdout",
          "output_type": "stream",
          "text": [
            "Mean Absolute Error :  4.543365449905182\n",
            "R2_score :  0.7398357016519148\n"
          ]
        },
        {
          "name": "stderr",
          "output_type": "stream",
          "text": [
            "C:\\Users\\nshre\\AppData\\Local\\Temp\\ipykernel_12852\\719259616.py:5: FutureWarning: suggest_loguniform has been deprecated in v3.0.0. This feature will be removed in v6.0.0. See https://github.com/optuna/optuna/releases/tag/v3.0.0. Use :func:`~optuna.trial.Trial.suggest_float` instead.\n",
            "  reg_lambda = trial.suggest_loguniform(\"reg_lambda\", 1e-8, 100.0)\n",
            "C:\\Users\\nshre\\AppData\\Local\\Temp\\ipykernel_12852\\719259616.py:6: FutureWarning: suggest_loguniform has been deprecated in v3.0.0. This feature will be removed in v6.0.0. See https://github.com/optuna/optuna/releases/tag/v3.0.0. Use :func:`~optuna.trial.Trial.suggest_float` instead.\n",
            "  reg_alpha = trial.suggest_loguniform(\"reg_alpha\", 1e-8, 100.0)\n",
            "\u001b[32m[I 2023-04-28 09:13:38,257]\u001b[0m Trial 5 finished with value: 5.357332845560095 and parameters: {'learning_rate': 0.06625231145468774, 'reg_lambda': 8.848086435644778e-07, 'reg_alpha': 1.9862217971987475e-07, 'subsample': 0.5544800717464493, 'colsample_bytree': 0.2980344126396455, 'max_depth': 4, 'n_estimators': 1767}. Best is trial 1 with value: 4.37555884175738.\u001b[0m\n"
          ]
        },
        {
          "name": "stdout",
          "output_type": "stream",
          "text": [
            "Mean Absolute Error :  5.357332845560095\n",
            "R2_score :  0.7420422338459665\n"
          ]
        },
        {
          "name": "stderr",
          "output_type": "stream",
          "text": [
            "C:\\Users\\nshre\\AppData\\Local\\Temp\\ipykernel_12852\\719259616.py:5: FutureWarning: suggest_loguniform has been deprecated in v3.0.0. This feature will be removed in v6.0.0. See https://github.com/optuna/optuna/releases/tag/v3.0.0. Use :func:`~optuna.trial.Trial.suggest_float` instead.\n",
            "  reg_lambda = trial.suggest_loguniform(\"reg_lambda\", 1e-8, 100.0)\n",
            "C:\\Users\\nshre\\AppData\\Local\\Temp\\ipykernel_12852\\719259616.py:6: FutureWarning: suggest_loguniform has been deprecated in v3.0.0. This feature will be removed in v6.0.0. See https://github.com/optuna/optuna/releases/tag/v3.0.0. Use :func:`~optuna.trial.Trial.suggest_float` instead.\n",
            "  reg_alpha = trial.suggest_loguniform(\"reg_alpha\", 1e-8, 100.0)\n",
            "\u001b[32m[I 2023-04-28 09:16:51,756]\u001b[0m Trial 6 finished with value: 5.1697740533867504 and parameters: {'learning_rate': 0.08370992322094004, 'reg_lambda': 0.006482423000071544, 'reg_alpha': 7.607417108993234e-08, 'subsample': 0.47335763912093665, 'colsample_bytree': 0.5491432977090945, 'max_depth': 6, 'n_estimators': 1628}. Best is trial 1 with value: 4.37555884175738.\u001b[0m\n"
          ]
        },
        {
          "name": "stdout",
          "output_type": "stream",
          "text": [
            "Mean Absolute Error :  5.1697740533867504\n",
            "R2_score :  0.7181880729554668\n"
          ]
        },
        {
          "name": "stderr",
          "output_type": "stream",
          "text": [
            "C:\\Users\\nshre\\AppData\\Local\\Temp\\ipykernel_12852\\719259616.py:5: FutureWarning: suggest_loguniform has been deprecated in v3.0.0. This feature will be removed in v6.0.0. See https://github.com/optuna/optuna/releases/tag/v3.0.0. Use :func:`~optuna.trial.Trial.suggest_float` instead.\n",
            "  reg_lambda = trial.suggest_loguniform(\"reg_lambda\", 1e-8, 100.0)\n",
            "C:\\Users\\nshre\\AppData\\Local\\Temp\\ipykernel_12852\\719259616.py:6: FutureWarning: suggest_loguniform has been deprecated in v3.0.0. This feature will be removed in v6.0.0. See https://github.com/optuna/optuna/releases/tag/v3.0.0. Use :func:`~optuna.trial.Trial.suggest_float` instead.\n",
            "  reg_alpha = trial.suggest_loguniform(\"reg_alpha\", 1e-8, 100.0)\n",
            "\u001b[32m[I 2023-04-28 09:20:16,777]\u001b[0m Trial 7 finished with value: 4.399734740061761 and parameters: {'learning_rate': 0.019277007954551645, 'reg_lambda': 3.7228712122524425e-05, 'reg_alpha': 1.5096281335986974e-07, 'subsample': 0.9714907644671561, 'colsample_bytree': 0.44359452647471065, 'max_depth': 5, 'n_estimators': 2662}. Best is trial 1 with value: 4.37555884175738.\u001b[0m\n"
          ]
        },
        {
          "name": "stdout",
          "output_type": "stream",
          "text": [
            "Mean Absolute Error :  4.399734740061761\n",
            "R2_score :  0.7243442076497664\n"
          ]
        },
        {
          "name": "stderr",
          "output_type": "stream",
          "text": [
            "C:\\Users\\nshre\\AppData\\Local\\Temp\\ipykernel_12852\\719259616.py:5: FutureWarning: suggest_loguniform has been deprecated in v3.0.0. This feature will be removed in v6.0.0. See https://github.com/optuna/optuna/releases/tag/v3.0.0. Use :func:`~optuna.trial.Trial.suggest_float` instead.\n",
            "  reg_lambda = trial.suggest_loguniform(\"reg_lambda\", 1e-8, 100.0)\n",
            "C:\\Users\\nshre\\AppData\\Local\\Temp\\ipykernel_12852\\719259616.py:6: FutureWarning: suggest_loguniform has been deprecated in v3.0.0. This feature will be removed in v6.0.0. See https://github.com/optuna/optuna/releases/tag/v3.0.0. Use :func:`~optuna.trial.Trial.suggest_float` instead.\n",
            "  reg_alpha = trial.suggest_loguniform(\"reg_alpha\", 1e-8, 100.0)\n",
            "\u001b[32m[I 2023-04-28 09:23:11,825]\u001b[0m Trial 8 finished with value: 5.623420045858467 and parameters: {'learning_rate': 0.09363933420622975, 'reg_lambda': 2.215876134372027e-08, 'reg_alpha': 1.9828507172812145e-08, 'subsample': 0.53214042829062, 'colsample_bytree': 0.6078857109761135, 'max_depth': 3, 'n_estimators': 2867}. Best is trial 1 with value: 4.37555884175738.\u001b[0m\n"
          ]
        },
        {
          "name": "stdout",
          "output_type": "stream",
          "text": [
            "Mean Absolute Error :  5.623420045858467\n",
            "R2_score :  0.6709702157996298\n"
          ]
        },
        {
          "name": "stderr",
          "output_type": "stream",
          "text": [
            "C:\\Users\\nshre\\AppData\\Local\\Temp\\ipykernel_12852\\719259616.py:5: FutureWarning: suggest_loguniform has been deprecated in v3.0.0. This feature will be removed in v6.0.0. See https://github.com/optuna/optuna/releases/tag/v3.0.0. Use :func:`~optuna.trial.Trial.suggest_float` instead.\n",
            "  reg_lambda = trial.suggest_loguniform(\"reg_lambda\", 1e-8, 100.0)\n",
            "C:\\Users\\nshre\\AppData\\Local\\Temp\\ipykernel_12852\\719259616.py:6: FutureWarning: suggest_loguniform has been deprecated in v3.0.0. This feature will be removed in v6.0.0. See https://github.com/optuna/optuna/releases/tag/v3.0.0. Use :func:`~optuna.trial.Trial.suggest_float` instead.\n",
            "  reg_alpha = trial.suggest_loguniform(\"reg_alpha\", 1e-8, 100.0)\n",
            "\u001b[32m[I 2023-04-28 20:57:38,146]\u001b[0m Trial 9 finished with value: 4.78350110575384 and parameters: {'learning_rate': 0.023361361840033373, 'reg_lambda': 2.6842680948509104e-08, 'reg_alpha': 2.174301431738352e-06, 'subsample': 0.5837255176982205, 'colsample_bytree': 0.6572166118349376, 'max_depth': 5, 'n_estimators': 2868}. Best is trial 1 with value: 4.37555884175738.\u001b[0m\n"
          ]
        },
        {
          "name": "stdout",
          "output_type": "stream",
          "text": [
            "Mean Absolute Error :  4.78350110575384\n",
            "R2_score :  0.66309180139157\n"
          ]
        },
        {
          "name": "stderr",
          "output_type": "stream",
          "text": [
            "C:\\Users\\nshre\\AppData\\Local\\Temp\\ipykernel_12852\\719259616.py:5: FutureWarning: suggest_loguniform has been deprecated in v3.0.0. This feature will be removed in v6.0.0. See https://github.com/optuna/optuna/releases/tag/v3.0.0. Use :func:`~optuna.trial.Trial.suggest_float` instead.\n",
            "  reg_lambda = trial.suggest_loguniform(\"reg_lambda\", 1e-8, 100.0)\n",
            "C:\\Users\\nshre\\AppData\\Local\\Temp\\ipykernel_12852\\719259616.py:6: FutureWarning: suggest_loguniform has been deprecated in v3.0.0. This feature will be removed in v6.0.0. See https://github.com/optuna/optuna/releases/tag/v3.0.0. Use :func:`~optuna.trial.Trial.suggest_float` instead.\n",
            "  reg_alpha = trial.suggest_loguniform(\"reg_alpha\", 1e-8, 100.0)\n",
            "\u001b[32m[I 2023-04-28 20:57:42,148]\u001b[0m Trial 10 finished with value: 4.963308442169709 and parameters: {'learning_rate': 0.055280297416579895, 'reg_lambda': 0.010017499383590443, 'reg_alpha': 0.0075379566623527666, 'subsample': 0.23734176895651116, 'colsample_bytree': 0.839702589285737, 'max_depth': 4, 'n_estimators': 48}. Best is trial 1 with value: 4.37555884175738.\u001b[0m\n"
          ]
        },
        {
          "name": "stdout",
          "output_type": "stream",
          "text": [
            "Mean Absolute Error :  4.963308442169709\n",
            "R2_score :  0.7128506477516869\n"
          ]
        },
        {
          "name": "stderr",
          "output_type": "stream",
          "text": [
            "C:\\Users\\nshre\\AppData\\Local\\Temp\\ipykernel_12852\\719259616.py:5: FutureWarning: suggest_loguniform has been deprecated in v3.0.0. This feature will be removed in v6.0.0. See https://github.com/optuna/optuna/releases/tag/v3.0.0. Use :func:`~optuna.trial.Trial.suggest_float` instead.\n",
            "  reg_lambda = trial.suggest_loguniform(\"reg_lambda\", 1e-8, 100.0)\n",
            "C:\\Users\\nshre\\AppData\\Local\\Temp\\ipykernel_12852\\719259616.py:6: FutureWarning: suggest_loguniform has been deprecated in v3.0.0. This feature will be removed in v6.0.0. See https://github.com/optuna/optuna/releases/tag/v3.0.0. Use :func:`~optuna.trial.Trial.suggest_float` instead.\n",
            "  reg_alpha = trial.suggest_loguniform(\"reg_alpha\", 1e-8, 100.0)\n",
            "\u001b[32m[I 2023-04-28 20:59:29,658]\u001b[0m Trial 11 finished with value: 5.141923206292742 and parameters: {'learning_rate': 0.0029367987349087354, 'reg_lambda': 0.00017443901378252373, 'reg_alpha': 0.0008930028522699851, 'subsample': 0.9999053622380785, 'colsample_bytree': 0.36904344791808086, 'max_depth': 6, 'n_estimators': 1099}. Best is trial 1 with value: 4.37555884175738.\u001b[0m\n"
          ]
        },
        {
          "name": "stdout",
          "output_type": "stream",
          "text": [
            "Mean Absolute Error :  5.141923206292742\n",
            "R2_score :  0.7497472931596717\n"
          ]
        },
        {
          "name": "stderr",
          "output_type": "stream",
          "text": [
            "C:\\Users\\nshre\\AppData\\Local\\Temp\\ipykernel_12852\\719259616.py:5: FutureWarning: suggest_loguniform has been deprecated in v3.0.0. This feature will be removed in v6.0.0. See https://github.com/optuna/optuna/releases/tag/v3.0.0. Use :func:`~optuna.trial.Trial.suggest_float` instead.\n",
            "  reg_lambda = trial.suggest_loguniform(\"reg_lambda\", 1e-8, 100.0)\n",
            "C:\\Users\\nshre\\AppData\\Local\\Temp\\ipykernel_12852\\719259616.py:6: FutureWarning: suggest_loguniform has been deprecated in v3.0.0. This feature will be removed in v6.0.0. See https://github.com/optuna/optuna/releases/tag/v3.0.0. Use :func:`~optuna.trial.Trial.suggest_float` instead.\n",
            "  reg_alpha = trial.suggest_loguniform(\"reg_alpha\", 1e-8, 100.0)\n",
            "\u001b[32m[I 2023-04-28 21:01:05,343]\u001b[0m Trial 12 finished with value: 4.667377574193389 and parameters: {'learning_rate': 0.04733416631341617, 'reg_lambda': 9.448236366700265e-06, 'reg_alpha': 0.0001951386840519026, 'subsample': 0.7233303225789511, 'colsample_bytree': 0.42905839112183586, 'max_depth': 5, 'n_estimators': 915}. Best is trial 1 with value: 4.37555884175738.\u001b[0m\n"
          ]
        },
        {
          "name": "stdout",
          "output_type": "stream",
          "text": [
            "Mean Absolute Error :  4.667377574193389\n",
            "R2_score :  0.7467026265693292\n"
          ]
        },
        {
          "name": "stderr",
          "output_type": "stream",
          "text": [
            "C:\\Users\\nshre\\AppData\\Local\\Temp\\ipykernel_12852\\719259616.py:5: FutureWarning: suggest_loguniform has been deprecated in v3.0.0. This feature will be removed in v6.0.0. See https://github.com/optuna/optuna/releases/tag/v3.0.0. Use :func:`~optuna.trial.Trial.suggest_float` instead.\n",
            "  reg_lambda = trial.suggest_loguniform(\"reg_lambda\", 1e-8, 100.0)\n",
            "C:\\Users\\nshre\\AppData\\Local\\Temp\\ipykernel_12852\\719259616.py:6: FutureWarning: suggest_loguniform has been deprecated in v3.0.0. This feature will be removed in v6.0.0. See https://github.com/optuna/optuna/releases/tag/v3.0.0. Use :func:`~optuna.trial.Trial.suggest_float` instead.\n",
            "  reg_alpha = trial.suggest_loguniform(\"reg_alpha\", 1e-8, 100.0)\n",
            "\u001b[32m[I 2023-04-28 21:05:26,624]\u001b[0m Trial 13 finished with value: 5.8964317790871545 and parameters: {'learning_rate': 0.0643927278916192, 'reg_lambda': 0.0013307672342664915, 'reg_alpha': 0.020823809558739532, 'subsample': 0.8356682139085756, 'colsample_bytree': 0.8214128717417577, 'max_depth': 4, 'n_estimators': 2215}. Best is trial 1 with value: 4.37555884175738.\u001b[0m\n"
          ]
        },
        {
          "name": "stdout",
          "output_type": "stream",
          "text": [
            "Mean Absolute Error :  5.8964317790871545\n",
            "R2_score :  0.6161606793703946\n"
          ]
        },
        {
          "name": "stderr",
          "output_type": "stream",
          "text": [
            "C:\\Users\\nshre\\AppData\\Local\\Temp\\ipykernel_12852\\719259616.py:5: FutureWarning: suggest_loguniform has been deprecated in v3.0.0. This feature will be removed in v6.0.0. See https://github.com/optuna/optuna/releases/tag/v3.0.0. Use :func:`~optuna.trial.Trial.suggest_float` instead.\n",
            "  reg_lambda = trial.suggest_loguniform(\"reg_lambda\", 1e-8, 100.0)\n",
            "C:\\Users\\nshre\\AppData\\Local\\Temp\\ipykernel_12852\\719259616.py:6: FutureWarning: suggest_loguniform has been deprecated in v3.0.0. This feature will be removed in v6.0.0. See https://github.com/optuna/optuna/releases/tag/v3.0.0. Use :func:`~optuna.trial.Trial.suggest_float` instead.\n",
            "  reg_alpha = trial.suggest_loguniform(\"reg_alpha\", 1e-8, 100.0)\n",
            "\u001b[32m[I 2023-04-28 21:07:28,670]\u001b[0m Trial 14 finished with value: 4.822415342725868 and parameters: {'learning_rate': 0.04094568027395599, 'reg_lambda': 0.062232081534995216, 'reg_alpha': 2.1835796233173826e-05, 'subsample': 0.7548016187822557, 'colsample_bytree': 0.9876338614755396, 'max_depth': 5, 'n_estimators': 663}. Best is trial 1 with value: 4.37555884175738.\u001b[0m\n"
          ]
        },
        {
          "name": "stdout",
          "output_type": "stream",
          "text": [
            "Mean Absolute Error :  4.822415342725868\n",
            "R2_score :  0.6522874519661634\n"
          ]
        },
        {
          "name": "stderr",
          "output_type": "stream",
          "text": [
            "C:\\Users\\nshre\\AppData\\Local\\Temp\\ipykernel_12852\\719259616.py:5: FutureWarning: suggest_loguniform has been deprecated in v3.0.0. This feature will be removed in v6.0.0. See https://github.com/optuna/optuna/releases/tag/v3.0.0. Use :func:`~optuna.trial.Trial.suggest_float` instead.\n",
            "  reg_lambda = trial.suggest_loguniform(\"reg_lambda\", 1e-8, 100.0)\n",
            "C:\\Users\\nshre\\AppData\\Local\\Temp\\ipykernel_12852\\719259616.py:6: FutureWarning: suggest_loguniform has been deprecated in v3.0.0. This feature will be removed in v6.0.0. See https://github.com/optuna/optuna/releases/tag/v3.0.0. Use :func:`~optuna.trial.Trial.suggest_float` instead.\n",
            "  reg_alpha = trial.suggest_loguniform(\"reg_alpha\", 1e-8, 100.0)\n",
            "\u001b[32m[I 2023-04-28 21:10:52,191]\u001b[0m Trial 15 finished with value: 4.931632162857391 and parameters: {'learning_rate': 0.0776307037492587, 'reg_lambda': 4.849245682816249e-06, 'reg_alpha': 0.20238574029532697, 'subsample': 0.8807157111762105, 'colsample_bytree': 0.4394858138331028, 'max_depth': 4, 'n_estimators': 2124}. Best is trial 1 with value: 4.37555884175738.\u001b[0m\n"
          ]
        },
        {
          "name": "stdout",
          "output_type": "stream",
          "text": [
            "Mean Absolute Error :  4.931632162857391\n",
            "R2_score :  0.7190859172954589\n"
          ]
        },
        {
          "name": "stderr",
          "output_type": "stream",
          "text": [
            "C:\\Users\\nshre\\AppData\\Local\\Temp\\ipykernel_12852\\719259616.py:5: FutureWarning: suggest_loguniform has been deprecated in v3.0.0. This feature will be removed in v6.0.0. See https://github.com/optuna/optuna/releases/tag/v3.0.0. Use :func:`~optuna.trial.Trial.suggest_float` instead.\n",
            "  reg_lambda = trial.suggest_loguniform(\"reg_lambda\", 1e-8, 100.0)\n",
            "C:\\Users\\nshre\\AppData\\Local\\Temp\\ipykernel_12852\\719259616.py:6: FutureWarning: suggest_loguniform has been deprecated in v3.0.0. This feature will be removed in v6.0.0. See https://github.com/optuna/optuna/releases/tag/v3.0.0. Use :func:`~optuna.trial.Trial.suggest_float` instead.\n",
            "  reg_alpha = trial.suggest_loguniform(\"reg_alpha\", 1e-8, 100.0)\n",
            "\u001b[32m[I 2023-04-28 21:13:29,048]\u001b[0m Trial 16 finished with value: 5.063364859133622 and parameters: {'learning_rate': 0.09819158855403236, 'reg_lambda': 0.00034341496474826554, 'reg_alpha': 8.685371232187952e-05, 'subsample': 0.6763872875166711, 'colsample_bytree': 0.4762805141338949, 'max_depth': 6, 'n_estimators': 1180}. Best is trial 1 with value: 4.37555884175738.\u001b[0m\n"
          ]
        },
        {
          "name": "stdout",
          "output_type": "stream",
          "text": [
            "Mean Absolute Error :  5.063364859133622\n",
            "R2_score :  0.7137483657870682\n"
          ]
        },
        {
          "name": "stderr",
          "output_type": "stream",
          "text": [
            "C:\\Users\\nshre\\AppData\\Local\\Temp\\ipykernel_12852\\719259616.py:5: FutureWarning: suggest_loguniform has been deprecated in v3.0.0. This feature will be removed in v6.0.0. See https://github.com/optuna/optuna/releases/tag/v3.0.0. Use :func:`~optuna.trial.Trial.suggest_float` instead.\n",
            "  reg_lambda = trial.suggest_loguniform(\"reg_lambda\", 1e-8, 100.0)\n",
            "C:\\Users\\nshre\\AppData\\Local\\Temp\\ipykernel_12852\\719259616.py:6: FutureWarning: suggest_loguniform has been deprecated in v3.0.0. This feature will be removed in v6.0.0. See https://github.com/optuna/optuna/releases/tag/v3.0.0. Use :func:`~optuna.trial.Trial.suggest_float` instead.\n",
            "  reg_alpha = trial.suggest_loguniform(\"reg_alpha\", 1e-8, 100.0)\n",
            "\u001b[32m[I 2023-04-28 21:14:00,344]\u001b[0m Trial 17 finished with value: 5.830158951581806 and parameters: {'learning_rate': 0.016688006508771308, 'reg_lambda': 6.846872680092222e-07, 'reg_alpha': 7.811267017168039e-06, 'subsample': 0.9073801101619346, 'colsample_bytree': 0.2137514578792299, 'max_depth': 4, 'n_estimators': 591}. Best is trial 1 with value: 4.37555884175738.\u001b[0m\n"
          ]
        },
        {
          "name": "stdout",
          "output_type": "stream",
          "text": [
            "Mean Absolute Error :  5.830158951581806\n",
            "R2_score :  0.7534792072791402\n"
          ]
        },
        {
          "name": "stderr",
          "output_type": "stream",
          "text": [
            "C:\\Users\\nshre\\AppData\\Local\\Temp\\ipykernel_12852\\719259616.py:5: FutureWarning: suggest_loguniform has been deprecated in v3.0.0. This feature will be removed in v6.0.0. See https://github.com/optuna/optuna/releases/tag/v3.0.0. Use :func:`~optuna.trial.Trial.suggest_float` instead.\n",
            "  reg_lambda = trial.suggest_loguniform(\"reg_lambda\", 1e-8, 100.0)\n",
            "C:\\Users\\nshre\\AppData\\Local\\Temp\\ipykernel_12852\\719259616.py:6: FutureWarning: suggest_loguniform has been deprecated in v3.0.0. This feature will be removed in v6.0.0. See https://github.com/optuna/optuna/releases/tag/v3.0.0. Use :func:`~optuna.trial.Trial.suggest_float` instead.\n",
            "  reg_alpha = trial.suggest_loguniform(\"reg_alpha\", 1e-8, 100.0)\n",
            "\u001b[32m[I 2023-04-28 21:17:11,041]\u001b[0m Trial 18 finished with value: 4.697925384982993 and parameters: {'learning_rate': 0.041172998421319336, 'reg_lambda': 0.2246398383128713, 'reg_alpha': 6.782115019621906e-07, 'subsample': 0.3642868226790396, 'colsample_bytree': 0.3700396266689391, 'max_depth': 5, 'n_estimators': 1931}. Best is trial 1 with value: 4.37555884175738.\u001b[0m\n"
          ]
        },
        {
          "name": "stdout",
          "output_type": "stream",
          "text": [
            "Mean Absolute Error :  4.697925384982993\n",
            "R2_score :  0.7522455232994153\n"
          ]
        },
        {
          "name": "stderr",
          "output_type": "stream",
          "text": [
            "C:\\Users\\nshre\\AppData\\Local\\Temp\\ipykernel_12852\\719259616.py:5: FutureWarning: suggest_loguniform has been deprecated in v3.0.0. This feature will be removed in v6.0.0. See https://github.com/optuna/optuna/releases/tag/v3.0.0. Use :func:`~optuna.trial.Trial.suggest_float` instead.\n",
            "  reg_lambda = trial.suggest_loguniform(\"reg_lambda\", 1e-8, 100.0)\n",
            "C:\\Users\\nshre\\AppData\\Local\\Temp\\ipykernel_12852\\719259616.py:6: FutureWarning: suggest_loguniform has been deprecated in v3.0.0. This feature will be removed in v6.0.0. See https://github.com/optuna/optuna/releases/tag/v3.0.0. Use :func:`~optuna.trial.Trial.suggest_float` instead.\n",
            "  reg_alpha = trial.suggest_loguniform(\"reg_alpha\", 1e-8, 100.0)\n",
            "\u001b[32m[I 2023-04-29 15:18:29,975]\u001b[0m Trial 19 finished with value: 4.98551796727635 and parameters: {'learning_rate': 0.0559156637451384, 'reg_lambda': 4.134558762817977e-05, 'reg_alpha': 3.626373817173261e-05, 'subsample': 0.6563325330397529, 'colsample_bytree': 0.6707737713717916, 'max_depth': 6, 'n_estimators': 2539}. Best is trial 1 with value: 4.37555884175738.\u001b[0m\n"
          ]
        },
        {
          "name": "stdout",
          "output_type": "stream",
          "text": [
            "Mean Absolute Error :  4.98551796727635\n",
            "R2_score :  0.6724445628913924\n"
          ]
        },
        {
          "name": "stderr",
          "output_type": "stream",
          "text": [
            "C:\\Users\\nshre\\AppData\\Local\\Temp\\ipykernel_12852\\719259616.py:5: FutureWarning: suggest_loguniform has been deprecated in v3.0.0. This feature will be removed in v6.0.0. See https://github.com/optuna/optuna/releases/tag/v3.0.0. Use :func:`~optuna.trial.Trial.suggest_float` instead.\n",
            "  reg_lambda = trial.suggest_loguniform(\"reg_lambda\", 1e-8, 100.0)\n",
            "C:\\Users\\nshre\\AppData\\Local\\Temp\\ipykernel_12852\\719259616.py:6: FutureWarning: suggest_loguniform has been deprecated in v3.0.0. This feature will be removed in v6.0.0. See https://github.com/optuna/optuna/releases/tag/v3.0.0. Use :func:`~optuna.trial.Trial.suggest_float` instead.\n",
            "  reg_alpha = trial.suggest_loguniform(\"reg_alpha\", 1e-8, 100.0)\n",
            "\u001b[32m[I 2023-04-29 15:20:59,067]\u001b[0m Trial 20 finished with value: 5.625785244983675 and parameters: {'learning_rate': 0.0021799216433986378, 'reg_lambda': 0.0006548952573343785, 'reg_alpha': 1.1659993940803949e-08, 'subsample': 0.8183645303365207, 'colsample_bytree': 0.48306887793246134, 'max_depth': 3, 'n_estimators': 1302}. Best is trial 1 with value: 4.37555884175738.\u001b[0m\n"
          ]
        },
        {
          "name": "stdout",
          "output_type": "stream",
          "text": [
            "Mean Absolute Error :  5.625785244983675\n",
            "R2_score :  0.7277754723430012\n"
          ]
        },
        {
          "name": "stderr",
          "output_type": "stream",
          "text": [
            "C:\\Users\\nshre\\AppData\\Local\\Temp\\ipykernel_12852\\719259616.py:5: FutureWarning: suggest_loguniform has been deprecated in v3.0.0. This feature will be removed in v6.0.0. See https://github.com/optuna/optuna/releases/tag/v3.0.0. Use :func:`~optuna.trial.Trial.suggest_float` instead.\n",
            "  reg_lambda = trial.suggest_loguniform(\"reg_lambda\", 1e-8, 100.0)\n",
            "C:\\Users\\nshre\\AppData\\Local\\Temp\\ipykernel_12852\\719259616.py:6: FutureWarning: suggest_loguniform has been deprecated in v3.0.0. This feature will be removed in v6.0.0. See https://github.com/optuna/optuna/releases/tag/v3.0.0. Use :func:`~optuna.trial.Trial.suggest_float` instead.\n",
            "  reg_alpha = trial.suggest_loguniform(\"reg_alpha\", 1e-8, 100.0)\n",
            "\u001b[32m[I 2023-04-29 15:23:44,208]\u001b[0m Trial 21 finished with value: 4.414182957581479 and parameters: {'learning_rate': 0.029723386540009406, 'reg_lambda': 4.5635006789963095e-05, 'reg_alpha': 57.324263689718975, 'subsample': 0.6521685229298144, 'colsample_bytree': 0.5415459716195707, 'max_depth': 5, 'n_estimators': 1530}. Best is trial 1 with value: 4.37555884175738.\u001b[0m\n"
          ]
        },
        {
          "name": "stdout",
          "output_type": "stream",
          "text": [
            "Mean Absolute Error :  4.414182957581479\n",
            "R2_score :  0.7295748556805105\n"
          ]
        },
        {
          "name": "stderr",
          "output_type": "stream",
          "text": [
            "C:\\Users\\nshre\\AppData\\Local\\Temp\\ipykernel_12852\\719259616.py:5: FutureWarning: suggest_loguniform has been deprecated in v3.0.0. This feature will be removed in v6.0.0. See https://github.com/optuna/optuna/releases/tag/v3.0.0. Use :func:`~optuna.trial.Trial.suggest_float` instead.\n",
            "  reg_lambda = trial.suggest_loguniform(\"reg_lambda\", 1e-8, 100.0)\n",
            "C:\\Users\\nshre\\AppData\\Local\\Temp\\ipykernel_12852\\719259616.py:6: FutureWarning: suggest_loguniform has been deprecated in v3.0.0. This feature will be removed in v6.0.0. See https://github.com/optuna/optuna/releases/tag/v3.0.0. Use :func:`~optuna.trial.Trial.suggest_float` instead.\n",
            "  reg_alpha = trial.suggest_loguniform(\"reg_alpha\", 1e-8, 100.0)\n",
            "\u001b[32m[I 2023-04-29 15:24:34,616]\u001b[0m Trial 22 finished with value: 4.16206846602308 and parameters: {'learning_rate': 0.030899569144436076, 'reg_lambda': 5.602972645831192e-05, 'reg_alpha': 36.071524272788935, 'subsample': 0.6530854963857263, 'colsample_bytree': 0.4995139480338302, 'max_depth': 5, 'n_estimators': 585}. Best is trial 22 with value: 4.16206846602308.\u001b[0m\n"
          ]
        },
        {
          "name": "stdout",
          "output_type": "stream",
          "text": [
            "Mean Absolute Error :  4.16206846602308\n",
            "R2_score :  0.7524943906343082\n"
          ]
        },
        {
          "name": "stderr",
          "output_type": "stream",
          "text": [
            "C:\\Users\\nshre\\AppData\\Local\\Temp\\ipykernel_12852\\719259616.py:5: FutureWarning: suggest_loguniform has been deprecated in v3.0.0. This feature will be removed in v6.0.0. See https://github.com/optuna/optuna/releases/tag/v3.0.0. Use :func:`~optuna.trial.Trial.suggest_float` instead.\n",
            "  reg_lambda = trial.suggest_loguniform(\"reg_lambda\", 1e-8, 100.0)\n",
            "C:\\Users\\nshre\\AppData\\Local\\Temp\\ipykernel_12852\\719259616.py:6: FutureWarning: suggest_loguniform has been deprecated in v3.0.0. This feature will be removed in v6.0.0. See https://github.com/optuna/optuna/releases/tag/v3.0.0. Use :func:`~optuna.trial.Trial.suggest_float` instead.\n",
            "  reg_alpha = trial.suggest_loguniform(\"reg_alpha\", 1e-8, 100.0)\n",
            "\u001b[32m[I 2023-04-29 15:25:03,607]\u001b[0m Trial 23 finished with value: 4.38973422855411 and parameters: {'learning_rate': 0.017163007580703913, 'reg_lambda': 0.0016049584622673757, 'reg_alpha': 5.598771983444693, 'subsample': 0.7553138125327648, 'colsample_bytree': 0.34749782748917635, 'max_depth': 5, 'n_estimators': 393}. Best is trial 22 with value: 4.16206846602308.\u001b[0m\n"
          ]
        },
        {
          "name": "stdout",
          "output_type": "stream",
          "text": [
            "Mean Absolute Error :  4.38973422855411\n",
            "R2_score :  0.7669688466688336\n"
          ]
        },
        {
          "name": "stderr",
          "output_type": "stream",
          "text": [
            "C:\\Users\\nshre\\AppData\\Local\\Temp\\ipykernel_12852\\719259616.py:5: FutureWarning: suggest_loguniform has been deprecated in v3.0.0. This feature will be removed in v6.0.0. See https://github.com/optuna/optuna/releases/tag/v3.0.0. Use :func:`~optuna.trial.Trial.suggest_float` instead.\n",
            "  reg_lambda = trial.suggest_loguniform(\"reg_lambda\", 1e-8, 100.0)\n",
            "C:\\Users\\nshre\\AppData\\Local\\Temp\\ipykernel_12852\\719259616.py:6: FutureWarning: suggest_loguniform has been deprecated in v3.0.0. This feature will be removed in v6.0.0. See https://github.com/optuna/optuna/releases/tag/v3.0.0. Use :func:`~optuna.trial.Trial.suggest_float` instead.\n",
            "  reg_alpha = trial.suggest_loguniform(\"reg_alpha\", 1e-8, 100.0)\n",
            "\u001b[32m[I 2023-04-29 15:25:26,466]\u001b[0m Trial 24 finished with value: 4.452039583893925 and parameters: {'learning_rate': 0.03509657806928665, 'reg_lambda': 0.0009257683647484289, 'reg_alpha': 3.5202753065987493, 'subsample': 0.7393864112984442, 'colsample_bytree': 0.33617502750522643, 'max_depth': 4, 'n_estimators': 355}. Best is trial 22 with value: 4.16206846602308.\u001b[0m\n"
          ]
        },
        {
          "name": "stdout",
          "output_type": "stream",
          "text": [
            "Mean Absolute Error :  4.452039583893925\n",
            "R2_score :  0.7589972403517342\n"
          ]
        },
        {
          "name": "stderr",
          "output_type": "stream",
          "text": [
            "C:\\Users\\nshre\\AppData\\Local\\Temp\\ipykernel_12852\\719259616.py:5: FutureWarning: suggest_loguniform has been deprecated in v3.0.0. This feature will be removed in v6.0.0. See https://github.com/optuna/optuna/releases/tag/v3.0.0. Use :func:`~optuna.trial.Trial.suggest_float` instead.\n",
            "  reg_lambda = trial.suggest_loguniform(\"reg_lambda\", 1e-8, 100.0)\n",
            "C:\\Users\\nshre\\AppData\\Local\\Temp\\ipykernel_12852\\719259616.py:6: FutureWarning: suggest_loguniform has been deprecated in v3.0.0. This feature will be removed in v6.0.0. See https://github.com/optuna/optuna/releases/tag/v3.0.0. Use :func:`~optuna.trial.Trial.suggest_float` instead.\n",
            "  reg_alpha = trial.suggest_loguniform(\"reg_alpha\", 1e-8, 100.0)\n",
            "\u001b[32m[I 2023-04-29 15:25:29,287]\u001b[0m Trial 25 finished with value: 11.022509490011672 and parameters: {'learning_rate': 0.010970652304149533, 'reg_lambda': 0.0051398126041990455, 'reg_alpha': 3.526588185877139, 'subsample': 0.6270438848786655, 'colsample_bytree': 0.23955194360159904, 'max_depth': 5, 'n_estimators': 35}. Best is trial 22 with value: 4.16206846602308.\u001b[0m\n"
          ]
        },
        {
          "name": "stdout",
          "output_type": "stream",
          "text": [
            "Mean Absolute Error :  11.022509490011672\n",
            "R2_score :  0.12806585527071734\n"
          ]
        },
        {
          "name": "stderr",
          "output_type": "stream",
          "text": [
            "C:\\Users\\nshre\\AppData\\Local\\Temp\\ipykernel_12852\\719259616.py:5: FutureWarning: suggest_loguniform has been deprecated in v3.0.0. This feature will be removed in v6.0.0. See https://github.com/optuna/optuna/releases/tag/v3.0.0. Use :func:`~optuna.trial.Trial.suggest_float` instead.\n",
            "  reg_lambda = trial.suggest_loguniform(\"reg_lambda\", 1e-8, 100.0)\n",
            "C:\\Users\\nshre\\AppData\\Local\\Temp\\ipykernel_12852\\719259616.py:6: FutureWarning: suggest_loguniform has been deprecated in v3.0.0. This feature will be removed in v6.0.0. See https://github.com/optuna/optuna/releases/tag/v3.0.0. Use :func:`~optuna.trial.Trial.suggest_float` instead.\n",
            "  reg_alpha = trial.suggest_loguniform(\"reg_alpha\", 1e-8, 100.0)\n",
            "\u001b[32m[I 2023-04-29 15:26:34,999]\u001b[0m Trial 26 finished with value: 4.370567402891388 and parameters: {'learning_rate': 0.02699229892641566, 'reg_lambda': 0.00016100356387594708, 'reg_alpha': 11.879967461336992, 'subsample': 0.7158436554054788, 'colsample_bytree': 0.3801427786438073, 'max_depth': 6, 'n_estimators': 668}. Best is trial 22 with value: 4.16206846602308.\u001b[0m\n"
          ]
        },
        {
          "name": "stdout",
          "output_type": "stream",
          "text": [
            "Mean Absolute Error :  4.370567402891388\n",
            "R2_score :  0.7590264123876233\n"
          ]
        },
        {
          "name": "stderr",
          "output_type": "stream",
          "text": [
            "C:\\Users\\nshre\\AppData\\Local\\Temp\\ipykernel_12852\\719259616.py:5: FutureWarning: suggest_loguniform has been deprecated in v3.0.0. This feature will be removed in v6.0.0. See https://github.com/optuna/optuna/releases/tag/v3.0.0. Use :func:`~optuna.trial.Trial.suggest_float` instead.\n",
            "  reg_lambda = trial.suggest_loguniform(\"reg_lambda\", 1e-8, 100.0)\n",
            "C:\\Users\\nshre\\AppData\\Local\\Temp\\ipykernel_12852\\719259616.py:6: FutureWarning: suggest_loguniform has been deprecated in v3.0.0. This feature will be removed in v6.0.0. See https://github.com/optuna/optuna/releases/tag/v3.0.0. Use :func:`~optuna.trial.Trial.suggest_float` instead.\n",
            "  reg_alpha = trial.suggest_loguniform(\"reg_alpha\", 1e-8, 100.0)\n",
            "\u001b[32m[I 2023-04-29 15:28:01,032]\u001b[0m Trial 27 finished with value: 4.386246209050042 and parameters: {'learning_rate': 0.026550288093056526, 'reg_lambda': 0.00021019593476522382, 'reg_alpha': 30.75457392537315, 'subsample': 0.6964318965838936, 'colsample_bytree': 0.39584776073201683, 'max_depth': 6, 'n_estimators': 797}. Best is trial 22 with value: 4.16206846602308.\u001b[0m\n"
          ]
        },
        {
          "name": "stdout",
          "output_type": "stream",
          "text": [
            "Mean Absolute Error :  4.386246209050042\n",
            "R2_score :  0.7593866114558462\n"
          ]
        },
        {
          "name": "stderr",
          "output_type": "stream",
          "text": [
            "C:\\Users\\nshre\\AppData\\Local\\Temp\\ipykernel_12852\\719259616.py:5: FutureWarning: suggest_loguniform has been deprecated in v3.0.0. This feature will be removed in v6.0.0. See https://github.com/optuna/optuna/releases/tag/v3.0.0. Use :func:`~optuna.trial.Trial.suggest_float` instead.\n",
            "  reg_lambda = trial.suggest_loguniform(\"reg_lambda\", 1e-8, 100.0)\n",
            "C:\\Users\\nshre\\AppData\\Local\\Temp\\ipykernel_12852\\719259616.py:6: FutureWarning: suggest_loguniform has been deprecated in v3.0.0. This feature will be removed in v6.0.0. See https://github.com/optuna/optuna/releases/tag/v3.0.0. Use :func:`~optuna.trial.Trial.suggest_float` instead.\n",
            "  reg_alpha = trial.suggest_loguniform(\"reg_alpha\", 1e-8, 100.0)\n",
            "\u001b[32m[I 2023-04-29 15:29:12,606]\u001b[0m Trial 28 finished with value: 4.409622182285922 and parameters: {'learning_rate': 0.03913916647192389, 'reg_lambda': 6.844263241858075e-06, 'reg_alpha': 0.2564504982036819, 'subsample': 0.6161134313129298, 'colsample_bytree': 0.4999867077318635, 'max_depth': 6, 'n_estimators': 485}. Best is trial 22 with value: 4.16206846602308.\u001b[0m\n"
          ]
        },
        {
          "name": "stdout",
          "output_type": "stream",
          "text": [
            "Mean Absolute Error :  4.409622182285922\n",
            "R2_score :  0.7398960823438403\n"
          ]
        },
        {
          "name": "stderr",
          "output_type": "stream",
          "text": [
            "C:\\Users\\nshre\\AppData\\Local\\Temp\\ipykernel_12852\\719259616.py:5: FutureWarning: suggest_loguniform has been deprecated in v3.0.0. This feature will be removed in v6.0.0. See https://github.com/optuna/optuna/releases/tag/v3.0.0. Use :func:`~optuna.trial.Trial.suggest_float` instead.\n",
            "  reg_lambda = trial.suggest_loguniform(\"reg_lambda\", 1e-8, 100.0)\n",
            "C:\\Users\\nshre\\AppData\\Local\\Temp\\ipykernel_12852\\719259616.py:6: FutureWarning: suggest_loguniform has been deprecated in v3.0.0. This feature will be removed in v6.0.0. See https://github.com/optuna/optuna/releases/tag/v3.0.0. Use :func:`~optuna.trial.Trial.suggest_float` instead.\n",
            "  reg_alpha = trial.suggest_loguniform(\"reg_alpha\", 1e-8, 100.0)\n",
            "\u001b[32m[I 2023-04-29 15:29:44,094]\u001b[0m Trial 29 finished with value: 5.452584033303764 and parameters: {'learning_rate': 0.047418805026620575, 'reg_lambda': 0.06741119800221529, 'reg_alpha': 15.307158610539174, 'subsample': 0.48505318634446026, 'colsample_bytree': 0.28656194863005585, 'max_depth': 6, 'n_estimators': 244}. Best is trial 22 with value: 4.16206846602308.\u001b[0m\n"
          ]
        },
        {
          "name": "stdout",
          "output_type": "stream",
          "text": [
            "Mean Absolute Error :  5.452584033303764\n",
            "R2_score :  0.758917240880584\n"
          ]
        },
        {
          "name": "stderr",
          "output_type": "stream",
          "text": [
            "C:\\Users\\nshre\\AppData\\Local\\Temp\\ipykernel_12852\\719259616.py:5: FutureWarning: suggest_loguniform has been deprecated in v3.0.0. This feature will be removed in v6.0.0. See https://github.com/optuna/optuna/releases/tag/v3.0.0. Use :func:`~optuna.trial.Trial.suggest_float` instead.\n",
            "  reg_lambda = trial.suggest_loguniform(\"reg_lambda\", 1e-8, 100.0)\n",
            "C:\\Users\\nshre\\AppData\\Local\\Temp\\ipykernel_12852\\719259616.py:6: FutureWarning: suggest_loguniform has been deprecated in v3.0.0. This feature will be removed in v6.0.0. See https://github.com/optuna/optuna/releases/tag/v3.0.0. Use :func:`~optuna.trial.Trial.suggest_float` instead.\n",
            "  reg_alpha = trial.suggest_loguniform(\"reg_alpha\", 1e-8, 100.0)\n",
            "\u001b[32m[I 2023-04-29 15:30:49,041]\u001b[0m Trial 30 finished with value: 4.66906052827371 and parameters: {'learning_rate': 0.03302518646850048, 'reg_lambda': 0.00023026454461969335, 'reg_alpha': 1.412580595281687, 'subsample': 0.44361583014676687, 'colsample_bytree': 0.41351119007989745, 'max_depth': 3, 'n_estimators': 935}. Best is trial 22 with value: 4.16206846602308.\u001b[0m\n"
          ]
        },
        {
          "name": "stdout",
          "output_type": "stream",
          "text": [
            "Mean Absolute Error :  4.66906052827371\n",
            "R2_score :  0.752124758861517\n"
          ]
        },
        {
          "name": "stderr",
          "output_type": "stream",
          "text": [
            "C:\\Users\\nshre\\AppData\\Local\\Temp\\ipykernel_12852\\719259616.py:5: FutureWarning: suggest_loguniform has been deprecated in v3.0.0. This feature will be removed in v6.0.0. See https://github.com/optuna/optuna/releases/tag/v3.0.0. Use :func:`~optuna.trial.Trial.suggest_float` instead.\n",
            "  reg_lambda = trial.suggest_loguniform(\"reg_lambda\", 1e-8, 100.0)\n",
            "C:\\Users\\nshre\\AppData\\Local\\Temp\\ipykernel_12852\\719259616.py:6: FutureWarning: suggest_loguniform has been deprecated in v3.0.0. This feature will be removed in v6.0.0. See https://github.com/optuna/optuna/releases/tag/v3.0.0. Use :func:`~optuna.trial.Trial.suggest_float` instead.\n",
            "  reg_alpha = trial.suggest_loguniform(\"reg_alpha\", 1e-8, 100.0)\n",
            "\u001b[32m[I 2023-04-29 15:32:09,933]\u001b[0m Trial 31 finished with value: 4.555563514582846 and parameters: {'learning_rate': 0.027658043703990165, 'reg_lambda': 0.00010758856671957315, 'reg_alpha': 22.275398701418908, 'subsample': 0.6946228704740551, 'colsample_bytree': 0.3940359931873895, 'max_depth': 6, 'n_estimators': 722}. Best is trial 22 with value: 4.16206846602308.\u001b[0m\n"
          ]
        },
        {
          "name": "stdout",
          "output_type": "stream",
          "text": [
            "Mean Absolute Error :  4.555563514582846\n",
            "R2_score :  0.754623380046116\n"
          ]
        },
        {
          "name": "stderr",
          "output_type": "stream",
          "text": [
            "C:\\Users\\nshre\\AppData\\Local\\Temp\\ipykernel_12852\\719259616.py:5: FutureWarning: suggest_loguniform has been deprecated in v3.0.0. This feature will be removed in v6.0.0. See https://github.com/optuna/optuna/releases/tag/v3.0.0. Use :func:`~optuna.trial.Trial.suggest_float` instead.\n",
            "  reg_lambda = trial.suggest_loguniform(\"reg_lambda\", 1e-8, 100.0)\n",
            "C:\\Users\\nshre\\AppData\\Local\\Temp\\ipykernel_12852\\719259616.py:6: FutureWarning: suggest_loguniform has been deprecated in v3.0.0. This feature will be removed in v6.0.0. See https://github.com/optuna/optuna/releases/tag/v3.0.0. Use :func:`~optuna.trial.Trial.suggest_float` instead.\n",
            "  reg_alpha = trial.suggest_loguniform(\"reg_alpha\", 1e-8, 100.0)\n",
            "\u001b[32m[I 2023-04-29 15:33:31,777]\u001b[0m Trial 32 finished with value: 4.34299317114551 and parameters: {'learning_rate': 0.026797594821316894, 'reg_lambda': 0.0002564060457360141, 'reg_alpha': 76.6949820877262, 'subsample': 0.6145906762669788, 'colsample_bytree': 0.47278256406827796, 'max_depth': 6, 'n_estimators': 837}. Best is trial 22 with value: 4.16206846602308.\u001b[0m\n"
          ]
        },
        {
          "name": "stdout",
          "output_type": "stream",
          "text": [
            "Mean Absolute Error :  4.34299317114551\n",
            "R2_score :  0.750086223066412\n"
          ]
        },
        {
          "name": "stderr",
          "output_type": "stream",
          "text": [
            "C:\\Users\\nshre\\AppData\\Local\\Temp\\ipykernel_12852\\719259616.py:5: FutureWarning: suggest_loguniform has been deprecated in v3.0.0. This feature will be removed in v6.0.0. See https://github.com/optuna/optuna/releases/tag/v3.0.0. Use :func:`~optuna.trial.Trial.suggest_float` instead.\n",
            "  reg_lambda = trial.suggest_loguniform(\"reg_lambda\", 1e-8, 100.0)\n",
            "C:\\Users\\nshre\\AppData\\Local\\Temp\\ipykernel_12852\\719259616.py:6: FutureWarning: suggest_loguniform has been deprecated in v3.0.0. This feature will be removed in v6.0.0. See https://github.com/optuna/optuna/releases/tag/v3.0.0. Use :func:`~optuna.trial.Trial.suggest_float` instead.\n",
            "  reg_alpha = trial.suggest_loguniform(\"reg_alpha\", 1e-8, 100.0)\n",
            "\u001b[32m[I 2023-04-29 15:33:51,294]\u001b[0m Trial 33 finished with value: 4.4858745930537225 and parameters: {'learning_rate': 0.0227581571982003, 'reg_lambda': 0.0018599694533991693, 'reg_alpha': 89.06895052512989, 'subsample': 0.6133987814833736, 'colsample_bytree': 0.4886165366130381, 'max_depth': 6, 'n_estimators': 202}. Best is trial 22 with value: 4.16206846602308.\u001b[0m\n"
          ]
        },
        {
          "name": "stdout",
          "output_type": "stream",
          "text": [
            "Mean Absolute Error :  4.4858745930537225\n",
            "R2_score :  0.7551726813447495\n"
          ]
        },
        {
          "name": "stderr",
          "output_type": "stream",
          "text": [
            "C:\\Users\\nshre\\AppData\\Local\\Temp\\ipykernel_12852\\719259616.py:5: FutureWarning: suggest_loguniform has been deprecated in v3.0.0. This feature will be removed in v6.0.0. See https://github.com/optuna/optuna/releases/tag/v3.0.0. Use :func:`~optuna.trial.Trial.suggest_float` instead.\n",
            "  reg_lambda = trial.suggest_loguniform(\"reg_lambda\", 1e-8, 100.0)\n",
            "C:\\Users\\nshre\\AppData\\Local\\Temp\\ipykernel_12852\\719259616.py:6: FutureWarning: suggest_loguniform has been deprecated in v3.0.0. This feature will be removed in v6.0.0. See https://github.com/optuna/optuna/releases/tag/v3.0.0. Use :func:`~optuna.trial.Trial.suggest_float` instead.\n",
            "  reg_alpha = trial.suggest_loguniform(\"reg_alpha\", 1e-8, 100.0)\n",
            "\u001b[32m[I 2023-04-29 15:35:01,726]\u001b[0m Trial 34 finished with value: 5.299714149304696 and parameters: {'learning_rate': 0.036987963179830476, 'reg_lambda': 0.00046469390861853264, 'reg_alpha': 18.42646399212349, 'subsample': 0.571630535200394, 'colsample_bytree': 0.1661875440456722, 'max_depth': 6, 'n_estimators': 1028}. Best is trial 22 with value: 4.16206846602308.\u001b[0m\n"
          ]
        },
        {
          "name": "stdout",
          "output_type": "stream",
          "text": [
            "Mean Absolute Error :  5.299714149304696\n",
            "R2_score :  0.7599823692970771\n"
          ]
        },
        {
          "name": "stderr",
          "output_type": "stream",
          "text": [
            "C:\\Users\\nshre\\AppData\\Local\\Temp\\ipykernel_12852\\719259616.py:5: FutureWarning: suggest_loguniform has been deprecated in v3.0.0. This feature will be removed in v6.0.0. See https://github.com/optuna/optuna/releases/tag/v3.0.0. Use :func:`~optuna.trial.Trial.suggest_float` instead.\n",
            "  reg_lambda = trial.suggest_loguniform(\"reg_lambda\", 1e-8, 100.0)\n",
            "C:\\Users\\nshre\\AppData\\Local\\Temp\\ipykernel_12852\\719259616.py:6: FutureWarning: suggest_loguniform has been deprecated in v3.0.0. This feature will be removed in v6.0.0. See https://github.com/optuna/optuna/releases/tag/v3.0.0. Use :func:`~optuna.trial.Trial.suggest_float` instead.\n",
            "  reg_alpha = trial.suggest_loguniform(\"reg_alpha\", 1e-8, 100.0)\n",
            "\u001b[32m[I 2023-04-29 15:36:13,044]\u001b[0m Trial 35 finished with value: 4.914944675185423 and parameters: {'learning_rate': 0.030790242788511314, 'reg_lambda': 1.748077456336655e-05, 'reg_alpha': 94.1946482090506, 'subsample': 0.7920290059179739, 'colsample_bytree': 0.32019024682464825, 'max_depth': 3, 'n_estimators': 1362}. Best is trial 22 with value: 4.16206846602308.\u001b[0m\n"
          ]
        },
        {
          "name": "stdout",
          "output_type": "stream",
          "text": [
            "Mean Absolute Error :  4.914944675185423\n",
            "R2_score :  0.7623985806248748\n"
          ]
        },
        {
          "name": "stderr",
          "output_type": "stream",
          "text": [
            "C:\\Users\\nshre\\AppData\\Local\\Temp\\ipykernel_12852\\719259616.py:5: FutureWarning: suggest_loguniform has been deprecated in v3.0.0. This feature will be removed in v6.0.0. See https://github.com/optuna/optuna/releases/tag/v3.0.0. Use :func:`~optuna.trial.Trial.suggest_float` instead.\n",
            "  reg_lambda = trial.suggest_loguniform(\"reg_lambda\", 1e-8, 100.0)\n",
            "C:\\Users\\nshre\\AppData\\Local\\Temp\\ipykernel_12852\\719259616.py:6: FutureWarning: suggest_loguniform has been deprecated in v3.0.0. This feature will be removed in v6.0.0. See https://github.com/optuna/optuna/releases/tag/v3.0.0. Use :func:`~optuna.trial.Trial.suggest_float` instead.\n",
            "  reg_alpha = trial.suggest_loguniform(\"reg_alpha\", 1e-8, 100.0)\n",
            "\u001b[32m[I 2023-04-29 15:37:09,942]\u001b[0m Trial 36 finished with value: 4.80031801964555 and parameters: {'learning_rate': 0.07292816644426295, 'reg_lambda': 8.170996853619417e-05, 'reg_alpha': 6.3863989063216104, 'subsample': 0.6715318454096648, 'colsample_bytree': 0.601366615561174, 'max_depth': 6, 'n_estimators': 529}. Best is trial 22 with value: 4.16206846602308.\u001b[0m\n"
          ]
        },
        {
          "name": "stdout",
          "output_type": "stream",
          "text": [
            "Mean Absolute Error :  4.80031801964555\n",
            "R2_score :  0.6866329071328003\n"
          ]
        },
        {
          "name": "stderr",
          "output_type": "stream",
          "text": [
            "C:\\Users\\nshre\\AppData\\Local\\Temp\\ipykernel_12852\\719259616.py:5: FutureWarning: suggest_loguniform has been deprecated in v3.0.0. This feature will be removed in v6.0.0. See https://github.com/optuna/optuna/releases/tag/v3.0.0. Use :func:`~optuna.trial.Trial.suggest_float` instead.\n",
            "  reg_lambda = trial.suggest_loguniform(\"reg_lambda\", 1e-8, 100.0)\n",
            "C:\\Users\\nshre\\AppData\\Local\\Temp\\ipykernel_12852\\719259616.py:6: FutureWarning: suggest_loguniform has been deprecated in v3.0.0. This feature will be removed in v6.0.0. See https://github.com/optuna/optuna/releases/tag/v3.0.0. Use :func:`~optuna.trial.Trial.suggest_float` instead.\n",
            "  reg_alpha = trial.suggest_loguniform(\"reg_alpha\", 1e-8, 100.0)\n",
            "\u001b[32m[I 2023-04-29 15:38:21,024]\u001b[0m Trial 37 finished with value: 4.996640815685249 and parameters: {'learning_rate': 0.09203017753952292, 'reg_lambda': 1.7136449551526287e-06, 'reg_alpha': 0.9388516345293361, 'subsample': 0.5404965329688156, 'colsample_bytree': 0.5224150983303405, 'max_depth': 5, 'n_estimators': 806}. Best is trial 22 with value: 4.16206846602308.\u001b[0m\n"
          ]
        },
        {
          "name": "stdout",
          "output_type": "stream",
          "text": [
            "Mean Absolute Error :  4.996640815685249\n",
            "R2_score :  0.686964514892371\n"
          ]
        },
        {
          "name": "stderr",
          "output_type": "stream",
          "text": [
            "C:\\Users\\nshre\\AppData\\Local\\Temp\\ipykernel_12852\\719259616.py:5: FutureWarning: suggest_loguniform has been deprecated in v3.0.0. This feature will be removed in v6.0.0. See https://github.com/optuna/optuna/releases/tag/v3.0.0. Use :func:`~optuna.trial.Trial.suggest_float` instead.\n",
            "  reg_lambda = trial.suggest_loguniform(\"reg_lambda\", 1e-8, 100.0)\n",
            "C:\\Users\\nshre\\AppData\\Local\\Temp\\ipykernel_12852\\719259616.py:6: FutureWarning: suggest_loguniform has been deprecated in v3.0.0. This feature will be removed in v6.0.0. See https://github.com/optuna/optuna/releases/tag/v3.0.0. Use :func:`~optuna.trial.Trial.suggest_float` instead.\n",
            "  reg_alpha = trial.suggest_loguniform(\"reg_alpha\", 1e-8, 100.0)\n",
            "\u001b[32m[I 2023-04-29 15:38:46,757]\u001b[0m Trial 38 finished with value: 4.3541906510846005 and parameters: {'learning_rate': 0.0862157449837759, 'reg_lambda': 3.081623986935537e-05, 'reg_alpha': 12.427626587452988, 'subsample': 0.717426360651229, 'colsample_bytree': 0.4522452025645343, 'max_depth': 6, 'n_estimators': 246}. Best is trial 22 with value: 4.16206846602308.\u001b[0m\n"
          ]
        },
        {
          "name": "stdout",
          "output_type": "stream",
          "text": [
            "Mean Absolute Error :  4.3541906510846005\n",
            "R2_score :  0.7445050394158561\n"
          ]
        },
        {
          "name": "stderr",
          "output_type": "stream",
          "text": [
            "C:\\Users\\nshre\\AppData\\Local\\Temp\\ipykernel_12852\\719259616.py:5: FutureWarning: suggest_loguniform has been deprecated in v3.0.0. This feature will be removed in v6.0.0. See https://github.com/optuna/optuna/releases/tag/v3.0.0. Use :func:`~optuna.trial.Trial.suggest_float` instead.\n",
            "  reg_lambda = trial.suggest_loguniform(\"reg_lambda\", 1e-8, 100.0)\n",
            "C:\\Users\\nshre\\AppData\\Local\\Temp\\ipykernel_12852\\719259616.py:6: FutureWarning: suggest_loguniform has been deprecated in v3.0.0. This feature will be removed in v6.0.0. See https://github.com/optuna/optuna/releases/tag/v3.0.0. Use :func:`~optuna.trial.Trial.suggest_float` instead.\n",
            "  reg_alpha = trial.suggest_loguniform(\"reg_alpha\", 1e-8, 100.0)\n",
            "\u001b[32m[I 2023-04-29 15:39:20,848]\u001b[0m Trial 39 finished with value: 5.137115658577089 and parameters: {'learning_rate': 0.08491702354015329, 'reg_lambda': 1.4690069071035517e-05, 'reg_alpha': 11.920251518394666, 'subsample': 0.7043986189044606, 'colsample_bytree': 0.27533252184161994, 'max_depth': 6, 'n_estimators': 386}. Best is trial 22 with value: 4.16206846602308.\u001b[0m\n"
          ]
        },
        {
          "name": "stdout",
          "output_type": "stream",
          "text": [
            "Mean Absolute Error :  5.137115658577089\n",
            "R2_score :  0.7568061878488215\n"
          ]
        },
        {
          "name": "stderr",
          "output_type": "stream",
          "text": [
            "C:\\Users\\nshre\\AppData\\Local\\Temp\\ipykernel_12852\\719259616.py:5: FutureWarning: suggest_loguniform has been deprecated in v3.0.0. This feature will be removed in v6.0.0. See https://github.com/optuna/optuna/releases/tag/v3.0.0. Use :func:`~optuna.trial.Trial.suggest_float` instead.\n",
            "  reg_lambda = trial.suggest_loguniform(\"reg_lambda\", 1e-8, 100.0)\n",
            "C:\\Users\\nshre\\AppData\\Local\\Temp\\ipykernel_12852\\719259616.py:6: FutureWarning: suggest_loguniform has been deprecated in v3.0.0. This feature will be removed in v6.0.0. See https://github.com/optuna/optuna/releases/tag/v3.0.0. Use :func:`~optuna.trial.Trial.suggest_float` instead.\n",
            "  reg_alpha = trial.suggest_loguniform(\"reg_alpha\", 1e-8, 100.0)\n",
            "\u001b[32m[I 2023-04-29 15:40:27,587]\u001b[0m Trial 40 finished with value: 4.430424568482242 and parameters: {'learning_rate': 0.03326878085752285, 'reg_lambda': 3.081192224336148e-05, 'reg_alpha': 1.7356309032739714, 'subsample': 0.7847519525624512, 'colsample_bytree': 0.45673273018484306, 'max_depth': 6, 'n_estimators': 674}. Best is trial 22 with value: 4.16206846602308.\u001b[0m\n"
          ]
        },
        {
          "name": "stdout",
          "output_type": "stream",
          "text": [
            "Mean Absolute Error :  4.430424568482242\n",
            "R2_score :  0.7424285649713435\n"
          ]
        },
        {
          "name": "stderr",
          "output_type": "stream",
          "text": [
            "C:\\Users\\nshre\\AppData\\Local\\Temp\\ipykernel_12852\\719259616.py:5: FutureWarning: suggest_loguniform has been deprecated in v3.0.0. This feature will be removed in v6.0.0. See https://github.com/optuna/optuna/releases/tag/v3.0.0. Use :func:`~optuna.trial.Trial.suggest_float` instead.\n",
            "  reg_lambda = trial.suggest_loguniform(\"reg_lambda\", 1e-8, 100.0)\n",
            "C:\\Users\\nshre\\AppData\\Local\\Temp\\ipykernel_12852\\719259616.py:6: FutureWarning: suggest_loguniform has been deprecated in v3.0.0. This feature will be removed in v6.0.0. See https://github.com/optuna/optuna/releases/tag/v3.0.0. Use :func:`~optuna.trial.Trial.suggest_float` instead.\n",
            "  reg_alpha = trial.suggest_loguniform(\"reg_alpha\", 1e-8, 100.0)\n",
            "\u001b[32m[I 2023-04-29 15:40:46,092]\u001b[0m Trial 41 finished with value: 4.265181703833172 and parameters: {'learning_rate': 0.09006283209368009, 'reg_lambda': 9.321571484808277e-05, 'reg_alpha': 31.371323061753866, 'subsample': 0.6184949306956964, 'colsample_bytree': 0.5159777594625803, 'max_depth': 6, 'n_estimators': 195}. Best is trial 22 with value: 4.16206846602308.\u001b[0m\n"
          ]
        },
        {
          "name": "stdout",
          "output_type": "stream",
          "text": [
            "Mean Absolute Error :  4.265181703833172\n",
            "R2_score :  0.7335369705901376\n"
          ]
        },
        {
          "name": "stderr",
          "output_type": "stream",
          "text": [
            "C:\\Users\\nshre\\AppData\\Local\\Temp\\ipykernel_12852\\719259616.py:5: FutureWarning: suggest_loguniform has been deprecated in v3.0.0. This feature will be removed in v6.0.0. See https://github.com/optuna/optuna/releases/tag/v3.0.0. Use :func:`~optuna.trial.Trial.suggest_float` instead.\n",
            "  reg_lambda = trial.suggest_loguniform(\"reg_lambda\", 1e-8, 100.0)\n",
            "C:\\Users\\nshre\\AppData\\Local\\Temp\\ipykernel_12852\\719259616.py:6: FutureWarning: suggest_loguniform has been deprecated in v3.0.0. This feature will be removed in v6.0.0. See https://github.com/optuna/optuna/releases/tag/v3.0.0. Use :func:`~optuna.trial.Trial.suggest_float` instead.\n",
            "  reg_alpha = trial.suggest_loguniform(\"reg_alpha\", 1e-8, 100.0)\n",
            "\u001b[32m[I 2023-04-29 15:40:58,061]\u001b[0m Trial 42 finished with value: 4.354079127982873 and parameters: {'learning_rate': 0.0865147497506379, 'reg_lambda': 0.00010394892406704635, 'reg_alpha': 39.650541964801434, 'subsample': 0.5932648985888622, 'colsample_bytree': 0.4426836840816764, 'max_depth': 6, 'n_estimators': 137}. Best is trial 22 with value: 4.16206846602308.\u001b[0m\n"
          ]
        },
        {
          "name": "stdout",
          "output_type": "stream",
          "text": [
            "Mean Absolute Error :  4.354079127982873\n",
            "R2_score :  0.7511735657051752\n"
          ]
        },
        {
          "name": "stderr",
          "output_type": "stream",
          "text": [
            "C:\\Users\\nshre\\AppData\\Local\\Temp\\ipykernel_12852\\719259616.py:5: FutureWarning: suggest_loguniform has been deprecated in v3.0.0. This feature will be removed in v6.0.0. See https://github.com/optuna/optuna/releases/tag/v3.0.0. Use :func:`~optuna.trial.Trial.suggest_float` instead.\n",
            "  reg_lambda = trial.suggest_loguniform(\"reg_lambda\", 1e-8, 100.0)\n",
            "C:\\Users\\nshre\\AppData\\Local\\Temp\\ipykernel_12852\\719259616.py:6: FutureWarning: suggest_loguniform has been deprecated in v3.0.0. This feature will be removed in v6.0.0. See https://github.com/optuna/optuna/releases/tag/v3.0.0. Use :func:`~optuna.trial.Trial.suggest_float` instead.\n",
            "  reg_alpha = trial.suggest_loguniform(\"reg_alpha\", 1e-8, 100.0)\n",
            "\u001b[32m[I 2023-04-29 15:41:08,756]\u001b[0m Trial 43 finished with value: 4.3083706432649675 and parameters: {'learning_rate': 0.08771586432379344, 'reg_lambda': 7.052150522155923e-05, 'reg_alpha': 29.570415043362704, 'subsample': 0.5744740784166902, 'colsample_bytree': 0.51244913218334, 'max_depth': 6, 'n_estimators': 117}. Best is trial 22 with value: 4.16206846602308.\u001b[0m\n"
          ]
        },
        {
          "name": "stdout",
          "output_type": "stream",
          "text": [
            "Mean Absolute Error :  4.3083706432649675\n",
            "R2_score :  0.738745116602817\n"
          ]
        },
        {
          "name": "stderr",
          "output_type": "stream",
          "text": [
            "C:\\Users\\nshre\\AppData\\Local\\Temp\\ipykernel_12852\\719259616.py:5: FutureWarning: suggest_loguniform has been deprecated in v3.0.0. This feature will be removed in v6.0.0. See https://github.com/optuna/optuna/releases/tag/v3.0.0. Use :func:`~optuna.trial.Trial.suggest_float` instead.\n",
            "  reg_lambda = trial.suggest_loguniform(\"reg_lambda\", 1e-8, 100.0)\n",
            "C:\\Users\\nshre\\AppData\\Local\\Temp\\ipykernel_12852\\719259616.py:6: FutureWarning: suggest_loguniform has been deprecated in v3.0.0. This feature will be removed in v6.0.0. See https://github.com/optuna/optuna/releases/tag/v3.0.0. Use :func:`~optuna.trial.Trial.suggest_float` instead.\n",
            "  reg_alpha = trial.suggest_loguniform(\"reg_alpha\", 1e-8, 100.0)\n",
            "\u001b[32m[I 2023-04-29 15:41:21,380]\u001b[0m Trial 44 finished with value: 4.274497647648274 and parameters: {'learning_rate': 0.08168787891264208, 'reg_lambda': 0.00012961646073970544, 'reg_alpha': 36.810909382562116, 'subsample': 0.5908565765915298, 'colsample_bytree': 0.548903554846571, 'max_depth': 6, 'n_estimators': 138}. Best is trial 22 with value: 4.16206846602308.\u001b[0m\n"
          ]
        },
        {
          "name": "stdout",
          "output_type": "stream",
          "text": [
            "Mean Absolute Error :  4.274497647648274\n",
            "R2_score :  0.7378594044683048\n"
          ]
        },
        {
          "name": "stderr",
          "output_type": "stream",
          "text": [
            "C:\\Users\\nshre\\AppData\\Local\\Temp\\ipykernel_12852\\719259616.py:5: FutureWarning: suggest_loguniform has been deprecated in v3.0.0. This feature will be removed in v6.0.0. See https://github.com/optuna/optuna/releases/tag/v3.0.0. Use :func:`~optuna.trial.Trial.suggest_float` instead.\n",
            "  reg_lambda = trial.suggest_loguniform(\"reg_lambda\", 1e-8, 100.0)\n",
            "C:\\Users\\nshre\\AppData\\Local\\Temp\\ipykernel_12852\\719259616.py:6: FutureWarning: suggest_loguniform has been deprecated in v3.0.0. This feature will be removed in v6.0.0. See https://github.com/optuna/optuna/releases/tag/v3.0.0. Use :func:`~optuna.trial.Trial.suggest_float` instead.\n",
            "  reg_alpha = trial.suggest_loguniform(\"reg_alpha\", 1e-8, 100.0)\n",
            "\u001b[32m[I 2023-04-29 15:41:23,883]\u001b[0m Trial 45 finished with value: 5.816274106853026 and parameters: {'learning_rate': 0.08065838432965464, 'reg_lambda': 3.142692032505424e-06, 'reg_alpha': 91.18162004176678, 'subsample': 0.5122890221061458, 'colsample_bytree': 0.578828205851809, 'max_depth': 6, 'n_estimators': 22}. Best is trial 22 with value: 4.16206846602308.\u001b[0m\n"
          ]
        },
        {
          "name": "stdout",
          "output_type": "stream",
          "text": [
            "Mean Absolute Error :  5.816274106853026\n",
            "R2_score :  0.698224167874806\n"
          ]
        },
        {
          "name": "stderr",
          "output_type": "stream",
          "text": [
            "C:\\Users\\nshre\\AppData\\Local\\Temp\\ipykernel_12852\\719259616.py:5: FutureWarning: suggest_loguniform has been deprecated in v3.0.0. This feature will be removed in v6.0.0. See https://github.com/optuna/optuna/releases/tag/v3.0.0. Use :func:`~optuna.trial.Trial.suggest_float` instead.\n",
            "  reg_lambda = trial.suggest_loguniform(\"reg_lambda\", 1e-8, 100.0)\n",
            "C:\\Users\\nshre\\AppData\\Local\\Temp\\ipykernel_12852\\719259616.py:6: FutureWarning: suggest_loguniform has been deprecated in v3.0.0. This feature will be removed in v6.0.0. See https://github.com/optuna/optuna/releases/tag/v3.0.0. Use :func:`~optuna.trial.Trial.suggest_float` instead.\n",
            "  reg_alpha = trial.suggest_loguniform(\"reg_alpha\", 1e-8, 100.0)\n",
            "\u001b[32m[I 2023-04-29 15:41:54,161]\u001b[0m Trial 46 finished with value: 4.40616087264129 and parameters: {'learning_rate': 0.08961856567055707, 'reg_lambda': 1.3442497528121747e-05, 'reg_alpha': 39.16010131426144, 'subsample': 0.5710589047911794, 'colsample_bytree': 0.5407462311860841, 'max_depth': 5, 'n_estimators': 399}. Best is trial 22 with value: 4.16206846602308.\u001b[0m\n"
          ]
        },
        {
          "name": "stdout",
          "output_type": "stream",
          "text": [
            "Mean Absolute Error :  4.40616087264129\n",
            "R2_score :  0.712649442023616\n"
          ]
        },
        {
          "name": "stderr",
          "output_type": "stream",
          "text": [
            "C:\\Users\\nshre\\AppData\\Local\\Temp\\ipykernel_12852\\719259616.py:5: FutureWarning: suggest_loguniform has been deprecated in v3.0.0. This feature will be removed in v6.0.0. See https://github.com/optuna/optuna/releases/tag/v3.0.0. Use :func:`~optuna.trial.Trial.suggest_float` instead.\n",
            "  reg_lambda = trial.suggest_loguniform(\"reg_lambda\", 1e-8, 100.0)\n",
            "C:\\Users\\nshre\\AppData\\Local\\Temp\\ipykernel_12852\\719259616.py:6: FutureWarning: suggest_loguniform has been deprecated in v3.0.0. This feature will be removed in v6.0.0. See https://github.com/optuna/optuna/releases/tag/v3.0.0. Use :func:`~optuna.trial.Trial.suggest_float` instead.\n",
            "  reg_alpha = trial.suggest_loguniform(\"reg_alpha\", 1e-8, 100.0)\n",
            "\u001b[32m[I 2023-04-29 15:42:48,454]\u001b[0m Trial 47 finished with value: 4.808260285803529 and parameters: {'learning_rate': 0.09419455924601666, 'reg_lambda': 0.0004282210733403822, 'reg_alpha': 2.4358525883842916, 'subsample': 0.6402855736737838, 'colsample_bytree': 0.5140981034807655, 'max_depth': 6, 'n_estimators': 521}. Best is trial 22 with value: 4.16206846602308.\u001b[0m\n"
          ]
        },
        {
          "name": "stdout",
          "output_type": "stream",
          "text": [
            "Mean Absolute Error :  4.808260285803529\n",
            "R2_score :  0.7060323865364072\n"
          ]
        },
        {
          "name": "stderr",
          "output_type": "stream",
          "text": [
            "C:\\Users\\nshre\\AppData\\Local\\Temp\\ipykernel_12852\\719259616.py:5: FutureWarning: suggest_loguniform has been deprecated in v3.0.0. This feature will be removed in v6.0.0. See https://github.com/optuna/optuna/releases/tag/v3.0.0. Use :func:`~optuna.trial.Trial.suggest_float` instead.\n",
            "  reg_lambda = trial.suggest_loguniform(\"reg_lambda\", 1e-8, 100.0)\n",
            "C:\\Users\\nshre\\AppData\\Local\\Temp\\ipykernel_12852\\719259616.py:6: FutureWarning: suggest_loguniform has been deprecated in v3.0.0. This feature will be removed in v6.0.0. See https://github.com/optuna/optuna/releases/tag/v3.0.0. Use :func:`~optuna.trial.Trial.suggest_float` instead.\n",
            "  reg_alpha = trial.suggest_loguniform(\"reg_alpha\", 1e-8, 100.0)\n",
            "\u001b[32m[I 2023-04-29 15:43:02,188]\u001b[0m Trial 48 finished with value: 4.574980276997106 and parameters: {'learning_rate': 0.09856168657460923, 'reg_lambda': 6.554396515004641e-05, 'reg_alpha': 0.8901672790915536, 'subsample': 0.5862663826543902, 'colsample_bytree': 0.6365253899645124, 'max_depth': 5, 'n_estimators': 158}. Best is trial 22 with value: 4.16206846602308.\u001b[0m\n"
          ]
        },
        {
          "name": "stdout",
          "output_type": "stream",
          "text": [
            "Mean Absolute Error :  4.574980276997106\n",
            "R2_score :  0.6795893738667056\n"
          ]
        },
        {
          "name": "stderr",
          "output_type": "stream",
          "text": [
            "C:\\Users\\nshre\\AppData\\Local\\Temp\\ipykernel_12852\\719259616.py:5: FutureWarning: suggest_loguniform has been deprecated in v3.0.0. This feature will be removed in v6.0.0. See https://github.com/optuna/optuna/releases/tag/v3.0.0. Use :func:`~optuna.trial.Trial.suggest_float` instead.\n",
            "  reg_lambda = trial.suggest_loguniform(\"reg_lambda\", 1e-8, 100.0)\n",
            "C:\\Users\\nshre\\AppData\\Local\\Temp\\ipykernel_12852\\719259616.py:6: FutureWarning: suggest_loguniform has been deprecated in v3.0.0. This feature will be removed in v6.0.0. See https://github.com/optuna/optuna/releases/tag/v3.0.0. Use :func:`~optuna.trial.Trial.suggest_float` instead.\n",
            "  reg_alpha = trial.suggest_loguniform(\"reg_alpha\", 1e-8, 100.0)\n",
            "\u001b[32m[I 2023-04-29 15:43:36,151]\u001b[0m Trial 49 finished with value: 4.608285965194395 and parameters: {'learning_rate': 0.08080628170643483, 'reg_lambda': 4.879713547842803e-07, 'reg_alpha': 0.33116907261196377, 'subsample': 0.5076610399444756, 'colsample_bytree': 0.5801344109458466, 'max_depth': 6, 'n_estimators': 337}. Best is trial 22 with value: 4.16206846602308.\u001b[0m\n"
          ]
        },
        {
          "name": "stdout",
          "output_type": "stream",
          "text": [
            "Mean Absolute Error :  4.608285965194395\n",
            "R2_score :  0.7028053839908068\n"
          ]
        },
        {
          "name": "stderr",
          "output_type": "stream",
          "text": [
            "C:\\Users\\nshre\\AppData\\Local\\Temp\\ipykernel_12852\\719259616.py:5: FutureWarning: suggest_loguniform has been deprecated in v3.0.0. This feature will be removed in v6.0.0. See https://github.com/optuna/optuna/releases/tag/v3.0.0. Use :func:`~optuna.trial.Trial.suggest_float` instead.\n",
            "  reg_lambda = trial.suggest_loguniform(\"reg_lambda\", 1e-8, 100.0)\n",
            "C:\\Users\\nshre\\AppData\\Local\\Temp\\ipykernel_12852\\719259616.py:6: FutureWarning: suggest_loguniform has been deprecated in v3.0.0. This feature will be removed in v6.0.0. See https://github.com/optuna/optuna/releases/tag/v3.0.0. Use :func:`~optuna.trial.Trial.suggest_float` instead.\n",
            "  reg_alpha = trial.suggest_loguniform(\"reg_alpha\", 1e-8, 100.0)\n",
            "\u001b[32m[I 2023-04-29 15:43:51,209]\u001b[0m Trial 50 finished with value: 4.382142151832527 and parameters: {'learning_rate': 0.08953951989549665, 'reg_lambda': 3.0679493383562366e-06, 'reg_alpha': 5.598254553193769, 'subsample': 0.5454781566305231, 'colsample_bytree': 0.5558117398564005, 'max_depth': 6, 'n_estimators': 138}. Best is trial 22 with value: 4.16206846602308.\u001b[0m\n"
          ]
        },
        {
          "name": "stdout",
          "output_type": "stream",
          "text": [
            "Mean Absolute Error :  4.382142151832527\n",
            "R2_score :  0.7293401201117835\n"
          ]
        },
        {
          "name": "stderr",
          "output_type": "stream",
          "text": [
            "C:\\Users\\nshre\\AppData\\Local\\Temp\\ipykernel_12852\\719259616.py:5: FutureWarning: suggest_loguniform has been deprecated in v3.0.0. This feature will be removed in v6.0.0. See https://github.com/optuna/optuna/releases/tag/v3.0.0. Use :func:`~optuna.trial.Trial.suggest_float` instead.\n",
            "  reg_lambda = trial.suggest_loguniform(\"reg_lambda\", 1e-8, 100.0)\n",
            "C:\\Users\\nshre\\AppData\\Local\\Temp\\ipykernel_12852\\719259616.py:6: FutureWarning: suggest_loguniform has been deprecated in v3.0.0. This feature will be removed in v6.0.0. See https://github.com/optuna/optuna/releases/tag/v3.0.0. Use :func:`~optuna.trial.Trial.suggest_float` instead.\n",
            "  reg_alpha = trial.suggest_loguniform(\"reg_alpha\", 1e-8, 100.0)\n",
            "\u001b[32m[I 2023-04-29 15:44:07,551]\u001b[0m Trial 51 finished with value: 4.320723346542186 and parameters: {'learning_rate': 0.07217876635566452, 'reg_lambda': 9.938145268331484e-05, 'reg_alpha': 27.32063502793319, 'subsample': 0.6125282834707884, 'colsample_bytree': 0.42853210182187357, 'max_depth': 6, 'n_estimators': 147}. Best is trial 22 with value: 4.16206846602308.\u001b[0m\n"
          ]
        },
        {
          "name": "stdout",
          "output_type": "stream",
          "text": [
            "Mean Absolute Error :  4.320723346542186\n",
            "R2_score :  0.7677741584150275\n"
          ]
        },
        {
          "name": "stderr",
          "output_type": "stream",
          "text": [
            "C:\\Users\\nshre\\AppData\\Local\\Temp\\ipykernel_12852\\719259616.py:5: FutureWarning: suggest_loguniform has been deprecated in v3.0.0. This feature will be removed in v6.0.0. See https://github.com/optuna/optuna/releases/tag/v3.0.0. Use :func:`~optuna.trial.Trial.suggest_float` instead.\n",
            "  reg_lambda = trial.suggest_loguniform(\"reg_lambda\", 1e-8, 100.0)\n",
            "C:\\Users\\nshre\\AppData\\Local\\Temp\\ipykernel_12852\\719259616.py:6: FutureWarning: suggest_loguniform has been deprecated in v3.0.0. This feature will be removed in v6.0.0. See https://github.com/optuna/optuna/releases/tag/v3.0.0. Use :func:`~optuna.trial.Trial.suggest_float` instead.\n",
            "  reg_alpha = trial.suggest_loguniform(\"reg_alpha\", 1e-8, 100.0)\n",
            "\u001b[32m[I 2023-04-29 15:44:44,802]\u001b[0m Trial 52 finished with value: 4.322049629897842 and parameters: {'learning_rate': 0.07206493348975067, 'reg_lambda': 0.00016549610518195129, 'reg_alpha': 36.30551298196829, 'subsample': 0.637520161424352, 'colsample_bytree': 0.5031895503289158, 'max_depth': 6, 'n_estimators': 319}. Best is trial 22 with value: 4.16206846602308.\u001b[0m\n"
          ]
        },
        {
          "name": "stdout",
          "output_type": "stream",
          "text": [
            "Mean Absolute Error :  4.322049629897842\n",
            "R2_score :  0.7322908670175112\n"
          ]
        },
        {
          "name": "stderr",
          "output_type": "stream",
          "text": [
            "C:\\Users\\nshre\\AppData\\Local\\Temp\\ipykernel_12852\\719259616.py:5: FutureWarning: suggest_loguniform has been deprecated in v3.0.0. This feature will be removed in v6.0.0. See https://github.com/optuna/optuna/releases/tag/v3.0.0. Use :func:`~optuna.trial.Trial.suggest_float` instead.\n",
            "  reg_lambda = trial.suggest_loguniform(\"reg_lambda\", 1e-8, 100.0)\n",
            "C:\\Users\\nshre\\AppData\\Local\\Temp\\ipykernel_12852\\719259616.py:6: FutureWarning: suggest_loguniform has been deprecated in v3.0.0. This feature will be removed in v6.0.0. See https://github.com/optuna/optuna/releases/tag/v3.0.0. Use :func:`~optuna.trial.Trial.suggest_float` instead.\n",
            "  reg_alpha = trial.suggest_loguniform(\"reg_alpha\", 1e-8, 100.0)\n",
            "\u001b[32m[I 2023-04-29 15:45:10,019]\u001b[0m Trial 53 finished with value: 4.298606277181556 and parameters: {'learning_rate': 0.07364154180621085, 'reg_lambda': 9.951333906093892e-05, 'reg_alpha': 32.391712534429786, 'subsample': 0.6525482827897798, 'colsample_bytree': 0.5038705042596235, 'max_depth': 6, 'n_estimators': 267}. Best is trial 22 with value: 4.16206846602308.\u001b[0m\n"
          ]
        },
        {
          "name": "stdout",
          "output_type": "stream",
          "text": [
            "Mean Absolute Error :  4.298606277181556\n",
            "R2_score :  0.7353061547116665\n"
          ]
        },
        {
          "name": "stderr",
          "output_type": "stream",
          "text": [
            "C:\\Users\\nshre\\AppData\\Local\\Temp\\ipykernel_12852\\719259616.py:5: FutureWarning: suggest_loguniform has been deprecated in v3.0.0. This feature will be removed in v6.0.0. See https://github.com/optuna/optuna/releases/tag/v3.0.0. Use :func:`~optuna.trial.Trial.suggest_float` instead.\n",
            "  reg_lambda = trial.suggest_loguniform(\"reg_lambda\", 1e-8, 100.0)\n",
            "C:\\Users\\nshre\\AppData\\Local\\Temp\\ipykernel_12852\\719259616.py:6: FutureWarning: suggest_loguniform has been deprecated in v3.0.0. This feature will be removed in v6.0.0. See https://github.com/optuna/optuna/releases/tag/v3.0.0. Use :func:`~optuna.trial.Trial.suggest_float` instead.\n",
            "  reg_alpha = trial.suggest_loguniform(\"reg_alpha\", 1e-8, 100.0)\n",
            "\u001b[32m[I 2023-04-29 15:45:19,035]\u001b[0m Trial 54 finished with value: 4.4538692815233825 and parameters: {'learning_rate': 0.07713435428620194, 'reg_lambda': 2.9215850748934527e-05, 'reg_alpha': 12.361320695254099, 'subsample': 0.6668167588121499, 'colsample_bytree': 0.416951691937145, 'max_depth': 6, 'n_estimators': 105}. Best is trial 22 with value: 4.16206846602308.\u001b[0m\n"
          ]
        },
        {
          "name": "stdout",
          "output_type": "stream",
          "text": [
            "Mean Absolute Error :  4.4538692815233825\n",
            "R2_score :  0.771260576853233\n"
          ]
        },
        {
          "name": "stderr",
          "output_type": "stream",
          "text": [
            "C:\\Users\\nshre\\AppData\\Local\\Temp\\ipykernel_12852\\719259616.py:5: FutureWarning: suggest_loguniform has been deprecated in v3.0.0. This feature will be removed in v6.0.0. See https://github.com/optuna/optuna/releases/tag/v3.0.0. Use :func:`~optuna.trial.Trial.suggest_float` instead.\n",
            "  reg_lambda = trial.suggest_loguniform(\"reg_lambda\", 1e-8, 100.0)\n",
            "C:\\Users\\nshre\\AppData\\Local\\Temp\\ipykernel_12852\\719259616.py:6: FutureWarning: suggest_loguniform has been deprecated in v3.0.0. This feature will be removed in v6.0.0. See https://github.com/optuna/optuna/releases/tag/v3.0.0. Use :func:`~optuna.trial.Trial.suggest_float` instead.\n",
            "  reg_alpha = trial.suggest_loguniform(\"reg_alpha\", 1e-8, 100.0)\n",
            "\u001b[32m[I 2023-04-29 15:45:40,354]\u001b[0m Trial 55 finished with value: 4.448015731890351 and parameters: {'learning_rate': 0.08182598128917774, 'reg_lambda': 6.687611975465178e-05, 'reg_alpha': 5.350714066492331, 'subsample': 0.5871622606316635, 'colsample_bytree': 0.5205567513749965, 'max_depth': 6, 'n_estimators': 237}. Best is trial 22 with value: 4.16206846602308.\u001b[0m\n"
          ]
        },
        {
          "name": "stdout",
          "output_type": "stream",
          "text": [
            "Mean Absolute Error :  4.448015731890351\n",
            "R2_score :  0.7301259268573115\n"
          ]
        },
        {
          "name": "stderr",
          "output_type": "stream",
          "text": [
            "C:\\Users\\nshre\\AppData\\Local\\Temp\\ipykernel_12852\\719259616.py:5: FutureWarning: suggest_loguniform has been deprecated in v3.0.0. This feature will be removed in v6.0.0. See https://github.com/optuna/optuna/releases/tag/v3.0.0. Use :func:`~optuna.trial.Trial.suggest_float` instead.\n",
            "  reg_lambda = trial.suggest_loguniform(\"reg_lambda\", 1e-8, 100.0)\n",
            "C:\\Users\\nshre\\AppData\\Local\\Temp\\ipykernel_12852\\719259616.py:6: FutureWarning: suggest_loguniform has been deprecated in v3.0.0. This feature will be removed in v6.0.0. See https://github.com/optuna/optuna/releases/tag/v3.0.0. Use :func:`~optuna.trial.Trial.suggest_float` instead.\n",
            "  reg_alpha = trial.suggest_loguniform(\"reg_alpha\", 1e-8, 100.0)\n",
            "\u001b[32m[I 2023-04-29 15:45:42,483]\u001b[0m Trial 56 finished with value: 6.622156958928079 and parameters: {'learning_rate': 0.06946070738815664, 'reg_lambda': 8.735964381424693e-06, 'reg_alpha': 28.4274477414945, 'subsample': 0.5495753407608353, 'colsample_bytree': 0.6193310565916752, 'max_depth': 5, 'n_estimators': 20}. Best is trial 22 with value: 4.16206846602308.\u001b[0m\n"
          ]
        },
        {
          "name": "stdout",
          "output_type": "stream",
          "text": [
            "Mean Absolute Error :  6.622156958928079\n",
            "R2_score :  0.6391540693090769\n"
          ]
        },
        {
          "name": "stderr",
          "output_type": "stream",
          "text": [
            "C:\\Users\\nshre\\AppData\\Local\\Temp\\ipykernel_12852\\719259616.py:5: FutureWarning: suggest_loguniform has been deprecated in v3.0.0. This feature will be removed in v6.0.0. See https://github.com/optuna/optuna/releases/tag/v3.0.0. Use :func:`~optuna.trial.Trial.suggest_float` instead.\n",
            "  reg_lambda = trial.suggest_loguniform(\"reg_lambda\", 1e-8, 100.0)\n",
            "C:\\Users\\nshre\\AppData\\Local\\Temp\\ipykernel_12852\\719259616.py:6: FutureWarning: suggest_loguniform has been deprecated in v3.0.0. This feature will be removed in v6.0.0. See https://github.com/optuna/optuna/releases/tag/v3.0.0. Use :func:`~optuna.trial.Trial.suggest_float` instead.\n",
            "  reg_alpha = trial.suggest_loguniform(\"reg_alpha\", 1e-8, 100.0)\n",
            "\u001b[32m[I 2023-04-29 15:46:38,399]\u001b[0m Trial 57 finished with value: 4.443443428703982 and parameters: {'learning_rate': 0.06636236857798948, 'reg_lambda': 0.0006815589776174062, 'reg_alpha': 0.5536176939304908, 'subsample': 0.6589886772655184, 'colsample_bytree': 0.5730345182255399, 'max_depth': 6, 'n_estimators': 462}. Best is trial 22 with value: 4.16206846602308.\u001b[0m\n"
          ]
        },
        {
          "name": "stdout",
          "output_type": "stream",
          "text": [
            "Mean Absolute Error :  4.443443428703982\n",
            "R2_score :  0.7179695101266745\n"
          ]
        },
        {
          "name": "stderr",
          "output_type": "stream",
          "text": [
            "C:\\Users\\nshre\\AppData\\Local\\Temp\\ipykernel_12852\\719259616.py:5: FutureWarning: suggest_loguniform has been deprecated in v3.0.0. This feature will be removed in v6.0.0. See https://github.com/optuna/optuna/releases/tag/v3.0.0. Use :func:`~optuna.trial.Trial.suggest_float` instead.\n",
            "  reg_lambda = trial.suggest_loguniform(\"reg_lambda\", 1e-8, 100.0)\n",
            "C:\\Users\\nshre\\AppData\\Local\\Temp\\ipykernel_12852\\719259616.py:6: FutureWarning: suggest_loguniform has been deprecated in v3.0.0. This feature will be removed in v6.0.0. See https://github.com/optuna/optuna/releases/tag/v3.0.0. Use :func:`~optuna.trial.Trial.suggest_float` instead.\n",
            "  reg_alpha = trial.suggest_loguniform(\"reg_alpha\", 1e-8, 100.0)\n",
            "\u001b[32m[I 2023-04-29 15:47:30,159]\u001b[0m Trial 58 finished with value: 4.635923459468388 and parameters: {'learning_rate': 0.07759044545599864, 'reg_lambda': 0.0035001045818649807, 'reg_alpha': 0.0915880119794646, 'subsample': 0.6065205704884374, 'colsample_bytree': 0.46516654652772643, 'max_depth': 5, 'n_estimators': 585}. Best is trial 22 with value: 4.16206846602308.\u001b[0m\n"
          ]
        },
        {
          "name": "stdout",
          "output_type": "stream",
          "text": [
            "Mean Absolute Error :  4.635923459468388\n",
            "R2_score :  0.7230579096122622\n"
          ]
        },
        {
          "name": "stderr",
          "output_type": "stream",
          "text": [
            "C:\\Users\\nshre\\AppData\\Local\\Temp\\ipykernel_12852\\719259616.py:5: FutureWarning: suggest_loguniform has been deprecated in v3.0.0. This feature will be removed in v6.0.0. See https://github.com/optuna/optuna/releases/tag/v3.0.0. Use :func:`~optuna.trial.Trial.suggest_float` instead.\n",
            "  reg_lambda = trial.suggest_loguniform(\"reg_lambda\", 1e-8, 100.0)\n",
            "C:\\Users\\nshre\\AppData\\Local\\Temp\\ipykernel_12852\\719259616.py:6: FutureWarning: suggest_loguniform has been deprecated in v3.0.0. This feature will be removed in v6.0.0. See https://github.com/optuna/optuna/releases/tag/v3.0.0. Use :func:`~optuna.trial.Trial.suggest_float` instead.\n",
            "  reg_alpha = trial.suggest_loguniform(\"reg_alpha\", 1e-8, 100.0)\n",
            "\u001b[32m[I 2023-04-29 15:47:56,273]\u001b[0m Trial 59 finished with value: 4.643469812510305 and parameters: {'learning_rate': 0.08264363152171751, 'reg_lambda': 0.0007966036792914367, 'reg_alpha': 2.4060397534826166, 'subsample': 0.5195695991434268, 'colsample_bytree': 0.4270486615478562, 'max_depth': 6, 'n_estimators': 261}. Best is trial 22 with value: 4.16206846602308.\u001b[0m\n"
          ]
        },
        {
          "name": "stdout",
          "output_type": "stream",
          "text": [
            "Mean Absolute Error :  4.643469812510305\n",
            "R2_score :  0.7497860095660704\n"
          ]
        },
        {
          "name": "stderr",
          "output_type": "stream",
          "text": [
            "C:\\Users\\nshre\\AppData\\Local\\Temp\\ipykernel_12852\\719259616.py:5: FutureWarning: suggest_loguniform has been deprecated in v3.0.0. This feature will be removed in v6.0.0. See https://github.com/optuna/optuna/releases/tag/v3.0.0. Use :func:`~optuna.trial.Trial.suggest_float` instead.\n",
            "  reg_lambda = trial.suggest_loguniform(\"reg_lambda\", 1e-8, 100.0)\n",
            "C:\\Users\\nshre\\AppData\\Local\\Temp\\ipykernel_12852\\719259616.py:6: FutureWarning: suggest_loguniform has been deprecated in v3.0.0. This feature will be removed in v6.0.0. See https://github.com/optuna/optuna/releases/tag/v3.0.0. Use :func:`~optuna.trial.Trial.suggest_float` instead.\n",
            "  reg_alpha = trial.suggest_loguniform(\"reg_alpha\", 1e-8, 100.0)\n",
            "\u001b[32m[I 2023-04-29 15:51:10,783]\u001b[0m Trial 60 finished with value: 4.497823732625809 and parameters: {'learning_rate': 0.062402195410235915, 'reg_lambda': 7.151970795658751e-05, 'reg_alpha': 41.372774816790105, 'subsample': 0.6772116561208983, 'colsample_bytree': 0.6732227646731582, 'max_depth': 6, 'n_estimators': 1782}. Best is trial 22 with value: 4.16206846602308.\u001b[0m\n"
          ]
        },
        {
          "name": "stdout",
          "output_type": "stream",
          "text": [
            "Mean Absolute Error :  4.497823732625809\n",
            "R2_score :  0.6931391611806134\n"
          ]
        },
        {
          "name": "stderr",
          "output_type": "stream",
          "text": [
            "C:\\Users\\nshre\\AppData\\Local\\Temp\\ipykernel_12852\\719259616.py:5: FutureWarning: suggest_loguniform has been deprecated in v3.0.0. This feature will be removed in v6.0.0. See https://github.com/optuna/optuna/releases/tag/v3.0.0. Use :func:`~optuna.trial.Trial.suggest_float` instead.\n",
            "  reg_lambda = trial.suggest_loguniform(\"reg_lambda\", 1e-8, 100.0)\n",
            "C:\\Users\\nshre\\AppData\\Local\\Temp\\ipykernel_12852\\719259616.py:6: FutureWarning: suggest_loguniform has been deprecated in v3.0.0. This feature will be removed in v6.0.0. See https://github.com/optuna/optuna/releases/tag/v3.0.0. Use :func:`~optuna.trial.Trial.suggest_float` instead.\n",
            "  reg_alpha = trial.suggest_loguniform(\"reg_alpha\", 1e-8, 100.0)\n",
            "\u001b[32m[I 2023-04-29 15:51:37,794]\u001b[0m Trial 61 finished with value: 4.273382612810257 and parameters: {'learning_rate': 0.07348002617117197, 'reg_lambda': 0.00015649057066246857, 'reg_alpha': 32.34496171947777, 'subsample': 0.6299800502212085, 'colsample_bytree': 0.5004074588295053, 'max_depth': 6, 'n_estimators': 298}. Best is trial 22 with value: 4.16206846602308.\u001b[0m\n"
          ]
        },
        {
          "name": "stdout",
          "output_type": "stream",
          "text": [
            "Mean Absolute Error :  4.273382612810257\n",
            "R2_score :  0.7130715305702116\n"
          ]
        },
        {
          "name": "stderr",
          "output_type": "stream",
          "text": [
            "C:\\Users\\nshre\\AppData\\Local\\Temp\\ipykernel_12852\\719259616.py:5: FutureWarning: suggest_loguniform has been deprecated in v3.0.0. This feature will be removed in v6.0.0. See https://github.com/optuna/optuna/releases/tag/v3.0.0. Use :func:`~optuna.trial.Trial.suggest_float` instead.\n",
            "  reg_lambda = trial.suggest_loguniform(\"reg_lambda\", 1e-8, 100.0)\n",
            "C:\\Users\\nshre\\AppData\\Local\\Temp\\ipykernel_12852\\719259616.py:6: FutureWarning: suggest_loguniform has been deprecated in v3.0.0. This feature will be removed in v6.0.0. See https://github.com/optuna/optuna/releases/tag/v3.0.0. Use :func:`~optuna.trial.Trial.suggest_float` instead.\n",
            "  reg_alpha = trial.suggest_loguniform(\"reg_alpha\", 1e-8, 100.0)\n",
            "\u001b[32m[I 2023-04-29 15:51:49,354]\u001b[0m Trial 62 finished with value: 4.2632241002943445 and parameters: {'learning_rate': 0.07523083382832856, 'reg_lambda': 0.0002509195927318387, 'reg_alpha': 8.078226277390751, 'subsample': 0.6288097577757339, 'colsample_bytree': 0.5253791695278762, 'max_depth': 6, 'n_estimators': 124}. Best is trial 22 with value: 4.16206846602308.\u001b[0m\n"
          ]
        },
        {
          "name": "stdout",
          "output_type": "stream",
          "text": [
            "Mean Absolute Error :  4.2632241002943445\n",
            "R2_score :  0.7326839584494931\n"
          ]
        },
        {
          "name": "stderr",
          "output_type": "stream",
          "text": [
            "C:\\Users\\nshre\\AppData\\Local\\Temp\\ipykernel_12852\\719259616.py:5: FutureWarning: suggest_loguniform has been deprecated in v3.0.0. This feature will be removed in v6.0.0. See https://github.com/optuna/optuna/releases/tag/v3.0.0. Use :func:`~optuna.trial.Trial.suggest_float` instead.\n",
            "  reg_lambda = trial.suggest_loguniform(\"reg_lambda\", 1e-8, 100.0)\n",
            "C:\\Users\\nshre\\AppData\\Local\\Temp\\ipykernel_12852\\719259616.py:6: FutureWarning: suggest_loguniform has been deprecated in v3.0.0. This feature will be removed in v6.0.0. See https://github.com/optuna/optuna/releases/tag/v3.0.0. Use :func:`~optuna.trial.Trial.suggest_float` instead.\n",
            "  reg_alpha = trial.suggest_loguniform(\"reg_alpha\", 1e-8, 100.0)\n",
            "\u001b[32m[I 2023-04-29 15:52:39,184]\u001b[0m Trial 63 finished with value: 4.547632667369512 and parameters: {'learning_rate': 0.0762258231355543, 'reg_lambda': 0.000340741999037839, 'reg_alpha': 7.121707433651155, 'subsample': 0.6456641151812221, 'colsample_bytree': 0.524512656644265, 'max_depth': 6, 'n_estimators': 421}. Best is trial 22 with value: 4.16206846602308.\u001b[0m\n"
          ]
        },
        {
          "name": "stdout",
          "output_type": "stream",
          "text": [
            "Mean Absolute Error :  4.547632667369512\n",
            "R2_score :  0.7238210165339498\n"
          ]
        },
        {
          "name": "stderr",
          "output_type": "stream",
          "text": [
            "C:\\Users\\nshre\\AppData\\Local\\Temp\\ipykernel_12852\\719259616.py:5: FutureWarning: suggest_loguniform has been deprecated in v3.0.0. This feature will be removed in v6.0.0. See https://github.com/optuna/optuna/releases/tag/v3.0.0. Use :func:`~optuna.trial.Trial.suggest_float` instead.\n",
            "  reg_lambda = trial.suggest_loguniform(\"reg_lambda\", 1e-8, 100.0)\n",
            "C:\\Users\\nshre\\AppData\\Local\\Temp\\ipykernel_12852\\719259616.py:6: FutureWarning: suggest_loguniform has been deprecated in v3.0.0. This feature will be removed in v6.0.0. See https://github.com/optuna/optuna/releases/tag/v3.0.0. Use :func:`~optuna.trial.Trial.suggest_float` instead.\n",
            "  reg_alpha = trial.suggest_loguniform(\"reg_alpha\", 1e-8, 100.0)\n",
            "\u001b[32m[I 2023-04-29 15:53:15,057]\u001b[0m Trial 64 finished with value: 4.448519823047109 and parameters: {'learning_rate': 0.08027689241948374, 'reg_lambda': 0.0017809449955525874, 'reg_alpha': 9.512855552006748, 'subsample': 0.5639793771436592, 'colsample_bytree': 0.49158663571069644, 'max_depth': 6, 'n_estimators': 303}. Best is trial 22 with value: 4.16206846602308.\u001b[0m\n"
          ]
        },
        {
          "name": "stdout",
          "output_type": "stream",
          "text": [
            "Mean Absolute Error :  4.448519823047109\n",
            "R2_score :  0.7328386718224194\n"
          ]
        },
        {
          "name": "stderr",
          "output_type": "stream",
          "text": [
            "C:\\Users\\nshre\\AppData\\Local\\Temp\\ipykernel_12852\\719259616.py:5: FutureWarning: suggest_loguniform has been deprecated in v3.0.0. This feature will be removed in v6.0.0. See https://github.com/optuna/optuna/releases/tag/v3.0.0. Use :func:`~optuna.trial.Trial.suggest_float` instead.\n",
            "  reg_lambda = trial.suggest_loguniform(\"reg_lambda\", 1e-8, 100.0)\n",
            "C:\\Users\\nshre\\AppData\\Local\\Temp\\ipykernel_12852\\719259616.py:6: FutureWarning: suggest_loguniform has been deprecated in v3.0.0. This feature will be removed in v6.0.0. See https://github.com/optuna/optuna/releases/tag/v3.0.0. Use :func:`~optuna.trial.Trial.suggest_float` instead.\n",
            "  reg_alpha = trial.suggest_loguniform(\"reg_alpha\", 1e-8, 100.0)\n",
            "\u001b[32m[I 2023-04-29 15:53:49,922]\u001b[0m Trial 65 finished with value: 4.331125732778508 and parameters: {'learning_rate': 0.08438462575444312, 'reg_lambda': 0.00017816963665836125, 'reg_alpha': 4.02396355583523, 'subsample': 0.7381117761903162, 'colsample_bytree': 0.5552328563762057, 'max_depth': 4, 'n_estimators': 559}. Best is trial 22 with value: 4.16206846602308.\u001b[0m\n"
          ]
        },
        {
          "name": "stdout",
          "output_type": "stream",
          "text": [
            "Mean Absolute Error :  4.331125732778508\n",
            "R2_score :  0.7022662882998613\n"
          ]
        },
        {
          "name": "stderr",
          "output_type": "stream",
          "text": [
            "C:\\Users\\nshre\\AppData\\Local\\Temp\\ipykernel_12852\\719259616.py:5: FutureWarning: suggest_loguniform has been deprecated in v3.0.0. This feature will be removed in v6.0.0. See https://github.com/optuna/optuna/releases/tag/v3.0.0. Use :func:`~optuna.trial.Trial.suggest_float` instead.\n",
            "  reg_lambda = trial.suggest_loguniform(\"reg_lambda\", 1e-8, 100.0)\n",
            "C:\\Users\\nshre\\AppData\\Local\\Temp\\ipykernel_12852\\719259616.py:6: FutureWarning: suggest_loguniform has been deprecated in v3.0.0. This feature will be removed in v6.0.0. See https://github.com/optuna/optuna/releases/tag/v3.0.0. Use :func:`~optuna.trial.Trial.suggest_float` instead.\n",
            "  reg_alpha = trial.suggest_loguniform(\"reg_alpha\", 1e-8, 100.0)\n",
            "\u001b[32m[I 2023-04-29 15:54:00,700]\u001b[0m Trial 66 finished with value: 4.254392855450327 and parameters: {'learning_rate': 0.07555500224775527, 'reg_lambda': 2.309574248681351e-05, 'reg_alpha': 99.91990480265024, 'subsample': 0.6903191881378571, 'colsample_bytree': 0.594115371295488, 'max_depth': 6, 'n_estimators': 104}. Best is trial 22 with value: 4.16206846602308.\u001b[0m\n"
          ]
        },
        {
          "name": "stdout",
          "output_type": "stream",
          "text": [
            "Mean Absolute Error :  4.254392855450327\n",
            "R2_score :  0.7323209321883501\n"
          ]
        },
        {
          "name": "stderr",
          "output_type": "stream",
          "text": [
            "C:\\Users\\nshre\\AppData\\Local\\Temp\\ipykernel_12852\\719259616.py:5: FutureWarning: suggest_loguniform has been deprecated in v3.0.0. This feature will be removed in v6.0.0. See https://github.com/optuna/optuna/releases/tag/v3.0.0. Use :func:`~optuna.trial.Trial.suggest_float` instead.\n",
            "  reg_lambda = trial.suggest_loguniform(\"reg_lambda\", 1e-8, 100.0)\n",
            "C:\\Users\\nshre\\AppData\\Local\\Temp\\ipykernel_12852\\719259616.py:6: FutureWarning: suggest_loguniform has been deprecated in v3.0.0. This feature will be removed in v6.0.0. See https://github.com/optuna/optuna/releases/tag/v3.0.0. Use :func:`~optuna.trial.Trial.suggest_float` instead.\n",
            "  reg_alpha = trial.suggest_loguniform(\"reg_alpha\", 1e-8, 100.0)\n",
            "\u001b[32m[I 2023-04-29 15:54:28,843]\u001b[0m Trial 67 finished with value: 4.579813424204215 and parameters: {'learning_rate': 0.07390438155253846, 'reg_lambda': 2.52701259438616e-05, 'reg_alpha': 56.59172936958021, 'subsample': 0.6866183726025779, 'colsample_bytree': 0.5987200755472759, 'max_depth': 6, 'n_estimators': 286}. Best is trial 22 with value: 4.16206846602308.\u001b[0m\n"
          ]
        },
        {
          "name": "stdout",
          "output_type": "stream",
          "text": [
            "Mean Absolute Error :  4.579813424204215\n",
            "R2_score :  0.7197361484540286\n"
          ]
        },
        {
          "name": "stderr",
          "output_type": "stream",
          "text": [
            "C:\\Users\\nshre\\AppData\\Local\\Temp\\ipykernel_12852\\719259616.py:5: FutureWarning: suggest_loguniform has been deprecated in v3.0.0. This feature will be removed in v6.0.0. See https://github.com/optuna/optuna/releases/tag/v3.0.0. Use :func:`~optuna.trial.Trial.suggest_float` instead.\n",
            "  reg_lambda = trial.suggest_loguniform(\"reg_lambda\", 1e-8, 100.0)\n",
            "C:\\Users\\nshre\\AppData\\Local\\Temp\\ipykernel_12852\\719259616.py:6: FutureWarning: suggest_loguniform has been deprecated in v3.0.0. This feature will be removed in v6.0.0. See https://github.com/optuna/optuna/releases/tag/v3.0.0. Use :func:`~optuna.trial.Trial.suggest_float` instead.\n",
            "  reg_alpha = trial.suggest_loguniform(\"reg_alpha\", 1e-8, 100.0)\n",
            "\u001b[32m[I 2023-04-29 15:54:48,711]\u001b[0m Trial 68 finished with value: 4.196502887233966 and parameters: {'learning_rate': 0.07001527123734705, 'reg_lambda': 0.00038791894306115473, 'reg_alpha': 98.95371012330142, 'subsample': 0.628179169509355, 'colsample_bytree': 0.5462755630113153, 'max_depth': 6, 'n_estimators': 215}. Best is trial 22 with value: 4.16206846602308.\u001b[0m\n"
          ]
        },
        {
          "name": "stdout",
          "output_type": "stream",
          "text": [
            "Mean Absolute Error :  4.196502887233966\n",
            "R2_score :  0.7258173367482088\n"
          ]
        },
        {
          "name": "stderr",
          "output_type": "stream",
          "text": [
            "C:\\Users\\nshre\\AppData\\Local\\Temp\\ipykernel_12852\\719259616.py:5: FutureWarning: suggest_loguniform has been deprecated in v3.0.0. This feature will be removed in v6.0.0. See https://github.com/optuna/optuna/releases/tag/v3.0.0. Use :func:`~optuna.trial.Trial.suggest_float` instead.\n",
            "  reg_lambda = trial.suggest_loguniform(\"reg_lambda\", 1e-8, 100.0)\n",
            "C:\\Users\\nshre\\AppData\\Local\\Temp\\ipykernel_12852\\719259616.py:6: FutureWarning: suggest_loguniform has been deprecated in v3.0.0. This feature will be removed in v6.0.0. See https://github.com/optuna/optuna/releases/tag/v3.0.0. Use :func:`~optuna.trial.Trial.suggest_float` instead.\n",
            "  reg_alpha = trial.suggest_loguniform(\"reg_alpha\", 1e-8, 100.0)\n",
            "\u001b[32m[I 2023-04-29 15:55:29,190]\u001b[0m Trial 69 finished with value: 4.334381403229536 and parameters: {'learning_rate': 0.06818252156129706, 'reg_lambda': 0.0004143393280760942, 'reg_alpha': 87.98017018768107, 'subsample': 0.6322079294312514, 'colsample_bytree': 0.6430902014655004, 'max_depth': 5, 'n_estimators': 438}. Best is trial 22 with value: 4.16206846602308.\u001b[0m\n"
          ]
        },
        {
          "name": "stdout",
          "output_type": "stream",
          "text": [
            "Mean Absolute Error :  4.334381403229536\n",
            "R2_score :  0.7179745159099504\n"
          ]
        },
        {
          "name": "stderr",
          "output_type": "stream",
          "text": [
            "C:\\Users\\nshre\\AppData\\Local\\Temp\\ipykernel_12852\\719259616.py:5: FutureWarning: suggest_loguniform has been deprecated in v3.0.0. This feature will be removed in v6.0.0. See https://github.com/optuna/optuna/releases/tag/v3.0.0. Use :func:`~optuna.trial.Trial.suggest_float` instead.\n",
            "  reg_lambda = trial.suggest_loguniform(\"reg_lambda\", 1e-8, 100.0)\n",
            "C:\\Users\\nshre\\AppData\\Local\\Temp\\ipykernel_12852\\719259616.py:6: FutureWarning: suggest_loguniform has been deprecated in v3.0.0. This feature will be removed in v6.0.0. See https://github.com/optuna/optuna/releases/tag/v3.0.0. Use :func:`~optuna.trial.Trial.suggest_float` instead.\n",
            "  reg_alpha = trial.suggest_loguniform(\"reg_alpha\", 1e-8, 100.0)\n",
            "\u001b[32m[I 2023-04-29 15:55:54,830]\u001b[0m Trial 70 finished with value: 4.144307145683879 and parameters: {'learning_rate': 0.060874267198799376, 'reg_lambda': 0.0008196424699002651, 'reg_alpha': 14.698503071138058, 'subsample': 0.7005947696689363, 'colsample_bytree': 0.5442856655981725, 'max_depth': 6, 'n_estimators': 210}. Best is trial 70 with value: 4.144307145683879.\u001b[0m\n"
          ]
        },
        {
          "name": "stdout",
          "output_type": "stream",
          "text": [
            "Mean Absolute Error :  4.144307145683879\n",
            "R2_score :  0.7411635677250943\n"
          ]
        },
        {
          "name": "stderr",
          "output_type": "stream",
          "text": [
            "C:\\Users\\nshre\\AppData\\Local\\Temp\\ipykernel_12852\\719259616.py:5: FutureWarning: suggest_loguniform has been deprecated in v3.0.0. This feature will be removed in v6.0.0. See https://github.com/optuna/optuna/releases/tag/v3.0.0. Use :func:`~optuna.trial.Trial.suggest_float` instead.\n",
            "  reg_lambda = trial.suggest_loguniform(\"reg_lambda\", 1e-8, 100.0)\n",
            "C:\\Users\\nshre\\AppData\\Local\\Temp\\ipykernel_12852\\719259616.py:6: FutureWarning: suggest_loguniform has been deprecated in v3.0.0. This feature will be removed in v6.0.0. See https://github.com/optuna/optuna/releases/tag/v3.0.0. Use :func:`~optuna.trial.Trial.suggest_float` instead.\n",
            "  reg_alpha = trial.suggest_loguniform(\"reg_alpha\", 1e-8, 100.0)\n",
            "\u001b[32m[I 2023-04-29 15:56:05,345]\u001b[0m Trial 71 finished with value: 4.216353911262755 and parameters: {'learning_rate': 0.06209686627923121, 'reg_lambda': 0.00108033870884223, 'reg_alpha': 14.425368269472887, 'subsample': 0.7047570169460033, 'colsample_bytree': 0.5430695173707097, 'max_depth': 6, 'n_estimators': 83}. Best is trial 70 with value: 4.144307145683879.\u001b[0m\n"
          ]
        },
        {
          "name": "stdout",
          "output_type": "stream",
          "text": [
            "Mean Absolute Error :  4.216353911262755\n",
            "R2_score :  0.7447629844832471\n"
          ]
        },
        {
          "name": "stderr",
          "output_type": "stream",
          "text": [
            "C:\\Users\\nshre\\AppData\\Local\\Temp\\ipykernel_12852\\719259616.py:5: FutureWarning: suggest_loguniform has been deprecated in v3.0.0. This feature will be removed in v6.0.0. See https://github.com/optuna/optuna/releases/tag/v3.0.0. Use :func:`~optuna.trial.Trial.suggest_float` instead.\n",
            "  reg_lambda = trial.suggest_loguniform(\"reg_lambda\", 1e-8, 100.0)\n",
            "C:\\Users\\nshre\\AppData\\Local\\Temp\\ipykernel_12852\\719259616.py:6: FutureWarning: suggest_loguniform has been deprecated in v3.0.0. This feature will be removed in v6.0.0. See https://github.com/optuna/optuna/releases/tag/v3.0.0. Use :func:`~optuna.trial.Trial.suggest_float` instead.\n",
            "  reg_alpha = trial.suggest_loguniform(\"reg_alpha\", 1e-8, 100.0)\n",
            "\u001b[32m[I 2023-04-29 15:56:14,010]\u001b[0m Trial 72 finished with value: 4.442927967867167 and parameters: {'learning_rate': 0.0620082815017137, 'reg_lambda': 0.0012478463538253914, 'reg_alpha': 13.813313670717967, 'subsample': 0.6866226413767275, 'colsample_bytree': 0.5820897713055916, 'max_depth': 6, 'n_estimators': 63}. Best is trial 70 with value: 4.144307145683879.\u001b[0m\n"
          ]
        },
        {
          "name": "stdout",
          "output_type": "stream",
          "text": [
            "Mean Absolute Error :  4.442927967867167\n",
            "R2_score :  0.7496117907131414\n"
          ]
        },
        {
          "name": "stderr",
          "output_type": "stream",
          "text": [
            "C:\\Users\\nshre\\AppData\\Local\\Temp\\ipykernel_12852\\719259616.py:5: FutureWarning: suggest_loguniform has been deprecated in v3.0.0. This feature will be removed in v6.0.0. See https://github.com/optuna/optuna/releases/tag/v3.0.0. Use :func:`~optuna.trial.Trial.suggest_float` instead.\n",
            "  reg_lambda = trial.suggest_loguniform(\"reg_lambda\", 1e-8, 100.0)\n",
            "C:\\Users\\nshre\\AppData\\Local\\Temp\\ipykernel_12852\\719259616.py:6: FutureWarning: suggest_loguniform has been deprecated in v3.0.0. This feature will be removed in v6.0.0. See https://github.com/optuna/optuna/releases/tag/v3.0.0. Use :func:`~optuna.trial.Trial.suggest_float` instead.\n",
            "  reg_alpha = trial.suggest_loguniform(\"reg_alpha\", 1e-8, 100.0)\n",
            "\u001b[32m[I 2023-04-29 15:56:36,924]\u001b[0m Trial 73 finished with value: 4.351794957377905 and parameters: {'learning_rate': 0.06142274043378958, 'reg_lambda': 0.0035207884187649723, 'reg_alpha': 17.913302035804644, 'subsample': 0.7196935931580135, 'colsample_bytree': 0.4655435459146039, 'max_depth': 6, 'n_estimators': 202}. Best is trial 70 with value: 4.144307145683879.\u001b[0m\n"
          ]
        },
        {
          "name": "stdout",
          "output_type": "stream",
          "text": [
            "Mean Absolute Error :  4.351794957377905\n",
            "R2_score :  0.7381589943289952\n"
          ]
        },
        {
          "name": "stderr",
          "output_type": "stream",
          "text": [
            "C:\\Users\\nshre\\AppData\\Local\\Temp\\ipykernel_12852\\719259616.py:5: FutureWarning: suggest_loguniform has been deprecated in v3.0.0. This feature will be removed in v6.0.0. See https://github.com/optuna/optuna/releases/tag/v3.0.0. Use :func:`~optuna.trial.Trial.suggest_float` instead.\n",
            "  reg_lambda = trial.suggest_loguniform(\"reg_lambda\", 1e-8, 100.0)\n",
            "C:\\Users\\nshre\\AppData\\Local\\Temp\\ipykernel_12852\\719259616.py:6: FutureWarning: suggest_loguniform has been deprecated in v3.0.0. This feature will be removed in v6.0.0. See https://github.com/optuna/optuna/releases/tag/v3.0.0. Use :func:`~optuna.trial.Trial.suggest_float` instead.\n",
            "  reg_alpha = trial.suggest_loguniform(\"reg_alpha\", 1e-8, 100.0)\n",
            "\u001b[32m[I 2023-04-29 15:57:18,136]\u001b[0m Trial 74 finished with value: 4.3710426334684955 and parameters: {'learning_rate': 0.06866456407534142, 'reg_lambda': 0.0008568117395720759, 'reg_alpha': 7.755173050362583, 'subsample': 0.7497106171625239, 'colsample_bytree': 0.534105029776069, 'max_depth': 6, 'n_estimators': 347}. Best is trial 70 with value: 4.144307145683879.\u001b[0m\n"
          ]
        },
        {
          "name": "stdout",
          "output_type": "stream",
          "text": [
            "Mean Absolute Error :  4.3710426334684955\n",
            "R2_score :  0.7095465847139789\n"
          ]
        },
        {
          "name": "stderr",
          "output_type": "stream",
          "text": [
            "C:\\Users\\nshre\\AppData\\Local\\Temp\\ipykernel_12852\\719259616.py:5: FutureWarning: suggest_loguniform has been deprecated in v3.0.0. This feature will be removed in v6.0.0. See https://github.com/optuna/optuna/releases/tag/v3.0.0. Use :func:`~optuna.trial.Trial.suggest_float` instead.\n",
            "  reg_lambda = trial.suggest_loguniform(\"reg_lambda\", 1e-8, 100.0)\n",
            "C:\\Users\\nshre\\AppData\\Local\\Temp\\ipykernel_12852\\719259616.py:6: FutureWarning: suggest_loguniform has been deprecated in v3.0.0. This feature will be removed in v6.0.0. See https://github.com/optuna/optuna/releases/tag/v3.0.0. Use :func:`~optuna.trial.Trial.suggest_float` instead.\n",
            "  reg_alpha = trial.suggest_loguniform(\"reg_alpha\", 1e-8, 100.0)\n",
            "\u001b[32m[I 2023-04-29 16:02:32,661]\u001b[0m Trial 75 finished with value: 5.194821686721342 and parameters: {'learning_rate': 0.058996378860857235, 'reg_lambda': 0.00028986400881725116, 'reg_alpha': 3.6244787525150906, 'subsample': 0.7173318377412843, 'colsample_bytree': 0.6126226603703888, 'max_depth': 6, 'n_estimators': 2960}. Best is trial 70 with value: 4.144307145683879.\u001b[0m\n"
          ]
        },
        {
          "name": "stdout",
          "output_type": "stream",
          "text": [
            "Mean Absolute Error :  5.194821686721342\n",
            "R2_score :  0.6597540545776153\n"
          ]
        },
        {
          "name": "stderr",
          "output_type": "stream",
          "text": [
            "C:\\Users\\nshre\\AppData\\Local\\Temp\\ipykernel_12852\\719259616.py:5: FutureWarning: suggest_loguniform has been deprecated in v3.0.0. This feature will be removed in v6.0.0. See https://github.com/optuna/optuna/releases/tag/v3.0.0. Use :func:`~optuna.trial.Trial.suggest_float` instead.\n",
            "  reg_lambda = trial.suggest_loguniform(\"reg_lambda\", 1e-8, 100.0)\n",
            "C:\\Users\\nshre\\AppData\\Local\\Temp\\ipykernel_12852\\719259616.py:6: FutureWarning: suggest_loguniform has been deprecated in v3.0.0. This feature will be removed in v6.0.0. See https://github.com/optuna/optuna/releases/tag/v3.0.0. Use :func:`~optuna.trial.Trial.suggest_float` instead.\n",
            "  reg_alpha = trial.suggest_loguniform(\"reg_alpha\", 1e-8, 100.0)\n",
            "\u001b[32m[I 2023-04-29 16:03:36,643]\u001b[0m Trial 76 finished with value: 4.379539755331345 and parameters: {'learning_rate': 0.06517790066148384, 'reg_lambda': 0.0005686459283779009, 'reg_alpha': 64.84556852625104, 'subsample': 0.6956691489135968, 'colsample_bytree': 0.47933883777638336, 'max_depth': 6, 'n_estimators': 620}. Best is trial 70 with value: 4.144307145683879.\u001b[0m\n"
          ]
        },
        {
          "name": "stdout",
          "output_type": "stream",
          "text": [
            "Mean Absolute Error :  4.379539755331345\n",
            "R2_score :  0.7394218008012313\n"
          ]
        },
        {
          "name": "stderr",
          "output_type": "stream",
          "text": [
            "C:\\Users\\nshre\\AppData\\Local\\Temp\\ipykernel_12852\\719259616.py:5: FutureWarning: suggest_loguniform has been deprecated in v3.0.0. This feature will be removed in v6.0.0. See https://github.com/optuna/optuna/releases/tag/v3.0.0. Use :func:`~optuna.trial.Trial.suggest_float` instead.\n",
            "  reg_lambda = trial.suggest_loguniform(\"reg_lambda\", 1e-8, 100.0)\n",
            "C:\\Users\\nshre\\AppData\\Local\\Temp\\ipykernel_12852\\719259616.py:6: FutureWarning: suggest_loguniform has been deprecated in v3.0.0. This feature will be removed in v6.0.0. See https://github.com/optuna/optuna/releases/tag/v3.0.0. Use :func:`~optuna.trial.Trial.suggest_float` instead.\n",
            "  reg_alpha = trial.suggest_loguniform(\"reg_alpha\", 1e-8, 100.0)\n",
            "\u001b[32m[I 2023-04-29 16:03:53,513]\u001b[0m Trial 77 finished with value: 4.32725933895831 and parameters: {'learning_rate': 0.05443444243009719, 'reg_lambda': 3.931702928280631e-05, 'reg_alpha': 20.462047635324122, 'subsample': 0.7647378430226827, 'colsample_bytree': 0.5596644869359695, 'max_depth': 6, 'n_estimators': 190}. Best is trial 70 with value: 4.144307145683879.\u001b[0m\n"
          ]
        },
        {
          "name": "stdout",
          "output_type": "stream",
          "text": [
            "Mean Absolute Error :  4.32725933895831\n",
            "R2_score :  0.7385981763015244\n"
          ]
        },
        {
          "name": "stderr",
          "output_type": "stream",
          "text": [
            "C:\\Users\\nshre\\AppData\\Local\\Temp\\ipykernel_12852\\719259616.py:5: FutureWarning: suggest_loguniform has been deprecated in v3.0.0. This feature will be removed in v6.0.0. See https://github.com/optuna/optuna/releases/tag/v3.0.0. Use :func:`~optuna.trial.Trial.suggest_float` instead.\n",
            "  reg_lambda = trial.suggest_loguniform(\"reg_lambda\", 1e-8, 100.0)\n",
            "C:\\Users\\nshre\\AppData\\Local\\Temp\\ipykernel_12852\\719259616.py:6: FutureWarning: suggest_loguniform has been deprecated in v3.0.0. This feature will be removed in v6.0.0. See https://github.com/optuna/optuna/releases/tag/v3.0.0. Use :func:`~optuna.trial.Trial.suggest_float` instead.\n",
            "  reg_alpha = trial.suggest_loguniform(\"reg_alpha\", 1e-8, 100.0)\n",
            "\u001b[32m[I 2023-04-29 16:03:58,736]\u001b[0m Trial 78 finished with value: 4.415439169207173 and parameters: {'learning_rate': 0.06659804350711579, 'reg_lambda': 0.011105218071647164, 'reg_alpha': 93.73460808896282, 'subsample': 0.6640237201920987, 'colsample_bytree': 0.541755651027377, 'max_depth': 4, 'n_estimators': 77}. Best is trial 70 with value: 4.144307145683879.\u001b[0m\n"
          ]
        },
        {
          "name": "stdout",
          "output_type": "stream",
          "text": [
            "Mean Absolute Error :  4.415439169207173\n",
            "R2_score :  0.7454738318076641\n"
          ]
        },
        {
          "name": "stderr",
          "output_type": "stream",
          "text": [
            "C:\\Users\\nshre\\AppData\\Local\\Temp\\ipykernel_12852\\719259616.py:5: FutureWarning: suggest_loguniform has been deprecated in v3.0.0. This feature will be removed in v6.0.0. See https://github.com/optuna/optuna/releases/tag/v3.0.0. Use :func:`~optuna.trial.Trial.suggest_float` instead.\n",
            "  reg_lambda = trial.suggest_loguniform(\"reg_lambda\", 1e-8, 100.0)\n",
            "C:\\Users\\nshre\\AppData\\Local\\Temp\\ipykernel_12852\\719259616.py:6: FutureWarning: suggest_loguniform has been deprecated in v3.0.0. This feature will be removed in v6.0.0. See https://github.com/optuna/optuna/releases/tag/v3.0.0. Use :func:`~optuna.trial.Trial.suggest_float` instead.\n",
            "  reg_alpha = trial.suggest_loguniform(\"reg_alpha\", 1e-8, 100.0)\n",
            "\u001b[32m[I 2023-04-29 16:07:34,211]\u001b[0m Trial 79 finished with value: 4.813531152463998 and parameters: {'learning_rate': 0.07035064337196545, 'reg_lambda': 0.0002147660371873115, 'reg_alpha': 1.614675960285272, 'subsample': 0.627188199496903, 'colsample_bytree': 0.4919196737316733, 'max_depth': 6, 'n_estimators': 2451}. Best is trial 70 with value: 4.144307145683879.\u001b[0m\n"
          ]
        },
        {
          "name": "stdout",
          "output_type": "stream",
          "text": [
            "Mean Absolute Error :  4.813531152463998\n",
            "R2_score :  0.7154486232380166\n"
          ]
        },
        {
          "name": "stderr",
          "output_type": "stream",
          "text": [
            "C:\\Users\\nshre\\AppData\\Local\\Temp\\ipykernel_12852\\719259616.py:5: FutureWarning: suggest_loguniform has been deprecated in v3.0.0. This feature will be removed in v6.0.0. See https://github.com/optuna/optuna/releases/tag/v3.0.0. Use :func:`~optuna.trial.Trial.suggest_float` instead.\n",
            "  reg_lambda = trial.suggest_loguniform(\"reg_lambda\", 1e-8, 100.0)\n",
            "C:\\Users\\nshre\\AppData\\Local\\Temp\\ipykernel_12852\\719259616.py:6: FutureWarning: suggest_loguniform has been deprecated in v3.0.0. This feature will be removed in v6.0.0. See https://github.com/optuna/optuna/releases/tag/v3.0.0. Use :func:`~optuna.trial.Trial.suggest_float` instead.\n",
            "  reg_alpha = trial.suggest_loguniform(\"reg_alpha\", 1e-8, 100.0)\n"
          ]
        }
      ],
      "source": [
        "\"\"\"Uncomment for tuning the model\"\"\"\n",
        "import optuna\n",
        "def run(trial):\n",
        "    learning_rate = trial.suggest_float(\"learning_rate\", 1e-3, 0.1)\n",
        "    reg_lambda = trial.suggest_loguniform(\"reg_lambda\", 1e-8, 100.0)\n",
        "    reg_alpha = trial.suggest_loguniform(\"reg_alpha\", 1e-8, 100.0)\n",
        "    subsample = trial.suggest_float(\"subsample\", 0.1, 1.0)\n",
        "    colsample_bytree = trial.suggest_float(\"colsample_bytree\", 0.1, 1.0)\n",
        "    max_depth = trial.suggest_int(\"max_depth\", 3, 6)\n",
        "    n_estimators = trial.suggest_int(\"n_estimators\", 20, 3000)\n",
        "\n",
        "\n",
        "    model = xgb.XGBRegressor(\n",
        "            random_state=42,\n",
        "            objective='reg:squarederror',\n",
        "            n_estimators=n_estimators,\n",
        "            learning_rate=learning_rate,\n",
        "            reg_lambda=reg_lambda,\n",
        "            reg_alpha=reg_alpha,\n",
        "            subsample=subsample,\n",
        "            colsample_bytree=colsample_bytree,\n",
        "            max_depth=max_depth,\n",
        "            eval_metric='mae'\n",
        "        )\n",
        "    model.fit(X_train, y_train)\n",
        "    preds_valid = model.predict(X_test)\n",
        "    mae_ = mean_absolute_error(y_test, preds_valid)\n",
        "    r2_sc = r2_score(y_test, preds_valid)\n",
        "    print(\"Mean Absolute Error : \", mae_)\n",
        "    print(\"R2_score : \", r2_sc)\n",
        "    return mae_\n",
        "\n",
        "study = optuna.create_study(direction=\"minimize\")\n",
        "study.optimize(run, n_trials=100)\n",
        "\n",
        "# study.best_params"
      ]
    },
    {
      "cell_type": "code",
      "execution_count": 1,
      "metadata": {},
      "outputs": [
        {
          "name": "stderr",
          "output_type": "stream",
          "text": [
            "c:\\Users\\nshre\\anaconda3\\envs\\auto_gpt\\lib\\site-packages\\tqdm\\auto.py:21: TqdmWarning: IProgress not found. Please update jupyter and ipywidgets. See https://ipywidgets.readthedocs.io/en/stable/user_install.html\n",
            "  from .autonotebook import tqdm as notebook_tqdm\n",
            "\u001b[32m[I 2023-04-30 20:29:28,143]\u001b[0m A new study created in memory with name: no-name-479de14e-c7bb-45e0-8584-c0aa19e972fd\u001b[0m\n",
            "C:\\Users\\nshre\\AppData\\Local\\Temp\\ipykernel_15036\\4217039969.py:5: FutureWarning: suggest_loguniform has been deprecated in v3.0.0. This feature will be removed in v6.0.0. See https://github.com/optuna/optuna/releases/tag/v3.0.0. Use :func:`~optuna.trial.Trial.suggest_float` instead.\n",
            "  reg_lambda = trial.suggest_loguniform(\"reg_lambda\", 1e-8, 100.0)\n",
            "C:\\Users\\nshre\\AppData\\Local\\Temp\\ipykernel_15036\\4217039969.py:6: FutureWarning: suggest_loguniform has been deprecated in v3.0.0. This feature will be removed in v6.0.0. See https://github.com/optuna/optuna/releases/tag/v3.0.0. Use :func:`~optuna.trial.Trial.suggest_float` instead.\n",
            "  reg_alpha = trial.suggest_loguniform(\"reg_alpha\", 1e-8, 100.0)\n",
            "\u001b[33m[W 2023-04-30 20:29:28,150]\u001b[0m Trial 0 failed with parameters: {'learning_rate': 0.07791084133262398, 'reg_lambda': 0.0007188067232693896, 'reg_alpha': 1.823825918142417e-08, 'subsample': 0.6392031163550392, 'colsample_bytree': 0.8021660748450357, 'max_depth': 5, 'n_estimators': 1277} because of the following error: NameError(\"name 'xgb' is not defined\").\u001b[0m\n",
            "Traceback (most recent call last):\n",
            "  File \"c:\\Users\\nshre\\anaconda3\\envs\\auto_gpt\\lib\\site-packages\\optuna\\study\\_optimize.py\", line 200, in _run_trial\n",
            "    value_or_values = func(trial)\n",
            "  File \"C:\\Users\\nshre\\AppData\\Local\\Temp\\ipykernel_15036\\4217039969.py\", line 13, in run\n",
            "    model = xgb.XGBRegressor(\n",
            "NameError: name 'xgb' is not defined\n",
            "\u001b[33m[W 2023-04-30 20:29:28,152]\u001b[0m Trial 0 failed with value None.\u001b[0m\n"
          ]
        },
        {
          "ename": "NameError",
          "evalue": "name 'xgb' is not defined",
          "output_type": "error",
          "traceback": [
            "\u001b[1;31m---------------------------------------------------------------------------\u001b[0m",
            "\u001b[1;31mNameError\u001b[0m                                 Traceback (most recent call last)",
            "Cell \u001b[1;32mIn[1], line 34\u001b[0m\n\u001b[0;32m     31\u001b[0m     \u001b[39mreturn\u001b[39;00m r2_sc\n\u001b[0;32m     33\u001b[0m study \u001b[39m=\u001b[39m optuna\u001b[39m.\u001b[39mcreate_study(direction\u001b[39m=\u001b[39m\u001b[39m\"\u001b[39m\u001b[39mminimize\u001b[39m\u001b[39m\"\u001b[39m)\n\u001b[1;32m---> 34\u001b[0m study\u001b[39m.\u001b[39;49moptimize(run, n_trials\u001b[39m=\u001b[39;49m\u001b[39m100\u001b[39;49m)\n\u001b[0;32m     36\u001b[0m \u001b[39m# study.best_params\u001b[39;00m\n",
            "File \u001b[1;32mc:\\Users\\nshre\\anaconda3\\envs\\auto_gpt\\lib\\site-packages\\optuna\\study\\study.py:425\u001b[0m, in \u001b[0;36mStudy.optimize\u001b[1;34m(self, func, n_trials, timeout, n_jobs, catch, callbacks, gc_after_trial, show_progress_bar)\u001b[0m\n\u001b[0;32m    321\u001b[0m \u001b[39mdef\u001b[39;00m \u001b[39moptimize\u001b[39m(\n\u001b[0;32m    322\u001b[0m     \u001b[39mself\u001b[39m,\n\u001b[0;32m    323\u001b[0m     func: ObjectiveFuncType,\n\u001b[1;32m   (...)\u001b[0m\n\u001b[0;32m    330\u001b[0m     show_progress_bar: \u001b[39mbool\u001b[39m \u001b[39m=\u001b[39m \u001b[39mFalse\u001b[39;00m,\n\u001b[0;32m    331\u001b[0m ) \u001b[39m-\u001b[39m\u001b[39m>\u001b[39m \u001b[39mNone\u001b[39;00m:\n\u001b[0;32m    332\u001b[0m \u001b[39m    \u001b[39m\u001b[39m\"\"\"Optimize an objective function.\u001b[39;00m\n\u001b[0;32m    333\u001b[0m \n\u001b[0;32m    334\u001b[0m \u001b[39m    Optimization is done by choosing a suitable set of hyperparameter values from a given\u001b[39;00m\n\u001b[1;32m   (...)\u001b[0m\n\u001b[0;32m    422\u001b[0m \u001b[39m            If nested invocation of this method occurs.\u001b[39;00m\n\u001b[0;32m    423\u001b[0m \u001b[39m    \"\"\"\u001b[39;00m\n\u001b[1;32m--> 425\u001b[0m     _optimize(\n\u001b[0;32m    426\u001b[0m         study\u001b[39m=\u001b[39;49m\u001b[39mself\u001b[39;49m,\n\u001b[0;32m    427\u001b[0m         func\u001b[39m=\u001b[39;49mfunc,\n\u001b[0;32m    428\u001b[0m         n_trials\u001b[39m=\u001b[39;49mn_trials,\n\u001b[0;32m    429\u001b[0m         timeout\u001b[39m=\u001b[39;49mtimeout,\n\u001b[0;32m    430\u001b[0m         n_jobs\u001b[39m=\u001b[39;49mn_jobs,\n\u001b[0;32m    431\u001b[0m         catch\u001b[39m=\u001b[39;49m\u001b[39mtuple\u001b[39;49m(catch) \u001b[39mif\u001b[39;49;00m \u001b[39misinstance\u001b[39;49m(catch, Iterable) \u001b[39melse\u001b[39;49;00m (catch,),\n\u001b[0;32m    432\u001b[0m         callbacks\u001b[39m=\u001b[39;49mcallbacks,\n\u001b[0;32m    433\u001b[0m         gc_after_trial\u001b[39m=\u001b[39;49mgc_after_trial,\n\u001b[0;32m    434\u001b[0m         show_progress_bar\u001b[39m=\u001b[39;49mshow_progress_bar,\n\u001b[0;32m    435\u001b[0m     )\n",
            "File \u001b[1;32mc:\\Users\\nshre\\anaconda3\\envs\\auto_gpt\\lib\\site-packages\\optuna\\study\\_optimize.py:66\u001b[0m, in \u001b[0;36m_optimize\u001b[1;34m(study, func, n_trials, timeout, n_jobs, catch, callbacks, gc_after_trial, show_progress_bar)\u001b[0m\n\u001b[0;32m     64\u001b[0m \u001b[39mtry\u001b[39;00m:\n\u001b[0;32m     65\u001b[0m     \u001b[39mif\u001b[39;00m n_jobs \u001b[39m==\u001b[39m \u001b[39m1\u001b[39m:\n\u001b[1;32m---> 66\u001b[0m         _optimize_sequential(\n\u001b[0;32m     67\u001b[0m             study,\n\u001b[0;32m     68\u001b[0m             func,\n\u001b[0;32m     69\u001b[0m             n_trials,\n\u001b[0;32m     70\u001b[0m             timeout,\n\u001b[0;32m     71\u001b[0m             catch,\n\u001b[0;32m     72\u001b[0m             callbacks,\n\u001b[0;32m     73\u001b[0m             gc_after_trial,\n\u001b[0;32m     74\u001b[0m             reseed_sampler_rng\u001b[39m=\u001b[39;49m\u001b[39mFalse\u001b[39;49;00m,\n\u001b[0;32m     75\u001b[0m             time_start\u001b[39m=\u001b[39;49m\u001b[39mNone\u001b[39;49;00m,\n\u001b[0;32m     76\u001b[0m             progress_bar\u001b[39m=\u001b[39;49mprogress_bar,\n\u001b[0;32m     77\u001b[0m         )\n\u001b[0;32m     78\u001b[0m     \u001b[39melse\u001b[39;00m:\n\u001b[0;32m     79\u001b[0m         \u001b[39mif\u001b[39;00m n_jobs \u001b[39m==\u001b[39m \u001b[39m-\u001b[39m\u001b[39m1\u001b[39m:\n",
            "File \u001b[1;32mc:\\Users\\nshre\\anaconda3\\envs\\auto_gpt\\lib\\site-packages\\optuna\\study\\_optimize.py:163\u001b[0m, in \u001b[0;36m_optimize_sequential\u001b[1;34m(study, func, n_trials, timeout, catch, callbacks, gc_after_trial, reseed_sampler_rng, time_start, progress_bar)\u001b[0m\n\u001b[0;32m    160\u001b[0m         \u001b[39mbreak\u001b[39;00m\n\u001b[0;32m    162\u001b[0m \u001b[39mtry\u001b[39;00m:\n\u001b[1;32m--> 163\u001b[0m     frozen_trial \u001b[39m=\u001b[39m _run_trial(study, func, catch)\n\u001b[0;32m    164\u001b[0m \u001b[39mfinally\u001b[39;00m:\n\u001b[0;32m    165\u001b[0m     \u001b[39m# The following line mitigates memory problems that can be occurred in some\u001b[39;00m\n\u001b[0;32m    166\u001b[0m     \u001b[39m# environments (e.g., services that use computing containers such as GitHub Actions).\u001b[39;00m\n\u001b[0;32m    167\u001b[0m     \u001b[39m# Please refer to the following PR for further details:\u001b[39;00m\n\u001b[0;32m    168\u001b[0m     \u001b[39m# https://github.com/optuna/optuna/pull/325.\u001b[39;00m\n\u001b[0;32m    169\u001b[0m     \u001b[39mif\u001b[39;00m gc_after_trial:\n",
            "File \u001b[1;32mc:\\Users\\nshre\\anaconda3\\envs\\auto_gpt\\lib\\site-packages\\optuna\\study\\_optimize.py:251\u001b[0m, in \u001b[0;36m_run_trial\u001b[1;34m(study, func, catch)\u001b[0m\n\u001b[0;32m    244\u001b[0m         \u001b[39massert\u001b[39;00m \u001b[39mFalse\u001b[39;00m, \u001b[39m\"\u001b[39m\u001b[39mShould not reach.\u001b[39m\u001b[39m\"\u001b[39m\n\u001b[0;32m    246\u001b[0m \u001b[39mif\u001b[39;00m (\n\u001b[0;32m    247\u001b[0m     frozen_trial\u001b[39m.\u001b[39mstate \u001b[39m==\u001b[39m TrialState\u001b[39m.\u001b[39mFAIL\n\u001b[0;32m    248\u001b[0m     \u001b[39mand\u001b[39;00m func_err \u001b[39mis\u001b[39;00m \u001b[39mnot\u001b[39;00m \u001b[39mNone\u001b[39;00m\n\u001b[0;32m    249\u001b[0m     \u001b[39mand\u001b[39;00m \u001b[39mnot\u001b[39;00m \u001b[39misinstance\u001b[39m(func_err, catch)\n\u001b[0;32m    250\u001b[0m ):\n\u001b[1;32m--> 251\u001b[0m     \u001b[39mraise\u001b[39;00m func_err\n\u001b[0;32m    252\u001b[0m \u001b[39mreturn\u001b[39;00m frozen_trial\n",
            "File \u001b[1;32mc:\\Users\\nshre\\anaconda3\\envs\\auto_gpt\\lib\\site-packages\\optuna\\study\\_optimize.py:200\u001b[0m, in \u001b[0;36m_run_trial\u001b[1;34m(study, func, catch)\u001b[0m\n\u001b[0;32m    198\u001b[0m \u001b[39mwith\u001b[39;00m get_heartbeat_thread(trial\u001b[39m.\u001b[39m_trial_id, study\u001b[39m.\u001b[39m_storage):\n\u001b[0;32m    199\u001b[0m     \u001b[39mtry\u001b[39;00m:\n\u001b[1;32m--> 200\u001b[0m         value_or_values \u001b[39m=\u001b[39m func(trial)\n\u001b[0;32m    201\u001b[0m     \u001b[39mexcept\u001b[39;00m exceptions\u001b[39m.\u001b[39mTrialPruned \u001b[39mas\u001b[39;00m e:\n\u001b[0;32m    202\u001b[0m         \u001b[39m# TODO(mamu): Handle multi-objective cases.\u001b[39;00m\n\u001b[0;32m    203\u001b[0m         state \u001b[39m=\u001b[39m TrialState\u001b[39m.\u001b[39mPRUNED\n",
            "Cell \u001b[1;32mIn[1], line 13\u001b[0m, in \u001b[0;36mrun\u001b[1;34m(trial)\u001b[0m\n\u001b[0;32m      9\u001b[0m max_depth \u001b[39m=\u001b[39m trial\u001b[39m.\u001b[39msuggest_int(\u001b[39m\"\u001b[39m\u001b[39mmax_depth\u001b[39m\u001b[39m\"\u001b[39m, \u001b[39m3\u001b[39m, \u001b[39m6\u001b[39m)\n\u001b[0;32m     10\u001b[0m n_estimators \u001b[39m=\u001b[39m trial\u001b[39m.\u001b[39msuggest_int(\u001b[39m\"\u001b[39m\u001b[39mn_estimators\u001b[39m\u001b[39m\"\u001b[39m, \u001b[39m20\u001b[39m, \u001b[39m3000\u001b[39m)\n\u001b[1;32m---> 13\u001b[0m model \u001b[39m=\u001b[39m xgb\u001b[39m.\u001b[39mXGBRegressor(\n\u001b[0;32m     14\u001b[0m         random_state\u001b[39m=\u001b[39m\u001b[39m42\u001b[39m,\n\u001b[0;32m     15\u001b[0m         objective\u001b[39m=\u001b[39m\u001b[39m'\u001b[39m\u001b[39mreg:squarederror\u001b[39m\u001b[39m'\u001b[39m,\n\u001b[0;32m     16\u001b[0m         n_estimators\u001b[39m=\u001b[39mn_estimators,\n\u001b[0;32m     17\u001b[0m         learning_rate\u001b[39m=\u001b[39mlearning_rate,\n\u001b[0;32m     18\u001b[0m         reg_lambda\u001b[39m=\u001b[39mreg_lambda,\n\u001b[0;32m     19\u001b[0m         reg_alpha\u001b[39m=\u001b[39mreg_alpha,\n\u001b[0;32m     20\u001b[0m         subsample\u001b[39m=\u001b[39msubsample,\n\u001b[0;32m     21\u001b[0m         colsample_bytree\u001b[39m=\u001b[39mcolsample_bytree,\n\u001b[0;32m     22\u001b[0m         max_depth\u001b[39m=\u001b[39mmax_depth,\n\u001b[0;32m     23\u001b[0m         eval_metric\u001b[39m=\u001b[39m\u001b[39m'\u001b[39m\u001b[39mr2_score\u001b[39m\u001b[39m'\u001b[39m\n\u001b[0;32m     24\u001b[0m     )\n\u001b[0;32m     25\u001b[0m model\u001b[39m.\u001b[39mfit(X_train, y_train)\n\u001b[0;32m     26\u001b[0m preds_valid \u001b[39m=\u001b[39m model\u001b[39m.\u001b[39mpredict(X_test)\n",
            "\u001b[1;31mNameError\u001b[0m: name 'xgb' is not defined"
          ]
        }
      ],
      "source": [
        "\"\"\"Uncomment for tuning the model\"\"\"\n",
        "import optuna\n",
        "def run(trial):\n",
        "    learning_rate = trial.suggest_float(\"learning_rate\", 1e-3, 0.1)\n",
        "    reg_lambda = trial.suggest_loguniform(\"reg_lambda\", 1e-8, 100.0)\n",
        "    reg_alpha = trial.suggest_loguniform(\"reg_alpha\", 1e-8, 100.0)\n",
        "    subsample = trial.suggest_float(\"subsample\", 0.1, 1.0)\n",
        "    colsample_bytree = trial.suggest_float(\"colsample_bytree\", 0.1, 1.0)\n",
        "    max_depth = trial.suggest_int(\"max_depth\", 3, 6)\n",
        "    n_estimators = trial.suggest_int(\"n_estimators\", 20, 3000)\n",
        "\n",
        "\n",
        "    model = xgb.XGBRegressor(\n",
        "            random_state=42,\n",
        "            objective='reg:squarederror',\n",
        "            n_estimators=n_estimators,\n",
        "            learning_rate=learning_rate,\n",
        "            reg_lambda=reg_lambda,\n",
        "            reg_alpha=reg_alpha,\n",
        "            subsample=subsample,\n",
        "            colsample_bytree=colsample_bytree,\n",
        "            max_depth=max_depth,\n",
        "            eval_metric='r2_score'\n",
        "        )\n",
        "    model.fit(X_train, y_train)\n",
        "    preds_valid = model.predict(X_test)\n",
        "    mae_ = mean_absolute_error(y_test, preds_valid)\n",
        "    r2_sc = r2_score(y_test, preds_valid)\n",
        "    print(\"Mean Absolute Error : \", mae_)\n",
        "    print(\"R2_score : \", r2_sc)\n",
        "    return r2_sc\n",
        "\n",
        "study = optuna.create_study(direction=\"minimize\")\n",
        "study.optimize(run, n_trials=100)\n",
        "\n",
        "# study.best_params"
      ]
    },
    {
      "cell_type": "code",
      "execution_count": null,
      "metadata": {},
      "outputs": [],
      "source": []
    }
  ],
  "metadata": {
    "colab": {
      "provenance": []
    },
    "kernelspec": {
      "display_name": "Python 3",
      "name": "python3"
    },
    "language_info": {
      "codemirror_mode": {
        "name": "ipython",
        "version": 3
      },
      "file_extension": ".py",
      "mimetype": "text/x-python",
      "name": "python",
      "nbconvert_exporter": "python",
      "pygments_lexer": "ipython3",
      "version": "3.10.10"
    }
  },
  "nbformat": 4,
  "nbformat_minor": 0
}
