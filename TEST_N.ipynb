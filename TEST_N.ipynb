{
  "cells": [
    {
      "cell_type": "code",
      "execution_count": 1,
      "metadata": {
        "id": "fXNDN0FgJ4-p"
      },
      "outputs": [],
      "source": [
        "import pandas as pd \n",
        "import matplotlib.pyplot as plt\n",
        "import plotly.express as px\n",
        "import plotly.io as pio\n",
        "import seaborn as sns\n",
        "import numpy as np\n",
        "pd.set_option('display.max_columns', 700)"
      ]
    },
    {
      "cell_type": "code",
      "execution_count": null,
      "metadata": {
        "id": "SJQ0v8GuIp3W"
      },
      "outputs": [],
      "source": []
    },
    {
      "cell_type": "code",
      "execution_count": 6,
      "metadata": {
        "colab": {
          "base_uri": "https://localhost:8080/",
          "height": 374
        },
        "id": "xI5xNrP1LGCB",
        "outputId": "7c415aad-fed3-4539-d870-afde3b9909df"
      },
      "outputs": [
        {
          "name": "stdout",
          "output_type": "stream",
          "text": [
            "(259287, 12)\n"
          ]
        },
        {
          "data": {
            "text/html": [
              "<div>\n",
              "<style scoped>\n",
              "    .dataframe tbody tr th:only-of-type {\n",
              "        vertical-align: middle;\n",
              "    }\n",
              "\n",
              "    .dataframe tbody tr th {\n",
              "        vertical-align: top;\n",
              "    }\n",
              "\n",
              "    .dataframe thead th {\n",
              "        text-align: right;\n",
              "    }\n",
              "</style>\n",
              "<table border=\"1\" class=\"dataframe\">\n",
              "  <thead>\n",
              "    <tr style=\"text-align: right;\">\n",
              "      <th></th>\n",
              "      <th>LOCATION</th>\n",
              "      <th>d_id</th>\n",
              "      <th>isbn_id</th>\n",
              "      <th>order_id_1</th>\n",
              "      <th>order_date</th>\n",
              "      <th>evsd</th>\n",
              "      <th>row_group_ind</th>\n",
              "      <th>visibility</th>\n",
              "      <th>quantity_ordered</th>\n",
              "      <th>quantity_submitted</th>\n",
              "      <th>quantity_received</th>\n",
              "      <th>tag</th>\n",
              "    </tr>\n",
              "  </thead>\n",
              "  <tbody>\n",
              "    <tr>\n",
              "      <th>0</th>\n",
              "      <td>JFK2</td>\n",
              "      <td>1</td>\n",
              "      <td>25556</td>\n",
              "      <td>3912</td>\n",
              "      <td>2022-09-30</td>\n",
              "      <td>2022-10-04</td>\n",
              "      <td>7</td>\n",
              "      <td>2</td>\n",
              "      <td>4</td>\n",
              "      <td>4</td>\n",
              "      <td>4</td>\n",
              "      <td>train</td>\n",
              "    </tr>\n",
              "    <tr>\n",
              "      <th>1</th>\n",
              "      <td>JFK2</td>\n",
              "      <td>1</td>\n",
              "      <td>25556</td>\n",
              "      <td>91302</td>\n",
              "      <td>2022-11-16</td>\n",
              "      <td>2022-11-19</td>\n",
              "      <td>4</td>\n",
              "      <td>1</td>\n",
              "      <td>20</td>\n",
              "      <td>20</td>\n",
              "      <td>20</td>\n",
              "      <td>train</td>\n",
              "    </tr>\n",
              "    <tr>\n",
              "      <th>2</th>\n",
              "      <td>JFK2</td>\n",
              "      <td>1</td>\n",
              "      <td>33083</td>\n",
              "      <td>26096</td>\n",
              "      <td>2022-10-07</td>\n",
              "      <td>2022-10-11</td>\n",
              "      <td>4</td>\n",
              "      <td>4</td>\n",
              "      <td>4</td>\n",
              "      <td>4</td>\n",
              "      <td>4</td>\n",
              "      <td>train</td>\n",
              "    </tr>\n",
              "    <tr>\n",
              "      <th>3</th>\n",
              "      <td>JFK2</td>\n",
              "      <td>1</td>\n",
              "      <td>33083</td>\n",
              "      <td>138855</td>\n",
              "      <td>2022-10-19</td>\n",
              "      <td>2022-10-22</td>\n",
              "      <td>5</td>\n",
              "      <td>2</td>\n",
              "      <td>4</td>\n",
              "      <td>4</td>\n",
              "      <td>4</td>\n",
              "      <td>train</td>\n",
              "    </tr>\n",
              "    <tr>\n",
              "      <th>4</th>\n",
              "      <td>JFK2</td>\n",
              "      <td>1</td>\n",
              "      <td>33083</td>\n",
              "      <td>114502</td>\n",
              "      <td>2022-10-18</td>\n",
              "      <td>2022-10-21</td>\n",
              "      <td>6</td>\n",
              "      <td>1</td>\n",
              "      <td>4</td>\n",
              "      <td>4</td>\n",
              "      <td>4</td>\n",
              "      <td>train</td>\n",
              "    </tr>\n",
              "  </tbody>\n",
              "</table>\n",
              "</div>"
            ],
            "text/plain": [
              "  LOCATION  d_id  isbn_id  order_id_1 order_date       evsd  row_group_ind   \n",
              "0     JFK2     1    25556        3912 2022-09-30 2022-10-04              7  \\\n",
              "1     JFK2     1    25556       91302 2022-11-16 2022-11-19              4   \n",
              "2     JFK2     1    33083       26096 2022-10-07 2022-10-11              4   \n",
              "3     JFK2     1    33083      138855 2022-10-19 2022-10-22              5   \n",
              "4     JFK2     1    33083      114502 2022-10-18 2022-10-21              6   \n",
              "\n",
              "   visibility  quantity_ordered  quantity_submitted  quantity_received    tag  \n",
              "0           2                 4                   4                  4  train  \n",
              "1           1                20                  20                 20  train  \n",
              "2           4                 4                   4                  4  train  \n",
              "3           2                 4                   4                  4  train  \n",
              "4           1                 4                   4                  4  train  "
            ]
          },
          "execution_count": 6,
          "metadata": {},
          "output_type": "execute_result"
        }
      ],
      "source": [
        "df = pd.read_csv('TRAIN_1.csv')\n",
        "df['order_date'] = pd.to_datetime(df['order_date'], format = '%m/%d/%y')\n",
        "df['evsd'] = pd.to_datetime(df['evsd'], format = '%m/%d/%y')\n",
        "df['tag'] = 'train'\n",
        "\n",
        "print(df.shape)\n",
        "df.head()"
      ]
    },
    {
      "cell_type": "code",
      "execution_count": 7,
      "metadata": {
        "colab": {
          "base_uri": "https://localhost:8080/",
          "height": 374
        },
        "id": "7Wt5w0w1SJXK",
        "outputId": "8366e5b6-c92b-4f4a-ae07-80934b14c18f"
      },
      "outputs": [
        {
          "name": "stdout",
          "output_type": "stream",
          "text": [
            "(98310, 12)\n"
          ]
        },
        {
          "data": {
            "text/html": [
              "<div>\n",
              "<style scoped>\n",
              "    .dataframe tbody tr th:only-of-type {\n",
              "        vertical-align: middle;\n",
              "    }\n",
              "\n",
              "    .dataframe tbody tr th {\n",
              "        vertical-align: top;\n",
              "    }\n",
              "\n",
              "    .dataframe thead th {\n",
              "        text-align: right;\n",
              "    }\n",
              "</style>\n",
              "<table border=\"1\" class=\"dataframe\">\n",
              "  <thead>\n",
              "    <tr style=\"text-align: right;\">\n",
              "      <th></th>\n",
              "      <th>LOCATION</th>\n",
              "      <th>d_id</th>\n",
              "      <th>isbn_id</th>\n",
              "      <th>order_id_1</th>\n",
              "      <th>order_date</th>\n",
              "      <th>evsd</th>\n",
              "      <th>row_group_ind</th>\n",
              "      <th>visibility</th>\n",
              "      <th>quantity_ordered</th>\n",
              "      <th>quantity_submitted</th>\n",
              "      <th>quantity_received</th>\n",
              "      <th>tag</th>\n",
              "    </tr>\n",
              "  </thead>\n",
              "  <tbody>\n",
              "    <tr>\n",
              "      <th>0</th>\n",
              "      <td>JFK2</td>\n",
              "      <td>648.0</td>\n",
              "      <td>27561.0</td>\n",
              "      <td>146126.0</td>\n",
              "      <td>2022-12-19</td>\n",
              "      <td>2022-12-21</td>\n",
              "      <td>3.0</td>\n",
              "      <td>2.0</td>\n",
              "      <td>8.0</td>\n",
              "      <td>8.0</td>\n",
              "      <td>8</td>\n",
              "      <td>test</td>\n",
              "    </tr>\n",
              "    <tr>\n",
              "      <th>1</th>\n",
              "      <td>JFK2</td>\n",
              "      <td>584.0</td>\n",
              "      <td>23965.0</td>\n",
              "      <td>23086.0</td>\n",
              "      <td>2022-12-23</td>\n",
              "      <td>2022-12-26</td>\n",
              "      <td>2.0</td>\n",
              "      <td>1.0</td>\n",
              "      <td>0.0</td>\n",
              "      <td>6.0</td>\n",
              "      <td>0</td>\n",
              "      <td>test</td>\n",
              "    </tr>\n",
              "    <tr>\n",
              "      <th>2</th>\n",
              "      <td>JFK2</td>\n",
              "      <td>639.0</td>\n",
              "      <td>7929.0</td>\n",
              "      <td>67933.0</td>\n",
              "      <td>2022-12-14</td>\n",
              "      <td>2022-12-16</td>\n",
              "      <td>1.0</td>\n",
              "      <td>1.0</td>\n",
              "      <td>16.0</td>\n",
              "      <td>16.0</td>\n",
              "      <td>16</td>\n",
              "      <td>test</td>\n",
              "    </tr>\n",
              "    <tr>\n",
              "      <th>3</th>\n",
              "      <td>JFK2</td>\n",
              "      <td>410.0</td>\n",
              "      <td>18868.0</td>\n",
              "      <td>35651.0</td>\n",
              "      <td>2022-12-24</td>\n",
              "      <td>2022-12-31</td>\n",
              "      <td>0.0</td>\n",
              "      <td>6.0</td>\n",
              "      <td>10.0</td>\n",
              "      <td>10.0</td>\n",
              "      <td>10</td>\n",
              "      <td>test</td>\n",
              "    </tr>\n",
              "    <tr>\n",
              "      <th>4</th>\n",
              "      <td>JFK2</td>\n",
              "      <td>509.0</td>\n",
              "      <td>31141.0</td>\n",
              "      <td>65889.0</td>\n",
              "      <td>2022-12-20</td>\n",
              "      <td>2022-12-22</td>\n",
              "      <td>7.0</td>\n",
              "      <td>2.0</td>\n",
              "      <td>12.0</td>\n",
              "      <td>12.0</td>\n",
              "      <td>12</td>\n",
              "      <td>test</td>\n",
              "    </tr>\n",
              "  </tbody>\n",
              "</table>\n",
              "</div>"
            ],
            "text/plain": [
              "  LOCATION   d_id  isbn_id  order_id_1 order_date       evsd  row_group_ind   \n",
              "0     JFK2  648.0  27561.0    146126.0 2022-12-19 2022-12-21            3.0  \\\n",
              "1     JFK2  584.0  23965.0     23086.0 2022-12-23 2022-12-26            2.0   \n",
              "2     JFK2  639.0   7929.0     67933.0 2022-12-14 2022-12-16            1.0   \n",
              "3     JFK2  410.0  18868.0     35651.0 2022-12-24 2022-12-31            0.0   \n",
              "4     JFK2  509.0  31141.0     65889.0 2022-12-20 2022-12-22            7.0   \n",
              "\n",
              "   visibility  quantity_ordered  quantity_submitted  quantity_received   tag  \n",
              "0         2.0               8.0                 8.0                  8  test  \n",
              "1         1.0               0.0                 6.0                  0  test  \n",
              "2         1.0              16.0                16.0                 16  test  \n",
              "3         6.0              10.0                10.0                 10  test  \n",
              "4         2.0              12.0                12.0                 12  test  "
            ]
          },
          "execution_count": 7,
          "metadata": {},
          "output_type": "execute_result"
        }
      ],
      "source": [
        "df_test = pd.read_csv('TEST_2.csv', encoding = 'latin1')\n",
        "df_test.columns = ['LOCATION', 'd_id', 'isbn_id', 'order_id_1', 'order_date', 'evsd',\n",
        "       'row_group_ind', 'visibility', 'quantity_ordered', 'quantity_submitted',\n",
        "       'quantity_received']\n",
        "df_test['order_date'] = pd.to_datetime(df_test['order_date'], format = '%m/%d/%y')\n",
        "df_test['evsd'] = pd.to_datetime(df_test['evsd'], format = '%m/%d/%y')\n",
        "df_test['tag'] = 'test'\n",
        "print(df_test.shape)\n",
        "df_test.head()"
      ]
    },
    {
      "cell_type": "code",
      "execution_count": 5,
      "metadata": {
        "colab": {
          "base_uri": "https://localhost:8080/",
          "height": 374
        },
        "id": "XrP2Q69kSREm",
        "outputId": "ab65ab1f-8412-4c77-9843-b0a98e3f8ae4"
      },
      "outputs": [
        {
          "name": "stdout",
          "output_type": "stream",
          "text": [
            "(357597, 12)\n"
          ]
        },
        {
          "data": {
            "text/html": [
              "<div>\n",
              "<style scoped>\n",
              "    .dataframe tbody tr th:only-of-type {\n",
              "        vertical-align: middle;\n",
              "    }\n",
              "\n",
              "    .dataframe tbody tr th {\n",
              "        vertical-align: top;\n",
              "    }\n",
              "\n",
              "    .dataframe thead th {\n",
              "        text-align: right;\n",
              "    }\n",
              "</style>\n",
              "<table border=\"1\" class=\"dataframe\">\n",
              "  <thead>\n",
              "    <tr style=\"text-align: right;\">\n",
              "      <th></th>\n",
              "      <th>LOCATION</th>\n",
              "      <th>d_id</th>\n",
              "      <th>isbn_id</th>\n",
              "      <th>order_id_1</th>\n",
              "      <th>order_date</th>\n",
              "      <th>evsd</th>\n",
              "      <th>row_group_ind</th>\n",
              "      <th>visibility</th>\n",
              "      <th>quantity_ordered</th>\n",
              "      <th>quantity_submitted</th>\n",
              "      <th>quantity_received</th>\n",
              "      <th>tag</th>\n",
              "    </tr>\n",
              "  </thead>\n",
              "  <tbody>\n",
              "    <tr>\n",
              "      <th>0</th>\n",
              "      <td>JFK2</td>\n",
              "      <td>1.0</td>\n",
              "      <td>25556.0</td>\n",
              "      <td>3912.0</td>\n",
              "      <td>2022-09-30</td>\n",
              "      <td>2022-10-04</td>\n",
              "      <td>7.0</td>\n",
              "      <td>2.0</td>\n",
              "      <td>4.0</td>\n",
              "      <td>4.0</td>\n",
              "      <td>4</td>\n",
              "      <td>train</td>\n",
              "    </tr>\n",
              "    <tr>\n",
              "      <th>1</th>\n",
              "      <td>JFK2</td>\n",
              "      <td>1.0</td>\n",
              "      <td>25556.0</td>\n",
              "      <td>91302.0</td>\n",
              "      <td>2022-11-16</td>\n",
              "      <td>2022-11-19</td>\n",
              "      <td>4.0</td>\n",
              "      <td>1.0</td>\n",
              "      <td>20.0</td>\n",
              "      <td>20.0</td>\n",
              "      <td>20</td>\n",
              "      <td>train</td>\n",
              "    </tr>\n",
              "    <tr>\n",
              "      <th>2</th>\n",
              "      <td>JFK2</td>\n",
              "      <td>1.0</td>\n",
              "      <td>33083.0</td>\n",
              "      <td>26096.0</td>\n",
              "      <td>2022-10-07</td>\n",
              "      <td>2022-10-11</td>\n",
              "      <td>4.0</td>\n",
              "      <td>4.0</td>\n",
              "      <td>4.0</td>\n",
              "      <td>4.0</td>\n",
              "      <td>4</td>\n",
              "      <td>train</td>\n",
              "    </tr>\n",
              "    <tr>\n",
              "      <th>3</th>\n",
              "      <td>JFK2</td>\n",
              "      <td>1.0</td>\n",
              "      <td>33083.0</td>\n",
              "      <td>138855.0</td>\n",
              "      <td>2022-10-19</td>\n",
              "      <td>2022-10-22</td>\n",
              "      <td>5.0</td>\n",
              "      <td>2.0</td>\n",
              "      <td>4.0</td>\n",
              "      <td>4.0</td>\n",
              "      <td>4</td>\n",
              "      <td>train</td>\n",
              "    </tr>\n",
              "    <tr>\n",
              "      <th>4</th>\n",
              "      <td>JFK2</td>\n",
              "      <td>1.0</td>\n",
              "      <td>33083.0</td>\n",
              "      <td>114502.0</td>\n",
              "      <td>2022-10-18</td>\n",
              "      <td>2022-10-21</td>\n",
              "      <td>6.0</td>\n",
              "      <td>1.0</td>\n",
              "      <td>4.0</td>\n",
              "      <td>4.0</td>\n",
              "      <td>4</td>\n",
              "      <td>train</td>\n",
              "    </tr>\n",
              "  </tbody>\n",
              "</table>\n",
              "</div>"
            ],
            "text/plain": [
              "  LOCATION  d_id  isbn_id  order_id_1 order_date       evsd  row_group_ind   \n",
              "0     JFK2   1.0  25556.0      3912.0 2022-09-30 2022-10-04            7.0  \\\n",
              "1     JFK2   1.0  25556.0     91302.0 2022-11-16 2022-11-19            4.0   \n",
              "2     JFK2   1.0  33083.0     26096.0 2022-10-07 2022-10-11            4.0   \n",
              "3     JFK2   1.0  33083.0    138855.0 2022-10-19 2022-10-22            5.0   \n",
              "4     JFK2   1.0  33083.0    114502.0 2022-10-18 2022-10-21            6.0   \n",
              "\n",
              "   visibility  quantity_ordered  quantity_submitted  quantity_received    tag  \n",
              "0         2.0               4.0                 4.0                  4  train  \n",
              "1         1.0              20.0                20.0                 20  train  \n",
              "2         4.0               4.0                 4.0                  4  train  \n",
              "3         2.0               4.0                 4.0                  4  train  \n",
              "4         1.0               4.0                 4.0                  4  train  "
            ]
          },
          "execution_count": 5,
          "metadata": {},
          "output_type": "execute_result"
        }
      ],
      "source": [
        "df = pd.concat([df_train, df_test]).reset_index(drop = True)\n",
        "print(df.shape)\n",
        "df.head()"
      ]
    },
    {
      "cell_type": "code",
      "execution_count": 6,
      "metadata": {
        "colab": {
          "base_uri": "https://localhost:8080/"
        },
        "id": "nBDpPu07VCs3",
        "outputId": "03c03b92-ab08-44d8-d55f-1c7ff45e3149"
      },
      "outputs": [
        {
          "data": {
            "text/plain": [
              "LOCATION              1\n",
              "d_id                  1\n",
              "isbn_id               1\n",
              "order_id_1            1\n",
              "order_date            1\n",
              "evsd                  1\n",
              "row_group_ind         1\n",
              "visibility            1\n",
              "quantity_ordered      1\n",
              "quantity_submitted    1\n",
              "quantity_received     0\n",
              "tag                   0\n",
              "dtype: int64"
            ]
          },
          "execution_count": 6,
          "metadata": {},
          "output_type": "execute_result"
        }
      ],
      "source": [
        "df.isnull().sum()"
      ]
    },
    {
      "cell_type": "code",
      "execution_count": 7,
      "metadata": {
        "colab": {
          "base_uri": "https://localhost:8080/",
          "height": 144
        },
        "id": "ekuBROCEI-PF",
        "outputId": "428bd9b5-2167-4b0b-d398-a6e19719b291"
      },
      "outputs": [
        {
          "data": {
            "text/html": [
              "<div>\n",
              "<style scoped>\n",
              "    .dataframe tbody tr th:only-of-type {\n",
              "        vertical-align: middle;\n",
              "    }\n",
              "\n",
              "    .dataframe tbody tr th {\n",
              "        vertical-align: top;\n",
              "    }\n",
              "\n",
              "    .dataframe thead th {\n",
              "        text-align: right;\n",
              "    }\n",
              "</style>\n",
              "<table border=\"1\" class=\"dataframe\">\n",
              "  <thead>\n",
              "    <tr style=\"text-align: right;\">\n",
              "      <th></th>\n",
              "      <th>LOCATION</th>\n",
              "      <th>d_id</th>\n",
              "      <th>isbn_id</th>\n",
              "      <th>order_id_1</th>\n",
              "      <th>order_date</th>\n",
              "      <th>evsd</th>\n",
              "      <th>row_group_ind</th>\n",
              "      <th>visibility</th>\n",
              "      <th>quantity_ordered</th>\n",
              "      <th>quantity_submitted</th>\n",
              "      <th>quantity_received</th>\n",
              "      <th>tag</th>\n",
              "    </tr>\n",
              "  </thead>\n",
              "  <tbody>\n",
              "    <tr>\n",
              "      <th>357596</th>\n",
              "      <td>NaN</td>\n",
              "      <td>NaN</td>\n",
              "      <td>NaN</td>\n",
              "      <td>NaN</td>\n",
              "      <td>NaT</td>\n",
              "      <td>NaT</td>\n",
              "      <td>NaN</td>\n",
              "      <td>NaN</td>\n",
              "      <td>NaN</td>\n",
              "      <td>NaN</td>\n",
              "      <td>1369032</td>\n",
              "      <td>test</td>\n",
              "    </tr>\n",
              "  </tbody>\n",
              "</table>\n",
              "</div>"
            ],
            "text/plain": [
              "       LOCATION  d_id  isbn_id  order_id_1 order_date evsd  row_group_ind   \n",
              "357596      NaN   NaN      NaN         NaN        NaT  NaT            NaN  \\\n",
              "\n",
              "        visibility  quantity_ordered  quantity_submitted  quantity_received   \n",
              "357596         NaN               NaN                 NaN            1369032  \\\n",
              "\n",
              "         tag  \n",
              "357596  test  "
            ]
          },
          "execution_count": 7,
          "metadata": {},
          "output_type": "execute_result"
        }
      ],
      "source": [
        "df[df['LOCATION'].isnull()]"
      ]
    },
    {
      "cell_type": "code",
      "execution_count": 8,
      "metadata": {
        "id": "KDdC5NpaJGd1"
      },
      "outputs": [],
      "source": [
        "df = df[df['LOCATION'].notnull()].reset_index(drop = True)"
      ]
    },
    {
      "cell_type": "code",
      "execution_count": 9,
      "metadata": {
        "colab": {
          "base_uri": "https://localhost:8080/"
        },
        "id": "yr7uWK1VJ1Ae",
        "outputId": "9d095734-e046-4b75-d74f-68116e656c23"
      },
      "outputs": [
        {
          "data": {
            "text/plain": [
              "LOCATION                 1\n",
              "d_id                    38\n",
              "isbn_id               9059\n",
              "order_id_1            1414\n",
              "order_date              79\n",
              "evsd                    81\n",
              "row_group_ind            8\n",
              "visibility              25\n",
              "quantity_ordered       205\n",
              "quantity_submitted     205\n",
              "quantity_received      231\n",
              "tag                      1\n",
              "dtype: int64"
            ]
          },
          "execution_count": 9,
          "metadata": {},
          "output_type": "execute_result"
        }
      ],
      "source": [
        "# Unique Values in each column (Cardinality)\n",
        "df.nunique()"
      ]
    },
    {
      "cell_type": "code",
      "execution_count": 10,
      "metadata": {
        "colab": {
          "base_uri": "https://localhost:8080/"
        },
        "id": "8Zcr9uonKJnm",
        "outputId": "172506bd-ca8e-4b7d-805c-a2b69a00301a"
      },
      "outputs": [
        {
          "data": {
            "text/plain": [
              "LOCATION                      object\n",
              "d_id                           int64\n",
              "isbn_id                        int64\n",
              "order_id_1                     int64\n",
              "order_date            datetime64[ns]\n",
              "evsd                  datetime64[ns]\n",
              "row_group_ind                  int64\n",
              "visibility                     int64\n",
              "quantity_ordered               int64\n",
              "quantity_submitted             int64\n",
              "quantity_received              int64\n",
              "tag                           object\n",
              "dtype: object"
            ]
          },
          "execution_count": 10,
          "metadata": {},
          "output_type": "execute_result"
        }
      ],
      "source": [
        "# Data Types\n",
        "df.dtypes"
      ]
    },
    {
      "cell_type": "markdown",
      "metadata": {
        "id": "vOCACEyBKUPJ"
      },
      "source": [
        "### Observation:\n",
        "- Change d_id, isbn_id and order_id_1 to string as they are not numerical variables."
      ]
    },
    {
      "cell_type": "code",
      "execution_count": 11,
      "metadata": {
        "colab": {
          "base_uri": "https://localhost:8080/",
          "height": 228
        },
        "id": "D5i9ZQINKhba",
        "outputId": "d3a23c1a-e8d5-4c9e-8f59-c0c0888a009f"
      },
      "outputs": [
        {
          "name": "stdout",
          "output_type": "stream",
          "text": [
            "(259287, 12)\n"
          ]
        },
        {
          "data": {
            "text/html": [
              "<div>\n",
              "<style scoped>\n",
              "    .dataframe tbody tr th:only-of-type {\n",
              "        vertical-align: middle;\n",
              "    }\n",
              "\n",
              "    .dataframe tbody tr th {\n",
              "        vertical-align: top;\n",
              "    }\n",
              "\n",
              "    .dataframe thead th {\n",
              "        text-align: right;\n",
              "    }\n",
              "</style>\n",
              "<table border=\"1\" class=\"dataframe\">\n",
              "  <thead>\n",
              "    <tr style=\"text-align: right;\">\n",
              "      <th></th>\n",
              "      <th>LOCATION</th>\n",
              "      <th>d_id</th>\n",
              "      <th>isbn_id</th>\n",
              "      <th>order_id_1</th>\n",
              "      <th>order_date</th>\n",
              "      <th>evsd</th>\n",
              "      <th>row_group_ind</th>\n",
              "      <th>visibility</th>\n",
              "      <th>quantity_ordered</th>\n",
              "      <th>quantity_submitted</th>\n",
              "      <th>quantity_received</th>\n",
              "      <th>tag</th>\n",
              "    </tr>\n",
              "  </thead>\n",
              "  <tbody>\n",
              "    <tr>\n",
              "      <th>0</th>\n",
              "      <td>JFK2</td>\n",
              "      <td>1</td>\n",
              "      <td>25556</td>\n",
              "      <td>3912</td>\n",
              "      <td>2022-09-30</td>\n",
              "      <td>2022-10-04</td>\n",
              "      <td>7</td>\n",
              "      <td>2</td>\n",
              "      <td>4</td>\n",
              "      <td>4</td>\n",
              "      <td>4</td>\n",
              "      <td>train</td>\n",
              "    </tr>\n",
              "    <tr>\n",
              "      <th>1</th>\n",
              "      <td>JFK2</td>\n",
              "      <td>1</td>\n",
              "      <td>25556</td>\n",
              "      <td>91302</td>\n",
              "      <td>2022-11-16</td>\n",
              "      <td>2022-11-19</td>\n",
              "      <td>4</td>\n",
              "      <td>1</td>\n",
              "      <td>20</td>\n",
              "      <td>20</td>\n",
              "      <td>20</td>\n",
              "      <td>train</td>\n",
              "    </tr>\n",
              "  </tbody>\n",
              "</table>\n",
              "</div>"
            ],
            "text/plain": [
              "  LOCATION d_id isbn_id order_id_1 order_date       evsd  row_group_ind   \n",
              "0     JFK2    1   25556       3912 2022-09-30 2022-10-04              7  \\\n",
              "1     JFK2    1   25556      91302 2022-11-16 2022-11-19              4   \n",
              "\n",
              "   visibility  quantity_ordered  quantity_submitted  quantity_received    tag  \n",
              "0           2                 4                   4                  4  train  \n",
              "1           1                20                  20                 20  train  "
            ]
          },
          "execution_count": 11,
          "metadata": {},
          "output_type": "execute_result"
        }
      ],
      "source": [
        "for col in ['d_id', 'isbn_id', 'order_id_1']:\n",
        "  df[col] = df[col].astype(int).astype(str)\n",
        "\n",
        "print(df.shape)\n",
        "df.head(2)"
      ]
    },
    {
      "cell_type": "markdown",
      "metadata": {
        "id": "WQFQfDPEJ-Dw"
      },
      "source": [
        "# EDA"
      ]
    },
    {
      "cell_type": "code",
      "execution_count": 12,
      "metadata": {
        "colab": {
          "base_uri": "https://localhost:8080/"
        },
        "id": "vW2_NU93K2vt",
        "outputId": "05ddcd10-36de-4051-b217-7edb9a65f745"
      },
      "outputs": [
        {
          "data": {
            "text/plain": [
              "count                           259287\n",
              "mean     2022-10-26 14:10:23.540709376\n",
              "min                2022-09-05 00:00:00\n",
              "25%                2022-10-09 00:00:00\n",
              "50%                2022-10-26 00:00:00\n",
              "75%                2022-11-14 00:00:00\n",
              "max                2022-11-30 00:00:00\n",
              "Name: order_date, dtype: object"
            ]
          },
          "execution_count": 12,
          "metadata": {},
          "output_type": "execute_result"
        }
      ],
      "source": [
        "df['order_date'].describe()"
      ]
    },
    {
      "cell_type": "code",
      "execution_count": 13,
      "metadata": {
        "colab": {
          "base_uri": "https://localhost:8080/"
        },
        "id": "wy_-BElELC4C",
        "outputId": "b6fe48fc-e0eb-4a9c-f0ed-6e4749ce538d"
      },
      "outputs": [
        {
          "data": {
            "text/plain": [
              "count                           259287\n",
              "mean     2022-10-30 17:27:44.899513088\n",
              "min                2022-09-27 00:00:00\n",
              "25%                2022-10-13 00:00:00\n",
              "50%                2022-10-31 00:00:00\n",
              "75%                2022-11-17 00:00:00\n",
              "max                2022-12-20 00:00:00\n",
              "Name: evsd, dtype: object"
            ]
          },
          "execution_count": 13,
          "metadata": {},
          "output_type": "execute_result"
        }
      ],
      "source": [
        "\n",
        "df['evsd'].describe()"
      ]
    },
    {
      "cell_type": "markdown",
      "metadata": {
        "id": "AcUZeYaLLOVi"
      },
      "source": [
        "### Observation:\n",
        "- Data is for 6M orders where order-date from 5th sept 2022 till 31st Dec 2022. Whereas deliver date ranges from 27th Sept 2022."
      ]
    },
    {
      "cell_type": "code",
      "execution_count": 14,
      "metadata": {
        "colab": {
          "base_uri": "https://localhost:8080/",
          "height": 210
        },
        "id": "sEc2oYzbLNv_",
        "outputId": "329dc584-7c2c-494f-901b-296924245ad8"
      },
      "outputs": [],
      "source": [
        "# How long does order usually take to deliver?\n",
        "df['order_delivery_days'] = (df['evsd'] - df['order_date']).dt.days"
      ]
    },
    {
      "cell_type": "code",
      "execution_count": 15,
      "metadata": {
        "colab": {
          "base_uri": "https://localhost:8080/",
          "height": 562
        },
        "id": "4JO8RfSxRrQq",
        "outputId": "5916965b-6773-4350-91c0-b820406a65e6"
      },
      "outputs": [],
      "source": [
        "# fig = px.histogram(df, x='d_id')\n",
        "# fig.show();"
      ]
    },
    {
      "cell_type": "code",
      "execution_count": null,
      "metadata": {},
      "outputs": [],
      "source": []
    },
    {
      "cell_type": "code",
      "execution_count": 16,
      "metadata": {
        "colab": {
          "base_uri": "https://localhost:8080/",
          "height": 562
        },
        "id": "MwUtLmHVQilC",
        "outputId": "3ec5b79d-67a4-4411-8920-2c50b91dbd5a"
      },
      "outputs": [],
      "source": [
        "# fig = px.box(df, x='d_id', y='order_delivery_days', color_discrete_sequence=['#1f77b4'])\n",
        "# fig.show();\n"
      ]
    },
    {
      "cell_type": "code",
      "execution_count": null,
      "metadata": {},
      "outputs": [],
      "source": []
    },
    {
      "cell_type": "code",
      "execution_count": 17,
      "metadata": {
        "colab": {
          "base_uri": "https://localhost:8080/",
          "height": 542
        },
        "id": "rqsuUPkDSXNL",
        "outputId": "b7d0bad7-4609-40bc-e3f8-1728b6092951"
      },
      "outputs": [],
      "source": [
        "\n",
        "# fig = px.bar(df, x='d_id', y='order_delivery_days')\n",
        "# fig.show();"
      ]
    },
    {
      "cell_type": "code",
      "execution_count": 18,
      "metadata": {},
      "outputs": [],
      "source": [
        "# pio.write_html(fig, file='BarPlot_d_id_Delivery_days.html', auto_open=True)"
      ]
    },
    {
      "cell_type": "code",
      "execution_count": 19,
      "metadata": {},
      "outputs": [
        {
          "data": {
            "text/plain": [
              "Index(['LOCATION', 'd_id', 'isbn_id', 'order_id_1', 'order_date', 'evsd',\n",
              "       'row_group_ind', 'visibility', 'quantity_ordered', 'quantity_submitted',\n",
              "       'quantity_received', 'tag', 'order_delivery_days'],\n",
              "      dtype='object')"
            ]
          },
          "execution_count": 19,
          "metadata": {},
          "output_type": "execute_result"
        }
      ],
      "source": [
        "df.columns"
      ]
    },
    {
      "cell_type": "code",
      "execution_count": 20,
      "metadata": {},
      "outputs": [],
      "source": [
        "df['order_year'] = df['order_date'].dt.year\n",
        "df['order_month'] = df['order_date'].dt.month\n",
        "df['order_day'] = df['order_date'].dt.day\n",
        "df['order_dayofweek'] = df['order_date'].dt.dayofweek\n",
        "df['order_dayofyear'] = df['order_date'].dt.dayofyear\n",
        "\n",
        "df['delivered_year'] = df['evsd'].dt.year\n",
        "df['delivered_month'] = df['evsd'].dt.month\n",
        "df['delivered_day'] = df['evsd'].dt.day\n",
        "df['delivered_dayofweek'] = df['evsd'].dt.dayofweek\n",
        "df['delivered_dayofyear'] = df['evsd'].dt.dayofyear\n"
      ]
    },
    {
      "cell_type": "code",
      "execution_count": 21,
      "metadata": {
        "id": "CiGef9btJ089"
      },
      "outputs": [
        {
          "data": {
            "text/html": [
              "<div>\n",
              "<style scoped>\n",
              "    .dataframe tbody tr th:only-of-type {\n",
              "        vertical-align: middle;\n",
              "    }\n",
              "\n",
              "    .dataframe tbody tr th {\n",
              "        vertical-align: top;\n",
              "    }\n",
              "\n",
              "    .dataframe thead th {\n",
              "        text-align: right;\n",
              "    }\n",
              "</style>\n",
              "<table border=\"1\" class=\"dataframe\">\n",
              "  <thead>\n",
              "    <tr style=\"text-align: right;\">\n",
              "      <th></th>\n",
              "      <th>LOCATION</th>\n",
              "      <th>d_id</th>\n",
              "      <th>isbn_id</th>\n",
              "      <th>order_id_1</th>\n",
              "      <th>order_date</th>\n",
              "      <th>evsd</th>\n",
              "      <th>row_group_ind</th>\n",
              "      <th>visibility</th>\n",
              "      <th>quantity_ordered</th>\n",
              "      <th>quantity_submitted</th>\n",
              "      <th>quantity_received</th>\n",
              "      <th>tag</th>\n",
              "      <th>order_delivery_days</th>\n",
              "      <th>order_year</th>\n",
              "      <th>order_month</th>\n",
              "      <th>order_day</th>\n",
              "      <th>order_dayofweek</th>\n",
              "      <th>order_dayofyear</th>\n",
              "      <th>delivered_year</th>\n",
              "      <th>delivered_month</th>\n",
              "      <th>delivered_day</th>\n",
              "      <th>delivered_dayofweek</th>\n",
              "      <th>delivered_dayofyear</th>\n",
              "      <th>order_month_sin</th>\n",
              "      <th>order_month_cos</th>\n",
              "      <th>order_dayofweek_sin</th>\n",
              "      <th>order_dayofweek_cos</th>\n",
              "      <th>delivered_month_sin</th>\n",
              "      <th>delivered_month_cos</th>\n",
              "      <th>delivered_dayofweek_sin</th>\n",
              "      <th>delivered_dayofweek_cos</th>\n",
              "    </tr>\n",
              "  </thead>\n",
              "  <tbody>\n",
              "    <tr>\n",
              "      <th>0</th>\n",
              "      <td>JFK2</td>\n",
              "      <td>1</td>\n",
              "      <td>25556</td>\n",
              "      <td>3912</td>\n",
              "      <td>2022-09-30</td>\n",
              "      <td>2022-10-04</td>\n",
              "      <td>7.0</td>\n",
              "      <td>2.0</td>\n",
              "      <td>4.0</td>\n",
              "      <td>4.0</td>\n",
              "      <td>4</td>\n",
              "      <td>train</td>\n",
              "      <td>4</td>\n",
              "      <td>2022</td>\n",
              "      <td>9</td>\n",
              "      <td>30</td>\n",
              "      <td>4</td>\n",
              "      <td>273</td>\n",
              "      <td>2022</td>\n",
              "      <td>10</td>\n",
              "      <td>4</td>\n",
              "      <td>1</td>\n",
              "      <td>277</td>\n",
              "      <td>-1.000000</td>\n",
              "      <td>-1.836970e-16</td>\n",
              "      <td>-0.433884</td>\n",
              "      <td>-0.900969</td>\n",
              "      <td>-0.866025</td>\n",
              "      <td>0.500000</td>\n",
              "      <td>0.781831</td>\n",
              "      <td>0.623490</td>\n",
              "    </tr>\n",
              "    <tr>\n",
              "      <th>1</th>\n",
              "      <td>JFK2</td>\n",
              "      <td>1</td>\n",
              "      <td>25556</td>\n",
              "      <td>91302</td>\n",
              "      <td>2022-11-16</td>\n",
              "      <td>2022-11-19</td>\n",
              "      <td>4.0</td>\n",
              "      <td>1.0</td>\n",
              "      <td>20.0</td>\n",
              "      <td>20.0</td>\n",
              "      <td>20</td>\n",
              "      <td>train</td>\n",
              "      <td>3</td>\n",
              "      <td>2022</td>\n",
              "      <td>11</td>\n",
              "      <td>16</td>\n",
              "      <td>2</td>\n",
              "      <td>320</td>\n",
              "      <td>2022</td>\n",
              "      <td>11</td>\n",
              "      <td>19</td>\n",
              "      <td>5</td>\n",
              "      <td>323</td>\n",
              "      <td>-0.500000</td>\n",
              "      <td>8.660254e-01</td>\n",
              "      <td>0.974928</td>\n",
              "      <td>-0.222521</td>\n",
              "      <td>-0.500000</td>\n",
              "      <td>0.866025</td>\n",
              "      <td>-0.974928</td>\n",
              "      <td>-0.222521</td>\n",
              "    </tr>\n",
              "    <tr>\n",
              "      <th>2</th>\n",
              "      <td>JFK2</td>\n",
              "      <td>1</td>\n",
              "      <td>33083</td>\n",
              "      <td>26096</td>\n",
              "      <td>2022-10-07</td>\n",
              "      <td>2022-10-11</td>\n",
              "      <td>4.0</td>\n",
              "      <td>4.0</td>\n",
              "      <td>4.0</td>\n",
              "      <td>4.0</td>\n",
              "      <td>4</td>\n",
              "      <td>train</td>\n",
              "      <td>4</td>\n",
              "      <td>2022</td>\n",
              "      <td>10</td>\n",
              "      <td>7</td>\n",
              "      <td>4</td>\n",
              "      <td>280</td>\n",
              "      <td>2022</td>\n",
              "      <td>10</td>\n",
              "      <td>11</td>\n",
              "      <td>1</td>\n",
              "      <td>284</td>\n",
              "      <td>-0.866025</td>\n",
              "      <td>5.000000e-01</td>\n",
              "      <td>-0.433884</td>\n",
              "      <td>-0.900969</td>\n",
              "      <td>-0.866025</td>\n",
              "      <td>0.500000</td>\n",
              "      <td>0.781831</td>\n",
              "      <td>0.623490</td>\n",
              "    </tr>\n",
              "    <tr>\n",
              "      <th>3</th>\n",
              "      <td>JFK2</td>\n",
              "      <td>1</td>\n",
              "      <td>33083</td>\n",
              "      <td>138855</td>\n",
              "      <td>2022-10-19</td>\n",
              "      <td>2022-10-22</td>\n",
              "      <td>5.0</td>\n",
              "      <td>2.0</td>\n",
              "      <td>4.0</td>\n",
              "      <td>4.0</td>\n",
              "      <td>4</td>\n",
              "      <td>train</td>\n",
              "      <td>3</td>\n",
              "      <td>2022</td>\n",
              "      <td>10</td>\n",
              "      <td>19</td>\n",
              "      <td>2</td>\n",
              "      <td>292</td>\n",
              "      <td>2022</td>\n",
              "      <td>10</td>\n",
              "      <td>22</td>\n",
              "      <td>5</td>\n",
              "      <td>295</td>\n",
              "      <td>-0.866025</td>\n",
              "      <td>5.000000e-01</td>\n",
              "      <td>0.974928</td>\n",
              "      <td>-0.222521</td>\n",
              "      <td>-0.866025</td>\n",
              "      <td>0.500000</td>\n",
              "      <td>-0.974928</td>\n",
              "      <td>-0.222521</td>\n",
              "    </tr>\n",
              "    <tr>\n",
              "      <th>4</th>\n",
              "      <td>JFK2</td>\n",
              "      <td>1</td>\n",
              "      <td>33083</td>\n",
              "      <td>114502</td>\n",
              "      <td>2022-10-18</td>\n",
              "      <td>2022-10-21</td>\n",
              "      <td>6.0</td>\n",
              "      <td>1.0</td>\n",
              "      <td>4.0</td>\n",
              "      <td>4.0</td>\n",
              "      <td>4</td>\n",
              "      <td>train</td>\n",
              "      <td>3</td>\n",
              "      <td>2022</td>\n",
              "      <td>10</td>\n",
              "      <td>18</td>\n",
              "      <td>1</td>\n",
              "      <td>291</td>\n",
              "      <td>2022</td>\n",
              "      <td>10</td>\n",
              "      <td>21</td>\n",
              "      <td>4</td>\n",
              "      <td>294</td>\n",
              "      <td>-0.866025</td>\n",
              "      <td>5.000000e-01</td>\n",
              "      <td>0.781831</td>\n",
              "      <td>0.623490</td>\n",
              "      <td>-0.866025</td>\n",
              "      <td>0.500000</td>\n",
              "      <td>-0.433884</td>\n",
              "      <td>-0.900969</td>\n",
              "    </tr>\n",
              "  </tbody>\n",
              "</table>\n",
              "</div>"
            ],
            "text/plain": [
              "  LOCATION d_id isbn_id order_id_1 order_date       evsd  row_group_ind   \n",
              "0     JFK2    1   25556       3912 2022-09-30 2022-10-04            7.0  \\\n",
              "1     JFK2    1   25556      91302 2022-11-16 2022-11-19            4.0   \n",
              "2     JFK2    1   33083      26096 2022-10-07 2022-10-11            4.0   \n",
              "3     JFK2    1   33083     138855 2022-10-19 2022-10-22            5.0   \n",
              "4     JFK2    1   33083     114502 2022-10-18 2022-10-21            6.0   \n",
              "\n",
              "   visibility  quantity_ordered  quantity_submitted  quantity_received    tag   \n",
              "0         2.0               4.0                 4.0                  4  train  \\\n",
              "1         1.0              20.0                20.0                 20  train   \n",
              "2         4.0               4.0                 4.0                  4  train   \n",
              "3         2.0               4.0                 4.0                  4  train   \n",
              "4         1.0               4.0                 4.0                  4  train   \n",
              "\n",
              "   order_delivery_days  order_year  order_month  order_day  order_dayofweek   \n",
              "0                    4        2022            9         30                4  \\\n",
              "1                    3        2022           11         16                2   \n",
              "2                    4        2022           10          7                4   \n",
              "3                    3        2022           10         19                2   \n",
              "4                    3        2022           10         18                1   \n",
              "\n",
              "   order_dayofyear  delivered_year  delivered_month  delivered_day   \n",
              "0              273            2022               10              4  \\\n",
              "1              320            2022               11             19   \n",
              "2              280            2022               10             11   \n",
              "3              292            2022               10             22   \n",
              "4              291            2022               10             21   \n",
              "\n",
              "   delivered_dayofweek  delivered_dayofyear  order_month_sin  order_month_cos   \n",
              "0                    1                  277        -1.000000    -1.836970e-16  \\\n",
              "1                    5                  323        -0.500000     8.660254e-01   \n",
              "2                    1                  284        -0.866025     5.000000e-01   \n",
              "3                    5                  295        -0.866025     5.000000e-01   \n",
              "4                    4                  294        -0.866025     5.000000e-01   \n",
              "\n",
              "   order_dayofweek_sin  order_dayofweek_cos  delivered_month_sin   \n",
              "0            -0.433884            -0.900969            -0.866025  \\\n",
              "1             0.974928            -0.222521            -0.500000   \n",
              "2            -0.433884            -0.900969            -0.866025   \n",
              "3             0.974928            -0.222521            -0.866025   \n",
              "4             0.781831             0.623490            -0.866025   \n",
              "\n",
              "   delivered_month_cos  delivered_dayofweek_sin  delivered_dayofweek_cos  \n",
              "0             0.500000                 0.781831                 0.623490  \n",
              "1             0.866025                -0.974928                -0.222521  \n",
              "2             0.500000                 0.781831                 0.623490  \n",
              "3             0.500000                -0.974928                -0.222521  \n",
              "4             0.500000                -0.433884                -0.900969  "
            ]
          },
          "execution_count": 21,
          "metadata": {},
          "output_type": "execute_result"
        }
      ],
      "source": [
        "df['order_month_sin'] = np.sin(2 * np.pi * df['order_month'] / 12)\n",
        "df['order_month_cos'] = np.cos(2 * np.pi * df['order_month'] / 12)\n",
        "\n",
        "df['order_dayofweek_sin'] = np.sin(2 * np.pi * df['order_dayofweek'] / 7)\n",
        "df['order_dayofweek_cos'] = np.cos(2 * np.pi * df['order_dayofweek'] / 7)\n",
        "\n",
        "df['delivered_month_sin'] = np.sin(2 * np.pi * df['delivered_month'] / 12)\n",
        "df['delivered_month_cos'] = np.cos(2 * np.pi * df['delivered_month'] / 12)\n",
        "\n",
        "df['delivered_dayofweek_sin'] = np.sin(2 * np.pi * df['delivered_dayofweek'] / 7)\n",
        "df['delivered_dayofweek_cos'] = np.cos(2 * np.pi * df['delivered_dayofweek'] / 7)\n",
        "\n",
        "df.head()"
      ]
    },
    {
      "cell_type": "code",
      "execution_count": 22,
      "metadata": {
        "id": "nQRo2X9iJ05n"
      },
      "outputs": [
        {
          "data": {
            "text/html": [
              "<div>\n",
              "<style scoped>\n",
              "    .dataframe tbody tr th:only-of-type {\n",
              "        vertical-align: middle;\n",
              "    }\n",
              "\n",
              "    .dataframe tbody tr th {\n",
              "        vertical-align: top;\n",
              "    }\n",
              "\n",
              "    .dataframe thead th {\n",
              "        text-align: right;\n",
              "    }\n",
              "</style>\n",
              "<table border=\"1\" class=\"dataframe\">\n",
              "  <thead>\n",
              "    <tr style=\"text-align: right;\">\n",
              "      <th></th>\n",
              "      <th>LOCATION</th>\n",
              "      <th>d_id</th>\n",
              "      <th>isbn_id</th>\n",
              "      <th>order_id_1</th>\n",
              "      <th>order_date</th>\n",
              "      <th>evsd</th>\n",
              "      <th>row_group_ind</th>\n",
              "      <th>visibility</th>\n",
              "      <th>quantity_ordered</th>\n",
              "      <th>quantity_submitted</th>\n",
              "      <th>quantity_received</th>\n",
              "      <th>tag</th>\n",
              "      <th>order_delivery_days</th>\n",
              "      <th>order_year</th>\n",
              "      <th>order_month</th>\n",
              "      <th>order_day</th>\n",
              "      <th>order_dayofweek</th>\n",
              "      <th>order_dayofyear</th>\n",
              "      <th>delivered_year</th>\n",
              "      <th>delivered_month</th>\n",
              "      <th>delivered_day</th>\n",
              "      <th>delivered_dayofweek</th>\n",
              "      <th>delivered_dayofyear</th>\n",
              "      <th>order_month_sin</th>\n",
              "      <th>order_month_cos</th>\n",
              "      <th>order_dayofweek_sin</th>\n",
              "      <th>order_dayofweek_cos</th>\n",
              "      <th>delivered_month_sin</th>\n",
              "      <th>delivered_month_cos</th>\n",
              "      <th>delivered_dayofweek_sin</th>\n",
              "      <th>delivered_dayofweek_cos</th>\n",
              "      <th>order_month_season</th>\n",
              "      <th>delivered_month_season</th>\n",
              "    </tr>\n",
              "  </thead>\n",
              "  <tbody>\n",
              "    <tr>\n",
              "      <th>0</th>\n",
              "      <td>JFK2</td>\n",
              "      <td>1</td>\n",
              "      <td>25556</td>\n",
              "      <td>3912</td>\n",
              "      <td>2022-09-30</td>\n",
              "      <td>2022-10-04</td>\n",
              "      <td>7.0</td>\n",
              "      <td>2.0</td>\n",
              "      <td>4.0</td>\n",
              "      <td>4.0</td>\n",
              "      <td>4</td>\n",
              "      <td>train</td>\n",
              "      <td>4</td>\n",
              "      <td>2022</td>\n",
              "      <td>9</td>\n",
              "      <td>30</td>\n",
              "      <td>4</td>\n",
              "      <td>273</td>\n",
              "      <td>2022</td>\n",
              "      <td>10</td>\n",
              "      <td>4</td>\n",
              "      <td>1</td>\n",
              "      <td>277</td>\n",
              "      <td>-1.000000</td>\n",
              "      <td>-1.836970e-16</td>\n",
              "      <td>-0.433884</td>\n",
              "      <td>-0.900969</td>\n",
              "      <td>-0.866025</td>\n",
              "      <td>0.500000</td>\n",
              "      <td>0.781831</td>\n",
              "      <td>0.623490</td>\n",
              "      <td>fall</td>\n",
              "      <td>fall</td>\n",
              "    </tr>\n",
              "    <tr>\n",
              "      <th>1</th>\n",
              "      <td>JFK2</td>\n",
              "      <td>1</td>\n",
              "      <td>25556</td>\n",
              "      <td>91302</td>\n",
              "      <td>2022-11-16</td>\n",
              "      <td>2022-11-19</td>\n",
              "      <td>4.0</td>\n",
              "      <td>1.0</td>\n",
              "      <td>20.0</td>\n",
              "      <td>20.0</td>\n",
              "      <td>20</td>\n",
              "      <td>train</td>\n",
              "      <td>3</td>\n",
              "      <td>2022</td>\n",
              "      <td>11</td>\n",
              "      <td>16</td>\n",
              "      <td>2</td>\n",
              "      <td>320</td>\n",
              "      <td>2022</td>\n",
              "      <td>11</td>\n",
              "      <td>19</td>\n",
              "      <td>5</td>\n",
              "      <td>323</td>\n",
              "      <td>-0.500000</td>\n",
              "      <td>8.660254e-01</td>\n",
              "      <td>0.974928</td>\n",
              "      <td>-0.222521</td>\n",
              "      <td>-0.500000</td>\n",
              "      <td>0.866025</td>\n",
              "      <td>-0.974928</td>\n",
              "      <td>-0.222521</td>\n",
              "      <td>fall</td>\n",
              "      <td>fall</td>\n",
              "    </tr>\n",
              "    <tr>\n",
              "      <th>2</th>\n",
              "      <td>JFK2</td>\n",
              "      <td>1</td>\n",
              "      <td>33083</td>\n",
              "      <td>26096</td>\n",
              "      <td>2022-10-07</td>\n",
              "      <td>2022-10-11</td>\n",
              "      <td>4.0</td>\n",
              "      <td>4.0</td>\n",
              "      <td>4.0</td>\n",
              "      <td>4.0</td>\n",
              "      <td>4</td>\n",
              "      <td>train</td>\n",
              "      <td>4</td>\n",
              "      <td>2022</td>\n",
              "      <td>10</td>\n",
              "      <td>7</td>\n",
              "      <td>4</td>\n",
              "      <td>280</td>\n",
              "      <td>2022</td>\n",
              "      <td>10</td>\n",
              "      <td>11</td>\n",
              "      <td>1</td>\n",
              "      <td>284</td>\n",
              "      <td>-0.866025</td>\n",
              "      <td>5.000000e-01</td>\n",
              "      <td>-0.433884</td>\n",
              "      <td>-0.900969</td>\n",
              "      <td>-0.866025</td>\n",
              "      <td>0.500000</td>\n",
              "      <td>0.781831</td>\n",
              "      <td>0.623490</td>\n",
              "      <td>fall</td>\n",
              "      <td>fall</td>\n",
              "    </tr>\n",
              "    <tr>\n",
              "      <th>3</th>\n",
              "      <td>JFK2</td>\n",
              "      <td>1</td>\n",
              "      <td>33083</td>\n",
              "      <td>138855</td>\n",
              "      <td>2022-10-19</td>\n",
              "      <td>2022-10-22</td>\n",
              "      <td>5.0</td>\n",
              "      <td>2.0</td>\n",
              "      <td>4.0</td>\n",
              "      <td>4.0</td>\n",
              "      <td>4</td>\n",
              "      <td>train</td>\n",
              "      <td>3</td>\n",
              "      <td>2022</td>\n",
              "      <td>10</td>\n",
              "      <td>19</td>\n",
              "      <td>2</td>\n",
              "      <td>292</td>\n",
              "      <td>2022</td>\n",
              "      <td>10</td>\n",
              "      <td>22</td>\n",
              "      <td>5</td>\n",
              "      <td>295</td>\n",
              "      <td>-0.866025</td>\n",
              "      <td>5.000000e-01</td>\n",
              "      <td>0.974928</td>\n",
              "      <td>-0.222521</td>\n",
              "      <td>-0.866025</td>\n",
              "      <td>0.500000</td>\n",
              "      <td>-0.974928</td>\n",
              "      <td>-0.222521</td>\n",
              "      <td>fall</td>\n",
              "      <td>fall</td>\n",
              "    </tr>\n",
              "    <tr>\n",
              "      <th>4</th>\n",
              "      <td>JFK2</td>\n",
              "      <td>1</td>\n",
              "      <td>33083</td>\n",
              "      <td>114502</td>\n",
              "      <td>2022-10-18</td>\n",
              "      <td>2022-10-21</td>\n",
              "      <td>6.0</td>\n",
              "      <td>1.0</td>\n",
              "      <td>4.0</td>\n",
              "      <td>4.0</td>\n",
              "      <td>4</td>\n",
              "      <td>train</td>\n",
              "      <td>3</td>\n",
              "      <td>2022</td>\n",
              "      <td>10</td>\n",
              "      <td>18</td>\n",
              "      <td>1</td>\n",
              "      <td>291</td>\n",
              "      <td>2022</td>\n",
              "      <td>10</td>\n",
              "      <td>21</td>\n",
              "      <td>4</td>\n",
              "      <td>294</td>\n",
              "      <td>-0.866025</td>\n",
              "      <td>5.000000e-01</td>\n",
              "      <td>0.781831</td>\n",
              "      <td>0.623490</td>\n",
              "      <td>-0.866025</td>\n",
              "      <td>0.500000</td>\n",
              "      <td>-0.433884</td>\n",
              "      <td>-0.900969</td>\n",
              "      <td>fall</td>\n",
              "      <td>fall</td>\n",
              "    </tr>\n",
              "  </tbody>\n",
              "</table>\n",
              "</div>"
            ],
            "text/plain": [
              "  LOCATION d_id isbn_id order_id_1 order_date       evsd  row_group_ind   \n",
              "0     JFK2    1   25556       3912 2022-09-30 2022-10-04            7.0  \\\n",
              "1     JFK2    1   25556      91302 2022-11-16 2022-11-19            4.0   \n",
              "2     JFK2    1   33083      26096 2022-10-07 2022-10-11            4.0   \n",
              "3     JFK2    1   33083     138855 2022-10-19 2022-10-22            5.0   \n",
              "4     JFK2    1   33083     114502 2022-10-18 2022-10-21            6.0   \n",
              "\n",
              "   visibility  quantity_ordered  quantity_submitted  quantity_received    tag   \n",
              "0         2.0               4.0                 4.0                  4  train  \\\n",
              "1         1.0              20.0                20.0                 20  train   \n",
              "2         4.0               4.0                 4.0                  4  train   \n",
              "3         2.0               4.0                 4.0                  4  train   \n",
              "4         1.0               4.0                 4.0                  4  train   \n",
              "\n",
              "   order_delivery_days  order_year  order_month  order_day  order_dayofweek   \n",
              "0                    4        2022            9         30                4  \\\n",
              "1                    3        2022           11         16                2   \n",
              "2                    4        2022           10          7                4   \n",
              "3                    3        2022           10         19                2   \n",
              "4                    3        2022           10         18                1   \n",
              "\n",
              "   order_dayofyear  delivered_year  delivered_month  delivered_day   \n",
              "0              273            2022               10              4  \\\n",
              "1              320            2022               11             19   \n",
              "2              280            2022               10             11   \n",
              "3              292            2022               10             22   \n",
              "4              291            2022               10             21   \n",
              "\n",
              "   delivered_dayofweek  delivered_dayofyear  order_month_sin  order_month_cos   \n",
              "0                    1                  277        -1.000000    -1.836970e-16  \\\n",
              "1                    5                  323        -0.500000     8.660254e-01   \n",
              "2                    1                  284        -0.866025     5.000000e-01   \n",
              "3                    5                  295        -0.866025     5.000000e-01   \n",
              "4                    4                  294        -0.866025     5.000000e-01   \n",
              "\n",
              "   order_dayofweek_sin  order_dayofweek_cos  delivered_month_sin   \n",
              "0            -0.433884            -0.900969            -0.866025  \\\n",
              "1             0.974928            -0.222521            -0.500000   \n",
              "2            -0.433884            -0.900969            -0.866025   \n",
              "3             0.974928            -0.222521            -0.866025   \n",
              "4             0.781831             0.623490            -0.866025   \n",
              "\n",
              "   delivered_month_cos  delivered_dayofweek_sin  delivered_dayofweek_cos   \n",
              "0             0.500000                 0.781831                 0.623490  \\\n",
              "1             0.866025                -0.974928                -0.222521   \n",
              "2             0.500000                 0.781831                 0.623490   \n",
              "3             0.500000                -0.974928                -0.222521   \n",
              "4             0.500000                -0.433884                -0.900969   \n",
              "\n",
              "  order_month_season delivered_month_season  \n",
              "0               fall                   fall  \n",
              "1               fall                   fall  \n",
              "2               fall                   fall  \n",
              "3               fall                   fall  \n",
              "4               fall                   fall  "
            ]
          },
          "execution_count": 22,
          "metadata": {},
          "output_type": "execute_result"
        }
      ],
      "source": [
        "# As categorical variable\n",
        "df['order_month_season'] = df['order_date'].dt.month.map({1: 'winter', 2: 'winter', 3: 'spring', 4: 'spring', 5: 'spring', 6: 'summer', 7: 'summer', 8: 'summer', 9: 'fall', 10: 'fall', 11: 'fall', 12: 'winter'})\n",
        "df['delivered_month_season'] = df['evsd'].dt.month.map({1: 'winter', 2: 'winter', 3: 'spring', 4: 'spring', 5: 'spring', 6: 'summer', 7: 'summer', 8: 'summer', 9: 'fall', 10: 'fall', 11: 'fall', 12: 'winter'})\n",
        "\n",
        "# As continuous variable using sine and cosine transformations\n",
        "df['order_month_sin'] = np.sin(2 * np.pi * df['order_month'] / 12)\n",
        "df['order_month_cos'] = np.cos(2 * np.pi * df['order_month'] / 12)\n",
        "df['delivered_month_sin'] = np.sin(2 * np.pi * df['delivered_month'] / 12)\n",
        "df['delivered_month_cos'] = np.cos(2 * np.pi * df['delivered_month'] / 12)\n",
        "df.head()"
      ]
    },
    {
      "cell_type": "code",
      "execution_count": 23,
      "metadata": {
        "id": "YeZ0ofusJ01y"
      },
      "outputs": [],
      "source": [
        "df['order_weekday'] = (df['order_dayofweek'] < 5).astype(int)  # 0 for weekend, 1 for weekday\n",
        "df['delivered_weekday'] = (df['delivered_dayofweek'] < 5).astype(int)\n"
      ]
    },
    {
      "cell_type": "code",
      "execution_count": 15,
      "metadata": {},
      "outputs": [
        {
          "data": {
            "text/plain": [
              "(259287, 12)"
            ]
          },
          "execution_count": 15,
          "metadata": {},
          "output_type": "execute_result"
        }
      ],
      "source": [
        "df.shape"
      ]
    },
    {
      "cell_type": "code",
      "execution_count": 16,
      "metadata": {},
      "outputs": [
        {
          "data": {
            "text/html": [
              "<div>\n",
              "<style scoped>\n",
              "    .dataframe tbody tr th:only-of-type {\n",
              "        vertical-align: middle;\n",
              "    }\n",
              "\n",
              "    .dataframe tbody tr th {\n",
              "        vertical-align: top;\n",
              "    }\n",
              "\n",
              "    .dataframe thead th {\n",
              "        text-align: right;\n",
              "    }\n",
              "</style>\n",
              "<table border=\"1\" class=\"dataframe\">\n",
              "  <thead>\n",
              "    <tr style=\"text-align: right;\">\n",
              "      <th></th>\n",
              "      <th>LOCATION</th>\n",
              "      <th>d_id</th>\n",
              "      <th>isbn_id</th>\n",
              "      <th>order_id_1</th>\n",
              "      <th>order_date</th>\n",
              "      <th>evsd</th>\n",
              "      <th>row_group_ind</th>\n",
              "      <th>visibility</th>\n",
              "      <th>quantity_ordered</th>\n",
              "      <th>quantity_submitted</th>\n",
              "      <th>quantity_received</th>\n",
              "      <th>tag</th>\n",
              "    </tr>\n",
              "  </thead>\n",
              "  <tbody>\n",
              "    <tr>\n",
              "      <th>0</th>\n",
              "      <td>JFK2</td>\n",
              "      <td>1</td>\n",
              "      <td>25556</td>\n",
              "      <td>3912</td>\n",
              "      <td>2022-09-30</td>\n",
              "      <td>2022-10-04</td>\n",
              "      <td>7</td>\n",
              "      <td>2</td>\n",
              "      <td>4</td>\n",
              "      <td>4</td>\n",
              "      <td>4</td>\n",
              "      <td>train</td>\n",
              "    </tr>\n",
              "  </tbody>\n",
              "</table>\n",
              "</div>"
            ],
            "text/plain": [
              "  LOCATION d_id isbn_id order_id_1 order_date       evsd  row_group_ind   \n",
              "0     JFK2    1   25556       3912 2022-09-30 2022-10-04              7  \\\n",
              "\n",
              "   visibility  quantity_ordered  quantity_submitted  quantity_received    tag  \n",
              "0           2                 4                   4                  4  train  "
            ]
          },
          "execution_count": 16,
          "metadata": {},
          "output_type": "execute_result"
        }
      ],
      "source": [
        "df.head(1)"
      ]
    },
    {
      "cell_type": "code",
      "execution_count": 54,
      "metadata": {},
      "outputs": [
        {
          "data": {
            "text/plain": [
              "540__4595     0.001158\n",
              "524__26550    0.001124\n",
              "410__24163    0.001119\n",
              "540__373      0.001116\n",
              "540__14820    0.001116\n",
              "410__29416    0.001116\n",
              "524__7865     0.001102\n",
              "410__10204    0.001096\n",
              "524__29771    0.001077\n",
              "410__19394    0.001077\n",
              "410__1528     0.001077\n",
              "524__8453     0.001071\n",
              "410__28311    0.001057\n",
              "410__2081     0.001054\n",
              "410__28446    0.001054\n",
              "410__13646    0.001054\n",
              "524__27825    0.001051\n",
              "524__21625    0.001049\n",
              "410__26105    0.001043\n",
              "540__31986    0.001032\n",
              "524__6790     0.001026\n",
              "524__19934    0.001024\n",
              "410__32365    0.001018\n",
              "410__8551     0.001018\n",
              "410__17481    0.001012\n",
              "410__30418    0.000998\n",
              "410__5310     0.000998\n",
              "410__31291    0.000979\n",
              "410__12868    0.000976\n",
              "410__28595    0.000973\n",
              "410__1108     0.000970\n",
              "410__6998     0.000956\n",
              "410__4002     0.000954\n",
              "540__29918    0.000948\n",
              "540__24090    0.000948\n",
              "524__30821    0.000948\n",
              "540__15727    0.000948\n",
              "540__9338     0.000948\n",
              "540__2044     0.000942\n",
              "540__15592    0.000937\n",
              "410__30967    0.000937\n",
              "410__20003    0.000937\n",
              "524__20309    0.000937\n",
              "540__23917    0.000937\n",
              "540__3935     0.000937\n",
              "540__24747    0.000937\n",
              "540__13418    0.000937\n",
              "540__7468     0.000937\n",
              "540__10228    0.000937\n",
              "540__2547     0.000937\n",
              "Name: proportion, dtype: float64"
            ]
          },
          "execution_count": 54,
          "metadata": {},
          "output_type": "execute_result"
        }
      ],
      "source": [
        "(df['d_id'] +'__' + df['isbn_id']).value_counts(dropna = False, normalize = True).head(50)\n",
        "# Remaining you put as unknown\n"
      ]
    },
    {
      "cell_type": "code",
      "execution_count": 53,
      "metadata": {},
      "outputs": [
        {
          "data": {
            "text/plain": [
              "isbn_id\n",
              "4595     0.001158\n",
              "26550    0.001124\n",
              "24163    0.001119\n",
              "373      0.001116\n",
              "14820    0.001116\n",
              "29416    0.001116\n",
              "7865     0.001102\n",
              "10204    0.001096\n",
              "29771    0.001077\n",
              "19394    0.001077\n",
              "Name: proportion, dtype: float64"
            ]
          },
          "execution_count": 53,
          "metadata": {},
          "output_type": "execute_result"
        }
      ],
      "source": [
        "df['isbn_id'].value_counts(dropna = False, normalize = True).head(10)"
      ]
    },
    {
      "cell_type": "code",
      "execution_count": 51,
      "metadata": {},
      "outputs": [
        {
          "data": {
            "text/plain": [
              "d_id\n",
              "509    0.382574\n",
              "584    0.123184\n",
              "540    0.094204\n",
              "648    0.060823\n",
              "7      0.047584\n",
              "410    0.045951\n",
              "1      0.042819\n",
              "643    0.021091\n",
              "684    0.019609\n",
              "454    0.019226\n",
              "110    0.017995\n",
              "639    0.015613\n",
              "174    0.014419\n",
              "524    0.014391\n",
              "652    0.013622\n",
              "18     0.008901\n",
              "136    0.008266\n",
              "393    0.007525\n",
              "566    0.007192\n",
              "472    0.006689\n",
              "763    0.006502\n",
              "343    0.005271\n",
              "218    0.004899\n",
              "711    0.003591\n",
              "13     0.001913\n",
              "302    0.001326\n",
              "373    0.001270\n",
              "830    0.001054\n",
              "440    0.000453\n",
              "79     0.000419\n",
              "613    0.000411\n",
              "216    0.000313\n",
              "845    0.000277\n",
              "701    0.000235\n",
              "127    0.000204\n",
              "746    0.000067\n",
              "803    0.000056\n",
              "462    0.000039\n",
              "210    0.000017\n",
              "241    0.000006\n",
              "Name: proportion, dtype: float64"
            ]
          },
          "execution_count": 51,
          "metadata": {},
          "output_type": "execute_result"
        }
      ],
      "source": [
        "df['d_id'].value_counts(dropna = False, normalize = True)"
      ]
    },
    {
      "cell_type": "code",
      "execution_count": 25,
      "metadata": {
        "id": "BLj4TUsHJ0yq"
      },
      "outputs": [
        {
          "data": {
            "text/plain": [
              "LOCATION                      1\n",
              "d_id                         40\n",
              "isbn_id                    9492\n",
              "order_id_1                 1993\n",
              "order_date                  110\n",
              "evsd                        106\n",
              "row_group_ind                 8\n",
              "visibility                   25\n",
              "quantity_ordered            218\n",
              "quantity_submitted          230\n",
              "quantity_received           264\n",
              "tag                           2\n",
              "order_delivery_days          23\n",
              "order_year                    1\n",
              "order_month                   4\n",
              "order_day                    31\n",
              "order_dayofweek               7\n",
              "order_dayofyear             110\n",
              "delivered_year                2\n",
              "delivered_month               5\n",
              "delivered_day                31\n",
              "delivered_dayofweek           7\n",
              "delivered_dayofyear         106\n",
              "order_month_sin               4\n",
              "order_month_cos               4\n",
              "order_dayofweek_sin           7\n",
              "order_dayofweek_cos           7\n",
              "delivered_month_sin           5\n",
              "delivered_month_cos           5\n",
              "delivered_dayofweek_sin       7\n",
              "delivered_dayofweek_cos       7\n",
              "order_month_season            2\n",
              "delivered_month_season        2\n",
              "order_weekday                 2\n",
              "delivered_weekday             2\n",
              "dtype: int64"
            ]
          },
          "execution_count": 25,
          "metadata": {},
          "output_type": "execute_result"
        }
      ],
      "source": [
        "df.nunique()\n"
      ]
    },
    {
      "cell_type": "code",
      "execution_count": 26,
      "metadata": {
        "id": "z8Rqc23GJ0tn"
      },
      "outputs": [
        {
          "data": {
            "text/plain": [
              "((305203, 36), (357596, 36))"
            ]
          },
          "execution_count": 26,
          "metadata": {},
          "output_type": "execute_result"
        }
      ],
      "source": [
        "# Create a new column that combines the values of the existing columns\n",
        "df['unique_id'] = df.apply(lambda row: f\"{row['LOCATION']}_{row['d_id']}_{row['isbn_id']}_{row['row_group_ind']}_{row['order_id_1']}\", axis=1)\n",
        "\n",
        "# Drop duplicates based on the new column\n",
        "df_unique = df.drop_duplicates(subset=['unique_id'])\n",
        "\n",
        "df_unique.shape, df.shape"
      ]
    },
    {
      "cell_type": "code",
      "execution_count": 27,
      "metadata": {
        "id": "eRkVDIF5J0o0"
      },
      "outputs": [
        {
          "name": "stdout",
          "output_type": "stream",
          "text": [
            "(305203, 36)\n"
          ]
        },
        {
          "data": {
            "text/html": [
              "<div>\n",
              "<style scoped>\n",
              "    .dataframe tbody tr th:only-of-type {\n",
              "        vertical-align: middle;\n",
              "    }\n",
              "\n",
              "    .dataframe tbody tr th {\n",
              "        vertical-align: top;\n",
              "    }\n",
              "\n",
              "    .dataframe thead th {\n",
              "        text-align: right;\n",
              "    }\n",
              "</style>\n",
              "<table border=\"1\" class=\"dataframe\">\n",
              "  <thead>\n",
              "    <tr style=\"text-align: right;\">\n",
              "      <th></th>\n",
              "      <th>LOCATION</th>\n",
              "      <th>d_id</th>\n",
              "      <th>isbn_id</th>\n",
              "      <th>order_id_1</th>\n",
              "      <th>order_date</th>\n",
              "      <th>evsd</th>\n",
              "      <th>row_group_ind</th>\n",
              "      <th>visibility</th>\n",
              "      <th>quantity_ordered</th>\n",
              "      <th>quantity_submitted</th>\n",
              "      <th>quantity_received</th>\n",
              "      <th>tag</th>\n",
              "      <th>order_delivery_days</th>\n",
              "      <th>order_year</th>\n",
              "      <th>order_month</th>\n",
              "      <th>order_day</th>\n",
              "      <th>order_dayofweek</th>\n",
              "      <th>order_dayofyear</th>\n",
              "      <th>delivered_year</th>\n",
              "      <th>delivered_month</th>\n",
              "      <th>delivered_day</th>\n",
              "      <th>delivered_dayofweek</th>\n",
              "      <th>delivered_dayofyear</th>\n",
              "      <th>order_month_sin</th>\n",
              "      <th>order_month_cos</th>\n",
              "      <th>order_dayofweek_sin</th>\n",
              "      <th>order_dayofweek_cos</th>\n",
              "      <th>delivered_month_sin</th>\n",
              "      <th>delivered_month_cos</th>\n",
              "      <th>delivered_dayofweek_sin</th>\n",
              "      <th>delivered_dayofweek_cos</th>\n",
              "      <th>order_month_season</th>\n",
              "      <th>delivered_month_season</th>\n",
              "      <th>order_weekday</th>\n",
              "      <th>delivered_weekday</th>\n",
              "      <th>unique_id</th>\n",
              "    </tr>\n",
              "  </thead>\n",
              "  <tbody>\n",
              "    <tr>\n",
              "      <th>0</th>\n",
              "      <td>JFK2</td>\n",
              "      <td>1</td>\n",
              "      <td>25556</td>\n",
              "      <td>3912</td>\n",
              "      <td>2022-09-30</td>\n",
              "      <td>2022-10-04</td>\n",
              "      <td>7.0</td>\n",
              "      <td>2.0</td>\n",
              "      <td>4.0</td>\n",
              "      <td>4.0</td>\n",
              "      <td>4</td>\n",
              "      <td>train</td>\n",
              "      <td>4</td>\n",
              "      <td>2022</td>\n",
              "      <td>9</td>\n",
              "      <td>30</td>\n",
              "      <td>4</td>\n",
              "      <td>273</td>\n",
              "      <td>2022</td>\n",
              "      <td>10</td>\n",
              "      <td>4</td>\n",
              "      <td>1</td>\n",
              "      <td>277</td>\n",
              "      <td>-1.000000</td>\n",
              "      <td>-1.836970e-16</td>\n",
              "      <td>-0.433884</td>\n",
              "      <td>-0.900969</td>\n",
              "      <td>-0.866025</td>\n",
              "      <td>0.500000</td>\n",
              "      <td>0.781831</td>\n",
              "      <td>0.623490</td>\n",
              "      <td>fall</td>\n",
              "      <td>fall</td>\n",
              "      <td>1</td>\n",
              "      <td>1</td>\n",
              "      <td>JFK2_1_25556_7.0_3912</td>\n",
              "    </tr>\n",
              "    <tr>\n",
              "      <th>1</th>\n",
              "      <td>JFK2</td>\n",
              "      <td>1</td>\n",
              "      <td>25556</td>\n",
              "      <td>91302</td>\n",
              "      <td>2022-11-16</td>\n",
              "      <td>2022-11-19</td>\n",
              "      <td>4.0</td>\n",
              "      <td>1.0</td>\n",
              "      <td>20.0</td>\n",
              "      <td>20.0</td>\n",
              "      <td>20</td>\n",
              "      <td>train</td>\n",
              "      <td>3</td>\n",
              "      <td>2022</td>\n",
              "      <td>11</td>\n",
              "      <td>16</td>\n",
              "      <td>2</td>\n",
              "      <td>320</td>\n",
              "      <td>2022</td>\n",
              "      <td>11</td>\n",
              "      <td>19</td>\n",
              "      <td>5</td>\n",
              "      <td>323</td>\n",
              "      <td>-0.500000</td>\n",
              "      <td>8.660254e-01</td>\n",
              "      <td>0.974928</td>\n",
              "      <td>-0.222521</td>\n",
              "      <td>-0.500000</td>\n",
              "      <td>0.866025</td>\n",
              "      <td>-0.974928</td>\n",
              "      <td>-0.222521</td>\n",
              "      <td>fall</td>\n",
              "      <td>fall</td>\n",
              "      <td>1</td>\n",
              "      <td>0</td>\n",
              "      <td>JFK2_1_25556_4.0_91302</td>\n",
              "    </tr>\n",
              "    <tr>\n",
              "      <th>2</th>\n",
              "      <td>JFK2</td>\n",
              "      <td>1</td>\n",
              "      <td>33083</td>\n",
              "      <td>26096</td>\n",
              "      <td>2022-10-07</td>\n",
              "      <td>2022-10-11</td>\n",
              "      <td>4.0</td>\n",
              "      <td>4.0</td>\n",
              "      <td>4.0</td>\n",
              "      <td>4.0</td>\n",
              "      <td>4</td>\n",
              "      <td>train</td>\n",
              "      <td>4</td>\n",
              "      <td>2022</td>\n",
              "      <td>10</td>\n",
              "      <td>7</td>\n",
              "      <td>4</td>\n",
              "      <td>280</td>\n",
              "      <td>2022</td>\n",
              "      <td>10</td>\n",
              "      <td>11</td>\n",
              "      <td>1</td>\n",
              "      <td>284</td>\n",
              "      <td>-0.866025</td>\n",
              "      <td>5.000000e-01</td>\n",
              "      <td>-0.433884</td>\n",
              "      <td>-0.900969</td>\n",
              "      <td>-0.866025</td>\n",
              "      <td>0.500000</td>\n",
              "      <td>0.781831</td>\n",
              "      <td>0.623490</td>\n",
              "      <td>fall</td>\n",
              "      <td>fall</td>\n",
              "      <td>1</td>\n",
              "      <td>1</td>\n",
              "      <td>JFK2_1_33083_4.0_26096</td>\n",
              "    </tr>\n",
              "    <tr>\n",
              "      <th>3</th>\n",
              "      <td>JFK2</td>\n",
              "      <td>1</td>\n",
              "      <td>33083</td>\n",
              "      <td>138855</td>\n",
              "      <td>2022-10-19</td>\n",
              "      <td>2022-10-22</td>\n",
              "      <td>5.0</td>\n",
              "      <td>2.0</td>\n",
              "      <td>4.0</td>\n",
              "      <td>4.0</td>\n",
              "      <td>4</td>\n",
              "      <td>train</td>\n",
              "      <td>3</td>\n",
              "      <td>2022</td>\n",
              "      <td>10</td>\n",
              "      <td>19</td>\n",
              "      <td>2</td>\n",
              "      <td>292</td>\n",
              "      <td>2022</td>\n",
              "      <td>10</td>\n",
              "      <td>22</td>\n",
              "      <td>5</td>\n",
              "      <td>295</td>\n",
              "      <td>-0.866025</td>\n",
              "      <td>5.000000e-01</td>\n",
              "      <td>0.974928</td>\n",
              "      <td>-0.222521</td>\n",
              "      <td>-0.866025</td>\n",
              "      <td>0.500000</td>\n",
              "      <td>-0.974928</td>\n",
              "      <td>-0.222521</td>\n",
              "      <td>fall</td>\n",
              "      <td>fall</td>\n",
              "      <td>1</td>\n",
              "      <td>0</td>\n",
              "      <td>JFK2_1_33083_5.0_138855</td>\n",
              "    </tr>\n",
              "    <tr>\n",
              "      <th>4</th>\n",
              "      <td>JFK2</td>\n",
              "      <td>1</td>\n",
              "      <td>33083</td>\n",
              "      <td>114502</td>\n",
              "      <td>2022-10-18</td>\n",
              "      <td>2022-10-21</td>\n",
              "      <td>6.0</td>\n",
              "      <td>1.0</td>\n",
              "      <td>4.0</td>\n",
              "      <td>4.0</td>\n",
              "      <td>4</td>\n",
              "      <td>train</td>\n",
              "      <td>3</td>\n",
              "      <td>2022</td>\n",
              "      <td>10</td>\n",
              "      <td>18</td>\n",
              "      <td>1</td>\n",
              "      <td>291</td>\n",
              "      <td>2022</td>\n",
              "      <td>10</td>\n",
              "      <td>21</td>\n",
              "      <td>4</td>\n",
              "      <td>294</td>\n",
              "      <td>-0.866025</td>\n",
              "      <td>5.000000e-01</td>\n",
              "      <td>0.781831</td>\n",
              "      <td>0.623490</td>\n",
              "      <td>-0.866025</td>\n",
              "      <td>0.500000</td>\n",
              "      <td>-0.433884</td>\n",
              "      <td>-0.900969</td>\n",
              "      <td>fall</td>\n",
              "      <td>fall</td>\n",
              "      <td>1</td>\n",
              "      <td>1</td>\n",
              "      <td>JFK2_1_33083_6.0_114502</td>\n",
              "    </tr>\n",
              "  </tbody>\n",
              "</table>\n",
              "</div>"
            ],
            "text/plain": [
              "  LOCATION d_id isbn_id order_id_1 order_date       evsd  row_group_ind   \n",
              "0     JFK2    1   25556       3912 2022-09-30 2022-10-04            7.0  \\\n",
              "1     JFK2    1   25556      91302 2022-11-16 2022-11-19            4.0   \n",
              "2     JFK2    1   33083      26096 2022-10-07 2022-10-11            4.0   \n",
              "3     JFK2    1   33083     138855 2022-10-19 2022-10-22            5.0   \n",
              "4     JFK2    1   33083     114502 2022-10-18 2022-10-21            6.0   \n",
              "\n",
              "   visibility  quantity_ordered  quantity_submitted  quantity_received    tag   \n",
              "0         2.0               4.0                 4.0                  4  train  \\\n",
              "1         1.0              20.0                20.0                 20  train   \n",
              "2         4.0               4.0                 4.0                  4  train   \n",
              "3         2.0               4.0                 4.0                  4  train   \n",
              "4         1.0               4.0                 4.0                  4  train   \n",
              "\n",
              "   order_delivery_days  order_year  order_month  order_day  order_dayofweek   \n",
              "0                    4        2022            9         30                4  \\\n",
              "1                    3        2022           11         16                2   \n",
              "2                    4        2022           10          7                4   \n",
              "3                    3        2022           10         19                2   \n",
              "4                    3        2022           10         18                1   \n",
              "\n",
              "   order_dayofyear  delivered_year  delivered_month  delivered_day   \n",
              "0              273            2022               10              4  \\\n",
              "1              320            2022               11             19   \n",
              "2              280            2022               10             11   \n",
              "3              292            2022               10             22   \n",
              "4              291            2022               10             21   \n",
              "\n",
              "   delivered_dayofweek  delivered_dayofyear  order_month_sin  order_month_cos   \n",
              "0                    1                  277        -1.000000    -1.836970e-16  \\\n",
              "1                    5                  323        -0.500000     8.660254e-01   \n",
              "2                    1                  284        -0.866025     5.000000e-01   \n",
              "3                    5                  295        -0.866025     5.000000e-01   \n",
              "4                    4                  294        -0.866025     5.000000e-01   \n",
              "\n",
              "   order_dayofweek_sin  order_dayofweek_cos  delivered_month_sin   \n",
              "0            -0.433884            -0.900969            -0.866025  \\\n",
              "1             0.974928            -0.222521            -0.500000   \n",
              "2            -0.433884            -0.900969            -0.866025   \n",
              "3             0.974928            -0.222521            -0.866025   \n",
              "4             0.781831             0.623490            -0.866025   \n",
              "\n",
              "   delivered_month_cos  delivered_dayofweek_sin  delivered_dayofweek_cos   \n",
              "0             0.500000                 0.781831                 0.623490  \\\n",
              "1             0.866025                -0.974928                -0.222521   \n",
              "2             0.500000                 0.781831                 0.623490   \n",
              "3             0.500000                -0.974928                -0.222521   \n",
              "4             0.500000                -0.433884                -0.900969   \n",
              "\n",
              "  order_month_season delivered_month_season  order_weekday  delivered_weekday   \n",
              "0               fall                   fall              1                  1  \\\n",
              "1               fall                   fall              1                  0   \n",
              "2               fall                   fall              1                  1   \n",
              "3               fall                   fall              1                  0   \n",
              "4               fall                   fall              1                  1   \n",
              "\n",
              "                 unique_id  \n",
              "0    JFK2_1_25556_7.0_3912  \n",
              "1   JFK2_1_25556_4.0_91302  \n",
              "2   JFK2_1_33083_4.0_26096  \n",
              "3  JFK2_1_33083_5.0_138855  \n",
              "4  JFK2_1_33083_6.0_114502  "
            ]
          },
          "execution_count": 27,
          "metadata": {},
          "output_type": "execute_result"
        }
      ],
      "source": [
        "print(df_unique.shape)\n",
        "df_unique.head()"
      ]
    },
    {
      "cell_type": "code",
      "execution_count": 28,
      "metadata": {
        "id": "VUZfVCh2J0k0"
      },
      "outputs": [
        {
          "data": {
            "text/plain": [
              "Index(['LOCATION', 'd_id', 'isbn_id', 'order_id_1', 'order_date', 'evsd',\n",
              "       'row_group_ind', 'visibility', 'quantity_ordered', 'quantity_submitted',\n",
              "       'quantity_received', 'tag', 'order_delivery_days', 'order_year',\n",
              "       'order_month', 'order_day', 'order_dayofweek', 'order_dayofyear',\n",
              "       'delivered_year', 'delivered_month', 'delivered_day',\n",
              "       'delivered_dayofweek', 'delivered_dayofyear', 'order_month_sin',\n",
              "       'order_month_cos', 'order_dayofweek_sin', 'order_dayofweek_cos',\n",
              "       'delivered_month_sin', 'delivered_month_cos', 'delivered_dayofweek_sin',\n",
              "       'delivered_dayofweek_cos', 'order_month_season',\n",
              "       'delivered_month_season', 'order_weekday', 'delivered_weekday',\n",
              "       'unique_id'],\n",
              "      dtype='object')"
            ]
          },
          "execution_count": 28,
          "metadata": {},
          "output_type": "execute_result"
        }
      ],
      "source": [
        "df.columns"
      ]
    },
    {
      "cell_type": "code",
      "execution_count": 29,
      "metadata": {
        "colab": {
          "base_uri": "https://localhost:8080/"
        },
        "id": "6MYoIDl9S4yq",
        "outputId": "2524eb7c-b78d-4450-b2e5-a9b949c69181"
      },
      "outputs": [
        {
          "data": {
            "text/plain": [
              "d_id                     object\n",
              "isbn_id                  object\n",
              "order_id_1               object\n",
              "order_date       datetime64[ns]\n",
              "evsd             datetime64[ns]\n",
              "row_group_ind           float64\n",
              "dtype: object"
            ]
          },
          "execution_count": 29,
          "metadata": {},
          "output_type": "execute_result"
        }
      ],
      "source": [
        "df[['d_id', 'isbn_id', 'order_id_1', 'order_date', 'evsd', 'row_group_ind']].dtypes"
      ]
    },
    {
      "cell_type": "code",
      "execution_count": 30,
      "metadata": {},
      "outputs": [],
      "source": [
        "df['row_group_ind'] = df['row_group_ind'].astype(str)"
      ]
    },
    {
      "cell_type": "code",
      "execution_count": 31,
      "metadata": {},
      "outputs": [
        {
          "data": {
            "text/plain": [
              "Index(['LOCATION', 'd_id', 'isbn_id', 'order_id_1', 'order_date', 'evsd',\n",
              "       'row_group_ind', 'visibility', 'quantity_ordered', 'quantity_submitted',\n",
              "       'quantity_received', 'tag', 'order_delivery_days', 'order_year',\n",
              "       'order_month', 'order_day', 'order_dayofweek', 'order_dayofyear',\n",
              "       'delivered_year', 'delivered_month', 'delivered_day',\n",
              "       'delivered_dayofweek', 'delivered_dayofyear', 'order_month_sin',\n",
              "       'order_month_cos', 'order_dayofweek_sin', 'order_dayofweek_cos',\n",
              "       'delivered_month_sin', 'delivered_month_cos', 'delivered_dayofweek_sin',\n",
              "       'delivered_dayofweek_cos', 'order_month_season',\n",
              "       'delivered_month_season', 'order_weekday', 'delivered_weekday',\n",
              "       'unique_id'],\n",
              "      dtype='object')"
            ]
          },
          "execution_count": 31,
          "metadata": {},
          "output_type": "execute_result"
        }
      ],
      "source": [
        "df.columns"
      ]
    },
    {
      "cell_type": "code",
      "execution_count": null,
      "metadata": {},
      "outputs": [],
      "source": []
    },
    {
      "cell_type": "code",
      "execution_count": 32,
      "metadata": {},
      "outputs": [],
      "source": [
        "for col in ['d_id', 'isbn_id', 'order_id_1', 'order_date', 'evsd', 'row_group_ind', 'order_month_season', 'delivered_month_season']:\n",
        "    temp_dict = dict(df[col].value_counts(normalize = True))\n",
        "    df[f'{col}_VC'] = df[col].map(temp_dict)\n",
        "    del temp_dict"
      ]
    },
    {
      "cell_type": "code",
      "execution_count": 33,
      "metadata": {},
      "outputs": [],
      "source": [
        "req_cols = [col for col in df.columns if col not in ['LOCATION', 'order_date', 'evsd', 'd_id', \n",
        "                                                     'isbn_id', 'order_id_1','quantity_received', 'tag',\n",
        "                                                      'order_date', 'evsd', 'row_group_ind', 'unique_id','target', \n",
        "                                                      'delivered_year', 'order_year',  'order_month_season', 'delivered_month_season']]"
      ]
    },
    {
      "cell_type": "code",
      "execution_count": 34,
      "metadata": {},
      "outputs": [
        {
          "data": {
            "text/html": [
              "<div>\n",
              "<style scoped>\n",
              "    .dataframe tbody tr th:only-of-type {\n",
              "        vertical-align: middle;\n",
              "    }\n",
              "\n",
              "    .dataframe tbody tr th {\n",
              "        vertical-align: top;\n",
              "    }\n",
              "\n",
              "    .dataframe thead th {\n",
              "        text-align: right;\n",
              "    }\n",
              "</style>\n",
              "<table border=\"1\" class=\"dataframe\">\n",
              "  <thead>\n",
              "    <tr style=\"text-align: right;\">\n",
              "      <th></th>\n",
              "      <th>visibility</th>\n",
              "      <th>quantity_ordered</th>\n",
              "      <th>quantity_submitted</th>\n",
              "      <th>order_delivery_days</th>\n",
              "      <th>order_month</th>\n",
              "      <th>order_day</th>\n",
              "      <th>order_dayofweek</th>\n",
              "      <th>order_dayofyear</th>\n",
              "      <th>delivered_month</th>\n",
              "      <th>delivered_day</th>\n",
              "      <th>delivered_dayofweek</th>\n",
              "      <th>delivered_dayofyear</th>\n",
              "      <th>order_month_sin</th>\n",
              "      <th>order_month_cos</th>\n",
              "      <th>order_dayofweek_sin</th>\n",
              "      <th>order_dayofweek_cos</th>\n",
              "      <th>delivered_month_sin</th>\n",
              "      <th>delivered_month_cos</th>\n",
              "      <th>delivered_dayofweek_sin</th>\n",
              "      <th>delivered_dayofweek_cos</th>\n",
              "      <th>order_weekday</th>\n",
              "      <th>delivered_weekday</th>\n",
              "      <th>d_id_VC</th>\n",
              "      <th>isbn_id_VC</th>\n",
              "      <th>order_id_1_VC</th>\n",
              "      <th>order_date_VC</th>\n",
              "      <th>evsd_VC</th>\n",
              "      <th>row_group_ind_VC</th>\n",
              "      <th>order_month_season_VC</th>\n",
              "      <th>delivered_month_season_VC</th>\n",
              "    </tr>\n",
              "  </thead>\n",
              "  <tbody>\n",
              "    <tr>\n",
              "      <th>0</th>\n",
              "      <td>2.0</td>\n",
              "      <td>4.0</td>\n",
              "      <td>4.0</td>\n",
              "      <td>4</td>\n",
              "      <td>9</td>\n",
              "      <td>30</td>\n",
              "      <td>4</td>\n",
              "      <td>273</td>\n",
              "      <td>10</td>\n",
              "      <td>4</td>\n",
              "      <td>1</td>\n",
              "      <td>277</td>\n",
              "      <td>-1.0</td>\n",
              "      <td>-1.836970e-16</td>\n",
              "      <td>-0.433884</td>\n",
              "      <td>-0.900969</td>\n",
              "      <td>-0.866025</td>\n",
              "      <td>0.5</td>\n",
              "      <td>0.781831</td>\n",
              "      <td>0.62349</td>\n",
              "      <td>1</td>\n",
              "      <td>1</td>\n",
              "      <td>0.042819</td>\n",
              "      <td>0.000506</td>\n",
              "      <td>0.000895</td>\n",
              "      <td>0.009318</td>\n",
              "      <td>0.013834</td>\n",
              "      <td>0.124056</td>\n",
              "      <td>0.725084</td>\n",
              "      <td>0.680735</td>\n",
              "    </tr>\n",
              "  </tbody>\n",
              "</table>\n",
              "</div>"
            ],
            "text/plain": [
              "   visibility  quantity_ordered  quantity_submitted  order_delivery_days   \n",
              "0         2.0               4.0                 4.0                    4  \\\n",
              "\n",
              "   order_month  order_day  order_dayofweek  order_dayofyear  delivered_month   \n",
              "0            9         30                4              273               10  \\\n",
              "\n",
              "   delivered_day  delivered_dayofweek  delivered_dayofyear  order_month_sin   \n",
              "0              4                    1                  277             -1.0  \\\n",
              "\n",
              "   order_month_cos  order_dayofweek_sin  order_dayofweek_cos   \n",
              "0    -1.836970e-16            -0.433884            -0.900969  \\\n",
              "\n",
              "   delivered_month_sin  delivered_month_cos  delivered_dayofweek_sin   \n",
              "0            -0.866025                  0.5                 0.781831  \\\n",
              "\n",
              "   delivered_dayofweek_cos  order_weekday  delivered_weekday   d_id_VC   \n",
              "0                  0.62349              1                  1  0.042819  \\\n",
              "\n",
              "   isbn_id_VC  order_id_1_VC  order_date_VC   evsd_VC  row_group_ind_VC   \n",
              "0    0.000506       0.000895       0.009318  0.013834          0.124056  \\\n",
              "\n",
              "   order_month_season_VC  delivered_month_season_VC  \n",
              "0               0.725084                   0.680735  "
            ]
          },
          "execution_count": 34,
          "metadata": {},
          "output_type": "execute_result"
        }
      ],
      "source": [
        "df[req_cols].head(1)"
      ]
    },
    {
      "cell_type": "code",
      "execution_count": 35,
      "metadata": {},
      "outputs": [
        {
          "data": {
            "text/plain": [
              "order_month_season\n",
              "fall      259287\n",
              "winter     98309\n",
              "Name: count, dtype: int64"
            ]
          },
          "execution_count": 35,
          "metadata": {},
          "output_type": "execute_result"
        }
      ],
      "source": [
        "df['order_month_season'].value_counts(dropna = False)"
      ]
    },
    {
      "cell_type": "code",
      "execution_count": 36,
      "metadata": {},
      "outputs": [
        {
          "data": {
            "text/html": [
              "<div>\n",
              "<style scoped>\n",
              "    .dataframe tbody tr th:only-of-type {\n",
              "        vertical-align: middle;\n",
              "    }\n",
              "\n",
              "    .dataframe tbody tr th {\n",
              "        vertical-align: top;\n",
              "    }\n",
              "\n",
              "    .dataframe thead th {\n",
              "        text-align: right;\n",
              "    }\n",
              "</style>\n",
              "<table border=\"1\" class=\"dataframe\">\n",
              "  <thead>\n",
              "    <tr style=\"text-align: right;\">\n",
              "      <th></th>\n",
              "      <th>LOCATION</th>\n",
              "      <th>d_id</th>\n",
              "      <th>isbn_id</th>\n",
              "      <th>order_id_1</th>\n",
              "      <th>order_date</th>\n",
              "      <th>evsd</th>\n",
              "      <th>row_group_ind</th>\n",
              "      <th>visibility</th>\n",
              "      <th>quantity_ordered</th>\n",
              "      <th>quantity_submitted</th>\n",
              "      <th>quantity_received</th>\n",
              "      <th>tag</th>\n",
              "      <th>order_delivery_days</th>\n",
              "      <th>order_year</th>\n",
              "      <th>order_month</th>\n",
              "      <th>order_day</th>\n",
              "      <th>order_dayofweek</th>\n",
              "      <th>order_dayofyear</th>\n",
              "      <th>delivered_year</th>\n",
              "      <th>delivered_month</th>\n",
              "      <th>delivered_day</th>\n",
              "      <th>delivered_dayofweek</th>\n",
              "      <th>delivered_dayofyear</th>\n",
              "      <th>order_month_sin</th>\n",
              "      <th>order_month_cos</th>\n",
              "      <th>order_dayofweek_sin</th>\n",
              "      <th>order_dayofweek_cos</th>\n",
              "      <th>delivered_month_sin</th>\n",
              "      <th>delivered_month_cos</th>\n",
              "      <th>delivered_dayofweek_sin</th>\n",
              "      <th>delivered_dayofweek_cos</th>\n",
              "      <th>order_month_season</th>\n",
              "      <th>delivered_month_season</th>\n",
              "      <th>order_weekday</th>\n",
              "      <th>delivered_weekday</th>\n",
              "      <th>unique_id</th>\n",
              "      <th>d_id_VC</th>\n",
              "      <th>isbn_id_VC</th>\n",
              "      <th>order_id_1_VC</th>\n",
              "      <th>order_date_VC</th>\n",
              "      <th>evsd_VC</th>\n",
              "      <th>row_group_ind_VC</th>\n",
              "      <th>order_month_season_VC</th>\n",
              "      <th>delivered_month_season_VC</th>\n",
              "    </tr>\n",
              "  </thead>\n",
              "  <tbody>\n",
              "    <tr>\n",
              "      <th>0</th>\n",
              "      <td>JFK2</td>\n",
              "      <td>1</td>\n",
              "      <td>25556</td>\n",
              "      <td>3912</td>\n",
              "      <td>2022-09-30</td>\n",
              "      <td>2022-10-04</td>\n",
              "      <td>7.0</td>\n",
              "      <td>2.0</td>\n",
              "      <td>4.0</td>\n",
              "      <td>4.0</td>\n",
              "      <td>4</td>\n",
              "      <td>train</td>\n",
              "      <td>4</td>\n",
              "      <td>2022</td>\n",
              "      <td>9</td>\n",
              "      <td>30</td>\n",
              "      <td>4</td>\n",
              "      <td>273</td>\n",
              "      <td>2022</td>\n",
              "      <td>10</td>\n",
              "      <td>4</td>\n",
              "      <td>1</td>\n",
              "      <td>277</td>\n",
              "      <td>-1.000000</td>\n",
              "      <td>-1.836970e-16</td>\n",
              "      <td>-0.433884</td>\n",
              "      <td>-0.900969</td>\n",
              "      <td>-0.866025</td>\n",
              "      <td>0.500000</td>\n",
              "      <td>0.781831</td>\n",
              "      <td>0.623490</td>\n",
              "      <td>fall</td>\n",
              "      <td>fall</td>\n",
              "      <td>1</td>\n",
              "      <td>1</td>\n",
              "      <td>JFK2_1_25556_7.0_3912</td>\n",
              "      <td>0.042819</td>\n",
              "      <td>0.000506</td>\n",
              "      <td>0.000895</td>\n",
              "      <td>0.009318</td>\n",
              "      <td>0.013834</td>\n",
              "      <td>0.124056</td>\n",
              "      <td>0.725084</td>\n",
              "      <td>0.680735</td>\n",
              "    </tr>\n",
              "    <tr>\n",
              "      <th>1</th>\n",
              "      <td>JFK2</td>\n",
              "      <td>1</td>\n",
              "      <td>25556</td>\n",
              "      <td>91302</td>\n",
              "      <td>2022-11-16</td>\n",
              "      <td>2022-11-19</td>\n",
              "      <td>4.0</td>\n",
              "      <td>1.0</td>\n",
              "      <td>20.0</td>\n",
              "      <td>20.0</td>\n",
              "      <td>20</td>\n",
              "      <td>train</td>\n",
              "      <td>3</td>\n",
              "      <td>2022</td>\n",
              "      <td>11</td>\n",
              "      <td>16</td>\n",
              "      <td>2</td>\n",
              "      <td>320</td>\n",
              "      <td>2022</td>\n",
              "      <td>11</td>\n",
              "      <td>19</td>\n",
              "      <td>5</td>\n",
              "      <td>323</td>\n",
              "      <td>-0.500000</td>\n",
              "      <td>8.660254e-01</td>\n",
              "      <td>0.974928</td>\n",
              "      <td>-0.222521</td>\n",
              "      <td>-0.500000</td>\n",
              "      <td>0.866025</td>\n",
              "      <td>-0.974928</td>\n",
              "      <td>-0.222521</td>\n",
              "      <td>fall</td>\n",
              "      <td>fall</td>\n",
              "      <td>1</td>\n",
              "      <td>0</td>\n",
              "      <td>JFK2_1_25556_4.0_91302</td>\n",
              "      <td>0.042819</td>\n",
              "      <td>0.000506</td>\n",
              "      <td>0.000604</td>\n",
              "      <td>0.009019</td>\n",
              "      <td>0.011457</td>\n",
              "      <td>0.125460</td>\n",
              "      <td>0.725084</td>\n",
              "      <td>0.680735</td>\n",
              "    </tr>\n",
              "    <tr>\n",
              "      <th>2</th>\n",
              "      <td>JFK2</td>\n",
              "      <td>1</td>\n",
              "      <td>33083</td>\n",
              "      <td>26096</td>\n",
              "      <td>2022-10-07</td>\n",
              "      <td>2022-10-11</td>\n",
              "      <td>4.0</td>\n",
              "      <td>4.0</td>\n",
              "      <td>4.0</td>\n",
              "      <td>4.0</td>\n",
              "      <td>4</td>\n",
              "      <td>train</td>\n",
              "      <td>4</td>\n",
              "      <td>2022</td>\n",
              "      <td>10</td>\n",
              "      <td>7</td>\n",
              "      <td>4</td>\n",
              "      <td>280</td>\n",
              "      <td>2022</td>\n",
              "      <td>10</td>\n",
              "      <td>11</td>\n",
              "      <td>1</td>\n",
              "      <td>284</td>\n",
              "      <td>-0.866025</td>\n",
              "      <td>5.000000e-01</td>\n",
              "      <td>-0.433884</td>\n",
              "      <td>-0.900969</td>\n",
              "      <td>-0.866025</td>\n",
              "      <td>0.500000</td>\n",
              "      <td>0.781831</td>\n",
              "      <td>0.623490</td>\n",
              "      <td>fall</td>\n",
              "      <td>fall</td>\n",
              "      <td>1</td>\n",
              "      <td>1</td>\n",
              "      <td>JFK2_1_33083_4.0_26096</td>\n",
              "      <td>0.042819</td>\n",
              "      <td>0.000350</td>\n",
              "      <td>0.000940</td>\n",
              "      <td>0.008739</td>\n",
              "      <td>0.014061</td>\n",
              "      <td>0.125460</td>\n",
              "      <td>0.725084</td>\n",
              "      <td>0.680735</td>\n",
              "    </tr>\n",
              "    <tr>\n",
              "      <th>3</th>\n",
              "      <td>JFK2</td>\n",
              "      <td>1</td>\n",
              "      <td>33083</td>\n",
              "      <td>138855</td>\n",
              "      <td>2022-10-19</td>\n",
              "      <td>2022-10-22</td>\n",
              "      <td>5.0</td>\n",
              "      <td>2.0</td>\n",
              "      <td>4.0</td>\n",
              "      <td>4.0</td>\n",
              "      <td>4</td>\n",
              "      <td>train</td>\n",
              "      <td>3</td>\n",
              "      <td>2022</td>\n",
              "      <td>10</td>\n",
              "      <td>19</td>\n",
              "      <td>2</td>\n",
              "      <td>292</td>\n",
              "      <td>2022</td>\n",
              "      <td>10</td>\n",
              "      <td>22</td>\n",
              "      <td>5</td>\n",
              "      <td>295</td>\n",
              "      <td>-0.866025</td>\n",
              "      <td>5.000000e-01</td>\n",
              "      <td>0.974928</td>\n",
              "      <td>-0.222521</td>\n",
              "      <td>-0.866025</td>\n",
              "      <td>0.500000</td>\n",
              "      <td>-0.974928</td>\n",
              "      <td>-0.222521</td>\n",
              "      <td>fall</td>\n",
              "      <td>fall</td>\n",
              "      <td>1</td>\n",
              "      <td>0</td>\n",
              "      <td>JFK2_1_33083_5.0_138855</td>\n",
              "      <td>0.042819</td>\n",
              "      <td>0.000350</td>\n",
              "      <td>0.000738</td>\n",
              "      <td>0.010571</td>\n",
              "      <td>0.011980</td>\n",
              "      <td>0.125169</td>\n",
              "      <td>0.725084</td>\n",
              "      <td>0.680735</td>\n",
              "    </tr>\n",
              "    <tr>\n",
              "      <th>4</th>\n",
              "      <td>JFK2</td>\n",
              "      <td>1</td>\n",
              "      <td>33083</td>\n",
              "      <td>114502</td>\n",
              "      <td>2022-10-18</td>\n",
              "      <td>2022-10-21</td>\n",
              "      <td>6.0</td>\n",
              "      <td>1.0</td>\n",
              "      <td>4.0</td>\n",
              "      <td>4.0</td>\n",
              "      <td>4</td>\n",
              "      <td>train</td>\n",
              "      <td>3</td>\n",
              "      <td>2022</td>\n",
              "      <td>10</td>\n",
              "      <td>18</td>\n",
              "      <td>1</td>\n",
              "      <td>291</td>\n",
              "      <td>2022</td>\n",
              "      <td>10</td>\n",
              "      <td>21</td>\n",
              "      <td>4</td>\n",
              "      <td>294</td>\n",
              "      <td>-0.866025</td>\n",
              "      <td>5.000000e-01</td>\n",
              "      <td>0.781831</td>\n",
              "      <td>0.623490</td>\n",
              "      <td>-0.866025</td>\n",
              "      <td>0.500000</td>\n",
              "      <td>-0.433884</td>\n",
              "      <td>-0.900969</td>\n",
              "      <td>fall</td>\n",
              "      <td>fall</td>\n",
              "      <td>1</td>\n",
              "      <td>1</td>\n",
              "      <td>JFK2_1_33083_6.0_114502</td>\n",
              "      <td>0.042819</td>\n",
              "      <td>0.000350</td>\n",
              "      <td>0.000721</td>\n",
              "      <td>0.012100</td>\n",
              "      <td>0.013048</td>\n",
              "      <td>0.124764</td>\n",
              "      <td>0.725084</td>\n",
              "      <td>0.680735</td>\n",
              "    </tr>\n",
              "  </tbody>\n",
              "</table>\n",
              "</div>"
            ],
            "text/plain": [
              "  LOCATION d_id isbn_id order_id_1 order_date       evsd row_group_ind   \n",
              "0     JFK2    1   25556       3912 2022-09-30 2022-10-04           7.0  \\\n",
              "1     JFK2    1   25556      91302 2022-11-16 2022-11-19           4.0   \n",
              "2     JFK2    1   33083      26096 2022-10-07 2022-10-11           4.0   \n",
              "3     JFK2    1   33083     138855 2022-10-19 2022-10-22           5.0   \n",
              "4     JFK2    1   33083     114502 2022-10-18 2022-10-21           6.0   \n",
              "\n",
              "   visibility  quantity_ordered  quantity_submitted  quantity_received    tag   \n",
              "0         2.0               4.0                 4.0                  4  train  \\\n",
              "1         1.0              20.0                20.0                 20  train   \n",
              "2         4.0               4.0                 4.0                  4  train   \n",
              "3         2.0               4.0                 4.0                  4  train   \n",
              "4         1.0               4.0                 4.0                  4  train   \n",
              "\n",
              "   order_delivery_days  order_year  order_month  order_day  order_dayofweek   \n",
              "0                    4        2022            9         30                4  \\\n",
              "1                    3        2022           11         16                2   \n",
              "2                    4        2022           10          7                4   \n",
              "3                    3        2022           10         19                2   \n",
              "4                    3        2022           10         18                1   \n",
              "\n",
              "   order_dayofyear  delivered_year  delivered_month  delivered_day   \n",
              "0              273            2022               10              4  \\\n",
              "1              320            2022               11             19   \n",
              "2              280            2022               10             11   \n",
              "3              292            2022               10             22   \n",
              "4              291            2022               10             21   \n",
              "\n",
              "   delivered_dayofweek  delivered_dayofyear  order_month_sin  order_month_cos   \n",
              "0                    1                  277        -1.000000    -1.836970e-16  \\\n",
              "1                    5                  323        -0.500000     8.660254e-01   \n",
              "2                    1                  284        -0.866025     5.000000e-01   \n",
              "3                    5                  295        -0.866025     5.000000e-01   \n",
              "4                    4                  294        -0.866025     5.000000e-01   \n",
              "\n",
              "   order_dayofweek_sin  order_dayofweek_cos  delivered_month_sin   \n",
              "0            -0.433884            -0.900969            -0.866025  \\\n",
              "1             0.974928            -0.222521            -0.500000   \n",
              "2            -0.433884            -0.900969            -0.866025   \n",
              "3             0.974928            -0.222521            -0.866025   \n",
              "4             0.781831             0.623490            -0.866025   \n",
              "\n",
              "   delivered_month_cos  delivered_dayofweek_sin  delivered_dayofweek_cos   \n",
              "0             0.500000                 0.781831                 0.623490  \\\n",
              "1             0.866025                -0.974928                -0.222521   \n",
              "2             0.500000                 0.781831                 0.623490   \n",
              "3             0.500000                -0.974928                -0.222521   \n",
              "4             0.500000                -0.433884                -0.900969   \n",
              "\n",
              "  order_month_season delivered_month_season  order_weekday  delivered_weekday   \n",
              "0               fall                   fall              1                  1  \\\n",
              "1               fall                   fall              1                  0   \n",
              "2               fall                   fall              1                  1   \n",
              "3               fall                   fall              1                  0   \n",
              "4               fall                   fall              1                  1   \n",
              "\n",
              "                 unique_id   d_id_VC  isbn_id_VC  order_id_1_VC   \n",
              "0    JFK2_1_25556_7.0_3912  0.042819    0.000506       0.000895  \\\n",
              "1   JFK2_1_25556_4.0_91302  0.042819    0.000506       0.000604   \n",
              "2   JFK2_1_33083_4.0_26096  0.042819    0.000350       0.000940   \n",
              "3  JFK2_1_33083_5.0_138855  0.042819    0.000350       0.000738   \n",
              "4  JFK2_1_33083_6.0_114502  0.042819    0.000350       0.000721   \n",
              "\n",
              "   order_date_VC   evsd_VC  row_group_ind_VC  order_month_season_VC   \n",
              "0       0.009318  0.013834          0.124056               0.725084  \\\n",
              "1       0.009019  0.011457          0.125460               0.725084   \n",
              "2       0.008739  0.014061          0.125460               0.725084   \n",
              "3       0.010571  0.011980          0.125169               0.725084   \n",
              "4       0.012100  0.013048          0.124764               0.725084   \n",
              "\n",
              "   delivered_month_season_VC  \n",
              "0                   0.680735  \n",
              "1                   0.680735  \n",
              "2                   0.680735  \n",
              "3                   0.680735  \n",
              "4                   0.680735  "
            ]
          },
          "execution_count": 36,
          "metadata": {},
          "output_type": "execute_result"
        }
      ],
      "source": [
        "df.head()"
      ]
    },
    {
      "cell_type": "code",
      "execution_count": 78,
      "metadata": {},
      "outputs": [],
      "source": [
        "from sklearn.preprocessing import QuantileTransformer\n",
        "\n",
        "# Instantiate the transformer\n",
        "qt = QuantileTransformer(output_distribution='uniform')\n",
        "\n"
      ]
    },
    {
      "cell_type": "code",
      "execution_count": 88,
      "metadata": {},
      "outputs": [
        {
          "name": "stdout",
          "output_type": "stream",
          "text": [
            "Mean absolute error: 4.3982\n",
            "Score: 0.6886\n"
          ]
        }
      ],
      "source": [
        "\n",
        "from sklearn.model_selection import train_test_split\n",
        "from sklearn.linear_model import PoissonRegressor, LinearRegression\n",
        "from sklearn.metrics import mean_absolute_error, r2_score\n",
        "import xgboost as xgb\n",
        "\n",
        "# Split data into features and target\n",
        "X = df[req_cols]\n",
        "y = df['quantity_received']\n",
        "\n",
        "# Split data into train and test sets\n",
        "# X_train, X_test, y_train, y_test = train_test_split(X, y, test_size=0.2, random_state=42)\n",
        "X_train = df[df['tag'] == 'train'][req_cols].copy()\n",
        "X_test = df[df['tag'] == 'test'][req_cols].copy()\n",
        "y_train = df[df['tag'] == 'train']['quantity_received']\n",
        "y_test = df[df['tag'] == 'test']['quantity_received']\n",
        "\n",
        "\n",
        "X_train = qt.fit_transform(X_train)\n",
        "X_test = qt.transform(X_test)\n",
        "\n",
        "# Train Poisson regression model\n",
        "# Define XGBoost model parameters\n",
        "params = {'learning_rate': 0.09494445071749025, 'reg_lambda': 0.12153018654604152, 'reg_alpha': 0.002926293135127233, \n",
        "          'subsample': 0.4759168036681104, 'colsample_bytree': 0.23668139727995788, 'max_depth': 5, \n",
        "          'n_estimators': 926}\n",
        "\n",
        "\n",
        "# {\n",
        "#     'objective': 'reg:squarederror',\n",
        "#     'learning_rate': 0.1,\n",
        "#     'max_depth': 6,\n",
        "#     'min_child_weight': 1,\n",
        "#     'gamma': 0,\n",
        "#     'subsample': 0.8,\n",
        "#     'colsample_bytree': 0.8,\n",
        "#     'n_estimators': 100\n",
        "# }\n",
        "model = xgb.XGBRegressor(**params, \n",
        "            random_state=42,\n",
        "            objective='reg:squarederror',\n",
        "            eval_metric='mae')\n",
        "model.fit(X_train, y_train)\n",
        "\n",
        "# Predict on test set\n",
        "y_pred = model.predict(X_test)\n",
        "\n",
        "# Evaluate model performance on test set\n",
        "mae = mean_absolute_error(y_test, y_pred)\n",
        "score = r2_score(y_test, y_pred)\n",
        "print(f'Mean absolute error: {mae:.4f}')\n",
        "print(f'Score: {score:.4f}')\n"
      ]
    },
    {
      "attachments": {},
      "cell_type": "markdown",
      "metadata": {},
      "source": [
        "## Score all Data"
      ]
    },
    {
      "cell_type": "code",
      "execution_count": 89,
      "metadata": {},
      "outputs": [
        {
          "name": "stdout",
          "output_type": "stream",
          "text": [
            "(305203, 44)\n"
          ]
        },
        {
          "data": {
            "text/html": [
              "<div>\n",
              "<style scoped>\n",
              "    .dataframe tbody tr th:only-of-type {\n",
              "        vertical-align: middle;\n",
              "    }\n",
              "\n",
              "    .dataframe tbody tr th {\n",
              "        vertical-align: top;\n",
              "    }\n",
              "\n",
              "    .dataframe thead th {\n",
              "        text-align: right;\n",
              "    }\n",
              "</style>\n",
              "<table border=\"1\" class=\"dataframe\">\n",
              "  <thead>\n",
              "    <tr style=\"text-align: right;\">\n",
              "      <th></th>\n",
              "      <th>LOCATION</th>\n",
              "      <th>d_id</th>\n",
              "      <th>isbn_id</th>\n",
              "      <th>order_id_1</th>\n",
              "      <th>order_date</th>\n",
              "      <th>evsd</th>\n",
              "      <th>row_group_ind</th>\n",
              "      <th>visibility</th>\n",
              "      <th>quantity_ordered</th>\n",
              "      <th>quantity_submitted</th>\n",
              "      <th>quantity_received</th>\n",
              "      <th>tag</th>\n",
              "      <th>order_delivery_days</th>\n",
              "      <th>order_year</th>\n",
              "      <th>order_month</th>\n",
              "      <th>order_day</th>\n",
              "      <th>order_dayofweek</th>\n",
              "      <th>order_dayofyear</th>\n",
              "      <th>delivered_year</th>\n",
              "      <th>delivered_month</th>\n",
              "      <th>delivered_day</th>\n",
              "      <th>delivered_dayofweek</th>\n",
              "      <th>delivered_dayofyear</th>\n",
              "      <th>order_month_sin</th>\n",
              "      <th>order_month_cos</th>\n",
              "      <th>order_dayofweek_sin</th>\n",
              "      <th>order_dayofweek_cos</th>\n",
              "      <th>delivered_month_sin</th>\n",
              "      <th>delivered_month_cos</th>\n",
              "      <th>delivered_dayofweek_sin</th>\n",
              "      <th>delivered_dayofweek_cos</th>\n",
              "      <th>order_month_season</th>\n",
              "      <th>delivered_month_season</th>\n",
              "      <th>order_weekday</th>\n",
              "      <th>delivered_weekday</th>\n",
              "      <th>unique_id</th>\n",
              "      <th>d_id_VC</th>\n",
              "      <th>isbn_id_VC</th>\n",
              "      <th>order_id_1_VC</th>\n",
              "      <th>order_date_VC</th>\n",
              "      <th>evsd_VC</th>\n",
              "      <th>row_group_ind_VC</th>\n",
              "      <th>order_month_season_VC</th>\n",
              "      <th>delivered_month_season_VC</th>\n",
              "    </tr>\n",
              "  </thead>\n",
              "  <tbody>\n",
              "    <tr>\n",
              "      <th>0</th>\n",
              "      <td>JFK2</td>\n",
              "      <td>1</td>\n",
              "      <td>25556</td>\n",
              "      <td>3912</td>\n",
              "      <td>2022-09-30</td>\n",
              "      <td>2022-10-04</td>\n",
              "      <td>7.0</td>\n",
              "      <td>2.0</td>\n",
              "      <td>4.0</td>\n",
              "      <td>4.0</td>\n",
              "      <td>4</td>\n",
              "      <td>train</td>\n",
              "      <td>4</td>\n",
              "      <td>2022</td>\n",
              "      <td>9</td>\n",
              "      <td>30</td>\n",
              "      <td>4</td>\n",
              "      <td>273</td>\n",
              "      <td>2022</td>\n",
              "      <td>10</td>\n",
              "      <td>4</td>\n",
              "      <td>1</td>\n",
              "      <td>277</td>\n",
              "      <td>-1.000000</td>\n",
              "      <td>-1.836970e-16</td>\n",
              "      <td>-0.433884</td>\n",
              "      <td>-0.900969</td>\n",
              "      <td>-0.866025</td>\n",
              "      <td>0.500000</td>\n",
              "      <td>0.781831</td>\n",
              "      <td>0.623490</td>\n",
              "      <td>fall</td>\n",
              "      <td>fall</td>\n",
              "      <td>1</td>\n",
              "      <td>1</td>\n",
              "      <td>JFK2_1_25556_7.0_3912</td>\n",
              "      <td>0.043394</td>\n",
              "      <td>0.000524</td>\n",
              "      <td>0.000888</td>\n",
              "      <td>0.009174</td>\n",
              "      <td>0.014128</td>\n",
              "      <td>0.124416</td>\n",
              "      <td>0.72227</td>\n",
              "      <td>0.68366</td>\n",
              "    </tr>\n",
              "    <tr>\n",
              "      <th>1</th>\n",
              "      <td>JFK2</td>\n",
              "      <td>1</td>\n",
              "      <td>25556</td>\n",
              "      <td>91302</td>\n",
              "      <td>2022-11-16</td>\n",
              "      <td>2022-11-19</td>\n",
              "      <td>4.0</td>\n",
              "      <td>1.0</td>\n",
              "      <td>20.0</td>\n",
              "      <td>20.0</td>\n",
              "      <td>20</td>\n",
              "      <td>train</td>\n",
              "      <td>3</td>\n",
              "      <td>2022</td>\n",
              "      <td>11</td>\n",
              "      <td>16</td>\n",
              "      <td>2</td>\n",
              "      <td>320</td>\n",
              "      <td>2022</td>\n",
              "      <td>11</td>\n",
              "      <td>19</td>\n",
              "      <td>5</td>\n",
              "      <td>323</td>\n",
              "      <td>-0.500000</td>\n",
              "      <td>8.660254e-01</td>\n",
              "      <td>0.974928</td>\n",
              "      <td>-0.222521</td>\n",
              "      <td>-0.500000</td>\n",
              "      <td>0.866025</td>\n",
              "      <td>-0.974928</td>\n",
              "      <td>-0.222521</td>\n",
              "      <td>fall</td>\n",
              "      <td>fall</td>\n",
              "      <td>1</td>\n",
              "      <td>0</td>\n",
              "      <td>JFK2_1_25556_4.0_91302</td>\n",
              "      <td>0.043394</td>\n",
              "      <td>0.000524</td>\n",
              "      <td>0.000636</td>\n",
              "      <td>0.008424</td>\n",
              "      <td>0.011920</td>\n",
              "      <td>0.125425</td>\n",
              "      <td>0.72227</td>\n",
              "      <td>0.68366</td>\n",
              "    </tr>\n",
              "    <tr>\n",
              "      <th>2</th>\n",
              "      <td>JFK2</td>\n",
              "      <td>1</td>\n",
              "      <td>33083</td>\n",
              "      <td>26096</td>\n",
              "      <td>2022-10-07</td>\n",
              "      <td>2022-10-11</td>\n",
              "      <td>4.0</td>\n",
              "      <td>4.0</td>\n",
              "      <td>4.0</td>\n",
              "      <td>4.0</td>\n",
              "      <td>4</td>\n",
              "      <td>train</td>\n",
              "      <td>4</td>\n",
              "      <td>2022</td>\n",
              "      <td>10</td>\n",
              "      <td>7</td>\n",
              "      <td>4</td>\n",
              "      <td>280</td>\n",
              "      <td>2022</td>\n",
              "      <td>10</td>\n",
              "      <td>11</td>\n",
              "      <td>1</td>\n",
              "      <td>284</td>\n",
              "      <td>-0.866025</td>\n",
              "      <td>5.000000e-01</td>\n",
              "      <td>-0.433884</td>\n",
              "      <td>-0.900969</td>\n",
              "      <td>-0.866025</td>\n",
              "      <td>0.500000</td>\n",
              "      <td>0.781831</td>\n",
              "      <td>0.623490</td>\n",
              "      <td>fall</td>\n",
              "      <td>fall</td>\n",
              "      <td>1</td>\n",
              "      <td>1</td>\n",
              "      <td>JFK2_1_33083_4.0_26096</td>\n",
              "      <td>0.043394</td>\n",
              "      <td>0.000344</td>\n",
              "      <td>0.000914</td>\n",
              "      <td>0.008598</td>\n",
              "      <td>0.014630</td>\n",
              "      <td>0.125425</td>\n",
              "      <td>0.72227</td>\n",
              "      <td>0.68366</td>\n",
              "    </tr>\n",
              "    <tr>\n",
              "      <th>3</th>\n",
              "      <td>JFK2</td>\n",
              "      <td>1</td>\n",
              "      <td>33083</td>\n",
              "      <td>138855</td>\n",
              "      <td>2022-10-19</td>\n",
              "      <td>2022-10-22</td>\n",
              "      <td>5.0</td>\n",
              "      <td>2.0</td>\n",
              "      <td>4.0</td>\n",
              "      <td>4.0</td>\n",
              "      <td>4</td>\n",
              "      <td>train</td>\n",
              "      <td>3</td>\n",
              "      <td>2022</td>\n",
              "      <td>10</td>\n",
              "      <td>19</td>\n",
              "      <td>2</td>\n",
              "      <td>292</td>\n",
              "      <td>2022</td>\n",
              "      <td>10</td>\n",
              "      <td>22</td>\n",
              "      <td>5</td>\n",
              "      <td>295</td>\n",
              "      <td>-0.866025</td>\n",
              "      <td>5.000000e-01</td>\n",
              "      <td>0.974928</td>\n",
              "      <td>-0.222521</td>\n",
              "      <td>-0.866025</td>\n",
              "      <td>0.500000</td>\n",
              "      <td>-0.974928</td>\n",
              "      <td>-0.222521</td>\n",
              "      <td>fall</td>\n",
              "      <td>fall</td>\n",
              "      <td>1</td>\n",
              "      <td>0</td>\n",
              "      <td>JFK2_1_33083_5.0_138855</td>\n",
              "      <td>0.043394</td>\n",
              "      <td>0.000344</td>\n",
              "      <td>0.000763</td>\n",
              "      <td>0.009852</td>\n",
              "      <td>0.012549</td>\n",
              "      <td>0.124933</td>\n",
              "      <td>0.72227</td>\n",
              "      <td>0.68366</td>\n",
              "    </tr>\n",
              "    <tr>\n",
              "      <th>4</th>\n",
              "      <td>JFK2</td>\n",
              "      <td>1</td>\n",
              "      <td>33083</td>\n",
              "      <td>114502</td>\n",
              "      <td>2022-10-18</td>\n",
              "      <td>2022-10-21</td>\n",
              "      <td>6.0</td>\n",
              "      <td>1.0</td>\n",
              "      <td>4.0</td>\n",
              "      <td>4.0</td>\n",
              "      <td>4</td>\n",
              "      <td>train</td>\n",
              "      <td>3</td>\n",
              "      <td>2022</td>\n",
              "      <td>10</td>\n",
              "      <td>18</td>\n",
              "      <td>1</td>\n",
              "      <td>291</td>\n",
              "      <td>2022</td>\n",
              "      <td>10</td>\n",
              "      <td>21</td>\n",
              "      <td>4</td>\n",
              "      <td>294</td>\n",
              "      <td>-0.866025</td>\n",
              "      <td>5.000000e-01</td>\n",
              "      <td>0.781831</td>\n",
              "      <td>0.623490</td>\n",
              "      <td>-0.866025</td>\n",
              "      <td>0.500000</td>\n",
              "      <td>-0.433884</td>\n",
              "      <td>-0.900969</td>\n",
              "      <td>fall</td>\n",
              "      <td>fall</td>\n",
              "      <td>1</td>\n",
              "      <td>1</td>\n",
              "      <td>JFK2_1_33083_6.0_114502</td>\n",
              "      <td>0.043394</td>\n",
              "      <td>0.000344</td>\n",
              "      <td>0.000754</td>\n",
              "      <td>0.012706</td>\n",
              "      <td>0.012988</td>\n",
              "      <td>0.124766</td>\n",
              "      <td>0.72227</td>\n",
              "      <td>0.68366</td>\n",
              "    </tr>\n",
              "  </tbody>\n",
              "</table>\n",
              "</div>"
            ],
            "text/plain": [
              "  LOCATION d_id isbn_id order_id_1 order_date       evsd row_group_ind   \n",
              "0     JFK2    1   25556       3912 2022-09-30 2022-10-04           7.0  \\\n",
              "1     JFK2    1   25556      91302 2022-11-16 2022-11-19           4.0   \n",
              "2     JFK2    1   33083      26096 2022-10-07 2022-10-11           4.0   \n",
              "3     JFK2    1   33083     138855 2022-10-19 2022-10-22           5.0   \n",
              "4     JFK2    1   33083     114502 2022-10-18 2022-10-21           6.0   \n",
              "\n",
              "   visibility  quantity_ordered  quantity_submitted  quantity_received    tag   \n",
              "0         2.0               4.0                 4.0                  4  train  \\\n",
              "1         1.0              20.0                20.0                 20  train   \n",
              "2         4.0               4.0                 4.0                  4  train   \n",
              "3         2.0               4.0                 4.0                  4  train   \n",
              "4         1.0               4.0                 4.0                  4  train   \n",
              "\n",
              "   order_delivery_days  order_year  order_month  order_day  order_dayofweek   \n",
              "0                    4        2022            9         30                4  \\\n",
              "1                    3        2022           11         16                2   \n",
              "2                    4        2022           10          7                4   \n",
              "3                    3        2022           10         19                2   \n",
              "4                    3        2022           10         18                1   \n",
              "\n",
              "   order_dayofyear  delivered_year  delivered_month  delivered_day   \n",
              "0              273            2022               10              4  \\\n",
              "1              320            2022               11             19   \n",
              "2              280            2022               10             11   \n",
              "3              292            2022               10             22   \n",
              "4              291            2022               10             21   \n",
              "\n",
              "   delivered_dayofweek  delivered_dayofyear  order_month_sin  order_month_cos   \n",
              "0                    1                  277        -1.000000    -1.836970e-16  \\\n",
              "1                    5                  323        -0.500000     8.660254e-01   \n",
              "2                    1                  284        -0.866025     5.000000e-01   \n",
              "3                    5                  295        -0.866025     5.000000e-01   \n",
              "4                    4                  294        -0.866025     5.000000e-01   \n",
              "\n",
              "   order_dayofweek_sin  order_dayofweek_cos  delivered_month_sin   \n",
              "0            -0.433884            -0.900969            -0.866025  \\\n",
              "1             0.974928            -0.222521            -0.500000   \n",
              "2            -0.433884            -0.900969            -0.866025   \n",
              "3             0.974928            -0.222521            -0.866025   \n",
              "4             0.781831             0.623490            -0.866025   \n",
              "\n",
              "   delivered_month_cos  delivered_dayofweek_sin  delivered_dayofweek_cos   \n",
              "0             0.500000                 0.781831                 0.623490  \\\n",
              "1             0.866025                -0.974928                -0.222521   \n",
              "2             0.500000                 0.781831                 0.623490   \n",
              "3             0.500000                -0.974928                -0.222521   \n",
              "4             0.500000                -0.433884                -0.900969   \n",
              "\n",
              "  order_month_season delivered_month_season  order_weekday  delivered_weekday   \n",
              "0               fall                   fall              1                  1  \\\n",
              "1               fall                   fall              1                  0   \n",
              "2               fall                   fall              1                  1   \n",
              "3               fall                   fall              1                  0   \n",
              "4               fall                   fall              1                  1   \n",
              "\n",
              "                 unique_id   d_id_VC  isbn_id_VC  order_id_1_VC   \n",
              "0    JFK2_1_25556_7.0_3912  0.043394    0.000524       0.000888  \\\n",
              "1   JFK2_1_25556_4.0_91302  0.043394    0.000524       0.000636   \n",
              "2   JFK2_1_33083_4.0_26096  0.043394    0.000344       0.000914   \n",
              "3  JFK2_1_33083_5.0_138855  0.043394    0.000344       0.000763   \n",
              "4  JFK2_1_33083_6.0_114502  0.043394    0.000344       0.000754   \n",
              "\n",
              "   order_date_VC   evsd_VC  row_group_ind_VC  order_month_season_VC   \n",
              "0       0.009174  0.014128          0.124416                0.72227  \\\n",
              "1       0.008424  0.011920          0.125425                0.72227   \n",
              "2       0.008598  0.014630          0.125425                0.72227   \n",
              "3       0.009852  0.012549          0.124933                0.72227   \n",
              "4       0.012706  0.012988          0.124766                0.72227   \n",
              "\n",
              "   delivered_month_season_VC  \n",
              "0                    0.68366  \n",
              "1                    0.68366  \n",
              "2                    0.68366  \n",
              "3                    0.68366  \n",
              "4                    0.68366  "
            ]
          },
          "execution_count": 89,
          "metadata": {},
          "output_type": "execute_result"
        }
      ],
      "source": [
        "df_scored = df.copy()\n",
        "print(df_scored.shape)\n",
        "df_scored.head()"
      ]
    },
    {
      "cell_type": "code",
      "execution_count": 40,
      "metadata": {},
      "outputs": [
        {
          "data": {
            "text/plain": [
              "order_year\n",
              "2022    357596\n",
              "Name: count, dtype: int64"
            ]
          },
          "execution_count": 40,
          "metadata": {},
          "output_type": "execute_result"
        }
      ],
      "source": [
        "# df['order_year'].value_counts(dropna = False)\n",
        "\n",
        "\n",
        "\"\"\"\n",
        "MAE : < 2.5\n",
        "\"\"\"\n",
        "\n",
        "\n",
        "[['year', 'month', 'day', 'delivered_dayofyear', ]]\n",
        "\n",
        "# [['order_dayofweek']]"
      ]
    },
    {
      "cell_type": "code",
      "execution_count": 39,
      "metadata": {},
      "outputs": [
        {
          "data": {
            "text/plain": [
              "{'1.0': 0.12554111343527333,\n",
              " '4.0': 0.12546001633127887,\n",
              " '2.0': 0.12540129084217944,\n",
              " '5.0': 0.1251691853376436,\n",
              " '3.0': 0.1249678408035884,\n",
              " '6.0': 0.12476369981767134,\n",
              " '0.0': 0.12464065593574872,\n",
              " '7.0': 0.1240561974966163}"
            ]
          },
          "execution_count": 39,
          "metadata": {},
          "output_type": "execute_result"
        }
      ],
      "source": [
        "dict(df['row_group_ind'].value_counts(dropna= False, normalize = True))"
      ]
    },
    {
      "cell_type": "code",
      "execution_count": null,
      "metadata": {},
      "outputs": [],
      "source": [
        "df_new['row_group_ind'].map()"
      ]
    },
    {
      "cell_type": "code",
      "execution_count": 90,
      "metadata": {},
      "outputs": [
        {
          "data": {
            "text/html": [
              "<div>\n",
              "<style scoped>\n",
              "    .dataframe tbody tr th:only-of-type {\n",
              "        vertical-align: middle;\n",
              "    }\n",
              "\n",
              "    .dataframe tbody tr th {\n",
              "        vertical-align: top;\n",
              "    }\n",
              "\n",
              "    .dataframe thead th {\n",
              "        text-align: right;\n",
              "    }\n",
              "</style>\n",
              "<table border=\"1\" class=\"dataframe\">\n",
              "  <thead>\n",
              "    <tr style=\"text-align: right;\">\n",
              "      <th></th>\n",
              "      <th>quantity_received</th>\n",
              "      <th>predicted_orders</th>\n",
              "    </tr>\n",
              "  </thead>\n",
              "  <tbody>\n",
              "    <tr>\n",
              "      <th>0</th>\n",
              "      <td>4</td>\n",
              "      <td>3.831436</td>\n",
              "    </tr>\n",
              "    <tr>\n",
              "      <th>1</th>\n",
              "      <td>20</td>\n",
              "      <td>19.770668</td>\n",
              "    </tr>\n",
              "    <tr>\n",
              "      <th>2</th>\n",
              "      <td>4</td>\n",
              "      <td>2.959369</td>\n",
              "    </tr>\n",
              "    <tr>\n",
              "      <th>3</th>\n",
              "      <td>4</td>\n",
              "      <td>3.552727</td>\n",
              "    </tr>\n",
              "    <tr>\n",
              "      <th>4</th>\n",
              "      <td>4</td>\n",
              "      <td>3.674586</td>\n",
              "    </tr>\n",
              "    <tr>\n",
              "      <th>...</th>\n",
              "      <td>...</td>\n",
              "      <td>...</td>\n",
              "    </tr>\n",
              "    <tr>\n",
              "      <th>357590</th>\n",
              "      <td>24</td>\n",
              "      <td>21.808784</td>\n",
              "    </tr>\n",
              "    <tr>\n",
              "      <th>357591</th>\n",
              "      <td>8</td>\n",
              "      <td>7.168389</td>\n",
              "    </tr>\n",
              "    <tr>\n",
              "      <th>357592</th>\n",
              "      <td>12</td>\n",
              "      <td>10.871333</td>\n",
              "    </tr>\n",
              "    <tr>\n",
              "      <th>357593</th>\n",
              "      <td>132</td>\n",
              "      <td>101.021225</td>\n",
              "    </tr>\n",
              "    <tr>\n",
              "      <th>357595</th>\n",
              "      <td>6</td>\n",
              "      <td>4.608321</td>\n",
              "    </tr>\n",
              "  </tbody>\n",
              "</table>\n",
              "<p>305203 rows × 2 columns</p>\n",
              "</div>"
            ],
            "text/plain": [
              "        quantity_received  predicted_orders\n",
              "0                       4          3.831436\n",
              "1                      20         19.770668\n",
              "2                       4          2.959369\n",
              "3                       4          3.552727\n",
              "4                       4          3.674586\n",
              "...                   ...               ...\n",
              "357590                 24         21.808784\n",
              "357591                  8          7.168389\n",
              "357592                 12         10.871333\n",
              "357593                132        101.021225\n",
              "357595                  6          4.608321\n",
              "\n",
              "[305203 rows x 2 columns]"
            ]
          },
          "execution_count": 90,
          "metadata": {},
          "output_type": "execute_result"
        }
      ],
      "source": [
        "df_scored[req_cols]  = qt.transform(df_scored[req_cols])\n",
        "df_scored['predicted_orders'] = model.predict(df_scored[req_cols])\n",
        "df_scored[['quantity_received', 'predicted_orders']]"
      ]
    },
    {
      "cell_type": "code",
      "execution_count": 91,
      "metadata": {},
      "outputs": [
        {
          "data": {
            "text/plain": [
              "count    305203.000000\n",
              "mean         12.700278\n",
              "std          27.046207\n",
              "min           0.000000\n",
              "25%           0.000000\n",
              "50%           6.000000\n",
              "75%          12.000000\n",
              "max        1650.000000\n",
              "Name: quantity_received, dtype: float64"
            ]
          },
          "execution_count": 91,
          "metadata": {},
          "output_type": "execute_result"
        }
      ],
      "source": [
        "df_scored['quantity_received'].describe()"
      ]
    },
    {
      "cell_type": "code",
      "execution_count": 92,
      "metadata": {},
      "outputs": [
        {
          "data": {
            "text/plain": [
              "count    305203.000000\n",
              "mean         12.463552\n",
              "std          24.910221\n",
              "min         -30.389456\n",
              "25%           2.961089\n",
              "50%           6.903901\n",
              "75%          11.111802\n",
              "max         773.371277\n",
              "Name: predicted_orders, dtype: float64"
            ]
          },
          "execution_count": 92,
          "metadata": {},
          "output_type": "execute_result"
        }
      ],
      "source": [
        "df_scored['predicted_orders'].describe()"
      ]
    },
    {
      "attachments": {},
      "cell_type": "markdown",
      "metadata": {},
      "source": [
        "## Hypertuning\n"
      ]
    },
    {
      "cell_type": "code",
      "execution_count": 96,
      "metadata": {},
      "outputs": [
        {
          "name": "stderr",
          "output_type": "stream",
          "text": [
            "\u001b[32m[I 2023-04-28 08:27:37,198]\u001b[0m A new study created in memory with name: no-name-6633f2c9-b973-4c05-879d-a6a88d4adc0f\u001b[0m\n",
            "C:\\Users\\nshre\\AppData\\Local\\Temp\\ipykernel_12852\\3012480772.py:5: FutureWarning: suggest_loguniform has been deprecated in v3.0.0. This feature will be removed in v6.0.0. See https://github.com/optuna/optuna/releases/tag/v3.0.0. Use :func:`~optuna.trial.Trial.suggest_float` instead.\n",
            "  reg_lambda = trial.suggest_loguniform(\"reg_lambda\", 1e-8, 100.0)\n",
            "C:\\Users\\nshre\\AppData\\Local\\Temp\\ipykernel_12852\\3012480772.py:6: FutureWarning: suggest_loguniform has been deprecated in v3.0.0. This feature will be removed in v6.0.0. See https://github.com/optuna/optuna/releases/tag/v3.0.0. Use :func:`~optuna.trial.Trial.suggest_float` instead.\n",
            "  reg_alpha = trial.suggest_loguniform(\"reg_alpha\", 1e-8, 100.0)\n",
            "\u001b[32m[I 2023-04-28 08:30:51,858]\u001b[0m Trial 0 finished with value: 5.30203999121291 and parameters: {'learning_rate': 0.03309359543919969, 'reg_lambda': 0.2159147341660498, 'reg_alpha': 0.06916918029376977, 'subsample': 0.5038536182347256, 'colsample_bytree': 0.3266281397228815, 'max_depth': 5, 'n_estimators': 2820}. Best is trial 0 with value: 5.30203999121291.\u001b[0m\n"
          ]
        },
        {
          "name": "stdout",
          "output_type": "stream",
          "text": [
            "Mean Absolute Error :  5.30203999121291\n",
            "R2_score :  0.7478631424634002\n"
          ]
        },
        {
          "name": "stderr",
          "output_type": "stream",
          "text": [
            "C:\\Users\\nshre\\AppData\\Local\\Temp\\ipykernel_12852\\3012480772.py:5: FutureWarning: suggest_loguniform has been deprecated in v3.0.0. This feature will be removed in v6.0.0. See https://github.com/optuna/optuna/releases/tag/v3.0.0. Use :func:`~optuna.trial.Trial.suggest_float` instead.\n",
            "  reg_lambda = trial.suggest_loguniform(\"reg_lambda\", 1e-8, 100.0)\n",
            "C:\\Users\\nshre\\AppData\\Local\\Temp\\ipykernel_12852\\3012480772.py:6: FutureWarning: suggest_loguniform has been deprecated in v3.0.0. This feature will be removed in v6.0.0. See https://github.com/optuna/optuna/releases/tag/v3.0.0. Use :func:`~optuna.trial.Trial.suggest_float` instead.\n",
            "  reg_alpha = trial.suggest_loguniform(\"reg_alpha\", 1e-8, 100.0)\n",
            "\u001b[32m[I 2023-04-28 08:31:44,537]\u001b[0m Trial 1 finished with value: 6.824564105550033 and parameters: {'learning_rate': 0.09494445071749025, 'reg_lambda': 0.12153018654604152, 'reg_alpha': 0.002926293135127233, 'subsample': 0.4759168036681104, 'colsample_bytree': 0.23668139727995788, 'max_depth': 5, 'n_estimators': 926}. Best is trial 0 with value: 5.30203999121291.\u001b[0m\n"
          ]
        },
        {
          "name": "stdout",
          "output_type": "stream",
          "text": [
            "Mean Absolute Error :  6.824564105550033\n",
            "R2_score :  0.7252528819371045\n"
          ]
        },
        {
          "name": "stderr",
          "output_type": "stream",
          "text": [
            "C:\\Users\\nshre\\AppData\\Local\\Temp\\ipykernel_12852\\3012480772.py:5: FutureWarning: suggest_loguniform has been deprecated in v3.0.0. This feature will be removed in v6.0.0. See https://github.com/optuna/optuna/releases/tag/v3.0.0. Use :func:`~optuna.trial.Trial.suggest_float` instead.\n",
            "  reg_lambda = trial.suggest_loguniform(\"reg_lambda\", 1e-8, 100.0)\n",
            "C:\\Users\\nshre\\AppData\\Local\\Temp\\ipykernel_12852\\3012480772.py:6: FutureWarning: suggest_loguniform has been deprecated in v3.0.0. This feature will be removed in v6.0.0. See https://github.com/optuna/optuna/releases/tag/v3.0.0. Use :func:`~optuna.trial.Trial.suggest_float` instead.\n",
            "  reg_alpha = trial.suggest_loguniform(\"reg_alpha\", 1e-8, 100.0)\n",
            "\u001b[32m[I 2023-04-28 08:32:14,441]\u001b[0m Trial 2 finished with value: 5.085238951615853 and parameters: {'learning_rate': 0.08539001075999679, 'reg_lambda': 0.0017116086819376096, 'reg_alpha': 9.733517229448778e-07, 'subsample': 0.8486752491235564, 'colsample_bytree': 0.765683289497556, 'max_depth': 6, 'n_estimators': 302}. Best is trial 2 with value: 5.085238951615853.\u001b[0m\n"
          ]
        },
        {
          "name": "stdout",
          "output_type": "stream",
          "text": [
            "Mean Absolute Error :  5.085238951615853\n",
            "R2_score :  0.6582640974257273\n"
          ]
        },
        {
          "name": "stderr",
          "output_type": "stream",
          "text": [
            "C:\\Users\\nshre\\AppData\\Local\\Temp\\ipykernel_12852\\3012480772.py:5: FutureWarning: suggest_loguniform has been deprecated in v3.0.0. This feature will be removed in v6.0.0. See https://github.com/optuna/optuna/releases/tag/v3.0.0. Use :func:`~optuna.trial.Trial.suggest_float` instead.\n",
            "  reg_lambda = trial.suggest_loguniform(\"reg_lambda\", 1e-8, 100.0)\n",
            "C:\\Users\\nshre\\AppData\\Local\\Temp\\ipykernel_12852\\3012480772.py:6: FutureWarning: suggest_loguniform has been deprecated in v3.0.0. This feature will be removed in v6.0.0. See https://github.com/optuna/optuna/releases/tag/v3.0.0. Use :func:`~optuna.trial.Trial.suggest_float` instead.\n",
            "  reg_alpha = trial.suggest_loguniform(\"reg_alpha\", 1e-8, 100.0)\n",
            "\u001b[32m[I 2023-04-28 08:34:36,542]\u001b[0m Trial 3 finished with value: 4.316466609593959 and parameters: {'learning_rate': 0.06002410622268421, 'reg_lambda': 0.9102659582342552, 'reg_alpha': 0.00019889251192707353, 'subsample': 0.3447540708103442, 'colsample_bytree': 0.644771781552105, 'max_depth': 3, 'n_estimators': 2362}. Best is trial 3 with value: 4.316466609593959.\u001b[0m\n"
          ]
        },
        {
          "name": "stdout",
          "output_type": "stream",
          "text": [
            "Mean Absolute Error :  4.316466609593959\n",
            "R2_score :  0.7345140742866197\n"
          ]
        },
        {
          "name": "stderr",
          "output_type": "stream",
          "text": [
            "C:\\Users\\nshre\\AppData\\Local\\Temp\\ipykernel_12852\\3012480772.py:5: FutureWarning: suggest_loguniform has been deprecated in v3.0.0. This feature will be removed in v6.0.0. See https://github.com/optuna/optuna/releases/tag/v3.0.0. Use :func:`~optuna.trial.Trial.suggest_float` instead.\n",
            "  reg_lambda = trial.suggest_loguniform(\"reg_lambda\", 1e-8, 100.0)\n",
            "C:\\Users\\nshre\\AppData\\Local\\Temp\\ipykernel_12852\\3012480772.py:6: FutureWarning: suggest_loguniform has been deprecated in v3.0.0. This feature will be removed in v6.0.0. See https://github.com/optuna/optuna/releases/tag/v3.0.0. Use :func:`~optuna.trial.Trial.suggest_float` instead.\n",
            "  reg_alpha = trial.suggest_loguniform(\"reg_alpha\", 1e-8, 100.0)\n",
            "\u001b[32m[I 2023-04-28 08:36:29,075]\u001b[0m Trial 4 finished with value: 4.014516335495757 and parameters: {'learning_rate': 0.029709652164319054, 'reg_lambda': 6.140086141171898, 'reg_alpha': 0.019604127340872607, 'subsample': 0.25246008848760754, 'colsample_bytree': 0.7080422852270917, 'max_depth': 4, 'n_estimators': 1433}. Best is trial 4 with value: 4.014516335495757.\u001b[0m\n"
          ]
        },
        {
          "name": "stdout",
          "output_type": "stream",
          "text": [
            "Mean Absolute Error :  4.014516335495757\n",
            "R2_score :  0.7506425492580595\n"
          ]
        },
        {
          "name": "stderr",
          "output_type": "stream",
          "text": [
            "C:\\Users\\nshre\\AppData\\Local\\Temp\\ipykernel_12852\\3012480772.py:5: FutureWarning: suggest_loguniform has been deprecated in v3.0.0. This feature will be removed in v6.0.0. See https://github.com/optuna/optuna/releases/tag/v3.0.0. Use :func:`~optuna.trial.Trial.suggest_float` instead.\n",
            "  reg_lambda = trial.suggest_loguniform(\"reg_lambda\", 1e-8, 100.0)\n",
            "C:\\Users\\nshre\\AppData\\Local\\Temp\\ipykernel_12852\\3012480772.py:6: FutureWarning: suggest_loguniform has been deprecated in v3.0.0. This feature will be removed in v6.0.0. See https://github.com/optuna/optuna/releases/tag/v3.0.0. Use :func:`~optuna.trial.Trial.suggest_float` instead.\n",
            "  reg_alpha = trial.suggest_loguniform(\"reg_alpha\", 1e-8, 100.0)\n",
            "\u001b[32m[I 2023-04-28 08:41:06,670]\u001b[0m Trial 5 finished with value: 4.8431481285810944 and parameters: {'learning_rate': 0.06534568249655477, 'reg_lambda': 1.3336415440754149e-05, 'reg_alpha': 0.000345415372188516, 'subsample': 0.844978725545569, 'colsample_bytree': 0.44989422418684, 'max_depth': 6, 'n_estimators': 2945}. Best is trial 4 with value: 4.014516335495757.\u001b[0m\n"
          ]
        },
        {
          "name": "stdout",
          "output_type": "stream",
          "text": [
            "Mean Absolute Error :  4.8431481285810944\n",
            "R2_score :  0.7186509266666582\n"
          ]
        },
        {
          "name": "stderr",
          "output_type": "stream",
          "text": [
            "C:\\Users\\nshre\\AppData\\Local\\Temp\\ipykernel_12852\\3012480772.py:5: FutureWarning: suggest_loguniform has been deprecated in v3.0.0. This feature will be removed in v6.0.0. See https://github.com/optuna/optuna/releases/tag/v3.0.0. Use :func:`~optuna.trial.Trial.suggest_float` instead.\n",
            "  reg_lambda = trial.suggest_loguniform(\"reg_lambda\", 1e-8, 100.0)\n",
            "C:\\Users\\nshre\\AppData\\Local\\Temp\\ipykernel_12852\\3012480772.py:6: FutureWarning: suggest_loguniform has been deprecated in v3.0.0. This feature will be removed in v6.0.0. See https://github.com/optuna/optuna/releases/tag/v3.0.0. Use :func:`~optuna.trial.Trial.suggest_float` instead.\n",
            "  reg_alpha = trial.suggest_loguniform(\"reg_alpha\", 1e-8, 100.0)\n",
            "\u001b[32m[I 2023-04-28 08:43:14,007]\u001b[0m Trial 6 finished with value: 4.817154102344354 and parameters: {'learning_rate': 0.05297263382164796, 'reg_lambda': 0.0009063555368964637, 'reg_alpha': 1.2798673223114063e-08, 'subsample': 0.35112507992555586, 'colsample_bytree': 0.6116591007571499, 'max_depth': 3, 'n_estimators': 1879}. Best is trial 4 with value: 4.014516335495757.\u001b[0m\n"
          ]
        },
        {
          "name": "stdout",
          "output_type": "stream",
          "text": [
            "Mean Absolute Error :  4.817154102344354\n",
            "R2_score :  0.7055969828412461\n"
          ]
        },
        {
          "name": "stderr",
          "output_type": "stream",
          "text": [
            "C:\\Users\\nshre\\AppData\\Local\\Temp\\ipykernel_12852\\3012480772.py:5: FutureWarning: suggest_loguniform has been deprecated in v3.0.0. This feature will be removed in v6.0.0. See https://github.com/optuna/optuna/releases/tag/v3.0.0. Use :func:`~optuna.trial.Trial.suggest_float` instead.\n",
            "  reg_lambda = trial.suggest_loguniform(\"reg_lambda\", 1e-8, 100.0)\n",
            "C:\\Users\\nshre\\AppData\\Local\\Temp\\ipykernel_12852\\3012480772.py:6: FutureWarning: suggest_loguniform has been deprecated in v3.0.0. This feature will be removed in v6.0.0. See https://github.com/optuna/optuna/releases/tag/v3.0.0. Use :func:`~optuna.trial.Trial.suggest_float` instead.\n",
            "  reg_alpha = trial.suggest_loguniform(\"reg_alpha\", 1e-8, 100.0)\n",
            "\u001b[32m[I 2023-04-28 08:47:33,274]\u001b[0m Trial 7 finished with value: 4.788554937946665 and parameters: {'learning_rate': 0.017752000591089934, 'reg_lambda': 2.710613584367079e-06, 'reg_alpha': 2.4821573039019524, 'subsample': 0.29862823089860413, 'colsample_bytree': 0.3345167048863346, 'max_depth': 6, 'n_estimators': 2080}. Best is trial 4 with value: 4.014516335495757.\u001b[0m\n"
          ]
        },
        {
          "name": "stdout",
          "output_type": "stream",
          "text": [
            "Mean Absolute Error :  4.788554937946665\n",
            "R2_score :  0.7591261342754274\n"
          ]
        },
        {
          "name": "stderr",
          "output_type": "stream",
          "text": [
            "C:\\Users\\nshre\\AppData\\Local\\Temp\\ipykernel_12852\\3012480772.py:5: FutureWarning: suggest_loguniform has been deprecated in v3.0.0. This feature will be removed in v6.0.0. See https://github.com/optuna/optuna/releases/tag/v3.0.0. Use :func:`~optuna.trial.Trial.suggest_float` instead.\n",
            "  reg_lambda = trial.suggest_loguniform(\"reg_lambda\", 1e-8, 100.0)\n",
            "C:\\Users\\nshre\\AppData\\Local\\Temp\\ipykernel_12852\\3012480772.py:6: FutureWarning: suggest_loguniform has been deprecated in v3.0.0. This feature will be removed in v6.0.0. See https://github.com/optuna/optuna/releases/tag/v3.0.0. Use :func:`~optuna.trial.Trial.suggest_float` instead.\n",
            "  reg_alpha = trial.suggest_loguniform(\"reg_alpha\", 1e-8, 100.0)\n",
            "\u001b[32m[I 2023-04-28 08:49:55,215]\u001b[0m Trial 8 finished with value: 4.065070158728204 and parameters: {'learning_rate': 0.029324035728187696, 'reg_lambda': 0.6438178323500426, 'reg_alpha': 0.0821740082898111, 'subsample': 0.14134871330258492, 'colsample_bytree': 0.8295613348742853, 'max_depth': 3, 'n_estimators': 2301}. Best is trial 4 with value: 4.014516335495757.\u001b[0m\n"
          ]
        },
        {
          "name": "stdout",
          "output_type": "stream",
          "text": [
            "Mean Absolute Error :  4.065070158728204\n",
            "R2_score :  0.7233241158947401\n"
          ]
        },
        {
          "name": "stderr",
          "output_type": "stream",
          "text": [
            "C:\\Users\\nshre\\AppData\\Local\\Temp\\ipykernel_12852\\3012480772.py:5: FutureWarning: suggest_loguniform has been deprecated in v3.0.0. This feature will be removed in v6.0.0. See https://github.com/optuna/optuna/releases/tag/v3.0.0. Use :func:`~optuna.trial.Trial.suggest_float` instead.\n",
            "  reg_lambda = trial.suggest_loguniform(\"reg_lambda\", 1e-8, 100.0)\n",
            "C:\\Users\\nshre\\AppData\\Local\\Temp\\ipykernel_12852\\3012480772.py:6: FutureWarning: suggest_loguniform has been deprecated in v3.0.0. This feature will be removed in v6.0.0. See https://github.com/optuna/optuna/releases/tag/v3.0.0. Use :func:`~optuna.trial.Trial.suggest_float` instead.\n",
            "  reg_alpha = trial.suggest_loguniform(\"reg_alpha\", 1e-8, 100.0)\n",
            "\u001b[32m[I 2023-04-28 08:50:37,802]\u001b[0m Trial 9 finished with value: 6.206847562617861 and parameters: {'learning_rate': 0.077082421202773, 'reg_lambda': 0.053731762413557996, 'reg_alpha': 0.008959806512862106, 'subsample': 0.12998078892517306, 'colsample_bytree': 0.1113762572136053, 'max_depth': 6, 'n_estimators': 898}. Best is trial 4 with value: 4.014516335495757.\u001b[0m\n"
          ]
        },
        {
          "name": "stdout",
          "output_type": "stream",
          "text": [
            "Mean Absolute Error :  6.206847562617861\n",
            "R2_score :  0.7392738976386494\n"
          ]
        },
        {
          "name": "stderr",
          "output_type": "stream",
          "text": [
            "C:\\Users\\nshre\\AppData\\Local\\Temp\\ipykernel_12852\\3012480772.py:5: FutureWarning: suggest_loguniform has been deprecated in v3.0.0. This feature will be removed in v6.0.0. See https://github.com/optuna/optuna/releases/tag/v3.0.0. Use :func:`~optuna.trial.Trial.suggest_float` instead.\n",
            "  reg_lambda = trial.suggest_loguniform(\"reg_lambda\", 1e-8, 100.0)\n",
            "C:\\Users\\nshre\\AppData\\Local\\Temp\\ipykernel_12852\\3012480772.py:6: FutureWarning: suggest_loguniform has been deprecated in v3.0.0. This feature will be removed in v6.0.0. See https://github.com/optuna/optuna/releases/tag/v3.0.0. Use :func:`~optuna.trial.Trial.suggest_float` instead.\n",
            "  reg_alpha = trial.suggest_loguniform(\"reg_alpha\", 1e-8, 100.0)\n",
            "\u001b[32m[I 2023-04-28 08:52:23,091]\u001b[0m Trial 10 finished with value: 5.448784966336275 and parameters: {'learning_rate': 0.001683717177778158, 'reg_lambda': 55.502350347799705, 'reg_alpha': 49.42282137256974, 'subsample': 0.6723973732262163, 'colsample_bytree': 0.9949414623192445, 'max_depth': 4, 'n_estimators': 1275}. Best is trial 4 with value: 4.014516335495757.\u001b[0m\n"
          ]
        },
        {
          "name": "stdout",
          "output_type": "stream",
          "text": [
            "Mean Absolute Error :  5.448784966336275\n",
            "R2_score :  0.6797171374340709\n"
          ]
        },
        {
          "name": "stderr",
          "output_type": "stream",
          "text": [
            "C:\\Users\\nshre\\AppData\\Local\\Temp\\ipykernel_12852\\3012480772.py:5: FutureWarning: suggest_loguniform has been deprecated in v3.0.0. This feature will be removed in v6.0.0. See https://github.com/optuna/optuna/releases/tag/v3.0.0. Use :func:`~optuna.trial.Trial.suggest_float` instead.\n",
            "  reg_lambda = trial.suggest_loguniform(\"reg_lambda\", 1e-8, 100.0)\n",
            "C:\\Users\\nshre\\AppData\\Local\\Temp\\ipykernel_12852\\3012480772.py:6: FutureWarning: suggest_loguniform has been deprecated in v3.0.0. This feature will be removed in v6.0.0. See https://github.com/optuna/optuna/releases/tag/v3.0.0. Use :func:`~optuna.trial.Trial.suggest_float` instead.\n",
            "  reg_alpha = trial.suggest_loguniform(\"reg_alpha\", 1e-8, 100.0)\n",
            "\u001b[32m[I 2023-04-28 08:54:08,304]\u001b[0m Trial 11 finished with value: 4.085750954056798 and parameters: {'learning_rate': 0.03542790877442886, 'reg_lambda': 41.25654627199507, 'reg_alpha': 0.4560511887435661, 'subsample': 0.147532038106214, 'colsample_bytree': 0.815671183841725, 'max_depth': 4, 'n_estimators': 1836}. Best is trial 4 with value: 4.014516335495757.\u001b[0m\n"
          ]
        },
        {
          "name": "stdout",
          "output_type": "stream",
          "text": [
            "Mean Absolute Error :  4.085750954056798\n",
            "R2_score :  0.7594484502850081\n"
          ]
        },
        {
          "name": "stderr",
          "output_type": "stream",
          "text": [
            "C:\\Users\\nshre\\AppData\\Local\\Temp\\ipykernel_12852\\3012480772.py:5: FutureWarning: suggest_loguniform has been deprecated in v3.0.0. This feature will be removed in v6.0.0. See https://github.com/optuna/optuna/releases/tag/v3.0.0. Use :func:`~optuna.trial.Trial.suggest_float` instead.\n",
            "  reg_lambda = trial.suggest_loguniform(\"reg_lambda\", 1e-8, 100.0)\n",
            "C:\\Users\\nshre\\AppData\\Local\\Temp\\ipykernel_12852\\3012480772.py:6: FutureWarning: suggest_loguniform has been deprecated in v3.0.0. This feature will be removed in v6.0.0. See https://github.com/optuna/optuna/releases/tag/v3.0.0. Use :func:`~optuna.trial.Trial.suggest_float` instead.\n",
            "  reg_alpha = trial.suggest_loguniform(\"reg_alpha\", 1e-8, 100.0)\n",
            "\u001b[32m[I 2023-04-28 08:55:09,808]\u001b[0m Trial 12 finished with value: 4.254570276865067 and parameters: {'learning_rate': 0.03513889075361243, 'reg_lambda': 5.924322568326093, 'reg_alpha': 0.1128754407699121, 'subsample': 0.10981470118206949, 'colsample_bytree': 0.7705293464848719, 'max_depth': 3, 'n_estimators': 1440}. Best is trial 4 with value: 4.014516335495757.\u001b[0m\n"
          ]
        },
        {
          "name": "stdout",
          "output_type": "stream",
          "text": [
            "Mean Absolute Error :  4.254570276865067\n",
            "R2_score :  0.7572186240389522\n"
          ]
        },
        {
          "name": "stderr",
          "output_type": "stream",
          "text": [
            "C:\\Users\\nshre\\AppData\\Local\\Temp\\ipykernel_12852\\3012480772.py:5: FutureWarning: suggest_loguniform has been deprecated in v3.0.0. This feature will be removed in v6.0.0. See https://github.com/optuna/optuna/releases/tag/v3.0.0. Use :func:`~optuna.trial.Trial.suggest_float` instead.\n",
            "  reg_lambda = trial.suggest_loguniform(\"reg_lambda\", 1e-8, 100.0)\n",
            "C:\\Users\\nshre\\AppData\\Local\\Temp\\ipykernel_12852\\3012480772.py:6: FutureWarning: suggest_loguniform has been deprecated in v3.0.0. This feature will be removed in v6.0.0. See https://github.com/optuna/optuna/releases/tag/v3.0.0. Use :func:`~optuna.trial.Trial.suggest_float` instead.\n",
            "  reg_alpha = trial.suggest_loguniform(\"reg_alpha\", 1e-8, 100.0)\n",
            "\u001b[32m[I 2023-04-28 08:57:49,328]\u001b[0m Trial 13 finished with value: 4.791194169543509 and parameters: {'learning_rate': 0.025010535957519203, 'reg_lambda': 6.824506512475626e-08, 'reg_alpha': 10.570979534990876, 'subsample': 0.22461807089542404, 'colsample_bytree': 0.9158758279999428, 'max_depth': 4, 'n_estimators': 2496}. Best is trial 4 with value: 4.014516335495757.\u001b[0m\n"
          ]
        },
        {
          "name": "stdout",
          "output_type": "stream",
          "text": [
            "Mean Absolute Error :  4.791194169543509\n",
            "R2_score :  0.6846157907626407\n"
          ]
        },
        {
          "name": "stderr",
          "output_type": "stream",
          "text": [
            "C:\\Users\\nshre\\AppData\\Local\\Temp\\ipykernel_12852\\3012480772.py:5: FutureWarning: suggest_loguniform has been deprecated in v3.0.0. This feature will be removed in v6.0.0. See https://github.com/optuna/optuna/releases/tag/v3.0.0. Use :func:`~optuna.trial.Trial.suggest_float` instead.\n",
            "  reg_lambda = trial.suggest_loguniform(\"reg_lambda\", 1e-8, 100.0)\n",
            "C:\\Users\\nshre\\AppData\\Local\\Temp\\ipykernel_12852\\3012480772.py:6: FutureWarning: suggest_loguniform has been deprecated in v3.0.0. This feature will be removed in v6.0.0. See https://github.com/optuna/optuna/releases/tag/v3.0.0. Use :func:`~optuna.trial.Trial.suggest_float` instead.\n",
            "  reg_alpha = trial.suggest_loguniform(\"reg_alpha\", 1e-8, 100.0)\n",
            "\u001b[32m[I 2023-04-28 08:58:36,173]\u001b[0m Trial 14 finished with value: 4.3047275109652485 and parameters: {'learning_rate': 0.045580208679295006, 'reg_lambda': 4.269465720292161, 'reg_alpha': 95.5353225451274, 'subsample': 0.2490420291766568, 'colsample_bytree': 0.6795898624820328, 'max_depth': 3, 'n_estimators': 989}. Best is trial 4 with value: 4.014516335495757.\u001b[0m\n"
          ]
        },
        {
          "name": "stdout",
          "output_type": "stream",
          "text": [
            "Mean Absolute Error :  4.3047275109652485\n",
            "R2_score :  0.7616933575832009\n"
          ]
        },
        {
          "name": "stderr",
          "output_type": "stream",
          "text": [
            "C:\\Users\\nshre\\AppData\\Local\\Temp\\ipykernel_12852\\3012480772.py:5: FutureWarning: suggest_loguniform has been deprecated in v3.0.0. This feature will be removed in v6.0.0. See https://github.com/optuna/optuna/releases/tag/v3.0.0. Use :func:`~optuna.trial.Trial.suggest_float` instead.\n",
            "  reg_lambda = trial.suggest_loguniform(\"reg_lambda\", 1e-8, 100.0)\n",
            "C:\\Users\\nshre\\AppData\\Local\\Temp\\ipykernel_12852\\3012480772.py:6: FutureWarning: suggest_loguniform has been deprecated in v3.0.0. This feature will be removed in v6.0.0. See https://github.com/optuna/optuna/releases/tag/v3.0.0. Use :func:`~optuna.trial.Trial.suggest_float` instead.\n",
            "  reg_alpha = trial.suggest_loguniform(\"reg_alpha\", 1e-8, 100.0)\n",
            "\u001b[32m[I 2023-04-28 08:58:48,379]\u001b[0m Trial 15 finished with value: 4.995289434156859 and parameters: {'learning_rate': 0.014966719408486352, 'reg_lambda': 0.015391094671520136, 'reg_alpha': 1.2413569766336248, 'subsample': 0.3809086949632191, 'colsample_bytree': 0.533610399214107, 'max_depth': 4, 'n_estimators': 204}. Best is trial 4 with value: 4.014516335495757.\u001b[0m\n"
          ]
        },
        {
          "name": "stdout",
          "output_type": "stream",
          "text": [
            "Mean Absolute Error :  4.995289434156859\n",
            "R2_score :  0.7495774682087979\n"
          ]
        },
        {
          "name": "stderr",
          "output_type": "stream",
          "text": [
            "C:\\Users\\nshre\\AppData\\Local\\Temp\\ipykernel_12852\\3012480772.py:5: FutureWarning: suggest_loguniform has been deprecated in v3.0.0. This feature will be removed in v6.0.0. See https://github.com/optuna/optuna/releases/tag/v3.0.0. Use :func:`~optuna.trial.Trial.suggest_float` instead.\n",
            "  reg_lambda = trial.suggest_loguniform(\"reg_lambda\", 1e-8, 100.0)\n",
            "C:\\Users\\nshre\\AppData\\Local\\Temp\\ipykernel_12852\\3012480772.py:6: FutureWarning: suggest_loguniform has been deprecated in v3.0.0. This feature will be removed in v6.0.0. See https://github.com/optuna/optuna/releases/tag/v3.0.0. Use :func:`~optuna.trial.Trial.suggest_float` instead.\n",
            "  reg_alpha = trial.suggest_loguniform(\"reg_alpha\", 1e-8, 100.0)\n",
            "\u001b[32m[I 2023-04-28 09:00:52,979]\u001b[0m Trial 16 finished with value: 4.243051719462243 and parameters: {'learning_rate': 0.04593885265112103, 'reg_lambda': 88.0882031076654, 'reg_alpha': 0.009811285188130726, 'subsample': 0.20974407775230022, 'colsample_bytree': 0.875570296468998, 'max_depth': 5, 'n_estimators': 1673}. Best is trial 4 with value: 4.014516335495757.\u001b[0m\n"
          ]
        },
        {
          "name": "stdout",
          "output_type": "stream",
          "text": [
            "Mean Absolute Error :  4.243051719462243\n",
            "R2_score :  0.7392742644368074\n"
          ]
        },
        {
          "name": "stderr",
          "output_type": "stream",
          "text": [
            "C:\\Users\\nshre\\AppData\\Local\\Temp\\ipykernel_12852\\3012480772.py:5: FutureWarning: suggest_loguniform has been deprecated in v3.0.0. This feature will be removed in v6.0.0. See https://github.com/optuna/optuna/releases/tag/v3.0.0. Use :func:`~optuna.trial.Trial.suggest_float` instead.\n",
            "  reg_lambda = trial.suggest_loguniform(\"reg_lambda\", 1e-8, 100.0)\n",
            "C:\\Users\\nshre\\AppData\\Local\\Temp\\ipykernel_12852\\3012480772.py:6: FutureWarning: suggest_loguniform has been deprecated in v3.0.0. This feature will be removed in v6.0.0. See https://github.com/optuna/optuna/releases/tag/v3.0.0. Use :func:`~optuna.trial.Trial.suggest_float` instead.\n",
            "  reg_alpha = trial.suggest_loguniform(\"reg_alpha\", 1e-8, 100.0)\n",
            "\u001b[32m[I 2023-04-28 09:03:06,459]\u001b[0m Trial 17 finished with value: 4.093689252968496 and parameters: {'learning_rate': 0.024155222458682596, 'reg_lambda': 2.301706730001585, 'reg_alpha': 4.662088877381834e-05, 'subsample': 0.40407323084066116, 'colsample_bytree': 0.731074366583236, 'max_depth': 3, 'n_estimators': 2229}. Best is trial 4 with value: 4.014516335495757.\u001b[0m\n"
          ]
        },
        {
          "name": "stdout",
          "output_type": "stream",
          "text": [
            "Mean Absolute Error :  4.093689252968496\n",
            "R2_score :  0.7476057198864594\n"
          ]
        },
        {
          "name": "stderr",
          "output_type": "stream",
          "text": [
            "C:\\Users\\nshre\\AppData\\Local\\Temp\\ipykernel_12852\\3012480772.py:5: FutureWarning: suggest_loguniform has been deprecated in v3.0.0. This feature will be removed in v6.0.0. See https://github.com/optuna/optuna/releases/tag/v3.0.0. Use :func:`~optuna.trial.Trial.suggest_float` instead.\n",
            "  reg_lambda = trial.suggest_loguniform(\"reg_lambda\", 1e-8, 100.0)\n",
            "C:\\Users\\nshre\\AppData\\Local\\Temp\\ipykernel_12852\\3012480772.py:6: FutureWarning: suggest_loguniform has been deprecated in v3.0.0. This feature will be removed in v6.0.0. See https://github.com/optuna/optuna/releases/tag/v3.0.0. Use :func:`~optuna.trial.Trial.suggest_float` instead.\n",
            "  reg_alpha = trial.suggest_loguniform(\"reg_alpha\", 1e-8, 100.0)\n",
            "\u001b[32m[I 2023-04-28 09:03:40,280]\u001b[0m Trial 18 finished with value: 9.070102359674655 and parameters: {'learning_rate': 0.0012930917356519175, 'reg_lambda': 0.4013732538033482, 'reg_alpha': 0.055953531181059404, 'subsample': 0.25423058984118274, 'colsample_bytree': 0.8662101703697235, 'max_depth': 4, 'n_estimators': 529}. Best is trial 4 with value: 4.014516335495757.\u001b[0m\n"
          ]
        },
        {
          "name": "stdout",
          "output_type": "stream",
          "text": [
            "Mean Absolute Error :  9.070102359674655\n",
            "R2_score :  0.44163328405924074\n"
          ]
        },
        {
          "name": "stderr",
          "output_type": "stream",
          "text": [
            "C:\\Users\\nshre\\AppData\\Local\\Temp\\ipykernel_12852\\3012480772.py:5: FutureWarning: suggest_loguniform has been deprecated in v3.0.0. This feature will be removed in v6.0.0. See https://github.com/optuna/optuna/releases/tag/v3.0.0. Use :func:`~optuna.trial.Trial.suggest_float` instead.\n",
            "  reg_lambda = trial.suggest_loguniform(\"reg_lambda\", 1e-8, 100.0)\n",
            "C:\\Users\\nshre\\AppData\\Local\\Temp\\ipykernel_12852\\3012480772.py:6: FutureWarning: suggest_loguniform has been deprecated in v3.0.0. This feature will be removed in v6.0.0. See https://github.com/optuna/optuna/releases/tag/v3.0.0. Use :func:`~optuna.trial.Trial.suggest_float` instead.\n",
            "  reg_alpha = trial.suggest_loguniform(\"reg_alpha\", 1e-8, 100.0)\n",
            "\u001b[32m[I 2023-04-28 09:04:29,924]\u001b[0m Trial 19 finished with value: 5.430407336248827 and parameters: {'learning_rate': 0.04153763734194716, 'reg_lambda': 0.013079948726058456, 'reg_alpha': 0.9995965435106116, 'subsample': 0.11164312307294227, 'colsample_bytree': 0.5426943298548812, 'max_depth': 3, 'n_estimators': 1308}. Best is trial 4 with value: 4.014516335495757.\u001b[0m\n"
          ]
        },
        {
          "name": "stdout",
          "output_type": "stream",
          "text": [
            "Mean Absolute Error :  5.430407336248827\n",
            "R2_score :  0.7386240109592743\n"
          ]
        }
      ],
      "source": [
        "\"\"\"Uncomment for tuning the model\"\"\"\n",
        "import optuna\n",
        "def run(trial):\n",
        "    learning_rate = trial.suggest_float(\"learning_rate\", 1e-3, 0.1)\n",
        "    reg_lambda = trial.suggest_loguniform(\"reg_lambda\", 1e-8, 100.0)\n",
        "    reg_alpha = trial.suggest_loguniform(\"reg_alpha\", 1e-8, 100.0)\n",
        "    subsample = trial.suggest_float(\"subsample\", 0.1, 1.0)\n",
        "    colsample_bytree = trial.suggest_float(\"colsample_bytree\", 0.1, 1.0)\n",
        "    max_depth = trial.suggest_int(\"max_depth\", 3, 6)\n",
        "    n_estimators = trial.suggest_int(\"n_estimators\", 20, 3000)\n",
        "\n",
        "\n",
        "    model = xgb.XGBRegressor(\n",
        "            random_state=42,\n",
        "            objective='reg:squarederror',\n",
        "            n_estimators=n_estimators,\n",
        "            learning_rate=learning_rate,\n",
        "            reg_lambda=reg_lambda,\n",
        "            reg_alpha=reg_alpha,\n",
        "            subsample=subsample,\n",
        "            colsample_bytree=colsample_bytree,\n",
        "            max_depth=max_depth,\n",
        "            eval_metric='mae'\n",
        "        )\n",
        "    model.fit(X_train, y_train)\n",
        "    preds_valid = model.predict(X_test)\n",
        "    mae_ = mean_absolute_error(y_test, preds_valid)\n",
        "    r2_sc = r2_score(y_test, preds_valid)\n",
        "    print(\"Mean Absolute Error : \", mae_)\n",
        "    print(\"R2_score : \", r2_sc)\n",
        "    return mae_\n",
        "\n",
        "study = optuna.create_study(direction=\"minimize\")\n",
        "study.optimize(run, n_trials=20)\n",
        "\n",
        "# study.best_params"
      ]
    },
    {
      "cell_type": "code",
      "execution_count": 97,
      "metadata": {},
      "outputs": [
        {
          "name": "stderr",
          "output_type": "stream",
          "text": [
            "\u001b[32m[I 2023-04-28 09:04:30,128]\u001b[0m A new study created in memory with name: no-name-0d3aee4a-db2a-445a-aee6-6a631401074b\u001b[0m\n",
            "C:\\Users\\nshre\\AppData\\Local\\Temp\\ipykernel_12852\\719259616.py:5: FutureWarning: suggest_loguniform has been deprecated in v3.0.0. This feature will be removed in v6.0.0. See https://github.com/optuna/optuna/releases/tag/v3.0.0. Use :func:`~optuna.trial.Trial.suggest_float` instead.\n",
            "  reg_lambda = trial.suggest_loguniform(\"reg_lambda\", 1e-8, 100.0)\n",
            "C:\\Users\\nshre\\AppData\\Local\\Temp\\ipykernel_12852\\719259616.py:6: FutureWarning: suggest_loguniform has been deprecated in v3.0.0. This feature will be removed in v6.0.0. See https://github.com/optuna/optuna/releases/tag/v3.0.0. Use :func:`~optuna.trial.Trial.suggest_float` instead.\n",
            "  reg_alpha = trial.suggest_loguniform(\"reg_alpha\", 1e-8, 100.0)\n",
            "\u001b[32m[I 2023-04-28 09:04:41,170]\u001b[0m Trial 0 finished with value: 4.45109362412442 and parameters: {'learning_rate': 0.07511926391905335, 'reg_lambda': 9.155477788500397, 'reg_alpha': 2.0220448757521527e-06, 'subsample': 0.485471495251942, 'colsample_bytree': 0.2838175433464417, 'max_depth': 3, 'n_estimators': 260}. Best is trial 0 with value: 4.45109362412442.\u001b[0m\n"
          ]
        },
        {
          "name": "stdout",
          "output_type": "stream",
          "text": [
            "Mean Absolute Error :  4.45109362412442\n",
            "R2_score :  0.7820779441828376\n"
          ]
        },
        {
          "name": "stderr",
          "output_type": "stream",
          "text": [
            "C:\\Users\\nshre\\AppData\\Local\\Temp\\ipykernel_12852\\719259616.py:5: FutureWarning: suggest_loguniform has been deprecated in v3.0.0. This feature will be removed in v6.0.0. See https://github.com/optuna/optuna/releases/tag/v3.0.0. Use :func:`~optuna.trial.Trial.suggest_float` instead.\n",
            "  reg_lambda = trial.suggest_loguniform(\"reg_lambda\", 1e-8, 100.0)\n",
            "C:\\Users\\nshre\\AppData\\Local\\Temp\\ipykernel_12852\\719259616.py:6: FutureWarning: suggest_loguniform has been deprecated in v3.0.0. This feature will be removed in v6.0.0. See https://github.com/optuna/optuna/releases/tag/v3.0.0. Use :func:`~optuna.trial.Trial.suggest_float` instead.\n",
            "  reg_alpha = trial.suggest_loguniform(\"reg_alpha\", 1e-8, 100.0)\n",
            "\u001b[32m[I 2023-04-28 09:04:51,238]\u001b[0m Trial 1 finished with value: 4.37555884175738 and parameters: {'learning_rate': 0.09352998540410909, 'reg_lambda': 0.00036642843752606705, 'reg_alpha': 0.4009758857433482, 'subsample': 0.6332212397539065, 'colsample_bytree': 0.524477195640949, 'max_depth': 3, 'n_estimators': 192}. Best is trial 1 with value: 4.37555884175738.\u001b[0m\n"
          ]
        },
        {
          "name": "stdout",
          "output_type": "stream",
          "text": [
            "Mean Absolute Error :  4.37555884175738\n",
            "R2_score :  0.7225718959237353\n"
          ]
        },
        {
          "name": "stderr",
          "output_type": "stream",
          "text": [
            "C:\\Users\\nshre\\AppData\\Local\\Temp\\ipykernel_12852\\719259616.py:5: FutureWarning: suggest_loguniform has been deprecated in v3.0.0. This feature will be removed in v6.0.0. See https://github.com/optuna/optuna/releases/tag/v3.0.0. Use :func:`~optuna.trial.Trial.suggest_float` instead.\n",
            "  reg_lambda = trial.suggest_loguniform(\"reg_lambda\", 1e-8, 100.0)\n",
            "C:\\Users\\nshre\\AppData\\Local\\Temp\\ipykernel_12852\\719259616.py:6: FutureWarning: suggest_loguniform has been deprecated in v3.0.0. This feature will be removed in v6.0.0. See https://github.com/optuna/optuna/releases/tag/v3.0.0. Use :func:`~optuna.trial.Trial.suggest_float` instead.\n",
            "  reg_alpha = trial.suggest_loguniform(\"reg_alpha\", 1e-8, 100.0)\n",
            "\u001b[32m[I 2023-04-28 09:06:12,419]\u001b[0m Trial 2 finished with value: 4.6421249747019795 and parameters: {'learning_rate': 0.08751711247805773, 'reg_lambda': 8.926641410419766, 'reg_alpha': 4.097168185791003e-08, 'subsample': 0.821061008835693, 'colsample_bytree': 0.12700196394387855, 'max_depth': 3, 'n_estimators': 2335}. Best is trial 1 with value: 4.37555884175738.\u001b[0m\n"
          ]
        },
        {
          "name": "stdout",
          "output_type": "stream",
          "text": [
            "Mean Absolute Error :  4.6421249747019795\n",
            "R2_score :  0.7665492732905539\n"
          ]
        },
        {
          "name": "stderr",
          "output_type": "stream",
          "text": [
            "C:\\Users\\nshre\\AppData\\Local\\Temp\\ipykernel_12852\\719259616.py:5: FutureWarning: suggest_loguniform has been deprecated in v3.0.0. This feature will be removed in v6.0.0. See https://github.com/optuna/optuna/releases/tag/v3.0.0. Use :func:`~optuna.trial.Trial.suggest_float` instead.\n",
            "  reg_lambda = trial.suggest_loguniform(\"reg_lambda\", 1e-8, 100.0)\n",
            "C:\\Users\\nshre\\AppData\\Local\\Temp\\ipykernel_12852\\719259616.py:6: FutureWarning: suggest_loguniform has been deprecated in v3.0.0. This feature will be removed in v6.0.0. See https://github.com/optuna/optuna/releases/tag/v3.0.0. Use :func:`~optuna.trial.Trial.suggest_float` instead.\n",
            "  reg_alpha = trial.suggest_loguniform(\"reg_alpha\", 1e-8, 100.0)\n",
            "\u001b[32m[I 2023-04-28 09:08:14,493]\u001b[0m Trial 3 finished with value: 4.419209723726743 and parameters: {'learning_rate': 0.03145172256075458, 'reg_lambda': 4.999706038464734e-05, 'reg_alpha': 60.774996801999954, 'subsample': 0.551267338326362, 'colsample_bytree': 0.5609709595493059, 'max_depth': 5, 'n_estimators': 1537}. Best is trial 1 with value: 4.37555884175738.\u001b[0m\n"
          ]
        },
        {
          "name": "stdout",
          "output_type": "stream",
          "text": [
            "Mean Absolute Error :  4.419209723726743\n",
            "R2_score :  0.7323315937345198\n"
          ]
        },
        {
          "name": "stderr",
          "output_type": "stream",
          "text": [
            "C:\\Users\\nshre\\AppData\\Local\\Temp\\ipykernel_12852\\719259616.py:5: FutureWarning: suggest_loguniform has been deprecated in v3.0.0. This feature will be removed in v6.0.0. See https://github.com/optuna/optuna/releases/tag/v3.0.0. Use :func:`~optuna.trial.Trial.suggest_float` instead.\n",
            "  reg_lambda = trial.suggest_loguniform(\"reg_lambda\", 1e-8, 100.0)\n",
            "C:\\Users\\nshre\\AppData\\Local\\Temp\\ipykernel_12852\\719259616.py:6: FutureWarning: suggest_loguniform has been deprecated in v3.0.0. This feature will be removed in v6.0.0. See https://github.com/optuna/optuna/releases/tag/v3.0.0. Use :func:`~optuna.trial.Trial.suggest_float` instead.\n",
            "  reg_alpha = trial.suggest_loguniform(\"reg_alpha\", 1e-8, 100.0)\n",
            "\u001b[32m[I 2023-04-28 09:11:07,241]\u001b[0m Trial 4 finished with value: 4.543365449905182 and parameters: {'learning_rate': 0.09888878048825313, 'reg_lambda': 24.855488205229097, 'reg_alpha': 0.5834662929754639, 'subsample': 0.9802581610602823, 'colsample_bytree': 0.5554147201309242, 'max_depth': 3, 'n_estimators': 2672}. Best is trial 1 with value: 4.37555884175738.\u001b[0m\n"
          ]
        },
        {
          "name": "stdout",
          "output_type": "stream",
          "text": [
            "Mean Absolute Error :  4.543365449905182\n",
            "R2_score :  0.7398357016519148\n"
          ]
        },
        {
          "name": "stderr",
          "output_type": "stream",
          "text": [
            "C:\\Users\\nshre\\AppData\\Local\\Temp\\ipykernel_12852\\719259616.py:5: FutureWarning: suggest_loguniform has been deprecated in v3.0.0. This feature will be removed in v6.0.0. See https://github.com/optuna/optuna/releases/tag/v3.0.0. Use :func:`~optuna.trial.Trial.suggest_float` instead.\n",
            "  reg_lambda = trial.suggest_loguniform(\"reg_lambda\", 1e-8, 100.0)\n",
            "C:\\Users\\nshre\\AppData\\Local\\Temp\\ipykernel_12852\\719259616.py:6: FutureWarning: suggest_loguniform has been deprecated in v3.0.0. This feature will be removed in v6.0.0. See https://github.com/optuna/optuna/releases/tag/v3.0.0. Use :func:`~optuna.trial.Trial.suggest_float` instead.\n",
            "  reg_alpha = trial.suggest_loguniform(\"reg_alpha\", 1e-8, 100.0)\n",
            "\u001b[32m[I 2023-04-28 09:13:38,257]\u001b[0m Trial 5 finished with value: 5.357332845560095 and parameters: {'learning_rate': 0.06625231145468774, 'reg_lambda': 8.848086435644778e-07, 'reg_alpha': 1.9862217971987475e-07, 'subsample': 0.5544800717464493, 'colsample_bytree': 0.2980344126396455, 'max_depth': 4, 'n_estimators': 1767}. Best is trial 1 with value: 4.37555884175738.\u001b[0m\n"
          ]
        },
        {
          "name": "stdout",
          "output_type": "stream",
          "text": [
            "Mean Absolute Error :  5.357332845560095\n",
            "R2_score :  0.7420422338459665\n"
          ]
        },
        {
          "name": "stderr",
          "output_type": "stream",
          "text": [
            "C:\\Users\\nshre\\AppData\\Local\\Temp\\ipykernel_12852\\719259616.py:5: FutureWarning: suggest_loguniform has been deprecated in v3.0.0. This feature will be removed in v6.0.0. See https://github.com/optuna/optuna/releases/tag/v3.0.0. Use :func:`~optuna.trial.Trial.suggest_float` instead.\n",
            "  reg_lambda = trial.suggest_loguniform(\"reg_lambda\", 1e-8, 100.0)\n",
            "C:\\Users\\nshre\\AppData\\Local\\Temp\\ipykernel_12852\\719259616.py:6: FutureWarning: suggest_loguniform has been deprecated in v3.0.0. This feature will be removed in v6.0.0. See https://github.com/optuna/optuna/releases/tag/v3.0.0. Use :func:`~optuna.trial.Trial.suggest_float` instead.\n",
            "  reg_alpha = trial.suggest_loguniform(\"reg_alpha\", 1e-8, 100.0)\n",
            "\u001b[32m[I 2023-04-28 09:16:51,756]\u001b[0m Trial 6 finished with value: 5.1697740533867504 and parameters: {'learning_rate': 0.08370992322094004, 'reg_lambda': 0.006482423000071544, 'reg_alpha': 7.607417108993234e-08, 'subsample': 0.47335763912093665, 'colsample_bytree': 0.5491432977090945, 'max_depth': 6, 'n_estimators': 1628}. Best is trial 1 with value: 4.37555884175738.\u001b[0m\n"
          ]
        },
        {
          "name": "stdout",
          "output_type": "stream",
          "text": [
            "Mean Absolute Error :  5.1697740533867504\n",
            "R2_score :  0.7181880729554668\n"
          ]
        },
        {
          "name": "stderr",
          "output_type": "stream",
          "text": [
            "C:\\Users\\nshre\\AppData\\Local\\Temp\\ipykernel_12852\\719259616.py:5: FutureWarning: suggest_loguniform has been deprecated in v3.0.0. This feature will be removed in v6.0.0. See https://github.com/optuna/optuna/releases/tag/v3.0.0. Use :func:`~optuna.trial.Trial.suggest_float` instead.\n",
            "  reg_lambda = trial.suggest_loguniform(\"reg_lambda\", 1e-8, 100.0)\n",
            "C:\\Users\\nshre\\AppData\\Local\\Temp\\ipykernel_12852\\719259616.py:6: FutureWarning: suggest_loguniform has been deprecated in v3.0.0. This feature will be removed in v6.0.0. See https://github.com/optuna/optuna/releases/tag/v3.0.0. Use :func:`~optuna.trial.Trial.suggest_float` instead.\n",
            "  reg_alpha = trial.suggest_loguniform(\"reg_alpha\", 1e-8, 100.0)\n",
            "\u001b[32m[I 2023-04-28 09:20:16,777]\u001b[0m Trial 7 finished with value: 4.399734740061761 and parameters: {'learning_rate': 0.019277007954551645, 'reg_lambda': 3.7228712122524425e-05, 'reg_alpha': 1.5096281335986974e-07, 'subsample': 0.9714907644671561, 'colsample_bytree': 0.44359452647471065, 'max_depth': 5, 'n_estimators': 2662}. Best is trial 1 with value: 4.37555884175738.\u001b[0m\n"
          ]
        },
        {
          "name": "stdout",
          "output_type": "stream",
          "text": [
            "Mean Absolute Error :  4.399734740061761\n",
            "R2_score :  0.7243442076497664\n"
          ]
        },
        {
          "name": "stderr",
          "output_type": "stream",
          "text": [
            "C:\\Users\\nshre\\AppData\\Local\\Temp\\ipykernel_12852\\719259616.py:5: FutureWarning: suggest_loguniform has been deprecated in v3.0.0. This feature will be removed in v6.0.0. See https://github.com/optuna/optuna/releases/tag/v3.0.0. Use :func:`~optuna.trial.Trial.suggest_float` instead.\n",
            "  reg_lambda = trial.suggest_loguniform(\"reg_lambda\", 1e-8, 100.0)\n",
            "C:\\Users\\nshre\\AppData\\Local\\Temp\\ipykernel_12852\\719259616.py:6: FutureWarning: suggest_loguniform has been deprecated in v3.0.0. This feature will be removed in v6.0.0. See https://github.com/optuna/optuna/releases/tag/v3.0.0. Use :func:`~optuna.trial.Trial.suggest_float` instead.\n",
            "  reg_alpha = trial.suggest_loguniform(\"reg_alpha\", 1e-8, 100.0)\n",
            "\u001b[32m[I 2023-04-28 09:23:11,825]\u001b[0m Trial 8 finished with value: 5.623420045858467 and parameters: {'learning_rate': 0.09363933420622975, 'reg_lambda': 2.215876134372027e-08, 'reg_alpha': 1.9828507172812145e-08, 'subsample': 0.53214042829062, 'colsample_bytree': 0.6078857109761135, 'max_depth': 3, 'n_estimators': 2867}. Best is trial 1 with value: 4.37555884175738.\u001b[0m\n"
          ]
        },
        {
          "name": "stdout",
          "output_type": "stream",
          "text": [
            "Mean Absolute Error :  5.623420045858467\n",
            "R2_score :  0.6709702157996298\n"
          ]
        },
        {
          "name": "stderr",
          "output_type": "stream",
          "text": [
            "C:\\Users\\nshre\\AppData\\Local\\Temp\\ipykernel_12852\\719259616.py:5: FutureWarning: suggest_loguniform has been deprecated in v3.0.0. This feature will be removed in v6.0.0. See https://github.com/optuna/optuna/releases/tag/v3.0.0. Use :func:`~optuna.trial.Trial.suggest_float` instead.\n",
            "  reg_lambda = trial.suggest_loguniform(\"reg_lambda\", 1e-8, 100.0)\n",
            "C:\\Users\\nshre\\AppData\\Local\\Temp\\ipykernel_12852\\719259616.py:6: FutureWarning: suggest_loguniform has been deprecated in v3.0.0. This feature will be removed in v6.0.0. See https://github.com/optuna/optuna/releases/tag/v3.0.0. Use :func:`~optuna.trial.Trial.suggest_float` instead.\n",
            "  reg_alpha = trial.suggest_loguniform(\"reg_alpha\", 1e-8, 100.0)\n",
            "\u001b[32m[I 2023-04-28 20:57:38,146]\u001b[0m Trial 9 finished with value: 4.78350110575384 and parameters: {'learning_rate': 0.023361361840033373, 'reg_lambda': 2.6842680948509104e-08, 'reg_alpha': 2.174301431738352e-06, 'subsample': 0.5837255176982205, 'colsample_bytree': 0.6572166118349376, 'max_depth': 5, 'n_estimators': 2868}. Best is trial 1 with value: 4.37555884175738.\u001b[0m\n"
          ]
        },
        {
          "name": "stdout",
          "output_type": "stream",
          "text": [
            "Mean Absolute Error :  4.78350110575384\n",
            "R2_score :  0.66309180139157\n"
          ]
        },
        {
          "name": "stderr",
          "output_type": "stream",
          "text": [
            "C:\\Users\\nshre\\AppData\\Local\\Temp\\ipykernel_12852\\719259616.py:5: FutureWarning: suggest_loguniform has been deprecated in v3.0.0. This feature will be removed in v6.0.0. See https://github.com/optuna/optuna/releases/tag/v3.0.0. Use :func:`~optuna.trial.Trial.suggest_float` instead.\n",
            "  reg_lambda = trial.suggest_loguniform(\"reg_lambda\", 1e-8, 100.0)\n",
            "C:\\Users\\nshre\\AppData\\Local\\Temp\\ipykernel_12852\\719259616.py:6: FutureWarning: suggest_loguniform has been deprecated in v3.0.0. This feature will be removed in v6.0.0. See https://github.com/optuna/optuna/releases/tag/v3.0.0. Use :func:`~optuna.trial.Trial.suggest_float` instead.\n",
            "  reg_alpha = trial.suggest_loguniform(\"reg_alpha\", 1e-8, 100.0)\n",
            "\u001b[32m[I 2023-04-28 20:57:42,148]\u001b[0m Trial 10 finished with value: 4.963308442169709 and parameters: {'learning_rate': 0.055280297416579895, 'reg_lambda': 0.010017499383590443, 'reg_alpha': 0.0075379566623527666, 'subsample': 0.23734176895651116, 'colsample_bytree': 0.839702589285737, 'max_depth': 4, 'n_estimators': 48}. Best is trial 1 with value: 4.37555884175738.\u001b[0m\n"
          ]
        },
        {
          "name": "stdout",
          "output_type": "stream",
          "text": [
            "Mean Absolute Error :  4.963308442169709\n",
            "R2_score :  0.7128506477516869\n"
          ]
        },
        {
          "name": "stderr",
          "output_type": "stream",
          "text": [
            "C:\\Users\\nshre\\AppData\\Local\\Temp\\ipykernel_12852\\719259616.py:5: FutureWarning: suggest_loguniform has been deprecated in v3.0.0. This feature will be removed in v6.0.0. See https://github.com/optuna/optuna/releases/tag/v3.0.0. Use :func:`~optuna.trial.Trial.suggest_float` instead.\n",
            "  reg_lambda = trial.suggest_loguniform(\"reg_lambda\", 1e-8, 100.0)\n",
            "C:\\Users\\nshre\\AppData\\Local\\Temp\\ipykernel_12852\\719259616.py:6: FutureWarning: suggest_loguniform has been deprecated in v3.0.0. This feature will be removed in v6.0.0. See https://github.com/optuna/optuna/releases/tag/v3.0.0. Use :func:`~optuna.trial.Trial.suggest_float` instead.\n",
            "  reg_alpha = trial.suggest_loguniform(\"reg_alpha\", 1e-8, 100.0)\n",
            "\u001b[32m[I 2023-04-28 20:59:29,658]\u001b[0m Trial 11 finished with value: 5.141923206292742 and parameters: {'learning_rate': 0.0029367987349087354, 'reg_lambda': 0.00017443901378252373, 'reg_alpha': 0.0008930028522699851, 'subsample': 0.9999053622380785, 'colsample_bytree': 0.36904344791808086, 'max_depth': 6, 'n_estimators': 1099}. Best is trial 1 with value: 4.37555884175738.\u001b[0m\n"
          ]
        },
        {
          "name": "stdout",
          "output_type": "stream",
          "text": [
            "Mean Absolute Error :  5.141923206292742\n",
            "R2_score :  0.7497472931596717\n"
          ]
        },
        {
          "name": "stderr",
          "output_type": "stream",
          "text": [
            "C:\\Users\\nshre\\AppData\\Local\\Temp\\ipykernel_12852\\719259616.py:5: FutureWarning: suggest_loguniform has been deprecated in v3.0.0. This feature will be removed in v6.0.0. See https://github.com/optuna/optuna/releases/tag/v3.0.0. Use :func:`~optuna.trial.Trial.suggest_float` instead.\n",
            "  reg_lambda = trial.suggest_loguniform(\"reg_lambda\", 1e-8, 100.0)\n",
            "C:\\Users\\nshre\\AppData\\Local\\Temp\\ipykernel_12852\\719259616.py:6: FutureWarning: suggest_loguniform has been deprecated in v3.0.0. This feature will be removed in v6.0.0. See https://github.com/optuna/optuna/releases/tag/v3.0.0. Use :func:`~optuna.trial.Trial.suggest_float` instead.\n",
            "  reg_alpha = trial.suggest_loguniform(\"reg_alpha\", 1e-8, 100.0)\n",
            "\u001b[32m[I 2023-04-28 21:01:05,343]\u001b[0m Trial 12 finished with value: 4.667377574193389 and parameters: {'learning_rate': 0.04733416631341617, 'reg_lambda': 9.448236366700265e-06, 'reg_alpha': 0.0001951386840519026, 'subsample': 0.7233303225789511, 'colsample_bytree': 0.42905839112183586, 'max_depth': 5, 'n_estimators': 915}. Best is trial 1 with value: 4.37555884175738.\u001b[0m\n"
          ]
        },
        {
          "name": "stdout",
          "output_type": "stream",
          "text": [
            "Mean Absolute Error :  4.667377574193389\n",
            "R2_score :  0.7467026265693292\n"
          ]
        },
        {
          "name": "stderr",
          "output_type": "stream",
          "text": [
            "C:\\Users\\nshre\\AppData\\Local\\Temp\\ipykernel_12852\\719259616.py:5: FutureWarning: suggest_loguniform has been deprecated in v3.0.0. This feature will be removed in v6.0.0. See https://github.com/optuna/optuna/releases/tag/v3.0.0. Use :func:`~optuna.trial.Trial.suggest_float` instead.\n",
            "  reg_lambda = trial.suggest_loguniform(\"reg_lambda\", 1e-8, 100.0)\n",
            "C:\\Users\\nshre\\AppData\\Local\\Temp\\ipykernel_12852\\719259616.py:6: FutureWarning: suggest_loguniform has been deprecated in v3.0.0. This feature will be removed in v6.0.0. See https://github.com/optuna/optuna/releases/tag/v3.0.0. Use :func:`~optuna.trial.Trial.suggest_float` instead.\n",
            "  reg_alpha = trial.suggest_loguniform(\"reg_alpha\", 1e-8, 100.0)\n",
            "\u001b[32m[I 2023-04-28 21:05:26,624]\u001b[0m Trial 13 finished with value: 5.8964317790871545 and parameters: {'learning_rate': 0.0643927278916192, 'reg_lambda': 0.0013307672342664915, 'reg_alpha': 0.020823809558739532, 'subsample': 0.8356682139085756, 'colsample_bytree': 0.8214128717417577, 'max_depth': 4, 'n_estimators': 2215}. Best is trial 1 with value: 4.37555884175738.\u001b[0m\n"
          ]
        },
        {
          "name": "stdout",
          "output_type": "stream",
          "text": [
            "Mean Absolute Error :  5.8964317790871545\n",
            "R2_score :  0.6161606793703946\n"
          ]
        },
        {
          "name": "stderr",
          "output_type": "stream",
          "text": [
            "C:\\Users\\nshre\\AppData\\Local\\Temp\\ipykernel_12852\\719259616.py:5: FutureWarning: suggest_loguniform has been deprecated in v3.0.0. This feature will be removed in v6.0.0. See https://github.com/optuna/optuna/releases/tag/v3.0.0. Use :func:`~optuna.trial.Trial.suggest_float` instead.\n",
            "  reg_lambda = trial.suggest_loguniform(\"reg_lambda\", 1e-8, 100.0)\n",
            "C:\\Users\\nshre\\AppData\\Local\\Temp\\ipykernel_12852\\719259616.py:6: FutureWarning: suggest_loguniform has been deprecated in v3.0.0. This feature will be removed in v6.0.0. See https://github.com/optuna/optuna/releases/tag/v3.0.0. Use :func:`~optuna.trial.Trial.suggest_float` instead.\n",
            "  reg_alpha = trial.suggest_loguniform(\"reg_alpha\", 1e-8, 100.0)\n",
            "\u001b[32m[I 2023-04-28 21:07:28,670]\u001b[0m Trial 14 finished with value: 4.822415342725868 and parameters: {'learning_rate': 0.04094568027395599, 'reg_lambda': 0.062232081534995216, 'reg_alpha': 2.1835796233173826e-05, 'subsample': 0.7548016187822557, 'colsample_bytree': 0.9876338614755396, 'max_depth': 5, 'n_estimators': 663}. Best is trial 1 with value: 4.37555884175738.\u001b[0m\n"
          ]
        },
        {
          "name": "stdout",
          "output_type": "stream",
          "text": [
            "Mean Absolute Error :  4.822415342725868\n",
            "R2_score :  0.6522874519661634\n"
          ]
        },
        {
          "name": "stderr",
          "output_type": "stream",
          "text": [
            "C:\\Users\\nshre\\AppData\\Local\\Temp\\ipykernel_12852\\719259616.py:5: FutureWarning: suggest_loguniform has been deprecated in v3.0.0. This feature will be removed in v6.0.0. See https://github.com/optuna/optuna/releases/tag/v3.0.0. Use :func:`~optuna.trial.Trial.suggest_float` instead.\n",
            "  reg_lambda = trial.suggest_loguniform(\"reg_lambda\", 1e-8, 100.0)\n",
            "C:\\Users\\nshre\\AppData\\Local\\Temp\\ipykernel_12852\\719259616.py:6: FutureWarning: suggest_loguniform has been deprecated in v3.0.0. This feature will be removed in v6.0.0. See https://github.com/optuna/optuna/releases/tag/v3.0.0. Use :func:`~optuna.trial.Trial.suggest_float` instead.\n",
            "  reg_alpha = trial.suggest_loguniform(\"reg_alpha\", 1e-8, 100.0)\n",
            "\u001b[32m[I 2023-04-28 21:10:52,191]\u001b[0m Trial 15 finished with value: 4.931632162857391 and parameters: {'learning_rate': 0.0776307037492587, 'reg_lambda': 4.849245682816249e-06, 'reg_alpha': 0.20238574029532697, 'subsample': 0.8807157111762105, 'colsample_bytree': 0.4394858138331028, 'max_depth': 4, 'n_estimators': 2124}. Best is trial 1 with value: 4.37555884175738.\u001b[0m\n"
          ]
        },
        {
          "name": "stdout",
          "output_type": "stream",
          "text": [
            "Mean Absolute Error :  4.931632162857391\n",
            "R2_score :  0.7190859172954589\n"
          ]
        },
        {
          "name": "stderr",
          "output_type": "stream",
          "text": [
            "C:\\Users\\nshre\\AppData\\Local\\Temp\\ipykernel_12852\\719259616.py:5: FutureWarning: suggest_loguniform has been deprecated in v3.0.0. This feature will be removed in v6.0.0. See https://github.com/optuna/optuna/releases/tag/v3.0.0. Use :func:`~optuna.trial.Trial.suggest_float` instead.\n",
            "  reg_lambda = trial.suggest_loguniform(\"reg_lambda\", 1e-8, 100.0)\n",
            "C:\\Users\\nshre\\AppData\\Local\\Temp\\ipykernel_12852\\719259616.py:6: FutureWarning: suggest_loguniform has been deprecated in v3.0.0. This feature will be removed in v6.0.0. See https://github.com/optuna/optuna/releases/tag/v3.0.0. Use :func:`~optuna.trial.Trial.suggest_float` instead.\n",
            "  reg_alpha = trial.suggest_loguniform(\"reg_alpha\", 1e-8, 100.0)\n",
            "\u001b[32m[I 2023-04-28 21:13:29,048]\u001b[0m Trial 16 finished with value: 5.063364859133622 and parameters: {'learning_rate': 0.09819158855403236, 'reg_lambda': 0.00034341496474826554, 'reg_alpha': 8.685371232187952e-05, 'subsample': 0.6763872875166711, 'colsample_bytree': 0.4762805141338949, 'max_depth': 6, 'n_estimators': 1180}. Best is trial 1 with value: 4.37555884175738.\u001b[0m\n"
          ]
        },
        {
          "name": "stdout",
          "output_type": "stream",
          "text": [
            "Mean Absolute Error :  5.063364859133622\n",
            "R2_score :  0.7137483657870682\n"
          ]
        },
        {
          "name": "stderr",
          "output_type": "stream",
          "text": [
            "C:\\Users\\nshre\\AppData\\Local\\Temp\\ipykernel_12852\\719259616.py:5: FutureWarning: suggest_loguniform has been deprecated in v3.0.0. This feature will be removed in v6.0.0. See https://github.com/optuna/optuna/releases/tag/v3.0.0. Use :func:`~optuna.trial.Trial.suggest_float` instead.\n",
            "  reg_lambda = trial.suggest_loguniform(\"reg_lambda\", 1e-8, 100.0)\n",
            "C:\\Users\\nshre\\AppData\\Local\\Temp\\ipykernel_12852\\719259616.py:6: FutureWarning: suggest_loguniform has been deprecated in v3.0.0. This feature will be removed in v6.0.0. See https://github.com/optuna/optuna/releases/tag/v3.0.0. Use :func:`~optuna.trial.Trial.suggest_float` instead.\n",
            "  reg_alpha = trial.suggest_loguniform(\"reg_alpha\", 1e-8, 100.0)\n",
            "\u001b[32m[I 2023-04-28 21:14:00,344]\u001b[0m Trial 17 finished with value: 5.830158951581806 and parameters: {'learning_rate': 0.016688006508771308, 'reg_lambda': 6.846872680092222e-07, 'reg_alpha': 7.811267017168039e-06, 'subsample': 0.9073801101619346, 'colsample_bytree': 0.2137514578792299, 'max_depth': 4, 'n_estimators': 591}. Best is trial 1 with value: 4.37555884175738.\u001b[0m\n"
          ]
        },
        {
          "name": "stdout",
          "output_type": "stream",
          "text": [
            "Mean Absolute Error :  5.830158951581806\n",
            "R2_score :  0.7534792072791402\n"
          ]
        },
        {
          "name": "stderr",
          "output_type": "stream",
          "text": [
            "C:\\Users\\nshre\\AppData\\Local\\Temp\\ipykernel_12852\\719259616.py:5: FutureWarning: suggest_loguniform has been deprecated in v3.0.0. This feature will be removed in v6.0.0. See https://github.com/optuna/optuna/releases/tag/v3.0.0. Use :func:`~optuna.trial.Trial.suggest_float` instead.\n",
            "  reg_lambda = trial.suggest_loguniform(\"reg_lambda\", 1e-8, 100.0)\n",
            "C:\\Users\\nshre\\AppData\\Local\\Temp\\ipykernel_12852\\719259616.py:6: FutureWarning: suggest_loguniform has been deprecated in v3.0.0. This feature will be removed in v6.0.0. See https://github.com/optuna/optuna/releases/tag/v3.0.0. Use :func:`~optuna.trial.Trial.suggest_float` instead.\n",
            "  reg_alpha = trial.suggest_loguniform(\"reg_alpha\", 1e-8, 100.0)\n",
            "\u001b[32m[I 2023-04-28 21:17:11,041]\u001b[0m Trial 18 finished with value: 4.697925384982993 and parameters: {'learning_rate': 0.041172998421319336, 'reg_lambda': 0.2246398383128713, 'reg_alpha': 6.782115019621906e-07, 'subsample': 0.3642868226790396, 'colsample_bytree': 0.3700396266689391, 'max_depth': 5, 'n_estimators': 1931}. Best is trial 1 with value: 4.37555884175738.\u001b[0m\n"
          ]
        },
        {
          "name": "stdout",
          "output_type": "stream",
          "text": [
            "Mean Absolute Error :  4.697925384982993\n",
            "R2_score :  0.7522455232994153\n"
          ]
        },
        {
          "name": "stderr",
          "output_type": "stream",
          "text": [
            "C:\\Users\\nshre\\AppData\\Local\\Temp\\ipykernel_12852\\719259616.py:5: FutureWarning: suggest_loguniform has been deprecated in v3.0.0. This feature will be removed in v6.0.0. See https://github.com/optuna/optuna/releases/tag/v3.0.0. Use :func:`~optuna.trial.Trial.suggest_float` instead.\n",
            "  reg_lambda = trial.suggest_loguniform(\"reg_lambda\", 1e-8, 100.0)\n",
            "C:\\Users\\nshre\\AppData\\Local\\Temp\\ipykernel_12852\\719259616.py:6: FutureWarning: suggest_loguniform has been deprecated in v3.0.0. This feature will be removed in v6.0.0. See https://github.com/optuna/optuna/releases/tag/v3.0.0. Use :func:`~optuna.trial.Trial.suggest_float` instead.\n",
            "  reg_alpha = trial.suggest_loguniform(\"reg_alpha\", 1e-8, 100.0)\n",
            "\u001b[32m[I 2023-04-29 15:18:29,975]\u001b[0m Trial 19 finished with value: 4.98551796727635 and parameters: {'learning_rate': 0.0559156637451384, 'reg_lambda': 4.134558762817977e-05, 'reg_alpha': 3.626373817173261e-05, 'subsample': 0.6563325330397529, 'colsample_bytree': 0.6707737713717916, 'max_depth': 6, 'n_estimators': 2539}. Best is trial 1 with value: 4.37555884175738.\u001b[0m\n"
          ]
        },
        {
          "name": "stdout",
          "output_type": "stream",
          "text": [
            "Mean Absolute Error :  4.98551796727635\n",
            "R2_score :  0.6724445628913924\n"
          ]
        },
        {
          "name": "stderr",
          "output_type": "stream",
          "text": [
            "C:\\Users\\nshre\\AppData\\Local\\Temp\\ipykernel_12852\\719259616.py:5: FutureWarning: suggest_loguniform has been deprecated in v3.0.0. This feature will be removed in v6.0.0. See https://github.com/optuna/optuna/releases/tag/v3.0.0. Use :func:`~optuna.trial.Trial.suggest_float` instead.\n",
            "  reg_lambda = trial.suggest_loguniform(\"reg_lambda\", 1e-8, 100.0)\n",
            "C:\\Users\\nshre\\AppData\\Local\\Temp\\ipykernel_12852\\719259616.py:6: FutureWarning: suggest_loguniform has been deprecated in v3.0.0. This feature will be removed in v6.0.0. See https://github.com/optuna/optuna/releases/tag/v3.0.0. Use :func:`~optuna.trial.Trial.suggest_float` instead.\n",
            "  reg_alpha = trial.suggest_loguniform(\"reg_alpha\", 1e-8, 100.0)\n",
            "\u001b[32m[I 2023-04-29 15:20:59,067]\u001b[0m Trial 20 finished with value: 5.625785244983675 and parameters: {'learning_rate': 0.0021799216433986378, 'reg_lambda': 0.0006548952573343785, 'reg_alpha': 1.1659993940803949e-08, 'subsample': 0.8183645303365207, 'colsample_bytree': 0.48306887793246134, 'max_depth': 3, 'n_estimators': 1302}. Best is trial 1 with value: 4.37555884175738.\u001b[0m\n"
          ]
        },
        {
          "name": "stdout",
          "output_type": "stream",
          "text": [
            "Mean Absolute Error :  5.625785244983675\n",
            "R2_score :  0.7277754723430012\n"
          ]
        },
        {
          "name": "stderr",
          "output_type": "stream",
          "text": [
            "C:\\Users\\nshre\\AppData\\Local\\Temp\\ipykernel_12852\\719259616.py:5: FutureWarning: suggest_loguniform has been deprecated in v3.0.0. This feature will be removed in v6.0.0. See https://github.com/optuna/optuna/releases/tag/v3.0.0. Use :func:`~optuna.trial.Trial.suggest_float` instead.\n",
            "  reg_lambda = trial.suggest_loguniform(\"reg_lambda\", 1e-8, 100.0)\n",
            "C:\\Users\\nshre\\AppData\\Local\\Temp\\ipykernel_12852\\719259616.py:6: FutureWarning: suggest_loguniform has been deprecated in v3.0.0. This feature will be removed in v6.0.0. See https://github.com/optuna/optuna/releases/tag/v3.0.0. Use :func:`~optuna.trial.Trial.suggest_float` instead.\n",
            "  reg_alpha = trial.suggest_loguniform(\"reg_alpha\", 1e-8, 100.0)\n",
            "\u001b[32m[I 2023-04-29 15:23:44,208]\u001b[0m Trial 21 finished with value: 4.414182957581479 and parameters: {'learning_rate': 0.029723386540009406, 'reg_lambda': 4.5635006789963095e-05, 'reg_alpha': 57.324263689718975, 'subsample': 0.6521685229298144, 'colsample_bytree': 0.5415459716195707, 'max_depth': 5, 'n_estimators': 1530}. Best is trial 1 with value: 4.37555884175738.\u001b[0m\n"
          ]
        },
        {
          "name": "stdout",
          "output_type": "stream",
          "text": [
            "Mean Absolute Error :  4.414182957581479\n",
            "R2_score :  0.7295748556805105\n"
          ]
        },
        {
          "name": "stderr",
          "output_type": "stream",
          "text": [
            "C:\\Users\\nshre\\AppData\\Local\\Temp\\ipykernel_12852\\719259616.py:5: FutureWarning: suggest_loguniform has been deprecated in v3.0.0. This feature will be removed in v6.0.0. See https://github.com/optuna/optuna/releases/tag/v3.0.0. Use :func:`~optuna.trial.Trial.suggest_float` instead.\n",
            "  reg_lambda = trial.suggest_loguniform(\"reg_lambda\", 1e-8, 100.0)\n",
            "C:\\Users\\nshre\\AppData\\Local\\Temp\\ipykernel_12852\\719259616.py:6: FutureWarning: suggest_loguniform has been deprecated in v3.0.0. This feature will be removed in v6.0.0. See https://github.com/optuna/optuna/releases/tag/v3.0.0. Use :func:`~optuna.trial.Trial.suggest_float` instead.\n",
            "  reg_alpha = trial.suggest_loguniform(\"reg_alpha\", 1e-8, 100.0)\n",
            "\u001b[32m[I 2023-04-29 15:24:34,616]\u001b[0m Trial 22 finished with value: 4.16206846602308 and parameters: {'learning_rate': 0.030899569144436076, 'reg_lambda': 5.602972645831192e-05, 'reg_alpha': 36.071524272788935, 'subsample': 0.6530854963857263, 'colsample_bytree': 0.4995139480338302, 'max_depth': 5, 'n_estimators': 585}. Best is trial 22 with value: 4.16206846602308.\u001b[0m\n"
          ]
        },
        {
          "name": "stdout",
          "output_type": "stream",
          "text": [
            "Mean Absolute Error :  4.16206846602308\n",
            "R2_score :  0.7524943906343082\n"
          ]
        },
        {
          "name": "stderr",
          "output_type": "stream",
          "text": [
            "C:\\Users\\nshre\\AppData\\Local\\Temp\\ipykernel_12852\\719259616.py:5: FutureWarning: suggest_loguniform has been deprecated in v3.0.0. This feature will be removed in v6.0.0. See https://github.com/optuna/optuna/releases/tag/v3.0.0. Use :func:`~optuna.trial.Trial.suggest_float` instead.\n",
            "  reg_lambda = trial.suggest_loguniform(\"reg_lambda\", 1e-8, 100.0)\n",
            "C:\\Users\\nshre\\AppData\\Local\\Temp\\ipykernel_12852\\719259616.py:6: FutureWarning: suggest_loguniform has been deprecated in v3.0.0. This feature will be removed in v6.0.0. See https://github.com/optuna/optuna/releases/tag/v3.0.0. Use :func:`~optuna.trial.Trial.suggest_float` instead.\n",
            "  reg_alpha = trial.suggest_loguniform(\"reg_alpha\", 1e-8, 100.0)\n",
            "\u001b[32m[I 2023-04-29 15:25:03,607]\u001b[0m Trial 23 finished with value: 4.38973422855411 and parameters: {'learning_rate': 0.017163007580703913, 'reg_lambda': 0.0016049584622673757, 'reg_alpha': 5.598771983444693, 'subsample': 0.7553138125327648, 'colsample_bytree': 0.34749782748917635, 'max_depth': 5, 'n_estimators': 393}. Best is trial 22 with value: 4.16206846602308.\u001b[0m\n"
          ]
        },
        {
          "name": "stdout",
          "output_type": "stream",
          "text": [
            "Mean Absolute Error :  4.38973422855411\n",
            "R2_score :  0.7669688466688336\n"
          ]
        },
        {
          "name": "stderr",
          "output_type": "stream",
          "text": [
            "C:\\Users\\nshre\\AppData\\Local\\Temp\\ipykernel_12852\\719259616.py:5: FutureWarning: suggest_loguniform has been deprecated in v3.0.0. This feature will be removed in v6.0.0. See https://github.com/optuna/optuna/releases/tag/v3.0.0. Use :func:`~optuna.trial.Trial.suggest_float` instead.\n",
            "  reg_lambda = trial.suggest_loguniform(\"reg_lambda\", 1e-8, 100.0)\n",
            "C:\\Users\\nshre\\AppData\\Local\\Temp\\ipykernel_12852\\719259616.py:6: FutureWarning: suggest_loguniform has been deprecated in v3.0.0. This feature will be removed in v6.0.0. See https://github.com/optuna/optuna/releases/tag/v3.0.0. Use :func:`~optuna.trial.Trial.suggest_float` instead.\n",
            "  reg_alpha = trial.suggest_loguniform(\"reg_alpha\", 1e-8, 100.0)\n",
            "\u001b[32m[I 2023-04-29 15:25:26,466]\u001b[0m Trial 24 finished with value: 4.452039583893925 and parameters: {'learning_rate': 0.03509657806928665, 'reg_lambda': 0.0009257683647484289, 'reg_alpha': 3.5202753065987493, 'subsample': 0.7393864112984442, 'colsample_bytree': 0.33617502750522643, 'max_depth': 4, 'n_estimators': 355}. Best is trial 22 with value: 4.16206846602308.\u001b[0m\n"
          ]
        },
        {
          "name": "stdout",
          "output_type": "stream",
          "text": [
            "Mean Absolute Error :  4.452039583893925\n",
            "R2_score :  0.7589972403517342\n"
          ]
        },
        {
          "name": "stderr",
          "output_type": "stream",
          "text": [
            "C:\\Users\\nshre\\AppData\\Local\\Temp\\ipykernel_12852\\719259616.py:5: FutureWarning: suggest_loguniform has been deprecated in v3.0.0. This feature will be removed in v6.0.0. See https://github.com/optuna/optuna/releases/tag/v3.0.0. Use :func:`~optuna.trial.Trial.suggest_float` instead.\n",
            "  reg_lambda = trial.suggest_loguniform(\"reg_lambda\", 1e-8, 100.0)\n",
            "C:\\Users\\nshre\\AppData\\Local\\Temp\\ipykernel_12852\\719259616.py:6: FutureWarning: suggest_loguniform has been deprecated in v3.0.0. This feature will be removed in v6.0.0. See https://github.com/optuna/optuna/releases/tag/v3.0.0. Use :func:`~optuna.trial.Trial.suggest_float` instead.\n",
            "  reg_alpha = trial.suggest_loguniform(\"reg_alpha\", 1e-8, 100.0)\n",
            "\u001b[32m[I 2023-04-29 15:25:29,287]\u001b[0m Trial 25 finished with value: 11.022509490011672 and parameters: {'learning_rate': 0.010970652304149533, 'reg_lambda': 0.0051398126041990455, 'reg_alpha': 3.526588185877139, 'subsample': 0.6270438848786655, 'colsample_bytree': 0.23955194360159904, 'max_depth': 5, 'n_estimators': 35}. Best is trial 22 with value: 4.16206846602308.\u001b[0m\n"
          ]
        },
        {
          "name": "stdout",
          "output_type": "stream",
          "text": [
            "Mean Absolute Error :  11.022509490011672\n",
            "R2_score :  0.12806585527071734\n"
          ]
        },
        {
          "name": "stderr",
          "output_type": "stream",
          "text": [
            "C:\\Users\\nshre\\AppData\\Local\\Temp\\ipykernel_12852\\719259616.py:5: FutureWarning: suggest_loguniform has been deprecated in v3.0.0. This feature will be removed in v6.0.0. See https://github.com/optuna/optuna/releases/tag/v3.0.0. Use :func:`~optuna.trial.Trial.suggest_float` instead.\n",
            "  reg_lambda = trial.suggest_loguniform(\"reg_lambda\", 1e-8, 100.0)\n",
            "C:\\Users\\nshre\\AppData\\Local\\Temp\\ipykernel_12852\\719259616.py:6: FutureWarning: suggest_loguniform has been deprecated in v3.0.0. This feature will be removed in v6.0.0. See https://github.com/optuna/optuna/releases/tag/v3.0.0. Use :func:`~optuna.trial.Trial.suggest_float` instead.\n",
            "  reg_alpha = trial.suggest_loguniform(\"reg_alpha\", 1e-8, 100.0)\n",
            "\u001b[32m[I 2023-04-29 15:26:34,999]\u001b[0m Trial 26 finished with value: 4.370567402891388 and parameters: {'learning_rate': 0.02699229892641566, 'reg_lambda': 0.00016100356387594708, 'reg_alpha': 11.879967461336992, 'subsample': 0.7158436554054788, 'colsample_bytree': 0.3801427786438073, 'max_depth': 6, 'n_estimators': 668}. Best is trial 22 with value: 4.16206846602308.\u001b[0m\n"
          ]
        },
        {
          "name": "stdout",
          "output_type": "stream",
          "text": [
            "Mean Absolute Error :  4.370567402891388\n",
            "R2_score :  0.7590264123876233\n"
          ]
        },
        {
          "name": "stderr",
          "output_type": "stream",
          "text": [
            "C:\\Users\\nshre\\AppData\\Local\\Temp\\ipykernel_12852\\719259616.py:5: FutureWarning: suggest_loguniform has been deprecated in v3.0.0. This feature will be removed in v6.0.0. See https://github.com/optuna/optuna/releases/tag/v3.0.0. Use :func:`~optuna.trial.Trial.suggest_float` instead.\n",
            "  reg_lambda = trial.suggest_loguniform(\"reg_lambda\", 1e-8, 100.0)\n",
            "C:\\Users\\nshre\\AppData\\Local\\Temp\\ipykernel_12852\\719259616.py:6: FutureWarning: suggest_loguniform has been deprecated in v3.0.0. This feature will be removed in v6.0.0. See https://github.com/optuna/optuna/releases/tag/v3.0.0. Use :func:`~optuna.trial.Trial.suggest_float` instead.\n",
            "  reg_alpha = trial.suggest_loguniform(\"reg_alpha\", 1e-8, 100.0)\n",
            "\u001b[32m[I 2023-04-29 15:28:01,032]\u001b[0m Trial 27 finished with value: 4.386246209050042 and parameters: {'learning_rate': 0.026550288093056526, 'reg_lambda': 0.00021019593476522382, 'reg_alpha': 30.75457392537315, 'subsample': 0.6964318965838936, 'colsample_bytree': 0.39584776073201683, 'max_depth': 6, 'n_estimators': 797}. Best is trial 22 with value: 4.16206846602308.\u001b[0m\n"
          ]
        },
        {
          "name": "stdout",
          "output_type": "stream",
          "text": [
            "Mean Absolute Error :  4.386246209050042\n",
            "R2_score :  0.7593866114558462\n"
          ]
        },
        {
          "name": "stderr",
          "output_type": "stream",
          "text": [
            "C:\\Users\\nshre\\AppData\\Local\\Temp\\ipykernel_12852\\719259616.py:5: FutureWarning: suggest_loguniform has been deprecated in v3.0.0. This feature will be removed in v6.0.0. See https://github.com/optuna/optuna/releases/tag/v3.0.0. Use :func:`~optuna.trial.Trial.suggest_float` instead.\n",
            "  reg_lambda = trial.suggest_loguniform(\"reg_lambda\", 1e-8, 100.0)\n",
            "C:\\Users\\nshre\\AppData\\Local\\Temp\\ipykernel_12852\\719259616.py:6: FutureWarning: suggest_loguniform has been deprecated in v3.0.0. This feature will be removed in v6.0.0. See https://github.com/optuna/optuna/releases/tag/v3.0.0. Use :func:`~optuna.trial.Trial.suggest_float` instead.\n",
            "  reg_alpha = trial.suggest_loguniform(\"reg_alpha\", 1e-8, 100.0)\n",
            "\u001b[32m[I 2023-04-29 15:29:12,606]\u001b[0m Trial 28 finished with value: 4.409622182285922 and parameters: {'learning_rate': 0.03913916647192389, 'reg_lambda': 6.844263241858075e-06, 'reg_alpha': 0.2564504982036819, 'subsample': 0.6161134313129298, 'colsample_bytree': 0.4999867077318635, 'max_depth': 6, 'n_estimators': 485}. Best is trial 22 with value: 4.16206846602308.\u001b[0m\n"
          ]
        },
        {
          "name": "stdout",
          "output_type": "stream",
          "text": [
            "Mean Absolute Error :  4.409622182285922\n",
            "R2_score :  0.7398960823438403\n"
          ]
        },
        {
          "name": "stderr",
          "output_type": "stream",
          "text": [
            "C:\\Users\\nshre\\AppData\\Local\\Temp\\ipykernel_12852\\719259616.py:5: FutureWarning: suggest_loguniform has been deprecated in v3.0.0. This feature will be removed in v6.0.0. See https://github.com/optuna/optuna/releases/tag/v3.0.0. Use :func:`~optuna.trial.Trial.suggest_float` instead.\n",
            "  reg_lambda = trial.suggest_loguniform(\"reg_lambda\", 1e-8, 100.0)\n",
            "C:\\Users\\nshre\\AppData\\Local\\Temp\\ipykernel_12852\\719259616.py:6: FutureWarning: suggest_loguniform has been deprecated in v3.0.0. This feature will be removed in v6.0.0. See https://github.com/optuna/optuna/releases/tag/v3.0.0. Use :func:`~optuna.trial.Trial.suggest_float` instead.\n",
            "  reg_alpha = trial.suggest_loguniform(\"reg_alpha\", 1e-8, 100.0)\n",
            "\u001b[32m[I 2023-04-29 15:29:44,094]\u001b[0m Trial 29 finished with value: 5.452584033303764 and parameters: {'learning_rate': 0.047418805026620575, 'reg_lambda': 0.06741119800221529, 'reg_alpha': 15.307158610539174, 'subsample': 0.48505318634446026, 'colsample_bytree': 0.28656194863005585, 'max_depth': 6, 'n_estimators': 244}. Best is trial 22 with value: 4.16206846602308.\u001b[0m\n"
          ]
        },
        {
          "name": "stdout",
          "output_type": "stream",
          "text": [
            "Mean Absolute Error :  5.452584033303764\n",
            "R2_score :  0.758917240880584\n"
          ]
        },
        {
          "name": "stderr",
          "output_type": "stream",
          "text": [
            "C:\\Users\\nshre\\AppData\\Local\\Temp\\ipykernel_12852\\719259616.py:5: FutureWarning: suggest_loguniform has been deprecated in v3.0.0. This feature will be removed in v6.0.0. See https://github.com/optuna/optuna/releases/tag/v3.0.0. Use :func:`~optuna.trial.Trial.suggest_float` instead.\n",
            "  reg_lambda = trial.suggest_loguniform(\"reg_lambda\", 1e-8, 100.0)\n",
            "C:\\Users\\nshre\\AppData\\Local\\Temp\\ipykernel_12852\\719259616.py:6: FutureWarning: suggest_loguniform has been deprecated in v3.0.0. This feature will be removed in v6.0.0. See https://github.com/optuna/optuna/releases/tag/v3.0.0. Use :func:`~optuna.trial.Trial.suggest_float` instead.\n",
            "  reg_alpha = trial.suggest_loguniform(\"reg_alpha\", 1e-8, 100.0)\n",
            "\u001b[32m[I 2023-04-29 15:30:49,041]\u001b[0m Trial 30 finished with value: 4.66906052827371 and parameters: {'learning_rate': 0.03302518646850048, 'reg_lambda': 0.00023026454461969335, 'reg_alpha': 1.412580595281687, 'subsample': 0.44361583014676687, 'colsample_bytree': 0.41351119007989745, 'max_depth': 3, 'n_estimators': 935}. Best is trial 22 with value: 4.16206846602308.\u001b[0m\n"
          ]
        },
        {
          "name": "stdout",
          "output_type": "stream",
          "text": [
            "Mean Absolute Error :  4.66906052827371\n",
            "R2_score :  0.752124758861517\n"
          ]
        },
        {
          "name": "stderr",
          "output_type": "stream",
          "text": [
            "C:\\Users\\nshre\\AppData\\Local\\Temp\\ipykernel_12852\\719259616.py:5: FutureWarning: suggest_loguniform has been deprecated in v3.0.0. This feature will be removed in v6.0.0. See https://github.com/optuna/optuna/releases/tag/v3.0.0. Use :func:`~optuna.trial.Trial.suggest_float` instead.\n",
            "  reg_lambda = trial.suggest_loguniform(\"reg_lambda\", 1e-8, 100.0)\n",
            "C:\\Users\\nshre\\AppData\\Local\\Temp\\ipykernel_12852\\719259616.py:6: FutureWarning: suggest_loguniform has been deprecated in v3.0.0. This feature will be removed in v6.0.0. See https://github.com/optuna/optuna/releases/tag/v3.0.0. Use :func:`~optuna.trial.Trial.suggest_float` instead.\n",
            "  reg_alpha = trial.suggest_loguniform(\"reg_alpha\", 1e-8, 100.0)\n",
            "\u001b[32m[I 2023-04-29 15:32:09,933]\u001b[0m Trial 31 finished with value: 4.555563514582846 and parameters: {'learning_rate': 0.027658043703990165, 'reg_lambda': 0.00010758856671957315, 'reg_alpha': 22.275398701418908, 'subsample': 0.6946228704740551, 'colsample_bytree': 0.3940359931873895, 'max_depth': 6, 'n_estimators': 722}. Best is trial 22 with value: 4.16206846602308.\u001b[0m\n"
          ]
        },
        {
          "name": "stdout",
          "output_type": "stream",
          "text": [
            "Mean Absolute Error :  4.555563514582846\n",
            "R2_score :  0.754623380046116\n"
          ]
        },
        {
          "name": "stderr",
          "output_type": "stream",
          "text": [
            "C:\\Users\\nshre\\AppData\\Local\\Temp\\ipykernel_12852\\719259616.py:5: FutureWarning: suggest_loguniform has been deprecated in v3.0.0. This feature will be removed in v6.0.0. See https://github.com/optuna/optuna/releases/tag/v3.0.0. Use :func:`~optuna.trial.Trial.suggest_float` instead.\n",
            "  reg_lambda = trial.suggest_loguniform(\"reg_lambda\", 1e-8, 100.0)\n",
            "C:\\Users\\nshre\\AppData\\Local\\Temp\\ipykernel_12852\\719259616.py:6: FutureWarning: suggest_loguniform has been deprecated in v3.0.0. This feature will be removed in v6.0.0. See https://github.com/optuna/optuna/releases/tag/v3.0.0. Use :func:`~optuna.trial.Trial.suggest_float` instead.\n",
            "  reg_alpha = trial.suggest_loguniform(\"reg_alpha\", 1e-8, 100.0)\n",
            "\u001b[32m[I 2023-04-29 15:33:31,777]\u001b[0m Trial 32 finished with value: 4.34299317114551 and parameters: {'learning_rate': 0.026797594821316894, 'reg_lambda': 0.0002564060457360141, 'reg_alpha': 76.6949820877262, 'subsample': 0.6145906762669788, 'colsample_bytree': 0.47278256406827796, 'max_depth': 6, 'n_estimators': 837}. Best is trial 22 with value: 4.16206846602308.\u001b[0m\n"
          ]
        },
        {
          "name": "stdout",
          "output_type": "stream",
          "text": [
            "Mean Absolute Error :  4.34299317114551\n",
            "R2_score :  0.750086223066412\n"
          ]
        },
        {
          "name": "stderr",
          "output_type": "stream",
          "text": [
            "C:\\Users\\nshre\\AppData\\Local\\Temp\\ipykernel_12852\\719259616.py:5: FutureWarning: suggest_loguniform has been deprecated in v3.0.0. This feature will be removed in v6.0.0. See https://github.com/optuna/optuna/releases/tag/v3.0.0. Use :func:`~optuna.trial.Trial.suggest_float` instead.\n",
            "  reg_lambda = trial.suggest_loguniform(\"reg_lambda\", 1e-8, 100.0)\n",
            "C:\\Users\\nshre\\AppData\\Local\\Temp\\ipykernel_12852\\719259616.py:6: FutureWarning: suggest_loguniform has been deprecated in v3.0.0. This feature will be removed in v6.0.0. See https://github.com/optuna/optuna/releases/tag/v3.0.0. Use :func:`~optuna.trial.Trial.suggest_float` instead.\n",
            "  reg_alpha = trial.suggest_loguniform(\"reg_alpha\", 1e-8, 100.0)\n",
            "\u001b[32m[I 2023-04-29 15:33:51,294]\u001b[0m Trial 33 finished with value: 4.4858745930537225 and parameters: {'learning_rate': 0.0227581571982003, 'reg_lambda': 0.0018599694533991693, 'reg_alpha': 89.06895052512989, 'subsample': 0.6133987814833736, 'colsample_bytree': 0.4886165366130381, 'max_depth': 6, 'n_estimators': 202}. Best is trial 22 with value: 4.16206846602308.\u001b[0m\n"
          ]
        },
        {
          "name": "stdout",
          "output_type": "stream",
          "text": [
            "Mean Absolute Error :  4.4858745930537225\n",
            "R2_score :  0.7551726813447495\n"
          ]
        },
        {
          "name": "stderr",
          "output_type": "stream",
          "text": [
            "C:\\Users\\nshre\\AppData\\Local\\Temp\\ipykernel_12852\\719259616.py:5: FutureWarning: suggest_loguniform has been deprecated in v3.0.0. This feature will be removed in v6.0.0. See https://github.com/optuna/optuna/releases/tag/v3.0.0. Use :func:`~optuna.trial.Trial.suggest_float` instead.\n",
            "  reg_lambda = trial.suggest_loguniform(\"reg_lambda\", 1e-8, 100.0)\n",
            "C:\\Users\\nshre\\AppData\\Local\\Temp\\ipykernel_12852\\719259616.py:6: FutureWarning: suggest_loguniform has been deprecated in v3.0.0. This feature will be removed in v6.0.0. See https://github.com/optuna/optuna/releases/tag/v3.0.0. Use :func:`~optuna.trial.Trial.suggest_float` instead.\n",
            "  reg_alpha = trial.suggest_loguniform(\"reg_alpha\", 1e-8, 100.0)\n",
            "\u001b[32m[I 2023-04-29 15:35:01,726]\u001b[0m Trial 34 finished with value: 5.299714149304696 and parameters: {'learning_rate': 0.036987963179830476, 'reg_lambda': 0.00046469390861853264, 'reg_alpha': 18.42646399212349, 'subsample': 0.571630535200394, 'colsample_bytree': 0.1661875440456722, 'max_depth': 6, 'n_estimators': 1028}. Best is trial 22 with value: 4.16206846602308.\u001b[0m\n"
          ]
        },
        {
          "name": "stdout",
          "output_type": "stream",
          "text": [
            "Mean Absolute Error :  5.299714149304696\n",
            "R2_score :  0.7599823692970771\n"
          ]
        },
        {
          "name": "stderr",
          "output_type": "stream",
          "text": [
            "C:\\Users\\nshre\\AppData\\Local\\Temp\\ipykernel_12852\\719259616.py:5: FutureWarning: suggest_loguniform has been deprecated in v3.0.0. This feature will be removed in v6.0.0. See https://github.com/optuna/optuna/releases/tag/v3.0.0. Use :func:`~optuna.trial.Trial.suggest_float` instead.\n",
            "  reg_lambda = trial.suggest_loguniform(\"reg_lambda\", 1e-8, 100.0)\n",
            "C:\\Users\\nshre\\AppData\\Local\\Temp\\ipykernel_12852\\719259616.py:6: FutureWarning: suggest_loguniform has been deprecated in v3.0.0. This feature will be removed in v6.0.0. See https://github.com/optuna/optuna/releases/tag/v3.0.0. Use :func:`~optuna.trial.Trial.suggest_float` instead.\n",
            "  reg_alpha = trial.suggest_loguniform(\"reg_alpha\", 1e-8, 100.0)\n",
            "\u001b[32m[I 2023-04-29 15:36:13,044]\u001b[0m Trial 35 finished with value: 4.914944675185423 and parameters: {'learning_rate': 0.030790242788511314, 'reg_lambda': 1.748077456336655e-05, 'reg_alpha': 94.1946482090506, 'subsample': 0.7920290059179739, 'colsample_bytree': 0.32019024682464825, 'max_depth': 3, 'n_estimators': 1362}. Best is trial 22 with value: 4.16206846602308.\u001b[0m\n"
          ]
        },
        {
          "name": "stdout",
          "output_type": "stream",
          "text": [
            "Mean Absolute Error :  4.914944675185423\n",
            "R2_score :  0.7623985806248748\n"
          ]
        },
        {
          "name": "stderr",
          "output_type": "stream",
          "text": [
            "C:\\Users\\nshre\\AppData\\Local\\Temp\\ipykernel_12852\\719259616.py:5: FutureWarning: suggest_loguniform has been deprecated in v3.0.0. This feature will be removed in v6.0.0. See https://github.com/optuna/optuna/releases/tag/v3.0.0. Use :func:`~optuna.trial.Trial.suggest_float` instead.\n",
            "  reg_lambda = trial.suggest_loguniform(\"reg_lambda\", 1e-8, 100.0)\n",
            "C:\\Users\\nshre\\AppData\\Local\\Temp\\ipykernel_12852\\719259616.py:6: FutureWarning: suggest_loguniform has been deprecated in v3.0.0. This feature will be removed in v6.0.0. See https://github.com/optuna/optuna/releases/tag/v3.0.0. Use :func:`~optuna.trial.Trial.suggest_float` instead.\n",
            "  reg_alpha = trial.suggest_loguniform(\"reg_alpha\", 1e-8, 100.0)\n",
            "\u001b[32m[I 2023-04-29 15:37:09,942]\u001b[0m Trial 36 finished with value: 4.80031801964555 and parameters: {'learning_rate': 0.07292816644426295, 'reg_lambda': 8.170996853619417e-05, 'reg_alpha': 6.3863989063216104, 'subsample': 0.6715318454096648, 'colsample_bytree': 0.601366615561174, 'max_depth': 6, 'n_estimators': 529}. Best is trial 22 with value: 4.16206846602308.\u001b[0m\n"
          ]
        },
        {
          "name": "stdout",
          "output_type": "stream",
          "text": [
            "Mean Absolute Error :  4.80031801964555\n",
            "R2_score :  0.6866329071328003\n"
          ]
        },
        {
          "name": "stderr",
          "output_type": "stream",
          "text": [
            "C:\\Users\\nshre\\AppData\\Local\\Temp\\ipykernel_12852\\719259616.py:5: FutureWarning: suggest_loguniform has been deprecated in v3.0.0. This feature will be removed in v6.0.0. See https://github.com/optuna/optuna/releases/tag/v3.0.0. Use :func:`~optuna.trial.Trial.suggest_float` instead.\n",
            "  reg_lambda = trial.suggest_loguniform(\"reg_lambda\", 1e-8, 100.0)\n",
            "C:\\Users\\nshre\\AppData\\Local\\Temp\\ipykernel_12852\\719259616.py:6: FutureWarning: suggest_loguniform has been deprecated in v3.0.0. This feature will be removed in v6.0.0. See https://github.com/optuna/optuna/releases/tag/v3.0.0. Use :func:`~optuna.trial.Trial.suggest_float` instead.\n",
            "  reg_alpha = trial.suggest_loguniform(\"reg_alpha\", 1e-8, 100.0)\n",
            "\u001b[32m[I 2023-04-29 15:38:21,024]\u001b[0m Trial 37 finished with value: 4.996640815685249 and parameters: {'learning_rate': 0.09203017753952292, 'reg_lambda': 1.7136449551526287e-06, 'reg_alpha': 0.9388516345293361, 'subsample': 0.5404965329688156, 'colsample_bytree': 0.5224150983303405, 'max_depth': 5, 'n_estimators': 806}. Best is trial 22 with value: 4.16206846602308.\u001b[0m\n"
          ]
        },
        {
          "name": "stdout",
          "output_type": "stream",
          "text": [
            "Mean Absolute Error :  4.996640815685249\n",
            "R2_score :  0.686964514892371\n"
          ]
        },
        {
          "name": "stderr",
          "output_type": "stream",
          "text": [
            "C:\\Users\\nshre\\AppData\\Local\\Temp\\ipykernel_12852\\719259616.py:5: FutureWarning: suggest_loguniform has been deprecated in v3.0.0. This feature will be removed in v6.0.0. See https://github.com/optuna/optuna/releases/tag/v3.0.0. Use :func:`~optuna.trial.Trial.suggest_float` instead.\n",
            "  reg_lambda = trial.suggest_loguniform(\"reg_lambda\", 1e-8, 100.0)\n",
            "C:\\Users\\nshre\\AppData\\Local\\Temp\\ipykernel_12852\\719259616.py:6: FutureWarning: suggest_loguniform has been deprecated in v3.0.0. This feature will be removed in v6.0.0. See https://github.com/optuna/optuna/releases/tag/v3.0.0. Use :func:`~optuna.trial.Trial.suggest_float` instead.\n",
            "  reg_alpha = trial.suggest_loguniform(\"reg_alpha\", 1e-8, 100.0)\n",
            "\u001b[32m[I 2023-04-29 15:38:46,757]\u001b[0m Trial 38 finished with value: 4.3541906510846005 and parameters: {'learning_rate': 0.0862157449837759, 'reg_lambda': 3.081623986935537e-05, 'reg_alpha': 12.427626587452988, 'subsample': 0.717426360651229, 'colsample_bytree': 0.4522452025645343, 'max_depth': 6, 'n_estimators': 246}. Best is trial 22 with value: 4.16206846602308.\u001b[0m\n"
          ]
        },
        {
          "name": "stdout",
          "output_type": "stream",
          "text": [
            "Mean Absolute Error :  4.3541906510846005\n",
            "R2_score :  0.7445050394158561\n"
          ]
        },
        {
          "name": "stderr",
          "output_type": "stream",
          "text": [
            "C:\\Users\\nshre\\AppData\\Local\\Temp\\ipykernel_12852\\719259616.py:5: FutureWarning: suggest_loguniform has been deprecated in v3.0.0. This feature will be removed in v6.0.0. See https://github.com/optuna/optuna/releases/tag/v3.0.0. Use :func:`~optuna.trial.Trial.suggest_float` instead.\n",
            "  reg_lambda = trial.suggest_loguniform(\"reg_lambda\", 1e-8, 100.0)\n",
            "C:\\Users\\nshre\\AppData\\Local\\Temp\\ipykernel_12852\\719259616.py:6: FutureWarning: suggest_loguniform has been deprecated in v3.0.0. This feature will be removed in v6.0.0. See https://github.com/optuna/optuna/releases/tag/v3.0.0. Use :func:`~optuna.trial.Trial.suggest_float` instead.\n",
            "  reg_alpha = trial.suggest_loguniform(\"reg_alpha\", 1e-8, 100.0)\n",
            "\u001b[32m[I 2023-04-29 15:39:20,848]\u001b[0m Trial 39 finished with value: 5.137115658577089 and parameters: {'learning_rate': 0.08491702354015329, 'reg_lambda': 1.4690069071035517e-05, 'reg_alpha': 11.920251518394666, 'subsample': 0.7043986189044606, 'colsample_bytree': 0.27533252184161994, 'max_depth': 6, 'n_estimators': 386}. Best is trial 22 with value: 4.16206846602308.\u001b[0m\n"
          ]
        },
        {
          "name": "stdout",
          "output_type": "stream",
          "text": [
            "Mean Absolute Error :  5.137115658577089\n",
            "R2_score :  0.7568061878488215\n"
          ]
        },
        {
          "name": "stderr",
          "output_type": "stream",
          "text": [
            "C:\\Users\\nshre\\AppData\\Local\\Temp\\ipykernel_12852\\719259616.py:5: FutureWarning: suggest_loguniform has been deprecated in v3.0.0. This feature will be removed in v6.0.0. See https://github.com/optuna/optuna/releases/tag/v3.0.0. Use :func:`~optuna.trial.Trial.suggest_float` instead.\n",
            "  reg_lambda = trial.suggest_loguniform(\"reg_lambda\", 1e-8, 100.0)\n",
            "C:\\Users\\nshre\\AppData\\Local\\Temp\\ipykernel_12852\\719259616.py:6: FutureWarning: suggest_loguniform has been deprecated in v3.0.0. This feature will be removed in v6.0.0. See https://github.com/optuna/optuna/releases/tag/v3.0.0. Use :func:`~optuna.trial.Trial.suggest_float` instead.\n",
            "  reg_alpha = trial.suggest_loguniform(\"reg_alpha\", 1e-8, 100.0)\n",
            "\u001b[32m[I 2023-04-29 15:40:27,587]\u001b[0m Trial 40 finished with value: 4.430424568482242 and parameters: {'learning_rate': 0.03326878085752285, 'reg_lambda': 3.081192224336148e-05, 'reg_alpha': 1.7356309032739714, 'subsample': 0.7847519525624512, 'colsample_bytree': 0.45673273018484306, 'max_depth': 6, 'n_estimators': 674}. Best is trial 22 with value: 4.16206846602308.\u001b[0m\n"
          ]
        },
        {
          "name": "stdout",
          "output_type": "stream",
          "text": [
            "Mean Absolute Error :  4.430424568482242\n",
            "R2_score :  0.7424285649713435\n"
          ]
        },
        {
          "name": "stderr",
          "output_type": "stream",
          "text": [
            "C:\\Users\\nshre\\AppData\\Local\\Temp\\ipykernel_12852\\719259616.py:5: FutureWarning: suggest_loguniform has been deprecated in v3.0.0. This feature will be removed in v6.0.0. See https://github.com/optuna/optuna/releases/tag/v3.0.0. Use :func:`~optuna.trial.Trial.suggest_float` instead.\n",
            "  reg_lambda = trial.suggest_loguniform(\"reg_lambda\", 1e-8, 100.0)\n",
            "C:\\Users\\nshre\\AppData\\Local\\Temp\\ipykernel_12852\\719259616.py:6: FutureWarning: suggest_loguniform has been deprecated in v3.0.0. This feature will be removed in v6.0.0. See https://github.com/optuna/optuna/releases/tag/v3.0.0. Use :func:`~optuna.trial.Trial.suggest_float` instead.\n",
            "  reg_alpha = trial.suggest_loguniform(\"reg_alpha\", 1e-8, 100.0)\n",
            "\u001b[32m[I 2023-04-29 15:40:46,092]\u001b[0m Trial 41 finished with value: 4.265181703833172 and parameters: {'learning_rate': 0.09006283209368009, 'reg_lambda': 9.321571484808277e-05, 'reg_alpha': 31.371323061753866, 'subsample': 0.6184949306956964, 'colsample_bytree': 0.5159777594625803, 'max_depth': 6, 'n_estimators': 195}. Best is trial 22 with value: 4.16206846602308.\u001b[0m\n"
          ]
        },
        {
          "name": "stdout",
          "output_type": "stream",
          "text": [
            "Mean Absolute Error :  4.265181703833172\n",
            "R2_score :  0.7335369705901376\n"
          ]
        },
        {
          "name": "stderr",
          "output_type": "stream",
          "text": [
            "C:\\Users\\nshre\\AppData\\Local\\Temp\\ipykernel_12852\\719259616.py:5: FutureWarning: suggest_loguniform has been deprecated in v3.0.0. This feature will be removed in v6.0.0. See https://github.com/optuna/optuna/releases/tag/v3.0.0. Use :func:`~optuna.trial.Trial.suggest_float` instead.\n",
            "  reg_lambda = trial.suggest_loguniform(\"reg_lambda\", 1e-8, 100.0)\n",
            "C:\\Users\\nshre\\AppData\\Local\\Temp\\ipykernel_12852\\719259616.py:6: FutureWarning: suggest_loguniform has been deprecated in v3.0.0. This feature will be removed in v6.0.0. See https://github.com/optuna/optuna/releases/tag/v3.0.0. Use :func:`~optuna.trial.Trial.suggest_float` instead.\n",
            "  reg_alpha = trial.suggest_loguniform(\"reg_alpha\", 1e-8, 100.0)\n",
            "\u001b[32m[I 2023-04-29 15:40:58,061]\u001b[0m Trial 42 finished with value: 4.354079127982873 and parameters: {'learning_rate': 0.0865147497506379, 'reg_lambda': 0.00010394892406704635, 'reg_alpha': 39.650541964801434, 'subsample': 0.5932648985888622, 'colsample_bytree': 0.4426836840816764, 'max_depth': 6, 'n_estimators': 137}. Best is trial 22 with value: 4.16206846602308.\u001b[0m\n"
          ]
        },
        {
          "name": "stdout",
          "output_type": "stream",
          "text": [
            "Mean Absolute Error :  4.354079127982873\n",
            "R2_score :  0.7511735657051752\n"
          ]
        },
        {
          "name": "stderr",
          "output_type": "stream",
          "text": [
            "C:\\Users\\nshre\\AppData\\Local\\Temp\\ipykernel_12852\\719259616.py:5: FutureWarning: suggest_loguniform has been deprecated in v3.0.0. This feature will be removed in v6.0.0. See https://github.com/optuna/optuna/releases/tag/v3.0.0. Use :func:`~optuna.trial.Trial.suggest_float` instead.\n",
            "  reg_lambda = trial.suggest_loguniform(\"reg_lambda\", 1e-8, 100.0)\n",
            "C:\\Users\\nshre\\AppData\\Local\\Temp\\ipykernel_12852\\719259616.py:6: FutureWarning: suggest_loguniform has been deprecated in v3.0.0. This feature will be removed in v6.0.0. See https://github.com/optuna/optuna/releases/tag/v3.0.0. Use :func:`~optuna.trial.Trial.suggest_float` instead.\n",
            "  reg_alpha = trial.suggest_loguniform(\"reg_alpha\", 1e-8, 100.0)\n",
            "\u001b[32m[I 2023-04-29 15:41:08,756]\u001b[0m Trial 43 finished with value: 4.3083706432649675 and parameters: {'learning_rate': 0.08771586432379344, 'reg_lambda': 7.052150522155923e-05, 'reg_alpha': 29.570415043362704, 'subsample': 0.5744740784166902, 'colsample_bytree': 0.51244913218334, 'max_depth': 6, 'n_estimators': 117}. Best is trial 22 with value: 4.16206846602308.\u001b[0m\n"
          ]
        },
        {
          "name": "stdout",
          "output_type": "stream",
          "text": [
            "Mean Absolute Error :  4.3083706432649675\n",
            "R2_score :  0.738745116602817\n"
          ]
        },
        {
          "name": "stderr",
          "output_type": "stream",
          "text": [
            "C:\\Users\\nshre\\AppData\\Local\\Temp\\ipykernel_12852\\719259616.py:5: FutureWarning: suggest_loguniform has been deprecated in v3.0.0. This feature will be removed in v6.0.0. See https://github.com/optuna/optuna/releases/tag/v3.0.0. Use :func:`~optuna.trial.Trial.suggest_float` instead.\n",
            "  reg_lambda = trial.suggest_loguniform(\"reg_lambda\", 1e-8, 100.0)\n",
            "C:\\Users\\nshre\\AppData\\Local\\Temp\\ipykernel_12852\\719259616.py:6: FutureWarning: suggest_loguniform has been deprecated in v3.0.0. This feature will be removed in v6.0.0. See https://github.com/optuna/optuna/releases/tag/v3.0.0. Use :func:`~optuna.trial.Trial.suggest_float` instead.\n",
            "  reg_alpha = trial.suggest_loguniform(\"reg_alpha\", 1e-8, 100.0)\n",
            "\u001b[32m[I 2023-04-29 15:41:21,380]\u001b[0m Trial 44 finished with value: 4.274497647648274 and parameters: {'learning_rate': 0.08168787891264208, 'reg_lambda': 0.00012961646073970544, 'reg_alpha': 36.810909382562116, 'subsample': 0.5908565765915298, 'colsample_bytree': 0.548903554846571, 'max_depth': 6, 'n_estimators': 138}. Best is trial 22 with value: 4.16206846602308.\u001b[0m\n"
          ]
        },
        {
          "name": "stdout",
          "output_type": "stream",
          "text": [
            "Mean Absolute Error :  4.274497647648274\n",
            "R2_score :  0.7378594044683048\n"
          ]
        },
        {
          "name": "stderr",
          "output_type": "stream",
          "text": [
            "C:\\Users\\nshre\\AppData\\Local\\Temp\\ipykernel_12852\\719259616.py:5: FutureWarning: suggest_loguniform has been deprecated in v3.0.0. This feature will be removed in v6.0.0. See https://github.com/optuna/optuna/releases/tag/v3.0.0. Use :func:`~optuna.trial.Trial.suggest_float` instead.\n",
            "  reg_lambda = trial.suggest_loguniform(\"reg_lambda\", 1e-8, 100.0)\n",
            "C:\\Users\\nshre\\AppData\\Local\\Temp\\ipykernel_12852\\719259616.py:6: FutureWarning: suggest_loguniform has been deprecated in v3.0.0. This feature will be removed in v6.0.0. See https://github.com/optuna/optuna/releases/tag/v3.0.0. Use :func:`~optuna.trial.Trial.suggest_float` instead.\n",
            "  reg_alpha = trial.suggest_loguniform(\"reg_alpha\", 1e-8, 100.0)\n",
            "\u001b[32m[I 2023-04-29 15:41:23,883]\u001b[0m Trial 45 finished with value: 5.816274106853026 and parameters: {'learning_rate': 0.08065838432965464, 'reg_lambda': 3.142692032505424e-06, 'reg_alpha': 91.18162004176678, 'subsample': 0.5122890221061458, 'colsample_bytree': 0.578828205851809, 'max_depth': 6, 'n_estimators': 22}. Best is trial 22 with value: 4.16206846602308.\u001b[0m\n"
          ]
        },
        {
          "name": "stdout",
          "output_type": "stream",
          "text": [
            "Mean Absolute Error :  5.816274106853026\n",
            "R2_score :  0.698224167874806\n"
          ]
        },
        {
          "name": "stderr",
          "output_type": "stream",
          "text": [
            "C:\\Users\\nshre\\AppData\\Local\\Temp\\ipykernel_12852\\719259616.py:5: FutureWarning: suggest_loguniform has been deprecated in v3.0.0. This feature will be removed in v6.0.0. See https://github.com/optuna/optuna/releases/tag/v3.0.0. Use :func:`~optuna.trial.Trial.suggest_float` instead.\n",
            "  reg_lambda = trial.suggest_loguniform(\"reg_lambda\", 1e-8, 100.0)\n",
            "C:\\Users\\nshre\\AppData\\Local\\Temp\\ipykernel_12852\\719259616.py:6: FutureWarning: suggest_loguniform has been deprecated in v3.0.0. This feature will be removed in v6.0.0. See https://github.com/optuna/optuna/releases/tag/v3.0.0. Use :func:`~optuna.trial.Trial.suggest_float` instead.\n",
            "  reg_alpha = trial.suggest_loguniform(\"reg_alpha\", 1e-8, 100.0)\n",
            "\u001b[32m[I 2023-04-29 15:41:54,161]\u001b[0m Trial 46 finished with value: 4.40616087264129 and parameters: {'learning_rate': 0.08961856567055707, 'reg_lambda': 1.3442497528121747e-05, 'reg_alpha': 39.16010131426144, 'subsample': 0.5710589047911794, 'colsample_bytree': 0.5407462311860841, 'max_depth': 5, 'n_estimators': 399}. Best is trial 22 with value: 4.16206846602308.\u001b[0m\n"
          ]
        },
        {
          "name": "stdout",
          "output_type": "stream",
          "text": [
            "Mean Absolute Error :  4.40616087264129\n",
            "R2_score :  0.712649442023616\n"
          ]
        },
        {
          "name": "stderr",
          "output_type": "stream",
          "text": [
            "C:\\Users\\nshre\\AppData\\Local\\Temp\\ipykernel_12852\\719259616.py:5: FutureWarning: suggest_loguniform has been deprecated in v3.0.0. This feature will be removed in v6.0.0. See https://github.com/optuna/optuna/releases/tag/v3.0.0. Use :func:`~optuna.trial.Trial.suggest_float` instead.\n",
            "  reg_lambda = trial.suggest_loguniform(\"reg_lambda\", 1e-8, 100.0)\n",
            "C:\\Users\\nshre\\AppData\\Local\\Temp\\ipykernel_12852\\719259616.py:6: FutureWarning: suggest_loguniform has been deprecated in v3.0.0. This feature will be removed in v6.0.0. See https://github.com/optuna/optuna/releases/tag/v3.0.0. Use :func:`~optuna.trial.Trial.suggest_float` instead.\n",
            "  reg_alpha = trial.suggest_loguniform(\"reg_alpha\", 1e-8, 100.0)\n",
            "\u001b[32m[I 2023-04-29 15:42:48,454]\u001b[0m Trial 47 finished with value: 4.808260285803529 and parameters: {'learning_rate': 0.09419455924601666, 'reg_lambda': 0.0004282210733403822, 'reg_alpha': 2.4358525883842916, 'subsample': 0.6402855736737838, 'colsample_bytree': 0.5140981034807655, 'max_depth': 6, 'n_estimators': 521}. Best is trial 22 with value: 4.16206846602308.\u001b[0m\n"
          ]
        },
        {
          "name": "stdout",
          "output_type": "stream",
          "text": [
            "Mean Absolute Error :  4.808260285803529\n",
            "R2_score :  0.7060323865364072\n"
          ]
        },
        {
          "name": "stderr",
          "output_type": "stream",
          "text": [
            "C:\\Users\\nshre\\AppData\\Local\\Temp\\ipykernel_12852\\719259616.py:5: FutureWarning: suggest_loguniform has been deprecated in v3.0.0. This feature will be removed in v6.0.0. See https://github.com/optuna/optuna/releases/tag/v3.0.0. Use :func:`~optuna.trial.Trial.suggest_float` instead.\n",
            "  reg_lambda = trial.suggest_loguniform(\"reg_lambda\", 1e-8, 100.0)\n",
            "C:\\Users\\nshre\\AppData\\Local\\Temp\\ipykernel_12852\\719259616.py:6: FutureWarning: suggest_loguniform has been deprecated in v3.0.0. This feature will be removed in v6.0.0. See https://github.com/optuna/optuna/releases/tag/v3.0.0. Use :func:`~optuna.trial.Trial.suggest_float` instead.\n",
            "  reg_alpha = trial.suggest_loguniform(\"reg_alpha\", 1e-8, 100.0)\n",
            "\u001b[32m[I 2023-04-29 15:43:02,188]\u001b[0m Trial 48 finished with value: 4.574980276997106 and parameters: {'learning_rate': 0.09856168657460923, 'reg_lambda': 6.554396515004641e-05, 'reg_alpha': 0.8901672790915536, 'subsample': 0.5862663826543902, 'colsample_bytree': 0.6365253899645124, 'max_depth': 5, 'n_estimators': 158}. Best is trial 22 with value: 4.16206846602308.\u001b[0m\n"
          ]
        },
        {
          "name": "stdout",
          "output_type": "stream",
          "text": [
            "Mean Absolute Error :  4.574980276997106\n",
            "R2_score :  0.6795893738667056\n"
          ]
        },
        {
          "name": "stderr",
          "output_type": "stream",
          "text": [
            "C:\\Users\\nshre\\AppData\\Local\\Temp\\ipykernel_12852\\719259616.py:5: FutureWarning: suggest_loguniform has been deprecated in v3.0.0. This feature will be removed in v6.0.0. See https://github.com/optuna/optuna/releases/tag/v3.0.0. Use :func:`~optuna.trial.Trial.suggest_float` instead.\n",
            "  reg_lambda = trial.suggest_loguniform(\"reg_lambda\", 1e-8, 100.0)\n",
            "C:\\Users\\nshre\\AppData\\Local\\Temp\\ipykernel_12852\\719259616.py:6: FutureWarning: suggest_loguniform has been deprecated in v3.0.0. This feature will be removed in v6.0.0. See https://github.com/optuna/optuna/releases/tag/v3.0.0. Use :func:`~optuna.trial.Trial.suggest_float` instead.\n",
            "  reg_alpha = trial.suggest_loguniform(\"reg_alpha\", 1e-8, 100.0)\n",
            "\u001b[32m[I 2023-04-29 15:43:36,151]\u001b[0m Trial 49 finished with value: 4.608285965194395 and parameters: {'learning_rate': 0.08080628170643483, 'reg_lambda': 4.879713547842803e-07, 'reg_alpha': 0.33116907261196377, 'subsample': 0.5076610399444756, 'colsample_bytree': 0.5801344109458466, 'max_depth': 6, 'n_estimators': 337}. Best is trial 22 with value: 4.16206846602308.\u001b[0m\n"
          ]
        },
        {
          "name": "stdout",
          "output_type": "stream",
          "text": [
            "Mean Absolute Error :  4.608285965194395\n",
            "R2_score :  0.7028053839908068\n"
          ]
        },
        {
          "name": "stderr",
          "output_type": "stream",
          "text": [
            "C:\\Users\\nshre\\AppData\\Local\\Temp\\ipykernel_12852\\719259616.py:5: FutureWarning: suggest_loguniform has been deprecated in v3.0.0. This feature will be removed in v6.0.0. See https://github.com/optuna/optuna/releases/tag/v3.0.0. Use :func:`~optuna.trial.Trial.suggest_float` instead.\n",
            "  reg_lambda = trial.suggest_loguniform(\"reg_lambda\", 1e-8, 100.0)\n",
            "C:\\Users\\nshre\\AppData\\Local\\Temp\\ipykernel_12852\\719259616.py:6: FutureWarning: suggest_loguniform has been deprecated in v3.0.0. This feature will be removed in v6.0.0. See https://github.com/optuna/optuna/releases/tag/v3.0.0. Use :func:`~optuna.trial.Trial.suggest_float` instead.\n",
            "  reg_alpha = trial.suggest_loguniform(\"reg_alpha\", 1e-8, 100.0)\n",
            "\u001b[32m[I 2023-04-29 15:43:51,209]\u001b[0m Trial 50 finished with value: 4.382142151832527 and parameters: {'learning_rate': 0.08953951989549665, 'reg_lambda': 3.0679493383562366e-06, 'reg_alpha': 5.598254553193769, 'subsample': 0.5454781566305231, 'colsample_bytree': 0.5558117398564005, 'max_depth': 6, 'n_estimators': 138}. Best is trial 22 with value: 4.16206846602308.\u001b[0m\n"
          ]
        },
        {
          "name": "stdout",
          "output_type": "stream",
          "text": [
            "Mean Absolute Error :  4.382142151832527\n",
            "R2_score :  0.7293401201117835\n"
          ]
        },
        {
          "name": "stderr",
          "output_type": "stream",
          "text": [
            "C:\\Users\\nshre\\AppData\\Local\\Temp\\ipykernel_12852\\719259616.py:5: FutureWarning: suggest_loguniform has been deprecated in v3.0.0. This feature will be removed in v6.0.0. See https://github.com/optuna/optuna/releases/tag/v3.0.0. Use :func:`~optuna.trial.Trial.suggest_float` instead.\n",
            "  reg_lambda = trial.suggest_loguniform(\"reg_lambda\", 1e-8, 100.0)\n",
            "C:\\Users\\nshre\\AppData\\Local\\Temp\\ipykernel_12852\\719259616.py:6: FutureWarning: suggest_loguniform has been deprecated in v3.0.0. This feature will be removed in v6.0.0. See https://github.com/optuna/optuna/releases/tag/v3.0.0. Use :func:`~optuna.trial.Trial.suggest_float` instead.\n",
            "  reg_alpha = trial.suggest_loguniform(\"reg_alpha\", 1e-8, 100.0)\n",
            "\u001b[32m[I 2023-04-29 15:44:07,551]\u001b[0m Trial 51 finished with value: 4.320723346542186 and parameters: {'learning_rate': 0.07217876635566452, 'reg_lambda': 9.938145268331484e-05, 'reg_alpha': 27.32063502793319, 'subsample': 0.6125282834707884, 'colsample_bytree': 0.42853210182187357, 'max_depth': 6, 'n_estimators': 147}. Best is trial 22 with value: 4.16206846602308.\u001b[0m\n"
          ]
        },
        {
          "name": "stdout",
          "output_type": "stream",
          "text": [
            "Mean Absolute Error :  4.320723346542186\n",
            "R2_score :  0.7677741584150275\n"
          ]
        },
        {
          "name": "stderr",
          "output_type": "stream",
          "text": [
            "C:\\Users\\nshre\\AppData\\Local\\Temp\\ipykernel_12852\\719259616.py:5: FutureWarning: suggest_loguniform has been deprecated in v3.0.0. This feature will be removed in v6.0.0. See https://github.com/optuna/optuna/releases/tag/v3.0.0. Use :func:`~optuna.trial.Trial.suggest_float` instead.\n",
            "  reg_lambda = trial.suggest_loguniform(\"reg_lambda\", 1e-8, 100.0)\n",
            "C:\\Users\\nshre\\AppData\\Local\\Temp\\ipykernel_12852\\719259616.py:6: FutureWarning: suggest_loguniform has been deprecated in v3.0.0. This feature will be removed in v6.0.0. See https://github.com/optuna/optuna/releases/tag/v3.0.0. Use :func:`~optuna.trial.Trial.suggest_float` instead.\n",
            "  reg_alpha = trial.suggest_loguniform(\"reg_alpha\", 1e-8, 100.0)\n",
            "\u001b[32m[I 2023-04-29 15:44:44,802]\u001b[0m Trial 52 finished with value: 4.322049629897842 and parameters: {'learning_rate': 0.07206493348975067, 'reg_lambda': 0.00016549610518195129, 'reg_alpha': 36.30551298196829, 'subsample': 0.637520161424352, 'colsample_bytree': 0.5031895503289158, 'max_depth': 6, 'n_estimators': 319}. Best is trial 22 with value: 4.16206846602308.\u001b[0m\n"
          ]
        },
        {
          "name": "stdout",
          "output_type": "stream",
          "text": [
            "Mean Absolute Error :  4.322049629897842\n",
            "R2_score :  0.7322908670175112\n"
          ]
        },
        {
          "name": "stderr",
          "output_type": "stream",
          "text": [
            "C:\\Users\\nshre\\AppData\\Local\\Temp\\ipykernel_12852\\719259616.py:5: FutureWarning: suggest_loguniform has been deprecated in v3.0.0. This feature will be removed in v6.0.0. See https://github.com/optuna/optuna/releases/tag/v3.0.0. Use :func:`~optuna.trial.Trial.suggest_float` instead.\n",
            "  reg_lambda = trial.suggest_loguniform(\"reg_lambda\", 1e-8, 100.0)\n",
            "C:\\Users\\nshre\\AppData\\Local\\Temp\\ipykernel_12852\\719259616.py:6: FutureWarning: suggest_loguniform has been deprecated in v3.0.0. This feature will be removed in v6.0.0. See https://github.com/optuna/optuna/releases/tag/v3.0.0. Use :func:`~optuna.trial.Trial.suggest_float` instead.\n",
            "  reg_alpha = trial.suggest_loguniform(\"reg_alpha\", 1e-8, 100.0)\n",
            "\u001b[32m[I 2023-04-29 15:45:10,019]\u001b[0m Trial 53 finished with value: 4.298606277181556 and parameters: {'learning_rate': 0.07364154180621085, 'reg_lambda': 9.951333906093892e-05, 'reg_alpha': 32.391712534429786, 'subsample': 0.6525482827897798, 'colsample_bytree': 0.5038705042596235, 'max_depth': 6, 'n_estimators': 267}. Best is trial 22 with value: 4.16206846602308.\u001b[0m\n"
          ]
        },
        {
          "name": "stdout",
          "output_type": "stream",
          "text": [
            "Mean Absolute Error :  4.298606277181556\n",
            "R2_score :  0.7353061547116665\n"
          ]
        },
        {
          "name": "stderr",
          "output_type": "stream",
          "text": [
            "C:\\Users\\nshre\\AppData\\Local\\Temp\\ipykernel_12852\\719259616.py:5: FutureWarning: suggest_loguniform has been deprecated in v3.0.0. This feature will be removed in v6.0.0. See https://github.com/optuna/optuna/releases/tag/v3.0.0. Use :func:`~optuna.trial.Trial.suggest_float` instead.\n",
            "  reg_lambda = trial.suggest_loguniform(\"reg_lambda\", 1e-8, 100.0)\n",
            "C:\\Users\\nshre\\AppData\\Local\\Temp\\ipykernel_12852\\719259616.py:6: FutureWarning: suggest_loguniform has been deprecated in v3.0.0. This feature will be removed in v6.0.0. See https://github.com/optuna/optuna/releases/tag/v3.0.0. Use :func:`~optuna.trial.Trial.suggest_float` instead.\n",
            "  reg_alpha = trial.suggest_loguniform(\"reg_alpha\", 1e-8, 100.0)\n",
            "\u001b[32m[I 2023-04-29 15:45:19,035]\u001b[0m Trial 54 finished with value: 4.4538692815233825 and parameters: {'learning_rate': 0.07713435428620194, 'reg_lambda': 2.9215850748934527e-05, 'reg_alpha': 12.361320695254099, 'subsample': 0.6668167588121499, 'colsample_bytree': 0.416951691937145, 'max_depth': 6, 'n_estimators': 105}. Best is trial 22 with value: 4.16206846602308.\u001b[0m\n"
          ]
        },
        {
          "name": "stdout",
          "output_type": "stream",
          "text": [
            "Mean Absolute Error :  4.4538692815233825\n",
            "R2_score :  0.771260576853233\n"
          ]
        },
        {
          "name": "stderr",
          "output_type": "stream",
          "text": [
            "C:\\Users\\nshre\\AppData\\Local\\Temp\\ipykernel_12852\\719259616.py:5: FutureWarning: suggest_loguniform has been deprecated in v3.0.0. This feature will be removed in v6.0.0. See https://github.com/optuna/optuna/releases/tag/v3.0.0. Use :func:`~optuna.trial.Trial.suggest_float` instead.\n",
            "  reg_lambda = trial.suggest_loguniform(\"reg_lambda\", 1e-8, 100.0)\n",
            "C:\\Users\\nshre\\AppData\\Local\\Temp\\ipykernel_12852\\719259616.py:6: FutureWarning: suggest_loguniform has been deprecated in v3.0.0. This feature will be removed in v6.0.0. See https://github.com/optuna/optuna/releases/tag/v3.0.0. Use :func:`~optuna.trial.Trial.suggest_float` instead.\n",
            "  reg_alpha = trial.suggest_loguniform(\"reg_alpha\", 1e-8, 100.0)\n",
            "\u001b[32m[I 2023-04-29 15:45:40,354]\u001b[0m Trial 55 finished with value: 4.448015731890351 and parameters: {'learning_rate': 0.08182598128917774, 'reg_lambda': 6.687611975465178e-05, 'reg_alpha': 5.350714066492331, 'subsample': 0.5871622606316635, 'colsample_bytree': 0.5205567513749965, 'max_depth': 6, 'n_estimators': 237}. Best is trial 22 with value: 4.16206846602308.\u001b[0m\n"
          ]
        },
        {
          "name": "stdout",
          "output_type": "stream",
          "text": [
            "Mean Absolute Error :  4.448015731890351\n",
            "R2_score :  0.7301259268573115\n"
          ]
        },
        {
          "name": "stderr",
          "output_type": "stream",
          "text": [
            "C:\\Users\\nshre\\AppData\\Local\\Temp\\ipykernel_12852\\719259616.py:5: FutureWarning: suggest_loguniform has been deprecated in v3.0.0. This feature will be removed in v6.0.0. See https://github.com/optuna/optuna/releases/tag/v3.0.0. Use :func:`~optuna.trial.Trial.suggest_float` instead.\n",
            "  reg_lambda = trial.suggest_loguniform(\"reg_lambda\", 1e-8, 100.0)\n",
            "C:\\Users\\nshre\\AppData\\Local\\Temp\\ipykernel_12852\\719259616.py:6: FutureWarning: suggest_loguniform has been deprecated in v3.0.0. This feature will be removed in v6.0.0. See https://github.com/optuna/optuna/releases/tag/v3.0.0. Use :func:`~optuna.trial.Trial.suggest_float` instead.\n",
            "  reg_alpha = trial.suggest_loguniform(\"reg_alpha\", 1e-8, 100.0)\n",
            "\u001b[32m[I 2023-04-29 15:45:42,483]\u001b[0m Trial 56 finished with value: 6.622156958928079 and parameters: {'learning_rate': 0.06946070738815664, 'reg_lambda': 8.735964381424693e-06, 'reg_alpha': 28.4274477414945, 'subsample': 0.5495753407608353, 'colsample_bytree': 0.6193310565916752, 'max_depth': 5, 'n_estimators': 20}. Best is trial 22 with value: 4.16206846602308.\u001b[0m\n"
          ]
        },
        {
          "name": "stdout",
          "output_type": "stream",
          "text": [
            "Mean Absolute Error :  6.622156958928079\n",
            "R2_score :  0.6391540693090769\n"
          ]
        },
        {
          "name": "stderr",
          "output_type": "stream",
          "text": [
            "C:\\Users\\nshre\\AppData\\Local\\Temp\\ipykernel_12852\\719259616.py:5: FutureWarning: suggest_loguniform has been deprecated in v3.0.0. This feature will be removed in v6.0.0. See https://github.com/optuna/optuna/releases/tag/v3.0.0. Use :func:`~optuna.trial.Trial.suggest_float` instead.\n",
            "  reg_lambda = trial.suggest_loguniform(\"reg_lambda\", 1e-8, 100.0)\n",
            "C:\\Users\\nshre\\AppData\\Local\\Temp\\ipykernel_12852\\719259616.py:6: FutureWarning: suggest_loguniform has been deprecated in v3.0.0. This feature will be removed in v6.0.0. See https://github.com/optuna/optuna/releases/tag/v3.0.0. Use :func:`~optuna.trial.Trial.suggest_float` instead.\n",
            "  reg_alpha = trial.suggest_loguniform(\"reg_alpha\", 1e-8, 100.0)\n",
            "\u001b[32m[I 2023-04-29 15:46:38,399]\u001b[0m Trial 57 finished with value: 4.443443428703982 and parameters: {'learning_rate': 0.06636236857798948, 'reg_lambda': 0.0006815589776174062, 'reg_alpha': 0.5536176939304908, 'subsample': 0.6589886772655184, 'colsample_bytree': 0.5730345182255399, 'max_depth': 6, 'n_estimators': 462}. Best is trial 22 with value: 4.16206846602308.\u001b[0m\n"
          ]
        },
        {
          "name": "stdout",
          "output_type": "stream",
          "text": [
            "Mean Absolute Error :  4.443443428703982\n",
            "R2_score :  0.7179695101266745\n"
          ]
        },
        {
          "name": "stderr",
          "output_type": "stream",
          "text": [
            "C:\\Users\\nshre\\AppData\\Local\\Temp\\ipykernel_12852\\719259616.py:5: FutureWarning: suggest_loguniform has been deprecated in v3.0.0. This feature will be removed in v6.0.0. See https://github.com/optuna/optuna/releases/tag/v3.0.0. Use :func:`~optuna.trial.Trial.suggest_float` instead.\n",
            "  reg_lambda = trial.suggest_loguniform(\"reg_lambda\", 1e-8, 100.0)\n",
            "C:\\Users\\nshre\\AppData\\Local\\Temp\\ipykernel_12852\\719259616.py:6: FutureWarning: suggest_loguniform has been deprecated in v3.0.0. This feature will be removed in v6.0.0. See https://github.com/optuna/optuna/releases/tag/v3.0.0. Use :func:`~optuna.trial.Trial.suggest_float` instead.\n",
            "  reg_alpha = trial.suggest_loguniform(\"reg_alpha\", 1e-8, 100.0)\n",
            "\u001b[32m[I 2023-04-29 15:47:30,159]\u001b[0m Trial 58 finished with value: 4.635923459468388 and parameters: {'learning_rate': 0.07759044545599864, 'reg_lambda': 0.0035001045818649807, 'reg_alpha': 0.0915880119794646, 'subsample': 0.6065205704884374, 'colsample_bytree': 0.46516654652772643, 'max_depth': 5, 'n_estimators': 585}. Best is trial 22 with value: 4.16206846602308.\u001b[0m\n"
          ]
        },
        {
          "name": "stdout",
          "output_type": "stream",
          "text": [
            "Mean Absolute Error :  4.635923459468388\n",
            "R2_score :  0.7230579096122622\n"
          ]
        },
        {
          "name": "stderr",
          "output_type": "stream",
          "text": [
            "C:\\Users\\nshre\\AppData\\Local\\Temp\\ipykernel_12852\\719259616.py:5: FutureWarning: suggest_loguniform has been deprecated in v3.0.0. This feature will be removed in v6.0.0. See https://github.com/optuna/optuna/releases/tag/v3.0.0. Use :func:`~optuna.trial.Trial.suggest_float` instead.\n",
            "  reg_lambda = trial.suggest_loguniform(\"reg_lambda\", 1e-8, 100.0)\n",
            "C:\\Users\\nshre\\AppData\\Local\\Temp\\ipykernel_12852\\719259616.py:6: FutureWarning: suggest_loguniform has been deprecated in v3.0.0. This feature will be removed in v6.0.0. See https://github.com/optuna/optuna/releases/tag/v3.0.0. Use :func:`~optuna.trial.Trial.suggest_float` instead.\n",
            "  reg_alpha = trial.suggest_loguniform(\"reg_alpha\", 1e-8, 100.0)\n",
            "\u001b[32m[I 2023-04-29 15:47:56,273]\u001b[0m Trial 59 finished with value: 4.643469812510305 and parameters: {'learning_rate': 0.08264363152171751, 'reg_lambda': 0.0007966036792914367, 'reg_alpha': 2.4060397534826166, 'subsample': 0.5195695991434268, 'colsample_bytree': 0.4270486615478562, 'max_depth': 6, 'n_estimators': 261}. Best is trial 22 with value: 4.16206846602308.\u001b[0m\n"
          ]
        },
        {
          "name": "stdout",
          "output_type": "stream",
          "text": [
            "Mean Absolute Error :  4.643469812510305\n",
            "R2_score :  0.7497860095660704\n"
          ]
        },
        {
          "name": "stderr",
          "output_type": "stream",
          "text": [
            "C:\\Users\\nshre\\AppData\\Local\\Temp\\ipykernel_12852\\719259616.py:5: FutureWarning: suggest_loguniform has been deprecated in v3.0.0. This feature will be removed in v6.0.0. See https://github.com/optuna/optuna/releases/tag/v3.0.0. Use :func:`~optuna.trial.Trial.suggest_float` instead.\n",
            "  reg_lambda = trial.suggest_loguniform(\"reg_lambda\", 1e-8, 100.0)\n",
            "C:\\Users\\nshre\\AppData\\Local\\Temp\\ipykernel_12852\\719259616.py:6: FutureWarning: suggest_loguniform has been deprecated in v3.0.0. This feature will be removed in v6.0.0. See https://github.com/optuna/optuna/releases/tag/v3.0.0. Use :func:`~optuna.trial.Trial.suggest_float` instead.\n",
            "  reg_alpha = trial.suggest_loguniform(\"reg_alpha\", 1e-8, 100.0)\n",
            "\u001b[32m[I 2023-04-29 15:51:10,783]\u001b[0m Trial 60 finished with value: 4.497823732625809 and parameters: {'learning_rate': 0.062402195410235915, 'reg_lambda': 7.151970795658751e-05, 'reg_alpha': 41.372774816790105, 'subsample': 0.6772116561208983, 'colsample_bytree': 0.6732227646731582, 'max_depth': 6, 'n_estimators': 1782}. Best is trial 22 with value: 4.16206846602308.\u001b[0m\n"
          ]
        },
        {
          "name": "stdout",
          "output_type": "stream",
          "text": [
            "Mean Absolute Error :  4.497823732625809\n",
            "R2_score :  0.6931391611806134\n"
          ]
        },
        {
          "name": "stderr",
          "output_type": "stream",
          "text": [
            "C:\\Users\\nshre\\AppData\\Local\\Temp\\ipykernel_12852\\719259616.py:5: FutureWarning: suggest_loguniform has been deprecated in v3.0.0. This feature will be removed in v6.0.0. See https://github.com/optuna/optuna/releases/tag/v3.0.0. Use :func:`~optuna.trial.Trial.suggest_float` instead.\n",
            "  reg_lambda = trial.suggest_loguniform(\"reg_lambda\", 1e-8, 100.0)\n",
            "C:\\Users\\nshre\\AppData\\Local\\Temp\\ipykernel_12852\\719259616.py:6: FutureWarning: suggest_loguniform has been deprecated in v3.0.0. This feature will be removed in v6.0.0. See https://github.com/optuna/optuna/releases/tag/v3.0.0. Use :func:`~optuna.trial.Trial.suggest_float` instead.\n",
            "  reg_alpha = trial.suggest_loguniform(\"reg_alpha\", 1e-8, 100.0)\n",
            "\u001b[32m[I 2023-04-29 15:51:37,794]\u001b[0m Trial 61 finished with value: 4.273382612810257 and parameters: {'learning_rate': 0.07348002617117197, 'reg_lambda': 0.00015649057066246857, 'reg_alpha': 32.34496171947777, 'subsample': 0.6299800502212085, 'colsample_bytree': 0.5004074588295053, 'max_depth': 6, 'n_estimators': 298}. Best is trial 22 with value: 4.16206846602308.\u001b[0m\n"
          ]
        },
        {
          "name": "stdout",
          "output_type": "stream",
          "text": [
            "Mean Absolute Error :  4.273382612810257\n",
            "R2_score :  0.7130715305702116\n"
          ]
        },
        {
          "name": "stderr",
          "output_type": "stream",
          "text": [
            "C:\\Users\\nshre\\AppData\\Local\\Temp\\ipykernel_12852\\719259616.py:5: FutureWarning: suggest_loguniform has been deprecated in v3.0.0. This feature will be removed in v6.0.0. See https://github.com/optuna/optuna/releases/tag/v3.0.0. Use :func:`~optuna.trial.Trial.suggest_float` instead.\n",
            "  reg_lambda = trial.suggest_loguniform(\"reg_lambda\", 1e-8, 100.0)\n",
            "C:\\Users\\nshre\\AppData\\Local\\Temp\\ipykernel_12852\\719259616.py:6: FutureWarning: suggest_loguniform has been deprecated in v3.0.0. This feature will be removed in v6.0.0. See https://github.com/optuna/optuna/releases/tag/v3.0.0. Use :func:`~optuna.trial.Trial.suggest_float` instead.\n",
            "  reg_alpha = trial.suggest_loguniform(\"reg_alpha\", 1e-8, 100.0)\n",
            "\u001b[32m[I 2023-04-29 15:51:49,354]\u001b[0m Trial 62 finished with value: 4.2632241002943445 and parameters: {'learning_rate': 0.07523083382832856, 'reg_lambda': 0.0002509195927318387, 'reg_alpha': 8.078226277390751, 'subsample': 0.6288097577757339, 'colsample_bytree': 0.5253791695278762, 'max_depth': 6, 'n_estimators': 124}. Best is trial 22 with value: 4.16206846602308.\u001b[0m\n"
          ]
        },
        {
          "name": "stdout",
          "output_type": "stream",
          "text": [
            "Mean Absolute Error :  4.2632241002943445\n",
            "R2_score :  0.7326839584494931\n"
          ]
        },
        {
          "name": "stderr",
          "output_type": "stream",
          "text": [
            "C:\\Users\\nshre\\AppData\\Local\\Temp\\ipykernel_12852\\719259616.py:5: FutureWarning: suggest_loguniform has been deprecated in v3.0.0. This feature will be removed in v6.0.0. See https://github.com/optuna/optuna/releases/tag/v3.0.0. Use :func:`~optuna.trial.Trial.suggest_float` instead.\n",
            "  reg_lambda = trial.suggest_loguniform(\"reg_lambda\", 1e-8, 100.0)\n",
            "C:\\Users\\nshre\\AppData\\Local\\Temp\\ipykernel_12852\\719259616.py:6: FutureWarning: suggest_loguniform has been deprecated in v3.0.0. This feature will be removed in v6.0.0. See https://github.com/optuna/optuna/releases/tag/v3.0.0. Use :func:`~optuna.trial.Trial.suggest_float` instead.\n",
            "  reg_alpha = trial.suggest_loguniform(\"reg_alpha\", 1e-8, 100.0)\n",
            "\u001b[32m[I 2023-04-29 15:52:39,184]\u001b[0m Trial 63 finished with value: 4.547632667369512 and parameters: {'learning_rate': 0.0762258231355543, 'reg_lambda': 0.000340741999037839, 'reg_alpha': 7.121707433651155, 'subsample': 0.6456641151812221, 'colsample_bytree': 0.524512656644265, 'max_depth': 6, 'n_estimators': 421}. Best is trial 22 with value: 4.16206846602308.\u001b[0m\n"
          ]
        },
        {
          "name": "stdout",
          "output_type": "stream",
          "text": [
            "Mean Absolute Error :  4.547632667369512\n",
            "R2_score :  0.7238210165339498\n"
          ]
        },
        {
          "name": "stderr",
          "output_type": "stream",
          "text": [
            "C:\\Users\\nshre\\AppData\\Local\\Temp\\ipykernel_12852\\719259616.py:5: FutureWarning: suggest_loguniform has been deprecated in v3.0.0. This feature will be removed in v6.0.0. See https://github.com/optuna/optuna/releases/tag/v3.0.0. Use :func:`~optuna.trial.Trial.suggest_float` instead.\n",
            "  reg_lambda = trial.suggest_loguniform(\"reg_lambda\", 1e-8, 100.0)\n",
            "C:\\Users\\nshre\\AppData\\Local\\Temp\\ipykernel_12852\\719259616.py:6: FutureWarning: suggest_loguniform has been deprecated in v3.0.0. This feature will be removed in v6.0.0. See https://github.com/optuna/optuna/releases/tag/v3.0.0. Use :func:`~optuna.trial.Trial.suggest_float` instead.\n",
            "  reg_alpha = trial.suggest_loguniform(\"reg_alpha\", 1e-8, 100.0)\n",
            "\u001b[32m[I 2023-04-29 15:53:15,057]\u001b[0m Trial 64 finished with value: 4.448519823047109 and parameters: {'learning_rate': 0.08027689241948374, 'reg_lambda': 0.0017809449955525874, 'reg_alpha': 9.512855552006748, 'subsample': 0.5639793771436592, 'colsample_bytree': 0.49158663571069644, 'max_depth': 6, 'n_estimators': 303}. Best is trial 22 with value: 4.16206846602308.\u001b[0m\n"
          ]
        },
        {
          "name": "stdout",
          "output_type": "stream",
          "text": [
            "Mean Absolute Error :  4.448519823047109\n",
            "R2_score :  0.7328386718224194\n"
          ]
        },
        {
          "name": "stderr",
          "output_type": "stream",
          "text": [
            "C:\\Users\\nshre\\AppData\\Local\\Temp\\ipykernel_12852\\719259616.py:5: FutureWarning: suggest_loguniform has been deprecated in v3.0.0. This feature will be removed in v6.0.0. See https://github.com/optuna/optuna/releases/tag/v3.0.0. Use :func:`~optuna.trial.Trial.suggest_float` instead.\n",
            "  reg_lambda = trial.suggest_loguniform(\"reg_lambda\", 1e-8, 100.0)\n",
            "C:\\Users\\nshre\\AppData\\Local\\Temp\\ipykernel_12852\\719259616.py:6: FutureWarning: suggest_loguniform has been deprecated in v3.0.0. This feature will be removed in v6.0.0. See https://github.com/optuna/optuna/releases/tag/v3.0.0. Use :func:`~optuna.trial.Trial.suggest_float` instead.\n",
            "  reg_alpha = trial.suggest_loguniform(\"reg_alpha\", 1e-8, 100.0)\n",
            "\u001b[32m[I 2023-04-29 15:53:49,922]\u001b[0m Trial 65 finished with value: 4.331125732778508 and parameters: {'learning_rate': 0.08438462575444312, 'reg_lambda': 0.00017816963665836125, 'reg_alpha': 4.02396355583523, 'subsample': 0.7381117761903162, 'colsample_bytree': 0.5552328563762057, 'max_depth': 4, 'n_estimators': 559}. Best is trial 22 with value: 4.16206846602308.\u001b[0m\n"
          ]
        },
        {
          "name": "stdout",
          "output_type": "stream",
          "text": [
            "Mean Absolute Error :  4.331125732778508\n",
            "R2_score :  0.7022662882998613\n"
          ]
        },
        {
          "name": "stderr",
          "output_type": "stream",
          "text": [
            "C:\\Users\\nshre\\AppData\\Local\\Temp\\ipykernel_12852\\719259616.py:5: FutureWarning: suggest_loguniform has been deprecated in v3.0.0. This feature will be removed in v6.0.0. See https://github.com/optuna/optuna/releases/tag/v3.0.0. Use :func:`~optuna.trial.Trial.suggest_float` instead.\n",
            "  reg_lambda = trial.suggest_loguniform(\"reg_lambda\", 1e-8, 100.0)\n",
            "C:\\Users\\nshre\\AppData\\Local\\Temp\\ipykernel_12852\\719259616.py:6: FutureWarning: suggest_loguniform has been deprecated in v3.0.0. This feature will be removed in v6.0.0. See https://github.com/optuna/optuna/releases/tag/v3.0.0. Use :func:`~optuna.trial.Trial.suggest_float` instead.\n",
            "  reg_alpha = trial.suggest_loguniform(\"reg_alpha\", 1e-8, 100.0)\n",
            "\u001b[32m[I 2023-04-29 15:54:00,700]\u001b[0m Trial 66 finished with value: 4.254392855450327 and parameters: {'learning_rate': 0.07555500224775527, 'reg_lambda': 2.309574248681351e-05, 'reg_alpha': 99.91990480265024, 'subsample': 0.6903191881378571, 'colsample_bytree': 0.594115371295488, 'max_depth': 6, 'n_estimators': 104}. Best is trial 22 with value: 4.16206846602308.\u001b[0m\n"
          ]
        },
        {
          "name": "stdout",
          "output_type": "stream",
          "text": [
            "Mean Absolute Error :  4.254392855450327\n",
            "R2_score :  0.7323209321883501\n"
          ]
        },
        {
          "name": "stderr",
          "output_type": "stream",
          "text": [
            "C:\\Users\\nshre\\AppData\\Local\\Temp\\ipykernel_12852\\719259616.py:5: FutureWarning: suggest_loguniform has been deprecated in v3.0.0. This feature will be removed in v6.0.0. See https://github.com/optuna/optuna/releases/tag/v3.0.0. Use :func:`~optuna.trial.Trial.suggest_float` instead.\n",
            "  reg_lambda = trial.suggest_loguniform(\"reg_lambda\", 1e-8, 100.0)\n",
            "C:\\Users\\nshre\\AppData\\Local\\Temp\\ipykernel_12852\\719259616.py:6: FutureWarning: suggest_loguniform has been deprecated in v3.0.0. This feature will be removed in v6.0.0. See https://github.com/optuna/optuna/releases/tag/v3.0.0. Use :func:`~optuna.trial.Trial.suggest_float` instead.\n",
            "  reg_alpha = trial.suggest_loguniform(\"reg_alpha\", 1e-8, 100.0)\n",
            "\u001b[32m[I 2023-04-29 15:54:28,843]\u001b[0m Trial 67 finished with value: 4.579813424204215 and parameters: {'learning_rate': 0.07390438155253846, 'reg_lambda': 2.52701259438616e-05, 'reg_alpha': 56.59172936958021, 'subsample': 0.6866183726025779, 'colsample_bytree': 0.5987200755472759, 'max_depth': 6, 'n_estimators': 286}. Best is trial 22 with value: 4.16206846602308.\u001b[0m\n"
          ]
        },
        {
          "name": "stdout",
          "output_type": "stream",
          "text": [
            "Mean Absolute Error :  4.579813424204215\n",
            "R2_score :  0.7197361484540286\n"
          ]
        },
        {
          "name": "stderr",
          "output_type": "stream",
          "text": [
            "C:\\Users\\nshre\\AppData\\Local\\Temp\\ipykernel_12852\\719259616.py:5: FutureWarning: suggest_loguniform has been deprecated in v3.0.0. This feature will be removed in v6.0.0. See https://github.com/optuna/optuna/releases/tag/v3.0.0. Use :func:`~optuna.trial.Trial.suggest_float` instead.\n",
            "  reg_lambda = trial.suggest_loguniform(\"reg_lambda\", 1e-8, 100.0)\n",
            "C:\\Users\\nshre\\AppData\\Local\\Temp\\ipykernel_12852\\719259616.py:6: FutureWarning: suggest_loguniform has been deprecated in v3.0.0. This feature will be removed in v6.0.0. See https://github.com/optuna/optuna/releases/tag/v3.0.0. Use :func:`~optuna.trial.Trial.suggest_float` instead.\n",
            "  reg_alpha = trial.suggest_loguniform(\"reg_alpha\", 1e-8, 100.0)\n",
            "\u001b[32m[I 2023-04-29 15:54:48,711]\u001b[0m Trial 68 finished with value: 4.196502887233966 and parameters: {'learning_rate': 0.07001527123734705, 'reg_lambda': 0.00038791894306115473, 'reg_alpha': 98.95371012330142, 'subsample': 0.628179169509355, 'colsample_bytree': 0.5462755630113153, 'max_depth': 6, 'n_estimators': 215}. Best is trial 22 with value: 4.16206846602308.\u001b[0m\n"
          ]
        },
        {
          "name": "stdout",
          "output_type": "stream",
          "text": [
            "Mean Absolute Error :  4.196502887233966\n",
            "R2_score :  0.7258173367482088\n"
          ]
        },
        {
          "name": "stderr",
          "output_type": "stream",
          "text": [
            "C:\\Users\\nshre\\AppData\\Local\\Temp\\ipykernel_12852\\719259616.py:5: FutureWarning: suggest_loguniform has been deprecated in v3.0.0. This feature will be removed in v6.0.0. See https://github.com/optuna/optuna/releases/tag/v3.0.0. Use :func:`~optuna.trial.Trial.suggest_float` instead.\n",
            "  reg_lambda = trial.suggest_loguniform(\"reg_lambda\", 1e-8, 100.0)\n",
            "C:\\Users\\nshre\\AppData\\Local\\Temp\\ipykernel_12852\\719259616.py:6: FutureWarning: suggest_loguniform has been deprecated in v3.0.0. This feature will be removed in v6.0.0. See https://github.com/optuna/optuna/releases/tag/v3.0.0. Use :func:`~optuna.trial.Trial.suggest_float` instead.\n",
            "  reg_alpha = trial.suggest_loguniform(\"reg_alpha\", 1e-8, 100.0)\n",
            "\u001b[32m[I 2023-04-29 15:55:29,190]\u001b[0m Trial 69 finished with value: 4.334381403229536 and parameters: {'learning_rate': 0.06818252156129706, 'reg_lambda': 0.0004143393280760942, 'reg_alpha': 87.98017018768107, 'subsample': 0.6322079294312514, 'colsample_bytree': 0.6430902014655004, 'max_depth': 5, 'n_estimators': 438}. Best is trial 22 with value: 4.16206846602308.\u001b[0m\n"
          ]
        },
        {
          "name": "stdout",
          "output_type": "stream",
          "text": [
            "Mean Absolute Error :  4.334381403229536\n",
            "R2_score :  0.7179745159099504\n"
          ]
        },
        {
          "name": "stderr",
          "output_type": "stream",
          "text": [
            "C:\\Users\\nshre\\AppData\\Local\\Temp\\ipykernel_12852\\719259616.py:5: FutureWarning: suggest_loguniform has been deprecated in v3.0.0. This feature will be removed in v6.0.0. See https://github.com/optuna/optuna/releases/tag/v3.0.0. Use :func:`~optuna.trial.Trial.suggest_float` instead.\n",
            "  reg_lambda = trial.suggest_loguniform(\"reg_lambda\", 1e-8, 100.0)\n",
            "C:\\Users\\nshre\\AppData\\Local\\Temp\\ipykernel_12852\\719259616.py:6: FutureWarning: suggest_loguniform has been deprecated in v3.0.0. This feature will be removed in v6.0.0. See https://github.com/optuna/optuna/releases/tag/v3.0.0. Use :func:`~optuna.trial.Trial.suggest_float` instead.\n",
            "  reg_alpha = trial.suggest_loguniform(\"reg_alpha\", 1e-8, 100.0)\n",
            "\u001b[32m[I 2023-04-29 15:55:54,830]\u001b[0m Trial 70 finished with value: 4.144307145683879 and parameters: {'learning_rate': 0.060874267198799376, 'reg_lambda': 0.0008196424699002651, 'reg_alpha': 14.698503071138058, 'subsample': 0.7005947696689363, 'colsample_bytree': 0.5442856655981725, 'max_depth': 6, 'n_estimators': 210}. Best is trial 70 with value: 4.144307145683879.\u001b[0m\n"
          ]
        },
        {
          "name": "stdout",
          "output_type": "stream",
          "text": [
            "Mean Absolute Error :  4.144307145683879\n",
            "R2_score :  0.7411635677250943\n"
          ]
        },
        {
          "name": "stderr",
          "output_type": "stream",
          "text": [
            "C:\\Users\\nshre\\AppData\\Local\\Temp\\ipykernel_12852\\719259616.py:5: FutureWarning: suggest_loguniform has been deprecated in v3.0.0. This feature will be removed in v6.0.0. See https://github.com/optuna/optuna/releases/tag/v3.0.0. Use :func:`~optuna.trial.Trial.suggest_float` instead.\n",
            "  reg_lambda = trial.suggest_loguniform(\"reg_lambda\", 1e-8, 100.0)\n",
            "C:\\Users\\nshre\\AppData\\Local\\Temp\\ipykernel_12852\\719259616.py:6: FutureWarning: suggest_loguniform has been deprecated in v3.0.0. This feature will be removed in v6.0.0. See https://github.com/optuna/optuna/releases/tag/v3.0.0. Use :func:`~optuna.trial.Trial.suggest_float` instead.\n",
            "  reg_alpha = trial.suggest_loguniform(\"reg_alpha\", 1e-8, 100.0)\n",
            "\u001b[32m[I 2023-04-29 15:56:05,345]\u001b[0m Trial 71 finished with value: 4.216353911262755 and parameters: {'learning_rate': 0.06209686627923121, 'reg_lambda': 0.00108033870884223, 'reg_alpha': 14.425368269472887, 'subsample': 0.7047570169460033, 'colsample_bytree': 0.5430695173707097, 'max_depth': 6, 'n_estimators': 83}. Best is trial 70 with value: 4.144307145683879.\u001b[0m\n"
          ]
        },
        {
          "name": "stdout",
          "output_type": "stream",
          "text": [
            "Mean Absolute Error :  4.216353911262755\n",
            "R2_score :  0.7447629844832471\n"
          ]
        },
        {
          "name": "stderr",
          "output_type": "stream",
          "text": [
            "C:\\Users\\nshre\\AppData\\Local\\Temp\\ipykernel_12852\\719259616.py:5: FutureWarning: suggest_loguniform has been deprecated in v3.0.0. This feature will be removed in v6.0.0. See https://github.com/optuna/optuna/releases/tag/v3.0.0. Use :func:`~optuna.trial.Trial.suggest_float` instead.\n",
            "  reg_lambda = trial.suggest_loguniform(\"reg_lambda\", 1e-8, 100.0)\n",
            "C:\\Users\\nshre\\AppData\\Local\\Temp\\ipykernel_12852\\719259616.py:6: FutureWarning: suggest_loguniform has been deprecated in v3.0.0. This feature will be removed in v6.0.0. See https://github.com/optuna/optuna/releases/tag/v3.0.0. Use :func:`~optuna.trial.Trial.suggest_float` instead.\n",
            "  reg_alpha = trial.suggest_loguniform(\"reg_alpha\", 1e-8, 100.0)\n",
            "\u001b[32m[I 2023-04-29 15:56:14,010]\u001b[0m Trial 72 finished with value: 4.442927967867167 and parameters: {'learning_rate': 0.0620082815017137, 'reg_lambda': 0.0012478463538253914, 'reg_alpha': 13.813313670717967, 'subsample': 0.6866226413767275, 'colsample_bytree': 0.5820897713055916, 'max_depth': 6, 'n_estimators': 63}. Best is trial 70 with value: 4.144307145683879.\u001b[0m\n"
          ]
        },
        {
          "name": "stdout",
          "output_type": "stream",
          "text": [
            "Mean Absolute Error :  4.442927967867167\n",
            "R2_score :  0.7496117907131414\n"
          ]
        },
        {
          "name": "stderr",
          "output_type": "stream",
          "text": [
            "C:\\Users\\nshre\\AppData\\Local\\Temp\\ipykernel_12852\\719259616.py:5: FutureWarning: suggest_loguniform has been deprecated in v3.0.0. This feature will be removed in v6.0.0. See https://github.com/optuna/optuna/releases/tag/v3.0.0. Use :func:`~optuna.trial.Trial.suggest_float` instead.\n",
            "  reg_lambda = trial.suggest_loguniform(\"reg_lambda\", 1e-8, 100.0)\n",
            "C:\\Users\\nshre\\AppData\\Local\\Temp\\ipykernel_12852\\719259616.py:6: FutureWarning: suggest_loguniform has been deprecated in v3.0.0. This feature will be removed in v6.0.0. See https://github.com/optuna/optuna/releases/tag/v3.0.0. Use :func:`~optuna.trial.Trial.suggest_float` instead.\n",
            "  reg_alpha = trial.suggest_loguniform(\"reg_alpha\", 1e-8, 100.0)\n",
            "\u001b[32m[I 2023-04-29 15:56:36,924]\u001b[0m Trial 73 finished with value: 4.351794957377905 and parameters: {'learning_rate': 0.06142274043378958, 'reg_lambda': 0.0035207884187649723, 'reg_alpha': 17.913302035804644, 'subsample': 0.7196935931580135, 'colsample_bytree': 0.4655435459146039, 'max_depth': 6, 'n_estimators': 202}. Best is trial 70 with value: 4.144307145683879.\u001b[0m\n"
          ]
        },
        {
          "name": "stdout",
          "output_type": "stream",
          "text": [
            "Mean Absolute Error :  4.351794957377905\n",
            "R2_score :  0.7381589943289952\n"
          ]
        },
        {
          "name": "stderr",
          "output_type": "stream",
          "text": [
            "C:\\Users\\nshre\\AppData\\Local\\Temp\\ipykernel_12852\\719259616.py:5: FutureWarning: suggest_loguniform has been deprecated in v3.0.0. This feature will be removed in v6.0.0. See https://github.com/optuna/optuna/releases/tag/v3.0.0. Use :func:`~optuna.trial.Trial.suggest_float` instead.\n",
            "  reg_lambda = trial.suggest_loguniform(\"reg_lambda\", 1e-8, 100.0)\n",
            "C:\\Users\\nshre\\AppData\\Local\\Temp\\ipykernel_12852\\719259616.py:6: FutureWarning: suggest_loguniform has been deprecated in v3.0.0. This feature will be removed in v6.0.0. See https://github.com/optuna/optuna/releases/tag/v3.0.0. Use :func:`~optuna.trial.Trial.suggest_float` instead.\n",
            "  reg_alpha = trial.suggest_loguniform(\"reg_alpha\", 1e-8, 100.0)\n",
            "\u001b[32m[I 2023-04-29 15:57:18,136]\u001b[0m Trial 74 finished with value: 4.3710426334684955 and parameters: {'learning_rate': 0.06866456407534142, 'reg_lambda': 0.0008568117395720759, 'reg_alpha': 7.755173050362583, 'subsample': 0.7497106171625239, 'colsample_bytree': 0.534105029776069, 'max_depth': 6, 'n_estimators': 347}. Best is trial 70 with value: 4.144307145683879.\u001b[0m\n"
          ]
        },
        {
          "name": "stdout",
          "output_type": "stream",
          "text": [
            "Mean Absolute Error :  4.3710426334684955\n",
            "R2_score :  0.7095465847139789\n"
          ]
        },
        {
          "name": "stderr",
          "output_type": "stream",
          "text": [
            "C:\\Users\\nshre\\AppData\\Local\\Temp\\ipykernel_12852\\719259616.py:5: FutureWarning: suggest_loguniform has been deprecated in v3.0.0. This feature will be removed in v6.0.0. See https://github.com/optuna/optuna/releases/tag/v3.0.0. Use :func:`~optuna.trial.Trial.suggest_float` instead.\n",
            "  reg_lambda = trial.suggest_loguniform(\"reg_lambda\", 1e-8, 100.0)\n",
            "C:\\Users\\nshre\\AppData\\Local\\Temp\\ipykernel_12852\\719259616.py:6: FutureWarning: suggest_loguniform has been deprecated in v3.0.0. This feature will be removed in v6.0.0. See https://github.com/optuna/optuna/releases/tag/v3.0.0. Use :func:`~optuna.trial.Trial.suggest_float` instead.\n",
            "  reg_alpha = trial.suggest_loguniform(\"reg_alpha\", 1e-8, 100.0)\n",
            "\u001b[32m[I 2023-04-29 16:02:32,661]\u001b[0m Trial 75 finished with value: 5.194821686721342 and parameters: {'learning_rate': 0.058996378860857235, 'reg_lambda': 0.00028986400881725116, 'reg_alpha': 3.6244787525150906, 'subsample': 0.7173318377412843, 'colsample_bytree': 0.6126226603703888, 'max_depth': 6, 'n_estimators': 2960}. Best is trial 70 with value: 4.144307145683879.\u001b[0m\n"
          ]
        },
        {
          "name": "stdout",
          "output_type": "stream",
          "text": [
            "Mean Absolute Error :  5.194821686721342\n",
            "R2_score :  0.6597540545776153\n"
          ]
        },
        {
          "name": "stderr",
          "output_type": "stream",
          "text": [
            "C:\\Users\\nshre\\AppData\\Local\\Temp\\ipykernel_12852\\719259616.py:5: FutureWarning: suggest_loguniform has been deprecated in v3.0.0. This feature will be removed in v6.0.0. See https://github.com/optuna/optuna/releases/tag/v3.0.0. Use :func:`~optuna.trial.Trial.suggest_float` instead.\n",
            "  reg_lambda = trial.suggest_loguniform(\"reg_lambda\", 1e-8, 100.0)\n",
            "C:\\Users\\nshre\\AppData\\Local\\Temp\\ipykernel_12852\\719259616.py:6: FutureWarning: suggest_loguniform has been deprecated in v3.0.0. This feature will be removed in v6.0.0. See https://github.com/optuna/optuna/releases/tag/v3.0.0. Use :func:`~optuna.trial.Trial.suggest_float` instead.\n",
            "  reg_alpha = trial.suggest_loguniform(\"reg_alpha\", 1e-8, 100.0)\n",
            "\u001b[32m[I 2023-04-29 16:03:36,643]\u001b[0m Trial 76 finished with value: 4.379539755331345 and parameters: {'learning_rate': 0.06517790066148384, 'reg_lambda': 0.0005686459283779009, 'reg_alpha': 64.84556852625104, 'subsample': 0.6956691489135968, 'colsample_bytree': 0.47933883777638336, 'max_depth': 6, 'n_estimators': 620}. Best is trial 70 with value: 4.144307145683879.\u001b[0m\n"
          ]
        },
        {
          "name": "stdout",
          "output_type": "stream",
          "text": [
            "Mean Absolute Error :  4.379539755331345\n",
            "R2_score :  0.7394218008012313\n"
          ]
        },
        {
          "name": "stderr",
          "output_type": "stream",
          "text": [
            "C:\\Users\\nshre\\AppData\\Local\\Temp\\ipykernel_12852\\719259616.py:5: FutureWarning: suggest_loguniform has been deprecated in v3.0.0. This feature will be removed in v6.0.0. See https://github.com/optuna/optuna/releases/tag/v3.0.0. Use :func:`~optuna.trial.Trial.suggest_float` instead.\n",
            "  reg_lambda = trial.suggest_loguniform(\"reg_lambda\", 1e-8, 100.0)\n",
            "C:\\Users\\nshre\\AppData\\Local\\Temp\\ipykernel_12852\\719259616.py:6: FutureWarning: suggest_loguniform has been deprecated in v3.0.0. This feature will be removed in v6.0.0. See https://github.com/optuna/optuna/releases/tag/v3.0.0. Use :func:`~optuna.trial.Trial.suggest_float` instead.\n",
            "  reg_alpha = trial.suggest_loguniform(\"reg_alpha\", 1e-8, 100.0)\n",
            "\u001b[32m[I 2023-04-29 16:03:53,513]\u001b[0m Trial 77 finished with value: 4.32725933895831 and parameters: {'learning_rate': 0.05443444243009719, 'reg_lambda': 3.931702928280631e-05, 'reg_alpha': 20.462047635324122, 'subsample': 0.7647378430226827, 'colsample_bytree': 0.5596644869359695, 'max_depth': 6, 'n_estimators': 190}. Best is trial 70 with value: 4.144307145683879.\u001b[0m\n"
          ]
        },
        {
          "name": "stdout",
          "output_type": "stream",
          "text": [
            "Mean Absolute Error :  4.32725933895831\n",
            "R2_score :  0.7385981763015244\n"
          ]
        },
        {
          "name": "stderr",
          "output_type": "stream",
          "text": [
            "C:\\Users\\nshre\\AppData\\Local\\Temp\\ipykernel_12852\\719259616.py:5: FutureWarning: suggest_loguniform has been deprecated in v3.0.0. This feature will be removed in v6.0.0. See https://github.com/optuna/optuna/releases/tag/v3.0.0. Use :func:`~optuna.trial.Trial.suggest_float` instead.\n",
            "  reg_lambda = trial.suggest_loguniform(\"reg_lambda\", 1e-8, 100.0)\n",
            "C:\\Users\\nshre\\AppData\\Local\\Temp\\ipykernel_12852\\719259616.py:6: FutureWarning: suggest_loguniform has been deprecated in v3.0.0. This feature will be removed in v6.0.0. See https://github.com/optuna/optuna/releases/tag/v3.0.0. Use :func:`~optuna.trial.Trial.suggest_float` instead.\n",
            "  reg_alpha = trial.suggest_loguniform(\"reg_alpha\", 1e-8, 100.0)\n",
            "\u001b[32m[I 2023-04-29 16:03:58,736]\u001b[0m Trial 78 finished with value: 4.415439169207173 and parameters: {'learning_rate': 0.06659804350711579, 'reg_lambda': 0.011105218071647164, 'reg_alpha': 93.73460808896282, 'subsample': 0.6640237201920987, 'colsample_bytree': 0.541755651027377, 'max_depth': 4, 'n_estimators': 77}. Best is trial 70 with value: 4.144307145683879.\u001b[0m\n"
          ]
        },
        {
          "name": "stdout",
          "output_type": "stream",
          "text": [
            "Mean Absolute Error :  4.415439169207173\n",
            "R2_score :  0.7454738318076641\n"
          ]
        },
        {
          "name": "stderr",
          "output_type": "stream",
          "text": [
            "C:\\Users\\nshre\\AppData\\Local\\Temp\\ipykernel_12852\\719259616.py:5: FutureWarning: suggest_loguniform has been deprecated in v3.0.0. This feature will be removed in v6.0.0. See https://github.com/optuna/optuna/releases/tag/v3.0.0. Use :func:`~optuna.trial.Trial.suggest_float` instead.\n",
            "  reg_lambda = trial.suggest_loguniform(\"reg_lambda\", 1e-8, 100.0)\n",
            "C:\\Users\\nshre\\AppData\\Local\\Temp\\ipykernel_12852\\719259616.py:6: FutureWarning: suggest_loguniform has been deprecated in v3.0.0. This feature will be removed in v6.0.0. See https://github.com/optuna/optuna/releases/tag/v3.0.0. Use :func:`~optuna.trial.Trial.suggest_float` instead.\n",
            "  reg_alpha = trial.suggest_loguniform(\"reg_alpha\", 1e-8, 100.0)\n",
            "\u001b[32m[I 2023-04-29 16:07:34,211]\u001b[0m Trial 79 finished with value: 4.813531152463998 and parameters: {'learning_rate': 0.07035064337196545, 'reg_lambda': 0.0002147660371873115, 'reg_alpha': 1.614675960285272, 'subsample': 0.627188199496903, 'colsample_bytree': 0.4919196737316733, 'max_depth': 6, 'n_estimators': 2451}. Best is trial 70 with value: 4.144307145683879.\u001b[0m\n"
          ]
        },
        {
          "name": "stdout",
          "output_type": "stream",
          "text": [
            "Mean Absolute Error :  4.813531152463998\n",
            "R2_score :  0.7154486232380166\n"
          ]
        },
        {
          "name": "stderr",
          "output_type": "stream",
          "text": [
            "C:\\Users\\nshre\\AppData\\Local\\Temp\\ipykernel_12852\\719259616.py:5: FutureWarning: suggest_loguniform has been deprecated in v3.0.0. This feature will be removed in v6.0.0. See https://github.com/optuna/optuna/releases/tag/v3.0.0. Use :func:`~optuna.trial.Trial.suggest_float` instead.\n",
            "  reg_lambda = trial.suggest_loguniform(\"reg_lambda\", 1e-8, 100.0)\n",
            "C:\\Users\\nshre\\AppData\\Local\\Temp\\ipykernel_12852\\719259616.py:6: FutureWarning: suggest_loguniform has been deprecated in v3.0.0. This feature will be removed in v6.0.0. See https://github.com/optuna/optuna/releases/tag/v3.0.0. Use :func:`~optuna.trial.Trial.suggest_float` instead.\n",
            "  reg_alpha = trial.suggest_loguniform(\"reg_alpha\", 1e-8, 100.0)\n"
          ]
        }
      ],
      "source": [
        "\"\"\"Uncomment for tuning the model\"\"\"\n",
        "import optuna\n",
        "def run(trial):\n",
        "    learning_rate = trial.suggest_float(\"learning_rate\", 1e-3, 0.1)\n",
        "    reg_lambda = trial.suggest_loguniform(\"reg_lambda\", 1e-8, 100.0)\n",
        "    reg_alpha = trial.suggest_loguniform(\"reg_alpha\", 1e-8, 100.0)\n",
        "    subsample = trial.suggest_float(\"subsample\", 0.1, 1.0)\n",
        "    colsample_bytree = trial.suggest_float(\"colsample_bytree\", 0.1, 1.0)\n",
        "    max_depth = trial.suggest_int(\"max_depth\", 3, 6)\n",
        "    n_estimators = trial.suggest_int(\"n_estimators\", 20, 3000)\n",
        "\n",
        "\n",
        "    model = xgb.XGBRegressor(\n",
        "            random_state=42,\n",
        "            objective='reg:squarederror',\n",
        "            n_estimators=n_estimators,\n",
        "            learning_rate=learning_rate,\n",
        "            reg_lambda=reg_lambda,\n",
        "            reg_alpha=reg_alpha,\n",
        "            subsample=subsample,\n",
        "            colsample_bytree=colsample_bytree,\n",
        "            max_depth=max_depth,\n",
        "            eval_metric='mae'\n",
        "        )\n",
        "    model.fit(X_train, y_train)\n",
        "    preds_valid = model.predict(X_test)\n",
        "    mae_ = mean_absolute_error(y_test, preds_valid)\n",
        "    r2_sc = r2_score(y_test, preds_valid)\n",
        "    print(\"Mean Absolute Error : \", mae_)\n",
        "    print(\"R2_score : \", r2_sc)\n",
        "    return mae_\n",
        "\n",
        "study = optuna.create_study(direction=\"minimize\")\n",
        "study.optimize(run, n_trials=100)\n",
        "\n",
        "# study.best_params"
      ]
    },
    {
      "cell_type": "code",
      "execution_count": 1,
      "metadata": {},
      "outputs": [
        {
          "name": "stderr",
          "output_type": "stream",
          "text": [
            "c:\\Users\\nshre\\anaconda3\\envs\\auto_gpt\\lib\\site-packages\\tqdm\\auto.py:21: TqdmWarning: IProgress not found. Please update jupyter and ipywidgets. See https://ipywidgets.readthedocs.io/en/stable/user_install.html\n",
            "  from .autonotebook import tqdm as notebook_tqdm\n",
            "\u001b[32m[I 2023-04-30 20:29:28,143]\u001b[0m A new study created in memory with name: no-name-479de14e-c7bb-45e0-8584-c0aa19e972fd\u001b[0m\n",
            "C:\\Users\\nshre\\AppData\\Local\\Temp\\ipykernel_15036\\4217039969.py:5: FutureWarning: suggest_loguniform has been deprecated in v3.0.0. This feature will be removed in v6.0.0. See https://github.com/optuna/optuna/releases/tag/v3.0.0. Use :func:`~optuna.trial.Trial.suggest_float` instead.\n",
            "  reg_lambda = trial.suggest_loguniform(\"reg_lambda\", 1e-8, 100.0)\n",
            "C:\\Users\\nshre\\AppData\\Local\\Temp\\ipykernel_15036\\4217039969.py:6: FutureWarning: suggest_loguniform has been deprecated in v3.0.0. This feature will be removed in v6.0.0. See https://github.com/optuna/optuna/releases/tag/v3.0.0. Use :func:`~optuna.trial.Trial.suggest_float` instead.\n",
            "  reg_alpha = trial.suggest_loguniform(\"reg_alpha\", 1e-8, 100.0)\n",
            "\u001b[33m[W 2023-04-30 20:29:28,150]\u001b[0m Trial 0 failed with parameters: {'learning_rate': 0.07791084133262398, 'reg_lambda': 0.0007188067232693896, 'reg_alpha': 1.823825918142417e-08, 'subsample': 0.6392031163550392, 'colsample_bytree': 0.8021660748450357, 'max_depth': 5, 'n_estimators': 1277} because of the following error: NameError(\"name 'xgb' is not defined\").\u001b[0m\n",
            "Traceback (most recent call last):\n",
            "  File \"c:\\Users\\nshre\\anaconda3\\envs\\auto_gpt\\lib\\site-packages\\optuna\\study\\_optimize.py\", line 200, in _run_trial\n",
            "    value_or_values = func(trial)\n",
            "  File \"C:\\Users\\nshre\\AppData\\Local\\Temp\\ipykernel_15036\\4217039969.py\", line 13, in run\n",
            "    model = xgb.XGBRegressor(\n",
            "NameError: name 'xgb' is not defined\n",
            "\u001b[33m[W 2023-04-30 20:29:28,152]\u001b[0m Trial 0 failed with value None.\u001b[0m\n"
          ]
        },
        {
          "ename": "NameError",
          "evalue": "name 'xgb' is not defined",
          "output_type": "error",
          "traceback": [
            "\u001b[1;31m---------------------------------------------------------------------------\u001b[0m",
            "\u001b[1;31mNameError\u001b[0m                                 Traceback (most recent call last)",
            "Cell \u001b[1;32mIn[1], line 34\u001b[0m\n\u001b[0;32m     31\u001b[0m     \u001b[39mreturn\u001b[39;00m r2_sc\n\u001b[0;32m     33\u001b[0m study \u001b[39m=\u001b[39m optuna\u001b[39m.\u001b[39mcreate_study(direction\u001b[39m=\u001b[39m\u001b[39m\"\u001b[39m\u001b[39mminimize\u001b[39m\u001b[39m\"\u001b[39m)\n\u001b[1;32m---> 34\u001b[0m study\u001b[39m.\u001b[39;49moptimize(run, n_trials\u001b[39m=\u001b[39;49m\u001b[39m100\u001b[39;49m)\n\u001b[0;32m     36\u001b[0m \u001b[39m# study.best_params\u001b[39;00m\n",
            "File \u001b[1;32mc:\\Users\\nshre\\anaconda3\\envs\\auto_gpt\\lib\\site-packages\\optuna\\study\\study.py:425\u001b[0m, in \u001b[0;36mStudy.optimize\u001b[1;34m(self, func, n_trials, timeout, n_jobs, catch, callbacks, gc_after_trial, show_progress_bar)\u001b[0m\n\u001b[0;32m    321\u001b[0m \u001b[39mdef\u001b[39;00m \u001b[39moptimize\u001b[39m(\n\u001b[0;32m    322\u001b[0m     \u001b[39mself\u001b[39m,\n\u001b[0;32m    323\u001b[0m     func: ObjectiveFuncType,\n\u001b[1;32m   (...)\u001b[0m\n\u001b[0;32m    330\u001b[0m     show_progress_bar: \u001b[39mbool\u001b[39m \u001b[39m=\u001b[39m \u001b[39mFalse\u001b[39;00m,\n\u001b[0;32m    331\u001b[0m ) \u001b[39m-\u001b[39m\u001b[39m>\u001b[39m \u001b[39mNone\u001b[39;00m:\n\u001b[0;32m    332\u001b[0m \u001b[39m    \u001b[39m\u001b[39m\"\"\"Optimize an objective function.\u001b[39;00m\n\u001b[0;32m    333\u001b[0m \n\u001b[0;32m    334\u001b[0m \u001b[39m    Optimization is done by choosing a suitable set of hyperparameter values from a given\u001b[39;00m\n\u001b[1;32m   (...)\u001b[0m\n\u001b[0;32m    422\u001b[0m \u001b[39m            If nested invocation of this method occurs.\u001b[39;00m\n\u001b[0;32m    423\u001b[0m \u001b[39m    \"\"\"\u001b[39;00m\n\u001b[1;32m--> 425\u001b[0m     _optimize(\n\u001b[0;32m    426\u001b[0m         study\u001b[39m=\u001b[39;49m\u001b[39mself\u001b[39;49m,\n\u001b[0;32m    427\u001b[0m         func\u001b[39m=\u001b[39;49mfunc,\n\u001b[0;32m    428\u001b[0m         n_trials\u001b[39m=\u001b[39;49mn_trials,\n\u001b[0;32m    429\u001b[0m         timeout\u001b[39m=\u001b[39;49mtimeout,\n\u001b[0;32m    430\u001b[0m         n_jobs\u001b[39m=\u001b[39;49mn_jobs,\n\u001b[0;32m    431\u001b[0m         catch\u001b[39m=\u001b[39;49m\u001b[39mtuple\u001b[39;49m(catch) \u001b[39mif\u001b[39;49;00m \u001b[39misinstance\u001b[39;49m(catch, Iterable) \u001b[39melse\u001b[39;49;00m (catch,),\n\u001b[0;32m    432\u001b[0m         callbacks\u001b[39m=\u001b[39;49mcallbacks,\n\u001b[0;32m    433\u001b[0m         gc_after_trial\u001b[39m=\u001b[39;49mgc_after_trial,\n\u001b[0;32m    434\u001b[0m         show_progress_bar\u001b[39m=\u001b[39;49mshow_progress_bar,\n\u001b[0;32m    435\u001b[0m     )\n",
            "File \u001b[1;32mc:\\Users\\nshre\\anaconda3\\envs\\auto_gpt\\lib\\site-packages\\optuna\\study\\_optimize.py:66\u001b[0m, in \u001b[0;36m_optimize\u001b[1;34m(study, func, n_trials, timeout, n_jobs, catch, callbacks, gc_after_trial, show_progress_bar)\u001b[0m\n\u001b[0;32m     64\u001b[0m \u001b[39mtry\u001b[39;00m:\n\u001b[0;32m     65\u001b[0m     \u001b[39mif\u001b[39;00m n_jobs \u001b[39m==\u001b[39m \u001b[39m1\u001b[39m:\n\u001b[1;32m---> 66\u001b[0m         _optimize_sequential(\n\u001b[0;32m     67\u001b[0m             study,\n\u001b[0;32m     68\u001b[0m             func,\n\u001b[0;32m     69\u001b[0m             n_trials,\n\u001b[0;32m     70\u001b[0m             timeout,\n\u001b[0;32m     71\u001b[0m             catch,\n\u001b[0;32m     72\u001b[0m             callbacks,\n\u001b[0;32m     73\u001b[0m             gc_after_trial,\n\u001b[0;32m     74\u001b[0m             reseed_sampler_rng\u001b[39m=\u001b[39;49m\u001b[39mFalse\u001b[39;49;00m,\n\u001b[0;32m     75\u001b[0m             time_start\u001b[39m=\u001b[39;49m\u001b[39mNone\u001b[39;49;00m,\n\u001b[0;32m     76\u001b[0m             progress_bar\u001b[39m=\u001b[39;49mprogress_bar,\n\u001b[0;32m     77\u001b[0m         )\n\u001b[0;32m     78\u001b[0m     \u001b[39melse\u001b[39;00m:\n\u001b[0;32m     79\u001b[0m         \u001b[39mif\u001b[39;00m n_jobs \u001b[39m==\u001b[39m \u001b[39m-\u001b[39m\u001b[39m1\u001b[39m:\n",
            "File \u001b[1;32mc:\\Users\\nshre\\anaconda3\\envs\\auto_gpt\\lib\\site-packages\\optuna\\study\\_optimize.py:163\u001b[0m, in \u001b[0;36m_optimize_sequential\u001b[1;34m(study, func, n_trials, timeout, catch, callbacks, gc_after_trial, reseed_sampler_rng, time_start, progress_bar)\u001b[0m\n\u001b[0;32m    160\u001b[0m         \u001b[39mbreak\u001b[39;00m\n\u001b[0;32m    162\u001b[0m \u001b[39mtry\u001b[39;00m:\n\u001b[1;32m--> 163\u001b[0m     frozen_trial \u001b[39m=\u001b[39m _run_trial(study, func, catch)\n\u001b[0;32m    164\u001b[0m \u001b[39mfinally\u001b[39;00m:\n\u001b[0;32m    165\u001b[0m     \u001b[39m# The following line mitigates memory problems that can be occurred in some\u001b[39;00m\n\u001b[0;32m    166\u001b[0m     \u001b[39m# environments (e.g., services that use computing containers such as GitHub Actions).\u001b[39;00m\n\u001b[0;32m    167\u001b[0m     \u001b[39m# Please refer to the following PR for further details:\u001b[39;00m\n\u001b[0;32m    168\u001b[0m     \u001b[39m# https://github.com/optuna/optuna/pull/325.\u001b[39;00m\n\u001b[0;32m    169\u001b[0m     \u001b[39mif\u001b[39;00m gc_after_trial:\n",
            "File \u001b[1;32mc:\\Users\\nshre\\anaconda3\\envs\\auto_gpt\\lib\\site-packages\\optuna\\study\\_optimize.py:251\u001b[0m, in \u001b[0;36m_run_trial\u001b[1;34m(study, func, catch)\u001b[0m\n\u001b[0;32m    244\u001b[0m         \u001b[39massert\u001b[39;00m \u001b[39mFalse\u001b[39;00m, \u001b[39m\"\u001b[39m\u001b[39mShould not reach.\u001b[39m\u001b[39m\"\u001b[39m\n\u001b[0;32m    246\u001b[0m \u001b[39mif\u001b[39;00m (\n\u001b[0;32m    247\u001b[0m     frozen_trial\u001b[39m.\u001b[39mstate \u001b[39m==\u001b[39m TrialState\u001b[39m.\u001b[39mFAIL\n\u001b[0;32m    248\u001b[0m     \u001b[39mand\u001b[39;00m func_err \u001b[39mis\u001b[39;00m \u001b[39mnot\u001b[39;00m \u001b[39mNone\u001b[39;00m\n\u001b[0;32m    249\u001b[0m     \u001b[39mand\u001b[39;00m \u001b[39mnot\u001b[39;00m \u001b[39misinstance\u001b[39m(func_err, catch)\n\u001b[0;32m    250\u001b[0m ):\n\u001b[1;32m--> 251\u001b[0m     \u001b[39mraise\u001b[39;00m func_err\n\u001b[0;32m    252\u001b[0m \u001b[39mreturn\u001b[39;00m frozen_trial\n",
            "File \u001b[1;32mc:\\Users\\nshre\\anaconda3\\envs\\auto_gpt\\lib\\site-packages\\optuna\\study\\_optimize.py:200\u001b[0m, in \u001b[0;36m_run_trial\u001b[1;34m(study, func, catch)\u001b[0m\n\u001b[0;32m    198\u001b[0m \u001b[39mwith\u001b[39;00m get_heartbeat_thread(trial\u001b[39m.\u001b[39m_trial_id, study\u001b[39m.\u001b[39m_storage):\n\u001b[0;32m    199\u001b[0m     \u001b[39mtry\u001b[39;00m:\n\u001b[1;32m--> 200\u001b[0m         value_or_values \u001b[39m=\u001b[39m func(trial)\n\u001b[0;32m    201\u001b[0m     \u001b[39mexcept\u001b[39;00m exceptions\u001b[39m.\u001b[39mTrialPruned \u001b[39mas\u001b[39;00m e:\n\u001b[0;32m    202\u001b[0m         \u001b[39m# TODO(mamu): Handle multi-objective cases.\u001b[39;00m\n\u001b[0;32m    203\u001b[0m         state \u001b[39m=\u001b[39m TrialState\u001b[39m.\u001b[39mPRUNED\n",
            "Cell \u001b[1;32mIn[1], line 13\u001b[0m, in \u001b[0;36mrun\u001b[1;34m(trial)\u001b[0m\n\u001b[0;32m      9\u001b[0m max_depth \u001b[39m=\u001b[39m trial\u001b[39m.\u001b[39msuggest_int(\u001b[39m\"\u001b[39m\u001b[39mmax_depth\u001b[39m\u001b[39m\"\u001b[39m, \u001b[39m3\u001b[39m, \u001b[39m6\u001b[39m)\n\u001b[0;32m     10\u001b[0m n_estimators \u001b[39m=\u001b[39m trial\u001b[39m.\u001b[39msuggest_int(\u001b[39m\"\u001b[39m\u001b[39mn_estimators\u001b[39m\u001b[39m\"\u001b[39m, \u001b[39m20\u001b[39m, \u001b[39m3000\u001b[39m)\n\u001b[1;32m---> 13\u001b[0m model \u001b[39m=\u001b[39m xgb\u001b[39m.\u001b[39mXGBRegressor(\n\u001b[0;32m     14\u001b[0m         random_state\u001b[39m=\u001b[39m\u001b[39m42\u001b[39m,\n\u001b[0;32m     15\u001b[0m         objective\u001b[39m=\u001b[39m\u001b[39m'\u001b[39m\u001b[39mreg:squarederror\u001b[39m\u001b[39m'\u001b[39m,\n\u001b[0;32m     16\u001b[0m         n_estimators\u001b[39m=\u001b[39mn_estimators,\n\u001b[0;32m     17\u001b[0m         learning_rate\u001b[39m=\u001b[39mlearning_rate,\n\u001b[0;32m     18\u001b[0m         reg_lambda\u001b[39m=\u001b[39mreg_lambda,\n\u001b[0;32m     19\u001b[0m         reg_alpha\u001b[39m=\u001b[39mreg_alpha,\n\u001b[0;32m     20\u001b[0m         subsample\u001b[39m=\u001b[39msubsample,\n\u001b[0;32m     21\u001b[0m         colsample_bytree\u001b[39m=\u001b[39mcolsample_bytree,\n\u001b[0;32m     22\u001b[0m         max_depth\u001b[39m=\u001b[39mmax_depth,\n\u001b[0;32m     23\u001b[0m         eval_metric\u001b[39m=\u001b[39m\u001b[39m'\u001b[39m\u001b[39mr2_score\u001b[39m\u001b[39m'\u001b[39m\n\u001b[0;32m     24\u001b[0m     )\n\u001b[0;32m     25\u001b[0m model\u001b[39m.\u001b[39mfit(X_train, y_train)\n\u001b[0;32m     26\u001b[0m preds_valid \u001b[39m=\u001b[39m model\u001b[39m.\u001b[39mpredict(X_test)\n",
            "\u001b[1;31mNameError\u001b[0m: name 'xgb' is not defined"
          ]
        }
      ],
      "source": [
        "\"\"\"Uncomment for tuning the model\"\"\"\n",
        "import optuna\n",
        "def run(trial):\n",
        "    learning_rate = trial.suggest_float(\"learning_rate\", 1e-3, 0.1)\n",
        "    reg_lambda = trial.suggest_loguniform(\"reg_lambda\", 1e-8, 100.0)\n",
        "    reg_alpha = trial.suggest_loguniform(\"reg_alpha\", 1e-8, 100.0)\n",
        "    subsample = trial.suggest_float(\"subsample\", 0.1, 1.0)\n",
        "    colsample_bytree = trial.suggest_float(\"colsample_bytree\", 0.1, 1.0)\n",
        "    max_depth = trial.suggest_int(\"max_depth\", 3, 6)\n",
        "    n_estimators = trial.suggest_int(\"n_estimators\", 20, 3000)\n",
        "\n",
        "\n",
        "    model = xgb.XGBRegressor(\n",
        "            random_state=42,\n",
        "            objective='reg:squarederror',\n",
        "            n_estimators=n_estimators,\n",
        "            learning_rate=learning_rate,\n",
        "            reg_lambda=reg_lambda,\n",
        "            reg_alpha=reg_alpha,\n",
        "            subsample=subsample,\n",
        "            colsample_bytree=colsample_bytree,\n",
        "            max_depth=max_depth,\n",
        "            eval_metric='r2_score'\n",
        "        )\n",
        "    model.fit(X_train, y_train)\n",
        "    preds_valid = model.predict(X_test)\n",
        "    mae_ = mean_absolute_error(y_test, preds_valid)\n",
        "    r2_sc = r2_score(y_test, preds_valid)\n",
        "    print(\"Mean Absolute Error : \", mae_)\n",
        "    print(\"R2_score : \", r2_sc)\n",
        "    return r2_sc\n",
        "\n",
        "study = optuna.create_study(direction=\"minimize\")\n",
        "study.optimize(run, n_trials=100)\n",
        "\n",
        "# study.best_params"
      ]
    },
    {
      "cell_type": "code",
      "execution_count": null,
      "metadata": {},
      "outputs": [],
      "source": []
    }
  ],
  "metadata": {
    "colab": {
      "provenance": []
    },
    "kernelspec": {
      "display_name": "Python 3",
      "name": "python3"
    },
    "language_info": {
      "codemirror_mode": {
        "name": "ipython",
        "version": 3
      },
      "file_extension": ".py",
      "mimetype": "text/x-python",
      "name": "python",
      "nbconvert_exporter": "python",
      "pygments_lexer": "ipython3",
      "version": "3.10.10"
    }
  },
  "nbformat": 4,
  "nbformat_minor": 0
}
