{
  "cells": [
    {
      "cell_type": "markdown",
      "metadata": {
        "id": "C6kTzh9TXOOs"
      },
      "source": [
        "## Fine tune multilingual BERT"
      ]
    },
    {
      "cell_type": "markdown",
      "metadata": {
        "id": "oPrD60JGFxde"
      },
      "source": [
        "In this notebook, we will build a sentiment classification by fine tuning pre-trained multilingual BERT from HuggingFace"
      ]
    },
    {
      "cell_type": "markdown",
      "metadata": {
        "id": "K91RK3qZY6sR"
      },
      "source": [
        "**Load the packages**"
      ]
    },
    {
      "cell_type": "code",
      "execution_count": null,
      "metadata": {
        "colab": {
          "base_uri": "https://localhost:8080/"
        },
        "id": "TpzWfgrdRMUt",
        "outputId": "8231c865-435d-46cc-99cb-03608e8ca9f0"
      },
      "outputs": [
        {
          "output_type": "stream",
          "name": "stdout",
          "text": [
            "Looking in indexes: https://pypi.org/simple, https://us-python.pkg.dev/colab-wheels/public/simple/\n",
            "Collecting ktrain\n",
            "  Downloading ktrain-0.36.0.tar.gz (25.3 MB)\n",
            "\u001b[2K     \u001b[90m━━━━━━━━━━━━━━━━━━━━━━━━━━━━━━━━━━━━━━━━\u001b[0m \u001b[32m25.3/25.3 MB\u001b[0m \u001b[31m32.2 MB/s\u001b[0m eta \u001b[36m0:00:00\u001b[0m\n",
            "\u001b[?25h  Preparing metadata (setup.py) ... \u001b[?25l\u001b[?25hdone\n",
            "Requirement already satisfied: scikit-learn in /usr/local/lib/python3.10/dist-packages (from ktrain) (1.2.2)\n",
            "Requirement already satisfied: matplotlib>=3.0.0 in /usr/local/lib/python3.10/dist-packages (from ktrain) (3.7.1)\n",
            "Requirement already satisfied: pandas>=1.0.1 in /usr/local/lib/python3.10/dist-packages (from ktrain) (1.5.3)\n",
            "Requirement already satisfied: fastprogress>=0.1.21 in /usr/local/lib/python3.10/dist-packages (from ktrain) (1.0.3)\n",
            "Requirement already satisfied: requests in /usr/local/lib/python3.10/dist-packages (from ktrain) (2.27.1)\n",
            "Requirement already satisfied: joblib in /usr/local/lib/python3.10/dist-packages (from ktrain) (1.2.0)\n",
            "Requirement already satisfied: packaging in /usr/local/lib/python3.10/dist-packages (from ktrain) (23.1)\n",
            "Collecting langdetect (from ktrain)\n",
            "  Downloading langdetect-1.0.9.tar.gz (981 kB)\n",
            "\u001b[2K     \u001b[90m━━━━━━━━━━━━━━━━━━━━━━━━━━━━━━━━━━━━━━\u001b[0m \u001b[32m981.5/981.5 kB\u001b[0m \u001b[31m39.5 MB/s\u001b[0m eta \u001b[36m0:00:00\u001b[0m\n",
            "\u001b[?25h  Preparing metadata (setup.py) ... \u001b[?25l\u001b[?25hdone\n",
            "Requirement already satisfied: jieba in /usr/local/lib/python3.10/dist-packages (from ktrain) (0.42.1)\n",
            "Collecting cchardet (from ktrain)\n",
            "  Downloading cchardet-2.1.7.tar.gz (653 kB)\n",
            "\u001b[2K     \u001b[90m━━━━━━━━━━━━━━━━━━━━━━━━━━━━━━━━━━━━━━\u001b[0m \u001b[32m653.6/653.6 kB\u001b[0m \u001b[31m48.5 MB/s\u001b[0m eta \u001b[36m0:00:00\u001b[0m\n",
            "\u001b[?25h  Preparing metadata (setup.py) ... \u001b[?25l\u001b[?25hdone\n",
            "Requirement already satisfied: chardet in /usr/local/lib/python3.10/dist-packages (from ktrain) (4.0.0)\n",
            "Collecting syntok>1.3.3 (from ktrain)\n",
            "  Downloading syntok-1.4.4-py3-none-any.whl (24 kB)\n",
            "Collecting tika (from ktrain)\n",
            "  Downloading tika-2.6.0.tar.gz (27 kB)\n",
            "  Preparing metadata (setup.py) ... \u001b[?25l\u001b[?25hdone\n",
            "Collecting transformers>=4.17.0 (from ktrain)\n",
            "  Downloading transformers-4.28.1-py3-none-any.whl (7.0 MB)\n",
            "\u001b[2K     \u001b[90m━━━━━━━━━━━━━━━━━━━━━━━━━━━━━━━━━━━━━━━━\u001b[0m \u001b[32m7.0/7.0 MB\u001b[0m \u001b[31m47.1 MB/s\u001b[0m eta \u001b[36m0:00:00\u001b[0m\n",
            "\u001b[?25hCollecting sentencepiece (from ktrain)\n",
            "  Downloading sentencepiece-0.1.98-cp310-cp310-manylinux_2_17_x86_64.manylinux2014_x86_64.whl (1.3 MB)\n",
            "\u001b[2K     \u001b[90m━━━━━━━━━━━━━━━━━━━━━━━━━━━━━━━━━━━━━━━━\u001b[0m \u001b[32m1.3/1.3 MB\u001b[0m \u001b[31m60.4 MB/s\u001b[0m eta \u001b[36m0:00:00\u001b[0m\n",
            "\u001b[?25hCollecting keras_bert>=0.86.0 (from ktrain)\n",
            "  Downloading keras-bert-0.89.0.tar.gz (25 kB)\n",
            "  Preparing metadata (setup.py) ... \u001b[?25l\u001b[?25hdone\n",
            "Collecting whoosh (from ktrain)\n",
            "  Downloading Whoosh-2.7.4-py2.py3-none-any.whl (468 kB)\n",
            "\u001b[2K     \u001b[90m━━━━━━━━━━━━━━━━━━━━━━━━━━━━━━━━━━━━━━\u001b[0m \u001b[32m468.8/468.8 kB\u001b[0m \u001b[31m41.3 MB/s\u001b[0m eta \u001b[36m0:00:00\u001b[0m\n",
            "\u001b[?25hRequirement already satisfied: numpy in /usr/local/lib/python3.10/dist-packages (from keras_bert>=0.86.0->ktrain) (1.22.4)\n",
            "Collecting keras-transformer==0.40.0 (from keras_bert>=0.86.0->ktrain)\n",
            "  Downloading keras-transformer-0.40.0.tar.gz (9.7 kB)\n",
            "  Preparing metadata (setup.py) ... \u001b[?25l\u001b[?25hdone\n",
            "Collecting keras-pos-embd==0.13.0 (from keras-transformer==0.40.0->keras_bert>=0.86.0->ktrain)\n",
            "  Downloading keras-pos-embd-0.13.0.tar.gz (5.6 kB)\n",
            "  Preparing metadata (setup.py) ... \u001b[?25l\u001b[?25hdone\n",
            "Collecting keras-multi-head==0.29.0 (from keras-transformer==0.40.0->keras_bert>=0.86.0->ktrain)\n",
            "  Downloading keras-multi-head-0.29.0.tar.gz (13 kB)\n",
            "  Preparing metadata (setup.py) ... \u001b[?25l\u001b[?25hdone\n",
            "Collecting keras-layer-normalization==0.16.0 (from keras-transformer==0.40.0->keras_bert>=0.86.0->ktrain)\n",
            "  Downloading keras-layer-normalization-0.16.0.tar.gz (3.9 kB)\n",
            "  Preparing metadata (setup.py) ... \u001b[?25l\u001b[?25hdone\n",
            "Collecting keras-position-wise-feed-forward==0.8.0 (from keras-transformer==0.40.0->keras_bert>=0.86.0->ktrain)\n",
            "  Downloading keras-position-wise-feed-forward-0.8.0.tar.gz (4.1 kB)\n",
            "  Preparing metadata (setup.py) ... \u001b[?25l\u001b[?25hdone\n",
            "Collecting keras-embed-sim==0.10.0 (from keras-transformer==0.40.0->keras_bert>=0.86.0->ktrain)\n",
            "  Downloading keras-embed-sim-0.10.0.tar.gz (3.6 kB)\n",
            "  Preparing metadata (setup.py) ... \u001b[?25l\u001b[?25hdone\n",
            "Collecting keras-self-attention==0.51.0 (from keras-multi-head==0.29.0->keras-transformer==0.40.0->keras_bert>=0.86.0->ktrain)\n",
            "  Downloading keras-self-attention-0.51.0.tar.gz (11 kB)\n",
            "  Preparing metadata (setup.py) ... \u001b[?25l\u001b[?25hdone\n",
            "Requirement already satisfied: contourpy>=1.0.1 in /usr/local/lib/python3.10/dist-packages (from matplotlib>=3.0.0->ktrain) (1.0.7)\n",
            "Requirement already satisfied: cycler>=0.10 in /usr/local/lib/python3.10/dist-packages (from matplotlib>=3.0.0->ktrain) (0.11.0)\n",
            "Requirement already satisfied: fonttools>=4.22.0 in /usr/local/lib/python3.10/dist-packages (from matplotlib>=3.0.0->ktrain) (4.39.3)\n",
            "Requirement already satisfied: kiwisolver>=1.0.1 in /usr/local/lib/python3.10/dist-packages (from matplotlib>=3.0.0->ktrain) (1.4.4)\n",
            "Requirement already satisfied: pillow>=6.2.0 in /usr/local/lib/python3.10/dist-packages (from matplotlib>=3.0.0->ktrain) (8.4.0)\n",
            "Requirement already satisfied: pyparsing>=2.3.1 in /usr/local/lib/python3.10/dist-packages (from matplotlib>=3.0.0->ktrain) (3.0.9)\n",
            "Requirement already satisfied: python-dateutil>=2.7 in /usr/local/lib/python3.10/dist-packages (from matplotlib>=3.0.0->ktrain) (2.8.2)\n",
            "Requirement already satisfied: pytz>=2020.1 in /usr/local/lib/python3.10/dist-packages (from pandas>=1.0.1->ktrain) (2022.7.1)\n",
            "Requirement already satisfied: regex>2016 in /usr/local/lib/python3.10/dist-packages (from syntok>1.3.3->ktrain) (2022.10.31)\n",
            "Requirement already satisfied: filelock in /usr/local/lib/python3.10/dist-packages (from transformers>=4.17.0->ktrain) (3.12.0)\n",
            "Collecting huggingface-hub<1.0,>=0.11.0 (from transformers>=4.17.0->ktrain)\n",
            "  Downloading huggingface_hub-0.14.1-py3-none-any.whl (224 kB)\n",
            "\u001b[2K     \u001b[90m━━━━━━━━━━━━━━━━━━━━━━━━━━━━━━━━━━━━━━\u001b[0m \u001b[32m224.5/224.5 kB\u001b[0m \u001b[31m27.1 MB/s\u001b[0m eta \u001b[36m0:00:00\u001b[0m\n",
            "\u001b[?25hRequirement already satisfied: pyyaml>=5.1 in /usr/local/lib/python3.10/dist-packages (from transformers>=4.17.0->ktrain) (6.0)\n",
            "Collecting tokenizers!=0.11.3,<0.14,>=0.11.1 (from transformers>=4.17.0->ktrain)\n",
            "  Downloading tokenizers-0.13.3-cp310-cp310-manylinux_2_17_x86_64.manylinux2014_x86_64.whl (7.8 MB)\n",
            "\u001b[2K     \u001b[90m━━━━━━━━━━━━━━━━━━━━━━━━━━━━━━━━━━━━━━━━\u001b[0m \u001b[32m7.8/7.8 MB\u001b[0m \u001b[31m117.4 MB/s\u001b[0m eta \u001b[36m0:00:00\u001b[0m\n",
            "\u001b[?25hRequirement already satisfied: tqdm>=4.27 in /usr/local/lib/python3.10/dist-packages (from transformers>=4.17.0->ktrain) (4.65.0)\n",
            "Requirement already satisfied: six in /usr/local/lib/python3.10/dist-packages (from langdetect->ktrain) (1.16.0)\n",
            "Requirement already satisfied: urllib3<1.27,>=1.21.1 in /usr/local/lib/python3.10/dist-packages (from requests->ktrain) (1.26.15)\n",
            "Requirement already satisfied: certifi>=2017.4.17 in /usr/local/lib/python3.10/dist-packages (from requests->ktrain) (2022.12.7)\n",
            "Requirement already satisfied: charset-normalizer~=2.0.0 in /usr/local/lib/python3.10/dist-packages (from requests->ktrain) (2.0.12)\n",
            "Requirement already satisfied: idna<4,>=2.5 in /usr/local/lib/python3.10/dist-packages (from requests->ktrain) (3.4)\n",
            "Requirement already satisfied: scipy>=1.3.2 in /usr/local/lib/python3.10/dist-packages (from scikit-learn->ktrain) (1.10.1)\n",
            "Requirement already satisfied: threadpoolctl>=2.0.0 in /usr/local/lib/python3.10/dist-packages (from scikit-learn->ktrain) (3.1.0)\n",
            "Requirement already satisfied: setuptools in /usr/local/lib/python3.10/dist-packages (from tika->ktrain) (67.7.2)\n",
            "Requirement already satisfied: fsspec in /usr/local/lib/python3.10/dist-packages (from huggingface-hub<1.0,>=0.11.0->transformers>=4.17.0->ktrain) (2023.4.0)\n",
            "Requirement already satisfied: typing-extensions>=3.7.4.3 in /usr/local/lib/python3.10/dist-packages (from huggingface-hub<1.0,>=0.11.0->transformers>=4.17.0->ktrain) (4.5.0)\n",
            "Building wheels for collected packages: ktrain, keras_bert, keras-transformer, keras-embed-sim, keras-layer-normalization, keras-multi-head, keras-pos-embd, keras-position-wise-feed-forward, keras-self-attention, cchardet, langdetect, tika\n",
            "  Building wheel for ktrain (setup.py) ... \u001b[?25l\u001b[?25hdone\n",
            "  Created wheel for ktrain: filename=ktrain-0.36.0-py3-none-any.whl size=25317525 sha256=6d4a4eac1039bc9dd0f1333c3bfa7d91a3c9a909baff1c1a4710b1a214e9205d\n",
            "  Stored in directory: /root/.cache/pip/wheels/cd/05/03/a539d528fa2c1c6722a241f30f2b649fa2590c4b0324a6b058\n",
            "  Building wheel for keras_bert (setup.py) ... \u001b[?25l\u001b[?25hdone\n",
            "  Created wheel for keras_bert: filename=keras_bert-0.89.0-py3-none-any.whl size=33517 sha256=1687e4263334651aeacbf4e2757c2f683e2555be8479a255f8a0680c4f4c62dc\n",
            "  Stored in directory: /root/.cache/pip/wheels/89/0c/04/646b6fdf6375911b42c8d540a8a3fda8d5d77634e5dcbe7b26\n",
            "  Building wheel for keras-transformer (setup.py) ... \u001b[?25l\u001b[?25hdone\n",
            "  Created wheel for keras-transformer: filename=keras_transformer-0.40.0-py3-none-any.whl size=12303 sha256=917df598bea4ffa8261eaebf1b3df6ab30ef72ea9b933a0a0a518b77514a065b\n",
            "  Stored in directory: /root/.cache/pip/wheels/f2/cb/22/75a0ad376129177f7c95c0d91331a18f5368fd657f4035ba7c\n",
            "  Building wheel for keras-embed-sim (setup.py) ... \u001b[?25l\u001b[?25hdone\n",
            "  Created wheel for keras-embed-sim: filename=keras_embed_sim-0.10.0-py3-none-any.whl size=3959 sha256=5d249a82ef8fdaecf26db97b57f24caa093939ec5971c1b39d7f8ce3a47864fb\n",
            "  Stored in directory: /root/.cache/pip/wheels/82/32/c7/fd35d0d1b840a6c7cbd4343f808d10d0f7b87d271a4dbe796f\n",
            "  Building wheel for keras-layer-normalization (setup.py) ... \u001b[?25l\u001b[?25hdone\n",
            "  Created wheel for keras-layer-normalization: filename=keras_layer_normalization-0.16.0-py3-none-any.whl size=4666 sha256=a2324a14a7e3c81a38949aa076ef7ef55069a9e753295c7c2e54cb0c54004bd5\n",
            "  Stored in directory: /root/.cache/pip/wheels/ed/3a/4b/21db23c0cc56c4b219616e181f258eb7c57d36cc5d056fae9a\n",
            "  Building wheel for keras-multi-head (setup.py) ... \u001b[?25l\u001b[?25hdone\n",
            "  Created wheel for keras-multi-head: filename=keras_multi_head-0.29.0-py3-none-any.whl size=14992 sha256=adfc8fbe58a036be37402e21ac592036f82c3cef9b292822743acb83ea3cef2c\n",
            "  Stored in directory: /root/.cache/pip/wheels/cb/23/4b/06d7ae21714f70fcc25b48f972cc8e5e7f4b6b764a038b509d\n",
            "  Building wheel for keras-pos-embd (setup.py) ... \u001b[?25l\u001b[?25hdone\n",
            "  Created wheel for keras-pos-embd: filename=keras_pos_embd-0.13.0-py3-none-any.whl size=6958 sha256=3df6773f26b27799b665463b99a8d7c1de5cec104224885fcee86fec62087586\n",
            "  Stored in directory: /root/.cache/pip/wheels/78/07/1b/b1ca47b6ac338554b75c8f52c54e6a2bfbe1b07d79579979a4\n",
            "  Building wheel for keras-position-wise-feed-forward (setup.py) ... \u001b[?25l\u001b[?25hdone\n",
            "  Created wheel for keras-position-wise-feed-forward: filename=keras_position_wise_feed_forward-0.8.0-py3-none-any.whl size=4983 sha256=4d13a0c0d2a37c3e0f35e501546c7718a67a4764e338efe919908c2c299caa7c\n",
            "  Stored in directory: /root/.cache/pip/wheels/c1/6a/04/d1706a53b23b2cb5f9a0a76269bf87925daa1bca09eac01b21\n",
            "  Building wheel for keras-self-attention (setup.py) ... \u001b[?25l\u001b[?25hdone\n",
            "  Created wheel for keras-self-attention: filename=keras_self_attention-0.51.0-py3-none-any.whl size=18910 sha256=eceb9eb0f32f7b1d14d4eca6619a7ab93dc29604bc87f453c4990444eca68c12\n",
            "  Stored in directory: /root/.cache/pip/wheels/b8/f7/24/607b483144fb9c47b4ba2c5fba6b68e54aeee2d5bf6c05302e\n",
            "  Building wheel for cchardet (setup.py) ... \u001b[?25l\u001b[?25hdone\n",
            "  Created wheel for cchardet: filename=cchardet-2.1.7-cp310-cp310-linux_x86_64.whl size=261631 sha256=8eb812ebea7ed2a6f51d47293573a2687cdff1b5bf8aa1d4b414d189822fd9e4\n",
            "  Stored in directory: /root/.cache/pip/wheels/ee/e0/ab/e01326f15c59438d080b1496dbab8091e952ec72f35e3c437e\n",
            "  Building wheel for langdetect (setup.py) ... \u001b[?25l\u001b[?25hdone\n",
            "  Created wheel for langdetect: filename=langdetect-1.0.9-py3-none-any.whl size=993243 sha256=7429ac3871b8b3972fabd33bd20c2e06626fd4bd2e5e5a6936983f2039ff3396\n",
            "  Stored in directory: /root/.cache/pip/wheels/95/03/7d/59ea870c70ce4e5a370638b5462a7711ab78fba2f655d05106\n",
            "  Building wheel for tika (setup.py) ... \u001b[?25l\u001b[?25hdone\n",
            "  Created wheel for tika: filename=tika-2.6.0-py3-none-any.whl size=32641 sha256=dccf0bb3f61ca887d588f7e095c7c958faf0ce56de495206f35a93893b99fc2a\n",
            "  Stored in directory: /root/.cache/pip/wheels/5f/71/c7/b757709531121b1700cffda5b6b0d4aad095fb507ec84316d0\n",
            "Successfully built ktrain keras_bert keras-transformer keras-embed-sim keras-layer-normalization keras-multi-head keras-pos-embd keras-position-wise-feed-forward keras-self-attention cchardet langdetect tika\n",
            "Installing collected packages: whoosh, tokenizers, sentencepiece, cchardet, syntok, langdetect, keras-self-attention, keras-position-wise-feed-forward, keras-pos-embd, keras-layer-normalization, keras-embed-sim, tika, keras-multi-head, huggingface-hub, transformers, keras-transformer, keras_bert, ktrain\n",
            "Successfully installed cchardet-2.1.7 huggingface-hub-0.14.1 keras-embed-sim-0.10.0 keras-layer-normalization-0.16.0 keras-multi-head-0.29.0 keras-pos-embd-0.13.0 keras-position-wise-feed-forward-0.8.0 keras-self-attention-0.51.0 keras-transformer-0.40.0 keras_bert-0.89.0 ktrain-0.36.0 langdetect-1.0.9 sentencepiece-0.1.98 syntok-1.4.4 tika-2.6.0 tokenizers-0.13.3 transformers-4.28.1 whoosh-2.7.4\n"
          ]
        }
      ],
      "source": [
        "!pip install ktrain"
      ]
    },
    {
      "cell_type": "code",
      "execution_count": null,
      "metadata": {
        "id": "mWNTWUzPz-gd"
      },
      "outputs": [],
      "source": [
        "# from google.colab import drive\n",
        "# drive.mount('/content/drive')"
      ]
    },
    {
      "cell_type": "code",
      "execution_count": null,
      "metadata": {
        "id": "cgKGymYmkfn6"
      },
      "outputs": [],
      "source": [
        "# Importing libraries\n",
        "import pandas as pd\n",
        "import numpy as np\n",
        "import ktrain\n",
        "import tensorflow as tf\n",
        "from ktrain import text\n",
        "from sklearn.model_selection import train_test_split"
      ]
    },
    {
      "cell_type": "code",
      "execution_count": null,
      "metadata": {
        "colab": {
          "base_uri": "https://localhost:8080/"
        },
        "id": "HOoOeskCXE60",
        "outputId": "b411c395-0d89-4629-f5fc-23a03352c1ff"
      },
      "outputs": [
        {
          "output_type": "stream",
          "name": "stdout",
          "text": [
            "--2023-05-02 00:57:12--  https://raw.githubusercontent.com/snikhil17/nodes2021_kg_workshop/main/recleaned-reannotated%20(1).csv\n",
            "Resolving raw.githubusercontent.com (raw.githubusercontent.com)... 185.199.108.133, 185.199.109.133, 185.199.110.133, ...\n",
            "Connecting to raw.githubusercontent.com (raw.githubusercontent.com)|185.199.108.133|:443... connected.\n",
            "HTTP request sent, awaiting response... 200 OK\n",
            "Length: 10299714 (9.8M) [text/plain]\n",
            "Saving to: ‘recleaned-reannotated (1).csv’\n",
            "\n",
            "recleaned-reannotat 100%[===================>]   9.82M  --.-KB/s    in 0.1s    \n",
            "\n",
            "2023-05-02 00:57:12 (96.6 MB/s) - ‘recleaned-reannotated (1).csv’ saved [10299714/10299714]\n",
            "\n"
          ]
        }
      ],
      "source": [
        "\n",
        "!wget \"https://raw.githubusercontent.com/snikhil17/nodes2021_kg_workshop/main/recleaned-reannotated%20(1).csv\""
      ]
    },
    {
      "cell_type": "markdown",
      "metadata": {
        "id": "jankHORFY_av"
      },
      "source": [
        "**Load the data**"
      ]
    },
    {
      "cell_type": "code",
      "execution_count": null,
      "metadata": {
        "colab": {
          "base_uri": "https://localhost:8080/",
          "height": 814
        },
        "id": "QsdinknLvooO",
        "outputId": "e2632284-42bf-4b33-c9ac-a1ac25790ca0"
      },
      "outputs": [
        {
          "output_type": "execute_result",
          "data": {
            "text/plain": [
              "                 date  platform  \\\n",
              "0             00:00.0  Facebook   \n",
              "1             00:00.0  Facebook   \n",
              "2             00:00.0  Facebook   \n",
              "3             00:00.0  Facebook   \n",
              "4             00:00.0  Facebook   \n",
              "...               ...       ...   \n",
              "6295  16/01/2023 0:00  Facebook   \n",
              "6296  30/06/2021 0:00  Facebook   \n",
              "6297  28/07/2021 0:00  Facebook   \n",
              "6298  09/10/2022 0:00  Facebook   \n",
              "6299  21/07/2021 0:00  Facebook   \n",
              "\n",
              "                                                   text  \\\n",
              "0     With immense pride, CHED Regional Office VI pr...   \n",
              "1     Have recieved my allowance for SY 2021-2022 se...   \n",
              "2     Wala parin mga pare at mareÃ°Å¸Ëœâ€šÃ°Å¸Ëœâ€š\\...   \n",
              "3     \"I am the eldest daughter in a family of seven...   \n",
              "4     Thank you UniFast for this wonderful opportuni...   \n",
              "...                                                 ...   \n",
              "6295  TES Update #293\\n\\nMay naka-abang na biyaya sa...   \n",
              "6296  Magandang araw po Ma'am/Sir,itatanong ko lang ...   \n",
              "6297  May matatanggap po bang TES ang mga new grante...   \n",
              "6298  \"Nagpakasal ako noong ako'y 18 taong gulang at...   \n",
              "6299        Happening Live at Cotabato State University   \n",
              "\n",
              "                                           cleaned_text  \\\n",
              "0     with immense pride ched regional office vi pre...   \n",
              "1     have recieved my allowance for sy second semes...   \n",
              "2     wala parin mga pare at mare malapit na talaga ...   \n",
              "3     i am the eldest daughter in a family of seven ...   \n",
              "4     thank you unifast for this wonderful opportuni...   \n",
              "...                                                 ...   \n",
              "6295  tes update may naka abang na biyaya sa mimarop...   \n",
              "6296  magandang araw po ma am sir itatanong ko lang ...   \n",
              "6297  may matatanggap po bang tes ang mga new grante...   \n",
              "6298  nagpakasal ako noong ako y taong gulang at han...   \n",
              "6299        happening live at cotabato state university   \n",
              "\n",
              "                                                 tokens  \\\n",
              "0     ['with', 'immense', 'pride', 'ched', 'regional...   \n",
              "1     ['have', 'recieved', 'my', 'allowance', 'for',...   \n",
              "2     ['wala', 'parin', 'mga', 'pare', 'at', 'mare',...   \n",
              "3     ['i', 'am', 'the', 'eldest', 'daughter', 'in',...   \n",
              "4     ['thank', 'you', 'unifast', 'for', 'this', 'wo...   \n",
              "...                                                 ...   \n",
              "6295  ['tes', 'update', 'may', 'naka', 'abang', 'na'...   \n",
              "6296  ['magandang', 'araw', 'po', 'ma', 'am', 'sir',...   \n",
              "6297  ['may', 'matatanggap', 'po', 'bang', 'tes', 'a...   \n",
              "6298  ['nagpakasal', 'ako', 'noong', 'ako', 'y', 'ta...   \n",
              "6299  ['happening', 'live', 'at', 'cotabato', 'state...   \n",
              "\n",
              "                                            x_stopwords  \\\n",
              "0     ['immense', 'pride', 'regional', 'office', 'vi...   \n",
              "1     ['recieved', 'allowance', 'sy', 'second', 'sem...   \n",
              "2     ['wala', 'parin', 'pare', 'mare', 'malapit', '...   \n",
              "3     ['eldest', 'daughter', 'family', 'seven', 'fat...   \n",
              "4     ['thank', 'wonderful', 'opportunity', 'given',...   \n",
              "...                                                 ...   \n",
              "6295  ['update', 'naka', 'abang', 'biyaya', 'mimarop...   \n",
              "6296  ['magandang', 'araw', 'itatanong', 'sana', 'up...   \n",
              "6297  ['matatanggap', 'bang', 'new', 'grantees', 'co...   \n",
              "6298  ['nagpakasal', 'noong', 'taong', 'gulang', 'rd...   \n",
              "6299  ['happening', 'live', 'cotabato', 'state', 'un...   \n",
              "\n",
              "                                              x_cleaned  sentiment  \n",
              "0     immense pride regional office vi presents entr...          2  \n",
              "1     recieved allowance sy second semester thank mu...          2  \n",
              "2     wala parin pare mare malapit iilan nalang nati...          1  \n",
              "3     eldest daughter family seven father one workin...          2  \n",
              "4     thank wonderful opportunity given us help us m...          2  \n",
              "...                                                 ...        ...  \n",
              "6295  update naka abang biyaya mimaropa marked safe ...          0  \n",
              "6296  magandang araw itatanong sana update kagaya pw...          2  \n",
              "6297  matatanggap bang new grantees continuing grant...          2  \n",
              "6298  nagpakasal noong taong gulang rd year high sch...          0  \n",
              "6299           happening live cotabato state university          0  \n",
              "\n",
              "[6300 rows x 8 columns]"
            ],
            "text/html": [
              "\n",
              "  <div id=\"df-effae3e9-e7fd-4534-b359-3ec40b4a1020\">\n",
              "    <div class=\"colab-df-container\">\n",
              "      <div>\n",
              "<style scoped>\n",
              "    .dataframe tbody tr th:only-of-type {\n",
              "        vertical-align: middle;\n",
              "    }\n",
              "\n",
              "    .dataframe tbody tr th {\n",
              "        vertical-align: top;\n",
              "    }\n",
              "\n",
              "    .dataframe thead th {\n",
              "        text-align: right;\n",
              "    }\n",
              "</style>\n",
              "<table border=\"1\" class=\"dataframe\">\n",
              "  <thead>\n",
              "    <tr style=\"text-align: right;\">\n",
              "      <th></th>\n",
              "      <th>date</th>\n",
              "      <th>platform</th>\n",
              "      <th>text</th>\n",
              "      <th>cleaned_text</th>\n",
              "      <th>tokens</th>\n",
              "      <th>x_stopwords</th>\n",
              "      <th>x_cleaned</th>\n",
              "      <th>sentiment</th>\n",
              "    </tr>\n",
              "  </thead>\n",
              "  <tbody>\n",
              "    <tr>\n",
              "      <th>0</th>\n",
              "      <td>00:00.0</td>\n",
              "      <td>Facebook</td>\n",
              "      <td>With immense pride, CHED Regional Office VI pr...</td>\n",
              "      <td>with immense pride ched regional office vi pre...</td>\n",
              "      <td>['with', 'immense', 'pride', 'ched', 'regional...</td>\n",
              "      <td>['immense', 'pride', 'regional', 'office', 'vi...</td>\n",
              "      <td>immense pride regional office vi presents entr...</td>\n",
              "      <td>2</td>\n",
              "    </tr>\n",
              "    <tr>\n",
              "      <th>1</th>\n",
              "      <td>00:00.0</td>\n",
              "      <td>Facebook</td>\n",
              "      <td>Have recieved my allowance for SY 2021-2022 se...</td>\n",
              "      <td>have recieved my allowance for sy second semes...</td>\n",
              "      <td>['have', 'recieved', 'my', 'allowance', 'for',...</td>\n",
              "      <td>['recieved', 'allowance', 'sy', 'second', 'sem...</td>\n",
              "      <td>recieved allowance sy second semester thank mu...</td>\n",
              "      <td>2</td>\n",
              "    </tr>\n",
              "    <tr>\n",
              "      <th>2</th>\n",
              "      <td>00:00.0</td>\n",
              "      <td>Facebook</td>\n",
              "      <td>Wala parin mga pare at mareÃ°Å¸Ëœâ€šÃ°Å¸Ëœâ€š\\...</td>\n",
              "      <td>wala parin mga pare at mare malapit na talaga ...</td>\n",
              "      <td>['wala', 'parin', 'mga', 'pare', 'at', 'mare',...</td>\n",
              "      <td>['wala', 'parin', 'pare', 'mare', 'malapit', '...</td>\n",
              "      <td>wala parin pare mare malapit iilan nalang nati...</td>\n",
              "      <td>1</td>\n",
              "    </tr>\n",
              "    <tr>\n",
              "      <th>3</th>\n",
              "      <td>00:00.0</td>\n",
              "      <td>Facebook</td>\n",
              "      <td>\"I am the eldest daughter in a family of seven...</td>\n",
              "      <td>i am the eldest daughter in a family of seven ...</td>\n",
              "      <td>['i', 'am', 'the', 'eldest', 'daughter', 'in',...</td>\n",
              "      <td>['eldest', 'daughter', 'family', 'seven', 'fat...</td>\n",
              "      <td>eldest daughter family seven father one workin...</td>\n",
              "      <td>2</td>\n",
              "    </tr>\n",
              "    <tr>\n",
              "      <th>4</th>\n",
              "      <td>00:00.0</td>\n",
              "      <td>Facebook</td>\n",
              "      <td>Thank you UniFast for this wonderful opportuni...</td>\n",
              "      <td>thank you unifast for this wonderful opportuni...</td>\n",
              "      <td>['thank', 'you', 'unifast', 'for', 'this', 'wo...</td>\n",
              "      <td>['thank', 'wonderful', 'opportunity', 'given',...</td>\n",
              "      <td>thank wonderful opportunity given us help us m...</td>\n",
              "      <td>2</td>\n",
              "    </tr>\n",
              "    <tr>\n",
              "      <th>...</th>\n",
              "      <td>...</td>\n",
              "      <td>...</td>\n",
              "      <td>...</td>\n",
              "      <td>...</td>\n",
              "      <td>...</td>\n",
              "      <td>...</td>\n",
              "      <td>...</td>\n",
              "      <td>...</td>\n",
              "    </tr>\n",
              "    <tr>\n",
              "      <th>6295</th>\n",
              "      <td>16/01/2023 0:00</td>\n",
              "      <td>Facebook</td>\n",
              "      <td>TES Update #293\\n\\nMay naka-abang na biyaya sa...</td>\n",
              "      <td>tes update may naka abang na biyaya sa mimarop...</td>\n",
              "      <td>['tes', 'update', 'may', 'naka', 'abang', 'na'...</td>\n",
              "      <td>['update', 'naka', 'abang', 'biyaya', 'mimarop...</td>\n",
              "      <td>update naka abang biyaya mimaropa marked safe ...</td>\n",
              "      <td>0</td>\n",
              "    </tr>\n",
              "    <tr>\n",
              "      <th>6296</th>\n",
              "      <td>30/06/2021 0:00</td>\n",
              "      <td>Facebook</td>\n",
              "      <td>Magandang araw po Ma'am/Sir,itatanong ko lang ...</td>\n",
              "      <td>magandang araw po ma am sir itatanong ko lang ...</td>\n",
              "      <td>['magandang', 'araw', 'po', 'ma', 'am', 'sir',...</td>\n",
              "      <td>['magandang', 'araw', 'itatanong', 'sana', 'up...</td>\n",
              "      <td>magandang araw itatanong sana update kagaya pw...</td>\n",
              "      <td>2</td>\n",
              "    </tr>\n",
              "    <tr>\n",
              "      <th>6297</th>\n",
              "      <td>28/07/2021 0:00</td>\n",
              "      <td>Facebook</td>\n",
              "      <td>May matatanggap po bang TES ang mga new grante...</td>\n",
              "      <td>may matatanggap po bang tes ang mga new grante...</td>\n",
              "      <td>['may', 'matatanggap', 'po', 'bang', 'tes', 'a...</td>\n",
              "      <td>['matatanggap', 'bang', 'new', 'grantees', 'co...</td>\n",
              "      <td>matatanggap bang new grantees continuing grant...</td>\n",
              "      <td>2</td>\n",
              "    </tr>\n",
              "    <tr>\n",
              "      <th>6298</th>\n",
              "      <td>09/10/2022 0:00</td>\n",
              "      <td>Facebook</td>\n",
              "      <td>\"Nagpakasal ako noong ako'y 18 taong gulang at...</td>\n",
              "      <td>nagpakasal ako noong ako y taong gulang at han...</td>\n",
              "      <td>['nagpakasal', 'ako', 'noong', 'ako', 'y', 'ta...</td>\n",
              "      <td>['nagpakasal', 'noong', 'taong', 'gulang', 'rd...</td>\n",
              "      <td>nagpakasal noong taong gulang rd year high sch...</td>\n",
              "      <td>0</td>\n",
              "    </tr>\n",
              "    <tr>\n",
              "      <th>6299</th>\n",
              "      <td>21/07/2021 0:00</td>\n",
              "      <td>Facebook</td>\n",
              "      <td>Happening Live at Cotabato State University</td>\n",
              "      <td>happening live at cotabato state university</td>\n",
              "      <td>['happening', 'live', 'at', 'cotabato', 'state...</td>\n",
              "      <td>['happening', 'live', 'cotabato', 'state', 'un...</td>\n",
              "      <td>happening live cotabato state university</td>\n",
              "      <td>0</td>\n",
              "    </tr>\n",
              "  </tbody>\n",
              "</table>\n",
              "<p>6300 rows × 8 columns</p>\n",
              "</div>\n",
              "      <button class=\"colab-df-convert\" onclick=\"convertToInteractive('df-effae3e9-e7fd-4534-b359-3ec40b4a1020')\"\n",
              "              title=\"Convert this dataframe to an interactive table.\"\n",
              "              style=\"display:none;\">\n",
              "        \n",
              "  <svg xmlns=\"http://www.w3.org/2000/svg\" height=\"24px\"viewBox=\"0 0 24 24\"\n",
              "       width=\"24px\">\n",
              "    <path d=\"M0 0h24v24H0V0z\" fill=\"none\"/>\n",
              "    <path d=\"M18.56 5.44l.94 2.06.94-2.06 2.06-.94-2.06-.94-.94-2.06-.94 2.06-2.06.94zm-11 1L8.5 8.5l.94-2.06 2.06-.94-2.06-.94L8.5 2.5l-.94 2.06-2.06.94zm10 10l.94 2.06.94-2.06 2.06-.94-2.06-.94-.94-2.06-.94 2.06-2.06.94z\"/><path d=\"M17.41 7.96l-1.37-1.37c-.4-.4-.92-.59-1.43-.59-.52 0-1.04.2-1.43.59L10.3 9.45l-7.72 7.72c-.78.78-.78 2.05 0 2.83L4 21.41c.39.39.9.59 1.41.59.51 0 1.02-.2 1.41-.59l7.78-7.78 2.81-2.81c.8-.78.8-2.07 0-2.86zM5.41 20L4 18.59l7.72-7.72 1.47 1.35L5.41 20z\"/>\n",
              "  </svg>\n",
              "      </button>\n",
              "      \n",
              "  <style>\n",
              "    .colab-df-container {\n",
              "      display:flex;\n",
              "      flex-wrap:wrap;\n",
              "      gap: 12px;\n",
              "    }\n",
              "\n",
              "    .colab-df-convert {\n",
              "      background-color: #E8F0FE;\n",
              "      border: none;\n",
              "      border-radius: 50%;\n",
              "      cursor: pointer;\n",
              "      display: none;\n",
              "      fill: #1967D2;\n",
              "      height: 32px;\n",
              "      padding: 0 0 0 0;\n",
              "      width: 32px;\n",
              "    }\n",
              "\n",
              "    .colab-df-convert:hover {\n",
              "      background-color: #E2EBFA;\n",
              "      box-shadow: 0px 1px 2px rgba(60, 64, 67, 0.3), 0px 1px 3px 1px rgba(60, 64, 67, 0.15);\n",
              "      fill: #174EA6;\n",
              "    }\n",
              "\n",
              "    [theme=dark] .colab-df-convert {\n",
              "      background-color: #3B4455;\n",
              "      fill: #D2E3FC;\n",
              "    }\n",
              "\n",
              "    [theme=dark] .colab-df-convert:hover {\n",
              "      background-color: #434B5C;\n",
              "      box-shadow: 0px 1px 3px 1px rgba(0, 0, 0, 0.15);\n",
              "      filter: drop-shadow(0px 1px 2px rgba(0, 0, 0, 0.3));\n",
              "      fill: #FFFFFF;\n",
              "    }\n",
              "  </style>\n",
              "\n",
              "      <script>\n",
              "        const buttonEl =\n",
              "          document.querySelector('#df-effae3e9-e7fd-4534-b359-3ec40b4a1020 button.colab-df-convert');\n",
              "        buttonEl.style.display =\n",
              "          google.colab.kernel.accessAllowed ? 'block' : 'none';\n",
              "\n",
              "        async function convertToInteractive(key) {\n",
              "          const element = document.querySelector('#df-effae3e9-e7fd-4534-b359-3ec40b4a1020');\n",
              "          const dataTable =\n",
              "            await google.colab.kernel.invokeFunction('convertToInteractive',\n",
              "                                                     [key], {});\n",
              "          if (!dataTable) return;\n",
              "\n",
              "          const docLinkHtml = 'Like what you see? Visit the ' +\n",
              "            '<a target=\"_blank\" href=https://colab.research.google.com/notebooks/data_table.ipynb>data table notebook</a>'\n",
              "            + ' to learn more about interactive tables.';\n",
              "          element.innerHTML = '';\n",
              "          dataTable['output_type'] = 'display_data';\n",
              "          await google.colab.output.renderOutput(dataTable, element);\n",
              "          const docLink = document.createElement('div');\n",
              "          docLink.innerHTML = docLinkHtml;\n",
              "          element.appendChild(docLink);\n",
              "        }\n",
              "      </script>\n",
              "    </div>\n",
              "  </div>\n",
              "  "
            ]
          },
          "metadata": {},
          "execution_count": 5
        }
      ],
      "source": [
        "# Load dataset\n",
        "df = pd.read_csv('/content/recleaned-reannotated (1).csv', encoding='utf=8')\n",
        "df"
      ]
    },
    {
      "cell_type": "code",
      "execution_count": null,
      "metadata": {
        "colab": {
          "base_uri": "https://localhost:8080/"
        },
        "id": "_u71vT4GZhx3",
        "outputId": "7925f80d-7e6b-44c8-ace1-1b591c1aaa11"
      },
      "outputs": [
        {
          "output_type": "execute_result",
          "data": {
            "text/plain": [
              "(6300, 8)"
            ]
          },
          "metadata": {},
          "execution_count": 6
        }
      ],
      "source": [
        "df.shape"
      ]
    },
    {
      "cell_type": "code",
      "execution_count": null,
      "metadata": {
        "colab": {
          "base_uri": "https://localhost:8080/",
          "height": 223
        },
        "id": "uCJViEpCZhuJ",
        "outputId": "525f6ad1-c657-48fa-a4b1-a17a8f2ed0b7"
      },
      "outputs": [
        {
          "output_type": "stream",
          "name": "stdout",
          "text": [
            "(6300, 2)\n"
          ]
        },
        {
          "output_type": "execute_result",
          "data": {
            "text/plain": [
              "                                        cleaned_text  sentiment\n",
              "0  with immense pride ched regional office vi pre...          2\n",
              "1  have recieved my allowance for sy second semes...          2\n",
              "2  wala parin mga pare at mare malapit na talaga ...          1\n",
              "3  i am the eldest daughter in a family of seven ...          2\n",
              "4  thank you unifast for this wonderful opportuni...          2"
            ],
            "text/html": [
              "\n",
              "  <div id=\"df-b57045f5-53ec-420b-9b6a-e82376086b9b\">\n",
              "    <div class=\"colab-df-container\">\n",
              "      <div>\n",
              "<style scoped>\n",
              "    .dataframe tbody tr th:only-of-type {\n",
              "        vertical-align: middle;\n",
              "    }\n",
              "\n",
              "    .dataframe tbody tr th {\n",
              "        vertical-align: top;\n",
              "    }\n",
              "\n",
              "    .dataframe thead th {\n",
              "        text-align: right;\n",
              "    }\n",
              "</style>\n",
              "<table border=\"1\" class=\"dataframe\">\n",
              "  <thead>\n",
              "    <tr style=\"text-align: right;\">\n",
              "      <th></th>\n",
              "      <th>cleaned_text</th>\n",
              "      <th>sentiment</th>\n",
              "    </tr>\n",
              "  </thead>\n",
              "  <tbody>\n",
              "    <tr>\n",
              "      <th>0</th>\n",
              "      <td>with immense pride ched regional office vi pre...</td>\n",
              "      <td>2</td>\n",
              "    </tr>\n",
              "    <tr>\n",
              "      <th>1</th>\n",
              "      <td>have recieved my allowance for sy second semes...</td>\n",
              "      <td>2</td>\n",
              "    </tr>\n",
              "    <tr>\n",
              "      <th>2</th>\n",
              "      <td>wala parin mga pare at mare malapit na talaga ...</td>\n",
              "      <td>1</td>\n",
              "    </tr>\n",
              "    <tr>\n",
              "      <th>3</th>\n",
              "      <td>i am the eldest daughter in a family of seven ...</td>\n",
              "      <td>2</td>\n",
              "    </tr>\n",
              "    <tr>\n",
              "      <th>4</th>\n",
              "      <td>thank you unifast for this wonderful opportuni...</td>\n",
              "      <td>2</td>\n",
              "    </tr>\n",
              "  </tbody>\n",
              "</table>\n",
              "</div>\n",
              "      <button class=\"colab-df-convert\" onclick=\"convertToInteractive('df-b57045f5-53ec-420b-9b6a-e82376086b9b')\"\n",
              "              title=\"Convert this dataframe to an interactive table.\"\n",
              "              style=\"display:none;\">\n",
              "        \n",
              "  <svg xmlns=\"http://www.w3.org/2000/svg\" height=\"24px\"viewBox=\"0 0 24 24\"\n",
              "       width=\"24px\">\n",
              "    <path d=\"M0 0h24v24H0V0z\" fill=\"none\"/>\n",
              "    <path d=\"M18.56 5.44l.94 2.06.94-2.06 2.06-.94-2.06-.94-.94-2.06-.94 2.06-2.06.94zm-11 1L8.5 8.5l.94-2.06 2.06-.94-2.06-.94L8.5 2.5l-.94 2.06-2.06.94zm10 10l.94 2.06.94-2.06 2.06-.94-2.06-.94-.94-2.06-.94 2.06-2.06.94z\"/><path d=\"M17.41 7.96l-1.37-1.37c-.4-.4-.92-.59-1.43-.59-.52 0-1.04.2-1.43.59L10.3 9.45l-7.72 7.72c-.78.78-.78 2.05 0 2.83L4 21.41c.39.39.9.59 1.41.59.51 0 1.02-.2 1.41-.59l7.78-7.78 2.81-2.81c.8-.78.8-2.07 0-2.86zM5.41 20L4 18.59l7.72-7.72 1.47 1.35L5.41 20z\"/>\n",
              "  </svg>\n",
              "      </button>\n",
              "      \n",
              "  <style>\n",
              "    .colab-df-container {\n",
              "      display:flex;\n",
              "      flex-wrap:wrap;\n",
              "      gap: 12px;\n",
              "    }\n",
              "\n",
              "    .colab-df-convert {\n",
              "      background-color: #E8F0FE;\n",
              "      border: none;\n",
              "      border-radius: 50%;\n",
              "      cursor: pointer;\n",
              "      display: none;\n",
              "      fill: #1967D2;\n",
              "      height: 32px;\n",
              "      padding: 0 0 0 0;\n",
              "      width: 32px;\n",
              "    }\n",
              "\n",
              "    .colab-df-convert:hover {\n",
              "      background-color: #E2EBFA;\n",
              "      box-shadow: 0px 1px 2px rgba(60, 64, 67, 0.3), 0px 1px 3px 1px rgba(60, 64, 67, 0.15);\n",
              "      fill: #174EA6;\n",
              "    }\n",
              "\n",
              "    [theme=dark] .colab-df-convert {\n",
              "      background-color: #3B4455;\n",
              "      fill: #D2E3FC;\n",
              "    }\n",
              "\n",
              "    [theme=dark] .colab-df-convert:hover {\n",
              "      background-color: #434B5C;\n",
              "      box-shadow: 0px 1px 3px 1px rgba(0, 0, 0, 0.15);\n",
              "      filter: drop-shadow(0px 1px 2px rgba(0, 0, 0, 0.3));\n",
              "      fill: #FFFFFF;\n",
              "    }\n",
              "  </style>\n",
              "\n",
              "      <script>\n",
              "        const buttonEl =\n",
              "          document.querySelector('#df-b57045f5-53ec-420b-9b6a-e82376086b9b button.colab-df-convert');\n",
              "        buttonEl.style.display =\n",
              "          google.colab.kernel.accessAllowed ? 'block' : 'none';\n",
              "\n",
              "        async function convertToInteractive(key) {\n",
              "          const element = document.querySelector('#df-b57045f5-53ec-420b-9b6a-e82376086b9b');\n",
              "          const dataTable =\n",
              "            await google.colab.kernel.invokeFunction('convertToInteractive',\n",
              "                                                     [key], {});\n",
              "          if (!dataTable) return;\n",
              "\n",
              "          const docLinkHtml = 'Like what you see? Visit the ' +\n",
              "            '<a target=\"_blank\" href=https://colab.research.google.com/notebooks/data_table.ipynb>data table notebook</a>'\n",
              "            + ' to learn more about interactive tables.';\n",
              "          element.innerHTML = '';\n",
              "          dataTable['output_type'] = 'display_data';\n",
              "          await google.colab.output.renderOutput(dataTable, element);\n",
              "          const docLink = document.createElement('div');\n",
              "          docLink.innerHTML = docLinkHtml;\n",
              "          element.appendChild(docLink);\n",
              "        }\n",
              "      </script>\n",
              "    </div>\n",
              "  </div>\n",
              "  "
            ]
          },
          "metadata": {},
          "execution_count": 7
        }
      ],
      "source": [
        "df = df[['cleaned_text', 'sentiment']].reset_index(drop = True)\n",
        "df.dropna(subset='cleaned_text',inplace=True)\n",
        "print(df.shape)\n",
        "df.head()"
      ]
    },
    {
      "cell_type": "code",
      "execution_count": null,
      "metadata": {
        "colab": {
          "base_uri": "https://localhost:8080/"
        },
        "id": "Z8LtDOAAZhrR",
        "outputId": "f5b725d8-6e8c-47cf-a8b8-489890215543"
      },
      "outputs": [
        {
          "output_type": "execute_result",
          "data": {
            "text/plain": [
              "cleaned_text    0\n",
              "sentiment       0\n",
              "dtype: int64"
            ]
          },
          "metadata": {},
          "execution_count": 8
        }
      ],
      "source": [
        "df.isnull().sum().sort_values(ascending = False)"
      ]
    },
    {
      "cell_type": "code",
      "execution_count": null,
      "metadata": {
        "colab": {
          "base_uri": "https://localhost:8080/"
        },
        "id": "nJ1P64PlZhnq",
        "outputId": "c1fc1739-212c-40aa-9655-43e694623608"
      },
      "outputs": [
        {
          "output_type": "execute_result",
          "data": {
            "text/plain": [
              "2    59.0\n",
              "0    22.0\n",
              "1    19.0\n",
              "Name: sentiment, dtype: float64"
            ]
          },
          "metadata": {},
          "execution_count": 9
        }
      ],
      "source": [
        "round(df['sentiment'].value_counts(normalize = True) * 100)"
      ]
    },
    {
      "cell_type": "code",
      "execution_count": null,
      "metadata": {
        "id": "dfU1iEM9bNoy"
      },
      "outputs": [],
      "source": [
        "df['cleaned_text'] = df['cleaned_text'].apply(str)\n",
        "# df['sentiment'] = df['sentiment'].astype(str)"
      ]
    },
    {
      "cell_type": "code",
      "execution_count": null,
      "metadata": {
        "colab": {
          "base_uri": "https://localhost:8080/"
        },
        "id": "fq8lzcFocBQY",
        "outputId": "972f74c6-8be3-451d-db65-bfb06da48f24"
      },
      "outputs": [
        {
          "output_type": "execute_result",
          "data": {
            "text/plain": [
              "cleaned_text    object\n",
              "sentiment        int64\n",
              "dtype: object"
            ]
          },
          "metadata": {},
          "execution_count": 11
        }
      ],
      "source": [
        "\n",
        "df.dtypes"
      ]
    },
    {
      "cell_type": "code",
      "execution_count": null,
      "metadata": {
        "colab": {
          "base_uri": "https://localhost:8080/"
        },
        "id": "epVwrLPUZhkf",
        "outputId": "f3073268-a6bd-4847-fe1a-514900ef74d3"
      },
      "outputs": [
        {
          "output_type": "stream",
          "name": "stdout",
          "text": [
            "[1255 5660 6020 ... 1373 3714 4580]\n",
            "[ 310  891 2141 ... 5393 4036 3494]\n",
            "[2877 2367  663 ...  840 4115 1988]\n",
            "[1975 4361 4635 ... 5889 1935 5727]\n"
          ]
        }
      ],
      "source": [
        "from sklearn.model_selection import StratifiedShuffleSplit\n",
        "# Stratified train/test splitting\n",
        "df.reset_index(drop=True, inplace=True)\n",
        "ss1 = StratifiedShuffleSplit(n_splits=4, test_size=0.3, random_state=0)\n",
        "for train_index, intermediate_index in ss1.split(df, df['sentiment']):\n",
        "    print(intermediate_index)\n",
        "    train_set = df.loc[train_index]\n",
        "    test_set = df.loc[intermediate_index]\n",
        "\n",
        "\n",
        "# Indexes are unordered, put them back\n",
        "train_set.reset_index(drop=True, inplace=True)\n",
        "test_set.reset_index(drop=True, inplace=True)"
      ]
    },
    {
      "cell_type": "code",
      "execution_count": null,
      "metadata": {
        "colab": {
          "base_uri": "https://localhost:8080/"
        },
        "id": "nVoV09gwcg44",
        "outputId": "811e9d30-6b06-4196-c3b2-90c125b37064"
      },
      "outputs": [
        {
          "output_type": "execute_result",
          "data": {
            "text/plain": [
              "2    1123\n",
              "0     408\n",
              "1     359\n",
              "Name: sentiment, dtype: int64"
            ]
          },
          "metadata": {},
          "execution_count": 10
        }
      ],
      "source": [
        "test_set.sentiment.value_counts(dropna = False)"
      ]
    },
    {
      "cell_type": "code",
      "execution_count": null,
      "metadata": {
        "id": "wiIcXmxHZhdg",
        "colab": {
          "base_uri": "https://localhost:8080/",
          "height": 356
        },
        "outputId": "734110b0-73e0-45b4-b7c1-99a952850377"
      },
      "outputs": [
        {
          "output_type": "error",
          "ename": "AttributeError",
          "evalue": "ignored",
          "traceback": [
            "\u001b[0;31m---------------------------------------------------------------------------\u001b[0m",
            "\u001b[0;31mAttributeError\u001b[0m                            Traceback (most recent call last)",
            "\u001b[0;32m<ipython-input-11-429d76c99e82>\u001b[0m in \u001b[0;36m<cell line: 2>\u001b[0;34m()\u001b[0m\n\u001b[1;32m      1\u001b[0m \u001b[0;31m# Inputs\u001b[0m\u001b[0;34m\u001b[0m\u001b[0;34m\u001b[0m\u001b[0m\n\u001b[0;32m----> 2\u001b[0;31m \u001b[0mX_train\u001b[0m \u001b[0;34m=\u001b[0m \u001b[0mnp\u001b[0m\u001b[0;34m.\u001b[0m\u001b[0masarray\u001b[0m\u001b[0;34m(\u001b[0m\u001b[0mtrain_set\u001b[0m\u001b[0;34m.\u001b[0m\u001b[0mtext\u001b[0m\u001b[0;34m)\u001b[0m\u001b[0;34m\u001b[0m\u001b[0;34m\u001b[0m\u001b[0m\n\u001b[0m\u001b[1;32m      3\u001b[0m \u001b[0mX_test\u001b[0m \u001b[0;34m=\u001b[0m \u001b[0mnp\u001b[0m\u001b[0;34m.\u001b[0m\u001b[0masarray\u001b[0m\u001b[0;34m(\u001b[0m\u001b[0mtest_set\u001b[0m\u001b[0;34m.\u001b[0m\u001b[0mtext\u001b[0m\u001b[0;34m)\u001b[0m\u001b[0;34m\u001b[0m\u001b[0;34m\u001b[0m\u001b[0m\n\u001b[1;32m      4\u001b[0m \u001b[0;34m\u001b[0m\u001b[0m\n\u001b[1;32m      5\u001b[0m \u001b[0;31m# Outputs\u001b[0m\u001b[0;34m\u001b[0m\u001b[0;34m\u001b[0m\u001b[0m\n",
            "\u001b[0;32m/usr/local/lib/python3.10/dist-packages/pandas/core/generic.py\u001b[0m in \u001b[0;36m__getattr__\u001b[0;34m(self, name)\u001b[0m\n\u001b[1;32m   5900\u001b[0m         ):\n\u001b[1;32m   5901\u001b[0m             \u001b[0;32mreturn\u001b[0m \u001b[0mself\u001b[0m\u001b[0;34m[\u001b[0m\u001b[0mname\u001b[0m\u001b[0;34m]\u001b[0m\u001b[0;34m\u001b[0m\u001b[0;34m\u001b[0m\u001b[0m\n\u001b[0;32m-> 5902\u001b[0;31m         \u001b[0;32mreturn\u001b[0m \u001b[0mobject\u001b[0m\u001b[0;34m.\u001b[0m\u001b[0m__getattribute__\u001b[0m\u001b[0;34m(\u001b[0m\u001b[0mself\u001b[0m\u001b[0;34m,\u001b[0m \u001b[0mname\u001b[0m\u001b[0;34m)\u001b[0m\u001b[0;34m\u001b[0m\u001b[0;34m\u001b[0m\u001b[0m\n\u001b[0m\u001b[1;32m   5903\u001b[0m \u001b[0;34m\u001b[0m\u001b[0m\n\u001b[1;32m   5904\u001b[0m     \u001b[0;32mdef\u001b[0m \u001b[0m__setattr__\u001b[0m\u001b[0;34m(\u001b[0m\u001b[0mself\u001b[0m\u001b[0;34m,\u001b[0m \u001b[0mname\u001b[0m\u001b[0;34m:\u001b[0m \u001b[0mstr\u001b[0m\u001b[0;34m,\u001b[0m \u001b[0mvalue\u001b[0m\u001b[0;34m)\u001b[0m \u001b[0;34m->\u001b[0m \u001b[0;32mNone\u001b[0m\u001b[0;34m:\u001b[0m\u001b[0;34m\u001b[0m\u001b[0;34m\u001b[0m\u001b[0m\n",
            "\u001b[0;31mAttributeError\u001b[0m: 'DataFrame' object has no attribute 'text'"
          ]
        }
      ],
      "source": [
        "\n",
        "# Inputs\n",
        "X_train = np.asarray(train_set.text)\n",
        "X_test = np.asarray(test_set.text)\n",
        "\n",
        "# Outputs\n",
        "y_train = train_set.sentiment.values\n",
        "y_test = test_set.sentiment.values"
      ]
    },
    {
      "cell_type": "code",
      "execution_count": null,
      "metadata": {
        "id": "WsfaeFEpbhzf"
      },
      "outputs": [],
      "source": [
        "(X_train,  y_train), (X_test, y_test), preproc = text.texts_from_array(x_train=X_train, \n",
        "                                                                       y_train=y_train,\n",
        "                                                                       x_test=X_test, \n",
        "                                                                       y_test=y_test,\n",
        "                                                                       class_names=['0', '1', '2'],\n",
        "                                                                       preprocess_mode='bert',\n",
        "                                                                       ngram_range=1, \n",
        "                                                                       maxlen=320)"
      ]
    },
    {
      "cell_type": "code",
      "execution_count": null,
      "metadata": {
        "colab": {
          "base_uri": "https://localhost:8080/"
        },
        "id": "AhNk1O9lbhnf",
        "outputId": "26a5c480-ac50-434c-ece9-0c3703fe6576"
      },
      "outputs": [
        {
          "name": "stdout",
          "output_type": "stream",
          "text": [
            "Is Multi-Label? False\n",
            "maxlen is 320\n"
          ]
        },
        {
          "name": "stderr",
          "output_type": "stream",
          "text": [
            "/usr/local/lib/python3.10/dist-packages/keras/initializers/initializers.py:120: UserWarning: The initializer GlorotNormal is unseeded and being called multiple times, which will return identical values each time (even if the initializer is unseeded). Please update your code to provide a seed to the initializer, or avoid using the same initalizer instance more than once.\n",
            "  warnings.warn(\n"
          ]
        },
        {
          "name": "stdout",
          "output_type": "stream",
          "text": [
            "done.\n"
          ]
        }
      ],
      "source": [
        "model = text.text_classifier('bert', \n",
        "                             train_data=(X_train, y_train), \n",
        "                             preproc=preproc)"
      ]
    },
    {
      "cell_type": "code",
      "execution_count": null,
      "metadata": {
        "id": "Ai3aoECXct7B"
      },
      "outputs": [],
      "source": [
        "learner = ktrain.get_learner(model, \n",
        "                             train_data=(X_train, y_train), \n",
        "                             batch_size=8)"
      ]
    },
    {
      "cell_type": "code",
      "execution_count": null,
      "metadata": {
        "colab": {
          "base_uri": "https://localhost:8080/"
        },
        "id": "GFo944djct44",
        "outputId": "dce0d613-39c3-4916-8d83-bf7356492eac"
      },
      "outputs": [
        {
          "name": "stdout",
          "output_type": "stream",
          "text": [
            "Model: \"model_3\"\n",
            "__________________________________________________________________________________________________\n",
            " Layer (type)                   Output Shape         Param #     Connected to                     \n",
            "==================================================================================================\n",
            " Input-Token (InputLayer)       [(None, 320)]        0           []                               \n",
            "                                                                                                  \n",
            " Input-Segment (InputLayer)     [(None, 320)]        0           []                               \n",
            "                                                                                                  \n",
            " Embedding-Token (TokenEmbeddin  [(None, 320, 768),  23440896    ['Input-Token[0][0]']            \n",
            " g)                              (30522, 768)]                                                    \n",
            "                                                                                                  \n",
            " Embedding-Segment (Embedding)  (None, 320, 768)     1536        ['Input-Segment[0][0]']          \n",
            "                                                                                                  \n",
            " Embedding-Token-Segment (Add)  (None, 320, 768)     0           ['Embedding-Token[0][0]',        \n",
            "                                                                  'Embedding-Segment[0][0]']      \n",
            "                                                                                                  \n",
            " Embedding-Position (PositionEm  (None, 320, 768)    245760      ['Embedding-Token-Segment[0][0]']\n",
            " bedding)                                                                                         \n",
            "                                                                                                  \n",
            " Embedding-Dropout (Dropout)    (None, 320, 768)     0           ['Embedding-Position[0][0]']     \n",
            "                                                                                                  \n",
            " Embedding-Norm (LayerNormaliza  (None, 320, 768)    1536        ['Embedding-Dropout[0][0]']      \n",
            " tion)                                                                                            \n",
            "                                                                                                  \n",
            " Encoder-1-MultiHeadSelfAttenti  (None, 320, 768)    2362368     ['Embedding-Norm[0][0]']         \n",
            " on (MultiHeadAttention)                                                                          \n",
            "                                                                                                  \n",
            " Encoder-1-MultiHeadSelfAttenti  (None, 320, 768)    0           ['Encoder-1-MultiHeadSelfAttentio\n",
            " on-Dropout (Dropout)                                            n[0][0]']                        \n",
            "                                                                                                  \n",
            " Encoder-1-MultiHeadSelfAttenti  (None, 320, 768)    0           ['Embedding-Norm[0][0]',         \n",
            " on-Add (Add)                                                     'Encoder-1-MultiHeadSelfAttentio\n",
            "                                                                 n-Dropout[0][0]']                \n",
            "                                                                                                  \n",
            " Encoder-1-MultiHeadSelfAttenti  (None, 320, 768)    1536        ['Encoder-1-MultiHeadSelfAttentio\n",
            " on-Norm (LayerNormalization)                                    n-Add[0][0]']                    \n",
            "                                                                                                  \n",
            " Encoder-1-FeedForward (FeedFor  (None, 320, 768)    4722432     ['Encoder-1-MultiHeadSelfAttentio\n",
            " ward)                                                           n-Norm[0][0]']                   \n",
            "                                                                                                  \n",
            " Encoder-1-FeedForward-Dropout   (None, 320, 768)    0           ['Encoder-1-FeedForward[0][0]']  \n",
            " (Dropout)                                                                                        \n",
            "                                                                                                  \n",
            " Encoder-1-FeedForward-Add (Add  (None, 320, 768)    0           ['Encoder-1-MultiHeadSelfAttentio\n",
            " )                                                               n-Norm[0][0]',                   \n",
            "                                                                  'Encoder-1-FeedForward-Dropout[0\n",
            "                                                                 ][0]']                           \n",
            "                                                                                                  \n",
            " Encoder-1-FeedForward-Norm (La  (None, 320, 768)    1536        ['Encoder-1-FeedForward-Add[0][0]\n",
            " yerNormalization)                                               ']                               \n",
            "                                                                                                  \n",
            " Encoder-2-MultiHeadSelfAttenti  (None, 320, 768)    2362368     ['Encoder-1-FeedForward-Norm[0][0\n",
            " on (MultiHeadAttention)                                         ]']                              \n",
            "                                                                                                  \n",
            " Encoder-2-MultiHeadSelfAttenti  (None, 320, 768)    0           ['Encoder-2-MultiHeadSelfAttentio\n",
            " on-Dropout (Dropout)                                            n[0][0]']                        \n",
            "                                                                                                  \n",
            " Encoder-2-MultiHeadSelfAttenti  (None, 320, 768)    0           ['Encoder-1-FeedForward-Norm[0][0\n",
            " on-Add (Add)                                                    ]',                              \n",
            "                                                                  'Encoder-2-MultiHeadSelfAttentio\n",
            "                                                                 n-Dropout[0][0]']                \n",
            "                                                                                                  \n",
            " Encoder-2-MultiHeadSelfAttenti  (None, 320, 768)    1536        ['Encoder-2-MultiHeadSelfAttentio\n",
            " on-Norm (LayerNormalization)                                    n-Add[0][0]']                    \n",
            "                                                                                                  \n",
            " Encoder-2-FeedForward (FeedFor  (None, 320, 768)    4722432     ['Encoder-2-MultiHeadSelfAttentio\n",
            " ward)                                                           n-Norm[0][0]']                   \n",
            "                                                                                                  \n",
            " Encoder-2-FeedForward-Dropout   (None, 320, 768)    0           ['Encoder-2-FeedForward[0][0]']  \n",
            " (Dropout)                                                                                        \n",
            "                                                                                                  \n",
            " Encoder-2-FeedForward-Add (Add  (None, 320, 768)    0           ['Encoder-2-MultiHeadSelfAttentio\n",
            " )                                                               n-Norm[0][0]',                   \n",
            "                                                                  'Encoder-2-FeedForward-Dropout[0\n",
            "                                                                 ][0]']                           \n",
            "                                                                                                  \n",
            " Encoder-2-FeedForward-Norm (La  (None, 320, 768)    1536        ['Encoder-2-FeedForward-Add[0][0]\n",
            " yerNormalization)                                               ']                               \n",
            "                                                                                                  \n",
            " Encoder-3-MultiHeadSelfAttenti  (None, 320, 768)    2362368     ['Encoder-2-FeedForward-Norm[0][0\n",
            " on (MultiHeadAttention)                                         ]']                              \n",
            "                                                                                                  \n",
            " Encoder-3-MultiHeadSelfAttenti  (None, 320, 768)    0           ['Encoder-3-MultiHeadSelfAttentio\n",
            " on-Dropout (Dropout)                                            n[0][0]']                        \n",
            "                                                                                                  \n",
            " Encoder-3-MultiHeadSelfAttenti  (None, 320, 768)    0           ['Encoder-2-FeedForward-Norm[0][0\n",
            " on-Add (Add)                                                    ]',                              \n",
            "                                                                  'Encoder-3-MultiHeadSelfAttentio\n",
            "                                                                 n-Dropout[0][0]']                \n",
            "                                                                                                  \n",
            " Encoder-3-MultiHeadSelfAttenti  (None, 320, 768)    1536        ['Encoder-3-MultiHeadSelfAttentio\n",
            " on-Norm (LayerNormalization)                                    n-Add[0][0]']                    \n",
            "                                                                                                  \n",
            " Encoder-3-FeedForward (FeedFor  (None, 320, 768)    4722432     ['Encoder-3-MultiHeadSelfAttentio\n",
            " ward)                                                           n-Norm[0][0]']                   \n",
            "                                                                                                  \n",
            " Encoder-3-FeedForward-Dropout   (None, 320, 768)    0           ['Encoder-3-FeedForward[0][0]']  \n",
            " (Dropout)                                                                                        \n",
            "                                                                                                  \n",
            " Encoder-3-FeedForward-Add (Add  (None, 320, 768)    0           ['Encoder-3-MultiHeadSelfAttentio\n",
            " )                                                               n-Norm[0][0]',                   \n",
            "                                                                  'Encoder-3-FeedForward-Dropout[0\n",
            "                                                                 ][0]']                           \n",
            "                                                                                                  \n",
            " Encoder-3-FeedForward-Norm (La  (None, 320, 768)    1536        ['Encoder-3-FeedForward-Add[0][0]\n",
            " yerNormalization)                                               ']                               \n",
            "                                                                                                  \n",
            " Encoder-4-MultiHeadSelfAttenti  (None, 320, 768)    2362368     ['Encoder-3-FeedForward-Norm[0][0\n",
            " on (MultiHeadAttention)                                         ]']                              \n",
            "                                                                                                  \n",
            " Encoder-4-MultiHeadSelfAttenti  (None, 320, 768)    0           ['Encoder-4-MultiHeadSelfAttentio\n",
            " on-Dropout (Dropout)                                            n[0][0]']                        \n",
            "                                                                                                  \n",
            " Encoder-4-MultiHeadSelfAttenti  (None, 320, 768)    0           ['Encoder-3-FeedForward-Norm[0][0\n",
            " on-Add (Add)                                                    ]',                              \n",
            "                                                                  'Encoder-4-MultiHeadSelfAttentio\n",
            "                                                                 n-Dropout[0][0]']                \n",
            "                                                                                                  \n",
            " Encoder-4-MultiHeadSelfAttenti  (None, 320, 768)    1536        ['Encoder-4-MultiHeadSelfAttentio\n",
            " on-Norm (LayerNormalization)                                    n-Add[0][0]']                    \n",
            "                                                                                                  \n",
            " Encoder-4-FeedForward (FeedFor  (None, 320, 768)    4722432     ['Encoder-4-MultiHeadSelfAttentio\n",
            " ward)                                                           n-Norm[0][0]']                   \n",
            "                                                                                                  \n",
            " Encoder-4-FeedForward-Dropout   (None, 320, 768)    0           ['Encoder-4-FeedForward[0][0]']  \n",
            " (Dropout)                                                                                        \n",
            "                                                                                                  \n",
            " Encoder-4-FeedForward-Add (Add  (None, 320, 768)    0           ['Encoder-4-MultiHeadSelfAttentio\n",
            " )                                                               n-Norm[0][0]',                   \n",
            "                                                                  'Encoder-4-FeedForward-Dropout[0\n",
            "                                                                 ][0]']                           \n",
            "                                                                                                  \n",
            " Encoder-4-FeedForward-Norm (La  (None, 320, 768)    1536        ['Encoder-4-FeedForward-Add[0][0]\n",
            " yerNormalization)                                               ']                               \n",
            "                                                                                                  \n",
            " Encoder-5-MultiHeadSelfAttenti  (None, 320, 768)    2362368     ['Encoder-4-FeedForward-Norm[0][0\n",
            " on (MultiHeadAttention)                                         ]']                              \n",
            "                                                                                                  \n",
            " Encoder-5-MultiHeadSelfAttenti  (None, 320, 768)    0           ['Encoder-5-MultiHeadSelfAttentio\n",
            " on-Dropout (Dropout)                                            n[0][0]']                        \n",
            "                                                                                                  \n",
            " Encoder-5-MultiHeadSelfAttenti  (None, 320, 768)    0           ['Encoder-4-FeedForward-Norm[0][0\n",
            " on-Add (Add)                                                    ]',                              \n",
            "                                                                  'Encoder-5-MultiHeadSelfAttentio\n",
            "                                                                 n-Dropout[0][0]']                \n",
            "                                                                                                  \n",
            " Encoder-5-MultiHeadSelfAttenti  (None, 320, 768)    1536        ['Encoder-5-MultiHeadSelfAttentio\n",
            " on-Norm (LayerNormalization)                                    n-Add[0][0]']                    \n",
            "                                                                                                  \n",
            " Encoder-5-FeedForward (FeedFor  (None, 320, 768)    4722432     ['Encoder-5-MultiHeadSelfAttentio\n",
            " ward)                                                           n-Norm[0][0]']                   \n",
            "                                                                                                  \n",
            " Encoder-5-FeedForward-Dropout   (None, 320, 768)    0           ['Encoder-5-FeedForward[0][0]']  \n",
            " (Dropout)                                                                                        \n",
            "                                                                                                  \n",
            " Encoder-5-FeedForward-Add (Add  (None, 320, 768)    0           ['Encoder-5-MultiHeadSelfAttentio\n",
            " )                                                               n-Norm[0][0]',                   \n",
            "                                                                  'Encoder-5-FeedForward-Dropout[0\n",
            "                                                                 ][0]']                           \n",
            "                                                                                                  \n",
            " Encoder-5-FeedForward-Norm (La  (None, 320, 768)    1536        ['Encoder-5-FeedForward-Add[0][0]\n",
            " yerNormalization)                                               ']                               \n",
            "                                                                                                  \n",
            " Encoder-6-MultiHeadSelfAttenti  (None, 320, 768)    2362368     ['Encoder-5-FeedForward-Norm[0][0\n",
            " on (MultiHeadAttention)                                         ]']                              \n",
            "                                                                                                  \n",
            " Encoder-6-MultiHeadSelfAttenti  (None, 320, 768)    0           ['Encoder-6-MultiHeadSelfAttentio\n",
            " on-Dropout (Dropout)                                            n[0][0]']                        \n",
            "                                                                                                  \n",
            " Encoder-6-MultiHeadSelfAttenti  (None, 320, 768)    0           ['Encoder-5-FeedForward-Norm[0][0\n",
            " on-Add (Add)                                                    ]',                              \n",
            "                                                                  'Encoder-6-MultiHeadSelfAttentio\n",
            "                                                                 n-Dropout[0][0]']                \n",
            "                                                                                                  \n",
            " Encoder-6-MultiHeadSelfAttenti  (None, 320, 768)    1536        ['Encoder-6-MultiHeadSelfAttentio\n",
            " on-Norm (LayerNormalization)                                    n-Add[0][0]']                    \n",
            "                                                                                                  \n",
            " Encoder-6-FeedForward (FeedFor  (None, 320, 768)    4722432     ['Encoder-6-MultiHeadSelfAttentio\n",
            " ward)                                                           n-Norm[0][0]']                   \n",
            "                                                                                                  \n",
            " Encoder-6-FeedForward-Dropout   (None, 320, 768)    0           ['Encoder-6-FeedForward[0][0]']  \n",
            " (Dropout)                                                                                        \n",
            "                                                                                                  \n",
            " Encoder-6-FeedForward-Add (Add  (None, 320, 768)    0           ['Encoder-6-MultiHeadSelfAttentio\n",
            " )                                                               n-Norm[0][0]',                   \n",
            "                                                                  'Encoder-6-FeedForward-Dropout[0\n",
            "                                                                 ][0]']                           \n",
            "                                                                                                  \n",
            " Encoder-6-FeedForward-Norm (La  (None, 320, 768)    1536        ['Encoder-6-FeedForward-Add[0][0]\n",
            " yerNormalization)                                               ']                               \n",
            "                                                                                                  \n",
            " Encoder-7-MultiHeadSelfAttenti  (None, 320, 768)    2362368     ['Encoder-6-FeedForward-Norm[0][0\n",
            " on (MultiHeadAttention)                                         ]']                              \n",
            "                                                                                                  \n",
            " Encoder-7-MultiHeadSelfAttenti  (None, 320, 768)    0           ['Encoder-7-MultiHeadSelfAttentio\n",
            " on-Dropout (Dropout)                                            n[0][0]']                        \n",
            "                                                                                                  \n",
            " Encoder-7-MultiHeadSelfAttenti  (None, 320, 768)    0           ['Encoder-6-FeedForward-Norm[0][0\n",
            " on-Add (Add)                                                    ]',                              \n",
            "                                                                  'Encoder-7-MultiHeadSelfAttentio\n",
            "                                                                 n-Dropout[0][0]']                \n",
            "                                                                                                  \n",
            " Encoder-7-MultiHeadSelfAttenti  (None, 320, 768)    1536        ['Encoder-7-MultiHeadSelfAttentio\n",
            " on-Norm (LayerNormalization)                                    n-Add[0][0]']                    \n",
            "                                                                                                  \n",
            " Encoder-7-FeedForward (FeedFor  (None, 320, 768)    4722432     ['Encoder-7-MultiHeadSelfAttentio\n",
            " ward)                                                           n-Norm[0][0]']                   \n",
            "                                                                                                  \n",
            " Encoder-7-FeedForward-Dropout   (None, 320, 768)    0           ['Encoder-7-FeedForward[0][0]']  \n",
            " (Dropout)                                                                                        \n",
            "                                                                                                  \n",
            " Encoder-7-FeedForward-Add (Add  (None, 320, 768)    0           ['Encoder-7-MultiHeadSelfAttentio\n",
            " )                                                               n-Norm[0][0]',                   \n",
            "                                                                  'Encoder-7-FeedForward-Dropout[0\n",
            "                                                                 ][0]']                           \n",
            "                                                                                                  \n",
            " Encoder-7-FeedForward-Norm (La  (None, 320, 768)    1536        ['Encoder-7-FeedForward-Add[0][0]\n",
            " yerNormalization)                                               ']                               \n",
            "                                                                                                  \n",
            " Encoder-8-MultiHeadSelfAttenti  (None, 320, 768)    2362368     ['Encoder-7-FeedForward-Norm[0][0\n",
            " on (MultiHeadAttention)                                         ]']                              \n",
            "                                                                                                  \n",
            " Encoder-8-MultiHeadSelfAttenti  (None, 320, 768)    0           ['Encoder-8-MultiHeadSelfAttentio\n",
            " on-Dropout (Dropout)                                            n[0][0]']                        \n",
            "                                                                                                  \n",
            " Encoder-8-MultiHeadSelfAttenti  (None, 320, 768)    0           ['Encoder-7-FeedForward-Norm[0][0\n",
            " on-Add (Add)                                                    ]',                              \n",
            "                                                                  'Encoder-8-MultiHeadSelfAttentio\n",
            "                                                                 n-Dropout[0][0]']                \n",
            "                                                                                                  \n",
            " Encoder-8-MultiHeadSelfAttenti  (None, 320, 768)    1536        ['Encoder-8-MultiHeadSelfAttentio\n",
            " on-Norm (LayerNormalization)                                    n-Add[0][0]']                    \n",
            "                                                                                                  \n",
            " Encoder-8-FeedForward (FeedFor  (None, 320, 768)    4722432     ['Encoder-8-MultiHeadSelfAttentio\n",
            " ward)                                                           n-Norm[0][0]']                   \n",
            "                                                                                                  \n",
            " Encoder-8-FeedForward-Dropout   (None, 320, 768)    0           ['Encoder-8-FeedForward[0][0]']  \n",
            " (Dropout)                                                                                        \n",
            "                                                                                                  \n",
            " Encoder-8-FeedForward-Add (Add  (None, 320, 768)    0           ['Encoder-8-MultiHeadSelfAttentio\n",
            " )                                                               n-Norm[0][0]',                   \n",
            "                                                                  'Encoder-8-FeedForward-Dropout[0\n",
            "                                                                 ][0]']                           \n",
            "                                                                                                  \n",
            " Encoder-8-FeedForward-Norm (La  (None, 320, 768)    1536        ['Encoder-8-FeedForward-Add[0][0]\n",
            " yerNormalization)                                               ']                               \n",
            "                                                                                                  \n",
            " Encoder-9-MultiHeadSelfAttenti  (None, 320, 768)    2362368     ['Encoder-8-FeedForward-Norm[0][0\n",
            " on (MultiHeadAttention)                                         ]']                              \n",
            "                                                                                                  \n",
            " Encoder-9-MultiHeadSelfAttenti  (None, 320, 768)    0           ['Encoder-9-MultiHeadSelfAttentio\n",
            " on-Dropout (Dropout)                                            n[0][0]']                        \n",
            "                                                                                                  \n",
            " Encoder-9-MultiHeadSelfAttenti  (None, 320, 768)    0           ['Encoder-8-FeedForward-Norm[0][0\n",
            " on-Add (Add)                                                    ]',                              \n",
            "                                                                  'Encoder-9-MultiHeadSelfAttentio\n",
            "                                                                 n-Dropout[0][0]']                \n",
            "                                                                                                  \n",
            " Encoder-9-MultiHeadSelfAttenti  (None, 320, 768)    1536        ['Encoder-9-MultiHeadSelfAttentio\n",
            " on-Norm (LayerNormalization)                                    n-Add[0][0]']                    \n",
            "                                                                                                  \n",
            " Encoder-9-FeedForward (FeedFor  (None, 320, 768)    4722432     ['Encoder-9-MultiHeadSelfAttentio\n",
            " ward)                                                           n-Norm[0][0]']                   \n",
            "                                                                                                  \n",
            " Encoder-9-FeedForward-Dropout   (None, 320, 768)    0           ['Encoder-9-FeedForward[0][0]']  \n",
            " (Dropout)                                                                                        \n",
            "                                                                                                  \n",
            " Encoder-9-FeedForward-Add (Add  (None, 320, 768)    0           ['Encoder-9-MultiHeadSelfAttentio\n",
            " )                                                               n-Norm[0][0]',                   \n",
            "                                                                  'Encoder-9-FeedForward-Dropout[0\n",
            "                                                                 ][0]']                           \n",
            "                                                                                                  \n",
            " Encoder-9-FeedForward-Norm (La  (None, 320, 768)    1536        ['Encoder-9-FeedForward-Add[0][0]\n",
            " yerNormalization)                                               ']                               \n",
            "                                                                                                  \n",
            " Encoder-10-MultiHeadSelfAttent  (None, 320, 768)    2362368     ['Encoder-9-FeedForward-Norm[0][0\n",
            " ion (MultiHeadAttention)                                        ]']                              \n",
            "                                                                                                  \n",
            " Encoder-10-MultiHeadSelfAttent  (None, 320, 768)    0           ['Encoder-10-MultiHeadSelfAttenti\n",
            " ion-Dropout (Dropout)                                           on[0][0]']                       \n",
            "                                                                                                  \n",
            " Encoder-10-MultiHeadSelfAttent  (None, 320, 768)    0           ['Encoder-9-FeedForward-Norm[0][0\n",
            " ion-Add (Add)                                                   ]',                              \n",
            "                                                                  'Encoder-10-MultiHeadSelfAttenti\n",
            "                                                                 on-Dropout[0][0]']               \n",
            "                                                                                                  \n",
            " Encoder-10-MultiHeadSelfAttent  (None, 320, 768)    1536        ['Encoder-10-MultiHeadSelfAttenti\n",
            " ion-Norm (LayerNormalization)                                   on-Add[0][0]']                   \n",
            "                                                                                                  \n",
            " Encoder-10-FeedForward (FeedFo  (None, 320, 768)    4722432     ['Encoder-10-MultiHeadSelfAttenti\n",
            " rward)                                                          on-Norm[0][0]']                  \n",
            "                                                                                                  \n",
            " Encoder-10-FeedForward-Dropout  (None, 320, 768)    0           ['Encoder-10-FeedForward[0][0]'] \n",
            "  (Dropout)                                                                                       \n",
            "                                                                                                  \n",
            " Encoder-10-FeedForward-Add (Ad  (None, 320, 768)    0           ['Encoder-10-MultiHeadSelfAttenti\n",
            " d)                                                              on-Norm[0][0]',                  \n",
            "                                                                  'Encoder-10-FeedForward-Dropout[\n",
            "                                                                 0][0]']                          \n",
            "                                                                                                  \n",
            " Encoder-10-FeedForward-Norm (L  (None, 320, 768)    1536        ['Encoder-10-FeedForward-Add[0][0\n",
            " ayerNormalization)                                              ]']                              \n",
            "                                                                                                  \n",
            " Encoder-11-MultiHeadSelfAttent  (None, 320, 768)    2362368     ['Encoder-10-FeedForward-Norm[0][\n",
            " ion (MultiHeadAttention)                                        0]']                             \n",
            "                                                                                                  \n",
            " Encoder-11-MultiHeadSelfAttent  (None, 320, 768)    0           ['Encoder-11-MultiHeadSelfAttenti\n",
            " ion-Dropout (Dropout)                                           on[0][0]']                       \n",
            "                                                                                                  \n",
            " Encoder-11-MultiHeadSelfAttent  (None, 320, 768)    0           ['Encoder-10-FeedForward-Norm[0][\n",
            " ion-Add (Add)                                                   0]',                             \n",
            "                                                                  'Encoder-11-MultiHeadSelfAttenti\n",
            "                                                                 on-Dropout[0][0]']               \n",
            "                                                                                                  \n",
            " Encoder-11-MultiHeadSelfAttent  (None, 320, 768)    1536        ['Encoder-11-MultiHeadSelfAttenti\n",
            " ion-Norm (LayerNormalization)                                   on-Add[0][0]']                   \n",
            "                                                                                                  \n",
            " Encoder-11-FeedForward (FeedFo  (None, 320, 768)    4722432     ['Encoder-11-MultiHeadSelfAttenti\n",
            " rward)                                                          on-Norm[0][0]']                  \n",
            "                                                                                                  \n",
            " Encoder-11-FeedForward-Dropout  (None, 320, 768)    0           ['Encoder-11-FeedForward[0][0]'] \n",
            "  (Dropout)                                                                                       \n",
            "                                                                                                  \n",
            " Encoder-11-FeedForward-Add (Ad  (None, 320, 768)    0           ['Encoder-11-MultiHeadSelfAttenti\n",
            " d)                                                              on-Norm[0][0]',                  \n",
            "                                                                  'Encoder-11-FeedForward-Dropout[\n",
            "                                                                 0][0]']                          \n",
            "                                                                                                  \n",
            " Encoder-11-FeedForward-Norm (L  (None, 320, 768)    1536        ['Encoder-11-FeedForward-Add[0][0\n",
            " ayerNormalization)                                              ]']                              \n",
            "                                                                                                  \n",
            " Encoder-12-MultiHeadSelfAttent  (None, 320, 768)    2362368     ['Encoder-11-FeedForward-Norm[0][\n",
            " ion (MultiHeadAttention)                                        0]']                             \n",
            "                                                                                                  \n",
            " Encoder-12-MultiHeadSelfAttent  (None, 320, 768)    0           ['Encoder-12-MultiHeadSelfAttenti\n",
            " ion-Dropout (Dropout)                                           on[0][0]']                       \n",
            "                                                                                                  \n",
            " Encoder-12-MultiHeadSelfAttent  (None, 320, 768)    0           ['Encoder-11-FeedForward-Norm[0][\n",
            " ion-Add (Add)                                                   0]',                             \n",
            "                                                                  'Encoder-12-MultiHeadSelfAttenti\n",
            "                                                                 on-Dropout[0][0]']               \n",
            "                                                                                                  \n",
            " Encoder-12-MultiHeadSelfAttent  (None, 320, 768)    1536        ['Encoder-12-MultiHeadSelfAttenti\n",
            " ion-Norm (LayerNormalization)                                   on-Add[0][0]']                   \n",
            "                                                                                                  \n",
            " Encoder-12-FeedForward (FeedFo  (None, 320, 768)    4722432     ['Encoder-12-MultiHeadSelfAttenti\n",
            " rward)                                                          on-Norm[0][0]']                  \n",
            "                                                                                                  \n",
            " Encoder-12-FeedForward-Dropout  (None, 320, 768)    0           ['Encoder-12-FeedForward[0][0]'] \n",
            "  (Dropout)                                                                                       \n",
            "                                                                                                  \n",
            " Encoder-12-FeedForward-Add (Ad  (None, 320, 768)    0           ['Encoder-12-MultiHeadSelfAttenti\n",
            " d)                                                              on-Norm[0][0]',                  \n",
            "                                                                  'Encoder-12-FeedForward-Dropout[\n",
            "                                                                 0][0]']                          \n",
            "                                                                                                  \n",
            " Encoder-12-FeedForward-Norm (L  (None, 320, 768)    1536        ['Encoder-12-FeedForward-Add[0][0\n",
            " ayerNormalization)                                              ]']                              \n",
            "                                                                                                  \n",
            " Extract (Extract)              (None, 768)          0           ['Encoder-12-FeedForward-Norm[0][\n",
            "                                                                 0]']                             \n",
            "                                                                                                  \n",
            " NSP-Dense (Dense)              (None, 768)          590592      ['Extract[0][0]']                \n",
            "                                                                                                  \n",
            " dense_1 (Dense)                (None, 3)            2307        ['NSP-Dense[0][0]']              \n",
            "                                                                                                  \n",
            "==================================================================================================\n",
            "Total params: 109,337,091\n",
            "Trainable params: 109,337,091\n",
            "Non-trainable params: 0\n",
            "__________________________________________________________________________________________________\n"
          ]
        }
      ],
      "source": [
        "model.summary()"
      ]
    },
    {
      "cell_type": "code",
      "execution_count": null,
      "metadata": {
        "colab": {
          "base_uri": "https://localhost:8080/"
        },
        "id": "61OKBp3Xct1O",
        "outputId": "daad5994-582b-4675-c325-01e3e5b03b50"
      },
      "outputs": [
        {
          "name": "stdout",
          "output_type": "stream",
          "text": [
            "\n",
            "\n",
            "begin training using onecycle policy with max lr of 1e-05...\n",
            "Epoch 1/5\n",
            "552/552 [==============================] - 376s 632ms/step - loss: 0.8424 - accuracy: 0.6168\n",
            "Epoch 2/5\n",
            "552/552 [==============================] - 349s 632ms/step - loss: 0.7500 - accuracy: 0.6701\n",
            "Epoch 3/5\n",
            "552/552 [==============================] - 349s 632ms/step - loss: 0.6925 - accuracy: 0.7122\n",
            "Epoch 4/5\n",
            "552/552 [==============================] - 349s 632ms/step - loss: 0.5707 - accuracy: 0.7757\n",
            "Epoch 5/5\n",
            "552/552 [==============================] - 349s 632ms/step - loss: 0.4335 - accuracy: 0.8422\n"
          ]
        }
      ],
      "source": [
        "hist = learner.fit_onecycle(1e-5, 10) "
      ]
    },
    {
      "cell_type": "code",
      "execution_count": null,
      "metadata": {
        "colab": {
          "base_uri": "https://localhost:8080/"
        },
        "id": "aC2AbNXXctyE",
        "outputId": "b43b8358-74ef-4df6-95f4-81f96961400a"
      },
      "outputs": [
        {
          "name": "stdout",
          "output_type": "stream",
          "text": [
            "60/60 [==============================] - 53s 809ms/step\n",
            "              precision    recall  f1-score   support\n",
            "\n",
            "           0       0.47      0.24      0.31       408\n",
            "           1       0.62      0.53      0.57       359\n",
            "           2       0.73      0.89      0.80      1123\n",
            "\n",
            "    accuracy                           0.68      1890\n",
            "   macro avg       0.61      0.55      0.56      1890\n",
            "weighted avg       0.65      0.68      0.65      1890\n",
            "\n"
          ]
        },
        {
          "data": {
            "text/plain": [
              "array([[  97,   61,  250],\n",
              "       [  43,  190,  126],\n",
              "       [  68,   54, 1001]])"
            ]
          },
          "execution_count": 59,
          "metadata": {},
          "output_type": "execute_result"
        }
      ],
      "source": [
        "learner.validate(val_data=(X_test, y_test))"
      ]
    },
    {
      "cell_type": "markdown",
      "metadata": {
        "id": "sNwTJXALnHfx"
      },
      "source": [
        "\n",
        "\n",
        "*   List item\n",
        "*   List item\n",
        "\n",
        "![image.png](data:image/png;base64,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)"
      ]
    },
    {
      "cell_type": "code",
      "execution_count": null,
      "metadata": {
        "id": "RabXCBvvctt-"
      },
      "outputs": [],
      "source": [
        "predictor = ktrain.get_predictor(learner.model, preproc)"
      ]
    },
    {
      "cell_type": "code",
      "execution_count": null,
      "metadata": {
        "colab": {
          "base_uri": "https://localhost:8080/"
        },
        "id": "uMMvATRpnlsC",
        "outputId": "8e14e234-ebd3-4c6f-9ec3-e30775e3dfd5"
      },
      "outputs": [
        {
          "name": "stdout",
          "output_type": "stream",
          "text": [
            "Installing collected packages: Mako, colorlog, cmaes, alembic, optuna\n",
            "Successfully installed Mako-1.2.4 alembic-1.10.4 cmaes-0.9.1 colorlog-6.7.0 optuna-3.1.1\n"
          ]
        }
      ],
      "source": [
        "!pip install optuna"
      ]
    },
    {
      "cell_type": "code",
      "execution_count": null,
      "metadata": {
        "id": "7_AfomeOo2ni"
      },
      "outputs": [],
      "source": [
        "# Inputs\n",
        "X_train = np.asarray(train_set.cleaned_text)\n",
        "X_test = np.asarray(test_set.cleaned_text)\n",
        "\n",
        "# Outputs\n",
        "y_train = train_set.sentiment.values.tolist()\n",
        "y_test = test_set.sentiment.values.tolist()"
      ]
    },
    {
      "cell_type": "code",
      "execution_count": null,
      "metadata": {
        "id": "yP3GKuRCx90r"
      },
      "outputs": [],
      "source": [
        "# del model"
      ]
    },
    {
      "cell_type": "code",
      "source": [
        "!pip install optuna"
      ],
      "metadata": {
        "colab": {
          "base_uri": "https://localhost:8080/"
        },
        "id": "Q26WkN91-GXO",
        "outputId": "190f2cc2-6c93-4687-fe0b-e7676de94f44"
      },
      "execution_count": null,
      "outputs": [
        {
          "output_type": "stream",
          "name": "stdout",
          "text": [
            "Looking in indexes: https://pypi.org/simple, https://us-python.pkg.dev/colab-wheels/public/simple/\n",
            "Collecting optuna\n",
            "  Downloading optuna-3.1.1-py3-none-any.whl (365 kB)\n",
            "\u001b[2K     \u001b[90m━━━━━━━━━━━━━━━━━━━━━━━━━━━━━━━━━━━━━━━\u001b[0m \u001b[32m365.7/365.7 kB\u001b[0m \u001b[31m8.2 MB/s\u001b[0m eta \u001b[36m0:00:00\u001b[0m\n",
            "\u001b[?25hCollecting alembic>=1.5.0 (from optuna)\n",
            "  Downloading alembic-1.10.4-py3-none-any.whl (212 kB)\n",
            "\u001b[2K     \u001b[90m━━━━━━━━━━━━━━━━━━━━━━━━━━━━━━━━━━━━━━\u001b[0m \u001b[32m212.9/212.9 kB\u001b[0m \u001b[31m23.5 MB/s\u001b[0m eta \u001b[36m0:00:00\u001b[0m\n",
            "\u001b[?25hCollecting cmaes>=0.9.1 (from optuna)\n",
            "  Downloading cmaes-0.9.1-py3-none-any.whl (21 kB)\n",
            "Collecting colorlog (from optuna)\n",
            "  Downloading colorlog-6.7.0-py2.py3-none-any.whl (11 kB)\n",
            "Requirement already satisfied: numpy in /usr/local/lib/python3.10/dist-packages (from optuna) (1.22.4)\n",
            "Requirement already satisfied: packaging>=20.0 in /usr/local/lib/python3.10/dist-packages (from optuna) (23.1)\n",
            "Requirement already satisfied: sqlalchemy>=1.3.0 in /usr/local/lib/python3.10/dist-packages (from optuna) (2.0.10)\n",
            "Requirement already satisfied: tqdm in /usr/local/lib/python3.10/dist-packages (from optuna) (4.65.0)\n",
            "Requirement already satisfied: PyYAML in /usr/local/lib/python3.10/dist-packages (from optuna) (6.0)\n",
            "Collecting Mako (from alembic>=1.5.0->optuna)\n",
            "  Downloading Mako-1.2.4-py3-none-any.whl (78 kB)\n",
            "\u001b[2K     \u001b[90m━━━━━━━━━━━━━━━━━━━━━━━━━━━━━━━━━━━━━━━━\u001b[0m \u001b[32m78.7/78.7 kB\u001b[0m \u001b[31m10.1 MB/s\u001b[0m eta \u001b[36m0:00:00\u001b[0m\n",
            "\u001b[?25hRequirement already satisfied: typing-extensions>=4 in /usr/local/lib/python3.10/dist-packages (from alembic>=1.5.0->optuna) (4.5.0)\n",
            "Requirement already satisfied: greenlet!=0.4.17 in /usr/local/lib/python3.10/dist-packages (from sqlalchemy>=1.3.0->optuna) (2.0.2)\n",
            "Requirement already satisfied: MarkupSafe>=0.9.2 in /usr/local/lib/python3.10/dist-packages (from Mako->alembic>=1.5.0->optuna) (2.1.2)\n",
            "Installing collected packages: Mako, colorlog, cmaes, alembic, optuna\n",
            "Successfully installed Mako-1.2.4 alembic-1.10.4 cmaes-0.9.1 colorlog-6.7.0 optuna-3.1.1\n"
          ]
        }
      ]
    },
    {
      "cell_type": "code",
      "source": [
        "import gc"
      ],
      "metadata": {
        "id": "B79CiTPl-sFY"
      },
      "execution_count": null,
      "outputs": []
    },
    {
      "cell_type": "code",
      "source": [
        "import optuna\n",
        "import ktrain\n",
        "from ktrain import text\n",
        "\n",
        "def objective(trial):\n",
        "    # define the search space\n",
        "    batch_size = trial.suggest_categorical('batch_size', [8, 12, 16, 24])\n",
        "    learning_rate = trial.suggest_loguniform('learning_rate', 1e-5, 2)\n",
        "    num_epochs = trial.suggest_int('num_epochs', 5, 20)\n",
        "    max_length = trial.suggest_int('max_length', 50, 500)\n",
        "    \n",
        "    # Initialize the BERT multilingual model\n",
        "    model_name = 'bert-base-multilingual-cased'\n",
        "    t = text.Transformer(model_name, maxlen=max_length, class_names=list(set(y_train)), batch_size=batch_size)\n",
        "\n",
        "    # Preprocess the data\n",
        "    trn = t.preprocess_train(X_train, y_train)\n",
        "    val = t.preprocess_test(X_test, y_test)\n",
        "\n",
        "    # Define the model\n",
        "    model = t.get_classifier()\n",
        "\n",
        "    # find optimal learning rate\n",
        "    learner = ktrain.get_learner(model, train_data=trn, val_data=val, batch_size=batch_size)\n",
        "    learner.lr_find(max_epochs=10)\n",
        "\n",
        "    # fit the model with optimal learning rate\n",
        "    learner.fit_onecycle(learning_rate, num_epochs)\n",
        "\n",
        "    print(\"Result\")\n",
        "    print(learner.validate())\n",
        "\n",
        "\n",
        "    result = learner.validate()[0]\n",
        "    del model\n",
        "    del t\n",
        "    del trn\n",
        "    del val\n",
        "    del learner\n",
        "\n",
        "    gc.collect()\n",
        "    \n",
        "    \n",
        "    # evaluate the model\n",
        "    return result\n",
        "\n",
        "study = optuna.create_study(direction='minimize')\n",
        "study.optimize(objective, n_trials=20)"
      ],
      "metadata": {
        "colab": {
          "base_uri": "https://localhost:8080/",
          "height": 1000,
          "referenced_widgets": [
            "cabec458c0ca4286923b8bf4515404ac",
            "7d68fca9867a48d1b394ee6b4a49d963",
            "c764db35820848a691166997b28d81bf",
            "eb56e509613d4acc8d2f0bac2b594de6",
            "2dd20fc07019434181803476f9e3f496",
            "ec2b1bc0ad3e42d3ace27e8196ce6f68",
            "fca964a170d34297ac142cfbd2c76e7f",
            "1e6519f72bb04900b7f4fb60b7c3c5e8",
            "e69f3c3adcb34e359a973a859426c749",
            "912e99b9089345278698d6a4424a81db",
            "06e8778e3e8b40d583f471606c7efe21",
            "55c009b11e2c47c69b69cee648247344",
            "86f6e35f79234dc3977d9609f9a34641",
            "c75a2b0c83a040589ecab29e1d04cc44",
            "79f553705cce4540909485692bd25077",
            "e22cb566187f492b9922f0d8ec393395",
            "6730b2da1c7f4fb78269953fd34280f1",
            "0fb488b194604a8b95169fc16019ab49",
            "9c74a42fa27148c5bf505060d7d8ae93",
            "1ea1a8a9bc9a45bf9199192faf28cd72",
            "09b41b60345746fd83d9632038846fc0",
            "4f88de225a7441b2a29de584ec4d8c8b",
            "e1e7950aa4da4562bd08866f62a692c7",
            "3c3f34bbe4884a8c981dc561bb9576e5",
            "ed40ccf0e37440b0bb59e63b3898132a",
            "545c4e8303a64963abde7d5317793f46",
            "a2af6d4d473646bba226be4144adc7f2",
            "a5738d8fa01c41e7bf5957adda6b4a52",
            "0436ecac63cf427190a743ad13bfcaf8",
            "caebdb02cfdc43c698cbded854a8ba84",
            "1f67b52cdd9b4d7097a22408b275422a",
            "116f5b2765394862bfd84a90f148abab",
            "93f17767261448a0877fd4523304e9e1",
            "3ab8e52f699243339e291141756e791f",
            "84828325766f46288e86c09058000f07",
            "bd3ec19183fe45d9824e3d4345da85bf",
            "325c0de544d540f09a68946a0a7f5792",
            "492a4240203947a3970750f7ddd1b24e",
            "28881f90953f4081977a18d9cff38766",
            "e8b3205b3ce54083b7a4f591e6229530",
            "3583a2877e7f487e82a4055e665680cc",
            "c0a019b1efc346cdafed7d82e5f50511",
            "a4a47a810691412c80ccd33355498d6f",
            "236bc06e361f4da8b12880191b57adc4"
          ]
        },
        "id": "W4OjLiFf-Evm",
        "outputId": "f9a8b023-8d39-4754-c00c-1eaf0b2c93ae"
      },
      "execution_count": null,
      "outputs": [
        {
          "metadata": {
            "tags": null
          },
          "name": "stderr",
          "output_type": "stream",
          "text": [
            "\u001b[32m[I 2023-05-02 01:02:34,162]\u001b[0m A new study created in memory with name: no-name-aaf63205-0c94-423a-b147-98a264b27e0a\u001b[0m\n"
          ]
        },
        {
          "data": {
            "application/vnd.jupyter.widget-view+json": {
              "model_id": "cabec458c0ca4286923b8bf4515404ac",
              "version_major": 2,
              "version_minor": 0
            },
            "text/plain": [
              "Downloading tf_model.h5:   0%|          | 0.00/1.08G [00:00<?, ?B/s]"
            ]
          },
          "metadata": {},
          "output_type": "display_data"
        },
        {
          "metadata": {
            "tags": null
          },
          "name": "stdout",
          "output_type": "stream",
          "text": [
            "preprocessing train...\n",
            "language: en\n",
            "train sequence lengths:\n",
            "\tmean : 50\n",
            "\t95percentile : 152\n",
            "\t99percentile : 379\n"
          ]
        },
        {
          "data": {
            "application/vnd.jupyter.widget-view+json": {
              "model_id": "55c009b11e2c47c69b69cee648247344",
              "version_major": 2,
              "version_minor": 0
            },
            "text/plain": [
              "Downloading (…)okenizer_config.json:   0%|          | 0.00/29.0 [00:00<?, ?B/s]"
            ]
          },
          "metadata": {},
          "output_type": "display_data"
        },
        {
          "data": {
            "application/vnd.jupyter.widget-view+json": {
              "model_id": "e1e7950aa4da4562bd08866f62a692c7",
              "version_major": 2,
              "version_minor": 0
            },
            "text/plain": [
              "Downloading (…)solve/main/vocab.txt:   0%|          | 0.00/996k [00:00<?, ?B/s]"
            ]
          },
          "metadata": {},
          "output_type": "display_data"
        },
        {
          "data": {
            "application/vnd.jupyter.widget-view+json": {
              "model_id": "3ab8e52f699243339e291141756e791f",
              "version_major": 2,
              "version_minor": 0
            },
            "text/plain": [
              "Downloading (…)/main/tokenizer.json:   0%|          | 0.00/1.96M [00:00<?, ?B/s]"
            ]
          },
          "metadata": {},
          "output_type": "display_data"
        },
        {
          "data": {
            "text/html": [
              "\n",
              "<style>\n",
              "    /* Turns off some styling */\n",
              "    progress {\n",
              "        /* gets rid of default border in Firefox and Opera. */\n",
              "        border: none;\n",
              "        /* Needs to be in here for Safari polyfill so background images work as expected. */\n",
              "        background-size: auto;\n",
              "    }\n",
              "    progress:not([value]), progress:not([value])::-webkit-progress-bar {\n",
              "        background: repeating-linear-gradient(45deg, #7e7e7e, #7e7e7e 10px, #5c5c5c 10px, #5c5c5c 20px);\n",
              "    }\n",
              "    .progress-bar-interrupted, .progress-bar-interrupted::-webkit-progress-bar {\n",
              "        background: #F44336;\n",
              "    }\n",
              "</style>\n"
            ],
            "text/plain": [
              "<IPython.core.display.HTML object>"
            ]
          },
          "metadata": {},
          "output_type": "display_data"
        },
        {
          "data": {
            "text/html": [],
            "text/plain": [
              "<IPython.core.display.HTML object>"
            ]
          },
          "metadata": {},
          "output_type": "display_data"
        },
        {
          "metadata": {
            "tags": null
          },
          "name": "stdout",
          "output_type": "stream",
          "text": [
            "Is Multi-Label? False\n",
            "preprocessing test...\n",
            "language: en\n",
            "test sequence lengths:\n",
            "\tmean : 51\n",
            "\t95percentile : 161\n",
            "\t99percentile : 390\n"
          ]
        },
        {
          "data": {
            "text/html": [
              "\n",
              "<style>\n",
              "    /* Turns off some styling */\n",
              "    progress {\n",
              "        /* gets rid of default border in Firefox and Opera. */\n",
              "        border: none;\n",
              "        /* Needs to be in here for Safari polyfill so background images work as expected. */\n",
              "        background-size: auto;\n",
              "    }\n",
              "    progress:not([value]), progress:not([value])::-webkit-progress-bar {\n",
              "        background: repeating-linear-gradient(45deg, #7e7e7e, #7e7e7e 10px, #5c5c5c 10px, #5c5c5c 20px);\n",
              "    }\n",
              "    .progress-bar-interrupted, .progress-bar-interrupted::-webkit-progress-bar {\n",
              "        background: #F44336;\n",
              "    }\n",
              "</style>\n"
            ],
            "text/plain": [
              "<IPython.core.display.HTML object>"
            ]
          },
          "metadata": {},
          "output_type": "display_data"
        },
        {
          "data": {
            "text/html": [],
            "text/plain": [
              "<IPython.core.display.HTML object>"
            ]
          },
          "metadata": {},
          "output_type": "display_data"
        },
        {
          "metadata": {
            "tags": null
          },
          "name": "stdout",
          "output_type": "stream",
          "text": [
            "simulating training for different learning rates... this may take a few moments...\n",
            "Epoch 1/10\n",
            "275/275 [==============================] - 88s 231ms/step - loss: 1.0282 - accuracy: 0.4936\n",
            "Epoch 2/10\n",
            "275/275 [==============================] - 66s 241ms/step - loss: 0.8660 - accuracy: 0.6038\n",
            "Epoch 3/10\n",
            "275/275 [==============================] - 66s 238ms/step - loss: 0.7897 - accuracy: 0.6429\n",
            "Epoch 4/10\n",
            "275/275 [==============================] - 65s 237ms/step - loss: 0.7980 - accuracy: 0.6452\n",
            "Epoch 5/10\n",
            "275/275 [==============================] - 65s 237ms/step - loss: 0.9458 - accuracy: 0.5867\n",
            "Epoch 6/10\n",
            "275/275 [==============================] - 65s 237ms/step - loss: 0.9534 - accuracy: 0.5517\n",
            "Epoch 7/10\n",
            "275/275 [==============================] - 65s 235ms/step - loss: 4.6905 - accuracy: 0.4979\n",
            "\n",
            "\n",
            "done.\n",
            "Please invoke the Learner.lr_plot() method to visually inspect the loss plot to help identify the maximal learning rate associated with falling loss.\n",
            "\n",
            "\n",
            "begin training using onecycle policy with max lr of 0.07670931574124945...\n",
            "Epoch 1/13\n",
            "276/276 [==============================] - 94s 275ms/step - loss: 2.4992 - accuracy: 0.4454 - val_loss: 3.0011 - val_accuracy: 0.5942\n",
            "Epoch 2/13\n",
            "276/276 [==============================] - 71s 256ms/step - loss: 3.6541 - accuracy: 0.4413 - val_loss: 1.1097 - val_accuracy: 0.5942\n",
            "Epoch 3/13\n",
            "276/276 [==============================] - 71s 256ms/step - loss: 4.4598 - accuracy: 0.4351 - val_loss: 2.3691 - val_accuracy: 0.5942\n",
            "Epoch 4/13\n",
            "276/276 [==============================] - 71s 257ms/step - loss: 8.7821 - accuracy: 0.4395 - val_loss: 9.5214 - val_accuracy: 0.5942\n",
            "Epoch 5/13\n",
            "276/276 [==============================] - 71s 256ms/step - loss: 7.7307 - accuracy: 0.4404 - val_loss: 10.1654 - val_accuracy: 0.2159\n",
            "Epoch 6/13\n",
            "276/276 [==============================] - 71s 257ms/step - loss: 8.7212 - accuracy: 0.4385 - val_loss: 5.0806 - val_accuracy: 0.5942\n",
            "Epoch 7/13\n",
            "276/276 [==============================] - 71s 256ms/step - loss: 11.0498 - accuracy: 0.4347 - val_loss: 1.8576 - val_accuracy: 0.1899\n",
            "Epoch 8/13\n",
            "276/276 [==============================] - 70s 255ms/step - loss: 8.3529 - accuracy: 0.4372 - val_loss: 5.1986 - val_accuracy: 0.5942\n",
            "Epoch 9/13\n",
            "276/276 [==============================] - 71s 257ms/step - loss: 5.2765 - accuracy: 0.4270 - val_loss: 1.0149 - val_accuracy: 0.5942\n",
            "Epoch 10/13\n",
            "276/276 [==============================] - 71s 256ms/step - loss: 4.7190 - accuracy: 0.4283 - val_loss: 3.4549 - val_accuracy: 0.5942\n",
            "Epoch 11/13\n",
            "276/276 [==============================] - 74s 267ms/step - loss: 2.8539 - accuracy: 0.4424 - val_loss: 1.1003 - val_accuracy: 0.5942\n",
            "Epoch 12/13\n",
            "276/276 [==============================] - 71s 257ms/step - loss: 2.4169 - accuracy: 0.4467 - val_loss: 1.4155 - val_accuracy: 0.5942\n",
            "Epoch 13/13\n",
            "276/276 [==============================] - 71s 256ms/step - loss: 1.5709 - accuracy: 0.4610 - val_loss: 0.9576 - val_accuracy: 0.5942\n",
            "Result\n",
            "60/60 [==============================] - 11s 129ms/step\n",
            "              precision    recall  f1-score   support\n",
            "\n",
            "           0       0.00      0.00      0.00       408\n",
            "           1       0.00      0.00      0.00       359\n",
            "           2       0.59      1.00      0.75      1123\n",
            "\n",
            "    accuracy                           0.59      1890\n",
            "   macro avg       0.20      0.33      0.25      1890\n",
            "weighted avg       0.35      0.59      0.44      1890\n",
            "\n",
            "[[   0    0  408]\n",
            " [   0    0  359]\n",
            " [   0    0 1123]]\n"
          ]
        },
        {
          "metadata": {
            "tags": null
          },
          "name": "stderr",
          "output_type": "stream",
          "text": [
            "/usr/local/lib/python3.10/dist-packages/sklearn/metrics/_classification.py:1344: UndefinedMetricWarning: Precision and F-score are ill-defined and being set to 0.0 in labels with no predicted samples. Use `zero_division` parameter to control this behavior.\n",
            "  _warn_prf(average, modifier, msg_start, len(result))\n",
            "/usr/local/lib/python3.10/dist-packages/sklearn/metrics/_classification.py:1344: UndefinedMetricWarning: Precision and F-score are ill-defined and being set to 0.0 in labels with no predicted samples. Use `zero_division` parameter to control this behavior.\n",
            "  _warn_prf(average, modifier, msg_start, len(result))\n",
            "/usr/local/lib/python3.10/dist-packages/sklearn/metrics/_classification.py:1344: UndefinedMetricWarning: Precision and F-score are ill-defined and being set to 0.0 in labels with no predicted samples. Use `zero_division` parameter to control this behavior.\n",
            "  _warn_prf(average, modifier, msg_start, len(result))\n"
          ]
        },
        {
          "metadata": {
            "tags": null
          },
          "name": "stdout",
          "output_type": "stream",
          "text": [
            "60/60 [==============================] - 7s 122ms/step\n",
            "              precision    recall  f1-score   support\n",
            "\n",
            "           0       0.00      0.00      0.00       408\n",
            "           1       0.00      0.00      0.00       359\n",
            "           2       0.59      1.00      0.75      1123\n",
            "\n",
            "    accuracy                           0.59      1890\n",
            "   macro avg       0.20      0.33      0.25      1890\n",
            "weighted avg       0.35      0.59      0.44      1890\n",
            "\n"
          ]
        },
        {
          "metadata": {
            "tags": null
          },
          "name": "stderr",
          "output_type": "stream",
          "text": [
            "/usr/local/lib/python3.10/dist-packages/sklearn/metrics/_classification.py:1344: UndefinedMetricWarning: Precision and F-score are ill-defined and being set to 0.0 in labels with no predicted samples. Use `zero_division` parameter to control this behavior.\n",
            "  _warn_prf(average, modifier, msg_start, len(result))\n",
            "/usr/local/lib/python3.10/dist-packages/sklearn/metrics/_classification.py:1344: UndefinedMetricWarning: Precision and F-score are ill-defined and being set to 0.0 in labels with no predicted samples. Use `zero_division` parameter to control this behavior.\n",
            "  _warn_prf(average, modifier, msg_start, len(result))\n",
            "/usr/local/lib/python3.10/dist-packages/sklearn/metrics/_classification.py:1344: UndefinedMetricWarning: Precision and F-score are ill-defined and being set to 0.0 in labels with no predicted samples. Use `zero_division` parameter to control this behavior.\n",
            "  _warn_prf(average, modifier, msg_start, len(result))\n",
            "\u001b[33m[W 2023-05-02 01:29:15,443]\u001b[0m Trial 0 failed with parameters: {'batch_size': 16, 'learning_rate': 0.07670931574124945, 'num_epochs': 13, 'max_length': 55} because of the following error: The value array([  0,   0, 408]) could not be cast to float..\u001b[0m\n",
            "\u001b[33m[W 2023-05-02 01:29:15,449]\u001b[0m Trial 0 failed with value array([  0,   0, 408]).\u001b[0m\n"
          ]
        },
        {
          "metadata": {
            "tags": null
          },
          "name": "stdout",
          "output_type": "stream",
          "text": [
            "preprocessing train...\n",
            "language: en\n",
            "train sequence lengths:\n",
            "\tmean : 50\n",
            "\t95percentile : 152\n",
            "\t99percentile : 379\n"
          ]
        },
        {
          "data": {
            "text/html": [
              "\n",
              "<style>\n",
              "    /* Turns off some styling */\n",
              "    progress {\n",
              "        /* gets rid of default border in Firefox and Opera. */\n",
              "        border: none;\n",
              "        /* Needs to be in here for Safari polyfill so background images work as expected. */\n",
              "        background-size: auto;\n",
              "    }\n",
              "    progress:not([value]), progress:not([value])::-webkit-progress-bar {\n",
              "        background: repeating-linear-gradient(45deg, #7e7e7e, #7e7e7e 10px, #5c5c5c 10px, #5c5c5c 20px);\n",
              "    }\n",
              "    .progress-bar-interrupted, .progress-bar-interrupted::-webkit-progress-bar {\n",
              "        background: #F44336;\n",
              "    }\n",
              "</style>\n"
            ],
            "text/plain": [
              "<IPython.core.display.HTML object>"
            ]
          },
          "metadata": {},
          "output_type": "display_data"
        },
        {
          "data": {
            "text/html": [],
            "text/plain": [
              "<IPython.core.display.HTML object>"
            ]
          },
          "metadata": {},
          "output_type": "display_data"
        },
        {
          "metadata": {
            "tags": null
          },
          "name": "stdout",
          "output_type": "stream",
          "text": [
            "Is Multi-Label? False\n",
            "preprocessing test...\n",
            "language: en\n",
            "test sequence lengths:\n",
            "\tmean : 51\n",
            "\t95percentile : 161\n",
            "\t99percentile : 390\n"
          ]
        },
        {
          "data": {
            "text/html": [
              "\n",
              "<style>\n",
              "    /* Turns off some styling */\n",
              "    progress {\n",
              "        /* gets rid of default border in Firefox and Opera. */\n",
              "        border: none;\n",
              "        /* Needs to be in here for Safari polyfill so background images work as expected. */\n",
              "        background-size: auto;\n",
              "    }\n",
              "    progress:not([value]), progress:not([value])::-webkit-progress-bar {\n",
              "        background: repeating-linear-gradient(45deg, #7e7e7e, #7e7e7e 10px, #5c5c5c 10px, #5c5c5c 20px);\n",
              "    }\n",
              "    .progress-bar-interrupted, .progress-bar-interrupted::-webkit-progress-bar {\n",
              "        background: #F44336;\n",
              "    }\n",
              "</style>\n"
            ],
            "text/plain": [
              "<IPython.core.display.HTML object>"
            ]
          },
          "metadata": {},
          "output_type": "display_data"
        },
        {
          "data": {
            "text/html": [],
            "text/plain": [
              "<IPython.core.display.HTML object>"
            ]
          },
          "metadata": {},
          "output_type": "display_data"
        },
        {
          "metadata": {
            "tags": null
          },
          "name": "stdout",
          "output_type": "stream",
          "text": [
            "simulating training for different learning rates... this may take a few moments...\n",
            "Epoch 1/10\n",
            "551/551 [==============================] - 251s 423ms/step - loss: 0.9563 - accuracy: 0.5892\n",
            "Epoch 2/10\n",
            "551/551 [==============================] - 233s 423ms/step - loss: 0.8368 - accuracy: 0.6124\n",
            "Epoch 3/10\n",
            "551/551 [==============================] - 233s 423ms/step - loss: 0.7740 - accuracy: 0.6504\n",
            "Epoch 4/10\n",
            "551/551 [==============================] - 232s 421ms/step - loss: 0.8129 - accuracy: 0.6493\n",
            "Epoch 5/10\n",
            "551/551 [==============================] - 232s 421ms/step - loss: 0.9812 - accuracy: 0.5831\n",
            "Epoch 6/10\n",
            "551/551 [==============================] - 232s 421ms/step - loss: 1.1409 - accuracy: 0.5241\n",
            "Epoch 7/10\n",
            "551/551 [==============================] - 231s 419ms/step - loss: 3.2819 - accuracy: 0.4589\n",
            "\n",
            "\n",
            "done.\n",
            "Please invoke the Learner.lr_plot() method to visually inspect the loss plot to help identify the maximal learning rate associated with falling loss.\n",
            "\n",
            "\n",
            "begin training using onecycle policy with max lr of 0.1472734865350791...\n",
            "Epoch 1/8\n",
            "552/552 [==============================] - 277s 469ms/step - loss: 8.6923 - accuracy: 0.4410 - val_loss: 15.7633 - val_accuracy: 0.5942\n",
            "Epoch 2/8\n",
            "552/552 [==============================] - 254s 460ms/step - loss: 10.3883 - accuracy: 0.4510 - val_loss: 14.0962 - val_accuracy: 0.5942\n",
            "Epoch 3/8\n",
            "552/552 [==============================] - 253s 459ms/step - loss: 16.2627 - accuracy: 0.4331 - val_loss: 33.2519 - val_accuracy: 0.5942\n",
            "Epoch 4/8\n",
            "552/552 [==============================] - 254s 459ms/step - loss: 28.0745 - accuracy: 0.4415 - val_loss: 11.1566 - val_accuracy: 0.5942\n",
            "Epoch 5/8\n",
            "552/552 [==============================] - 267s 483ms/step - loss: 21.8825 - accuracy: 0.4342 - val_loss: 16.0861 - val_accuracy: 0.5942\n",
            "Epoch 6/8\n",
            "552/552 [==============================] - 254s 459ms/step - loss: 14.6530 - accuracy: 0.4329 - val_loss: 3.6887 - val_accuracy: 0.5942\n",
            "Epoch 7/8\n",
            "552/552 [==============================] - 253s 459ms/step - loss: 9.6147 - accuracy: 0.4356 - val_loss: 17.9931 - val_accuracy: 0.5942\n",
            "Epoch 8/8\n",
            "552/552 [==============================] - 253s 459ms/step - loss: 6.2398 - accuracy: 0.4401 - val_loss: 1.6842 - val_accuracy: 0.5942\n",
            "Result\n",
            "60/60 [==============================] - 32s 465ms/step\n",
            "              precision    recall  f1-score   support\n",
            "\n",
            "           0       0.00      0.00      0.00       408\n",
            "           1       0.00      0.00      0.00       359\n",
            "           2       0.59      1.00      0.75      1123\n",
            "\n",
            "    accuracy                           0.59      1890\n",
            "   macro avg       0.20      0.33      0.25      1890\n",
            "weighted avg       0.35      0.59      0.44      1890\n",
            "\n",
            "[[   0    0  408]\n",
            " [   0    0  359]\n",
            " [   0    0 1123]]\n"
          ]
        },
        {
          "metadata": {
            "tags": null
          },
          "name": "stderr",
          "output_type": "stream",
          "text": [
            "/usr/local/lib/python3.10/dist-packages/sklearn/metrics/_classification.py:1344: UndefinedMetricWarning: Precision and F-score are ill-defined and being set to 0.0 in labels with no predicted samples. Use `zero_division` parameter to control this behavior.\n",
            "  _warn_prf(average, modifier, msg_start, len(result))\n",
            "/usr/local/lib/python3.10/dist-packages/sklearn/metrics/_classification.py:1344: UndefinedMetricWarning: Precision and F-score are ill-defined and being set to 0.0 in labels with no predicted samples. Use `zero_division` parameter to control this behavior.\n",
            "  _warn_prf(average, modifier, msg_start, len(result))\n",
            "/usr/local/lib/python3.10/dist-packages/sklearn/metrics/_classification.py:1344: UndefinedMetricWarning: Precision and F-score are ill-defined and being set to 0.0 in labels with no predicted samples. Use `zero_division` parameter to control this behavior.\n",
            "  _warn_prf(average, modifier, msg_start, len(result))\n"
          ]
        },
        {
          "metadata": {
            "tags": null
          },
          "name": "stdout",
          "output_type": "stream",
          "text": [
            "60/60 [==============================] - 28s 465ms/step\n",
            "              precision    recall  f1-score   support\n",
            "\n",
            "           0       0.00      0.00      0.00       408\n",
            "           1       0.00      0.00      0.00       359\n",
            "           2       0.59      1.00      0.75      1123\n",
            "\n",
            "    accuracy                           0.59      1890\n",
            "   macro avg       0.20      0.33      0.25      1890\n",
            "weighted avg       0.35      0.59      0.44      1890\n",
            "\n"
          ]
        },
        {
          "metadata": {
            "tags": null
          },
          "name": "stderr",
          "output_type": "stream",
          "text": [
            "/usr/local/lib/python3.10/dist-packages/sklearn/metrics/_classification.py:1344: UndefinedMetricWarning: Precision and F-score are ill-defined and being set to 0.0 in labels with no predicted samples. Use `zero_division` parameter to control this behavior.\n",
            "  _warn_prf(average, modifier, msg_start, len(result))\n",
            "/usr/local/lib/python3.10/dist-packages/sklearn/metrics/_classification.py:1344: UndefinedMetricWarning: Precision and F-score are ill-defined and being set to 0.0 in labels with no predicted samples. Use `zero_division` parameter to control this behavior.\n",
            "  _warn_prf(average, modifier, msg_start, len(result))\n",
            "/usr/local/lib/python3.10/dist-packages/sklearn/metrics/_classification.py:1344: UndefinedMetricWarning: Precision and F-score are ill-defined and being set to 0.0 in labels with no predicted samples. Use `zero_division` parameter to control this behavior.\n",
            "  _warn_prf(average, modifier, msg_start, len(result))\n",
            "\u001b[33m[W 2023-05-02 02:32:40,796]\u001b[0m Trial 1 failed with parameters: {'batch_size': 8, 'learning_rate': 0.1472734865350791, 'num_epochs': 8, 'max_length': 219} because of the following error: The value array([  0,   0, 408]) could not be cast to float..\u001b[0m\n",
            "\u001b[33m[W 2023-05-02 02:32:40,808]\u001b[0m Trial 1 failed with value array([  0,   0, 408]).\u001b[0m\n"
          ]
        },
        {
          "metadata": {
            "tags": null
          },
          "name": "stdout",
          "output_type": "stream",
          "text": [
            "preprocessing train...\n",
            "language: en\n",
            "train sequence lengths:\n",
            "\tmean : 50\n",
            "\t95percentile : 152\n",
            "\t99percentile : 379\n"
          ]
        },
        {
          "data": {
            "text/html": [
              "\n",
              "<style>\n",
              "    /* Turns off some styling */\n",
              "    progress {\n",
              "        /* gets rid of default border in Firefox and Opera. */\n",
              "        border: none;\n",
              "        /* Needs to be in here for Safari polyfill so background images work as expected. */\n",
              "        background-size: auto;\n",
              "    }\n",
              "    progress:not([value]), progress:not([value])::-webkit-progress-bar {\n",
              "        background: repeating-linear-gradient(45deg, #7e7e7e, #7e7e7e 10px, #5c5c5c 10px, #5c5c5c 20px);\n",
              "    }\n",
              "    .progress-bar-interrupted, .progress-bar-interrupted::-webkit-progress-bar {\n",
              "        background: #F44336;\n",
              "    }\n",
              "</style>\n"
            ],
            "text/plain": [
              "<IPython.core.display.HTML object>"
            ]
          },
          "metadata": {},
          "output_type": "display_data"
        },
        {
          "data": {
            "text/html": [],
            "text/plain": [
              "<IPython.core.display.HTML object>"
            ]
          },
          "metadata": {},
          "output_type": "display_data"
        },
        {
          "metadata": {
            "tags": null
          },
          "name": "stdout",
          "output_type": "stream",
          "text": [
            "Is Multi-Label? False\n",
            "preprocessing test...\n",
            "language: en\n",
            "test sequence lengths:\n",
            "\tmean : 51\n",
            "\t95percentile : 161\n",
            "\t99percentile : 390\n"
          ]
        },
        {
          "data": {
            "text/html": [
              "\n",
              "<style>\n",
              "    /* Turns off some styling */\n",
              "    progress {\n",
              "        /* gets rid of default border in Firefox and Opera. */\n",
              "        border: none;\n",
              "        /* Needs to be in here for Safari polyfill so background images work as expected. */\n",
              "        background-size: auto;\n",
              "    }\n",
              "    progress:not([value]), progress:not([value])::-webkit-progress-bar {\n",
              "        background: repeating-linear-gradient(45deg, #7e7e7e, #7e7e7e 10px, #5c5c5c 10px, #5c5c5c 20px);\n",
              "    }\n",
              "    .progress-bar-interrupted, .progress-bar-interrupted::-webkit-progress-bar {\n",
              "        background: #F44336;\n",
              "    }\n",
              "</style>\n"
            ],
            "text/plain": [
              "<IPython.core.display.HTML object>"
            ]
          },
          "metadata": {},
          "output_type": "display_data"
        },
        {
          "data": {
            "text/html": [],
            "text/plain": [
              "<IPython.core.display.HTML object>"
            ]
          },
          "metadata": {},
          "output_type": "display_data"
        },
        {
          "output_type": "stream",
          "name": "stdout",
          "text": [
            "simulating training for different learning rates... this may take a few moments...\n",
            "Epoch 1/10\n",
            "275/275 [==============================] - 253s 855ms/step - loss: 0.9960 - accuracy: 0.5020\n",
            "Epoch 2/10\n",
            "275/275 [==============================] - 235s 854ms/step - loss: 0.8105 - accuracy: 0.6284\n",
            "Epoch 3/10\n",
            " 31/275 [==>...........................] - ETA: 3:26 - loss: 0.7337 - accuracy: 0.7020"
          ]
        }
      ]
    },
    {
      "cell_type": "code",
      "execution_count": null,
      "metadata": {
        "colab": {
          "base_uri": "https://localhost:8080/",
          "height": 991
        },
        "id": "sDcdtHXtctru",
        "outputId": "8c83c413-644c-4107-d415-8cab5be396fd"
      },
      "outputs": [
        {
          "metadata": {
            "tags": null
          },
          "name": "stdout",
          "output_type": "stream",
          "text": [
            "preprocessing train...\n",
            "language: en\n",
            "train sequence lengths:\n",
            "\tmean : 50\n",
            "\t95percentile : 152\n",
            "\t99percentile : 379\n"
          ]
        },
        {
          "data": {
            "text/html": [
              "\n",
              "<style>\n",
              "    /* Turns off some styling */\n",
              "    progress {\n",
              "        /* gets rid of default border in Firefox and Opera. */\n",
              "        border: none;\n",
              "        /* Needs to be in here for Safari polyfill so background images work as expected. */\n",
              "        background-size: auto;\n",
              "    }\n",
              "    progress:not([value]), progress:not([value])::-webkit-progress-bar {\n",
              "        background: repeating-linear-gradient(45deg, #7e7e7e, #7e7e7e 10px, #5c5c5c 10px, #5c5c5c 20px);\n",
              "    }\n",
              "    .progress-bar-interrupted, .progress-bar-interrupted::-webkit-progress-bar {\n",
              "        background: #F44336;\n",
              "    }\n",
              "</style>\n"
            ],
            "text/plain": [
              "<IPython.core.display.HTML object>"
            ]
          },
          "metadata": {},
          "output_type": "display_data"
        },
        {
          "data": {
            "text/html": [],
            "text/plain": [
              "<IPython.core.display.HTML object>"
            ]
          },
          "metadata": {},
          "output_type": "display_data"
        },
        {
          "metadata": {
            "tags": null
          },
          "name": "stdout",
          "output_type": "stream",
          "text": [
            "Is Multi-Label? False\n",
            "preprocessing test...\n",
            "language: en\n",
            "test sequence lengths:\n",
            "\tmean : 51\n",
            "\t95percentile : 161\n",
            "\t99percentile : 390\n"
          ]
        },
        {
          "data": {
            "text/html": [
              "\n",
              "<style>\n",
              "    /* Turns off some styling */\n",
              "    progress {\n",
              "        /* gets rid of default border in Firefox and Opera. */\n",
              "        border: none;\n",
              "        /* Needs to be in here for Safari polyfill so background images work as expected. */\n",
              "        background-size: auto;\n",
              "    }\n",
              "    progress:not([value]), progress:not([value])::-webkit-progress-bar {\n",
              "        background: repeating-linear-gradient(45deg, #7e7e7e, #7e7e7e 10px, #5c5c5c 10px, #5c5c5c 20px);\n",
              "    }\n",
              "    .progress-bar-interrupted, .progress-bar-interrupted::-webkit-progress-bar {\n",
              "        background: #F44336;\n",
              "    }\n",
              "</style>\n"
            ],
            "text/plain": [
              "<IPython.core.display.HTML object>"
            ]
          },
          "metadata": {},
          "output_type": "display_data"
        },
        {
          "data": {
            "text/html": [],
            "text/plain": [
              "<IPython.core.display.HTML object>"
            ]
          },
          "metadata": {},
          "output_type": "display_data"
        },
        {
          "output_type": "stream",
          "name": "stdout",
          "text": [
            "simulating training for different learning rates... this may take a few moments...\n",
            "Epoch 1/10\n",
            "183/183 [==============================] - 117s 518ms/step - loss: 1.0356 - accuracy: 0.5321\n",
            "Epoch 2/10\n",
            "183/183 [==============================] - 95s 520ms/step - loss: 0.9120 - accuracy: 0.6001\n",
            "Epoch 3/10\n",
            "183/183 [==============================] - 94s 516ms/step - loss: 0.7975 - accuracy: 0.6386\n",
            "Epoch 4/10\n",
            "183/183 [==============================] - 94s 516ms/step - loss: 0.7929 - accuracy: 0.6475\n",
            "Epoch 5/10\n",
            "183/183 [==============================] - 94s 516ms/step - loss: 0.9658 - accuracy: 0.5880\n",
            "Epoch 6/10\n",
            "183/183 [==============================] - 94s 514ms/step - loss: 1.0679 - accuracy: 0.5565\n",
            "Epoch 7/10\n",
            "183/183 [==============================] - 67s 364ms/step - loss: 4.0070 - accuracy: 0.4258\n",
            "\n",
            "\n",
            "done.\n",
            "Please invoke the Learner.lr_plot() method to visually inspect the loss plot to help identify the maximal learning rate associated with falling loss.\n",
            "\n",
            "\n",
            "begin training using onecycle policy with max lr of 1e-05...\n",
            "Epoch 1/10\n",
            "184/184 [==============================] - 130s 612ms/step - loss: 0.8661 - accuracy: 0.6093 - val_loss: 0.7942 - val_accuracy: 0.6354\n",
            "Epoch 2/10\n",
            "184/184 [==============================] - 109s 591ms/step - loss: 0.7501 - accuracy: 0.6642 - val_loss: 0.7787 - val_accuracy: 0.6688\n",
            "Epoch 3/10\n",
            "184/184 [==============================] - 108s 589ms/step - loss: 0.7001 - accuracy: 0.6993 - val_loss: 0.7616 - val_accuracy: 0.6794\n",
            "Epoch 4/10\n",
            "184/184 [==============================] - 108s 589ms/step - loss: 0.6401 - accuracy: 0.7363 - val_loss: 0.7804 - val_accuracy: 0.6698\n",
            "Epoch 5/10\n",
            "184/184 [==============================] - 116s 630ms/step - loss: 0.5758 - accuracy: 0.7769 - val_loss: 0.7916 - val_accuracy: 0.6783\n",
            "Epoch 6/10\n",
            "184/184 [==============================] - 109s 590ms/step - loss: 0.4681 - accuracy: 0.8204 - val_loss: 0.9075 - val_accuracy: 0.6667\n",
            "Epoch 7/10\n",
            "184/184 [==============================] - 108s 589ms/step - loss: 0.3481 - accuracy: 0.8760 - val_loss: 0.9864 - val_accuracy: 0.6630\n",
            "Epoch 8/10\n",
            "184/184 [==============================] - 108s 589ms/step - loss: 0.2538 - accuracy: 0.9104 - val_loss: 1.1648 - val_accuracy: 0.6593\n",
            "Epoch 9/10\n",
            "184/184 [==============================] - 108s 589ms/step - loss: 0.1769 - accuracy: 0.9417 - val_loss: 1.2446 - val_accuracy: 0.6561\n",
            "Epoch 10/10\n",
            " 37/184 [=====>........................] - ETA: 1:16 - loss: 0.1430 - accuracy: 0.9471"
          ]
        }
      ],
      "source": [
        "\n",
        "# Initialize the BERT multilingual model\n",
        "model_name = 'bert-base-multilingual-cased'\n",
        "t = text.Transformer(model_name, maxlen=350, class_names=list(set(y_train)), batch_size=12)\n",
        "\n",
        "# Preprocess the data\n",
        "trn = t.preprocess_train(X_train, y_train)\n",
        "val = t.preprocess_test(X_test, y_test)\n",
        "\n",
        "# Define the model\n",
        "model = t.get_classifier()\n",
        "\n",
        "# find optimal learning rate\n",
        "learner = ktrain.get_learner(model, train_data=trn, val_data=val, batch_size=24)\n",
        "learner.lr_find(max_epochs=10)\n",
        "\n",
        "# fit the model with optimal learning rate\n",
        "learner.fit_onecycle(1e-3, 10)"
      ]
    },
    {
      "cell_type": "code",
      "execution_count": null,
      "metadata": {
        "id": "pfU_CDRevB4d",
        "colab": {
          "base_uri": "https://localhost:8080/"
        },
        "outputId": "d8c88dcb-adb1-458c-d0b1-d962cc362145"
      },
      "outputs": [
        {
          "output_type": "stream",
          "name": "stdout",
          "text": [
            "              precision    recall  f1-score   support\n",
            "\n",
            "           0       0.43      0.41      0.42       408\n",
            "           1       0.54      0.45      0.49       359\n",
            "           2       0.75      0.80      0.78      1123\n",
            "\n",
            "    accuracy                           0.65      1890\n",
            "   macro avg       0.58      0.56      0.56      1890\n",
            "weighted avg       0.64      0.65      0.65      1890\n",
            "\n"
          ]
        }
      ],
      "source": [
        "predictor = ktrain.get_predictor(learner.model, preproc=t)\n",
        "y_pred = predictor.predict(X_test) \n",
        "\n",
        "\n",
        "# print classification report\n",
        "from sklearn import metrics\n",
        "print(metrics.classification_report(y_test, y_pred))"
      ]
    },
    {
      "cell_type": "code",
      "execution_count": null,
      "metadata": {
        "colab": {
          "base_uri": "https://localhost:8080/"
        },
        "id": "wtOGmtXRctpZ",
        "outputId": "47ea7eed-f824-4d4e-e59b-d221a469a0e3"
      },
      "outputs": [
        {
          "name": "stdout",
          "output_type": "stream",
          "text": [
            "              precision    recall  f1-score   support\n",
            "\n",
            "           0       0.60      0.24      0.34       408\n",
            "           1       0.54      0.66      0.60       359\n",
            "           2       0.75      0.86      0.80      1123\n",
            "\n",
            "    accuracy                           0.69      1890\n",
            "   macro avg       0.63      0.59      0.58      1890\n",
            "weighted avg       0.68      0.69      0.66      1890\n",
            "\n"
          ]
        }
      ],
      "source": [
        "\n"
      ]
    },
    {
      "cell_type": "markdown",
      "source": [
        "## On clean Text"
      ],
      "metadata": {
        "id": "aMzMDvG7UVM3"
      }
    },
    {
      "cell_type": "code",
      "source": [
        "df = df[['x_cleaned', 'sentiment']].reset_index(drop = True)\n",
        "df.dropna(subset='x_cleaned',inplace=True)\n",
        "df['x_cleaned'] = df['x_cleaned'].apply(str)\n",
        "# df['sentiment'] = df['sentiment'].astype(str)"
      ],
      "metadata": {
        "id": "FLxP3_KGUUjc"
      },
      "execution_count": null,
      "outputs": []
    },
    {
      "cell_type": "code",
      "source": [
        "from sklearn.model_selection import StratifiedShuffleSplit\n",
        "# Stratified train/test splitting\n",
        "df.reset_index(drop=True, inplace=True)\n",
        "ss1 = StratifiedShuffleSplit(n_splits=4, test_size=0.3, random_state=0)\n",
        "for train_index, intermediate_index in ss1.split(df, df['sentiment']):\n",
        "    print(intermediate_index)\n",
        "    train_set = df.loc[train_index]\n",
        "    test_set = df.loc[intermediate_index]\n",
        "\n",
        "\n",
        "# Indexes are unordered, put them back\n",
        "train_set.reset_index(drop=True, inplace=True)\n",
        "test_set.reset_index(drop=True, inplace=True)"
      ],
      "metadata": {
        "colab": {
          "base_uri": "https://localhost:8080/"
        },
        "id": "5yIGLX7QUUgX",
        "outputId": "02f6d41f-9f17-42d9-bc5c-4121809df96c"
      },
      "execution_count": null,
      "outputs": [
        {
          "output_type": "stream",
          "name": "stdout",
          "text": [
            "[1255 5660 6020 ... 1373 3714 4580]\n",
            "[ 310  891 2141 ... 5393 4036 3494]\n",
            "[2877 2367  663 ...  840 4115 1988]\n",
            "[1975 4361 4635 ... 5889 1935 5727]\n"
          ]
        }
      ]
    },
    {
      "cell_type": "code",
      "source": [
        "# Inputs\n",
        "X_train = np.asarray(train_set.x_cleaned)\n",
        "X_test = np.asarray(test_set.x_cleaned)\n",
        "\n",
        "# Outputs\n",
        "y_train = train_set.sentiment.values.tolist()\n",
        "y_test = test_set.sentiment.values.tolist()"
      ],
      "metadata": {
        "id": "tubrv6xQUUdJ"
      },
      "execution_count": null,
      "outputs": []
    },
    {
      "cell_type": "code",
      "source": [
        "del model_name\n",
        "del t\n",
        "del model\n",
        "del learner\n",
        "# del learner"
      ],
      "metadata": {
        "id": "e8eUudB_VSYF"
      },
      "execution_count": null,
      "outputs": []
    },
    {
      "cell_type": "code",
      "source": [
        "\n",
        "# Initialize the BERT multilingual model\n",
        "model_name = 'bert-base-multilingual-cased'\n",
        "t = text.Transformer(model_name, maxlen=500, class_names=list(set(y_train)), batch_size=8)\n",
        "\n",
        "# Preprocess the data\n",
        "trn = t.preprocess_train(X_train, y_train)\n",
        "val = t.preprocess_test(X_test, y_test)\n",
        "\n",
        "# Define the model\n",
        "model = t.get_classifier()\n",
        "\n",
        "# find optimal learning rate\n",
        "learner = ktrain.get_learner(model, train_data=trn, val_data=val, batch_size=8)\n",
        "learner.lr_find(max_epochs=3)\n",
        "\n",
        "# fit the model with optimal learning rate\n",
        "learner.fit_onecycle(1e-5, 7)"
      ],
      "metadata": {
        "colab": {
          "base_uri": "https://localhost:8080/",
          "height": 1000
        },
        "id": "67Hrn1DhUUZp",
        "outputId": "02e8fdd0-d7cb-4f20-bbb3-9ab92e89449c"
      },
      "execution_count": null,
      "outputs": [
        {
          "output_type": "stream",
          "name": "stdout",
          "text": [
            "preprocessing train...\n",
            "language: en\n",
            "train sequence lengths:\n",
            "\tmean : 27\n",
            "\t95percentile : 81\n",
            "\t99percentile : 194\n"
          ]
        },
        {
          "output_type": "display_data",
          "data": {
            "text/plain": [
              "<IPython.core.display.HTML object>"
            ],
            "text/html": [
              "\n",
              "<style>\n",
              "    /* Turns off some styling */\n",
              "    progress {\n",
              "        /* gets rid of default border in Firefox and Opera. */\n",
              "        border: none;\n",
              "        /* Needs to be in here for Safari polyfill so background images work as expected. */\n",
              "        background-size: auto;\n",
              "    }\n",
              "    progress:not([value]), progress:not([value])::-webkit-progress-bar {\n",
              "        background: repeating-linear-gradient(45deg, #7e7e7e, #7e7e7e 10px, #5c5c5c 10px, #5c5c5c 20px);\n",
              "    }\n",
              "    .progress-bar-interrupted, .progress-bar-interrupted::-webkit-progress-bar {\n",
              "        background: #F44336;\n",
              "    }\n",
              "</style>\n"
            ]
          },
          "metadata": {}
        },
        {
          "output_type": "display_data",
          "data": {
            "text/plain": [
              "<IPython.core.display.HTML object>"
            ],
            "text/html": []
          },
          "metadata": {}
        },
        {
          "output_type": "stream",
          "name": "stdout",
          "text": [
            "Is Multi-Label? False\n",
            "preprocessing test...\n",
            "language: en\n",
            "test sequence lengths:\n",
            "\tmean : 28\n",
            "\t95percentile : 83\n",
            "\t99percentile : 196\n"
          ]
        },
        {
          "output_type": "display_data",
          "data": {
            "text/plain": [
              "<IPython.core.display.HTML object>"
            ],
            "text/html": [
              "\n",
              "<style>\n",
              "    /* Turns off some styling */\n",
              "    progress {\n",
              "        /* gets rid of default border in Firefox and Opera. */\n",
              "        border: none;\n",
              "        /* Needs to be in here for Safari polyfill so background images work as expected. */\n",
              "        background-size: auto;\n",
              "    }\n",
              "    progress:not([value]), progress:not([value])::-webkit-progress-bar {\n",
              "        background: repeating-linear-gradient(45deg, #7e7e7e, #7e7e7e 10px, #5c5c5c 10px, #5c5c5c 20px);\n",
              "    }\n",
              "    .progress-bar-interrupted, .progress-bar-interrupted::-webkit-progress-bar {\n",
              "        background: #F44336;\n",
              "    }\n",
              "</style>\n"
            ]
          },
          "metadata": {}
        },
        {
          "output_type": "display_data",
          "data": {
            "text/plain": [
              "<IPython.core.display.HTML object>"
            ],
            "text/html": []
          },
          "metadata": {}
        },
        {
          "output_type": "stream",
          "name": "stdout",
          "text": [
            "simulating training for different learning rates... this may take a few moments...\n",
            "Epoch 1/3\n"
          ]
        },
        {
          "output_type": "error",
          "ename": "ResourceExhaustedError",
          "evalue": "ignored",
          "traceback": [
            "\u001b[0;31m---------------------------------------------------------------------------\u001b[0m",
            "\u001b[0;31mResourceExhaustedError\u001b[0m                    Traceback (most recent call last)",
            "\u001b[0;32m<ipython-input-41-26482cc03d4f>\u001b[0m in \u001b[0;36m<cell line: 14>\u001b[0;34m()\u001b[0m\n\u001b[1;32m     12\u001b[0m \u001b[0;31m# find optimal learning rate\u001b[0m\u001b[0;34m\u001b[0m\u001b[0;34m\u001b[0m\u001b[0m\n\u001b[1;32m     13\u001b[0m \u001b[0mlearner\u001b[0m \u001b[0;34m=\u001b[0m \u001b[0mktrain\u001b[0m\u001b[0;34m.\u001b[0m\u001b[0mget_learner\u001b[0m\u001b[0;34m(\u001b[0m\u001b[0mmodel\u001b[0m\u001b[0;34m,\u001b[0m \u001b[0mtrain_data\u001b[0m\u001b[0;34m=\u001b[0m\u001b[0mtrn\u001b[0m\u001b[0;34m,\u001b[0m \u001b[0mval_data\u001b[0m\u001b[0;34m=\u001b[0m\u001b[0mval\u001b[0m\u001b[0;34m,\u001b[0m \u001b[0mbatch_size\u001b[0m\u001b[0;34m=\u001b[0m\u001b[0;36m8\u001b[0m\u001b[0;34m)\u001b[0m\u001b[0;34m\u001b[0m\u001b[0;34m\u001b[0m\u001b[0m\n\u001b[0;32m---> 14\u001b[0;31m \u001b[0mlearner\u001b[0m\u001b[0;34m.\u001b[0m\u001b[0mlr_find\u001b[0m\u001b[0;34m(\u001b[0m\u001b[0mmax_epochs\u001b[0m\u001b[0;34m=\u001b[0m\u001b[0;36m3\u001b[0m\u001b[0;34m)\u001b[0m\u001b[0;34m\u001b[0m\u001b[0;34m\u001b[0m\u001b[0m\n\u001b[0m\u001b[1;32m     15\u001b[0m \u001b[0;34m\u001b[0m\u001b[0m\n\u001b[1;32m     16\u001b[0m \u001b[0;31m# fit the model with optimal learning rate\u001b[0m\u001b[0;34m\u001b[0m\u001b[0;34m\u001b[0m\u001b[0m\n",
            "\u001b[0;32m/usr/local/lib/python3.10/dist-packages/ktrain/core.py\u001b[0m in \u001b[0;36mlr_find\u001b[0;34m(self, start_lr, lr_mult, max_epochs, class_weight, stop_factor, show_plot, suggest, restore_weights_only, verbose)\u001b[0m\n\u001b[1;32m    616\u001b[0m             \u001b[0;31m# track and plot learning rates\u001b[0m\u001b[0;34m\u001b[0m\u001b[0;34m\u001b[0m\u001b[0m\n\u001b[1;32m    617\u001b[0m             \u001b[0mself\u001b[0m\u001b[0;34m.\u001b[0m\u001b[0mlr_finder\u001b[0m \u001b[0;34m=\u001b[0m \u001b[0mLRFinder\u001b[0m\u001b[0;34m(\u001b[0m\u001b[0mself\u001b[0m\u001b[0;34m.\u001b[0m\u001b[0mmodel\u001b[0m\u001b[0;34m,\u001b[0m \u001b[0mstop_factor\u001b[0m\u001b[0;34m=\u001b[0m\u001b[0mstop_factor\u001b[0m\u001b[0;34m)\u001b[0m\u001b[0;34m\u001b[0m\u001b[0;34m\u001b[0m\u001b[0m\n\u001b[0;32m--> 618\u001b[0;31m             self.lr_finder.find(\n\u001b[0m\u001b[1;32m    619\u001b[0m                 \u001b[0mself\u001b[0m\u001b[0;34m.\u001b[0m\u001b[0m_prepare\u001b[0m\u001b[0;34m(\u001b[0m\u001b[0mself\u001b[0m\u001b[0;34m.\u001b[0m\u001b[0mtrain_data\u001b[0m\u001b[0;34m)\u001b[0m\u001b[0;34m,\u001b[0m\u001b[0;34m\u001b[0m\u001b[0;34m\u001b[0m\u001b[0m\n\u001b[1;32m    620\u001b[0m                 \u001b[0msteps_per_epoch\u001b[0m\u001b[0;34m,\u001b[0m\u001b[0;34m\u001b[0m\u001b[0;34m\u001b[0m\u001b[0m\n",
            "\u001b[0;32m/usr/local/lib/python3.10/dist-packages/ktrain/lroptimize/lrfinder.py\u001b[0m in \u001b[0;36mfind\u001b[0;34m(self, train_data, steps_per_epoch, use_gen, class_weight, start_lr, lr_mult, max_epochs, batch_size, workers, use_multiprocessing, verbose)\u001b[0m\n\u001b[1;32m    128\u001b[0m             \u001b[0;31m# *_generator methods are deprecated from TF 2.1.0\u001b[0m\u001b[0;34m\u001b[0m\u001b[0;34m\u001b[0m\u001b[0m\n\u001b[1;32m    129\u001b[0m             \u001b[0mfit_fn\u001b[0m \u001b[0;34m=\u001b[0m \u001b[0mself\u001b[0m\u001b[0;34m.\u001b[0m\u001b[0mmodel\u001b[0m\u001b[0;34m.\u001b[0m\u001b[0mfit\u001b[0m\u001b[0;34m\u001b[0m\u001b[0;34m\u001b[0m\u001b[0m\n\u001b[0;32m--> 130\u001b[0;31m             fit_fn(\n\u001b[0m\u001b[1;32m    131\u001b[0m                 \u001b[0mtrain_data\u001b[0m\u001b[0;34m,\u001b[0m\u001b[0;34m\u001b[0m\u001b[0;34m\u001b[0m\u001b[0m\n\u001b[1;32m    132\u001b[0m                 \u001b[0msteps_per_epoch\u001b[0m\u001b[0;34m=\u001b[0m\u001b[0msteps_per_epoch\u001b[0m\u001b[0;34m,\u001b[0m\u001b[0;34m\u001b[0m\u001b[0;34m\u001b[0m\u001b[0m\n",
            "\u001b[0;32m/usr/local/lib/python3.10/dist-packages/keras/utils/traceback_utils.py\u001b[0m in \u001b[0;36merror_handler\u001b[0;34m(*args, **kwargs)\u001b[0m\n\u001b[1;32m     68\u001b[0m             \u001b[0;31m# To get the full stack trace, call:\u001b[0m\u001b[0;34m\u001b[0m\u001b[0;34m\u001b[0m\u001b[0m\n\u001b[1;32m     69\u001b[0m             \u001b[0;31m# `tf.debugging.disable_traceback_filtering()`\u001b[0m\u001b[0;34m\u001b[0m\u001b[0;34m\u001b[0m\u001b[0m\n\u001b[0;32m---> 70\u001b[0;31m             \u001b[0;32mraise\u001b[0m \u001b[0me\u001b[0m\u001b[0;34m.\u001b[0m\u001b[0mwith_traceback\u001b[0m\u001b[0;34m(\u001b[0m\u001b[0mfiltered_tb\u001b[0m\u001b[0;34m)\u001b[0m \u001b[0;32mfrom\u001b[0m \u001b[0;32mNone\u001b[0m\u001b[0;34m\u001b[0m\u001b[0;34m\u001b[0m\u001b[0m\n\u001b[0m\u001b[1;32m     71\u001b[0m         \u001b[0;32mfinally\u001b[0m\u001b[0;34m:\u001b[0m\u001b[0;34m\u001b[0m\u001b[0;34m\u001b[0m\u001b[0m\n\u001b[1;32m     72\u001b[0m             \u001b[0;32mdel\u001b[0m \u001b[0mfiltered_tb\u001b[0m\u001b[0;34m\u001b[0m\u001b[0;34m\u001b[0m\u001b[0m\n",
            "\u001b[0;32m/usr/local/lib/python3.10/dist-packages/tensorflow/python/eager/execute.py\u001b[0m in \u001b[0;36mquick_execute\u001b[0;34m(op_name, num_outputs, inputs, attrs, ctx, name)\u001b[0m\n\u001b[1;32m     50\u001b[0m   \u001b[0;32mtry\u001b[0m\u001b[0;34m:\u001b[0m\u001b[0;34m\u001b[0m\u001b[0;34m\u001b[0m\u001b[0m\n\u001b[1;32m     51\u001b[0m     \u001b[0mctx\u001b[0m\u001b[0;34m.\u001b[0m\u001b[0mensure_initialized\u001b[0m\u001b[0;34m(\u001b[0m\u001b[0;34m)\u001b[0m\u001b[0;34m\u001b[0m\u001b[0;34m\u001b[0m\u001b[0m\n\u001b[0;32m---> 52\u001b[0;31m     tensors = pywrap_tfe.TFE_Py_Execute(ctx._handle, device_name, op_name,\n\u001b[0m\u001b[1;32m     53\u001b[0m                                         inputs, attrs, num_outputs)\n\u001b[1;32m     54\u001b[0m   \u001b[0;32mexcept\u001b[0m \u001b[0mcore\u001b[0m\u001b[0;34m.\u001b[0m\u001b[0m_NotOkStatusException\u001b[0m \u001b[0;32mas\u001b[0m \u001b[0me\u001b[0m\u001b[0;34m:\u001b[0m\u001b[0;34m\u001b[0m\u001b[0;34m\u001b[0m\u001b[0m\n",
            "\u001b[0;31mResourceExhaustedError\u001b[0m: Graph execution error:\n\nDetected at node 'tf_bert_for_sequence_classification_10/bert/encoder/layer_._6/attention/self/MatMul' defined at (most recent call last):\n    File \"/usr/lib/python3.10/runpy.py\", line 196, in _run_module_as_main\n      return _run_code(code, main_globals, None,\n    File \"/usr/lib/python3.10/runpy.py\", line 86, in _run_code\n      exec(code, run_globals)\n    File \"/usr/local/lib/python3.10/dist-packages/ipykernel_launcher.py\", line 16, in <module>\n      app.launch_new_instance()\n    File \"/usr/local/lib/python3.10/dist-packages/traitlets/config/application.py\", line 992, in launch_instance\n      app.start()\n    File \"/usr/local/lib/python3.10/dist-packages/ipykernel/kernelapp.py\", line 619, in start\n      self.io_loop.start()\n    File \"/usr/local/lib/python3.10/dist-packages/tornado/platform/asyncio.py\", line 215, in start\n      self.asyncio_loop.run_forever()\n    File \"/usr/lib/python3.10/asyncio/base_events.py\", line 603, in run_forever\n      self._run_once()\n    File \"/usr/lib/python3.10/asyncio/base_events.py\", line 1909, in _run_once\n      handle._run()\n    File \"/usr/lib/python3.10/asyncio/events.py\", line 80, in _run\n      self._context.run(self._callback, *self._args)\n    File \"/usr/local/lib/python3.10/dist-packages/tornado/ioloop.py\", line 687, in <lambda>\n      lambda f: self._run_callback(functools.partial(callback, future))\n    File \"/usr/local/lib/python3.10/dist-packages/tornado/ioloop.py\", line 740, in _run_callback\n      ret = callback()\n    File \"/usr/local/lib/python3.10/dist-packages/tornado/gen.py\", line 821, in inner\n      self.ctx_run(self.run)\n    File \"/usr/local/lib/python3.10/dist-packages/tornado/gen.py\", line 782, in run\n      yielded = self.gen.send(value)\n    File \"/usr/local/lib/python3.10/dist-packages/ipykernel/kernelbase.py\", line 377, in dispatch_queue\n      yield self.process_one()\n    File \"/usr/local/lib/python3.10/dist-packages/tornado/gen.py\", line 250, in wrapper\n      runner = Runner(ctx_run, result, future, yielded)\n    File \"/usr/local/lib/python3.10/dist-packages/tornado/gen.py\", line 748, in __init__\n      self.ctx_run(self.run)\n    File \"/usr/local/lib/python3.10/dist-packages/tornado/gen.py\", line 782, in run\n      yielded = self.gen.send(value)\n    File \"/usr/local/lib/python3.10/dist-packages/ipykernel/kernelbase.py\", line 361, in process_one\n      yield gen.maybe_future(dispatch(*args))\n    File \"/usr/local/lib/python3.10/dist-packages/tornado/gen.py\", line 234, in wrapper\n      yielded = ctx_run(next, result)\n    File \"/usr/local/lib/python3.10/dist-packages/ipykernel/kernelbase.py\", line 261, in dispatch_shell\n      yield gen.maybe_future(handler(stream, idents, msg))\n    File \"/usr/local/lib/python3.10/dist-packages/tornado/gen.py\", line 234, in wrapper\n      yielded = ctx_run(next, result)\n    File \"/usr/local/lib/python3.10/dist-packages/ipykernel/kernelbase.py\", line 539, in execute_request\n      self.do_execute(\n    File \"/usr/local/lib/python3.10/dist-packages/tornado/gen.py\", line 234, in wrapper\n      yielded = ctx_run(next, result)\n    File \"/usr/local/lib/python3.10/dist-packages/ipykernel/ipkernel.py\", line 302, in do_execute\n      res = shell.run_cell(code, store_history=store_history, silent=silent)\n    File \"/usr/local/lib/python3.10/dist-packages/ipykernel/zmqshell.py\", line 539, in run_cell\n      return super(ZMQInteractiveShell, self).run_cell(*args, **kwargs)\n    File \"/usr/local/lib/python3.10/dist-packages/IPython/core/interactiveshell.py\", line 2975, in run_cell\n      result = self._run_cell(\n    File \"/usr/local/lib/python3.10/dist-packages/IPython/core/interactiveshell.py\", line 3030, in _run_cell\n      return runner(coro)\n    File \"/usr/local/lib/python3.10/dist-packages/IPython/core/async_helpers.py\", line 78, in _pseudo_sync_runner\n      coro.send(None)\n    File \"/usr/local/lib/python3.10/dist-packages/IPython/core/interactiveshell.py\", line 3257, in run_cell_async\n      has_raised = await self.run_ast_nodes(code_ast.body, cell_name,\n    File \"/usr/local/lib/python3.10/dist-packages/IPython/core/interactiveshell.py\", line 3473, in run_ast_nodes\n      if (await self.run_code(code, result,  async_=asy)):\n    File \"/usr/local/lib/python3.10/dist-packages/IPython/core/interactiveshell.py\", line 3553, in run_code\n      exec(code_obj, self.user_global_ns, self.user_ns)\n    File \"<ipython-input-41-26482cc03d4f>\", line 14, in <cell line: 14>\n      learner.lr_find(max_epochs=3)\n    File \"/usr/local/lib/python3.10/dist-packages/ktrain/core.py\", line 618, in lr_find\n      self.lr_finder.find(\n    File \"/usr/local/lib/python3.10/dist-packages/ktrain/lroptimize/lrfinder.py\", line 130, in find\n      fit_fn(\n    File \"/usr/local/lib/python3.10/dist-packages/keras/utils/traceback_utils.py\", line 65, in error_handler\n      return fn(*args, **kwargs)\n    File \"/usr/local/lib/python3.10/dist-packages/keras/engine/training.py\", line 1685, in fit\n      tmp_logs = self.train_function(iterator)\n    File \"/usr/local/lib/python3.10/dist-packages/keras/engine/training.py\", line 1284, in train_function\n      return step_function(self, iterator)\n    File \"/usr/local/lib/python3.10/dist-packages/keras/engine/training.py\", line 1268, in step_function\n      outputs = model.distribute_strategy.run(run_step, args=(data,))\n    File \"/usr/local/lib/python3.10/dist-packages/keras/engine/training.py\", line 1249, in run_step\n      outputs = model.train_step(data)\n    File \"/usr/local/lib/python3.10/dist-packages/transformers/modeling_tf_utils.py\", line 1567, in train_step\n      y_pred = self(x, training=True)\n    File \"/usr/local/lib/python3.10/dist-packages/keras/utils/traceback_utils.py\", line 65, in error_handler\n      return fn(*args, **kwargs)\n    File \"/usr/local/lib/python3.10/dist-packages/keras/engine/training.py\", line 558, in __call__\n      return super().__call__(*args, **kwargs)\n    File \"/usr/local/lib/python3.10/dist-packages/keras/utils/traceback_utils.py\", line 65, in error_handler\n      return fn(*args, **kwargs)\n    File \"/usr/local/lib/python3.10/dist-packages/keras/engine/base_layer.py\", line 1145, in __call__\n      outputs = call_fn(inputs, *args, **kwargs)\n    File \"/usr/local/lib/python3.10/dist-packages/keras/utils/traceback_utils.py\", line 96, in error_handler\n      return fn(*args, **kwargs)\n    File \"/usr/local/lib/python3.10/dist-packages/transformers/modeling_tf_utils.py\", line 1639, in run_call_with_unpacked_inputs\n      y = y.copy()\n    File \"/usr/local/lib/python3.10/dist-packages/transformers/models/bert/modeling_tf_bert.py\", line 1651, in call\n      outputs = self.bert(\n    File \"/usr/local/lib/python3.10/dist-packages/keras/utils/traceback_utils.py\", line 65, in error_handler\n      return fn(*args, **kwargs)\n    File \"/usr/local/lib/python3.10/dist-packages/keras/engine/base_layer.py\", line 1145, in __call__\n      outputs = call_fn(inputs, *args, **kwargs)\n    File \"/usr/local/lib/python3.10/dist-packages/keras/utils/traceback_utils.py\", line 96, in error_handler\n      return fn(*args, **kwargs)\n    File \"/usr/local/lib/python3.10/dist-packages/transformers/modeling_tf_utils.py\", line 1639, in run_call_with_unpacked_inputs\n      y = y.copy()\n    File \"/usr/local/lib/python3.10/dist-packages/transformers/models/bert/modeling_tf_bert.py\", line 870, in call\n      encoder_outputs = self.encoder(\n    File \"/usr/local/lib/python3.10/dist-packages/keras/utils/traceback_utils.py\", line 65, in error_handler\n      return fn(*args, **kwargs)\n    File \"/usr/local/lib/python3.10/dist-packages/keras/engine/base_layer.py\", line 1145, in __call__\n      outputs = call_fn(inputs, *args, **kwargs)\n    File \"/usr/local/lib/python3.10/dist-packages/keras/utils/traceback_utils.py\", line 96, in error_handler\n      return fn(*args, **kwargs)\n    File \"/usr/local/lib/python3.10/dist-packages/transformers/models/bert/modeling_tf_bert.py\", line 556, in call\n      for i, layer_module in enumerate(self.layer):\n    File \"/usr/local/lib/python3.10/dist-packages/transformers/models/bert/modeling_tf_bert.py\", line 562, in call\n      layer_outputs = layer_module(\n    File \"/usr/local/lib/python3.10/dist-packages/keras/utils/traceback_utils.py\", line 65, in error_handler\n      return fn(*args, **kwargs)\n    File \"/usr/local/lib/python3.10/dist-packages/keras/engine/base_layer.py\", line 1145, in __call__\n      outputs = call_fn(inputs, *args, **kwargs)\n    File \"/usr/local/lib/python3.10/dist-packages/keras/utils/traceback_utils.py\", line 96, in error_handler\n      return fn(*args, **kwargs)\n    File \"/usr/local/lib/python3.10/dist-packages/transformers/models/bert/modeling_tf_bert.py\", line 472, in call\n      self_attention_outputs = self.attention(\n    File \"/usr/local/lib/python3.10/dist-packages/keras/utils/traceback_utils.py\", line 65, in error_handler\n      return fn(*args, **kwargs)\n    File \"/usr/local/lib/python3.10/dist-packages/keras/engine/base_layer.py\", line 1145, in __call__\n      outputs = call_fn(inputs, *args, **kwargs)\n    File \"/usr/local/lib/python3.10/dist-packages/keras/utils/traceback_utils.py\", line 96, in error_handler\n      return fn(*args, **kwargs)\n    File \"/usr/local/lib/python3.10/dist-packages/transformers/models/bert/modeling_tf_bert.py\", line 388, in call\n      self_outputs = self.self_attention(\n    File \"/usr/local/lib/python3.10/dist-packages/keras/utils/traceback_utils.py\", line 65, in error_handler\n      return fn(*args, **kwargs)\n    File \"/usr/local/lib/python3.10/dist-packages/keras/engine/base_layer.py\", line 1145, in __call__\n      outputs = call_fn(inputs, *args, **kwargs)\n    File \"/usr/local/lib/python3.10/dist-packages/keras/utils/traceback_utils.py\", line 96, in error_handler\n      return fn(*args, **kwargs)\n    File \"/usr/local/lib/python3.10/dist-packages/transformers/models/bert/modeling_tf_bert.py\", line 318, in call\n      attention_scores = tf.matmul(query_layer, key_layer, transpose_b=True)\nNode: 'tf_bert_for_sequence_classification_10/bert/encoder/layer_._6/attention/self/MatMul'\nOOM when allocating tensor with shape[8,12,500,500] and type float on /job:localhost/replica:0/task:0/device:GPU:0 by allocator GPU_0_bfc\n\t [[{{node tf_bert_for_sequence_classification_10/bert/encoder/layer_._6/attention/self/MatMul}}]]\nHint: If you want to see a list of allocated tensors when OOM happens, add report_tensor_allocations_upon_oom to RunOptions for current allocation info. This isn't available when running in Eager mode.\n [Op:__inference_train_function_218526]"
          ]
        }
      ]
    },
    {
      "cell_type": "code",
      "source": [
        "\n",
        "import gc\n",
        "gc.collect()"
      ],
      "metadata": {
        "id": "1yNM5j94d3qb"
      },
      "execution_count": null,
      "outputs": []
    },
    {
      "cell_type": "code",
      "source": [],
      "metadata": {
        "id": "MppjQCzlUUS-"
      },
      "execution_count": null,
      "outputs": []
    },
    {
      "cell_type": "code",
      "source": [],
      "metadata": {
        "id": "uwMX89aIUUPC"
      },
      "execution_count": null,
      "outputs": []
    },
    {
      "cell_type": "code",
      "source": [],
      "metadata": {
        "id": "RpJFDw2jUULm"
      },
      "execution_count": null,
      "outputs": []
    },
    {
      "cell_type": "code",
      "source": [],
      "metadata": {
        "colab": {
          "base_uri": "https://localhost:8080/"
        },
        "id": "RbcXkRODCNHz",
        "outputId": "8d762ebf-f7ac-468f-e78f-db2e8624b4a9"
      },
      "execution_count": null,
      "outputs": [
        {
          "output_type": "stream",
          "name": "stdout",
          "text": [
            "  Timestamp: 11:19:09\n",
            "  TPU type: TPU v2\n",
            "  Utilization of TPU Matrix Units (higher is better): 0.000%\n",
            "\n",
            "\n"
          ]
        }
      ]
    },
    {
      "cell_type": "code",
      "execution_count": null,
      "metadata": {
        "id": "8B283WZWctkm"
      },
      "outputs": [],
      "source": []
    },
    {
      "cell_type": "code",
      "execution_count": null,
      "metadata": {
        "id": "PoB8JNoMctiS"
      },
      "outputs": [],
      "source": []
    },
    {
      "cell_type": "code",
      "execution_count": null,
      "metadata": {
        "id": "5r_mdfdPctf1"
      },
      "outputs": [],
      "source": []
    },
    {
      "cell_type": "code",
      "execution_count": null,
      "metadata": {
        "id": "WF7I4Ka7ctdV"
      },
      "outputs": [],
      "source": []
    },
    {
      "cell_type": "code",
      "execution_count": null,
      "metadata": {
        "id": "0kShPeX3ctad"
      },
      "outputs": [],
      "source": []
    },
    {
      "cell_type": "code",
      "execution_count": null,
      "metadata": {
        "id": "d41j4xMqctX2"
      },
      "outputs": [],
      "source": []
    },
    {
      "cell_type": "code",
      "execution_count": null,
      "metadata": {
        "id": "4lw43xyectU0"
      },
      "outputs": [],
      "source": []
    },
    {
      "cell_type": "code",
      "execution_count": null,
      "metadata": {
        "id": "dJr2BoKoctRn"
      },
      "outputs": [],
      "source": []
    },
    {
      "cell_type": "code",
      "execution_count": null,
      "metadata": {
        "colab": {
          "base_uri": "https://localhost:8080/"
        },
        "id": "K1Oh43YZZhaD",
        "outputId": "21530a06-7706-4cc3-f4c7-cfaed5e9bde6"
      },
      "outputs": [
        {
          "name": "stdout",
          "output_type": "stream",
          "text": [
            "(7866, 1) (7866,)\n"
          ]
        }
      ],
      "source": [
        "from imblearn.over_sampling import RandomOverSampler\n",
        "\n",
        "# create an instance of RandomOverSampler minority increase\n",
        "oversampler = RandomOverSampler(random_state=42, sampling_strategy='auto')\n",
        "\n",
        "# apply oversampling to the training data\n",
        "X_train_oversampled, y_train_oversampled = oversampler.fit_resample(X_train.reshape(-1, 1), y_train)\n",
        "print(X_train_oversampled.shape, y_train_oversampled.shape)"
      ]
    },
    {
      "cell_type": "code",
      "execution_count": null,
      "metadata": {
        "id": "Kcuy5gYuZhW5"
      },
      "outputs": [],
      "source": []
    },
    {
      "cell_type": "code",
      "execution_count": null,
      "metadata": {
        "id": "pfCG4OhNZhTn"
      },
      "outputs": [],
      "source": []
    },
    {
      "cell_type": "code",
      "execution_count": null,
      "metadata": {
        "id": "Sxq6i6OzZhQW"
      },
      "outputs": [],
      "source": []
    },
    {
      "cell_type": "code",
      "execution_count": null,
      "metadata": {
        "id": "spH8z5vFZhHa"
      },
      "outputs": [],
      "source": []
    },
    {
      "cell_type": "code",
      "execution_count": null,
      "metadata": {
        "id": "ClSJqrO6ZhE1"
      },
      "outputs": [],
      "source": []
    },
    {
      "cell_type": "code",
      "execution_count": null,
      "metadata": {
        "id": "ZPHCsjqhZhCL"
      },
      "outputs": [],
      "source": []
    },
    {
      "cell_type": "code",
      "execution_count": null,
      "metadata": {
        "id": "dBIhweHhZg_c"
      },
      "outputs": [],
      "source": []
    },
    {
      "cell_type": "code",
      "execution_count": null,
      "metadata": {
        "id": "X6SpG6PBZg8W"
      },
      "outputs": [],
      "source": []
    },
    {
      "cell_type": "code",
      "execution_count": null,
      "metadata": {
        "id": "JIRw-EZuZg5N"
      },
      "outputs": [],
      "source": []
    },
    {
      "cell_type": "code",
      "execution_count": null,
      "metadata": {
        "id": "r7BgVW2wZg18"
      },
      "outputs": [],
      "source": []
    },
    {
      "cell_type": "code",
      "execution_count": null,
      "metadata": {
        "id": "8VTsypkxZgzN"
      },
      "outputs": [],
      "source": []
    },
    {
      "cell_type": "code",
      "execution_count": null,
      "metadata": {
        "id": "zSq26cLqZgwD"
      },
      "outputs": [],
      "source": []
    },
    {
      "cell_type": "code",
      "execution_count": null,
      "metadata": {
        "id": "Hw7MGsJ3ZgsZ"
      },
      "outputs": [],
      "source": []
    },
    {
      "cell_type": "code",
      "execution_count": null,
      "metadata": {
        "id": "DisWZI_lZgo_"
      },
      "outputs": [],
      "source": []
    },
    {
      "cell_type": "code",
      "execution_count": null,
      "metadata": {
        "id": "s_PIu3LSYLJg"
      },
      "outputs": [],
      "source": []
    },
    {
      "cell_type": "code",
      "execution_count": null,
      "metadata": {
        "colab": {
          "base_uri": "https://localhost:8080/",
          "height": 423
        },
        "id": "lHMRjyoZwVcx",
        "outputId": "a35cabc6-83d9-4ecc-afc1-30bb7ab6ba85"
      },
      "outputs": [
        {
          "data": {
            "text/html": [
              "\n",
              "  <div id=\"df-19f6799c-a61d-49d8-afad-2fb8522e55a2\">\n",
              "    <div class=\"colab-df-container\">\n",
              "      <div>\n",
              "<style scoped>\n",
              "    .dataframe tbody tr th:only-of-type {\n",
              "        vertical-align: middle;\n",
              "    }\n",
              "\n",
              "    .dataframe tbody tr th {\n",
              "        vertical-align: top;\n",
              "    }\n",
              "\n",
              "    .dataframe thead th {\n",
              "        text-align: right;\n",
              "    }\n",
              "</style>\n",
              "<table border=\"1\" class=\"dataframe\">\n",
              "  <thead>\n",
              "    <tr style=\"text-align: right;\">\n",
              "      <th></th>\n",
              "      <th>sentiment</th>\n",
              "      <th>x_cleaned</th>\n",
              "    </tr>\n",
              "  </thead>\n",
              "  <tbody>\n",
              "    <tr>\n",
              "      <th>0</th>\n",
              "      <td>2</td>\n",
              "      <td>immense pride regional office vi presents entr...</td>\n",
              "    </tr>\n",
              "    <tr>\n",
              "      <th>1</th>\n",
              "      <td>2</td>\n",
              "      <td>recieved allowance sy second semester thank mu...</td>\n",
              "    </tr>\n",
              "    <tr>\n",
              "      <th>2</th>\n",
              "      <td>1</td>\n",
              "      <td>wala parin pare mare malapit iilan nalang nati...</td>\n",
              "    </tr>\n",
              "    <tr>\n",
              "      <th>3</th>\n",
              "      <td>2</td>\n",
              "      <td>eldest daughter family seven father one workin...</td>\n",
              "    </tr>\n",
              "    <tr>\n",
              "      <th>4</th>\n",
              "      <td>2</td>\n",
              "      <td>thank wonderful opportunity given us help us m...</td>\n",
              "    </tr>\n",
              "    <tr>\n",
              "      <th>...</th>\n",
              "      <td>...</td>\n",
              "      <td>...</td>\n",
              "    </tr>\n",
              "    <tr>\n",
              "      <th>6295</th>\n",
              "      <td>0</td>\n",
              "      <td>update naka abang biyaya mimaropa marked safe ...</td>\n",
              "    </tr>\n",
              "    <tr>\n",
              "      <th>6296</th>\n",
              "      <td>2</td>\n",
              "      <td>magandang araw itatanong sana update kagaya pw...</td>\n",
              "    </tr>\n",
              "    <tr>\n",
              "      <th>6297</th>\n",
              "      <td>2</td>\n",
              "      <td>matatanggap bang new grantees continuing grant...</td>\n",
              "    </tr>\n",
              "    <tr>\n",
              "      <th>6298</th>\n",
              "      <td>0</td>\n",
              "      <td>nagpakasal noong taong gulang rd year high sch...</td>\n",
              "    </tr>\n",
              "    <tr>\n",
              "      <th>6299</th>\n",
              "      <td>0</td>\n",
              "      <td>happening live cotabato state university</td>\n",
              "    </tr>\n",
              "  </tbody>\n",
              "</table>\n",
              "<p>6300 rows × 2 columns</p>\n",
              "</div>\n",
              "      <button class=\"colab-df-convert\" onclick=\"convertToInteractive('df-19f6799c-a61d-49d8-afad-2fb8522e55a2')\"\n",
              "              title=\"Convert this dataframe to an interactive table.\"\n",
              "              style=\"display:none;\">\n",
              "        \n",
              "  <svg xmlns=\"http://www.w3.org/2000/svg\" height=\"24px\"viewBox=\"0 0 24 24\"\n",
              "       width=\"24px\">\n",
              "    <path d=\"M0 0h24v24H0V0z\" fill=\"none\"/>\n",
              "    <path d=\"M18.56 5.44l.94 2.06.94-2.06 2.06-.94-2.06-.94-.94-2.06-.94 2.06-2.06.94zm-11 1L8.5 8.5l.94-2.06 2.06-.94-2.06-.94L8.5 2.5l-.94 2.06-2.06.94zm10 10l.94 2.06.94-2.06 2.06-.94-2.06-.94-.94-2.06-.94 2.06-2.06.94z\"/><path d=\"M17.41 7.96l-1.37-1.37c-.4-.4-.92-.59-1.43-.59-.52 0-1.04.2-1.43.59L10.3 9.45l-7.72 7.72c-.78.78-.78 2.05 0 2.83L4 21.41c.39.39.9.59 1.41.59.51 0 1.02-.2 1.41-.59l7.78-7.78 2.81-2.81c.8-.78.8-2.07 0-2.86zM5.41 20L4 18.59l7.72-7.72 1.47 1.35L5.41 20z\"/>\n",
              "  </svg>\n",
              "      </button>\n",
              "      \n",
              "  <style>\n",
              "    .colab-df-container {\n",
              "      display:flex;\n",
              "      flex-wrap:wrap;\n",
              "      gap: 12px;\n",
              "    }\n",
              "\n",
              "    .colab-df-convert {\n",
              "      background-color: #E8F0FE;\n",
              "      border: none;\n",
              "      border-radius: 50%;\n",
              "      cursor: pointer;\n",
              "      display: none;\n",
              "      fill: #1967D2;\n",
              "      height: 32px;\n",
              "      padding: 0 0 0 0;\n",
              "      width: 32px;\n",
              "    }\n",
              "\n",
              "    .colab-df-convert:hover {\n",
              "      background-color: #E2EBFA;\n",
              "      box-shadow: 0px 1px 2px rgba(60, 64, 67, 0.3), 0px 1px 3px 1px rgba(60, 64, 67, 0.15);\n",
              "      fill: #174EA6;\n",
              "    }\n",
              "\n",
              "    [theme=dark] .colab-df-convert {\n",
              "      background-color: #3B4455;\n",
              "      fill: #D2E3FC;\n",
              "    }\n",
              "\n",
              "    [theme=dark] .colab-df-convert:hover {\n",
              "      background-color: #434B5C;\n",
              "      box-shadow: 0px 1px 3px 1px rgba(0, 0, 0, 0.15);\n",
              "      filter: drop-shadow(0px 1px 2px rgba(0, 0, 0, 0.3));\n",
              "      fill: #FFFFFF;\n",
              "    }\n",
              "  </style>\n",
              "\n",
              "      <script>\n",
              "        const buttonEl =\n",
              "          document.querySelector('#df-19f6799c-a61d-49d8-afad-2fb8522e55a2 button.colab-df-convert');\n",
              "        buttonEl.style.display =\n",
              "          google.colab.kernel.accessAllowed ? 'block' : 'none';\n",
              "\n",
              "        async function convertToInteractive(key) {\n",
              "          const element = document.querySelector('#df-19f6799c-a61d-49d8-afad-2fb8522e55a2');\n",
              "          const dataTable =\n",
              "            await google.colab.kernel.invokeFunction('convertToInteractive',\n",
              "                                                     [key], {});\n",
              "          if (!dataTable) return;\n",
              "\n",
              "          const docLinkHtml = 'Like what you see? Visit the ' +\n",
              "            '<a target=\"_blank\" href=https://colab.research.google.com/notebooks/data_table.ipynb>data table notebook</a>'\n",
              "            + ' to learn more about interactive tables.';\n",
              "          element.innerHTML = '';\n",
              "          dataTable['output_type'] = 'display_data';\n",
              "          await google.colab.output.renderOutput(dataTable, element);\n",
              "          const docLink = document.createElement('div');\n",
              "          docLink.innerHTML = docLinkHtml;\n",
              "          element.appendChild(docLink);\n",
              "        }\n",
              "      </script>\n",
              "    </div>\n",
              "  </div>\n",
              "  "
            ],
            "text/plain": [
              "      sentiment                                          x_cleaned\n",
              "0             2  immense pride regional office vi presents entr...\n",
              "1             2  recieved allowance sy second semester thank mu...\n",
              "2             1  wala parin pare mare malapit iilan nalang nati...\n",
              "3             2  eldest daughter family seven father one workin...\n",
              "4             2  thank wonderful opportunity given us help us m...\n",
              "...         ...                                                ...\n",
              "6295          0  update naka abang biyaya mimaropa marked safe ...\n",
              "6296          2  magandang araw itatanong sana update kagaya pw...\n",
              "6297          2  matatanggap bang new grantees continuing grant...\n",
              "6298          0  nagpakasal noong taong gulang rd year high sch...\n",
              "6299          0           happening live cotabato state university\n",
              "\n",
              "[6300 rows x 2 columns]"
            ]
          },
          "execution_count": 7,
          "metadata": {},
          "output_type": "execute_result"
        }
      ],
      "source": [
        "df = df[['sentiment', 'x_cleaned']].reset_index(drop = True)\n",
        "df"
      ]
    },
    {
      "cell_type": "code",
      "execution_count": null,
      "metadata": {
        "colab": {
          "base_uri": "https://localhost:8080/"
        },
        "id": "rtyTVl7fxUo9",
        "outputId": "9dc4d3d3-94d8-43ac-ffa0-8fd0f4339a0b"
      },
      "outputs": [
        {
          "name": "stdout",
          "output_type": "stream",
          "text": [
            "<class 'pandas.core.frame.DataFrame'>\n",
            "RangeIndex: 6577 entries, 0 to 6576\n",
            "Data columns (total 3 columns):\n",
            " #   Column     Non-Null Count  Dtype \n",
            "---  ------     --------------  ----- \n",
            " 0   index      6577 non-null   int64 \n",
            " 1   sentiment  6577 non-null   int64 \n",
            " 2   x_cleaned  6577 non-null   object\n",
            "dtypes: int64(2), object(1)\n",
            "memory usage: 154.3+ KB\n"
          ]
        }
      ],
      "source": [
        "# Overview of all variables, their datatypes\n",
        "df.info()"
      ]
    },
    {
      "cell_type": "markdown",
      "metadata": {
        "id": "zjpV-sy6D1Eb"
      },
      "source": [
        "**Check for missing values**"
      ]
    },
    {
      "cell_type": "markdown",
      "metadata": {
        "id": "ziOg49wsZ7vj"
      },
      "source": [
        "Before moving on, we will check to see if there are any null values to impute. However, the data were all fine, so there was nothing to do."
      ]
    },
    {
      "cell_type": "code",
      "execution_count": null,
      "metadata": {
        "colab": {
          "base_uri": "https://localhost:8080/"
        },
        "id": "_NzdBlAyS7Vp",
        "outputId": "5d77c39d-9255-4421-e7c4-1cb019c07d82"
      },
      "outputs": [
        {
          "data": {
            "text/plain": [
              "(6577, 3)"
            ]
          },
          "execution_count": 56,
          "metadata": {},
          "output_type": "execute_result"
        }
      ],
      "source": [
        "df.dropna(subset='x_cleaned',inplace=True)\n",
        "df.shape"
      ]
    },
    {
      "cell_type": "code",
      "execution_count": null,
      "metadata": {
        "colab": {
          "base_uri": "https://localhost:8080/"
        },
        "id": "kgIRHCpKzfTl",
        "outputId": "1b7212c4-404c-46ca-9512-066c0572aa62"
      },
      "outputs": [
        {
          "data": {
            "text/plain": [
              "index        0\n",
              "sentiment    0\n",
              "x_cleaned    0\n",
              "dtype: int64"
            ]
          },
          "execution_count": 57,
          "metadata": {},
          "output_type": "execute_result"
        }
      ],
      "source": [
        "df.isnull().sum().sort_values(ascending = False)"
      ]
    },
    {
      "cell_type": "markdown",
      "metadata": {
        "id": "KoFv9x8HbVuL"
      },
      "source": [
        "**Examine the data**"
      ]
    },
    {
      "cell_type": "markdown",
      "metadata": {
        "id": "K7ILZnHlbdgh"
      },
      "source": [
        "By running value_counts( ) on the label column containing our target variable, we can see that the data are imbalanced."
      ]
    },
    {
      "cell_type": "code",
      "execution_count": null,
      "metadata": {
        "colab": {
          "base_uri": "https://localhost:8080/"
        },
        "id": "OvUESewGw6zy",
        "outputId": "3f72ac80-d18b-4f13-ee35-7c0502e1fd2f"
      },
      "outputs": [
        {
          "data": {
            "text/plain": [
              "2    60.0\n",
              "0    22.0\n",
              "1    19.0\n",
              "Name: sentiment, dtype: float64"
            ]
          },
          "execution_count": 58,
          "metadata": {},
          "output_type": "execute_result"
        }
      ],
      "source": [
        "round(df['sentiment'].value_counts(normalize = True) * 100)"
      ]
    },
    {
      "cell_type": "markdown",
      "metadata": {
        "id": "qYO-Ur8OD1Ek"
      },
      "source": [
        "**Split the train and test data**"
      ]
    },
    {
      "cell_type": "code",
      "execution_count": null,
      "metadata": {
        "colab": {
          "base_uri": "https://localhost:8080/",
          "height": 423
        },
        "id": "M1UUOR2J03t3",
        "outputId": "1a1b8750-3293-4366-d3a6-1f511e3969da"
      },
      "outputs": [
        {
          "data": {
            "text/html": [
              "\n",
              "  <div id=\"df-4dc779a5-1e73-414c-912c-a29caee400fd\">\n",
              "    <div class=\"colab-df-container\">\n",
              "      <div>\n",
              "<style scoped>\n",
              "    .dataframe tbody tr th:only-of-type {\n",
              "        vertical-align: middle;\n",
              "    }\n",
              "\n",
              "    .dataframe tbody tr th {\n",
              "        vertical-align: top;\n",
              "    }\n",
              "\n",
              "    .dataframe thead th {\n",
              "        text-align: right;\n",
              "    }\n",
              "</style>\n",
              "<table border=\"1\" class=\"dataframe\">\n",
              "  <thead>\n",
              "    <tr style=\"text-align: right;\">\n",
              "      <th></th>\n",
              "      <th>index</th>\n",
              "      <th>x_cleaned</th>\n",
              "    </tr>\n",
              "  </thead>\n",
              "  <tbody>\n",
              "    <tr>\n",
              "      <th>0</th>\n",
              "      <td>0</td>\n",
              "      <td>immense pride regional office vi presents entr...</td>\n",
              "    </tr>\n",
              "    <tr>\n",
              "      <th>1</th>\n",
              "      <td>1</td>\n",
              "      <td>recieved allowance sy second semester thank mu...</td>\n",
              "    </tr>\n",
              "    <tr>\n",
              "      <th>2</th>\n",
              "      <td>2</td>\n",
              "      <td>wala parin pare mare malapit iilan nalang nati...</td>\n",
              "    </tr>\n",
              "    <tr>\n",
              "      <th>3</th>\n",
              "      <td>3</td>\n",
              "      <td>eldest daughter family seven father one workin...</td>\n",
              "    </tr>\n",
              "    <tr>\n",
              "      <th>4</th>\n",
              "      <td>4</td>\n",
              "      <td>thank wonderful opportunity given us help us m...</td>\n",
              "    </tr>\n",
              "    <tr>\n",
              "      <th>...</th>\n",
              "      <td>...</td>\n",
              "      <td>...</td>\n",
              "    </tr>\n",
              "    <tr>\n",
              "      <th>6572</th>\n",
              "      <td>6572</td>\n",
              "      <td>istandwithchedunifast pinaskolarako bantayanso...</td>\n",
              "    </tr>\n",
              "    <tr>\n",
              "      <th>6573</th>\n",
              "      <td>6573</td>\n",
              "      <td>understandable simple delay dagdag requirement...</td>\n",
              "    </tr>\n",
              "    <tr>\n",
              "      <th>6574</th>\n",
              "      <td>6574</td>\n",
              "      <td>good eve sana maka avail scholarship thank</td>\n",
              "    </tr>\n",
              "    <tr>\n",
              "      <th>6575</th>\n",
              "      <td>6575</td>\n",
              "      <td>last leg seminar series labor public service v...</td>\n",
              "    </tr>\n",
              "    <tr>\n",
              "      <th>6576</th>\n",
              "      <td>6576</td>\n",
              "      <td>sana mapansin</td>\n",
              "    </tr>\n",
              "  </tbody>\n",
              "</table>\n",
              "<p>6577 rows × 2 columns</p>\n",
              "</div>\n",
              "      <button class=\"colab-df-convert\" onclick=\"convertToInteractive('df-4dc779a5-1e73-414c-912c-a29caee400fd')\"\n",
              "              title=\"Convert this dataframe to an interactive table.\"\n",
              "              style=\"display:none;\">\n",
              "        \n",
              "  <svg xmlns=\"http://www.w3.org/2000/svg\" height=\"24px\"viewBox=\"0 0 24 24\"\n",
              "       width=\"24px\">\n",
              "    <path d=\"M0 0h24v24H0V0z\" fill=\"none\"/>\n",
              "    <path d=\"M18.56 5.44l.94 2.06.94-2.06 2.06-.94-2.06-.94-.94-2.06-.94 2.06-2.06.94zm-11 1L8.5 8.5l.94-2.06 2.06-.94-2.06-.94L8.5 2.5l-.94 2.06-2.06.94zm10 10l.94 2.06.94-2.06 2.06-.94-2.06-.94-.94-2.06-.94 2.06-2.06.94z\"/><path d=\"M17.41 7.96l-1.37-1.37c-.4-.4-.92-.59-1.43-.59-.52 0-1.04.2-1.43.59L10.3 9.45l-7.72 7.72c-.78.78-.78 2.05 0 2.83L4 21.41c.39.39.9.59 1.41.59.51 0 1.02-.2 1.41-.59l7.78-7.78 2.81-2.81c.8-.78.8-2.07 0-2.86zM5.41 20L4 18.59l7.72-7.72 1.47 1.35L5.41 20z\"/>\n",
              "  </svg>\n",
              "      </button>\n",
              "      \n",
              "  <style>\n",
              "    .colab-df-container {\n",
              "      display:flex;\n",
              "      flex-wrap:wrap;\n",
              "      gap: 12px;\n",
              "    }\n",
              "\n",
              "    .colab-df-convert {\n",
              "      background-color: #E8F0FE;\n",
              "      border: none;\n",
              "      border-radius: 50%;\n",
              "      cursor: pointer;\n",
              "      display: none;\n",
              "      fill: #1967D2;\n",
              "      height: 32px;\n",
              "      padding: 0 0 0 0;\n",
              "      width: 32px;\n",
              "    }\n",
              "\n",
              "    .colab-df-convert:hover {\n",
              "      background-color: #E2EBFA;\n",
              "      box-shadow: 0px 1px 2px rgba(60, 64, 67, 0.3), 0px 1px 3px 1px rgba(60, 64, 67, 0.15);\n",
              "      fill: #174EA6;\n",
              "    }\n",
              "\n",
              "    [theme=dark] .colab-df-convert {\n",
              "      background-color: #3B4455;\n",
              "      fill: #D2E3FC;\n",
              "    }\n",
              "\n",
              "    [theme=dark] .colab-df-convert:hover {\n",
              "      background-color: #434B5C;\n",
              "      box-shadow: 0px 1px 3px 1px rgba(0, 0, 0, 0.15);\n",
              "      filter: drop-shadow(0px 1px 2px rgba(0, 0, 0, 0.3));\n",
              "      fill: #FFFFFF;\n",
              "    }\n",
              "  </style>\n",
              "\n",
              "      <script>\n",
              "        const buttonEl =\n",
              "          document.querySelector('#df-4dc779a5-1e73-414c-912c-a29caee400fd button.colab-df-convert');\n",
              "        buttonEl.style.display =\n",
              "          google.colab.kernel.accessAllowed ? 'block' : 'none';\n",
              "\n",
              "        async function convertToInteractive(key) {\n",
              "          const element = document.querySelector('#df-4dc779a5-1e73-414c-912c-a29caee400fd');\n",
              "          const dataTable =\n",
              "            await google.colab.kernel.invokeFunction('convertToInteractive',\n",
              "                                                     [key], {});\n",
              "          if (!dataTable) return;\n",
              "\n",
              "          const docLinkHtml = 'Like what you see? Visit the ' +\n",
              "            '<a target=\"_blank\" href=https://colab.research.google.com/notebooks/data_table.ipynb>data table notebook</a>'\n",
              "            + ' to learn more about interactive tables.';\n",
              "          element.innerHTML = '';\n",
              "          dataTable['output_type'] = 'display_data';\n",
              "          await google.colab.output.renderOutput(dataTable, element);\n",
              "          const docLink = document.createElement('div');\n",
              "          docLink.innerHTML = docLinkHtml;\n",
              "          element.appendChild(docLink);\n",
              "        }\n",
              "      </script>\n",
              "    </div>\n",
              "  </div>\n",
              "  "
            ],
            "text/plain": [
              "      index                                          x_cleaned\n",
              "0         0  immense pride regional office vi presents entr...\n",
              "1         1  recieved allowance sy second semester thank mu...\n",
              "2         2  wala parin pare mare malapit iilan nalang nati...\n",
              "3         3  eldest daughter family seven father one workin...\n",
              "4         4  thank wonderful opportunity given us help us m...\n",
              "...     ...                                                ...\n",
              "6572   6572  istandwithchedunifast pinaskolarako bantayanso...\n",
              "6573   6573  understandable simple delay dagdag requirement...\n",
              "6574   6574         good eve sana maka avail scholarship thank\n",
              "6575   6575  last leg seminar series labor public service v...\n",
              "6576   6576                                      sana mapansin\n",
              "\n",
              "[6577 rows x 2 columns]"
            ]
          },
          "execution_count": 59,
          "metadata": {},
          "output_type": "execute_result"
        }
      ],
      "source": [
        "X = df.drop(['sentiment'], axis = 1)\n",
        "X"
      ]
    },
    {
      "cell_type": "code",
      "execution_count": null,
      "metadata": {
        "colab": {
          "base_uri": "https://localhost:8080/"
        },
        "id": "4QG-K1qh1aHD",
        "outputId": "f3a76a23-c5c6-4e97-f5e4-1aa85a1ede91"
      },
      "outputs": [
        {
          "data": {
            "text/plain": [
              "0       immense pride regional office vi presents entr...\n",
              "1       recieved allowance sy second semester thank mu...\n",
              "2       wala parin pare mare malapit iilan nalang nati...\n",
              "3       eldest daughter family seven father one workin...\n",
              "4       thank wonderful opportunity given us help us m...\n",
              "                              ...                        \n",
              "6572    istandwithchedunifast pinaskolarako bantayanso...\n",
              "6573    understandable simple delay dagdag requirement...\n",
              "6574           good eve sana maka avail scholarship thank\n",
              "6575    last leg seminar series labor public service v...\n",
              "6576                                        sana mapansin\n",
              "Name: x_cleaned, Length: 6577, dtype: object"
            ]
          },
          "execution_count": 60,
          "metadata": {},
          "output_type": "execute_result"
        }
      ],
      "source": [
        "y = df['x_cleaned']\n",
        "y"
      ]
    },
    {
      "cell_type": "code",
      "execution_count": null,
      "metadata": {
        "id": "Qd9_xetqUJc4"
      },
      "outputs": [],
      "source": [
        "df['x_cleaned'] = df['x_cleaned'].apply(str)"
      ]
    },
    {
      "cell_type": "code",
      "execution_count": null,
      "metadata": {
        "colab": {
          "base_uri": "https://localhost:8080/"
        },
        "id": "jsVASDotVc7W",
        "outputId": "42568c64-2d7f-42d7-b80a-a3ca7b99427f"
      },
      "outputs": [
        {
          "name": "stdout",
          "output_type": "stream",
          "text": [
            "<class 'pandas.core.frame.DataFrame'>\n",
            "RangeIndex: 6577 entries, 0 to 6576\n",
            "Data columns (total 3 columns):\n",
            " #   Column     Non-Null Count  Dtype \n",
            "---  ------     --------------  ----- \n",
            " 0   index      6577 non-null   int64 \n",
            " 1   sentiment  6577 non-null   int64 \n",
            " 2   x_cleaned  6577 non-null   object\n",
            "dtypes: int64(2), object(1)\n",
            "memory usage: 154.3+ KB\n"
          ]
        }
      ],
      "source": [
        "df.info()"
      ]
    },
    {
      "cell_type": "code",
      "execution_count": null,
      "metadata": {
        "id": "fxmb98kGWfyb"
      },
      "outputs": [],
      "source": [
        "df['sentiment'] = df['sentiment'].astype(str)"
      ]
    },
    {
      "cell_type": "code",
      "execution_count": null,
      "metadata": {
        "colab": {
          "base_uri": "https://localhost:8080/"
        },
        "id": "x461rSCQ3fk7",
        "outputId": "fd8f9093-595a-4c71-86d6-a3640765ac4b"
      },
      "outputs": [
        {
          "name": "stdout",
          "output_type": "stream",
          "text": [
            "2    3921\n",
            "0    1417\n",
            "1    1239\n",
            "Name: sentiment, dtype: int64\n"
          ]
        }
      ],
      "source": [
        "# imbalanced data\n",
        "print(df['sentiment'].value_counts())"
      ]
    },
    {
      "cell_type": "code",
      "execution_count": null,
      "metadata": {
        "colab": {
          "base_uri": "https://localhost:8080/"
        },
        "id": "ZsY3wHHEK7Jx",
        "outputId": "ee4befb9-f281-4fd0-843c-b8914d67f369"
      },
      "outputs": [
        {
          "data": {
            "text/plain": [
              "count    6577.000000\n",
              "mean       27.393340\n",
              "std        40.111761\n",
              "min         1.000000\n",
              "25%         7.000000\n",
              "50%        15.000000\n",
              "75%        32.000000\n",
              "85%        49.000000\n",
              "90%        60.000000\n",
              "99%       203.240000\n",
              "max       810.000000\n",
              "dtype: float64"
            ]
          },
          "execution_count": 65,
          "metadata": {},
          "output_type": "execute_result"
        }
      ],
      "source": [
        "pd.Series([len(i.split(' ')) for i in df['x_cleaned']]).describe(percentiles=[0.25, 0.75, 0.85, 0.9, 0.99])"
      ]
    },
    {
      "cell_type": "code",
      "execution_count": null,
      "metadata": {
        "colab": {
          "base_uri": "https://localhost:8080/"
        },
        "id": "qNZyUJkyU5Bo",
        "outputId": "449d5164-e3e1-4c13-d31e-2bc0998de0cf"
      },
      "outputs": [
        {
          "name": "stdout",
          "output_type": "stream",
          "text": [
            "[4114 3068 2731 ...  922 5859 2729]\n",
            "[3036 3199 3485 ... 2183  968 6180]\n",
            "[2436 4417    9 ...  502 6339 4528]\n",
            "[3954  348 5325 ... 3815 2799   80]\n"
          ]
        }
      ],
      "source": [
        "from sklearn.model_selection import StratifiedShuffleSplit\n",
        "# Stratified train/test splitting\n",
        "df.reset_index(drop=True, inplace=True)\n",
        "ss1 = StratifiedShuffleSplit(n_splits=4, test_size=0.3, random_state=0)\n",
        "for train_index, intermediate_index in ss1.split(df, df['sentiment']):\n",
        "    print(intermediate_index)\n",
        "    train_set = df.loc[train_index]\n",
        "    test_set = df.loc[intermediate_index]\n",
        "\n",
        "\n",
        "# Indexes are unordered, put them back\n",
        "train_set.reset_index(drop=True, inplace=True)\n",
        "test_set.reset_index(drop=True, inplace=True)"
      ]
    },
    {
      "cell_type": "code",
      "execution_count": null,
      "metadata": {
        "id": "ArMhj_u51l6E"
      },
      "outputs": [],
      "source": [
        "# Inputs\n",
        "X_train = np.asarray(train_set.x_cleaned)\n",
        "X_test = np.asarray(test_set.x_cleaned)\n",
        "\n",
        "# Outputs\n",
        "y_train = train_set.sentiment.astype('int8')\n",
        "y_test = test_set.sentiment.astype('int8')"
      ]
    },
    {
      "cell_type": "code",
      "execution_count": null,
      "metadata": {
        "colab": {
          "base_uri": "https://localhost:8080/"
        },
        "id": "Dsd4HauVoL5s",
        "outputId": "f6a3d329-ea6f-4253-a5a1-c3df521c8bf6"
      },
      "outputs": [
        {
          "name": "stdout",
          "output_type": "stream",
          "text": [
            "(8232, 1) (8232,)\n"
          ]
        }
      ],
      "source": [
        "from imblearn.over_sampling import RandomOverSampler\n",
        "\n",
        "# create an instance of RandomOverSampler minority increase\n",
        "oversampler = RandomOverSampler(random_state=42, sampling_strategy='auto')\n",
        "\n",
        "# apply oversampling to the training data\n",
        "X_train_oversampled, y_train_oversampled = oversampler.fit_resample(X_train.reshape(-1, 1), y_train)\n",
        "print(X_train_oversampled.shape, y_train_oversampled.shape)"
      ]
    },
    {
      "cell_type": "code",
      "execution_count": null,
      "metadata": {
        "colab": {
          "base_uri": "https://localhost:8080/"
        },
        "id": "pAR5W-dq3qgj",
        "outputId": "a7fb9f06-6e9b-42f2-f289-b42798284ba8"
      },
      "outputs": [
        {
          "name": "stdout",
          "output_type": "stream",
          "text": [
            "2    2744\n",
            "0    2744\n",
            "1    2744\n",
            "Name: sentiment, dtype: int64\n"
          ]
        }
      ],
      "source": [
        "print(y_train_oversampled.value_counts())"
      ]
    },
    {
      "cell_type": "code",
      "execution_count": null,
      "metadata": {
        "id": "uTuaLPukoZtE"
      },
      "outputs": [],
      "source": [
        "X_train = np.asarray(X_train_oversampled)\n",
        "y_train = y_train_oversampled.astype('int8')\n"
      ]
    },
    {
      "cell_type": "markdown",
      "metadata": {
        "id": "NRB2OHeRAp8f"
      },
      "source": [
        "**Encode target labels**"
      ]
    },
    {
      "cell_type": "code",
      "execution_count": null,
      "metadata": {
        "id": "xL3S-4MZEaGy"
      },
      "outputs": [],
      "source": [
        "from sklearn.preprocessing import LabelEncoder"
      ]
    },
    {
      "cell_type": "code",
      "execution_count": null,
      "metadata": {
        "id": "uwIF81dUUXgJ"
      },
      "outputs": [],
      "source": [
        "le = LabelEncoder()"
      ]
    },
    {
      "cell_type": "code",
      "execution_count": null,
      "metadata": {
        "id": "bwLht09wUaSC"
      },
      "outputs": [],
      "source": [
        "y_train_enc = y_train.copy()"
      ]
    },
    {
      "cell_type": "code",
      "execution_count": null,
      "metadata": {
        "id": "ASwcjO98UdgD"
      },
      "outputs": [],
      "source": [
        "y_train_enc = pd.DataFrame(data = y_train_enc, columns = ['sentiment'])"
      ]
    },
    {
      "cell_type": "code",
      "execution_count": null,
      "metadata": {
        "id": "vP9kRhxXUk5c"
      },
      "outputs": [],
      "source": [
        "y_train_enc['label_encoded'] = le.fit_transform(y_train_enc['sentiment'].values)"
      ]
    },
    {
      "cell_type": "code",
      "execution_count": null,
      "metadata": {
        "colab": {
          "base_uri": "https://localhost:8080/",
          "height": 423
        },
        "id": "z6rFpDHXUuB4",
        "outputId": "04d80b94-525d-4e2c-e077-dfa2c957a56b"
      },
      "outputs": [
        {
          "data": {
            "text/html": [
              "\n",
              "  <div id=\"df-e6a4e80c-8737-4e78-b501-155b54365f08\">\n",
              "    <div class=\"colab-df-container\">\n",
              "      <div>\n",
              "<style scoped>\n",
              "    .dataframe tbody tr th:only-of-type {\n",
              "        vertical-align: middle;\n",
              "    }\n",
              "\n",
              "    .dataframe tbody tr th {\n",
              "        vertical-align: top;\n",
              "    }\n",
              "\n",
              "    .dataframe thead th {\n",
              "        text-align: right;\n",
              "    }\n",
              "</style>\n",
              "<table border=\"1\" class=\"dataframe\">\n",
              "  <thead>\n",
              "    <tr style=\"text-align: right;\">\n",
              "      <th></th>\n",
              "      <th>sentiment</th>\n",
              "      <th>label_encoded</th>\n",
              "    </tr>\n",
              "  </thead>\n",
              "  <tbody>\n",
              "    <tr>\n",
              "      <th>0</th>\n",
              "      <td>2</td>\n",
              "      <td>2</td>\n",
              "    </tr>\n",
              "    <tr>\n",
              "      <th>1</th>\n",
              "      <td>0</td>\n",
              "      <td>0</td>\n",
              "    </tr>\n",
              "    <tr>\n",
              "      <th>2</th>\n",
              "      <td>2</td>\n",
              "      <td>2</td>\n",
              "    </tr>\n",
              "    <tr>\n",
              "      <th>3</th>\n",
              "      <td>2</td>\n",
              "      <td>2</td>\n",
              "    </tr>\n",
              "    <tr>\n",
              "      <th>4</th>\n",
              "      <td>1</td>\n",
              "      <td>1</td>\n",
              "    </tr>\n",
              "    <tr>\n",
              "      <th>...</th>\n",
              "      <td>...</td>\n",
              "      <td>...</td>\n",
              "    </tr>\n",
              "    <tr>\n",
              "      <th>8227</th>\n",
              "      <td>1</td>\n",
              "      <td>1</td>\n",
              "    </tr>\n",
              "    <tr>\n",
              "      <th>8228</th>\n",
              "      <td>1</td>\n",
              "      <td>1</td>\n",
              "    </tr>\n",
              "    <tr>\n",
              "      <th>8229</th>\n",
              "      <td>1</td>\n",
              "      <td>1</td>\n",
              "    </tr>\n",
              "    <tr>\n",
              "      <th>8230</th>\n",
              "      <td>1</td>\n",
              "      <td>1</td>\n",
              "    </tr>\n",
              "    <tr>\n",
              "      <th>8231</th>\n",
              "      <td>1</td>\n",
              "      <td>1</td>\n",
              "    </tr>\n",
              "  </tbody>\n",
              "</table>\n",
              "<p>8232 rows × 2 columns</p>\n",
              "</div>\n",
              "      <button class=\"colab-df-convert\" onclick=\"convertToInteractive('df-e6a4e80c-8737-4e78-b501-155b54365f08')\"\n",
              "              title=\"Convert this dataframe to an interactive table.\"\n",
              "              style=\"display:none;\">\n",
              "        \n",
              "  <svg xmlns=\"http://www.w3.org/2000/svg\" height=\"24px\"viewBox=\"0 0 24 24\"\n",
              "       width=\"24px\">\n",
              "    <path d=\"M0 0h24v24H0V0z\" fill=\"none\"/>\n",
              "    <path d=\"M18.56 5.44l.94 2.06.94-2.06 2.06-.94-2.06-.94-.94-2.06-.94 2.06-2.06.94zm-11 1L8.5 8.5l.94-2.06 2.06-.94-2.06-.94L8.5 2.5l-.94 2.06-2.06.94zm10 10l.94 2.06.94-2.06 2.06-.94-2.06-.94-.94-2.06-.94 2.06-2.06.94z\"/><path d=\"M17.41 7.96l-1.37-1.37c-.4-.4-.92-.59-1.43-.59-.52 0-1.04.2-1.43.59L10.3 9.45l-7.72 7.72c-.78.78-.78 2.05 0 2.83L4 21.41c.39.39.9.59 1.41.59.51 0 1.02-.2 1.41-.59l7.78-7.78 2.81-2.81c.8-.78.8-2.07 0-2.86zM5.41 20L4 18.59l7.72-7.72 1.47 1.35L5.41 20z\"/>\n",
              "  </svg>\n",
              "      </button>\n",
              "      \n",
              "  <style>\n",
              "    .colab-df-container {\n",
              "      display:flex;\n",
              "      flex-wrap:wrap;\n",
              "      gap: 12px;\n",
              "    }\n",
              "\n",
              "    .colab-df-convert {\n",
              "      background-color: #E8F0FE;\n",
              "      border: none;\n",
              "      border-radius: 50%;\n",
              "      cursor: pointer;\n",
              "      display: none;\n",
              "      fill: #1967D2;\n",
              "      height: 32px;\n",
              "      padding: 0 0 0 0;\n",
              "      width: 32px;\n",
              "    }\n",
              "\n",
              "    .colab-df-convert:hover {\n",
              "      background-color: #E2EBFA;\n",
              "      box-shadow: 0px 1px 2px rgba(60, 64, 67, 0.3), 0px 1px 3px 1px rgba(60, 64, 67, 0.15);\n",
              "      fill: #174EA6;\n",
              "    }\n",
              "\n",
              "    [theme=dark] .colab-df-convert {\n",
              "      background-color: #3B4455;\n",
              "      fill: #D2E3FC;\n",
              "    }\n",
              "\n",
              "    [theme=dark] .colab-df-convert:hover {\n",
              "      background-color: #434B5C;\n",
              "      box-shadow: 0px 1px 3px 1px rgba(0, 0, 0, 0.15);\n",
              "      filter: drop-shadow(0px 1px 2px rgba(0, 0, 0, 0.3));\n",
              "      fill: #FFFFFF;\n",
              "    }\n",
              "  </style>\n",
              "\n",
              "      <script>\n",
              "        const buttonEl =\n",
              "          document.querySelector('#df-e6a4e80c-8737-4e78-b501-155b54365f08 button.colab-df-convert');\n",
              "        buttonEl.style.display =\n",
              "          google.colab.kernel.accessAllowed ? 'block' : 'none';\n",
              "\n",
              "        async function convertToInteractive(key) {\n",
              "          const element = document.querySelector('#df-e6a4e80c-8737-4e78-b501-155b54365f08');\n",
              "          const dataTable =\n",
              "            await google.colab.kernel.invokeFunction('convertToInteractive',\n",
              "                                                     [key], {});\n",
              "          if (!dataTable) return;\n",
              "\n",
              "          const docLinkHtml = 'Like what you see? Visit the ' +\n",
              "            '<a target=\"_blank\" href=https://colab.research.google.com/notebooks/data_table.ipynb>data table notebook</a>'\n",
              "            + ' to learn more about interactive tables.';\n",
              "          element.innerHTML = '';\n",
              "          dataTable['output_type'] = 'display_data';\n",
              "          await google.colab.output.renderOutput(dataTable, element);\n",
              "          const docLink = document.createElement('div');\n",
              "          docLink.innerHTML = docLinkHtml;\n",
              "          element.appendChild(docLink);\n",
              "        }\n",
              "      </script>\n",
              "    </div>\n",
              "  </div>\n",
              "  "
            ],
            "text/plain": [
              "      sentiment  label_encoded\n",
              "0             2              2\n",
              "1             0              0\n",
              "2             2              2\n",
              "3             2              2\n",
              "4             1              1\n",
              "...         ...            ...\n",
              "8227          1              1\n",
              "8228          1              1\n",
              "8229          1              1\n",
              "8230          1              1\n",
              "8231          1              1\n",
              "\n",
              "[8232 rows x 2 columns]"
            ]
          },
          "execution_count": 76,
          "metadata": {},
          "output_type": "execute_result"
        }
      ],
      "source": [
        "y_train_enc"
      ]
    },
    {
      "cell_type": "code",
      "execution_count": null,
      "metadata": {
        "id": "dvqEiVfYU4c1"
      },
      "outputs": [],
      "source": [
        "# Label encode the target variable \n",
        "le.fit(y_train)\n",
        "y_train = le.transform(y_train)\n",
        "y_test = le.transform(y_test)"
      ]
    },
    {
      "cell_type": "markdown",
      "metadata": {
        "id": "kVTE1DBgD1En"
      },
      "source": [
        "**Preprocess data and build a transformer model**"
      ]
    },
    {
      "cell_type": "markdown",
      "metadata": {
        "id": "OLFD83wupUvi"
      },
      "source": [
        "With the Transformer API in ktrain, we can select any Hugging Face transformers model appropriate for our data. Since we are dealing with SMS spam, we will use smaller BERT by the author mrm8488.\n"
      ]
    },
    {
      "cell_type": "code",
      "execution_count": null,
      "metadata": {
        "id": "G327Kf0F6Tfo"
      },
      "outputs": [],
      "source": [
        "# Transformer model\n",
        "MODEL_NAME = 'bert-base-multilingual-uncased'"
      ]
    },
    {
      "cell_type": "markdown",
      "metadata": {
        "id": "V8GHT3aOoG8H"
      },
      "source": [
        "We must supply a class_names argument to the Transformer constructor, which tells ktrain how indices map to class names. In this case, class_names = ['Non-spam', 'Spam'] because 0 = Non-spam, 1 = Spam."
      ]
    },
    {
      "cell_type": "code",
      "execution_count": null,
      "metadata": {
        "id": "DP0ZFUts6uGT"
      },
      "outputs": [],
      "source": [
        "t = text.Transformer(MODEL_NAME, maxlen = 180, class_names = [0,1,2])"
      ]
    },
    {
      "cell_type": "code",
      "execution_count": null,
      "metadata": {
        "id": "75vhWK2HBM-v"
      },
      "outputs": [],
      "source": [
        "\n",
        "# Convert training set into a list\n",
        "X_tr = pd.DataFrame(data = X_train, columns = ['x_cleaned'])\n",
        "y_tr = pd.DataFrame(data = y_train, columns = ['sentiment'])\n",
        "X_te = pd.DataFrame(data = X_test, columns = ['x_cleaned'])\n",
        "y_te = pd.DataFrame(data = y_test, columns = ['sentiment'])\n",
        "\n",
        "# Convert testing set into a list\n",
        "X_tr = X_tr['x_cleaned'].tolist()\n",
        "y_tr = y_tr['sentiment'].tolist()\n",
        "X_te = X_te['x_cleaned'].tolist()\n",
        "y_te = y_te['sentiment'].tolist()"
      ]
    },
    {
      "cell_type": "code",
      "execution_count": null,
      "metadata": {
        "colab": {
          "base_uri": "https://localhost:8080/",
          "height": 254
        },
        "id": "0_6OWVR18tm_",
        "outputId": "3360211e-68e1-41aa-f18f-c4ea741c3366"
      },
      "outputs": [
        {
          "name": "stdout",
          "output_type": "stream",
          "text": [
            "preprocessing train...\n",
            "language: en\n",
            "train sequence lengths:\n",
            "\tmean : 25\n",
            "\t95percentile : 75\n",
            "\t99percentile : 182\n"
          ]
        },
        {
          "data": {
            "text/html": [
              "\n",
              "<style>\n",
              "    /* Turns off some styling */\n",
              "    progress {\n",
              "        /* gets rid of default border in Firefox and Opera. */\n",
              "        border: none;\n",
              "        /* Needs to be in here for Safari polyfill so background images work as expected. */\n",
              "        background-size: auto;\n",
              "    }\n",
              "    progress:not([value]), progress:not([value])::-webkit-progress-bar {\n",
              "        background: repeating-linear-gradient(45deg, #7e7e7e, #7e7e7e 10px, #5c5c5c 10px, #5c5c5c 20px);\n",
              "    }\n",
              "    .progress-bar-interrupted, .progress-bar-interrupted::-webkit-progress-bar {\n",
              "        background: #F44336;\n",
              "    }\n",
              "</style>\n"
            ],
            "text/plain": [
              "<IPython.core.display.HTML object>"
            ]
          },
          "metadata": {},
          "output_type": "display_data"
        },
        {
          "data": {
            "text/html": [],
            "text/plain": [
              "<IPython.core.display.HTML object>"
            ]
          },
          "metadata": {},
          "output_type": "display_data"
        },
        {
          "name": "stdout",
          "output_type": "stream",
          "text": [
            "Is Multi-Label? False\n",
            "preprocessing test...\n",
            "language: en\n",
            "test sequence lengths:\n",
            "\tmean : 28\n",
            "\t95percentile : 82\n",
            "\t99percentile : 217\n"
          ]
        },
        {
          "data": {
            "text/html": [
              "\n",
              "<style>\n",
              "    /* Turns off some styling */\n",
              "    progress {\n",
              "        /* gets rid of default border in Firefox and Opera. */\n",
              "        border: none;\n",
              "        /* Needs to be in here for Safari polyfill so background images work as expected. */\n",
              "        background-size: auto;\n",
              "    }\n",
              "    progress:not([value]), progress:not([value])::-webkit-progress-bar {\n",
              "        background: repeating-linear-gradient(45deg, #7e7e7e, #7e7e7e 10px, #5c5c5c 10px, #5c5c5c 20px);\n",
              "    }\n",
              "    .progress-bar-interrupted, .progress-bar-interrupted::-webkit-progress-bar {\n",
              "        background: #F44336;\n",
              "    }\n",
              "</style>\n"
            ],
            "text/plain": [
              "<IPython.core.display.HTML object>"
            ]
          },
          "metadata": {},
          "output_type": "display_data"
        },
        {
          "data": {
            "text/html": [],
            "text/plain": [
              "<IPython.core.display.HTML object>"
            ]
          },
          "metadata": {},
          "output_type": "display_data"
        }
      ],
      "source": [
        "# Preprocessing training and testing set \n",
        "trn = t.preprocess_train(X_tr, y_tr)\n",
        "val = t.preprocess_test(X_te, y_te)"
      ]
    },
    {
      "cell_type": "code",
      "execution_count": null,
      "metadata": {
        "id": "oQc2kNdTCXyq"
      },
      "outputs": [],
      "source": [
        "model = t.get_classifier('bert-base-multilingual-uncased')"
      ]
    },
    {
      "cell_type": "code",
      "execution_count": null,
      "metadata": {
        "id": "mbgyV06-ChOl"
      },
      "outputs": [],
      "source": [
        "# Wrap model and data in ktrain.Learner object\n",
        "learner = ktrain.get_learner(model, train_data=trn, val_data=None, batch_size=32)"
      ]
    },
    {
      "cell_type": "markdown",
      "metadata": {
        "id": "vB6pQYl7zweQ"
      },
      "source": [
        "**Estimate a good learning rate**"
      ]
    },
    {
      "cell_type": "markdown",
      "metadata": {
        "id": "YuuHhiyN9Sg-"
      },
      "source": [
        "To train the model, we will first find the optimal learning rate that suits well to our problem. ktrain provides a very good method named lr_find which trains the model at different learning rates and plots loss of the model as the learning rate is increased."
      ]
    },
    {
      "cell_type": "code",
      "execution_count": null,
      "metadata": {
        "id": "YsP8OJc3kY39"
      },
      "outputs": [],
      "source": [
        "# # Perform 5-fold cross-validation using the ktrain Learner object and cross_val_score\n",
        "# from sklearn.model_selection import cross_val_score\n",
        "\n",
        "# scores = cross_val_score(learner, x_train, y_train, cv=5)"
      ]
    },
    {
      "cell_type": "code",
      "execution_count": null,
      "metadata": {
        "id": "Tx_I77721Hp0"
      },
      "outputs": [],
      "source": [
        "# Briefly simulate training to find good learning rate\n",
        "#learner.lr_find(max_epochs = 2) "
      ]
    },
    {
      "cell_type": "markdown",
      "metadata": {
        "id": "3ZS873v69YnG"
      },
      "source": [
        "The learning rate plot can be observed by calling the following method:"
      ]
    },
    {
      "cell_type": "code",
      "execution_count": null,
      "metadata": {
        "id": "77isXmb_UrJC"
      },
      "outputs": [],
      "source": [
        "# Visually identify best learning rate\n",
        "#learner.lr_plot(suggest = True)"
      ]
    },
    {
      "cell_type": "markdown",
      "metadata": {
        "id": "3rHs8Q6K9v-8"
      },
      "source": [
        "We will now train the model using the autofit method. The method trains the classifier and automatically selects the best performing one preventing underfitting and overfitting of the model."
      ]
    },
    {
      "cell_type": "code",
      "execution_count": null,
      "metadata": {
        "colab": {
          "base_uri": "https://localhost:8080/"
        },
        "id": "NQN6C51ucltW",
        "outputId": "41394cba-77a5-47d1-b002-90813c6f1d1d"
      },
      "outputs": [
        {
          "name": "stdout",
          "output_type": "stream",
          "text": [
            "\n",
            "\n",
            "begin training using onecycle policy with max lr of 2e-05...\n",
            "Epoch 1/5\n",
            "258/258 [==============================] - 321s 1s/step - loss: 0.8717 - accuracy: 0.6129\n",
            "Epoch 2/5\n",
            "258/258 [==============================] - 303s 1s/step - loss: 0.6304 - accuracy: 0.7519\n",
            "Epoch 3/5\n",
            "258/258 [==============================] - 302s 1s/step - loss: 0.4323 - accuracy: 0.8347\n",
            "Epoch 4/5\n",
            "258/258 [==============================] - 302s 1s/step - loss: 0.2412 - accuracy: 0.9144\n",
            "Epoch 5/5\n",
            "258/258 [==============================] - 302s 1s/step - loss: 0.1219 - accuracy: 0.9612\n"
          ]
        },
        {
          "data": {
            "text/plain": [
              "<keras.callbacks.History at 0x7fc4642f07c0>"
            ]
          },
          "execution_count": 87,
          "metadata": {},
          "output_type": "execute_result"
        }
      ],
      "source": [
        "# Training using the autofit policy\n",
        "#learner.fit_onecycle(5e-5, 3)3e-5\n",
        "learner.fit_onecycle(5E-05, 5)"
      ]
    },
    {
      "cell_type": "markdown",
      "metadata": {
        "id": "4Pl1DZiZ6RqM"
      },
      "source": [
        "**Evaluate/Inspect model**"
      ]
    },
    {
      "cell_type": "code",
      "execution_count": null,
      "metadata": {
        "id": "8uIlJqZWjxWQ"
      },
      "outputs": [],
      "source": [
        "# learner.view_top_losses(n=2, preproc=t)"
      ]
    },
    {
      "cell_type": "code",
      "execution_count": null,
      "metadata": {
        "id": "-nu7TqcNMKB3"
      },
      "outputs": [],
      "source": [
        "# Evaluate model\n",
        "#learner.validate(class_names = t.get_classes())"
      ]
    },
    {
      "cell_type": "code",
      "execution_count": null,
      "metadata": {
        "id": "TRchmk0SnsCb"
      },
      "outputs": [],
      "source": [
        "predictor = ktrain.get_predictor(learner.model, preproc=t)\n",
        "y_pred = predictor.predict(X_te)"
      ]
    },
    {
      "cell_type": "code",
      "execution_count": null,
      "metadata": {
        "colab": {
          "base_uri": "https://localhost:8080/"
        },
        "id": "Nj9fwISkmkyg",
        "outputId": "19b0a785-c863-4057-a338-fd9ef24ff6b2"
      },
      "outputs": [
        {
          "name": "stdout",
          "output_type": "stream",
          "text": [
            "Accuracy: 0.6514690982776089\n",
            "F1 Score: 0.644953521856534\n",
            "Precision: 0.6406793187549423\n",
            "Recall: 0.6514690982776089\n",
            "              precision    recall  f1-score   support\n",
            "\n",
            "           0       0.43      0.38      0.40       425\n",
            "           1       0.56      0.51      0.53       372\n",
            "           2       0.74      0.80      0.77      1177\n",
            "\n",
            "    accuracy                           0.65      1974\n",
            "   macro avg       0.58      0.56      0.57      1974\n",
            "weighted avg       0.64      0.65      0.64      1974\n",
            "\n",
            "[[162  70 193]\n",
            " [ 52 188 132]\n",
            " [165  76 936]]\n"
          ]
        }
      ],
      "source": [
        "from sklearn.metrics import confusion_matrix, classification_report, accuracy_score, f1_score, precision_score, recall_score\n",
        "# Results visualization\n",
        "print(\"Accuracy:\", accuracy_score(y_test, y_pred))\n",
        "print(\"F1 Score:\", f1_score(y_test, y_pred, average='weighted'))\n",
        "print(\"Precision:\", precision_score(y_test, y_pred, average='weighted'))\n",
        "print(\"Recall:\", recall_score(y_test, y_pred, average='weighted'))\n",
        "print(classification_report(y_test, y_pred, target_names=['0','1','2']))\n",
        "print(confusion_matrix(y_test, y_pred))\n",
        "report = classification_report(y_test, y_pred, output_dict=True)"
      ]
    },
    {
      "cell_type": "code",
      "execution_count": null,
      "metadata": {
        "colab": {
          "base_uri": "https://localhost:8080/",
          "height": 134
        },
        "id": "0q8NbUDpjITH",
        "outputId": "5360dc2e-6f8d-4e85-ffcc-456e7a5c6c3b"
      },
      "outputs": [
        {
          "ename": "SyntaxError",
          "evalue": "ignored",
          "output_type": "error",
          "traceback": [
            "\u001b[0;36m  File \u001b[0;32m\"<ipython-input-92-d5d923d4d821>\"\u001b[0;36m, line \u001b[0;32m1\u001b[0m\n\u001b[0;31m    +from\u001b[0m\n\u001b[0m     ^\u001b[0m\n\u001b[0;31mSyntaxError\u001b[0m\u001b[0;31m:\u001b[0m invalid syntax\n"
          ]
        }
      ],
      "source": [
        "+from "
      ]
    },
    {
      "cell_type": "code",
      "execution_count": null,
      "metadata": {
        "id": "QshJTKg9h_6s"
      },
      "outputs": [],
      "source": [
        "from google.colab import drive\n",
        "drive.mount('/content/drive')"
      ]
    },
    {
      "cell_type": "code",
      "execution_count": null,
      "metadata": {
        "id": "MvdIot_PmtwZ"
      },
      "outputs": [],
      "source": [
        "predictor.save('/content/drive/MyDrive/5e-05-2EPOCHS-B8-MLEN-400-cased')\n",
        "#predictor = ktrain.load_predictor('/content/sample_data/5e-05LR-5EPOCHS-B6-MLEN-200-cased')\n"
      ]
    },
    {
      "cell_type": "code",
      "execution_count": null,
      "metadata": {
        "id": "zZVLYpIiFkST"
      },
      "outputs": [],
      "source": [
        "import pandas as pd\n",
        "import pickle\n",
        "import numpy as np\n",
        "from tensorflow import keras\n",
        "from keras.models import load_model\n",
        "\n",
        "text = pd.read_csv('/content/sample_data/remaining_data_from_gold.csv')\n",
        "\n",
        "# loading preprocess and model file\n",
        "features = pickle.load(open('/content/sample_data/3.73E-05-3EPOCHS-B16-MLEN-150-cased/tf_model.preproc', 'rb'))\n",
        "new_model = load_model('/content/sample_data/3.73E-05-3EPOCHS-B16-MLEN-150-cased/tf_model.h5')\n",
        "\n",
        "labels = [0, 1, 2]\n",
        "text_list = text['text'].tolist()\n",
        "preproc_text = features.preprocess(text_list)\n",
        "\n",
        "result = new_model.predict(preproc_text)\n",
        "label = labels[result[0].argmax(axis=0)]\n",
        "score = ('{:.2f}'.format(round(np.max(result[0]), 2)*100))\n",
        "print('LABEL :', label, 'SCORE :', score)\n"
      ]
    },
    {
      "cell_type": "code",
      "execution_count": null,
      "metadata": {
        "id": "ZUSG8u7Qrv5u"
      },
      "outputs": [],
      "source": [
        "df = pd.read_csv('/content/sample_data/remaining_data_from_gold.csv')\n",
        "#df['cleaned_text'] = df['text'].apply(lambda x: text_cleaning(x))\n",
        "#df\n",
        "# make predictions on the test data\n",
        "tokenized_data = predictor.predict(df['cleaned_text'].tolist())\n",
        "predictions = predictor.predict(tokenized_data)\n",
        "\n",
        "# create lists to hold the predicted sentiments and text data\n",
        "sentiments = []\n",
        "texts = []\n",
        "\n",
        "# loop over the predicted sentiments and their corresponding text data\n",
        "for text, sentiment in zip(df['cleaned_text'], predictions):\n",
        "    texts.append(text)\n",
        "    sentiments.append(sentiment)\n",
        "\n",
        "# create a new DataFrame with the predicted sentiments and text data\n",
        "results_df = pd.DataFrame({'cleaned_text': texts, 'sentiment': sentiments})\n",
        "\n",
        "# save the results DataFrame to a CSV file\n",
        "results_df.to_csv('/content/sample_data/predicted_results.csv', index=False)"
      ]
    }
  ],
  "metadata": {
    "accelerator": "GPU",
    "colab": {
      "provenance": []
    },
    "gpuClass": "standard",
    "kernelspec": {
      "display_name": "Python 3",
      "language": "python",
      "name": "python3"
    },
    "language_info": {
      "codemirror_mode": {
        "name": "ipython",
        "version": 3
      },
      "file_extension": ".py",
      "mimetype": "text/x-python",
      "name": "python",
      "nbconvert_exporter": "python",
      "pygments_lexer": "ipython3",
      "version": "3.7.10"
    },
    "widgets": {
      "application/vnd.jupyter.widget-state+json": {
        "cabec458c0ca4286923b8bf4515404ac": {
          "model_module": "@jupyter-widgets/controls",
          "model_name": "HBoxModel",
          "model_module_version": "1.5.0",
          "state": {
            "_dom_classes": [],
            "_model_module": "@jupyter-widgets/controls",
            "_model_module_version": "1.5.0",
            "_model_name": "HBoxModel",
            "_view_count": null,
            "_view_module": "@jupyter-widgets/controls",
            "_view_module_version": "1.5.0",
            "_view_name": "HBoxView",
            "box_style": "",
            "children": [
              "IPY_MODEL_7d68fca9867a48d1b394ee6b4a49d963",
              "IPY_MODEL_c764db35820848a691166997b28d81bf",
              "IPY_MODEL_eb56e509613d4acc8d2f0bac2b594de6"
            ],
            "layout": "IPY_MODEL_2dd20fc07019434181803476f9e3f496"
          }
        },
        "7d68fca9867a48d1b394ee6b4a49d963": {
          "model_module": "@jupyter-widgets/controls",
          "model_name": "HTMLModel",
          "model_module_version": "1.5.0",
          "state": {
            "_dom_classes": [],
            "_model_module": "@jupyter-widgets/controls",
            "_model_module_version": "1.5.0",
            "_model_name": "HTMLModel",
            "_view_count": null,
            "_view_module": "@jupyter-widgets/controls",
            "_view_module_version": "1.5.0",
            "_view_name": "HTMLView",
            "description": "",
            "description_tooltip": null,
            "layout": "IPY_MODEL_ec2b1bc0ad3e42d3ace27e8196ce6f68",
            "placeholder": "​",
            "style": "IPY_MODEL_fca964a170d34297ac142cfbd2c76e7f",
            "value": "Downloading tf_model.h5: 100%"
          }
        },
        "c764db35820848a691166997b28d81bf": {
          "model_module": "@jupyter-widgets/controls",
          "model_name": "FloatProgressModel",
          "model_module_version": "1.5.0",
          "state": {
            "_dom_classes": [],
            "_model_module": "@jupyter-widgets/controls",
            "_model_module_version": "1.5.0",
            "_model_name": "FloatProgressModel",
            "_view_count": null,
            "_view_module": "@jupyter-widgets/controls",
            "_view_module_version": "1.5.0",
            "_view_name": "ProgressView",
            "bar_style": "success",
            "description": "",
            "description_tooltip": null,
            "layout": "IPY_MODEL_1e6519f72bb04900b7f4fb60b7c3c5e8",
            "max": 1083389348,
            "min": 0,
            "orientation": "horizontal",
            "style": "IPY_MODEL_e69f3c3adcb34e359a973a859426c749",
            "value": 1083389348
          }
        },
        "eb56e509613d4acc8d2f0bac2b594de6": {
          "model_module": "@jupyter-widgets/controls",
          "model_name": "HTMLModel",
          "model_module_version": "1.5.0",
          "state": {
            "_dom_classes": [],
            "_model_module": "@jupyter-widgets/controls",
            "_model_module_version": "1.5.0",
            "_model_name": "HTMLModel",
            "_view_count": null,
            "_view_module": "@jupyter-widgets/controls",
            "_view_module_version": "1.5.0",
            "_view_name": "HTMLView",
            "description": "",
            "description_tooltip": null,
            "layout": "IPY_MODEL_912e99b9089345278698d6a4424a81db",
            "placeholder": "​",
            "style": "IPY_MODEL_06e8778e3e8b40d583f471606c7efe21",
            "value": " 1.08G/1.08G [00:29&lt;00:00, 29.3MB/s]"
          }
        },
        "2dd20fc07019434181803476f9e3f496": {
          "model_module": "@jupyter-widgets/base",
          "model_name": "LayoutModel",
          "model_module_version": "1.2.0",
          "state": {
            "_model_module": "@jupyter-widgets/base",
            "_model_module_version": "1.2.0",
            "_model_name": "LayoutModel",
            "_view_count": null,
            "_view_module": "@jupyter-widgets/base",
            "_view_module_version": "1.2.0",
            "_view_name": "LayoutView",
            "align_content": null,
            "align_items": null,
            "align_self": null,
            "border": null,
            "bottom": null,
            "display": null,
            "flex": null,
            "flex_flow": null,
            "grid_area": null,
            "grid_auto_columns": null,
            "grid_auto_flow": null,
            "grid_auto_rows": null,
            "grid_column": null,
            "grid_gap": null,
            "grid_row": null,
            "grid_template_areas": null,
            "grid_template_columns": null,
            "grid_template_rows": null,
            "height": null,
            "justify_content": null,
            "justify_items": null,
            "left": null,
            "margin": null,
            "max_height": null,
            "max_width": null,
            "min_height": null,
            "min_width": null,
            "object_fit": null,
            "object_position": null,
            "order": null,
            "overflow": null,
            "overflow_x": null,
            "overflow_y": null,
            "padding": null,
            "right": null,
            "top": null,
            "visibility": null,
            "width": null
          }
        },
        "ec2b1bc0ad3e42d3ace27e8196ce6f68": {
          "model_module": "@jupyter-widgets/base",
          "model_name": "LayoutModel",
          "model_module_version": "1.2.0",
          "state": {
            "_model_module": "@jupyter-widgets/base",
            "_model_module_version": "1.2.0",
            "_model_name": "LayoutModel",
            "_view_count": null,
            "_view_module": "@jupyter-widgets/base",
            "_view_module_version": "1.2.0",
            "_view_name": "LayoutView",
            "align_content": null,
            "align_items": null,
            "align_self": null,
            "border": null,
            "bottom": null,
            "display": null,
            "flex": null,
            "flex_flow": null,
            "grid_area": null,
            "grid_auto_columns": null,
            "grid_auto_flow": null,
            "grid_auto_rows": null,
            "grid_column": null,
            "grid_gap": null,
            "grid_row": null,
            "grid_template_areas": null,
            "grid_template_columns": null,
            "grid_template_rows": null,
            "height": null,
            "justify_content": null,
            "justify_items": null,
            "left": null,
            "margin": null,
            "max_height": null,
            "max_width": null,
            "min_height": null,
            "min_width": null,
            "object_fit": null,
            "object_position": null,
            "order": null,
            "overflow": null,
            "overflow_x": null,
            "overflow_y": null,
            "padding": null,
            "right": null,
            "top": null,
            "visibility": null,
            "width": null
          }
        },
        "fca964a170d34297ac142cfbd2c76e7f": {
          "model_module": "@jupyter-widgets/controls",
          "model_name": "DescriptionStyleModel",
          "model_module_version": "1.5.0",
          "state": {
            "_model_module": "@jupyter-widgets/controls",
            "_model_module_version": "1.5.0",
            "_model_name": "DescriptionStyleModel",
            "_view_count": null,
            "_view_module": "@jupyter-widgets/base",
            "_view_module_version": "1.2.0",
            "_view_name": "StyleView",
            "description_width": ""
          }
        },
        "1e6519f72bb04900b7f4fb60b7c3c5e8": {
          "model_module": "@jupyter-widgets/base",
          "model_name": "LayoutModel",
          "model_module_version": "1.2.0",
          "state": {
            "_model_module": "@jupyter-widgets/base",
            "_model_module_version": "1.2.0",
            "_model_name": "LayoutModel",
            "_view_count": null,
            "_view_module": "@jupyter-widgets/base",
            "_view_module_version": "1.2.0",
            "_view_name": "LayoutView",
            "align_content": null,
            "align_items": null,
            "align_self": null,
            "border": null,
            "bottom": null,
            "display": null,
            "flex": null,
            "flex_flow": null,
            "grid_area": null,
            "grid_auto_columns": null,
            "grid_auto_flow": null,
            "grid_auto_rows": null,
            "grid_column": null,
            "grid_gap": null,
            "grid_row": null,
            "grid_template_areas": null,
            "grid_template_columns": null,
            "grid_template_rows": null,
            "height": null,
            "justify_content": null,
            "justify_items": null,
            "left": null,
            "margin": null,
            "max_height": null,
            "max_width": null,
            "min_height": null,
            "min_width": null,
            "object_fit": null,
            "object_position": null,
            "order": null,
            "overflow": null,
            "overflow_x": null,
            "overflow_y": null,
            "padding": null,
            "right": null,
            "top": null,
            "visibility": null,
            "width": null
          }
        },
        "e69f3c3adcb34e359a973a859426c749": {
          "model_module": "@jupyter-widgets/controls",
          "model_name": "ProgressStyleModel",
          "model_module_version": "1.5.0",
          "state": {
            "_model_module": "@jupyter-widgets/controls",
            "_model_module_version": "1.5.0",
            "_model_name": "ProgressStyleModel",
            "_view_count": null,
            "_view_module": "@jupyter-widgets/base",
            "_view_module_version": "1.2.0",
            "_view_name": "StyleView",
            "bar_color": null,
            "description_width": ""
          }
        },
        "912e99b9089345278698d6a4424a81db": {
          "model_module": "@jupyter-widgets/base",
          "model_name": "LayoutModel",
          "model_module_version": "1.2.0",
          "state": {
            "_model_module": "@jupyter-widgets/base",
            "_model_module_version": "1.2.0",
            "_model_name": "LayoutModel",
            "_view_count": null,
            "_view_module": "@jupyter-widgets/base",
            "_view_module_version": "1.2.0",
            "_view_name": "LayoutView",
            "align_content": null,
            "align_items": null,
            "align_self": null,
            "border": null,
            "bottom": null,
            "display": null,
            "flex": null,
            "flex_flow": null,
            "grid_area": null,
            "grid_auto_columns": null,
            "grid_auto_flow": null,
            "grid_auto_rows": null,
            "grid_column": null,
            "grid_gap": null,
            "grid_row": null,
            "grid_template_areas": null,
            "grid_template_columns": null,
            "grid_template_rows": null,
            "height": null,
            "justify_content": null,
            "justify_items": null,
            "left": null,
            "margin": null,
            "max_height": null,
            "max_width": null,
            "min_height": null,
            "min_width": null,
            "object_fit": null,
            "object_position": null,
            "order": null,
            "overflow": null,
            "overflow_x": null,
            "overflow_y": null,
            "padding": null,
            "right": null,
            "top": null,
            "visibility": null,
            "width": null
          }
        },
        "06e8778e3e8b40d583f471606c7efe21": {
          "model_module": "@jupyter-widgets/controls",
          "model_name": "DescriptionStyleModel",
          "model_module_version": "1.5.0",
          "state": {
            "_model_module": "@jupyter-widgets/controls",
            "_model_module_version": "1.5.0",
            "_model_name": "DescriptionStyleModel",
            "_view_count": null,
            "_view_module": "@jupyter-widgets/base",
            "_view_module_version": "1.2.0",
            "_view_name": "StyleView",
            "description_width": ""
          }
        },
        "55c009b11e2c47c69b69cee648247344": {
          "model_module": "@jupyter-widgets/controls",
          "model_name": "HBoxModel",
          "model_module_version": "1.5.0",
          "state": {
            "_dom_classes": [],
            "_model_module": "@jupyter-widgets/controls",
            "_model_module_version": "1.5.0",
            "_model_name": "HBoxModel",
            "_view_count": null,
            "_view_module": "@jupyter-widgets/controls",
            "_view_module_version": "1.5.0",
            "_view_name": "HBoxView",
            "box_style": "",
            "children": [
              "IPY_MODEL_86f6e35f79234dc3977d9609f9a34641",
              "IPY_MODEL_c75a2b0c83a040589ecab29e1d04cc44",
              "IPY_MODEL_79f553705cce4540909485692bd25077"
            ],
            "layout": "IPY_MODEL_e22cb566187f492b9922f0d8ec393395"
          }
        },
        "86f6e35f79234dc3977d9609f9a34641": {
          "model_module": "@jupyter-widgets/controls",
          "model_name": "HTMLModel",
          "model_module_version": "1.5.0",
          "state": {
            "_dom_classes": [],
            "_model_module": "@jupyter-widgets/controls",
            "_model_module_version": "1.5.0",
            "_model_name": "HTMLModel",
            "_view_count": null,
            "_view_module": "@jupyter-widgets/controls",
            "_view_module_version": "1.5.0",
            "_view_name": "HTMLView",
            "description": "",
            "description_tooltip": null,
            "layout": "IPY_MODEL_6730b2da1c7f4fb78269953fd34280f1",
            "placeholder": "​",
            "style": "IPY_MODEL_0fb488b194604a8b95169fc16019ab49",
            "value": "Downloading (…)okenizer_config.json: 100%"
          }
        },
        "c75a2b0c83a040589ecab29e1d04cc44": {
          "model_module": "@jupyter-widgets/controls",
          "model_name": "FloatProgressModel",
          "model_module_version": "1.5.0",
          "state": {
            "_dom_classes": [],
            "_model_module": "@jupyter-widgets/controls",
            "_model_module_version": "1.5.0",
            "_model_name": "FloatProgressModel",
            "_view_count": null,
            "_view_module": "@jupyter-widgets/controls",
            "_view_module_version": "1.5.0",
            "_view_name": "ProgressView",
            "bar_style": "success",
            "description": "",
            "description_tooltip": null,
            "layout": "IPY_MODEL_9c74a42fa27148c5bf505060d7d8ae93",
            "max": 29,
            "min": 0,
            "orientation": "horizontal",
            "style": "IPY_MODEL_1ea1a8a9bc9a45bf9199192faf28cd72",
            "value": 29
          }
        },
        "79f553705cce4540909485692bd25077": {
          "model_module": "@jupyter-widgets/controls",
          "model_name": "HTMLModel",
          "model_module_version": "1.5.0",
          "state": {
            "_dom_classes": [],
            "_model_module": "@jupyter-widgets/controls",
            "_model_module_version": "1.5.0",
            "_model_name": "HTMLModel",
            "_view_count": null,
            "_view_module": "@jupyter-widgets/controls",
            "_view_module_version": "1.5.0",
            "_view_name": "HTMLView",
            "description": "",
            "description_tooltip": null,
            "layout": "IPY_MODEL_09b41b60345746fd83d9632038846fc0",
            "placeholder": "​",
            "style": "IPY_MODEL_4f88de225a7441b2a29de584ec4d8c8b",
            "value": " 29.0/29.0 [00:00&lt;00:00, 1.11kB/s]"
          }
        },
        "e22cb566187f492b9922f0d8ec393395": {
          "model_module": "@jupyter-widgets/base",
          "model_name": "LayoutModel",
          "model_module_version": "1.2.0",
          "state": {
            "_model_module": "@jupyter-widgets/base",
            "_model_module_version": "1.2.0",
            "_model_name": "LayoutModel",
            "_view_count": null,
            "_view_module": "@jupyter-widgets/base",
            "_view_module_version": "1.2.0",
            "_view_name": "LayoutView",
            "align_content": null,
            "align_items": null,
            "align_self": null,
            "border": null,
            "bottom": null,
            "display": null,
            "flex": null,
            "flex_flow": null,
            "grid_area": null,
            "grid_auto_columns": null,
            "grid_auto_flow": null,
            "grid_auto_rows": null,
            "grid_column": null,
            "grid_gap": null,
            "grid_row": null,
            "grid_template_areas": null,
            "grid_template_columns": null,
            "grid_template_rows": null,
            "height": null,
            "justify_content": null,
            "justify_items": null,
            "left": null,
            "margin": null,
            "max_height": null,
            "max_width": null,
            "min_height": null,
            "min_width": null,
            "object_fit": null,
            "object_position": null,
            "order": null,
            "overflow": null,
            "overflow_x": null,
            "overflow_y": null,
            "padding": null,
            "right": null,
            "top": null,
            "visibility": null,
            "width": null
          }
        },
        "6730b2da1c7f4fb78269953fd34280f1": {
          "model_module": "@jupyter-widgets/base",
          "model_name": "LayoutModel",
          "model_module_version": "1.2.0",
          "state": {
            "_model_module": "@jupyter-widgets/base",
            "_model_module_version": "1.2.0",
            "_model_name": "LayoutModel",
            "_view_count": null,
            "_view_module": "@jupyter-widgets/base",
            "_view_module_version": "1.2.0",
            "_view_name": "LayoutView",
            "align_content": null,
            "align_items": null,
            "align_self": null,
            "border": null,
            "bottom": null,
            "display": null,
            "flex": null,
            "flex_flow": null,
            "grid_area": null,
            "grid_auto_columns": null,
            "grid_auto_flow": null,
            "grid_auto_rows": null,
            "grid_column": null,
            "grid_gap": null,
            "grid_row": null,
            "grid_template_areas": null,
            "grid_template_columns": null,
            "grid_template_rows": null,
            "height": null,
            "justify_content": null,
            "justify_items": null,
            "left": null,
            "margin": null,
            "max_height": null,
            "max_width": null,
            "min_height": null,
            "min_width": null,
            "object_fit": null,
            "object_position": null,
            "order": null,
            "overflow": null,
            "overflow_x": null,
            "overflow_y": null,
            "padding": null,
            "right": null,
            "top": null,
            "visibility": null,
            "width": null
          }
        },
        "0fb488b194604a8b95169fc16019ab49": {
          "model_module": "@jupyter-widgets/controls",
          "model_name": "DescriptionStyleModel",
          "model_module_version": "1.5.0",
          "state": {
            "_model_module": "@jupyter-widgets/controls",
            "_model_module_version": "1.5.0",
            "_model_name": "DescriptionStyleModel",
            "_view_count": null,
            "_view_module": "@jupyter-widgets/base",
            "_view_module_version": "1.2.0",
            "_view_name": "StyleView",
            "description_width": ""
          }
        },
        "9c74a42fa27148c5bf505060d7d8ae93": {
          "model_module": "@jupyter-widgets/base",
          "model_name": "LayoutModel",
          "model_module_version": "1.2.0",
          "state": {
            "_model_module": "@jupyter-widgets/base",
            "_model_module_version": "1.2.0",
            "_model_name": "LayoutModel",
            "_view_count": null,
            "_view_module": "@jupyter-widgets/base",
            "_view_module_version": "1.2.0",
            "_view_name": "LayoutView",
            "align_content": null,
            "align_items": null,
            "align_self": null,
            "border": null,
            "bottom": null,
            "display": null,
            "flex": null,
            "flex_flow": null,
            "grid_area": null,
            "grid_auto_columns": null,
            "grid_auto_flow": null,
            "grid_auto_rows": null,
            "grid_column": null,
            "grid_gap": null,
            "grid_row": null,
            "grid_template_areas": null,
            "grid_template_columns": null,
            "grid_template_rows": null,
            "height": null,
            "justify_content": null,
            "justify_items": null,
            "left": null,
            "margin": null,
            "max_height": null,
            "max_width": null,
            "min_height": null,
            "min_width": null,
            "object_fit": null,
            "object_position": null,
            "order": null,
            "overflow": null,
            "overflow_x": null,
            "overflow_y": null,
            "padding": null,
            "right": null,
            "top": null,
            "visibility": null,
            "width": null
          }
        },
        "1ea1a8a9bc9a45bf9199192faf28cd72": {
          "model_module": "@jupyter-widgets/controls",
          "model_name": "ProgressStyleModel",
          "model_module_version": "1.5.0",
          "state": {
            "_model_module": "@jupyter-widgets/controls",
            "_model_module_version": "1.5.0",
            "_model_name": "ProgressStyleModel",
            "_view_count": null,
            "_view_module": "@jupyter-widgets/base",
            "_view_module_version": "1.2.0",
            "_view_name": "StyleView",
            "bar_color": null,
            "description_width": ""
          }
        },
        "09b41b60345746fd83d9632038846fc0": {
          "model_module": "@jupyter-widgets/base",
          "model_name": "LayoutModel",
          "model_module_version": "1.2.0",
          "state": {
            "_model_module": "@jupyter-widgets/base",
            "_model_module_version": "1.2.0",
            "_model_name": "LayoutModel",
            "_view_count": null,
            "_view_module": "@jupyter-widgets/base",
            "_view_module_version": "1.2.0",
            "_view_name": "LayoutView",
            "align_content": null,
            "align_items": null,
            "align_self": null,
            "border": null,
            "bottom": null,
            "display": null,
            "flex": null,
            "flex_flow": null,
            "grid_area": null,
            "grid_auto_columns": null,
            "grid_auto_flow": null,
            "grid_auto_rows": null,
            "grid_column": null,
            "grid_gap": null,
            "grid_row": null,
            "grid_template_areas": null,
            "grid_template_columns": null,
            "grid_template_rows": null,
            "height": null,
            "justify_content": null,
            "justify_items": null,
            "left": null,
            "margin": null,
            "max_height": null,
            "max_width": null,
            "min_height": null,
            "min_width": null,
            "object_fit": null,
            "object_position": null,
            "order": null,
            "overflow": null,
            "overflow_x": null,
            "overflow_y": null,
            "padding": null,
            "right": null,
            "top": null,
            "visibility": null,
            "width": null
          }
        },
        "4f88de225a7441b2a29de584ec4d8c8b": {
          "model_module": "@jupyter-widgets/controls",
          "model_name": "DescriptionStyleModel",
          "model_module_version": "1.5.0",
          "state": {
            "_model_module": "@jupyter-widgets/controls",
            "_model_module_version": "1.5.0",
            "_model_name": "DescriptionStyleModel",
            "_view_count": null,
            "_view_module": "@jupyter-widgets/base",
            "_view_module_version": "1.2.0",
            "_view_name": "StyleView",
            "description_width": ""
          }
        },
        "e1e7950aa4da4562bd08866f62a692c7": {
          "model_module": "@jupyter-widgets/controls",
          "model_name": "HBoxModel",
          "model_module_version": "1.5.0",
          "state": {
            "_dom_classes": [],
            "_model_module": "@jupyter-widgets/controls",
            "_model_module_version": "1.5.0",
            "_model_name": "HBoxModel",
            "_view_count": null,
            "_view_module": "@jupyter-widgets/controls",
            "_view_module_version": "1.5.0",
            "_view_name": "HBoxView",
            "box_style": "",
            "children": [
              "IPY_MODEL_3c3f34bbe4884a8c981dc561bb9576e5",
              "IPY_MODEL_ed40ccf0e37440b0bb59e63b3898132a",
              "IPY_MODEL_545c4e8303a64963abde7d5317793f46"
            ],
            "layout": "IPY_MODEL_a2af6d4d473646bba226be4144adc7f2"
          }
        },
        "3c3f34bbe4884a8c981dc561bb9576e5": {
          "model_module": "@jupyter-widgets/controls",
          "model_name": "HTMLModel",
          "model_module_version": "1.5.0",
          "state": {
            "_dom_classes": [],
            "_model_module": "@jupyter-widgets/controls",
            "_model_module_version": "1.5.0",
            "_model_name": "HTMLModel",
            "_view_count": null,
            "_view_module": "@jupyter-widgets/controls",
            "_view_module_version": "1.5.0",
            "_view_name": "HTMLView",
            "description": "",
            "description_tooltip": null,
            "layout": "IPY_MODEL_a5738d8fa01c41e7bf5957adda6b4a52",
            "placeholder": "​",
            "style": "IPY_MODEL_0436ecac63cf427190a743ad13bfcaf8",
            "value": "Downloading (…)solve/main/vocab.txt: 100%"
          }
        },
        "ed40ccf0e37440b0bb59e63b3898132a": {
          "model_module": "@jupyter-widgets/controls",
          "model_name": "FloatProgressModel",
          "model_module_version": "1.5.0",
          "state": {
            "_dom_classes": [],
            "_model_module": "@jupyter-widgets/controls",
            "_model_module_version": "1.5.0",
            "_model_name": "FloatProgressModel",
            "_view_count": null,
            "_view_module": "@jupyter-widgets/controls",
            "_view_module_version": "1.5.0",
            "_view_name": "ProgressView",
            "bar_style": "success",
            "description": "",
            "description_tooltip": null,
            "layout": "IPY_MODEL_caebdb02cfdc43c698cbded854a8ba84",
            "max": 995526,
            "min": 0,
            "orientation": "horizontal",
            "style": "IPY_MODEL_1f67b52cdd9b4d7097a22408b275422a",
            "value": 995526
          }
        },
        "545c4e8303a64963abde7d5317793f46": {
          "model_module": "@jupyter-widgets/controls",
          "model_name": "HTMLModel",
          "model_module_version": "1.5.0",
          "state": {
            "_dom_classes": [],
            "_model_module": "@jupyter-widgets/controls",
            "_model_module_version": "1.5.0",
            "_model_name": "HTMLModel",
            "_view_count": null,
            "_view_module": "@jupyter-widgets/controls",
            "_view_module_version": "1.5.0",
            "_view_name": "HTMLView",
            "description": "",
            "description_tooltip": null,
            "layout": "IPY_MODEL_116f5b2765394862bfd84a90f148abab",
            "placeholder": "​",
            "style": "IPY_MODEL_93f17767261448a0877fd4523304e9e1",
            "value": " 996k/996k [00:00&lt;00:00, 11.0MB/s]"
          }
        },
        "a2af6d4d473646bba226be4144adc7f2": {
          "model_module": "@jupyter-widgets/base",
          "model_name": "LayoutModel",
          "model_module_version": "1.2.0",
          "state": {
            "_model_module": "@jupyter-widgets/base",
            "_model_module_version": "1.2.0",
            "_model_name": "LayoutModel",
            "_view_count": null,
            "_view_module": "@jupyter-widgets/base",
            "_view_module_version": "1.2.0",
            "_view_name": "LayoutView",
            "align_content": null,
            "align_items": null,
            "align_self": null,
            "border": null,
            "bottom": null,
            "display": null,
            "flex": null,
            "flex_flow": null,
            "grid_area": null,
            "grid_auto_columns": null,
            "grid_auto_flow": null,
            "grid_auto_rows": null,
            "grid_column": null,
            "grid_gap": null,
            "grid_row": null,
            "grid_template_areas": null,
            "grid_template_columns": null,
            "grid_template_rows": null,
            "height": null,
            "justify_content": null,
            "justify_items": null,
            "left": null,
            "margin": null,
            "max_height": null,
            "max_width": null,
            "min_height": null,
            "min_width": null,
            "object_fit": null,
            "object_position": null,
            "order": null,
            "overflow": null,
            "overflow_x": null,
            "overflow_y": null,
            "padding": null,
            "right": null,
            "top": null,
            "visibility": null,
            "width": null
          }
        },
        "a5738d8fa01c41e7bf5957adda6b4a52": {
          "model_module": "@jupyter-widgets/base",
          "model_name": "LayoutModel",
          "model_module_version": "1.2.0",
          "state": {
            "_model_module": "@jupyter-widgets/base",
            "_model_module_version": "1.2.0",
            "_model_name": "LayoutModel",
            "_view_count": null,
            "_view_module": "@jupyter-widgets/base",
            "_view_module_version": "1.2.0",
            "_view_name": "LayoutView",
            "align_content": null,
            "align_items": null,
            "align_self": null,
            "border": null,
            "bottom": null,
            "display": null,
            "flex": null,
            "flex_flow": null,
            "grid_area": null,
            "grid_auto_columns": null,
            "grid_auto_flow": null,
            "grid_auto_rows": null,
            "grid_column": null,
            "grid_gap": null,
            "grid_row": null,
            "grid_template_areas": null,
            "grid_template_columns": null,
            "grid_template_rows": null,
            "height": null,
            "justify_content": null,
            "justify_items": null,
            "left": null,
            "margin": null,
            "max_height": null,
            "max_width": null,
            "min_height": null,
            "min_width": null,
            "object_fit": null,
            "object_position": null,
            "order": null,
            "overflow": null,
            "overflow_x": null,
            "overflow_y": null,
            "padding": null,
            "right": null,
            "top": null,
            "visibility": null,
            "width": null
          }
        },
        "0436ecac63cf427190a743ad13bfcaf8": {
          "model_module": "@jupyter-widgets/controls",
          "model_name": "DescriptionStyleModel",
          "model_module_version": "1.5.0",
          "state": {
            "_model_module": "@jupyter-widgets/controls",
            "_model_module_version": "1.5.0",
            "_model_name": "DescriptionStyleModel",
            "_view_count": null,
            "_view_module": "@jupyter-widgets/base",
            "_view_module_version": "1.2.0",
            "_view_name": "StyleView",
            "description_width": ""
          }
        },
        "caebdb02cfdc43c698cbded854a8ba84": {
          "model_module": "@jupyter-widgets/base",
          "model_name": "LayoutModel",
          "model_module_version": "1.2.0",
          "state": {
            "_model_module": "@jupyter-widgets/base",
            "_model_module_version": "1.2.0",
            "_model_name": "LayoutModel",
            "_view_count": null,
            "_view_module": "@jupyter-widgets/base",
            "_view_module_version": "1.2.0",
            "_view_name": "LayoutView",
            "align_content": null,
            "align_items": null,
            "align_self": null,
            "border": null,
            "bottom": null,
            "display": null,
            "flex": null,
            "flex_flow": null,
            "grid_area": null,
            "grid_auto_columns": null,
            "grid_auto_flow": null,
            "grid_auto_rows": null,
            "grid_column": null,
            "grid_gap": null,
            "grid_row": null,
            "grid_template_areas": null,
            "grid_template_columns": null,
            "grid_template_rows": null,
            "height": null,
            "justify_content": null,
            "justify_items": null,
            "left": null,
            "margin": null,
            "max_height": null,
            "max_width": null,
            "min_height": null,
            "min_width": null,
            "object_fit": null,
            "object_position": null,
            "order": null,
            "overflow": null,
            "overflow_x": null,
            "overflow_y": null,
            "padding": null,
            "right": null,
            "top": null,
            "visibility": null,
            "width": null
          }
        },
        "1f67b52cdd9b4d7097a22408b275422a": {
          "model_module": "@jupyter-widgets/controls",
          "model_name": "ProgressStyleModel",
          "model_module_version": "1.5.0",
          "state": {
            "_model_module": "@jupyter-widgets/controls",
            "_model_module_version": "1.5.0",
            "_model_name": "ProgressStyleModel",
            "_view_count": null,
            "_view_module": "@jupyter-widgets/base",
            "_view_module_version": "1.2.0",
            "_view_name": "StyleView",
            "bar_color": null,
            "description_width": ""
          }
        },
        "116f5b2765394862bfd84a90f148abab": {
          "model_module": "@jupyter-widgets/base",
          "model_name": "LayoutModel",
          "model_module_version": "1.2.0",
          "state": {
            "_model_module": "@jupyter-widgets/base",
            "_model_module_version": "1.2.0",
            "_model_name": "LayoutModel",
            "_view_count": null,
            "_view_module": "@jupyter-widgets/base",
            "_view_module_version": "1.2.0",
            "_view_name": "LayoutView",
            "align_content": null,
            "align_items": null,
            "align_self": null,
            "border": null,
            "bottom": null,
            "display": null,
            "flex": null,
            "flex_flow": null,
            "grid_area": null,
            "grid_auto_columns": null,
            "grid_auto_flow": null,
            "grid_auto_rows": null,
            "grid_column": null,
            "grid_gap": null,
            "grid_row": null,
            "grid_template_areas": null,
            "grid_template_columns": null,
            "grid_template_rows": null,
            "height": null,
            "justify_content": null,
            "justify_items": null,
            "left": null,
            "margin": null,
            "max_height": null,
            "max_width": null,
            "min_height": null,
            "min_width": null,
            "object_fit": null,
            "object_position": null,
            "order": null,
            "overflow": null,
            "overflow_x": null,
            "overflow_y": null,
            "padding": null,
            "right": null,
            "top": null,
            "visibility": null,
            "width": null
          }
        },
        "93f17767261448a0877fd4523304e9e1": {
          "model_module": "@jupyter-widgets/controls",
          "model_name": "DescriptionStyleModel",
          "model_module_version": "1.5.0",
          "state": {
            "_model_module": "@jupyter-widgets/controls",
            "_model_module_version": "1.5.0",
            "_model_name": "DescriptionStyleModel",
            "_view_count": null,
            "_view_module": "@jupyter-widgets/base",
            "_view_module_version": "1.2.0",
            "_view_name": "StyleView",
            "description_width": ""
          }
        },
        "3ab8e52f699243339e291141756e791f": {
          "model_module": "@jupyter-widgets/controls",
          "model_name": "HBoxModel",
          "model_module_version": "1.5.0",
          "state": {
            "_dom_classes": [],
            "_model_module": "@jupyter-widgets/controls",
            "_model_module_version": "1.5.0",
            "_model_name": "HBoxModel",
            "_view_count": null,
            "_view_module": "@jupyter-widgets/controls",
            "_view_module_version": "1.5.0",
            "_view_name": "HBoxView",
            "box_style": "",
            "children": [
              "IPY_MODEL_84828325766f46288e86c09058000f07",
              "IPY_MODEL_bd3ec19183fe45d9824e3d4345da85bf",
              "IPY_MODEL_325c0de544d540f09a68946a0a7f5792"
            ],
            "layout": "IPY_MODEL_492a4240203947a3970750f7ddd1b24e"
          }
        },
        "84828325766f46288e86c09058000f07": {
          "model_module": "@jupyter-widgets/controls",
          "model_name": "HTMLModel",
          "model_module_version": "1.5.0",
          "state": {
            "_dom_classes": [],
            "_model_module": "@jupyter-widgets/controls",
            "_model_module_version": "1.5.0",
            "_model_name": "HTMLModel",
            "_view_count": null,
            "_view_module": "@jupyter-widgets/controls",
            "_view_module_version": "1.5.0",
            "_view_name": "HTMLView",
            "description": "",
            "description_tooltip": null,
            "layout": "IPY_MODEL_28881f90953f4081977a18d9cff38766",
            "placeholder": "​",
            "style": "IPY_MODEL_e8b3205b3ce54083b7a4f591e6229530",
            "value": "Downloading (…)/main/tokenizer.json: 100%"
          }
        },
        "bd3ec19183fe45d9824e3d4345da85bf": {
          "model_module": "@jupyter-widgets/controls",
          "model_name": "FloatProgressModel",
          "model_module_version": "1.5.0",
          "state": {
            "_dom_classes": [],
            "_model_module": "@jupyter-widgets/controls",
            "_model_module_version": "1.5.0",
            "_model_name": "FloatProgressModel",
            "_view_count": null,
            "_view_module": "@jupyter-widgets/controls",
            "_view_module_version": "1.5.0",
            "_view_name": "ProgressView",
            "bar_style": "success",
            "description": "",
            "description_tooltip": null,
            "layout": "IPY_MODEL_3583a2877e7f487e82a4055e665680cc",
            "max": 1961828,
            "min": 0,
            "orientation": "horizontal",
            "style": "IPY_MODEL_c0a019b1efc346cdafed7d82e5f50511",
            "value": 1961828
          }
        },
        "325c0de544d540f09a68946a0a7f5792": {
          "model_module": "@jupyter-widgets/controls",
          "model_name": "HTMLModel",
          "model_module_version": "1.5.0",
          "state": {
            "_dom_classes": [],
            "_model_module": "@jupyter-widgets/controls",
            "_model_module_version": "1.5.0",
            "_model_name": "HTMLModel",
            "_view_count": null,
            "_view_module": "@jupyter-widgets/controls",
            "_view_module_version": "1.5.0",
            "_view_name": "HTMLView",
            "description": "",
            "description_tooltip": null,
            "layout": "IPY_MODEL_a4a47a810691412c80ccd33355498d6f",
            "placeholder": "​",
            "style": "IPY_MODEL_236bc06e361f4da8b12880191b57adc4",
            "value": " 1.96M/1.96M [00:00&lt;00:00, 20.6MB/s]"
          }
        },
        "492a4240203947a3970750f7ddd1b24e": {
          "model_module": "@jupyter-widgets/base",
          "model_name": "LayoutModel",
          "model_module_version": "1.2.0",
          "state": {
            "_model_module": "@jupyter-widgets/base",
            "_model_module_version": "1.2.0",
            "_model_name": "LayoutModel",
            "_view_count": null,
            "_view_module": "@jupyter-widgets/base",
            "_view_module_version": "1.2.0",
            "_view_name": "LayoutView",
            "align_content": null,
            "align_items": null,
            "align_self": null,
            "border": null,
            "bottom": null,
            "display": null,
            "flex": null,
            "flex_flow": null,
            "grid_area": null,
            "grid_auto_columns": null,
            "grid_auto_flow": null,
            "grid_auto_rows": null,
            "grid_column": null,
            "grid_gap": null,
            "grid_row": null,
            "grid_template_areas": null,
            "grid_template_columns": null,
            "grid_template_rows": null,
            "height": null,
            "justify_content": null,
            "justify_items": null,
            "left": null,
            "margin": null,
            "max_height": null,
            "max_width": null,
            "min_height": null,
            "min_width": null,
            "object_fit": null,
            "object_position": null,
            "order": null,
            "overflow": null,
            "overflow_x": null,
            "overflow_y": null,
            "padding": null,
            "right": null,
            "top": null,
            "visibility": null,
            "width": null
          }
        },
        "28881f90953f4081977a18d9cff38766": {
          "model_module": "@jupyter-widgets/base",
          "model_name": "LayoutModel",
          "model_module_version": "1.2.0",
          "state": {
            "_model_module": "@jupyter-widgets/base",
            "_model_module_version": "1.2.0",
            "_model_name": "LayoutModel",
            "_view_count": null,
            "_view_module": "@jupyter-widgets/base",
            "_view_module_version": "1.2.0",
            "_view_name": "LayoutView",
            "align_content": null,
            "align_items": null,
            "align_self": null,
            "border": null,
            "bottom": null,
            "display": null,
            "flex": null,
            "flex_flow": null,
            "grid_area": null,
            "grid_auto_columns": null,
            "grid_auto_flow": null,
            "grid_auto_rows": null,
            "grid_column": null,
            "grid_gap": null,
            "grid_row": null,
            "grid_template_areas": null,
            "grid_template_columns": null,
            "grid_template_rows": null,
            "height": null,
            "justify_content": null,
            "justify_items": null,
            "left": null,
            "margin": null,
            "max_height": null,
            "max_width": null,
            "min_height": null,
            "min_width": null,
            "object_fit": null,
            "object_position": null,
            "order": null,
            "overflow": null,
            "overflow_x": null,
            "overflow_y": null,
            "padding": null,
            "right": null,
            "top": null,
            "visibility": null,
            "width": null
          }
        },
        "e8b3205b3ce54083b7a4f591e6229530": {
          "model_module": "@jupyter-widgets/controls",
          "model_name": "DescriptionStyleModel",
          "model_module_version": "1.5.0",
          "state": {
            "_model_module": "@jupyter-widgets/controls",
            "_model_module_version": "1.5.0",
            "_model_name": "DescriptionStyleModel",
            "_view_count": null,
            "_view_module": "@jupyter-widgets/base",
            "_view_module_version": "1.2.0",
            "_view_name": "StyleView",
            "description_width": ""
          }
        },
        "3583a2877e7f487e82a4055e665680cc": {
          "model_module": "@jupyter-widgets/base",
          "model_name": "LayoutModel",
          "model_module_version": "1.2.0",
          "state": {
            "_model_module": "@jupyter-widgets/base",
            "_model_module_version": "1.2.0",
            "_model_name": "LayoutModel",
            "_view_count": null,
            "_view_module": "@jupyter-widgets/base",
            "_view_module_version": "1.2.0",
            "_view_name": "LayoutView",
            "align_content": null,
            "align_items": null,
            "align_self": null,
            "border": null,
            "bottom": null,
            "display": null,
            "flex": null,
            "flex_flow": null,
            "grid_area": null,
            "grid_auto_columns": null,
            "grid_auto_flow": null,
            "grid_auto_rows": null,
            "grid_column": null,
            "grid_gap": null,
            "grid_row": null,
            "grid_template_areas": null,
            "grid_template_columns": null,
            "grid_template_rows": null,
            "height": null,
            "justify_content": null,
            "justify_items": null,
            "left": null,
            "margin": null,
            "max_height": null,
            "max_width": null,
            "min_height": null,
            "min_width": null,
            "object_fit": null,
            "object_position": null,
            "order": null,
            "overflow": null,
            "overflow_x": null,
            "overflow_y": null,
            "padding": null,
            "right": null,
            "top": null,
            "visibility": null,
            "width": null
          }
        },
        "c0a019b1efc346cdafed7d82e5f50511": {
          "model_module": "@jupyter-widgets/controls",
          "model_name": "ProgressStyleModel",
          "model_module_version": "1.5.0",
          "state": {
            "_model_module": "@jupyter-widgets/controls",
            "_model_module_version": "1.5.0",
            "_model_name": "ProgressStyleModel",
            "_view_count": null,
            "_view_module": "@jupyter-widgets/base",
            "_view_module_version": "1.2.0",
            "_view_name": "StyleView",
            "bar_color": null,
            "description_width": ""
          }
        },
        "a4a47a810691412c80ccd33355498d6f": {
          "model_module": "@jupyter-widgets/base",
          "model_name": "LayoutModel",
          "model_module_version": "1.2.0",
          "state": {
            "_model_module": "@jupyter-widgets/base",
            "_model_module_version": "1.2.0",
            "_model_name": "LayoutModel",
            "_view_count": null,
            "_view_module": "@jupyter-widgets/base",
            "_view_module_version": "1.2.0",
            "_view_name": "LayoutView",
            "align_content": null,
            "align_items": null,
            "align_self": null,
            "border": null,
            "bottom": null,
            "display": null,
            "flex": null,
            "flex_flow": null,
            "grid_area": null,
            "grid_auto_columns": null,
            "grid_auto_flow": null,
            "grid_auto_rows": null,
            "grid_column": null,
            "grid_gap": null,
            "grid_row": null,
            "grid_template_areas": null,
            "grid_template_columns": null,
            "grid_template_rows": null,
            "height": null,
            "justify_content": null,
            "justify_items": null,
            "left": null,
            "margin": null,
            "max_height": null,
            "max_width": null,
            "min_height": null,
            "min_width": null,
            "object_fit": null,
            "object_position": null,
            "order": null,
            "overflow": null,
            "overflow_x": null,
            "overflow_y": null,
            "padding": null,
            "right": null,
            "top": null,
            "visibility": null,
            "width": null
          }
        },
        "236bc06e361f4da8b12880191b57adc4": {
          "model_module": "@jupyter-widgets/controls",
          "model_name": "DescriptionStyleModel",
          "model_module_version": "1.5.0",
          "state": {
            "_model_module": "@jupyter-widgets/controls",
            "_model_module_version": "1.5.0",
            "_model_name": "DescriptionStyleModel",
            "_view_count": null,
            "_view_module": "@jupyter-widgets/base",
            "_view_module_version": "1.2.0",
            "_view_name": "StyleView",
            "description_width": ""
          }
        }
      }
    }
  },
  "nbformat": 4,
  "nbformat_minor": 0
}